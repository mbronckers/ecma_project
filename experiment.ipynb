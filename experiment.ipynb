{
 "cells": [
  {
   "cell_type": "code",
   "execution_count": 130,
   "metadata": {},
   "outputs": [],
   "source": [
    "import numpy as np\n",
    "import pandas as pd\n",
    "import matplotlib.pyplot as plt\n",
    "from sklearn.preprocessing import PolynomialFeatures\n",
    "from sklearn.model_selection import train_test_split\n",
    "from sklearn.tree import DecisionTreeRegressor\n",
    "from econml.ortho_forest import ContinuousTreatmentOrthoForest as CausalForest\n",
    "from tqdm.auto import tqdm\n",
    "from copy import deepcopy\n",
    "import warnings\n",
    "warnings.filterwarnings(\"ignore\")"
   ]
  },
  {
   "cell_type": "code",
   "execution_count": 3,
   "metadata": {},
   "outputs": [
    {
     "data": {
      "text/html": [
       "<div>\n",
       "<style scoped>\n",
       "    .dataframe tbody tr th:only-of-type {\n",
       "        vertical-align: middle;\n",
       "    }\n",
       "\n",
       "    .dataframe tbody tr th {\n",
       "        vertical-align: top;\n",
       "    }\n",
       "\n",
       "    .dataframe thead th {\n",
       "        text-align: right;\n",
       "    }\n",
       "</style>\n",
       "<table border=\"1\" class=\"dataframe\">\n",
       "  <thead>\n",
       "    <tr style=\"text-align: right;\">\n",
       "      <th></th>\n",
       "      <th>year</th>\n",
       "      <th>id</th>\n",
       "      <th>wrkstat</th>\n",
       "      <th>hrs1</th>\n",
       "      <th>hrs2</th>\n",
       "      <th>evwork</th>\n",
       "      <th>occ</th>\n",
       "      <th>prestige</th>\n",
       "      <th>wrkslf</th>\n",
       "      <th>wrkgovt</th>\n",
       "      <th>...</th>\n",
       "      <th>preteen_miss</th>\n",
       "      <th>teens_miss</th>\n",
       "      <th>adults_miss</th>\n",
       "      <th>unrelat_miss</th>\n",
       "      <th>earnrs_miss</th>\n",
       "      <th>income_miss</th>\n",
       "      <th>rincome_miss</th>\n",
       "      <th>income86_miss</th>\n",
       "      <th>partyid_miss</th>\n",
       "      <th>polviews_miss</th>\n",
       "    </tr>\n",
       "  </thead>\n",
       "  <tbody>\n",
       "    <tr>\n",
       "      <th>0</th>\n",
       "      <td>1986</td>\n",
       "      <td>1</td>\n",
       "      <td>working fulltime</td>\n",
       "      <td>40.000000</td>\n",
       "      <td>38.613701</td>\n",
       "      <td>1.1395408</td>\n",
       "      <td>270.00000</td>\n",
       "      <td>44.000000</td>\n",
       "      <td>someone else</td>\n",
       "      <td>private</td>\n",
       "      <td>...</td>\n",
       "      <td>0</td>\n",
       "      <td>0</td>\n",
       "      <td>0</td>\n",
       "      <td>0</td>\n",
       "      <td>0</td>\n",
       "      <td>0</td>\n",
       "      <td>0</td>\n",
       "      <td>0</td>\n",
       "      <td>0</td>\n",
       "      <td>0</td>\n",
       "    </tr>\n",
       "    <tr>\n",
       "      <th>1</th>\n",
       "      <td>1986</td>\n",
       "      <td>2</td>\n",
       "      <td>keeping house</td>\n",
       "      <td>41.733318</td>\n",
       "      <td>38.613701</td>\n",
       "      <td>1</td>\n",
       "      <td>195.00000</td>\n",
       "      <td>51.000000</td>\n",
       "      <td>someone else</td>\n",
       "      <td>private</td>\n",
       "      <td>...</td>\n",
       "      <td>0</td>\n",
       "      <td>0</td>\n",
       "      <td>0</td>\n",
       "      <td>1</td>\n",
       "      <td>0</td>\n",
       "      <td>0</td>\n",
       "      <td>1</td>\n",
       "      <td>0</td>\n",
       "      <td>0</td>\n",
       "      <td>0</td>\n",
       "    </tr>\n",
       "    <tr>\n",
       "      <th>2</th>\n",
       "      <td>1986</td>\n",
       "      <td>3</td>\n",
       "      <td>working fulltime</td>\n",
       "      <td>40.000000</td>\n",
       "      <td>38.613701</td>\n",
       "      <td>1.1395408</td>\n",
       "      <td>184.00000</td>\n",
       "      <td>51.000000</td>\n",
       "      <td>someone else</td>\n",
       "      <td>private</td>\n",
       "      <td>...</td>\n",
       "      <td>0</td>\n",
       "      <td>0</td>\n",
       "      <td>0</td>\n",
       "      <td>1</td>\n",
       "      <td>0</td>\n",
       "      <td>0</td>\n",
       "      <td>0</td>\n",
       "      <td>0</td>\n",
       "      <td>0</td>\n",
       "      <td>0</td>\n",
       "    </tr>\n",
       "    <tr>\n",
       "      <th>3</th>\n",
       "      <td>1986</td>\n",
       "      <td>4</td>\n",
       "      <td>retired</td>\n",
       "      <td>41.733318</td>\n",
       "      <td>38.613701</td>\n",
       "      <td>1</td>\n",
       "      <td>311.00000</td>\n",
       "      <td>36.000000</td>\n",
       "      <td>someone else</td>\n",
       "      <td>1</td>\n",
       "      <td>...</td>\n",
       "      <td>0</td>\n",
       "      <td>0</td>\n",
       "      <td>0</td>\n",
       "      <td>0</td>\n",
       "      <td>0</td>\n",
       "      <td>0</td>\n",
       "      <td>1</td>\n",
       "      <td>0</td>\n",
       "      <td>0</td>\n",
       "      <td>0</td>\n",
       "    </tr>\n",
       "    <tr>\n",
       "      <th>4</th>\n",
       "      <td>1986</td>\n",
       "      <td>5</td>\n",
       "      <td>working parttime</td>\n",
       "      <td>41.733318</td>\n",
       "      <td>38.613701</td>\n",
       "      <td>1.1395408</td>\n",
       "      <td>449.41599</td>\n",
       "      <td>40.335918</td>\n",
       "      <td>someone else</td>\n",
       "      <td>1.8203658</td>\n",
       "      <td>...</td>\n",
       "      <td>0</td>\n",
       "      <td>0</td>\n",
       "      <td>0</td>\n",
       "      <td>0</td>\n",
       "      <td>0</td>\n",
       "      <td>0</td>\n",
       "      <td>0</td>\n",
       "      <td>0</td>\n",
       "      <td>0</td>\n",
       "      <td>0</td>\n",
       "    </tr>\n",
       "    <tr>\n",
       "      <th>...</th>\n",
       "      <td>...</td>\n",
       "      <td>...</td>\n",
       "      <td>...</td>\n",
       "      <td>...</td>\n",
       "      <td>...</td>\n",
       "      <td>...</td>\n",
       "      <td>...</td>\n",
       "      <td>...</td>\n",
       "      <td>...</td>\n",
       "      <td>...</td>\n",
       "      <td>...</td>\n",
       "      <td>...</td>\n",
       "      <td>...</td>\n",
       "      <td>...</td>\n",
       "      <td>...</td>\n",
       "      <td>...</td>\n",
       "      <td>...</td>\n",
       "      <td>...</td>\n",
       "      <td>...</td>\n",
       "      <td>...</td>\n",
       "      <td>...</td>\n",
       "    </tr>\n",
       "    <tr>\n",
       "      <th>36496</th>\n",
       "      <td>2010</td>\n",
       "      <td>2040</td>\n",
       "      <td>retired</td>\n",
       "      <td>41.733318</td>\n",
       "      <td>38.613701</td>\n",
       "      <td>1</td>\n",
       "      <td>449.41599</td>\n",
       "      <td>40.335918</td>\n",
       "      <td>someone else</td>\n",
       "      <td>private</td>\n",
       "      <td>...</td>\n",
       "      <td>0</td>\n",
       "      <td>0</td>\n",
       "      <td>0</td>\n",
       "      <td>0</td>\n",
       "      <td>0</td>\n",
       "      <td>0</td>\n",
       "      <td>1</td>\n",
       "      <td>1</td>\n",
       "      <td>0</td>\n",
       "      <td>0</td>\n",
       "    </tr>\n",
       "    <tr>\n",
       "      <th>36497</th>\n",
       "      <td>2010</td>\n",
       "      <td>2041</td>\n",
       "      <td>retired</td>\n",
       "      <td>41.733318</td>\n",
       "      <td>38.613701</td>\n",
       "      <td>1</td>\n",
       "      <td>449.41599</td>\n",
       "      <td>40.335918</td>\n",
       "      <td>someone else</td>\n",
       "      <td>private</td>\n",
       "      <td>...</td>\n",
       "      <td>0</td>\n",
       "      <td>0</td>\n",
       "      <td>0</td>\n",
       "      <td>0</td>\n",
       "      <td>0</td>\n",
       "      <td>0</td>\n",
       "      <td>1</td>\n",
       "      <td>1</td>\n",
       "      <td>0</td>\n",
       "      <td>0</td>\n",
       "    </tr>\n",
       "    <tr>\n",
       "      <th>36498</th>\n",
       "      <td>2010</td>\n",
       "      <td>2042</td>\n",
       "      <td>working fulltime</td>\n",
       "      <td>40.000000</td>\n",
       "      <td>38.613701</td>\n",
       "      <td>1.1395408</td>\n",
       "      <td>449.41599</td>\n",
       "      <td>40.335918</td>\n",
       "      <td>someone else</td>\n",
       "      <td>private</td>\n",
       "      <td>...</td>\n",
       "      <td>0</td>\n",
       "      <td>0</td>\n",
       "      <td>0</td>\n",
       "      <td>1</td>\n",
       "      <td>0</td>\n",
       "      <td>0</td>\n",
       "      <td>0</td>\n",
       "      <td>1</td>\n",
       "      <td>0</td>\n",
       "      <td>0</td>\n",
       "    </tr>\n",
       "    <tr>\n",
       "      <th>36499</th>\n",
       "      <td>2010</td>\n",
       "      <td>2043</td>\n",
       "      <td>working fulltime</td>\n",
       "      <td>49.000000</td>\n",
       "      <td>38.613701</td>\n",
       "      <td>1.1395408</td>\n",
       "      <td>449.41599</td>\n",
       "      <td>40.335918</td>\n",
       "      <td>someone else</td>\n",
       "      <td>private</td>\n",
       "      <td>...</td>\n",
       "      <td>0</td>\n",
       "      <td>0</td>\n",
       "      <td>0</td>\n",
       "      <td>1</td>\n",
       "      <td>0</td>\n",
       "      <td>0</td>\n",
       "      <td>1</td>\n",
       "      <td>1</td>\n",
       "      <td>0</td>\n",
       "      <td>0</td>\n",
       "    </tr>\n",
       "    <tr>\n",
       "      <th>36500</th>\n",
       "      <td>2010</td>\n",
       "      <td>2044</td>\n",
       "      <td>working fulltime</td>\n",
       "      <td>40.000000</td>\n",
       "      <td>38.613701</td>\n",
       "      <td>1.1395408</td>\n",
       "      <td>449.41599</td>\n",
       "      <td>40.335918</td>\n",
       "      <td>someone else</td>\n",
       "      <td>private</td>\n",
       "      <td>...</td>\n",
       "      <td>0</td>\n",
       "      <td>0</td>\n",
       "      <td>0</td>\n",
       "      <td>1</td>\n",
       "      <td>0</td>\n",
       "      <td>0</td>\n",
       "      <td>0</td>\n",
       "      <td>1</td>\n",
       "      <td>0</td>\n",
       "      <td>0</td>\n",
       "    </tr>\n",
       "  </tbody>\n",
       "</table>\n",
       "<p>36501 rows × 121 columns</p>\n",
       "</div>"
      ],
      "text/plain": [
       "       year    id           wrkstat       hrs1       hrs2     evwork  \\\n",
       "0      1986     1  working fulltime  40.000000  38.613701  1.1395408   \n",
       "1      1986     2     keeping house  41.733318  38.613701          1   \n",
       "2      1986     3  working fulltime  40.000000  38.613701  1.1395408   \n",
       "3      1986     4           retired  41.733318  38.613701          1   \n",
       "4      1986     5  working parttime  41.733318  38.613701  1.1395408   \n",
       "...     ...   ...               ...        ...        ...        ...   \n",
       "36496  2010  2040           retired  41.733318  38.613701          1   \n",
       "36497  2010  2041           retired  41.733318  38.613701          1   \n",
       "36498  2010  2042  working fulltime  40.000000  38.613701  1.1395408   \n",
       "36499  2010  2043  working fulltime  49.000000  38.613701  1.1395408   \n",
       "36500  2010  2044  working fulltime  40.000000  38.613701  1.1395408   \n",
       "\n",
       "             occ   prestige        wrkslf    wrkgovt  ... preteen_miss  \\\n",
       "0      270.00000  44.000000  someone else    private  ...            0   \n",
       "1      195.00000  51.000000  someone else    private  ...            0   \n",
       "2      184.00000  51.000000  someone else    private  ...            0   \n",
       "3      311.00000  36.000000  someone else          1  ...            0   \n",
       "4      449.41599  40.335918  someone else  1.8203658  ...            0   \n",
       "...          ...        ...           ...        ...  ...          ...   \n",
       "36496  449.41599  40.335918  someone else    private  ...            0   \n",
       "36497  449.41599  40.335918  someone else    private  ...            0   \n",
       "36498  449.41599  40.335918  someone else    private  ...            0   \n",
       "36499  449.41599  40.335918  someone else    private  ...            0   \n",
       "36500  449.41599  40.335918  someone else    private  ...            0   \n",
       "\n",
       "      teens_miss  adults_miss unrelat_miss earnrs_miss  income_miss  \\\n",
       "0              0            0            0           0            0   \n",
       "1              0            0            1           0            0   \n",
       "2              0            0            1           0            0   \n",
       "3              0            0            0           0            0   \n",
       "4              0            0            0           0            0   \n",
       "...          ...          ...          ...         ...          ...   \n",
       "36496          0            0            0           0            0   \n",
       "36497          0            0            0           0            0   \n",
       "36498          0            0            1           0            0   \n",
       "36499          0            0            1           0            0   \n",
       "36500          0            0            1           0            0   \n",
       "\n",
       "      rincome_miss income86_miss partyid_miss  polviews_miss  \n",
       "0                0             0            0              0  \n",
       "1                1             0            0              0  \n",
       "2                0             0            0              0  \n",
       "3                1             0            0              0  \n",
       "4                0             0            0              0  \n",
       "...            ...           ...          ...            ...  \n",
       "36496            1             1            0              0  \n",
       "36497            1             1            0              0  \n",
       "36498            0             1            0              0  \n",
       "36499            1             1            0              0  \n",
       "36500            0             1            0              0  \n",
       "\n",
       "[36501 rows x 121 columns]"
      ]
     },
     "execution_count": 3,
     "metadata": {},
     "output_type": "execute_result"
    }
   ],
   "source": [
    "welfare = pd.read_csv(\"welfarelabel.csv\", low_memory=False)\n",
    "welfare"
   ]
  },
  {
   "cell_type": "markdown",
   "metadata": {},
   "source": [
    "Just a reference point to see how many actual covariates are in the Welfare dataset"
   ]
  },
  {
   "cell_type": "code",
   "execution_count": 4,
   "metadata": {},
   "outputs": [
    {
     "name": "stdout",
     "output_type": "stream",
     "text": [
      "Number of covariates for the welfare data set is 61\n"
     ]
    }
   ],
   "source": [
    "def dropDummy(cols):\n",
    "    filtered = []\n",
    "    for col in cols:\n",
    "        if \"_\" not in col:\n",
    "            filtered.append(col)\n",
    "    return filtered\n",
    "\n",
    "realCols = dropDummy(list(welfare.columns))\n",
    "print(\"Number of covariates for the welfare data set is\", len(realCols) - 1) # Approximate number of covariates, we drop one column because of the label column"
   ]
  },
  {
   "cell_type": "markdown",
   "metadata": {},
   "source": [
    "Generating data (per page 17 of BART and BCF paper)"
   ]
  },
  {
   "cell_type": "code",
   "execution_count": 183,
   "metadata": {},
   "outputs": [],
   "source": [
    "\"\"\"\n",
    "Execute heterogeneous treatment on data\n",
    "\n",
    "Returns: X, X@betas\n",
    "\"\"\"\n",
    "def heterogeneousTreatment(X, treatments, betas, effect):\n",
    "    xb = X@betas\n",
    "#     for i in range(X.shape[0]):\n",
    "#         if int(treatments[i]) > 0:\n",
    "#             xb[i] += 1 + effect * X[i][1] * X[i][4]\n",
    "    treated = treatments>0\n",
    "    \n",
    "    # heterogeneous treatment is 1 + effect*x_2*x_5\n",
    "    xb[treated] += 1 + 3*X[treated.ravel(), 1]*X[treated.ravel(), 4]\n",
    "\n",
    "    X = np.append(X, treatments, axis=1)\n",
    "    return X, xb\n"
   ]
  },
  {
   "cell_type": "code",
   "execution_count": 186,
   "metadata": {},
   "outputs": [],
   "source": [
    "\"\"\"\n",
    "Data Generating Process\n",
    "    Configure treatment effect heterogeneity, independent of regression form and sample size\n",
    "\n",
    "Params:\n",
    "    effect_type - heterogeneous vs homogeneous\n",
    "    effect_homogeneous - if effect_type is homogeneous, controls what the treatment coefficient is\n",
    "    effect_heterogeneous - if effect_type is heterogeneous, controls n where the treatment coefficient is 1 + n * x_2 * x_5\n",
    "    treatment_probability - probability that an observation is assigned the treatment, default is 0.5\n",
    "    order - order of interactions between covariates desired, as order is increased, number of covariates and nonlinearity (if specified) is also increased\n",
    "    linear - flag to control whether the dgp has exponents larger than 1 \n",
    "    cc - number of continuous covariates to be included (pre-introduction of n order interactions)\n",
    "    N - sample size\n",
    "    rho - variance between continuous covariates\n",
    "Returns: y, X, betas, features\n",
    "\"\"\"\n",
    "def dgp(effect_type=\"heterogeneous\", effect_homogeneous=3, effect_heterogeneous=2,\n",
    "        treatment_probability=0.5, order=3, linear=False, cc=4, N=1000, rho=0.2):\n",
    "    \n",
    "    error = np.random.normal(size=(N,1))\n",
    "    \n",
    "    added_covariates = 2\n",
    "    if linear: \n",
    "        # linear => include 2 more continuous covariates\n",
    "        # to have approximately same number of covariates between the linear and nonlinear cases\n",
    "        cov = (np.eye(cc+added_covariates) * (1-rho)) + (np.ones((cc+added_covariates, cc+added_covariates)) * rho)\n",
    "\n",
    "        # generate N continuous covariates of X\n",
    "        X = np.random.multivariate_normal(np.zeros(cc+added_covariates), \n",
    "            cov, size=N, check_valid='warn', tol=1e-8) \n",
    "    else:\n",
    "        cov = (np.eye(cc) * (1-rho)) + (np.ones((cc, cc)) * rho)\n",
    "\n",
    "        # generate N continuous covariates of X\n",
    "        X = np.random.multivariate_normal(np.zeros(cc), \n",
    "            cov, size=N, check_valid='warn', tol=1e-8)\n",
    "\n",
    "    # add binary [0, 1] covariate\n",
    "    X = np.append(X, np.random.randint(2, size=N).reshape((-1, 1)), axis=1) # add binary [0, 1] covariate\n",
    "\n",
    "    cat_elements = [1, 2, 3]\n",
    "    cat_probabilities = [0.2, 0.5, 0.3] # arbitrary\n",
    "\n",
    "    # add unordered categorical [1, 2, 3] covariate\n",
    "    X = np.append(X, np.random.choice(cat_elements, size=N, p=cat_probabilities).reshape((-1, 1)), axis=1)\n",
    "\n",
    "    # add N order interactions if linear is false for X covariates\n",
    "    # increases number of covariates (to have a high dimensional dataset)\n",
    "    poly = PolynomialFeatures(order, interaction_only=linear) \n",
    "    X = poly.fit_transform(X)\n",
    "    X = X[:,1:] # drop the constant term\n",
    "    features = (poly.get_feature_names()[1:])\n",
    "    features.append(\"w\")\n",
    "\n",
    "    treat_elements = [0, 1]\n",
    "    treat_probabilities = [1 - treatment_probability, treatment_probability]\n",
    "\n",
    "    # randomly assigned treatments with propensity treatment_probability\n",
    "    treatments = np.random.choice(treat_elements, size=N, p=treat_probabilities).reshape((-1, 1))\n",
    "    \n",
    "    # heterogeneous vs. homogeneous treatments\n",
    "    if effect_type == \"homogeneous\":\n",
    "        betas = np.append(np.random.normal(size=X.shape[1]), [effect_homogeneous]).reshape(-1,1)\n",
    "        X = np.append(X, treatments, axis=1)\n",
    "        xb = X@betas\n",
    "    else:\n",
    "        betas = np.random.normal(size=X.shape[1]).reshape(-1,1)\n",
    "        X, xb = heterogeneousTreatment(X, treatments, betas, effect_heterogeneous)\n",
    "\n",
    "    y = xb + error \n",
    "    return y, X, betas, features, treatments"
   ]
  },
  {
   "cell_type": "markdown",
   "metadata": {},
   "source": [
    "\n",
    "> \"We find that including an estimate of the\n",
    "propensity score as a covariate reduces the bias of regularized treatment effect estimates\n",
    "in finite samples. We recommend including an estimated propensity score as a covariate\n",
    "as routine practice regardless of the particular models or algorithms used to estimate\n",
    "treatment effects since regularization is necessary to estimate heterogeneous treatment\n",
    "effects non- or semiparamaterically or in high dimensions. To illustrate the potential for\n",
    "biased estimation and motivate our fix, we introduce two key concepts: Regularization\n",
    "induced confounding and targeted selection.\"\n",
    "\n",
    "page 7, (Hahn, Murray, and Carlvaho)\n",
    "\n",
    "=> Our homogeneous treatment selection is purely random and therefore we have no targeted selection into treatment."
   ]
  },
  {
   "cell_type": "markdown",
   "metadata": {},
   "source": [
    "$Y = \\alpha Z + X \\beta + \\epsilon $ where $Z$ is the indicator of treatment, $\\alpha$ ATE"
   ]
  },
  {
   "cell_type": "markdown",
   "metadata": {},
   "source": [
    "We assume:\n",
    "- observational/experimental (which one?) data\n",
    "- conditional unfoundedness/ignorability\n",
    "- covariate-dependent treatment effects => individuals can have different responses to treatment according to their covariates\n",
    "- binary treatments (not continuous)\n",
    "\n",
    "we write $ E(Y_i | x_i, z_i) = f(x_i, z_i) $\n",
    "\n",
    "we want $\\tau(x_i) := f(x_i, 1) - f(x_i, 0) = ATT - ATC$"
   ]
  },
  {
   "cell_type": "markdown",
   "metadata": {},
   "source": [
    "In all cases the estimands of interest are either conditional average treatment effects for individual i accounting for all the variables, estimated by the posterior mean\n",
    "treatment effect $\\tau(x_i)$, or sample subgroup average treatment effects estimated by\n",
    "$\\Sigma_{i\\in S} \\tau(x_i)$, where S is the subgroup of interest. Credible intervals are computed from\n",
    "MCMC output."
   ]
  },
  {
   "cell_type": "markdown",
   "metadata": {},
   "source": [
    "> [hetAI16] develop the idea of “causal trees.” The purpose and method are qualitatively similar to the grouped average treatment effects. The main difference is that the groups in [hetAI16] are determined by a low-depth regression tree instead of by quantiles of a noisy estimate of the conditional average treatment effect. As above, sample-splitting is used to facilitate inference.\n",
    "> Causal trees share many downsides of regression trees. In particular, the branches of the tree and subsequent results can be sensitive to small changes in the data. [hetWA18] develop a causal forest estimator to address this concern. This causal forest estimates E[yi(1)−yi(0)|Xi=x] directly. Unlike most machine learning estimators, [hetWA18] prove that causal forests are consistent and pointwise asymptotically normal, albeit with a slower than n‾√ rate of convergence. In practice, this means that either the sample size must be very large (and/or x relatively low dimension) to get precise estimates.\n",
    "\n",
    "url: https://datascience.quantecon.org/applications/heterogeneity.html#het-wager2018"
   ]
  },
  {
   "cell_type": "markdown",
   "metadata": {},
   "source": [
    "### Running Causal Forest\n",
    "\n",
    "Below I am trying to fit the CausalForest Model to our DGP. \n",
    "\n",
    "Turns out that there are multiple options for CausalForest models in econml and that they behave differently. I am still figuring out why the DML one does not estimate correctly, even under homogeneous treatment.\n",
    "\n",
    "The grf (Generalized Random Forest) submodule CausalForest does estimate the treatment effect correctly, but the functions that do so (predict(X_test)) are contrary to expectations. It also estimates 1.5 for heterogeneous effect (GT is 2), so it's biased.\n",
    "\n",
    "In terms of what the matrices should include, here is an example from online\n",
    "   - W = ccdefault_causal_df[['_spend','_tpm','_ppm','_RETAIL','_URBAN','_RURAL','_PREMIUM']]\n",
    "   - X = ccdefault_causal_df[['_CC_LIMIT']]\n",
    "   - T = ccdefault_causal_df[['_TREATMENT']]\n",
    "   - Y = ccdefault_causal_df[['_LTV']]\n",
    "    \n",
    "- W matrix contains all the covariates that we suspect might affect treatment effect heterogeneity (this means model specification! => first bad sign).\n",
    "- X contains all the covariates we use for Y\n",
    "- Y is outcomes of interest\n",
    "- T is the treatment indicator vector/column"
   ]
  },
  {
   "cell_type": "markdown",
   "metadata": {},
   "source": [
    "documentation model below: https://econml.azurewebsites.net/_autosummary/econml.grf.CausalForest.html#econml.grf.CausalForest"
   ]
  },
  {
   "cell_type": "code",
   "execution_count": 324,
   "metadata": {},
   "outputs": [],
   "source": [
    "from econml.grf import CausalForest\n",
    "from sklearn.linear_model import LassoCV\n",
    "from econml.inference import BootstrapInference\n",
    "\n",
    "def estimate_grf(y, X, treatments, test_size=0.2, criterion='mse'):\n",
    "    # split data into train and test sets \n",
    "    X_train, X_test, Y_train, Y_test, T_train, T_test = train_test_split(X, y, treatments, test_size=test_size)\n",
    "        \n",
    "    # specify hyperparams of model\n",
    "    est = CausalForest(criterion='mse', n_estimators=1000,       \n",
    "                          min_samples_leaf=1, \n",
    "                          max_depth=100, max_samples=0.5,\n",
    "                          honest=True, inference=True)\n",
    "\n",
    "    # fit model\n",
    "    est.fit(X_train, T_train, Y_train)\n",
    "    \n",
    "    predict, sigma = est.predict_and_var(X_test)\n",
    "    \n",
    "    return est, predict, sigma"
   ]
  },
  {
   "cell_type": "markdown",
   "metadata": {},
   "source": [
    "url: https://econml.azurewebsites.net/_autosummary/econml.dml.CausalForestDML.html#econml.dml.CausalForestDML"
   ]
  },
  {
   "cell_type": "code",
   "execution_count": 345,
   "metadata": {
    "tags": []
   },
   "outputs": [],
   "source": [
    "from econml.dml import CausalForestDML\n",
    "from sklearn.linear_model import LassoCV\n",
    "from econml.inference import BootstrapInference\n",
    "\n",
    "def estimate_dml(y, X, treatments, test_size=0.2, criterion='mse'):\n",
    "    # split data into train and test sets \n",
    "    X_train, X_test, Y_train, Y_test, T_train, T_test = train_test_split(X, y, treatments, test_size=test_size)\n",
    "\n",
    "    # homo => no covariates affecting treatment\n",
    "    if effect_type == \"homogeneous\":\n",
    "        \n",
    "        # not sure what's best here? Probably leave empty\n",
    "#         W_train = X_train[:, :-1]\n",
    "#         W_test = X_test[:, :-1]\n",
    "        W_train = None\n",
    "        W_test = None\n",
    "    else:\n",
    "        # W represents the covariates affecting treatment\n",
    "        W_train = X_train[:, [1, 4]] # effect_modifiers\n",
    "        W_test = X_test[:, [1, 4]]\n",
    "        \n",
    "    # specify hyperparams of model\n",
    "    est = CausalForestDML(criterion='mse', n_estimators=1000,       \n",
    "                          min_samples_leaf=1, \n",
    "                          max_depth=100, max_samples=0.5,\n",
    "                          discrete_treatment=True, \n",
    "                          honest=True, inference=True)\n",
    "\n",
    "    # fit model\n",
    "    est.fit(Y_train.ravel(), T_train, X=X_train, W=W_train)\n",
    "    \n",
    "     # Estimate the treatment effects on test set\n",
    "#     treatment_effects = est.effect(X_test)\n",
    "    treatment_effects = None\n",
    "\n",
    "    # Confidence intervals via Bootstrap-of-Little-Bags for forests\n",
    "    lb, ub = est.effect_interval(X_test, alpha=0.05)\n",
    "\n",
    "    # Estimate the CATE with the test set (is just mean treatment_effect)\n",
    "    cate_test = est.const_marginal_ate(X_test)\n",
    "    \n",
    "    return est, treatment_effects, lb, ub, cate_test"
   ]
  },
  {
   "cell_type": "code",
   "execution_count": 346,
   "metadata": {},
   "outputs": [
    {
     "data": {
      "application/vnd.jupyter.widget-view+json": {
       "model_id": "d43a63bbcc5440c4a4403ffb450acbef",
       "version_major": 2,
       "version_minor": 0
      },
      "text/plain": [
       "HBox(children=(FloatProgress(value=0.0), HTML(value='')))"
      ]
     },
     "metadata": {},
     "output_type": "display_data"
    },
    {
     "name": "stdout",
     "output_type": "stream",
     "text": [
      "\n"
     ]
    }
   ],
   "source": [
    "S = 100 # num simulations\n",
    "hetero_res_cate = np.zeros(shape=(S)) # save results\n",
    "\n",
    "# run for 100 simulations\n",
    "for i in tqdm(range(S)):\n",
    "    # generate data from DGP\n",
    "    effect_type = \"heterogeneous\"\n",
    "    y, X, trueBetas, featureNames, treatments = dgp(effect_type=effect_type, \n",
    "                                                order=3, treatment_probability=0.5, linear=True)\n",
    "    \n",
    "    est, treatment_effects, lb, ub, cate_test = estimate_dml(y, X, treatments) # dml\n",
    "#     est, treatment_effects, predict, sigma = estimate_grf(y, X, treatments)\n",
    "    \n",
    "#   hetero_res_cate[i] = predict.mean() # std\n",
    "    hetero_res_cate[i] = cate_test # dml"
   ]
  },
  {
   "cell_type": "code",
   "execution_count": null,
   "metadata": {},
   "outputs": [],
   "source": []
  },
  {
   "cell_type": "code",
   "execution_count": 340,
   "metadata": {
    "tags": []
   },
   "outputs": [
    {
     "data": {
      "application/vnd.jupyter.widget-view+json": {
       "model_id": "184573d46f224afb810d0159810b69e6",
       "version_major": 2,
       "version_minor": 0
      },
      "text/plain": [
       "HBox(children=(FloatProgress(value=0.0), HTML(value='')))"
      ]
     },
     "metadata": {},
     "output_type": "display_data"
    },
    {
     "name": "stdout",
     "output_type": "stream",
     "text": [
      "\n"
     ]
    }
   ],
   "source": [
    "S = 100 # num simulations\n",
    "homo_res_cate = np.zeros(shape=(S)) # save results\n",
    "\n",
    "# run for 100 simulations\n",
    "for i in tqdm(range(S)):\n",
    "    # generate data from DGP\n",
    "    effect_type = \"homogeneous\"\n",
    "    y, X, trueBetas, featureNames, treatments = dgp(effect_type=effect_type, \n",
    "                                                order=3, treatment_probability=0.5, linear=True)\n",
    "    \n",
    "    est, treatment_effects, lb, ub, cate_test = estimate_dml(y, X, treatments) # dml\n",
    "#     est, treatment_effects, predict, sigma = estimate_grf(y, X, treatments)\n",
    "    \n",
    "#     homo_res_cate[i] = predict.mean() # std\n",
    "    homo_res_cate[i] = cate_test # dml"
   ]
  },
  {
   "cell_type": "code",
   "execution_count": 342,
   "metadata": {},
   "outputs": [
    {
     "data": {
      "image/png": "[encoded data removed]",
      "text/latex": [
       "$\\displaystyle 1.5270611347744$"
      ],
      "text/plain": [
       "1.5270611347744047"
      ]
     },
     "execution_count": 342,
     "metadata": {},
     "output_type": "execute_result"
    }
   ],
   "source": [
    "homo_res_cate.mean()"
   ]
  },
  {
   "cell_type": "markdown",
   "metadata": {},
   "source": [
    "Below is a single simulation using DGP + either CausalForest or CausalForestDML()"
   ]
  },
  {
   "cell_type": "code",
   "execution_count": 386,
   "metadata": {},
   "outputs": [],
   "source": [
    "# generate data from DGP\n",
    "effect_type = \"heterogeneous\"\n",
    "y, X, trueBetas, featureNames, treatments = dgp(N=1000, effect_type=effect_type, \n",
    "                                                order=3, treatment_probability=0.5, linear=True)\n",
    "\n",
    "# split data into train and test sets \n",
    "X_train, X_test, Y_train, Y_test, T_train, T_test = train_test_split(X, y, treatments, test_size=0.2)\n",
    "\n",
    "# homo => no covariates affecting treatment\n",
    "if effect_type == \"homogeneous\":\n",
    "    W_train = X_train\n",
    "    W_test = X_test\n",
    "else:\n",
    "    W_train = X_train[:, [1, 4]] # effect_modifiers\n",
    "    W_test = X_test[:, [1, 4]]\n",
    "\n",
    "W_train, W_test = None, None"
   ]
  },
  {
   "cell_type": "code",
   "execution_count": 387,
   "metadata": {},
   "outputs": [
    {
     "data": {
      "text/plain": [
       "CausalForest(inference='blb', max_depth=100, max_samples=0.5,\n",
       "             min_samples_leaf=1, n_estimators=1000)"
      ]
     },
     "execution_count": 387,
     "metadata": {},
     "output_type": "execute_result"
    }
   ],
   "source": [
    "# specify hyperparams of model\n",
    "est = CausalForest(criterion='mse', n_estimators=1000,       \n",
    "                      min_samples_leaf=1, \n",
    "                      max_depth=100, max_samples=0.5, \n",
    "                      honest=True, inference='blb')\n",
    "\n",
    "\n",
    "# fit model\n",
    "est.fit(X_train, T_train, Y_train)"
   ]
  },
  {
   "cell_type": "code",
   "execution_count": 388,
   "metadata": {},
   "outputs": [
    {
     "data": {
      "image/png": "[encoded data removed]",
      "text/latex": [
       "$\\displaystyle 1.81018019788109$"
      ],
      "text/plain": [
       "1.810180197881091"
      ]
     },
     "execution_count": 388,
     "metadata": {},
     "output_type": "execute_result"
    }
   ],
   "source": [
    "preds, var = est.predict_and_var(X_test)\n",
    "preds.mean()"
   ]
  },
  {
   "cell_type": "code",
   "execution_count": 394,
   "metadata": {
    "tags": []
   },
   "outputs": [
    {
     "ename": "AttributeError",
     "evalue": "'CausalForestDML' object has no attribute 'predict_tree_average'",
     "output_type": "error",
     "traceback": [
      "\u001b[0;31m---------------------------------------------------------------------------\u001b[0m",
      "\u001b[0;31mAttributeError\u001b[0m                            Traceback (most recent call last)",
      "\u001b[0;32m<ipython-input-394-eaf8b62c42d0>\u001b[0m in \u001b[0;36m<module>\u001b[0;34m\u001b[0m\n\u001b[0;32m----> 1\u001b[0;31m \u001b[0mest\u001b[0m\u001b[0;34m.\u001b[0m\u001b[0mpredict_tree_average\u001b[0m\u001b[0;34m(\u001b[0m\u001b[0mX_test\u001b[0m\u001b[0;34m)\u001b[0m\u001b[0;34m.\u001b[0m\u001b[0mshape\u001b[0m \u001b[0;31m# idk what this is vs predict()\u001b[0m\u001b[0;34m\u001b[0m\u001b[0;34m\u001b[0m\u001b[0m\n\u001b[0m",
      "\u001b[0;31mAttributeError\u001b[0m: 'CausalForestDML' object has no attribute 'predict_tree_average'"
     ]
    }
   ],
   "source": [
    "est.predict_tree_average(X_test).shape # idk what this is vs predict()"
   ]
  },
  {
   "cell_type": "code",
   "execution_count": 390,
   "metadata": {},
   "outputs": [
    {
     "data": {
      "text/plain": [
       "<econml.dml.causal_forest.CausalForestDML at 0x7fbf8a8d9dd8>"
      ]
     },
     "execution_count": 390,
     "metadata": {},
     "output_type": "execute_result"
    }
   ],
   "source": [
    "# DML\n",
    "est = CausalForestDML(criterion='het', n_estimators=1000,       \n",
    "                      min_samples_leaf=1, \n",
    "                      max_depth=100, max_samples=0.5,\n",
    "                      discrete_treatment=True, \n",
    "                      honest=True, inference=True)\n",
    "est.fit(Y_train.ravel(), T=T_train, X=X_train, W=W_train)"
   ]
  },
  {
   "cell_type": "code",
   "execution_count": 391,
   "metadata": {},
   "outputs": [
    {
     "data": {
      "text/plain": [
       "array([47.08998115])"
      ]
     },
     "execution_count": 391,
     "metadata": {},
     "output_type": "execute_result"
    }
   ],
   "source": [
    "# this only works for CausalForestDML \n",
    "\n",
    "# Estimate the treatment effects on test set\n",
    "treatment_effects = est.effect(X_test)\n",
    "\n",
    "# Confidence intervals via Bootstrap-of-Little-Bags for forests\n",
    "lb, ub = est.effect_interval(X_test, alpha=0.05)\n",
    "\n",
    "# Estimate the CATE with the test set\n",
    "est.const_marginal_ate(X_test)"
   ]
  },
  {
   "cell_type": "code",
   "execution_count": 392,
   "metadata": {},
   "outputs": [
    {
     "data": {
      "text/html": [
       "<table class=\"simpletable\">\n",
       "<caption>Uncertainty of Mean Point Estimate</caption>\n",
       "<tr>\n",
       "  <th>mean_point</th> <th>stderr_mean</th> <th>zstat</th> <th>pvalue</th> <th>ci_mean_lower</th> <th>ci_mean_upper</th>\n",
       "</tr>\n",
       "<tr>\n",
       "     <td>47.09</td>     <td>48.065</td>    <td>0.98</td>   <td>0.327</td>    <td>-31.971</td>       <td>126.15</td>    \n",
       "</tr>\n",
       "</table>\n",
       "<table class=\"simpletable\">\n",
       "<caption>Distribution of Point Estimate</caption>\n",
       "<tr>\n",
       "  <th>std_point</th> <th>pct_point_lower</th> <th>pct_point_upper</th>\n",
       "</tr>\n",
       "<tr>\n",
       "   <td>122.933</td>     <td>-190.976</td>         <td>211.724</td>    \n",
       "</tr>\n",
       "</table>\n",
       "<table class=\"simpletable\">\n",
       "<caption>Total Variance of Point Estimate</caption>\n",
       "<tr>\n",
       "  <th>stderr_point</th> <th>ci_point_lower</th> <th>ci_point_upper</th>\n",
       "</tr>\n",
       "<tr>\n",
       "     <td>131.996</td>      <td>-198.602</td>        <td>228.658</td>   \n",
       "</tr>\n",
       "</table><br/><br/>Note: The stderr_mean is a conservative upper bound."
      ],
      "text/plain": [
       "<econml.inference._inference.PopulationSummaryResults at 0x7fbf8a8e1be0>"
      ]
     },
     "execution_count": 392,
     "metadata": {},
     "output_type": "execute_result"
    }
   ],
   "source": [
    "est.const_marginal_ate_inference(X_test)"
   ]
  },
  {
   "cell_type": "code",
   "execution_count": 393,
   "metadata": {},
   "outputs": [
    {
     "name": "stdout",
     "output_type": "stream",
     "text": [
      "Population summary results are available only if `cache_values=True` at fit time!\n"
     ]
    },
    {
     "data": {
      "text/html": [
       "<table class=\"simpletable\">\n",
       "<caption>Doubly Robust ATE on Training Data Results</caption>\n",
       "<tr>\n",
       "   <td></td>   <th>point_estimate</th> <th>stderr</th> <th>zstat</th> <th>pvalue</th> <th>ci_lower</th> <th>ci_upper</th>\n",
       "</tr>\n",
       "<tr>\n",
       "  <th>ATE</th>      <td>33.75</td>      <td>4.562</td> <td>7.398</td>   <td>0.0</td>   <td>26.246</td>   <td>41.254</td> \n",
       "</tr>\n",
       "</table>\n",
       "<table class=\"simpletable\">\n",
       "<caption>Doubly Robust ATT(T=0) on Training Data Results</caption>\n",
       "<tr>\n",
       "   <td></td>   <th>point_estimate</th> <th>stderr</th> <th>zstat</th> <th>pvalue</th> <th>ci_lower</th> <th>ci_upper</th>\n",
       "</tr>\n",
       "<tr>\n",
       "  <th>ATT</th>     <td>31.867</td>      <td>6.588</td> <td>4.837</td>   <td>0.0</td>   <td>21.031</td>   <td>42.703</td> \n",
       "</tr>\n",
       "</table>\n",
       "<table class=\"simpletable\">\n",
       "<caption>Doubly Robust ATT(T=1) on Training Data Results</caption>\n",
       "<tr>\n",
       "   <td></td>   <th>point_estimate</th> <th>stderr</th> <th>zstat</th> <th>pvalue</th> <th>ci_lower</th> <th>ci_upper</th>\n",
       "</tr>\n",
       "<tr>\n",
       "  <th>ATT</th>     <td>35.339</td>      <td>6.312</td> <td>5.599</td>   <td>0.0</td>   <td>24.957</td>   <td>45.721</td> \n",
       "</tr>\n",
       "</table>"
      ],
      "text/plain": [
       "<class 'econml.utilities.Summary'>\n",
       "\"\"\"\n",
       "       Doubly Robust ATE on Training Data Results       \n",
       "========================================================\n",
       "    point_estimate stderr zstat pvalue ci_lower ci_upper\n",
       "--------------------------------------------------------\n",
       "ATE          33.75  4.562 7.398    0.0   26.246   41.254\n",
       "    Doubly Robust ATT(T=0) on Training Data Results     \n",
       "========================================================\n",
       "    point_estimate stderr zstat pvalue ci_lower ci_upper\n",
       "--------------------------------------------------------\n",
       "ATT         31.867  6.588 4.837    0.0   21.031   42.703\n",
       "    Doubly Robust ATT(T=1) on Training Data Results     \n",
       "========================================================\n",
       "    point_estimate stderr zstat pvalue ci_lower ci_upper\n",
       "--------------------------------------------------------\n",
       "ATT         35.339  6.312 5.599    0.0   24.957   45.721\n",
       "--------------------------------------------------------\n",
       "\"\"\""
      ]
     },
     "execution_count": 393,
     "metadata": {},
     "output_type": "execute_result"
    }
   ],
   "source": [
    "est.summary()"
   ]
  },
  {
   "cell_type": "code",
   "execution_count": 282,
   "metadata": {},
   "outputs": [
    {
     "data": {
      "text/plain": [
       "['T0_1']"
      ]
     },
     "execution_count": 282,
     "metadata": {},
     "output_type": "execute_result"
    }
   ],
   "source": [
    "est.cate_treatment_names()"
   ]
  },
  {
   "cell_type": "code",
   "execution_count": 231,
   "metadata": {},
   "outputs": [
    {
     "name": "stderr",
     "output_type": "stream",
     "text": [
      " 98%|===================| 655/670 [00:13<00:00]        "
     ]
    },
    {
     "data": {
      "image/png": "[encoded data removed]",
      "text/plain": [
       "<Figure size 576x684 with 2 Axes>"
      ]
     },
     "metadata": {
      "needs_background": "light"
     },
     "output_type": "display_data"
    }
   ],
   "source": [
    "# Shapley values show covariate/feature w greatest importance on outcome,\n",
    "# helps identify subgroups\n",
    "shap_values = est.shap_values(X_train)\n",
    "\n",
    "shap.summary_plot(shap_values['Y0']['T0_1'])"
   ]
  },
  {
   "cell_type": "markdown",
   "metadata": {},
   "source": [
    "# Example of using CausalForestDML"
   ]
  },
  {
   "cell_type": "code",
   "execution_count": 40,
   "metadata": {},
   "outputs": [],
   "source": [
    "import pandas as pd\n",
    "from IPython.display import Image, display\n",
    "\n",
    "# read Stata .dta file \n",
    "df = pd.read_stata(\"practice_data.dta\")\n",
    "\n",
    "# set variables \n",
    "treatment = 'treatment'\n",
    "outcome = 'loansamt_total'\n",
    "covariates = [\"members_resid_bl\", \"nadults_resid_bl\", \"head_age_bl\", \"act_livestock_bl\", \"act_business_bl\",\n",
    "              \"borrowed_total_bl\", \"members_resid_d_bl\", \"nadults_resid_d_bl\", \"head_age_d_bl\",\n",
    "              \"act_livestock_d_bl\", \"act_business_d_bl\", \"borrowed_total_d_bl\", \"ccm_resp_activ\",\n",
    "              \"other_resp_activ\", \"ccm_resp_activ_d\", \"other_resp_activ_d\", \"head_educ_1\", \"nmember_age6_16\"]"
   ]
  },
  {
   "cell_type": "code",
   "execution_count": 34,
   "metadata": {},
   "outputs": [],
   "source": [
    "# drop missing data\n",
    "all_variables = deepcopy(covariates)\n",
    "all_variables.append(treatment)\n",
    "all_variables.append(outcome)\n",
    "df = df.dropna(axis=0, subset=all_variables)\n",
    "\n",
    "# split data into train and test sets \n",
    "train, test = train_test_split(df, test_size=0.2)\n",
    "\n",
    "# set variables for causal forest Y=outcome, T=treatment, X=covariates, W=effect_modifiers \n",
    "Y = train[outcome]\n",
    "T = train[treatment]\n",
    "X = train[covariates]\n",
    "W = None\n",
    "X_test = test[covariates]"
   ]
  },
  {
   "cell_type": "code",
   "execution_count": 39,
   "metadata": {},
   "outputs": [
    {
     "data": {
      "image/png": "[encoded data removed]",
      "text/latex": [
       "$\\displaystyle 1236.59322146416$"
      ],
      "text/plain": [
       "1236.5932214641607"
      ]
     },
     "execution_count": 39,
     "metadata": {},
     "output_type": "execute_result"
    }
   ],
   "source": [
    "from econml.dml import CausalForestDML\n",
    "from sklearn.linear_model import MultiTaskLassoCV\n",
    "\n",
    "\n",
    "# set parameters for causal forest \n",
    "causal_forest = CausalForestDML(criterion='het', \n",
    "                                n_estimators=10000,       \n",
    "                                min_samples_leaf=10, \n",
    "                                max_depth=None, \n",
    "                                max_samples=0.5,\n",
    "                                discrete_treatment=False,\n",
    "                                honest=True,\n",
    "                                inference=True,\n",
    "                                cv=10,\n",
    "                                model_t=LassoCV(), \n",
    "                                model_y=LassoCV(),\n",
    "                                )\n",
    "                      \n",
    "# fit train data to causal forest model \n",
    "causal_forest.fit(Y, T, X=X, W=W)\n",
    "# estimate the CATE with the test set \n",
    "causal_forest.const_marginal_ate(X_test)"
   ]
  },
  {
   "cell_type": "code",
   "execution_count": null,
   "metadata": {},
   "outputs": [],
   "source": []
  }
 ],
 "metadata": {
  "kernelspec": {
   "display_name": "Python 3",
   "language": "python",
   "name": "python3"
  },
  "language_info": {
   "codemirror_mode": {
    "name": "ipython",
    "version": 3
   },
   "file_extension": ".py",
   "mimetype": "text/x-python",
   "name": "python",
   "nbconvert_exporter": "python",
   "pygments_lexer": "ipython3",
   "version": "3.6.9"
  },
  "metadata": {
   "interpreter": {
    "hash": "4cd7ab41f5fca4b9b44701077e38c5ffd31fe66a6cab21e0214b68d958d0e462"
   }
  }
 },
 "nbformat": 4,
 "nbformat_minor": 4
}
