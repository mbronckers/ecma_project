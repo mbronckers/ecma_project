{
 "metadata": {
  "language_info": {
   "codemirror_mode": {
    "name": "ipython",
    "version": 3
   },
   "file_extension": ".py",
   "mimetype": "text/x-python",
   "name": "python",
   "nbconvert_exporter": "python",
   "pygments_lexer": "ipython3",
   "version": "3.9.2"
  },
  "orig_nbformat": 2,
  "kernelspec": {
   "name": "python392jvsc74a57bd04cd7ab41f5fca4b9b44701077e38c5ffd31fe66a6cab21e0214b68d958d0e462",
   "display_name": "Python 3.9.2 64-bit ('local')"
  },
  "metadata": {
   "interpreter": {
    "hash": "4cd7ab41f5fca4b9b44701077e38c5ffd31fe66a6cab21e0214b68d958d0e462"
   }
  }
 },
 "nbformat": 4,
 "nbformat_minor": 2,
 "cells": [
  {
   "cell_type": "code",
   "execution_count": 2,
   "metadata": {},
   "outputs": [],
   "source": [
    "import numpy as np\n",
    "import pandas as pd\n",
    "from sklearn.preprocessing import PolynomialFeatures"
   ]
  },
  {
   "cell_type": "code",
   "execution_count": 3,
   "metadata": {},
   "outputs": [
    {
     "output_type": "execute_result",
     "data": {
      "text/plain": [
       "       year    id           wrkstat       hrs1       hrs2     evwork  \\\n",
       "0      1986     1  working fulltime  40.000000  38.613701  1.1395408   \n",
       "1      1986     2     keeping house  41.733318  38.613701          1   \n",
       "2      1986     3  working fulltime  40.000000  38.613701  1.1395408   \n",
       "3      1986     4           retired  41.733318  38.613701          1   \n",
       "4      1986     5  working parttime  41.733318  38.613701  1.1395408   \n",
       "...     ...   ...               ...        ...        ...        ...   \n",
       "36496  2010  2040           retired  41.733318  38.613701          1   \n",
       "36497  2010  2041           retired  41.733318  38.613701          1   \n",
       "36498  2010  2042  working fulltime  40.000000  38.613701  1.1395408   \n",
       "36499  2010  2043  working fulltime  49.000000  38.613701  1.1395408   \n",
       "36500  2010  2044  working fulltime  40.000000  38.613701  1.1395408   \n",
       "\n",
       "             occ   prestige        wrkslf    wrkgovt  ... preteen_miss  \\\n",
       "0      270.00000  44.000000  someone else    private  ...            0   \n",
       "1      195.00000  51.000000  someone else    private  ...            0   \n",
       "2      184.00000  51.000000  someone else    private  ...            0   \n",
       "3      311.00000  36.000000  someone else          1  ...            0   \n",
       "4      449.41599  40.335918  someone else  1.8203658  ...            0   \n",
       "...          ...        ...           ...        ...  ...          ...   \n",
       "36496  449.41599  40.335918  someone else    private  ...            0   \n",
       "36497  449.41599  40.335918  someone else    private  ...            0   \n",
       "36498  449.41599  40.335918  someone else    private  ...            0   \n",
       "36499  449.41599  40.335918  someone else    private  ...            0   \n",
       "36500  449.41599  40.335918  someone else    private  ...            0   \n",
       "\n",
       "      teens_miss  adults_miss unrelat_miss earnrs_miss  income_miss  \\\n",
       "0              0            0            0           0            0   \n",
       "1              0            0            1           0            0   \n",
       "2              0            0            1           0            0   \n",
       "3              0            0            0           0            0   \n",
       "4              0            0            0           0            0   \n",
       "...          ...          ...          ...         ...          ...   \n",
       "36496          0            0            0           0            0   \n",
       "36497          0            0            0           0            0   \n",
       "36498          0            0            1           0            0   \n",
       "36499          0            0            1           0            0   \n",
       "36500          0            0            1           0            0   \n",
       "\n",
       "      rincome_miss income86_miss partyid_miss  polviews_miss  \n",
       "0                0             0            0              0  \n",
       "1                1             0            0              0  \n",
       "2                0             0            0              0  \n",
       "3                1             0            0              0  \n",
       "4                0             0            0              0  \n",
       "...            ...           ...          ...            ...  \n",
       "36496            1             1            0              0  \n",
       "36497            1             1            0              0  \n",
       "36498            0             1            0              0  \n",
       "36499            1             1            0              0  \n",
       "36500            0             1            0              0  \n",
       "\n",
       "[36501 rows x 121 columns]"
      ],
      "text/html": "<div>\n<style scoped>\n    .dataframe tbody tr th:only-of-type {\n        vertical-align: middle;\n    }\n\n    .dataframe tbody tr th {\n        vertical-align: top;\n    }\n\n    .dataframe thead th {\n        text-align: right;\n    }\n</style>\n<table border=\"1\" class=\"dataframe\">\n  <thead>\n    <tr style=\"text-align: right;\">\n      <th></th>\n      <th>year</th>\n      <th>id</th>\n      <th>wrkstat</th>\n      <th>hrs1</th>\n      <th>hrs2</th>\n      <th>evwork</th>\n      <th>occ</th>\n      <th>prestige</th>\n      <th>wrkslf</th>\n      <th>wrkgovt</th>\n      <th>...</th>\n      <th>preteen_miss</th>\n      <th>teens_miss</th>\n      <th>adults_miss</th>\n      <th>unrelat_miss</th>\n      <th>earnrs_miss</th>\n      <th>income_miss</th>\n      <th>rincome_miss</th>\n      <th>income86_miss</th>\n      <th>partyid_miss</th>\n      <th>polviews_miss</th>\n    </tr>\n  </thead>\n  <tbody>\n    <tr>\n      <th>0</th>\n      <td>1986</td>\n      <td>1</td>\n      <td>working fulltime</td>\n      <td>40.000000</td>\n      <td>38.613701</td>\n      <td>1.1395408</td>\n      <td>270.00000</td>\n      <td>44.000000</td>\n      <td>someone else</td>\n      <td>private</td>\n      <td>...</td>\n      <td>0</td>\n      <td>0</td>\n      <td>0</td>\n      <td>0</td>\n      <td>0</td>\n      <td>0</td>\n      <td>0</td>\n      <td>0</td>\n      <td>0</td>\n      <td>0</td>\n    </tr>\n    <tr>\n      <th>1</th>\n      <td>1986</td>\n      <td>2</td>\n      <td>keeping house</td>\n      <td>41.733318</td>\n      <td>38.613701</td>\n      <td>1</td>\n      <td>195.00000</td>\n      <td>51.000000</td>\n      <td>someone else</td>\n      <td>private</td>\n      <td>...</td>\n      <td>0</td>\n      <td>0</td>\n      <td>0</td>\n      <td>1</td>\n      <td>0</td>\n      <td>0</td>\n      <td>1</td>\n      <td>0</td>\n      <td>0</td>\n      <td>0</td>\n    </tr>\n    <tr>\n      <th>2</th>\n      <td>1986</td>\n      <td>3</td>\n      <td>working fulltime</td>\n      <td>40.000000</td>\n      <td>38.613701</td>\n      <td>1.1395408</td>\n      <td>184.00000</td>\n      <td>51.000000</td>\n      <td>someone else</td>\n      <td>private</td>\n      <td>...</td>\n      <td>0</td>\n      <td>0</td>\n      <td>0</td>\n      <td>1</td>\n      <td>0</td>\n      <td>0</td>\n      <td>0</td>\n      <td>0</td>\n      <td>0</td>\n      <td>0</td>\n    </tr>\n    <tr>\n      <th>3</th>\n      <td>1986</td>\n      <td>4</td>\n      <td>retired</td>\n      <td>41.733318</td>\n      <td>38.613701</td>\n      <td>1</td>\n      <td>311.00000</td>\n      <td>36.000000</td>\n      <td>someone else</td>\n      <td>1</td>\n      <td>...</td>\n      <td>0</td>\n      <td>0</td>\n      <td>0</td>\n      <td>0</td>\n      <td>0</td>\n      <td>0</td>\n      <td>1</td>\n      <td>0</td>\n      <td>0</td>\n      <td>0</td>\n    </tr>\n    <tr>\n      <th>4</th>\n      <td>1986</td>\n      <td>5</td>\n      <td>working parttime</td>\n      <td>41.733318</td>\n      <td>38.613701</td>\n      <td>1.1395408</td>\n      <td>449.41599</td>\n      <td>40.335918</td>\n      <td>someone else</td>\n      <td>1.8203658</td>\n      <td>...</td>\n      <td>0</td>\n      <td>0</td>\n      <td>0</td>\n      <td>0</td>\n      <td>0</td>\n      <td>0</td>\n      <td>0</td>\n      <td>0</td>\n      <td>0</td>\n      <td>0</td>\n    </tr>\n    <tr>\n      <th>...</th>\n      <td>...</td>\n      <td>...</td>\n      <td>...</td>\n      <td>...</td>\n      <td>...</td>\n      <td>...</td>\n      <td>...</td>\n      <td>...</td>\n      <td>...</td>\n      <td>...</td>\n      <td>...</td>\n      <td>...</td>\n      <td>...</td>\n      <td>...</td>\n      <td>...</td>\n      <td>...</td>\n      <td>...</td>\n      <td>...</td>\n      <td>...</td>\n      <td>...</td>\n      <td>...</td>\n    </tr>\n    <tr>\n      <th>36496</th>\n      <td>2010</td>\n      <td>2040</td>\n      <td>retired</td>\n      <td>41.733318</td>\n      <td>38.613701</td>\n      <td>1</td>\n      <td>449.41599</td>\n      <td>40.335918</td>\n      <td>someone else</td>\n      <td>private</td>\n      <td>...</td>\n      <td>0</td>\n      <td>0</td>\n      <td>0</td>\n      <td>0</td>\n      <td>0</td>\n      <td>0</td>\n      <td>1</td>\n      <td>1</td>\n      <td>0</td>\n      <td>0</td>\n    </tr>\n    <tr>\n      <th>36497</th>\n      <td>2010</td>\n      <td>2041</td>\n      <td>retired</td>\n      <td>41.733318</td>\n      <td>38.613701</td>\n      <td>1</td>\n      <td>449.41599</td>\n      <td>40.335918</td>\n      <td>someone else</td>\n      <td>private</td>\n      <td>...</td>\n      <td>0</td>\n      <td>0</td>\n      <td>0</td>\n      <td>0</td>\n      <td>0</td>\n      <td>0</td>\n      <td>1</td>\n      <td>1</td>\n      <td>0</td>\n      <td>0</td>\n    </tr>\n    <tr>\n      <th>36498</th>\n      <td>2010</td>\n      <td>2042</td>\n      <td>working fulltime</td>\n      <td>40.000000</td>\n      <td>38.613701</td>\n      <td>1.1395408</td>\n      <td>449.41599</td>\n      <td>40.335918</td>\n      <td>someone else</td>\n      <td>private</td>\n      <td>...</td>\n      <td>0</td>\n      <td>0</td>\n      <td>0</td>\n      <td>1</td>\n      <td>0</td>\n      <td>0</td>\n      <td>0</td>\n      <td>1</td>\n      <td>0</td>\n      <td>0</td>\n    </tr>\n    <tr>\n      <th>36499</th>\n      <td>2010</td>\n      <td>2043</td>\n      <td>working fulltime</td>\n      <td>49.000000</td>\n      <td>38.613701</td>\n      <td>1.1395408</td>\n      <td>449.41599</td>\n      <td>40.335918</td>\n      <td>someone else</td>\n      <td>private</td>\n      <td>...</td>\n      <td>0</td>\n      <td>0</td>\n      <td>0</td>\n      <td>1</td>\n      <td>0</td>\n      <td>0</td>\n      <td>1</td>\n      <td>1</td>\n      <td>0</td>\n      <td>0</td>\n    </tr>\n    <tr>\n      <th>36500</th>\n      <td>2010</td>\n      <td>2044</td>\n      <td>working fulltime</td>\n      <td>40.000000</td>\n      <td>38.613701</td>\n      <td>1.1395408</td>\n      <td>449.41599</td>\n      <td>40.335918</td>\n      <td>someone else</td>\n      <td>private</td>\n      <td>...</td>\n      <td>0</td>\n      <td>0</td>\n      <td>0</td>\n      <td>1</td>\n      <td>0</td>\n      <td>0</td>\n      <td>0</td>\n      <td>1</td>\n      <td>0</td>\n      <td>0</td>\n    </tr>\n  </tbody>\n</table>\n<p>36501 rows × 121 columns</p>\n</div>"
     },
     "metadata": {},
     "execution_count": 3
    }
   ],
   "source": [
    "welfare = pd.read_csv(\"welfarelabel.csv\", low_memory=False)\n",
    "welfare"
   ]
  },
  {
   "source": [
    "Just a reference point to see how many actual covariates are in the Welfare dataset"
   ],
   "cell_type": "markdown",
   "metadata": {}
  },
  {
   "cell_type": "code",
   "execution_count": 4,
   "metadata": {},
   "outputs": [
    {
     "output_type": "stream",
     "name": "stdout",
     "text": [
      "Number of covariates for the welfare data set is 61\n"
     ]
    }
   ],
   "source": [
    "def dropDummy(cols):\n",
    "    filtered = []\n",
    "    for col in cols:\n",
    "        if \"_\" not in col:\n",
    "            filtered.append(col)\n",
    "    return filtered\n",
    "\n",
    "realCols = dropDummy(list(welfare.columns))\n",
    "print(\"Number of covariates for the welfare data set is\", len(realCols) - 1) # Approximate number of covariates, we drop one column because of the label column"
   ]
  },
  {
   "source": [
    "Generating data (per page 17 of BART and BCF paper)"
   ],
   "cell_type": "markdown",
   "metadata": {}
  },
  {
   "cell_type": "code",
   "execution_count": 21,
   "metadata": {},
   "outputs": [],
   "source": [
    "def heterogenousTreatment(X, treatments, betas, effect):\n",
    "    xb = X@betas\n",
    "    for i in range(X.shape[0]):\n",
    "        if int(treatments[i]) > 0:\n",
    "            xb[i] += 1 + effect * X[i][1] * X[i][4] # heterogenous treatment is 1 + 2*x_2*x_5\n",
    "    X = np.append(X, treatments, axis=1)\n",
    "    return X, xb"
   ]
  },
  {
   "cell_type": "code",
   "execution_count": 20,
   "metadata": {},
   "outputs": [],
   "source": [
    "# Gives you the ability to generate data and configure treatment effect heterogeneity, whether the regression is linear, and sample size\n",
    "# cc is the number of continuous covariates we want to include (before third order interactions are introduced)\n",
    "def dgp(effect_type=\"heterogenous\", effect_homogenous=3, effect_heterogenous=2, treatment_probability=0.5, order=3, linear=False, cc=4, N=1000, rho=0.2):\n",
    "    error = np.random.normal(size=(N,1))\n",
    "    \n",
    "    # linear boolean will be used later to determine whether we want to include polynomial features\n",
    "    # at this point, we add two more continuous covariates if linear to have approximately same \n",
    "    # number of covariates between the linear and nonlinear cases\n",
    "    if linear: \n",
    "        cov = (np.eye(cc+2) * (1-rho)) + (np.ones((cc+2, cc+2)) * rho)\n",
    "        X = np.random.multivariate_normal(np.zeros(cc+2), cov, size=N, check_valid='warn', tol=1e-8) # generate 4 continuous covariates of X\n",
    "    else:\n",
    "        cov = (np.eye(cc) * (1-rho)) + (np.ones((cc, cc)) * rho)\n",
    "        X = np.random.multivariate_normal(np.zeros(cc), cov, size=N, check_valid='warn', tol=1e-8) # generate 4 continuous covariates of X\n",
    "\n",
    "    X = np.append(X, np.random.randint(2, size=N).reshape((-1, 1)), axis=1) # add binary [0, 1] covariate\n",
    "\n",
    "    cat_elements = [1, 2, 3]\n",
    "    cat_probabilities = [0.2, 0.5, 0.3] # arbitrary\n",
    "    X = np.append(X, np.random.choice(cat_elements, size=N, p=cat_probabilities).reshape((-1, 1)), axis=1) # add unordered categorical [1, 2, 3] covariate\n",
    "\n",
    "    poly = PolynomialFeatures(order, interaction_only=linear) # add third order interactions if linear is false for X covariates, increases number of covariates (to have a high dimensional dataset)\n",
    "    X = poly.fit_transform(X)\n",
    "    X = X[:,1:] # drop the constant term\n",
    "    features = (poly.get_feature_names()[1:])\n",
    "    features.append(\"w\")\n",
    "\n",
    "    treat_elements = [0, 1]\n",
    "    treat_probabilities = [1 - treatment_probability, treatment_probability]\n",
    "    treatments = np.random.choice(treat_elements, size=N, p=treat_probabilities).reshape((-1, 1)) # randomly assigned treatments with propensity 0.5\n",
    "    \n",
    "    # configure between heterogenous and homogenous treatments\n",
    "    if effect_type == \"homogenous\":\n",
    "        betas = np.append(np.random.normal(size=X.shape[1]), [effect_homogenous]).reshape(-1,1)\n",
    "        X = np.append(X, treatments, axis=1)\n",
    "        xb = X@betas\n",
    "    else:\n",
    "        betas = np.random.normal(size=X.shape[1]).reshape(-1,1)\n",
    "        X, xb = heterogenousTreatment(X, treatments, betas, effect_heterogenous)\n",
    "\n",
    "    y = xb + error \n",
    "    return y, X, betas, features"
   ]
  },
  {
   "cell_type": "code",
   "execution_count": 22,
   "metadata": {},
   "outputs": [],
   "source": [
    "y, X, trueBetas, featureNames = dgp(effect_type=\"heterogenous\", order=3, treatment_probability=1, linear=True)"
   ]
  },
  {
   "cell_type": "code",
   "execution_count": null,
   "metadata": {},
   "outputs": [],
   "source": []
  }
 ]
}