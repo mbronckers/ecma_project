{
 "metadata": {
  "language_info": {
   "codemirror_mode": {
    "name": "ipython",
    "version": 3
   },
   "file_extension": ".py",
   "mimetype": "text/x-python",
   "name": "python",
   "nbconvert_exporter": "python",
   "pygments_lexer": "ipython3",
   "version": "3.7.7"
  },
  "orig_nbformat": 2,
  "kernelspec": {
   "name": "python377jvsc74a57bd0254ebfd476bc3fc79ad5c8b426190fe7c8c50894e6b0352342e1dad3387876d5",
   "display_name": "Python 3.7.7 64-bit ('econ21340-env': conda)"
  },
  "metadata": {
   "interpreter": {
    "hash": "4cd7ab41f5fca4b9b44701077e38c5ffd31fe66a6cab21e0214b68d958d0e462"
   }
  }
 },
 "nbformat": 4,
 "nbformat_minor": 2,
 "cells": [
  {
   "cell_type": "code",
   "execution_count": 1,
   "metadata": {},
   "outputs": [],
   "source": [
    "import numpy as np\n",
    "import pandas as pd\n",
    "import matplotlib.pyplot as plt\n",
    "from sklearn.preprocessing import LabelEncoder, normalize\n",
    "from sklearn.model_selection import train_test_split\n",
    "from sklearn.tree import DecisionTreeRegressor\n",
    "from tqdm.auto import tqdm\n",
    "from copy import deepcopy\n",
    "import warnings\n",
    "warnings.filterwarnings(\"ignore\")"
   ]
  },
  {
   "cell_type": "code",
   "execution_count": 2,
   "metadata": {},
   "outputs": [
    {
     "output_type": "execute_result",
     "data": {
      "text/plain": [
       "       year           wrkstat       hrs1       hrs2     evwork        occ  \\\n",
       "0      1986  working fulltime  40.000000  38.613701  1.1395408  270.00000   \n",
       "1      1986     keeping house  41.733318  38.613701          1  195.00000   \n",
       "2      1986  working fulltime  40.000000  38.613701  1.1395408  184.00000   \n",
       "3      1986           retired  41.733318  38.613701          1  311.00000   \n",
       "4      1986  working parttime  41.733318  38.613701  1.1395408  449.41599   \n",
       "...     ...               ...        ...        ...        ...        ...   \n",
       "36496  2010           retired  41.733318  38.613701          1  449.41599   \n",
       "36497  2010           retired  41.733318  38.613701          1  449.41599   \n",
       "36498  2010  working fulltime  40.000000  38.613701  1.1395408  449.41599   \n",
       "36499  2010  working fulltime  49.000000  38.613701  1.1395408  449.41599   \n",
       "36500  2010  working fulltime  40.000000  38.613701  1.1395408  449.41599   \n",
       "\n",
       "        prestige        wrkslf    wrkgovt    commute  ... preteen_miss  \\\n",
       "0      44.000000  someone else    private         60  ...            0   \n",
       "1      51.000000  someone else    private         10  ...            0   \n",
       "2      51.000000  someone else    private         35  ...            0   \n",
       "3      36.000000  someone else          1         25  ...            0   \n",
       "4      40.335918  someone else  1.8203658         25  ...            0   \n",
       "...          ...           ...        ...        ...  ...          ...   \n",
       "36496  40.335918  someone else    private  20.245865  ...            0   \n",
       "36497  40.335918  someone else    private  20.245865  ...            0   \n",
       "36498  40.335918  someone else    private  20.245865  ...            0   \n",
       "36499  40.335918  someone else    private  20.245865  ...            0   \n",
       "36500  40.335918  someone else    private  20.245865  ...            0   \n",
       "\n",
       "       teens_miss adults_miss unrelat_miss  earnrs_miss income_miss  \\\n",
       "0               0           0            0            0           0   \n",
       "1               0           0            1            0           0   \n",
       "2               0           0            1            0           0   \n",
       "3               0           0            0            0           0   \n",
       "4               0           0            0            0           0   \n",
       "...           ...         ...          ...          ...         ...   \n",
       "36496           0           0            0            0           0   \n",
       "36497           0           0            0            0           0   \n",
       "36498           0           0            1            0           0   \n",
       "36499           0           0            1            0           0   \n",
       "36500           0           0            1            0           0   \n",
       "\n",
       "      rincome_miss income86_miss  partyid_miss  polviews_miss  \n",
       "0                0             0             0              0  \n",
       "1                1             0             0              0  \n",
       "2                0             0             0              0  \n",
       "3                1             0             0              0  \n",
       "4                0             0             0              0  \n",
       "...            ...           ...           ...            ...  \n",
       "36496            1             1             0              0  \n",
       "36497            1             1             0              0  \n",
       "36498            0             1             0              0  \n",
       "36499            1             1             0              0  \n",
       "36500            0             1             0              0  \n",
       "\n",
       "[36501 rows x 117 columns]"
      ],
      "text/html": "<div>\n<style scoped>\n    .dataframe tbody tr th:only-of-type {\n        vertical-align: middle;\n    }\n\n    .dataframe tbody tr th {\n        vertical-align: top;\n    }\n\n    .dataframe thead th {\n        text-align: right;\n    }\n</style>\n<table border=\"1\" class=\"dataframe\">\n  <thead>\n    <tr style=\"text-align: right;\">\n      <th></th>\n      <th>year</th>\n      <th>wrkstat</th>\n      <th>hrs1</th>\n      <th>hrs2</th>\n      <th>evwork</th>\n      <th>occ</th>\n      <th>prestige</th>\n      <th>wrkslf</th>\n      <th>wrkgovt</th>\n      <th>commute</th>\n      <th>...</th>\n      <th>preteen_miss</th>\n      <th>teens_miss</th>\n      <th>adults_miss</th>\n      <th>unrelat_miss</th>\n      <th>earnrs_miss</th>\n      <th>income_miss</th>\n      <th>rincome_miss</th>\n      <th>income86_miss</th>\n      <th>partyid_miss</th>\n      <th>polviews_miss</th>\n    </tr>\n  </thead>\n  <tbody>\n    <tr>\n      <th>0</th>\n      <td>1986</td>\n      <td>working fulltime</td>\n      <td>40.000000</td>\n      <td>38.613701</td>\n      <td>1.1395408</td>\n      <td>270.00000</td>\n      <td>44.000000</td>\n      <td>someone else</td>\n      <td>private</td>\n      <td>60</td>\n      <td>...</td>\n      <td>0</td>\n      <td>0</td>\n      <td>0</td>\n      <td>0</td>\n      <td>0</td>\n      <td>0</td>\n      <td>0</td>\n      <td>0</td>\n      <td>0</td>\n      <td>0</td>\n    </tr>\n    <tr>\n      <th>1</th>\n      <td>1986</td>\n      <td>keeping house</td>\n      <td>41.733318</td>\n      <td>38.613701</td>\n      <td>1</td>\n      <td>195.00000</td>\n      <td>51.000000</td>\n      <td>someone else</td>\n      <td>private</td>\n      <td>10</td>\n      <td>...</td>\n      <td>0</td>\n      <td>0</td>\n      <td>0</td>\n      <td>1</td>\n      <td>0</td>\n      <td>0</td>\n      <td>1</td>\n      <td>0</td>\n      <td>0</td>\n      <td>0</td>\n    </tr>\n    <tr>\n      <th>2</th>\n      <td>1986</td>\n      <td>working fulltime</td>\n      <td>40.000000</td>\n      <td>38.613701</td>\n      <td>1.1395408</td>\n      <td>184.00000</td>\n      <td>51.000000</td>\n      <td>someone else</td>\n      <td>private</td>\n      <td>35</td>\n      <td>...</td>\n      <td>0</td>\n      <td>0</td>\n      <td>0</td>\n      <td>1</td>\n      <td>0</td>\n      <td>0</td>\n      <td>0</td>\n      <td>0</td>\n      <td>0</td>\n      <td>0</td>\n    </tr>\n    <tr>\n      <th>3</th>\n      <td>1986</td>\n      <td>retired</td>\n      <td>41.733318</td>\n      <td>38.613701</td>\n      <td>1</td>\n      <td>311.00000</td>\n      <td>36.000000</td>\n      <td>someone else</td>\n      <td>1</td>\n      <td>25</td>\n      <td>...</td>\n      <td>0</td>\n      <td>0</td>\n      <td>0</td>\n      <td>0</td>\n      <td>0</td>\n      <td>0</td>\n      <td>1</td>\n      <td>0</td>\n      <td>0</td>\n      <td>0</td>\n    </tr>\n    <tr>\n      <th>4</th>\n      <td>1986</td>\n      <td>working parttime</td>\n      <td>41.733318</td>\n      <td>38.613701</td>\n      <td>1.1395408</td>\n      <td>449.41599</td>\n      <td>40.335918</td>\n      <td>someone else</td>\n      <td>1.8203658</td>\n      <td>25</td>\n      <td>...</td>\n      <td>0</td>\n      <td>0</td>\n      <td>0</td>\n      <td>0</td>\n      <td>0</td>\n      <td>0</td>\n      <td>0</td>\n      <td>0</td>\n      <td>0</td>\n      <td>0</td>\n    </tr>\n    <tr>\n      <th>...</th>\n      <td>...</td>\n      <td>...</td>\n      <td>...</td>\n      <td>...</td>\n      <td>...</td>\n      <td>...</td>\n      <td>...</td>\n      <td>...</td>\n      <td>...</td>\n      <td>...</td>\n      <td>...</td>\n      <td>...</td>\n      <td>...</td>\n      <td>...</td>\n      <td>...</td>\n      <td>...</td>\n      <td>...</td>\n      <td>...</td>\n      <td>...</td>\n      <td>...</td>\n      <td>...</td>\n    </tr>\n    <tr>\n      <th>36496</th>\n      <td>2010</td>\n      <td>retired</td>\n      <td>41.733318</td>\n      <td>38.613701</td>\n      <td>1</td>\n      <td>449.41599</td>\n      <td>40.335918</td>\n      <td>someone else</td>\n      <td>private</td>\n      <td>20.245865</td>\n      <td>...</td>\n      <td>0</td>\n      <td>0</td>\n      <td>0</td>\n      <td>0</td>\n      <td>0</td>\n      <td>0</td>\n      <td>1</td>\n      <td>1</td>\n      <td>0</td>\n      <td>0</td>\n    </tr>\n    <tr>\n      <th>36497</th>\n      <td>2010</td>\n      <td>retired</td>\n      <td>41.733318</td>\n      <td>38.613701</td>\n      <td>1</td>\n      <td>449.41599</td>\n      <td>40.335918</td>\n      <td>someone else</td>\n      <td>private</td>\n      <td>20.245865</td>\n      <td>...</td>\n      <td>0</td>\n      <td>0</td>\n      <td>0</td>\n      <td>0</td>\n      <td>0</td>\n      <td>0</td>\n      <td>1</td>\n      <td>1</td>\n      <td>0</td>\n      <td>0</td>\n    </tr>\n    <tr>\n      <th>36498</th>\n      <td>2010</td>\n      <td>working fulltime</td>\n      <td>40.000000</td>\n      <td>38.613701</td>\n      <td>1.1395408</td>\n      <td>449.41599</td>\n      <td>40.335918</td>\n      <td>someone else</td>\n      <td>private</td>\n      <td>20.245865</td>\n      <td>...</td>\n      <td>0</td>\n      <td>0</td>\n      <td>0</td>\n      <td>1</td>\n      <td>0</td>\n      <td>0</td>\n      <td>0</td>\n      <td>1</td>\n      <td>0</td>\n      <td>0</td>\n    </tr>\n    <tr>\n      <th>36499</th>\n      <td>2010</td>\n      <td>working fulltime</td>\n      <td>49.000000</td>\n      <td>38.613701</td>\n      <td>1.1395408</td>\n      <td>449.41599</td>\n      <td>40.335918</td>\n      <td>someone else</td>\n      <td>private</td>\n      <td>20.245865</td>\n      <td>...</td>\n      <td>0</td>\n      <td>0</td>\n      <td>0</td>\n      <td>1</td>\n      <td>0</td>\n      <td>0</td>\n      <td>1</td>\n      <td>1</td>\n      <td>0</td>\n      <td>0</td>\n    </tr>\n    <tr>\n      <th>36500</th>\n      <td>2010</td>\n      <td>working fulltime</td>\n      <td>40.000000</td>\n      <td>38.613701</td>\n      <td>1.1395408</td>\n      <td>449.41599</td>\n      <td>40.335918</td>\n      <td>someone else</td>\n      <td>private</td>\n      <td>20.245865</td>\n      <td>...</td>\n      <td>0</td>\n      <td>0</td>\n      <td>0</td>\n      <td>1</td>\n      <td>0</td>\n      <td>0</td>\n      <td>0</td>\n      <td>1</td>\n      <td>0</td>\n      <td>0</td>\n    </tr>\n  </tbody>\n</table>\n<p>36501 rows × 117 columns</p>\n</div>"
     },
     "metadata": {},
     "execution_count": 2
    }
   ],
   "source": [
    "# load data\n",
    "welfare_raw = pd.read_csv(\"welfarelabel.csv\", low_memory=False)\n",
    "labels = welfare_raw['y'].values\n",
    "treatments = welfare_raw['w']\n",
    "welfare_raw.drop(columns=[\"_merge\", 'y', 'w', 'id'], inplace=True)\n",
    "welfare_raw"
   ]
  },
  {
   "cell_type": "code",
   "execution_count": 3,
   "metadata": {},
   "outputs": [],
   "source": [
    "def cleanWelfare(welfare_raw):\n",
    "    welfare = welfare_raw.copy()\n",
    "\n",
    "    toClean = set(['commute', 'childs', 'age', 'preteen', 'adults', 'unrelat', 'earnrs'])\n",
    "    toEncode = set(['year', 'occ'])\n",
    "\n",
    "    encoders = {} # want a dictionary to keep track of columns and their encoded values so can decode when done\n",
    "\n",
    "    for column in welfare:\n",
    "        if '_' not in column:\n",
    "            if column in toEncode:\n",
    "                le = LabelEncoder()\n",
    "                le.fit(welfare[column])\n",
    "                welfare[column] = le.transform(welfare[column])\n",
    "                encoders[column] = le \n",
    "            elif column in toClean:\n",
    "                if column == 'commute':\n",
    "                    welfare[column] = pd.to_numeric(welfare[column].apply(lambda x: 97 if x == '97+ minutes' else x), errors='coerce')\n",
    "                elif column == 'childs' or column == 'earnrs':\n",
    "                    welfare[column] = pd.to_numeric(welfare[column].apply(lambda x: 8 if x == 'eight or more' else x), errors='coerce')\n",
    "                elif column == 'age':\n",
    "                    welfare[column] = pd.to_numeric(welfare[column].apply(lambda x: 89 if x == '89 or older' else x), errors='coerce')\n",
    "                elif column == 'preteen' or column == 'adults' or column =='unrelat':\n",
    "                    welfare[column] = pd.to_numeric(welfare[column].apply(lambda x: 8 if x == '8 or more' else x), errors='coerce')\n",
    "                else:\n",
    "                    continue # should never reach here\n",
    "                welfare[column] = normalize(welfare[column].values.reshape(1, -1))[0] # once column converted to float, normalize\n",
    "            else:\n",
    "                if welfare[column].dtype == welfare['teens'].dtype: # float64 column\n",
    "                    welfare[column] = normalize(welfare[column].values.reshape(1, -1))[0]\n",
    "                elif welfare[column].dtype == welfare['polviews'].dtype: # object column\n",
    "                    le = LabelEncoder()\n",
    "                    le.fit(welfare[column])\n",
    "                    welfare[column] = le.transform(welfare[column])\n",
    "                    encoders[column] = le \n",
    "                else:\n",
    "                    continue # should never reach here\n",
    "    return welfare, encoders"
   ]
  },
  {
   "cell_type": "code",
   "execution_count": 4,
   "metadata": {},
   "outputs": [],
   "source": [
    "welfare, encoders = cleanWelfare(welfare_raw)"
   ]
  },
  {
   "cell_type": "code",
   "execution_count": 5,
   "metadata": {},
   "outputs": [
    {
     "output_type": "execute_result",
     "data": {
      "text/plain": [
       "       year  wrkstat      hrs1      hrs2  evwork  occ  prestige  wrkslf  \\\n",
       "0         0        7  0.004845  0.005228       1  135  0.005641       2   \n",
       "1         0        1  0.005055  0.005228       0  106  0.006538       2   \n",
       "2         0        7  0.004845  0.005228       1   99  0.006538       2   \n",
       "3         0        3  0.005055  0.005228       0  142  0.004615       2   \n",
       "4         0        8  0.005055  0.005228       1  211  0.005171       2   \n",
       "...     ...      ...       ...       ...     ...  ...       ...     ...   \n",
       "36496    15        3  0.005055  0.005228       0  211  0.005171       2   \n",
       "36497    15        3  0.005055  0.005228       0  211  0.005171       2   \n",
       "36498    15        7  0.004845  0.005228       1  211  0.005171       2   \n",
       "36499    15        7  0.005935  0.005228       1  211  0.005171       2   \n",
       "36500    15        7  0.004845  0.005228       1  211  0.005171       2   \n",
       "\n",
       "       wrkgovt   commute  ...  preteen_miss  teens_miss  adults_miss  \\\n",
       "0            2  0.015315  ...             0           0            0   \n",
       "1            2  0.002552  ...             0           0            0   \n",
       "2            2  0.008934  ...             0           0            0   \n",
       "3            0  0.006381  ...             0           0            0   \n",
       "4            1  0.006381  ...             0           0            0   \n",
       "...        ...       ...  ...           ...         ...          ...   \n",
       "36496        2  0.005168  ...             0           0            0   \n",
       "36497        2  0.005168  ...             0           0            0   \n",
       "36498        2  0.005168  ...             0           0            0   \n",
       "36499        2  0.005168  ...             0           0            0   \n",
       "36500        2  0.005168  ...             0           0            0   \n",
       "\n",
       "       unrelat_miss  earnrs_miss  income_miss  rincome_miss  income86_miss  \\\n",
       "0                 0            0            0             0              0   \n",
       "1                 1            0            0             1              0   \n",
       "2                 1            0            0             0              0   \n",
       "3                 0            0            0             1              0   \n",
       "4                 0            0            0             0              0   \n",
       "...             ...          ...          ...           ...            ...   \n",
       "36496             0            0            0             1              1   \n",
       "36497             0            0            0             1              1   \n",
       "36498             1            0            0             0              1   \n",
       "36499             1            0            0             1              1   \n",
       "36500             1            0            0             0              1   \n",
       "\n",
       "       partyid_miss  polviews_miss  \n",
       "0                 0              0  \n",
       "1                 0              0  \n",
       "2                 0              0  \n",
       "3                 0              0  \n",
       "4                 0              0  \n",
       "...             ...            ...  \n",
       "36496             0              0  \n",
       "36497             0              0  \n",
       "36498             0              0  \n",
       "36499             0              0  \n",
       "36500             0              0  \n",
       "\n",
       "[36501 rows x 117 columns]"
      ],
      "text/html": "<div>\n<style scoped>\n    .dataframe tbody tr th:only-of-type {\n        vertical-align: middle;\n    }\n\n    .dataframe tbody tr th {\n        vertical-align: top;\n    }\n\n    .dataframe thead th {\n        text-align: right;\n    }\n</style>\n<table border=\"1\" class=\"dataframe\">\n  <thead>\n    <tr style=\"text-align: right;\">\n      <th></th>\n      <th>year</th>\n      <th>wrkstat</th>\n      <th>hrs1</th>\n      <th>hrs2</th>\n      <th>evwork</th>\n      <th>occ</th>\n      <th>prestige</th>\n      <th>wrkslf</th>\n      <th>wrkgovt</th>\n      <th>commute</th>\n      <th>...</th>\n      <th>preteen_miss</th>\n      <th>teens_miss</th>\n      <th>adults_miss</th>\n      <th>unrelat_miss</th>\n      <th>earnrs_miss</th>\n      <th>income_miss</th>\n      <th>rincome_miss</th>\n      <th>income86_miss</th>\n      <th>partyid_miss</th>\n      <th>polviews_miss</th>\n    </tr>\n  </thead>\n  <tbody>\n    <tr>\n      <th>0</th>\n      <td>0</td>\n      <td>7</td>\n      <td>0.004845</td>\n      <td>0.005228</td>\n      <td>1</td>\n      <td>135</td>\n      <td>0.005641</td>\n      <td>2</td>\n      <td>2</td>\n      <td>0.015315</td>\n      <td>...</td>\n      <td>0</td>\n      <td>0</td>\n      <td>0</td>\n      <td>0</td>\n      <td>0</td>\n      <td>0</td>\n      <td>0</td>\n      <td>0</td>\n      <td>0</td>\n      <td>0</td>\n    </tr>\n    <tr>\n      <th>1</th>\n      <td>0</td>\n      <td>1</td>\n      <td>0.005055</td>\n      <td>0.005228</td>\n      <td>0</td>\n      <td>106</td>\n      <td>0.006538</td>\n      <td>2</td>\n      <td>2</td>\n      <td>0.002552</td>\n      <td>...</td>\n      <td>0</td>\n      <td>0</td>\n      <td>0</td>\n      <td>1</td>\n      <td>0</td>\n      <td>0</td>\n      <td>1</td>\n      <td>0</td>\n      <td>0</td>\n      <td>0</td>\n    </tr>\n    <tr>\n      <th>2</th>\n      <td>0</td>\n      <td>7</td>\n      <td>0.004845</td>\n      <td>0.005228</td>\n      <td>1</td>\n      <td>99</td>\n      <td>0.006538</td>\n      <td>2</td>\n      <td>2</td>\n      <td>0.008934</td>\n      <td>...</td>\n      <td>0</td>\n      <td>0</td>\n      <td>0</td>\n      <td>1</td>\n      <td>0</td>\n      <td>0</td>\n      <td>0</td>\n      <td>0</td>\n      <td>0</td>\n      <td>0</td>\n    </tr>\n    <tr>\n      <th>3</th>\n      <td>0</td>\n      <td>3</td>\n      <td>0.005055</td>\n      <td>0.005228</td>\n      <td>0</td>\n      <td>142</td>\n      <td>0.004615</td>\n      <td>2</td>\n      <td>0</td>\n      <td>0.006381</td>\n      <td>...</td>\n      <td>0</td>\n      <td>0</td>\n      <td>0</td>\n      <td>0</td>\n      <td>0</td>\n      <td>0</td>\n      <td>1</td>\n      <td>0</td>\n      <td>0</td>\n      <td>0</td>\n    </tr>\n    <tr>\n      <th>4</th>\n      <td>0</td>\n      <td>8</td>\n      <td>0.005055</td>\n      <td>0.005228</td>\n      <td>1</td>\n      <td>211</td>\n      <td>0.005171</td>\n      <td>2</td>\n      <td>1</td>\n      <td>0.006381</td>\n      <td>...</td>\n      <td>0</td>\n      <td>0</td>\n      <td>0</td>\n      <td>0</td>\n      <td>0</td>\n      <td>0</td>\n      <td>0</td>\n      <td>0</td>\n      <td>0</td>\n      <td>0</td>\n    </tr>\n    <tr>\n      <th>...</th>\n      <td>...</td>\n      <td>...</td>\n      <td>...</td>\n      <td>...</td>\n      <td>...</td>\n      <td>...</td>\n      <td>...</td>\n      <td>...</td>\n      <td>...</td>\n      <td>...</td>\n      <td>...</td>\n      <td>...</td>\n      <td>...</td>\n      <td>...</td>\n      <td>...</td>\n      <td>...</td>\n      <td>...</td>\n      <td>...</td>\n      <td>...</td>\n      <td>...</td>\n      <td>...</td>\n    </tr>\n    <tr>\n      <th>36496</th>\n      <td>15</td>\n      <td>3</td>\n      <td>0.005055</td>\n      <td>0.005228</td>\n      <td>0</td>\n      <td>211</td>\n      <td>0.005171</td>\n      <td>2</td>\n      <td>2</td>\n      <td>0.005168</td>\n      <td>...</td>\n      <td>0</td>\n      <td>0</td>\n      <td>0</td>\n      <td>0</td>\n      <td>0</td>\n      <td>0</td>\n      <td>1</td>\n      <td>1</td>\n      <td>0</td>\n      <td>0</td>\n    </tr>\n    <tr>\n      <th>36497</th>\n      <td>15</td>\n      <td>3</td>\n      <td>0.005055</td>\n      <td>0.005228</td>\n      <td>0</td>\n      <td>211</td>\n      <td>0.005171</td>\n      <td>2</td>\n      <td>2</td>\n      <td>0.005168</td>\n      <td>...</td>\n      <td>0</td>\n      <td>0</td>\n      <td>0</td>\n      <td>0</td>\n      <td>0</td>\n      <td>0</td>\n      <td>1</td>\n      <td>1</td>\n      <td>0</td>\n      <td>0</td>\n    </tr>\n    <tr>\n      <th>36498</th>\n      <td>15</td>\n      <td>7</td>\n      <td>0.004845</td>\n      <td>0.005228</td>\n      <td>1</td>\n      <td>211</td>\n      <td>0.005171</td>\n      <td>2</td>\n      <td>2</td>\n      <td>0.005168</td>\n      <td>...</td>\n      <td>0</td>\n      <td>0</td>\n      <td>0</td>\n      <td>1</td>\n      <td>0</td>\n      <td>0</td>\n      <td>0</td>\n      <td>1</td>\n      <td>0</td>\n      <td>0</td>\n    </tr>\n    <tr>\n      <th>36499</th>\n      <td>15</td>\n      <td>7</td>\n      <td>0.005935</td>\n      <td>0.005228</td>\n      <td>1</td>\n      <td>211</td>\n      <td>0.005171</td>\n      <td>2</td>\n      <td>2</td>\n      <td>0.005168</td>\n      <td>...</td>\n      <td>0</td>\n      <td>0</td>\n      <td>0</td>\n      <td>1</td>\n      <td>0</td>\n      <td>0</td>\n      <td>1</td>\n      <td>1</td>\n      <td>0</td>\n      <td>0</td>\n    </tr>\n    <tr>\n      <th>36500</th>\n      <td>15</td>\n      <td>7</td>\n      <td>0.004845</td>\n      <td>0.005228</td>\n      <td>1</td>\n      <td>211</td>\n      <td>0.005171</td>\n      <td>2</td>\n      <td>2</td>\n      <td>0.005168</td>\n      <td>...</td>\n      <td>0</td>\n      <td>0</td>\n      <td>0</td>\n      <td>1</td>\n      <td>0</td>\n      <td>0</td>\n      <td>0</td>\n      <td>1</td>\n      <td>0</td>\n      <td>0</td>\n    </tr>\n  </tbody>\n</table>\n<p>36501 rows × 117 columns</p>\n</div>"
     },
     "metadata": {},
     "execution_count": 5
    }
   ],
   "source": [
    "welfare"
   ]
  },
  {
   "cell_type": "code",
   "execution_count": 6,
   "metadata": {},
   "outputs": [
    {
     "output_type": "execute_result",
     "data": {
      "text/plain": [
       "{'year': LabelEncoder(),\n",
       " 'wrkstat': LabelEncoder(),\n",
       " 'evwork': LabelEncoder(),\n",
       " 'occ': LabelEncoder(),\n",
       " 'wrkslf': LabelEncoder(),\n",
       " 'wrkgovt': LabelEncoder(),\n",
       " 'occ80': LabelEncoder(),\n",
       " 'indus80': LabelEncoder(),\n",
       " 'marital': LabelEncoder(),\n",
       " 'divorce': LabelEncoder(),\n",
       " 'widowed': LabelEncoder(),\n",
       " 'spwrksta': LabelEncoder(),\n",
       " 'spevwork': LabelEncoder(),\n",
       " 'spocc80': LabelEncoder(),\n",
       " 'spind80': LabelEncoder(),\n",
       " 'degree': LabelEncoder(),\n",
       " 'padeg': LabelEncoder(),\n",
       " 'madeg': LabelEncoder(),\n",
       " 'spdeg': LabelEncoder(),\n",
       " 'sex': LabelEncoder(),\n",
       " 'race': LabelEncoder(),\n",
       " 'res16': LabelEncoder(),\n",
       " 'reg16': LabelEncoder(),\n",
       " 'mobile16': LabelEncoder(),\n",
       " 'family16': LabelEncoder(),\n",
       " 'mawork': LabelEncoder(),\n",
       " 'mawkborn': LabelEncoder(),\n",
       " 'born': LabelEncoder(),\n",
       " 'parborn': LabelEncoder(),\n",
       " 'granborn': LabelEncoder(),\n",
       " 'income': LabelEncoder(),\n",
       " 'rincome': LabelEncoder(),\n",
       " 'income86': LabelEncoder(),\n",
       " 'partyid': LabelEncoder(),\n",
       " 'polviews': LabelEncoder()}"
      ]
     },
     "metadata": {},
     "execution_count": 6
    }
   ],
   "source": [
    "encoders"
   ]
  },
  {
   "cell_type": "code",
   "execution_count": null,
   "metadata": {},
   "outputs": [],
   "source": []
  }
 ]
}