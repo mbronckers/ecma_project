{
 "metadata": {
  "language_info": {
   "codemirror_mode": {
    "name": "ipython",
    "version": 3
   },
   "file_extension": ".py",
   "mimetype": "text/x-python",
   "name": "python",
   "nbconvert_exporter": "python",
   "pygments_lexer": "ipython3",
   "version": "3.7.7"
  },
  "orig_nbformat": 2,
  "kernelspec": {
   "name": "python377jvsc74a57bd0254ebfd476bc3fc79ad5c8b426190fe7c8c50894e6b0352342e1dad3387876d5",
   "display_name": "Python 3.7.7 64-bit ('econ21340-env': conda)"
  },
  "metadata": {
   "interpreter": {
    "hash": "4cd7ab41f5fca4b9b44701077e38c5ffd31fe66a6cab21e0214b68d958d0e462"
   }
  }
 },
 "nbformat": 4,
 "nbformat_minor": 2,
 "cells": [
  {
   "cell_type": "code",
   "execution_count": 1,
   "metadata": {},
   "outputs": [],
   "source": [
    "import numpy as np\n",
    "import pandas as pd\n",
    "import matplotlib.pyplot as plt\n",
    "from tqdm.auto import tqdm\n",
    "from copy import deepcopy\n",
    "\n",
    "from sklearn.preprocessing import LabelEncoder, normalize\n",
    "from sklearn.model_selection import train_test_split\n",
    "from sklearn.tree import DecisionTreeRegressor\n",
    "from econml.grf import CausalForest\n",
    "from sklearn.linear_model import LassoCV\n",
    "\n",
    "import warnings\n",
    "warnings.filterwarnings(\"ignore\")"
   ]
  },
  {
   "cell_type": "code",
   "execution_count": 20,
   "metadata": {},
   "outputs": [
    {
     "output_type": "execute_result",
     "data": {
      "text/plain": [
       "       year           wrkstat       hrs1       hrs2     evwork        occ  \\\n",
       "0      1986  working fulltime  40.000000  38.613701  1.1395408  270.00000   \n",
       "1      1986     keeping house  41.733318  38.613701          1  195.00000   \n",
       "2      1986  working fulltime  40.000000  38.613701  1.1395408  184.00000   \n",
       "3      1986           retired  41.733318  38.613701          1  311.00000   \n",
       "4      1986  working parttime  41.733318  38.613701  1.1395408  449.41599   \n",
       "...     ...               ...        ...        ...        ...        ...   \n",
       "36496  2010           retired  41.733318  38.613701          1  449.41599   \n",
       "36497  2010           retired  41.733318  38.613701          1  449.41599   \n",
       "36498  2010  working fulltime  40.000000  38.613701  1.1395408  449.41599   \n",
       "36499  2010  working fulltime  49.000000  38.613701  1.1395408  449.41599   \n",
       "36500  2010  working fulltime  40.000000  38.613701  1.1395408  449.41599   \n",
       "\n",
       "        prestige        wrkslf    wrkgovt    commute  ... preteen_miss  \\\n",
       "0      44.000000  someone else    private         60  ...            0   \n",
       "1      51.000000  someone else    private         10  ...            0   \n",
       "2      51.000000  someone else    private         35  ...            0   \n",
       "3      36.000000  someone else          1         25  ...            0   \n",
       "4      40.335918  someone else  1.8203658         25  ...            0   \n",
       "...          ...           ...        ...        ...  ...          ...   \n",
       "36496  40.335918  someone else    private  20.245865  ...            0   \n",
       "36497  40.335918  someone else    private  20.245865  ...            0   \n",
       "36498  40.335918  someone else    private  20.245865  ...            0   \n",
       "36499  40.335918  someone else    private  20.245865  ...            0   \n",
       "36500  40.335918  someone else    private  20.245865  ...            0   \n",
       "\n",
       "       teens_miss adults_miss unrelat_miss  earnrs_miss income_miss  \\\n",
       "0               0           0            0            0           0   \n",
       "1               0           0            1            0           0   \n",
       "2               0           0            1            0           0   \n",
       "3               0           0            0            0           0   \n",
       "4               0           0            0            0           0   \n",
       "...           ...         ...          ...          ...         ...   \n",
       "36496           0           0            0            0           0   \n",
       "36497           0           0            0            0           0   \n",
       "36498           0           0            1            0           0   \n",
       "36499           0           0            1            0           0   \n",
       "36500           0           0            1            0           0   \n",
       "\n",
       "      rincome_miss income86_miss  partyid_miss  polviews_miss  \n",
       "0                0             0             0              0  \n",
       "1                1             0             0              0  \n",
       "2                0             0             0              0  \n",
       "3                1             0             0              0  \n",
       "4                0             0             0              0  \n",
       "...            ...           ...           ...            ...  \n",
       "36496            1             1             0              0  \n",
       "36497            1             1             0              0  \n",
       "36498            0             1             0              0  \n",
       "36499            1             1             0              0  \n",
       "36500            0             1             0              0  \n",
       "\n",
       "[36501 rows x 118 columns]"
      ],
      "text/html": "<div>\n<style scoped>\n    .dataframe tbody tr th:only-of-type {\n        vertical-align: middle;\n    }\n\n    .dataframe tbody tr th {\n        vertical-align: top;\n    }\n\n    .dataframe thead th {\n        text-align: right;\n    }\n</style>\n<table border=\"1\" class=\"dataframe\">\n  <thead>\n    <tr style=\"text-align: right;\">\n      <th></th>\n      <th>year</th>\n      <th>wrkstat</th>\n      <th>hrs1</th>\n      <th>hrs2</th>\n      <th>evwork</th>\n      <th>occ</th>\n      <th>prestige</th>\n      <th>wrkslf</th>\n      <th>wrkgovt</th>\n      <th>commute</th>\n      <th>...</th>\n      <th>preteen_miss</th>\n      <th>teens_miss</th>\n      <th>adults_miss</th>\n      <th>unrelat_miss</th>\n      <th>earnrs_miss</th>\n      <th>income_miss</th>\n      <th>rincome_miss</th>\n      <th>income86_miss</th>\n      <th>partyid_miss</th>\n      <th>polviews_miss</th>\n    </tr>\n  </thead>\n  <tbody>\n    <tr>\n      <th>0</th>\n      <td>1986</td>\n      <td>working fulltime</td>\n      <td>40.000000</td>\n      <td>38.613701</td>\n      <td>1.1395408</td>\n      <td>270.00000</td>\n      <td>44.000000</td>\n      <td>someone else</td>\n      <td>private</td>\n      <td>60</td>\n      <td>...</td>\n      <td>0</td>\n      <td>0</td>\n      <td>0</td>\n      <td>0</td>\n      <td>0</td>\n      <td>0</td>\n      <td>0</td>\n      <td>0</td>\n      <td>0</td>\n      <td>0</td>\n    </tr>\n    <tr>\n      <th>1</th>\n      <td>1986</td>\n      <td>keeping house</td>\n      <td>41.733318</td>\n      <td>38.613701</td>\n      <td>1</td>\n      <td>195.00000</td>\n      <td>51.000000</td>\n      <td>someone else</td>\n      <td>private</td>\n      <td>10</td>\n      <td>...</td>\n      <td>0</td>\n      <td>0</td>\n      <td>0</td>\n      <td>1</td>\n      <td>0</td>\n      <td>0</td>\n      <td>1</td>\n      <td>0</td>\n      <td>0</td>\n      <td>0</td>\n    </tr>\n    <tr>\n      <th>2</th>\n      <td>1986</td>\n      <td>working fulltime</td>\n      <td>40.000000</td>\n      <td>38.613701</td>\n      <td>1.1395408</td>\n      <td>184.00000</td>\n      <td>51.000000</td>\n      <td>someone else</td>\n      <td>private</td>\n      <td>35</td>\n      <td>...</td>\n      <td>0</td>\n      <td>0</td>\n      <td>0</td>\n      <td>1</td>\n      <td>0</td>\n      <td>0</td>\n      <td>0</td>\n      <td>0</td>\n      <td>0</td>\n      <td>0</td>\n    </tr>\n    <tr>\n      <th>3</th>\n      <td>1986</td>\n      <td>retired</td>\n      <td>41.733318</td>\n      <td>38.613701</td>\n      <td>1</td>\n      <td>311.00000</td>\n      <td>36.000000</td>\n      <td>someone else</td>\n      <td>1</td>\n      <td>25</td>\n      <td>...</td>\n      <td>0</td>\n      <td>0</td>\n      <td>0</td>\n      <td>0</td>\n      <td>0</td>\n      <td>0</td>\n      <td>1</td>\n      <td>0</td>\n      <td>0</td>\n      <td>0</td>\n    </tr>\n    <tr>\n      <th>4</th>\n      <td>1986</td>\n      <td>working parttime</td>\n      <td>41.733318</td>\n      <td>38.613701</td>\n      <td>1.1395408</td>\n      <td>449.41599</td>\n      <td>40.335918</td>\n      <td>someone else</td>\n      <td>1.8203658</td>\n      <td>25</td>\n      <td>...</td>\n      <td>0</td>\n      <td>0</td>\n      <td>0</td>\n      <td>0</td>\n      <td>0</td>\n      <td>0</td>\n      <td>0</td>\n      <td>0</td>\n      <td>0</td>\n      <td>0</td>\n    </tr>\n    <tr>\n      <th>...</th>\n      <td>...</td>\n      <td>...</td>\n      <td>...</td>\n      <td>...</td>\n      <td>...</td>\n      <td>...</td>\n      <td>...</td>\n      <td>...</td>\n      <td>...</td>\n      <td>...</td>\n      <td>...</td>\n      <td>...</td>\n      <td>...</td>\n      <td>...</td>\n      <td>...</td>\n      <td>...</td>\n      <td>...</td>\n      <td>...</td>\n      <td>...</td>\n      <td>...</td>\n      <td>...</td>\n    </tr>\n    <tr>\n      <th>36496</th>\n      <td>2010</td>\n      <td>retired</td>\n      <td>41.733318</td>\n      <td>38.613701</td>\n      <td>1</td>\n      <td>449.41599</td>\n      <td>40.335918</td>\n      <td>someone else</td>\n      <td>private</td>\n      <td>20.245865</td>\n      <td>...</td>\n      <td>0</td>\n      <td>0</td>\n      <td>0</td>\n      <td>0</td>\n      <td>0</td>\n      <td>0</td>\n      <td>1</td>\n      <td>1</td>\n      <td>0</td>\n      <td>0</td>\n    </tr>\n    <tr>\n      <th>36497</th>\n      <td>2010</td>\n      <td>retired</td>\n      <td>41.733318</td>\n      <td>38.613701</td>\n      <td>1</td>\n      <td>449.41599</td>\n      <td>40.335918</td>\n      <td>someone else</td>\n      <td>private</td>\n      <td>20.245865</td>\n      <td>...</td>\n      <td>0</td>\n      <td>0</td>\n      <td>0</td>\n      <td>0</td>\n      <td>0</td>\n      <td>0</td>\n      <td>1</td>\n      <td>1</td>\n      <td>0</td>\n      <td>0</td>\n    </tr>\n    <tr>\n      <th>36498</th>\n      <td>2010</td>\n      <td>working fulltime</td>\n      <td>40.000000</td>\n      <td>38.613701</td>\n      <td>1.1395408</td>\n      <td>449.41599</td>\n      <td>40.335918</td>\n      <td>someone else</td>\n      <td>private</td>\n      <td>20.245865</td>\n      <td>...</td>\n      <td>0</td>\n      <td>0</td>\n      <td>0</td>\n      <td>1</td>\n      <td>0</td>\n      <td>0</td>\n      <td>0</td>\n      <td>1</td>\n      <td>0</td>\n      <td>0</td>\n    </tr>\n    <tr>\n      <th>36499</th>\n      <td>2010</td>\n      <td>working fulltime</td>\n      <td>49.000000</td>\n      <td>38.613701</td>\n      <td>1.1395408</td>\n      <td>449.41599</td>\n      <td>40.335918</td>\n      <td>someone else</td>\n      <td>private</td>\n      <td>20.245865</td>\n      <td>...</td>\n      <td>0</td>\n      <td>0</td>\n      <td>0</td>\n      <td>1</td>\n      <td>0</td>\n      <td>0</td>\n      <td>1</td>\n      <td>1</td>\n      <td>0</td>\n      <td>0</td>\n    </tr>\n    <tr>\n      <th>36500</th>\n      <td>2010</td>\n      <td>working fulltime</td>\n      <td>40.000000</td>\n      <td>38.613701</td>\n      <td>1.1395408</td>\n      <td>449.41599</td>\n      <td>40.335918</td>\n      <td>someone else</td>\n      <td>private</td>\n      <td>20.245865</td>\n      <td>...</td>\n      <td>0</td>\n      <td>0</td>\n      <td>0</td>\n      <td>1</td>\n      <td>0</td>\n      <td>0</td>\n      <td>0</td>\n      <td>1</td>\n      <td>0</td>\n      <td>0</td>\n    </tr>\n  </tbody>\n</table>\n<p>36501 rows × 118 columns</p>\n</div>"
     },
     "metadata": {},
     "execution_count": 20
    }
   ],
   "source": [
    "# load data\n",
    "welfare_raw = pd.read_csv(\"welfarelabel.csv\", low_memory=False)\n",
    "labels = welfare_raw['y'].values\n",
    "treatments = welfare_raw['w']\n",
    "welfare_raw.drop(columns=[\"_merge\", 'y', 'id'], inplace=True)\n",
    "welfare_raw"
   ]
  },
  {
   "cell_type": "code",
   "execution_count": 29,
   "metadata": {},
   "outputs": [
    {
     "output_type": "execute_result",
     "data": {
      "text/plain": [
       "       year           wrkstat       hrs1       hrs2     evwork        occ  \\\n",
       "10802  1994     keeping house  41.733318  38.613701          1  449.41599   \n",
       "10804  1994  working fulltime  50.000000  38.613701  1.1395408  449.41599   \n",
       "10809  1994  working fulltime  45.000000  38.613701  1.1395408  449.41599   \n",
       "10810  1994  working fulltime  40.000000  38.613701  1.1395408  449.41599   \n",
       "10812  1994  working fulltime  40.000000  38.613701  1.1395408  449.41599   \n",
       "...     ...               ...        ...        ...        ...        ...   \n",
       "13782  1994             other  41.733318  38.613701          1  449.41599   \n",
       "13783  1994           retired  41.733318  38.613701          1  449.41599   \n",
       "13788  1994  working fulltime  40.000000  38.613701  1.1395408  449.41599   \n",
       "13790  1994           retired  41.733318  38.613701          1  449.41599   \n",
       "13791  1994  working fulltime  40.000000  38.613701  1.1395408  449.41599   \n",
       "\n",
       "        prestige        wrkslf    wrkgovt    commute  ... preteen_miss  \\\n",
       "10802  40.335918  someone else  1.8203658  20.245865  ...            0   \n",
       "10804  40.335918  someone else  1.8203658  20.245865  ...            0   \n",
       "10809  40.335918  someone else  1.8203658  20.245865  ...            0   \n",
       "10810  40.335918  someone else  1.8203658  20.245865  ...            0   \n",
       "10812  40.335918  someone else  1.8203658  20.245865  ...            0   \n",
       "...          ...           ...        ...        ...  ...          ...   \n",
       "13782  40.335918  someone else  1.8203658  20.245865  ...            0   \n",
       "13783  40.335918             1  1.8203658  20.245865  ...            0   \n",
       "13788  40.335918  someone else  1.8203658  20.245865  ...            0   \n",
       "13790  40.335918  someone else  1.8203658  20.245865  ...            0   \n",
       "13791  40.335918  someone else  1.8203658  20.245865  ...            0   \n",
       "\n",
       "       teens_miss adults_miss unrelat_miss  earnrs_miss income_miss  \\\n",
       "10802           0           0            0            0           0   \n",
       "10804           0           0            0            0           0   \n",
       "10809           0           0            1            0           0   \n",
       "10810           0           0            0            0           0   \n",
       "10812           0           0            1            0           0   \n",
       "...           ...         ...          ...          ...         ...   \n",
       "13782           0           0            1            0           0   \n",
       "13783           0           0            1            0           0   \n",
       "13788           0           0            0            0           0   \n",
       "13790           0           0            0            0           0   \n",
       "13791           0           0            1            0           0   \n",
       "\n",
       "      rincome_miss income86_miss  partyid_miss  polviews_miss  \n",
       "10802            1             1             0              0  \n",
       "10804            0             1             0              0  \n",
       "10809            0             1             0              0  \n",
       "10810            0             1             0              0  \n",
       "10812            0             1             0              0  \n",
       "...            ...           ...           ...            ...  \n",
       "13782            1             1             0              0  \n",
       "13783            1             1             0              0  \n",
       "13788            0             1             0              0  \n",
       "13790            1             1             0              0  \n",
       "13791            0             1             0              0  \n",
       "\n",
       "[1484 rows x 118 columns]"
      ],
      "text/html": "<div>\n<style scoped>\n    .dataframe tbody tr th:only-of-type {\n        vertical-align: middle;\n    }\n\n    .dataframe tbody tr th {\n        vertical-align: top;\n    }\n\n    .dataframe thead th {\n        text-align: right;\n    }\n</style>\n<table border=\"1\" class=\"dataframe\">\n  <thead>\n    <tr style=\"text-align: right;\">\n      <th></th>\n      <th>year</th>\n      <th>wrkstat</th>\n      <th>hrs1</th>\n      <th>hrs2</th>\n      <th>evwork</th>\n      <th>occ</th>\n      <th>prestige</th>\n      <th>wrkslf</th>\n      <th>wrkgovt</th>\n      <th>commute</th>\n      <th>...</th>\n      <th>preteen_miss</th>\n      <th>teens_miss</th>\n      <th>adults_miss</th>\n      <th>unrelat_miss</th>\n      <th>earnrs_miss</th>\n      <th>income_miss</th>\n      <th>rincome_miss</th>\n      <th>income86_miss</th>\n      <th>partyid_miss</th>\n      <th>polviews_miss</th>\n    </tr>\n  </thead>\n  <tbody>\n    <tr>\n      <th>10802</th>\n      <td>1994</td>\n      <td>keeping house</td>\n      <td>41.733318</td>\n      <td>38.613701</td>\n      <td>1</td>\n      <td>449.41599</td>\n      <td>40.335918</td>\n      <td>someone else</td>\n      <td>1.8203658</td>\n      <td>20.245865</td>\n      <td>...</td>\n      <td>0</td>\n      <td>0</td>\n      <td>0</td>\n      <td>0</td>\n      <td>0</td>\n      <td>0</td>\n      <td>1</td>\n      <td>1</td>\n      <td>0</td>\n      <td>0</td>\n    </tr>\n    <tr>\n      <th>10804</th>\n      <td>1994</td>\n      <td>working fulltime</td>\n      <td>50.000000</td>\n      <td>38.613701</td>\n      <td>1.1395408</td>\n      <td>449.41599</td>\n      <td>40.335918</td>\n      <td>someone else</td>\n      <td>1.8203658</td>\n      <td>20.245865</td>\n      <td>...</td>\n      <td>0</td>\n      <td>0</td>\n      <td>0</td>\n      <td>0</td>\n      <td>0</td>\n      <td>0</td>\n      <td>0</td>\n      <td>1</td>\n      <td>0</td>\n      <td>0</td>\n    </tr>\n    <tr>\n      <th>10809</th>\n      <td>1994</td>\n      <td>working fulltime</td>\n      <td>45.000000</td>\n      <td>38.613701</td>\n      <td>1.1395408</td>\n      <td>449.41599</td>\n      <td>40.335918</td>\n      <td>someone else</td>\n      <td>1.8203658</td>\n      <td>20.245865</td>\n      <td>...</td>\n      <td>0</td>\n      <td>0</td>\n      <td>0</td>\n      <td>1</td>\n      <td>0</td>\n      <td>0</td>\n      <td>0</td>\n      <td>1</td>\n      <td>0</td>\n      <td>0</td>\n    </tr>\n    <tr>\n      <th>10810</th>\n      <td>1994</td>\n      <td>working fulltime</td>\n      <td>40.000000</td>\n      <td>38.613701</td>\n      <td>1.1395408</td>\n      <td>449.41599</td>\n      <td>40.335918</td>\n      <td>someone else</td>\n      <td>1.8203658</td>\n      <td>20.245865</td>\n      <td>...</td>\n      <td>0</td>\n      <td>0</td>\n      <td>0</td>\n      <td>0</td>\n      <td>0</td>\n      <td>0</td>\n      <td>0</td>\n      <td>1</td>\n      <td>0</td>\n      <td>0</td>\n    </tr>\n    <tr>\n      <th>10812</th>\n      <td>1994</td>\n      <td>working fulltime</td>\n      <td>40.000000</td>\n      <td>38.613701</td>\n      <td>1.1395408</td>\n      <td>449.41599</td>\n      <td>40.335918</td>\n      <td>someone else</td>\n      <td>1.8203658</td>\n      <td>20.245865</td>\n      <td>...</td>\n      <td>0</td>\n      <td>0</td>\n      <td>0</td>\n      <td>1</td>\n      <td>0</td>\n      <td>0</td>\n      <td>0</td>\n      <td>1</td>\n      <td>0</td>\n      <td>0</td>\n    </tr>\n    <tr>\n      <th>...</th>\n      <td>...</td>\n      <td>...</td>\n      <td>...</td>\n      <td>...</td>\n      <td>...</td>\n      <td>...</td>\n      <td>...</td>\n      <td>...</td>\n      <td>...</td>\n      <td>...</td>\n      <td>...</td>\n      <td>...</td>\n      <td>...</td>\n      <td>...</td>\n      <td>...</td>\n      <td>...</td>\n      <td>...</td>\n      <td>...</td>\n      <td>...</td>\n      <td>...</td>\n      <td>...</td>\n    </tr>\n    <tr>\n      <th>13782</th>\n      <td>1994</td>\n      <td>other</td>\n      <td>41.733318</td>\n      <td>38.613701</td>\n      <td>1</td>\n      <td>449.41599</td>\n      <td>40.335918</td>\n      <td>someone else</td>\n      <td>1.8203658</td>\n      <td>20.245865</td>\n      <td>...</td>\n      <td>0</td>\n      <td>0</td>\n      <td>0</td>\n      <td>1</td>\n      <td>0</td>\n      <td>0</td>\n      <td>1</td>\n      <td>1</td>\n      <td>0</td>\n      <td>0</td>\n    </tr>\n    <tr>\n      <th>13783</th>\n      <td>1994</td>\n      <td>retired</td>\n      <td>41.733318</td>\n      <td>38.613701</td>\n      <td>1</td>\n      <td>449.41599</td>\n      <td>40.335918</td>\n      <td>1</td>\n      <td>1.8203658</td>\n      <td>20.245865</td>\n      <td>...</td>\n      <td>0</td>\n      <td>0</td>\n      <td>0</td>\n      <td>1</td>\n      <td>0</td>\n      <td>0</td>\n      <td>1</td>\n      <td>1</td>\n      <td>0</td>\n      <td>0</td>\n    </tr>\n    <tr>\n      <th>13788</th>\n      <td>1994</td>\n      <td>working fulltime</td>\n      <td>40.000000</td>\n      <td>38.613701</td>\n      <td>1.1395408</td>\n      <td>449.41599</td>\n      <td>40.335918</td>\n      <td>someone else</td>\n      <td>1.8203658</td>\n      <td>20.245865</td>\n      <td>...</td>\n      <td>0</td>\n      <td>0</td>\n      <td>0</td>\n      <td>0</td>\n      <td>0</td>\n      <td>0</td>\n      <td>0</td>\n      <td>1</td>\n      <td>0</td>\n      <td>0</td>\n    </tr>\n    <tr>\n      <th>13790</th>\n      <td>1994</td>\n      <td>retired</td>\n      <td>41.733318</td>\n      <td>38.613701</td>\n      <td>1</td>\n      <td>449.41599</td>\n      <td>40.335918</td>\n      <td>someone else</td>\n      <td>1.8203658</td>\n      <td>20.245865</td>\n      <td>...</td>\n      <td>0</td>\n      <td>0</td>\n      <td>0</td>\n      <td>0</td>\n      <td>0</td>\n      <td>0</td>\n      <td>1</td>\n      <td>1</td>\n      <td>0</td>\n      <td>0</td>\n    </tr>\n    <tr>\n      <th>13791</th>\n      <td>1994</td>\n      <td>working fulltime</td>\n      <td>40.000000</td>\n      <td>38.613701</td>\n      <td>1.1395408</td>\n      <td>449.41599</td>\n      <td>40.335918</td>\n      <td>someone else</td>\n      <td>1.8203658</td>\n      <td>20.245865</td>\n      <td>...</td>\n      <td>0</td>\n      <td>0</td>\n      <td>0</td>\n      <td>1</td>\n      <td>0</td>\n      <td>0</td>\n      <td>0</td>\n      <td>1</td>\n      <td>0</td>\n      <td>0</td>\n    </tr>\n  </tbody>\n</table>\n<p>1484 rows × 118 columns</p>\n</div>"
     },
     "metadata": {},
     "execution_count": 29
    }
   ],
   "source": [
    "welfare_raw.loc[(welfare_raw['year'] == 1994) & (welfare_raw['w'] == 1)]"
   ]
  },
  {
   "cell_type": "code",
   "execution_count": 3,
   "metadata": {},
   "outputs": [],
   "source": [
    "def cleanWelfare(welfare_raw):\n",
    "    welfare = welfare_raw.copy()\n",
    "\n",
    "    toClean = set(['commute', 'childs', 'age', 'preteen', 'adults', 'unrelat', 'earnrs'])\n",
    "    toEncode = set(['year', 'occ'])\n",
    "\n",
    "    encoders = {} # want a dictionary to keep track of columns and their encoded values so can decode when done\n",
    "\n",
    "    for column in welfare:\n",
    "        if '_' not in column:\n",
    "            if column in toEncode:\n",
    "                le = LabelEncoder()\n",
    "                le.fit(welfare[column])\n",
    "                welfare[column] = le.transform(welfare[column])\n",
    "                encoders[column] = le \n",
    "            elif column in toClean:\n",
    "                if column == 'commute':\n",
    "                    welfare[column] = pd.to_numeric(welfare[column].apply(lambda x: 97 if x == '97+ minutes' else x), errors='coerce')\n",
    "                elif column == 'childs' or column == 'earnrs':\n",
    "                    welfare[column] = pd.to_numeric(welfare[column].apply(lambda x: 8 if x == 'eight or more' else x), errors='coerce')\n",
    "                elif column == 'age':\n",
    "                    welfare[column] = pd.to_numeric(welfare[column].apply(lambda x: 89 if x == '89 or older' else x), errors='coerce')\n",
    "                elif column == 'preteen' or column == 'adults' or column =='unrelat':\n",
    "                    welfare[column] = pd.to_numeric(welfare[column].apply(lambda x: 8 if x == '8 or more' else x), errors='coerce')\n",
    "                else:\n",
    "                    continue # should never reach here\n",
    "                welfare[column] = normalize(welfare[column].values.reshape(1, -1))[0] # once column converted to float, normalize\n",
    "            else:\n",
    "                if welfare[column].dtype == welfare['teens'].dtype: # float64 column\n",
    "                    welfare[column] = normalize(welfare[column].values.reshape(1, -1))[0]\n",
    "                elif welfare[column].dtype == welfare['polviews'].dtype: # object column\n",
    "                    le = LabelEncoder()\n",
    "                    le.fit(welfare[column])\n",
    "                    welfare[column] = le.transform(welfare[column])\n",
    "                    encoders[column] = le \n",
    "                else:\n",
    "                    continue # should never reach here\n",
    "    return welfare, encoders"
   ]
  },
  {
   "cell_type": "code",
   "execution_count": 4,
   "metadata": {},
   "outputs": [],
   "source": [
    "welfare, encoders = cleanWelfare(welfare_raw)"
   ]
  },
  {
   "cell_type": "code",
   "execution_count": 5,
   "metadata": {},
   "outputs": [
    {
     "output_type": "execute_result",
     "data": {
      "text/plain": [
       "       year  wrkstat      hrs1      hrs2  evwork  occ  prestige  wrkslf  \\\n",
       "0         0        7  0.004845  0.005228       1  135  0.005641       2   \n",
       "1         0        1  0.005055  0.005228       0  106  0.006538       2   \n",
       "2         0        7  0.004845  0.005228       1   99  0.006538       2   \n",
       "3         0        3  0.005055  0.005228       0  142  0.004615       2   \n",
       "4         0        8  0.005055  0.005228       1  211  0.005171       2   \n",
       "...     ...      ...       ...       ...     ...  ...       ...     ...   \n",
       "36496    15        3  0.005055  0.005228       0  211  0.005171       2   \n",
       "36497    15        3  0.005055  0.005228       0  211  0.005171       2   \n",
       "36498    15        7  0.004845  0.005228       1  211  0.005171       2   \n",
       "36499    15        7  0.005935  0.005228       1  211  0.005171       2   \n",
       "36500    15        7  0.004845  0.005228       1  211  0.005171       2   \n",
       "\n",
       "       wrkgovt   commute  ...  preteen_miss  teens_miss  adults_miss  \\\n",
       "0            2  0.015315  ...             0           0            0   \n",
       "1            2  0.002552  ...             0           0            0   \n",
       "2            2  0.008934  ...             0           0            0   \n",
       "3            0  0.006381  ...             0           0            0   \n",
       "4            1  0.006381  ...             0           0            0   \n",
       "...        ...       ...  ...           ...         ...          ...   \n",
       "36496        2  0.005168  ...             0           0            0   \n",
       "36497        2  0.005168  ...             0           0            0   \n",
       "36498        2  0.005168  ...             0           0            0   \n",
       "36499        2  0.005168  ...             0           0            0   \n",
       "36500        2  0.005168  ...             0           0            0   \n",
       "\n",
       "       unrelat_miss  earnrs_miss  income_miss  rincome_miss  income86_miss  \\\n",
       "0                 0            0            0             0              0   \n",
       "1                 1            0            0             1              0   \n",
       "2                 1            0            0             0              0   \n",
       "3                 0            0            0             1              0   \n",
       "4                 0            0            0             0              0   \n",
       "...             ...          ...          ...           ...            ...   \n",
       "36496             0            0            0             1              1   \n",
       "36497             0            0            0             1              1   \n",
       "36498             1            0            0             0              1   \n",
       "36499             1            0            0             1              1   \n",
       "36500             1            0            0             0              1   \n",
       "\n",
       "       partyid_miss  polviews_miss  \n",
       "0                 0              0  \n",
       "1                 0              0  \n",
       "2                 0              0  \n",
       "3                 0              0  \n",
       "4                 0              0  \n",
       "...             ...            ...  \n",
       "36496             0              0  \n",
       "36497             0              0  \n",
       "36498             0              0  \n",
       "36499             0              0  \n",
       "36500             0              0  \n",
       "\n",
       "[36501 rows x 117 columns]"
      ],
      "text/html": "<div>\n<style scoped>\n    .dataframe tbody tr th:only-of-type {\n        vertical-align: middle;\n    }\n\n    .dataframe tbody tr th {\n        vertical-align: top;\n    }\n\n    .dataframe thead th {\n        text-align: right;\n    }\n</style>\n<table border=\"1\" class=\"dataframe\">\n  <thead>\n    <tr style=\"text-align: right;\">\n      <th></th>\n      <th>year</th>\n      <th>wrkstat</th>\n      <th>hrs1</th>\n      <th>hrs2</th>\n      <th>evwork</th>\n      <th>occ</th>\n      <th>prestige</th>\n      <th>wrkslf</th>\n      <th>wrkgovt</th>\n      <th>commute</th>\n      <th>...</th>\n      <th>preteen_miss</th>\n      <th>teens_miss</th>\n      <th>adults_miss</th>\n      <th>unrelat_miss</th>\n      <th>earnrs_miss</th>\n      <th>income_miss</th>\n      <th>rincome_miss</th>\n      <th>income86_miss</th>\n      <th>partyid_miss</th>\n      <th>polviews_miss</th>\n    </tr>\n  </thead>\n  <tbody>\n    <tr>\n      <th>0</th>\n      <td>0</td>\n      <td>7</td>\n      <td>0.004845</td>\n      <td>0.005228</td>\n      <td>1</td>\n      <td>135</td>\n      <td>0.005641</td>\n      <td>2</td>\n      <td>2</td>\n      <td>0.015315</td>\n      <td>...</td>\n      <td>0</td>\n      <td>0</td>\n      <td>0</td>\n      <td>0</td>\n      <td>0</td>\n      <td>0</td>\n      <td>0</td>\n      <td>0</td>\n      <td>0</td>\n      <td>0</td>\n    </tr>\n    <tr>\n      <th>1</th>\n      <td>0</td>\n      <td>1</td>\n      <td>0.005055</td>\n      <td>0.005228</td>\n      <td>0</td>\n      <td>106</td>\n      <td>0.006538</td>\n      <td>2</td>\n      <td>2</td>\n      <td>0.002552</td>\n      <td>...</td>\n      <td>0</td>\n      <td>0</td>\n      <td>0</td>\n      <td>1</td>\n      <td>0</td>\n      <td>0</td>\n      <td>1</td>\n      <td>0</td>\n      <td>0</td>\n      <td>0</td>\n    </tr>\n    <tr>\n      <th>2</th>\n      <td>0</td>\n      <td>7</td>\n      <td>0.004845</td>\n      <td>0.005228</td>\n      <td>1</td>\n      <td>99</td>\n      <td>0.006538</td>\n      <td>2</td>\n      <td>2</td>\n      <td>0.008934</td>\n      <td>...</td>\n      <td>0</td>\n      <td>0</td>\n      <td>0</td>\n      <td>1</td>\n      <td>0</td>\n      <td>0</td>\n      <td>0</td>\n      <td>0</td>\n      <td>0</td>\n      <td>0</td>\n    </tr>\n    <tr>\n      <th>3</th>\n      <td>0</td>\n      <td>3</td>\n      <td>0.005055</td>\n      <td>0.005228</td>\n      <td>0</td>\n      <td>142</td>\n      <td>0.004615</td>\n      <td>2</td>\n      <td>0</td>\n      <td>0.006381</td>\n      <td>...</td>\n      <td>0</td>\n      <td>0</td>\n      <td>0</td>\n      <td>0</td>\n      <td>0</td>\n      <td>0</td>\n      <td>1</td>\n      <td>0</td>\n      <td>0</td>\n      <td>0</td>\n    </tr>\n    <tr>\n      <th>4</th>\n      <td>0</td>\n      <td>8</td>\n      <td>0.005055</td>\n      <td>0.005228</td>\n      <td>1</td>\n      <td>211</td>\n      <td>0.005171</td>\n      <td>2</td>\n      <td>1</td>\n      <td>0.006381</td>\n      <td>...</td>\n      <td>0</td>\n      <td>0</td>\n      <td>0</td>\n      <td>0</td>\n      <td>0</td>\n      <td>0</td>\n      <td>0</td>\n      <td>0</td>\n      <td>0</td>\n      <td>0</td>\n    </tr>\n    <tr>\n      <th>...</th>\n      <td>...</td>\n      <td>...</td>\n      <td>...</td>\n      <td>...</td>\n      <td>...</td>\n      <td>...</td>\n      <td>...</td>\n      <td>...</td>\n      <td>...</td>\n      <td>...</td>\n      <td>...</td>\n      <td>...</td>\n      <td>...</td>\n      <td>...</td>\n      <td>...</td>\n      <td>...</td>\n      <td>...</td>\n      <td>...</td>\n      <td>...</td>\n      <td>...</td>\n      <td>...</td>\n    </tr>\n    <tr>\n      <th>36496</th>\n      <td>15</td>\n      <td>3</td>\n      <td>0.005055</td>\n      <td>0.005228</td>\n      <td>0</td>\n      <td>211</td>\n      <td>0.005171</td>\n      <td>2</td>\n      <td>2</td>\n      <td>0.005168</td>\n      <td>...</td>\n      <td>0</td>\n      <td>0</td>\n      <td>0</td>\n      <td>0</td>\n      <td>0</td>\n      <td>0</td>\n      <td>1</td>\n      <td>1</td>\n      <td>0</td>\n      <td>0</td>\n    </tr>\n    <tr>\n      <th>36497</th>\n      <td>15</td>\n      <td>3</td>\n      <td>0.005055</td>\n      <td>0.005228</td>\n      <td>0</td>\n      <td>211</td>\n      <td>0.005171</td>\n      <td>2</td>\n      <td>2</td>\n      <td>0.005168</td>\n      <td>...</td>\n      <td>0</td>\n      <td>0</td>\n      <td>0</td>\n      <td>0</td>\n      <td>0</td>\n      <td>0</td>\n      <td>1</td>\n      <td>1</td>\n      <td>0</td>\n      <td>0</td>\n    </tr>\n    <tr>\n      <th>36498</th>\n      <td>15</td>\n      <td>7</td>\n      <td>0.004845</td>\n      <td>0.005228</td>\n      <td>1</td>\n      <td>211</td>\n      <td>0.005171</td>\n      <td>2</td>\n      <td>2</td>\n      <td>0.005168</td>\n      <td>...</td>\n      <td>0</td>\n      <td>0</td>\n      <td>0</td>\n      <td>1</td>\n      <td>0</td>\n      <td>0</td>\n      <td>0</td>\n      <td>1</td>\n      <td>0</td>\n      <td>0</td>\n    </tr>\n    <tr>\n      <th>36499</th>\n      <td>15</td>\n      <td>7</td>\n      <td>0.005935</td>\n      <td>0.005228</td>\n      <td>1</td>\n      <td>211</td>\n      <td>0.005171</td>\n      <td>2</td>\n      <td>2</td>\n      <td>0.005168</td>\n      <td>...</td>\n      <td>0</td>\n      <td>0</td>\n      <td>0</td>\n      <td>1</td>\n      <td>0</td>\n      <td>0</td>\n      <td>1</td>\n      <td>1</td>\n      <td>0</td>\n      <td>0</td>\n    </tr>\n    <tr>\n      <th>36500</th>\n      <td>15</td>\n      <td>7</td>\n      <td>0.004845</td>\n      <td>0.005228</td>\n      <td>1</td>\n      <td>211</td>\n      <td>0.005171</td>\n      <td>2</td>\n      <td>2</td>\n      <td>0.005168</td>\n      <td>...</td>\n      <td>0</td>\n      <td>0</td>\n      <td>0</td>\n      <td>1</td>\n      <td>0</td>\n      <td>0</td>\n      <td>0</td>\n      <td>1</td>\n      <td>0</td>\n      <td>0</td>\n    </tr>\n  </tbody>\n</table>\n<p>36501 rows × 117 columns</p>\n</div>"
     },
     "metadata": {},
     "execution_count": 5
    }
   ],
   "source": [
    "welfare"
   ]
  },
  {
   "cell_type": "code",
   "execution_count": 6,
   "metadata": {},
   "outputs": [],
   "source": [
    "def estimate_grf(y, X, treatments, test_size=0.2, criterion='mse'):\n",
    "    # split data into train and test sets \n",
    "    X_train, X_test, Y_train, Y_test, T_train, T_test = train_test_split(X, y, treatments, test_size=test_size)\n",
    "        \n",
    "    # specify hyperparams of model\n",
    "    est = CausalForest(criterion='mse', n_estimators=1000,       \n",
    "                          min_samples_leaf=1, \n",
    "                          max_depth=100, max_samples=0.5,\n",
    "                          honest=True, inference=True)\n",
    "\n",
    "    # fit model\n",
    "    est.fit(X_train, T_train, Y_train)\n",
    "    \n",
    "    predict, sigma = est.predict_and_var(X_test)\n",
    "    \n",
    "    return est, predict, sigma"
   ]
  },
  {
   "cell_type": "code",
   "execution_count": 7,
   "metadata": {},
   "outputs": [
    {
     "output_type": "execute_result",
     "data": {
      "text/plain": [
       "(CausalForest(max_depth=100, max_samples=0.5, min_samples_leaf=1,\n",
       "              n_estimators=1000),\n",
       " array([[-0.34794342],\n",
       "        [-0.39940418],\n",
       "        [-0.41102332],\n",
       "        ...,\n",
       "        [-0.21771259],\n",
       "        [-0.39153576],\n",
       "        [-0.38058778]]),\n",
       " array([[[0.00120943]],\n",
       " \n",
       "        [[0.00455745]],\n",
       " \n",
       "        [[0.00716188]],\n",
       " \n",
       "        ...,\n",
       " \n",
       "        [[0.00173717]],\n",
       " \n",
       "        [[0.00500777]],\n",
       " \n",
       "        [[0.00829434]]]))"
      ]
     },
     "metadata": {},
     "execution_count": 7
    }
   ],
   "source": [
    "X_train, X_test, Y_train, Y_test, T_train, T_test = train_test_split(welfare, labels, treatments, test_size=0.2)\n",
    "        \n",
    "# specify hyperparams of model\n",
    "est = CausalForest(criterion='mse', n_estimators=1000,       \n",
    "                        min_samples_leaf=1, \n",
    "                        max_depth=100, max_samples=0.5,\n",
    "                        honest=True, inference=True)\n",
    "\n",
    "# fit model\n",
    "est.fit(X_train, T_train, Y_train)\n",
    "\n",
    "predict, sigma = est.predict_and_var(X_test)\n",
    "\n",
    "est, predict, sigma"
   ]
  },
  {
   "cell_type": "code",
   "execution_count": 17,
   "metadata": {},
   "outputs": [
    {
     "output_type": "execute_result",
     "data": {
      "text/plain": [
       "array([[-0.34794342],\n",
       "       [-0.39940418],\n",
       "       [-0.41102332],\n",
       "       ...,\n",
       "       [-0.21771259],\n",
       "       [-0.39153576],\n",
       "       [-0.38058778]])"
      ]
     },
     "metadata": {},
     "execution_count": 17
    }
   ],
   "source": [
    "predict"
   ]
  },
  {
   "cell_type": "code",
   "execution_count": 12,
   "metadata": {},
   "outputs": [
    {
     "output_type": "execute_result",
     "data": {
      "text/plain": [
       "array([6.77124612e-02, 2.59356593e-02, 1.13682537e-02, 1.25588969e-07,\n",
       "       8.25922436e-04, 5.16261503e-04, 6.18278268e-04, 5.02850348e-04,\n",
       "       6.30179504e-04, 4.00157686e-05, 6.24363622e-03, 3.56612378e-03,\n",
       "       3.50695068e-03, 3.75480525e-04, 1.63536528e-03, 3.17623538e-04,\n",
       "       2.77305091e-04, 3.90356471e-03, 1.76013660e-03, 0.00000000e+00,\n",
       "       6.69925600e-05, 1.07542026e-02, 1.76370612e-03, 5.79108434e-03,\n",
       "       2.47369986e-03, 8.62069507e-04, 8.14868114e-03, 1.53541012e-03,\n",
       "       5.54400837e-03, 2.47052016e-03, 1.73622849e-03, 1.39597599e-03,\n",
       "       1.61799844e-03, 1.80106213e-03, 8.78475161e-04, 8.48296906e-03,\n",
       "       2.26973683e-04, 5.07863760e-01, 1.37394636e-03, 1.25501719e-03,\n",
       "       8.18551094e-04, 1.73133793e-03, 3.82325892e-04, 1.35844972e-04,\n",
       "       4.43645648e-04, 9.64355088e-04, 1.26252755e-03, 7.92911847e-04,\n",
       "       2.71508445e-04, 2.29415599e-04, 3.12208323e-04, 4.70882245e-04,\n",
       "       2.58490127e-04, 2.53191884e-03, 6.65136911e-03, 1.18878390e-02,\n",
       "       5.87486560e-04, 2.37974747e-01, 2.16610849e-03, 0.00000000e+00,\n",
       "       1.52717788e-02, 1.65345159e-05, 2.31284109e-03, 0.00000000e+00,\n",
       "       0.00000000e+00, 2.38721541e-05, 6.96340124e-03, 0.00000000e+00,\n",
       "       1.05212634e-04, 0.00000000e+00, 5.53190464e-05, 0.00000000e+00,\n",
       "       2.68929091e-04, 1.13356432e-04, 3.61821376e-04, 2.15973315e-06,\n",
       "       6.21225649e-04, 0.00000000e+00, 1.52392151e-04, 4.22126998e-05,\n",
       "       0.00000000e+00, 5.99516799e-05, 0.00000000e+00, 0.00000000e+00,\n",
       "       0.00000000e+00, 1.24552703e-04, 0.00000000e+00, 1.90986814e-04,\n",
       "       9.02161096e-05, 7.25653420e-05, 0.00000000e+00, 2.02364920e-04,\n",
       "       5.24967082e-05, 1.23946512e-04, 0.00000000e+00, 0.00000000e+00,\n",
       "       0.00000000e+00, 0.00000000e+00, 1.45532114e-05, 4.65471345e-07,\n",
       "       1.50067040e-03, 6.82717968e-05, 0.00000000e+00, 2.86309263e-07,\n",
       "       5.58404173e-04, 0.00000000e+00, 0.00000000e+00, 0.00000000e+00,\n",
       "       0.00000000e+00, 0.00000000e+00, 1.57956529e-04, 0.00000000e+00,\n",
       "       0.00000000e+00, 4.53970254e-03, 8.24421168e-05, 0.00000000e+00,\n",
       "       1.96660346e-04])"
      ]
     },
     "metadata": {},
     "execution_count": 12
    }
   ],
   "source": [
    "est.feature_importances()"
   ]
  },
  {
   "cell_type": "code",
   "execution_count": 15,
   "metadata": {},
   "outputs": [],
   "source": [
    "raw = pd.read_stata(\"GSS7214_R3.DTA\", convert_categoricals=False)"
   ]
  },
  {
   "cell_type": "code",
   "execution_count": 19,
   "metadata": {},
   "outputs": [
    {
     "output_type": "execute_result",
     "data": {
      "text/plain": [
       "3.0    15947\n",
       "2.0    10260\n",
       "1.0     6775\n",
       "Name: natfare, dtype: int64"
      ]
     },
     "metadata": {},
     "execution_count": 19
    }
   ],
   "source": [
    "raw['natfare'].value_counts()"
   ]
  },
  {
   "cell_type": "code",
   "execution_count": null,
   "metadata": {},
   "outputs": [],
   "source": []
  }
 ]
}