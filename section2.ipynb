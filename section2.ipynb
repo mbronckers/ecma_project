{
 "metadata": {
  "language_info": {
   "codemirror_mode": {
    "name": "ipython",
    "version": 3
   },
   "file_extension": ".py",
   "mimetype": "text/x-python",
   "name": "python",
   "nbconvert_exporter": "python",
   "pygments_lexer": "ipython3",
   "version": "3.7.7"
  },
  "orig_nbformat": 2,
  "kernelspec": {
   "name": "python377jvsc74a57bd0254ebfd476bc3fc79ad5c8b426190fe7c8c50894e6b0352342e1dad3387876d5",
   "display_name": "Python 3.7.7 64-bit ('econ21340-env': conda)"
  },
  "metadata": {
   "interpreter": {
    "hash": "4cd7ab41f5fca4b9b44701077e38c5ffd31fe66a6cab21e0214b68d958d0e462"
   }
  }
 },
 "nbformat": 4,
 "nbformat_minor": 2,
 "cells": [
  {
   "source": [
    "# Section 2: Running Causal Forests on GSS data"
   ],
   "cell_type": "markdown",
   "metadata": {}
  },
  {
   "cell_type": "code",
   "execution_count": 1,
   "metadata": {},
   "outputs": [],
   "source": [
    "import numpy as np\n",
    "import pandas as pd\n",
    "import matplotlib.pyplot as plt\n",
    "from tqdm.auto import tqdm\n",
    "from copy import deepcopy\n",
    "\n",
    "from sklearn.preprocessing import LabelEncoder, normalize\n",
    "from sklearn.model_selection import train_test_split\n",
    "from sklearn.tree import DecisionTreeRegressor\n",
    "from econml.grf import CausalForest\n",
    "from sklearn.linear_model import LassoCV\n",
    "\n",
    "import warnings\n",
    "warnings.filterwarnings(\"ignore\")"
   ]
  },
  {
   "source": [
    "## Loading and Cleaning data"
   ],
   "cell_type": "markdown",
   "metadata": {}
  },
  {
   "cell_type": "code",
   "execution_count": 2,
   "metadata": {},
   "outputs": [
    {
     "output_type": "execute_result",
     "data": {
      "text/plain": [
       "       year           wrkstat       hrs1       hrs2     evwork        occ  \\\n",
       "0      1986  working fulltime  40.000000  38.613701  1.1395408  270.00000   \n",
       "1      1986     keeping house  41.733318  38.613701          1  195.00000   \n",
       "2      1986  working fulltime  40.000000  38.613701  1.1395408  184.00000   \n",
       "3      1986           retired  41.733318  38.613701          1  311.00000   \n",
       "4      1986  working parttime  41.733318  38.613701  1.1395408  449.41599   \n",
       "...     ...               ...        ...        ...        ...        ...   \n",
       "36496  2010           retired  41.733318  38.613701          1  449.41599   \n",
       "36497  2010           retired  41.733318  38.613701          1  449.41599   \n",
       "36498  2010  working fulltime  40.000000  38.613701  1.1395408  449.41599   \n",
       "36499  2010  working fulltime  49.000000  38.613701  1.1395408  449.41599   \n",
       "36500  2010  working fulltime  40.000000  38.613701  1.1395408  449.41599   \n",
       "\n",
       "        prestige        wrkslf    wrkgovt    commute  ... preteen_miss  \\\n",
       "0      44.000000  someone else    private         60  ...            0   \n",
       "1      51.000000  someone else    private         10  ...            0   \n",
       "2      51.000000  someone else    private         35  ...            0   \n",
       "3      36.000000  someone else          1         25  ...            0   \n",
       "4      40.335918  someone else  1.8203658         25  ...            0   \n",
       "...          ...           ...        ...        ...  ...          ...   \n",
       "36496  40.335918  someone else    private  20.245865  ...            0   \n",
       "36497  40.335918  someone else    private  20.245865  ...            0   \n",
       "36498  40.335918  someone else    private  20.245865  ...            0   \n",
       "36499  40.335918  someone else    private  20.245865  ...            0   \n",
       "36500  40.335918  someone else    private  20.245865  ...            0   \n",
       "\n",
       "       teens_miss adults_miss unrelat_miss  earnrs_miss income_miss  \\\n",
       "0               0           0            0            0           0   \n",
       "1               0           0            1            0           0   \n",
       "2               0           0            1            0           0   \n",
       "3               0           0            0            0           0   \n",
       "4               0           0            0            0           0   \n",
       "...           ...         ...          ...          ...         ...   \n",
       "36496           0           0            0            0           0   \n",
       "36497           0           0            0            0           0   \n",
       "36498           0           0            1            0           0   \n",
       "36499           0           0            1            0           0   \n",
       "36500           0           0            1            0           0   \n",
       "\n",
       "      rincome_miss income86_miss  partyid_miss  polviews_miss  \n",
       "0                0             0             0              0  \n",
       "1                1             0             0              0  \n",
       "2                0             0             0              0  \n",
       "3                1             0             0              0  \n",
       "4                0             0             0              0  \n",
       "...            ...           ...           ...            ...  \n",
       "36496            1             1             0              0  \n",
       "36497            1             1             0              0  \n",
       "36498            0             1             0              0  \n",
       "36499            1             1             0              0  \n",
       "36500            0             1             0              0  \n",
       "\n",
       "[36501 rows x 117 columns]"
      ],
      "text/html": "<div>\n<style scoped>\n    .dataframe tbody tr th:only-of-type {\n        vertical-align: middle;\n    }\n\n    .dataframe tbody tr th {\n        vertical-align: top;\n    }\n\n    .dataframe thead th {\n        text-align: right;\n    }\n</style>\n<table border=\"1\" class=\"dataframe\">\n  <thead>\n    <tr style=\"text-align: right;\">\n      <th></th>\n      <th>year</th>\n      <th>wrkstat</th>\n      <th>hrs1</th>\n      <th>hrs2</th>\n      <th>evwork</th>\n      <th>occ</th>\n      <th>prestige</th>\n      <th>wrkslf</th>\n      <th>wrkgovt</th>\n      <th>commute</th>\n      <th>...</th>\n      <th>preteen_miss</th>\n      <th>teens_miss</th>\n      <th>adults_miss</th>\n      <th>unrelat_miss</th>\n      <th>earnrs_miss</th>\n      <th>income_miss</th>\n      <th>rincome_miss</th>\n      <th>income86_miss</th>\n      <th>partyid_miss</th>\n      <th>polviews_miss</th>\n    </tr>\n  </thead>\n  <tbody>\n    <tr>\n      <th>0</th>\n      <td>1986</td>\n      <td>working fulltime</td>\n      <td>40.000000</td>\n      <td>38.613701</td>\n      <td>1.1395408</td>\n      <td>270.00000</td>\n      <td>44.000000</td>\n      <td>someone else</td>\n      <td>private</td>\n      <td>60</td>\n      <td>...</td>\n      <td>0</td>\n      <td>0</td>\n      <td>0</td>\n      <td>0</td>\n      <td>0</td>\n      <td>0</td>\n      <td>0</td>\n      <td>0</td>\n      <td>0</td>\n      <td>0</td>\n    </tr>\n    <tr>\n      <th>1</th>\n      <td>1986</td>\n      <td>keeping house</td>\n      <td>41.733318</td>\n      <td>38.613701</td>\n      <td>1</td>\n      <td>195.00000</td>\n      <td>51.000000</td>\n      <td>someone else</td>\n      <td>private</td>\n      <td>10</td>\n      <td>...</td>\n      <td>0</td>\n      <td>0</td>\n      <td>0</td>\n      <td>1</td>\n      <td>0</td>\n      <td>0</td>\n      <td>1</td>\n      <td>0</td>\n      <td>0</td>\n      <td>0</td>\n    </tr>\n    <tr>\n      <th>2</th>\n      <td>1986</td>\n      <td>working fulltime</td>\n      <td>40.000000</td>\n      <td>38.613701</td>\n      <td>1.1395408</td>\n      <td>184.00000</td>\n      <td>51.000000</td>\n      <td>someone else</td>\n      <td>private</td>\n      <td>35</td>\n      <td>...</td>\n      <td>0</td>\n      <td>0</td>\n      <td>0</td>\n      <td>1</td>\n      <td>0</td>\n      <td>0</td>\n      <td>0</td>\n      <td>0</td>\n      <td>0</td>\n      <td>0</td>\n    </tr>\n    <tr>\n      <th>3</th>\n      <td>1986</td>\n      <td>retired</td>\n      <td>41.733318</td>\n      <td>38.613701</td>\n      <td>1</td>\n      <td>311.00000</td>\n      <td>36.000000</td>\n      <td>someone else</td>\n      <td>1</td>\n      <td>25</td>\n      <td>...</td>\n      <td>0</td>\n      <td>0</td>\n      <td>0</td>\n      <td>0</td>\n      <td>0</td>\n      <td>0</td>\n      <td>1</td>\n      <td>0</td>\n      <td>0</td>\n      <td>0</td>\n    </tr>\n    <tr>\n      <th>4</th>\n      <td>1986</td>\n      <td>working parttime</td>\n      <td>41.733318</td>\n      <td>38.613701</td>\n      <td>1.1395408</td>\n      <td>449.41599</td>\n      <td>40.335918</td>\n      <td>someone else</td>\n      <td>1.8203658</td>\n      <td>25</td>\n      <td>...</td>\n      <td>0</td>\n      <td>0</td>\n      <td>0</td>\n      <td>0</td>\n      <td>0</td>\n      <td>0</td>\n      <td>0</td>\n      <td>0</td>\n      <td>0</td>\n      <td>0</td>\n    </tr>\n    <tr>\n      <th>...</th>\n      <td>...</td>\n      <td>...</td>\n      <td>...</td>\n      <td>...</td>\n      <td>...</td>\n      <td>...</td>\n      <td>...</td>\n      <td>...</td>\n      <td>...</td>\n      <td>...</td>\n      <td>...</td>\n      <td>...</td>\n      <td>...</td>\n      <td>...</td>\n      <td>...</td>\n      <td>...</td>\n      <td>...</td>\n      <td>...</td>\n      <td>...</td>\n      <td>...</td>\n      <td>...</td>\n    </tr>\n    <tr>\n      <th>36496</th>\n      <td>2010</td>\n      <td>retired</td>\n      <td>41.733318</td>\n      <td>38.613701</td>\n      <td>1</td>\n      <td>449.41599</td>\n      <td>40.335918</td>\n      <td>someone else</td>\n      <td>private</td>\n      <td>20.245865</td>\n      <td>...</td>\n      <td>0</td>\n      <td>0</td>\n      <td>0</td>\n      <td>0</td>\n      <td>0</td>\n      <td>0</td>\n      <td>1</td>\n      <td>1</td>\n      <td>0</td>\n      <td>0</td>\n    </tr>\n    <tr>\n      <th>36497</th>\n      <td>2010</td>\n      <td>retired</td>\n      <td>41.733318</td>\n      <td>38.613701</td>\n      <td>1</td>\n      <td>449.41599</td>\n      <td>40.335918</td>\n      <td>someone else</td>\n      <td>private</td>\n      <td>20.245865</td>\n      <td>...</td>\n      <td>0</td>\n      <td>0</td>\n      <td>0</td>\n      <td>0</td>\n      <td>0</td>\n      <td>0</td>\n      <td>1</td>\n      <td>1</td>\n      <td>0</td>\n      <td>0</td>\n    </tr>\n    <tr>\n      <th>36498</th>\n      <td>2010</td>\n      <td>working fulltime</td>\n      <td>40.000000</td>\n      <td>38.613701</td>\n      <td>1.1395408</td>\n      <td>449.41599</td>\n      <td>40.335918</td>\n      <td>someone else</td>\n      <td>private</td>\n      <td>20.245865</td>\n      <td>...</td>\n      <td>0</td>\n      <td>0</td>\n      <td>0</td>\n      <td>1</td>\n      <td>0</td>\n      <td>0</td>\n      <td>0</td>\n      <td>1</td>\n      <td>0</td>\n      <td>0</td>\n    </tr>\n    <tr>\n      <th>36499</th>\n      <td>2010</td>\n      <td>working fulltime</td>\n      <td>49.000000</td>\n      <td>38.613701</td>\n      <td>1.1395408</td>\n      <td>449.41599</td>\n      <td>40.335918</td>\n      <td>someone else</td>\n      <td>private</td>\n      <td>20.245865</td>\n      <td>...</td>\n      <td>0</td>\n      <td>0</td>\n      <td>0</td>\n      <td>1</td>\n      <td>0</td>\n      <td>0</td>\n      <td>1</td>\n      <td>1</td>\n      <td>0</td>\n      <td>0</td>\n    </tr>\n    <tr>\n      <th>36500</th>\n      <td>2010</td>\n      <td>working fulltime</td>\n      <td>40.000000</td>\n      <td>38.613701</td>\n      <td>1.1395408</td>\n      <td>449.41599</td>\n      <td>40.335918</td>\n      <td>someone else</td>\n      <td>private</td>\n      <td>20.245865</td>\n      <td>...</td>\n      <td>0</td>\n      <td>0</td>\n      <td>0</td>\n      <td>1</td>\n      <td>0</td>\n      <td>0</td>\n      <td>0</td>\n      <td>1</td>\n      <td>0</td>\n      <td>0</td>\n    </tr>\n  </tbody>\n</table>\n<p>36501 rows × 117 columns</p>\n</div>"
     },
     "metadata": {},
     "execution_count": 2
    }
   ],
   "source": [
    "# w = 0 means the question had \"assistance\", w = 1 means the question had \"welfare\"\n",
    "# y = 0 means the responder said no, y = 1 means yes\n",
    "welfare_raw = pd.read_csv(\"welfarelabel.csv\", low_memory=False)\n",
    "labels = welfare_raw['y'].values\n",
    "treatments = welfare_raw['w']\n",
    "treatments = treatments.replace({0:1, 1:0}) # we want 1 to be assistance, and 0 to be welfare, so if the TE is positive then it means people responded favorably to assistance\n",
    "welfare_raw.drop(columns=[\"_merge\", 'y', 'id', 'w'], inplace=True)\n",
    "welfare_raw"
   ]
  },
  {
   "cell_type": "code",
   "execution_count": 3,
   "metadata": {},
   "outputs": [
    {
     "output_type": "execute_result",
     "data": {
      "text/plain": [
       "       year  wrkstat      hrs1      hrs2  evwork  occ  prestige  wrkslf  \\\n",
       "0         0        7  0.004845  0.005228       1  135  0.005641       2   \n",
       "1         0        1  0.005055  0.005228       0  106  0.006538       2   \n",
       "2         0        7  0.004845  0.005228       1   99  0.006538       2   \n",
       "3         0        3  0.005055  0.005228       0  142  0.004615       2   \n",
       "4         0        8  0.005055  0.005228       1  211  0.005171       2   \n",
       "...     ...      ...       ...       ...     ...  ...       ...     ...   \n",
       "36496    15        3  0.005055  0.005228       0  211  0.005171       2   \n",
       "36497    15        3  0.005055  0.005228       0  211  0.005171       2   \n",
       "36498    15        7  0.004845  0.005228       1  211  0.005171       2   \n",
       "36499    15        7  0.005935  0.005228       1  211  0.005171       2   \n",
       "36500    15        7  0.004845  0.005228       1  211  0.005171       2   \n",
       "\n",
       "       wrkgovt   commute  ...  preteen_miss  teens_miss  adults_miss  \\\n",
       "0            2  0.015315  ...             0           0            0   \n",
       "1            2  0.002552  ...             0           0            0   \n",
       "2            2  0.008934  ...             0           0            0   \n",
       "3            0  0.006381  ...             0           0            0   \n",
       "4            1  0.006381  ...             0           0            0   \n",
       "...        ...       ...  ...           ...         ...          ...   \n",
       "36496        2  0.005168  ...             0           0            0   \n",
       "36497        2  0.005168  ...             0           0            0   \n",
       "36498        2  0.005168  ...             0           0            0   \n",
       "36499        2  0.005168  ...             0           0            0   \n",
       "36500        2  0.005168  ...             0           0            0   \n",
       "\n",
       "       unrelat_miss  earnrs_miss  income_miss  rincome_miss  income86_miss  \\\n",
       "0                 0            0            0             0              0   \n",
       "1                 1            0            0             1              0   \n",
       "2                 1            0            0             0              0   \n",
       "3                 0            0            0             1              0   \n",
       "4                 0            0            0             0              0   \n",
       "...             ...          ...          ...           ...            ...   \n",
       "36496             0            0            0             1              1   \n",
       "36497             0            0            0             1              1   \n",
       "36498             1            0            0             0              1   \n",
       "36499             1            0            0             1              1   \n",
       "36500             1            0            0             0              1   \n",
       "\n",
       "       partyid_miss  polviews_miss  \n",
       "0                 0              0  \n",
       "1                 0              0  \n",
       "2                 0              0  \n",
       "3                 0              0  \n",
       "4                 0              0  \n",
       "...             ...            ...  \n",
       "36496             0              0  \n",
       "36497             0              0  \n",
       "36498             0              0  \n",
       "36499             0              0  \n",
       "36500             0              0  \n",
       "\n",
       "[36501 rows x 117 columns]"
      ],
      "text/html": "<div>\n<style scoped>\n    .dataframe tbody tr th:only-of-type {\n        vertical-align: middle;\n    }\n\n    .dataframe tbody tr th {\n        vertical-align: top;\n    }\n\n    .dataframe thead th {\n        text-align: right;\n    }\n</style>\n<table border=\"1\" class=\"dataframe\">\n  <thead>\n    <tr style=\"text-align: right;\">\n      <th></th>\n      <th>year</th>\n      <th>wrkstat</th>\n      <th>hrs1</th>\n      <th>hrs2</th>\n      <th>evwork</th>\n      <th>occ</th>\n      <th>prestige</th>\n      <th>wrkslf</th>\n      <th>wrkgovt</th>\n      <th>commute</th>\n      <th>...</th>\n      <th>preteen_miss</th>\n      <th>teens_miss</th>\n      <th>adults_miss</th>\n      <th>unrelat_miss</th>\n      <th>earnrs_miss</th>\n      <th>income_miss</th>\n      <th>rincome_miss</th>\n      <th>income86_miss</th>\n      <th>partyid_miss</th>\n      <th>polviews_miss</th>\n    </tr>\n  </thead>\n  <tbody>\n    <tr>\n      <th>0</th>\n      <td>0</td>\n      <td>7</td>\n      <td>0.004845</td>\n      <td>0.005228</td>\n      <td>1</td>\n      <td>135</td>\n      <td>0.005641</td>\n      <td>2</td>\n      <td>2</td>\n      <td>0.015315</td>\n      <td>...</td>\n      <td>0</td>\n      <td>0</td>\n      <td>0</td>\n      <td>0</td>\n      <td>0</td>\n      <td>0</td>\n      <td>0</td>\n      <td>0</td>\n      <td>0</td>\n      <td>0</td>\n    </tr>\n    <tr>\n      <th>1</th>\n      <td>0</td>\n      <td>1</td>\n      <td>0.005055</td>\n      <td>0.005228</td>\n      <td>0</td>\n      <td>106</td>\n      <td>0.006538</td>\n      <td>2</td>\n      <td>2</td>\n      <td>0.002552</td>\n      <td>...</td>\n      <td>0</td>\n      <td>0</td>\n      <td>0</td>\n      <td>1</td>\n      <td>0</td>\n      <td>0</td>\n      <td>1</td>\n      <td>0</td>\n      <td>0</td>\n      <td>0</td>\n    </tr>\n    <tr>\n      <th>2</th>\n      <td>0</td>\n      <td>7</td>\n      <td>0.004845</td>\n      <td>0.005228</td>\n      <td>1</td>\n      <td>99</td>\n      <td>0.006538</td>\n      <td>2</td>\n      <td>2</td>\n      <td>0.008934</td>\n      <td>...</td>\n      <td>0</td>\n      <td>0</td>\n      <td>0</td>\n      <td>1</td>\n      <td>0</td>\n      <td>0</td>\n      <td>0</td>\n      <td>0</td>\n      <td>0</td>\n      <td>0</td>\n    </tr>\n    <tr>\n      <th>3</th>\n      <td>0</td>\n      <td>3</td>\n      <td>0.005055</td>\n      <td>0.005228</td>\n      <td>0</td>\n      <td>142</td>\n      <td>0.004615</td>\n      <td>2</td>\n      <td>0</td>\n      <td>0.006381</td>\n      <td>...</td>\n      <td>0</td>\n      <td>0</td>\n      <td>0</td>\n      <td>0</td>\n      <td>0</td>\n      <td>0</td>\n      <td>1</td>\n      <td>0</td>\n      <td>0</td>\n      <td>0</td>\n    </tr>\n    <tr>\n      <th>4</th>\n      <td>0</td>\n      <td>8</td>\n      <td>0.005055</td>\n      <td>0.005228</td>\n      <td>1</td>\n      <td>211</td>\n      <td>0.005171</td>\n      <td>2</td>\n      <td>1</td>\n      <td>0.006381</td>\n      <td>...</td>\n      <td>0</td>\n      <td>0</td>\n      <td>0</td>\n      <td>0</td>\n      <td>0</td>\n      <td>0</td>\n      <td>0</td>\n      <td>0</td>\n      <td>0</td>\n      <td>0</td>\n    </tr>\n    <tr>\n      <th>...</th>\n      <td>...</td>\n      <td>...</td>\n      <td>...</td>\n      <td>...</td>\n      <td>...</td>\n      <td>...</td>\n      <td>...</td>\n      <td>...</td>\n      <td>...</td>\n      <td>...</td>\n      <td>...</td>\n      <td>...</td>\n      <td>...</td>\n      <td>...</td>\n      <td>...</td>\n      <td>...</td>\n      <td>...</td>\n      <td>...</td>\n      <td>...</td>\n      <td>...</td>\n      <td>...</td>\n    </tr>\n    <tr>\n      <th>36496</th>\n      <td>15</td>\n      <td>3</td>\n      <td>0.005055</td>\n      <td>0.005228</td>\n      <td>0</td>\n      <td>211</td>\n      <td>0.005171</td>\n      <td>2</td>\n      <td>2</td>\n      <td>0.005168</td>\n      <td>...</td>\n      <td>0</td>\n      <td>0</td>\n      <td>0</td>\n      <td>0</td>\n      <td>0</td>\n      <td>0</td>\n      <td>1</td>\n      <td>1</td>\n      <td>0</td>\n      <td>0</td>\n    </tr>\n    <tr>\n      <th>36497</th>\n      <td>15</td>\n      <td>3</td>\n      <td>0.005055</td>\n      <td>0.005228</td>\n      <td>0</td>\n      <td>211</td>\n      <td>0.005171</td>\n      <td>2</td>\n      <td>2</td>\n      <td>0.005168</td>\n      <td>...</td>\n      <td>0</td>\n      <td>0</td>\n      <td>0</td>\n      <td>0</td>\n      <td>0</td>\n      <td>0</td>\n      <td>1</td>\n      <td>1</td>\n      <td>0</td>\n      <td>0</td>\n    </tr>\n    <tr>\n      <th>36498</th>\n      <td>15</td>\n      <td>7</td>\n      <td>0.004845</td>\n      <td>0.005228</td>\n      <td>1</td>\n      <td>211</td>\n      <td>0.005171</td>\n      <td>2</td>\n      <td>2</td>\n      <td>0.005168</td>\n      <td>...</td>\n      <td>0</td>\n      <td>0</td>\n      <td>0</td>\n      <td>1</td>\n      <td>0</td>\n      <td>0</td>\n      <td>0</td>\n      <td>1</td>\n      <td>0</td>\n      <td>0</td>\n    </tr>\n    <tr>\n      <th>36499</th>\n      <td>15</td>\n      <td>7</td>\n      <td>0.005935</td>\n      <td>0.005228</td>\n      <td>1</td>\n      <td>211</td>\n      <td>0.005171</td>\n      <td>2</td>\n      <td>2</td>\n      <td>0.005168</td>\n      <td>...</td>\n      <td>0</td>\n      <td>0</td>\n      <td>0</td>\n      <td>1</td>\n      <td>0</td>\n      <td>0</td>\n      <td>1</td>\n      <td>1</td>\n      <td>0</td>\n      <td>0</td>\n    </tr>\n    <tr>\n      <th>36500</th>\n      <td>15</td>\n      <td>7</td>\n      <td>0.004845</td>\n      <td>0.005228</td>\n      <td>1</td>\n      <td>211</td>\n      <td>0.005171</td>\n      <td>2</td>\n      <td>2</td>\n      <td>0.005168</td>\n      <td>...</td>\n      <td>0</td>\n      <td>0</td>\n      <td>0</td>\n      <td>1</td>\n      <td>0</td>\n      <td>0</td>\n      <td>0</td>\n      <td>1</td>\n      <td>0</td>\n      <td>0</td>\n    </tr>\n  </tbody>\n</table>\n<p>36501 rows × 117 columns</p>\n</div>"
     },
     "metadata": {},
     "execution_count": 3
    }
   ],
   "source": [
    "def cleanWelfare(welfare_raw):\n",
    "    welfare = welfare_raw.copy()\n",
    "\n",
    "    toClean = set(['commute', 'childs', 'age', 'preteen', 'adults', 'unrelat', 'earnrs'])\n",
    "    toEncode = set(['year', 'occ'])\n",
    "\n",
    "    encoders = {} # want a dictionary to keep track of columns and their encoded values so can decode when done\n",
    "\n",
    "    for column in welfare:\n",
    "        if '_' not in column:\n",
    "            if column in toEncode:\n",
    "                le = LabelEncoder()\n",
    "                le.fit(welfare[column])\n",
    "                welfare[column] = le.transform(welfare[column])\n",
    "                encoders[column] = le \n",
    "            elif column in toClean:\n",
    "                if column == 'commute':\n",
    "                    welfare[column] = pd.to_numeric(welfare[column].apply(lambda x: 97 if x == '97+ minutes' else x), errors='coerce')\n",
    "                elif column == 'childs' or column == 'earnrs':\n",
    "                    welfare[column] = pd.to_numeric(welfare[column].apply(lambda x: 8 if x == 'eight or more' else x), errors='coerce')\n",
    "                elif column == 'age':\n",
    "                    welfare[column] = pd.to_numeric(welfare[column].apply(lambda x: 89 if x == '89 or older' else x), errors='coerce')\n",
    "                elif column == 'preteen' or column == 'adults' or column =='unrelat':\n",
    "                    welfare[column] = pd.to_numeric(welfare[column].apply(lambda x: 8 if x == '8 or more' else x), errors='coerce')\n",
    "                else:\n",
    "                    continue # should never reach here\n",
    "                welfare[column] = normalize(welfare[column].values.reshape(1, -1))[0] # once column converted to float, normalize\n",
    "            else:\n",
    "                if welfare[column].dtype == welfare['teens'].dtype: # float64 column\n",
    "                    welfare[column] = normalize(welfare[column].values.reshape(1, -1))[0]\n",
    "                elif welfare[column].dtype == welfare['polviews'].dtype: # object column\n",
    "                    le = LabelEncoder()\n",
    "                    le.fit(welfare[column])\n",
    "                    welfare[column] = le.transform(welfare[column])\n",
    "                    encoders[column] = le \n",
    "                else:\n",
    "                    continue # should never reach here\n",
    "    return welfare, encoders\n",
    "\n",
    "welfare, encoders = cleanWelfare(welfare_raw)\n",
    "welfare"
   ]
  },
  {
   "source": [
    "## Estimating ATE and its CI"
   ],
   "cell_type": "markdown",
   "metadata": {}
  },
  {
   "cell_type": "code",
   "execution_count": 22,
   "metadata": {},
   "outputs": [
    {
     "output_type": "execute_result",
     "data": {
      "text/plain": [
       "<econml.dml.causal_forest.CausalForestDML at 0x7fe35692d150>"
      ]
     },
     "metadata": {},
     "execution_count": 22
    }
   ],
   "source": [
    "from econml.dml import CausalForestDML\n",
    "\n",
    "# set parameters for causal forest \n",
    "causal_forest = CausalForestDML(criterion='het', \n",
    "                                n_estimators=1000,       \n",
    "                                min_samples_leaf=10, \n",
    "                                max_depth=None, \n",
    "                                max_samples=0.5,\n",
    "                                discrete_treatment=True,\n",
    "                                honest=True,\n",
    "                                inference=True,\n",
    "                                cv=5,\n",
    "                                )\n",
    "\n",
    "X_train, X_test, Y_train, Y_test, T_train, T_test = train_test_split(welfare, labels, treatments, test_size=0.2)\n",
    "\n",
    "causal_forest.fit(Y_train, T_train, X=X_train, W=None)"
   ]
  },
  {
   "cell_type": "code",
   "execution_count": 25,
   "metadata": {},
   "outputs": [
    {
     "output_type": "execute_result",
     "data": {
      "text/plain": [
       "<econml.inference._inference.PopulationSummaryResults at 0x7fe330c444d0>"
      ],
      "text/html": "<table class=\"simpletable\">\n<caption>Uncertainty of Mean Point Estimate</caption>\n<tr>\n  <th>mean_point</th> <th>stderr_mean</th> <th>zstat</th> <th>pvalue</th> <th>ci_mean_lower</th> <th>ci_mean_upper</th>\n</tr>\n<tr>\n     <td>0.328</td>      <td>0.037</td>    <td>8.786</td>   <td>0.0</td>      <td>0.267</td>         <td>0.389</td>    \n</tr>\n</table>\n<table class=\"simpletable\">\n<caption>Distribution of Point Estimate</caption>\n<tr>\n  <th>std_point</th> <th>pct_point_lower</th> <th>pct_point_upper</th>\n</tr>\n<tr>\n    <td>0.053</td>        <td>0.233</td>           <td>0.412</td>     \n</tr>\n</table>\n<table class=\"simpletable\">\n<caption>Total Variance of Point Estimate</caption>\n<tr>\n  <th>stderr_point</th> <th>ci_point_lower</th> <th>ci_point_upper</th>\n</tr>\n<tr>\n      <td>0.065</td>         <td>0.218</td>          <td>0.433</td>    \n</tr>\n</table><br/><br/>Note: The stderr_mean is a conservative upper bound."
     },
     "metadata": {},
     "execution_count": 25
    }
   ],
   "source": [
    "causal_forest.ate_inference(X_test)"
   ]
  },
  {
   "cell_type": "code",
   "execution_count": 29,
   "metadata": {},
   "outputs": [
    {
     "output_type": "execute_result",
     "data": {
      "text/plain": [
       "['w_1']"
      ]
     },
     "metadata": {},
     "execution_count": 29
    }
   ],
   "source": [
    "causal_forest.cate_treatment_names()"
   ]
  },
  {
   "cell_type": "code",
   "execution_count": null,
   "metadata": {},
   "outputs": [],
   "source": [
    "X_train, X_test, Y_train, Y_test, T_train, T_test = train_test_split(X, y, treatments, test_size=test_size)\n",
    "        \n",
    "# specify hyperparams of model\n",
    "est = CausalForest(criterion='mse', n_estimators=1000,       \n",
    "                        min_samples_leaf=1, \n",
    "                        max_depth=100, max_samples=0.5,\n",
    "                        honest=True, inference=True)\n",
    "\n",
    "# fit model\n",
    "est.fit(X_train, T_train, Y_train)"
   ]
  },
  {
   "cell_type": "code",
   "execution_count": 4,
   "metadata": {},
   "outputs": [],
   "source": [
    "def estimate_grf(y, X, treatments, test_size=0.2, criterion='mse'):\n",
    "    # split data into train and test sets \n",
    "    X_train, X_test, Y_train, Y_test, T_train, T_test = train_test_split(X, y, treatments, test_size=test_size)\n",
    "        \n",
    "    # specify hyperparams of model\n",
    "    est = CausalForest(criterion='mse', n_estimators=1000,       \n",
    "                          min_samples_leaf=1, \n",
    "                          max_depth=100, max_samples=0.5,\n",
    "                          honest=True, inference=True)\n",
    "\n",
    "    # fit model\n",
    "    est.fit(X_train, T_train, Y_train)\n",
    "    \n",
    "    ites, lbs, ubs = est.predict(X_test, interval=True)\n",
    "    \n",
    "    return est, ites, lbs, ubs, X_test"
   ]
  },
  {
   "cell_type": "code",
   "execution_count": 5,
   "metadata": {},
   "outputs": [],
   "source": [
    "def aggregateITES(ites, lbs, ubs):\n",
    "    ate = ites.mean()\n",
    "    lb = lbs.mean()\n",
    "    ub = ubs.mean()\n",
    "    return ate, lb, ub"
   ]
  },
  {
   "cell_type": "code",
   "execution_count": 6,
   "metadata": {},
   "outputs": [
    {
     "output_type": "stream",
     "name": "stdout",
     "text": [
      "The test ATE is equal to: 0.33067534013305305\nWith a 95% confidence interval of (0.22433458486886984,0.4370160953972363)\n"
     ]
    }
   ],
   "source": [
    "est_ATE, ites_ATE, lbs_ATE, ubs_ATE, X_test_ATE = estimate_grf(labels, welfare, treatments)\n",
    "ate_ATE, lb_ATE, ub_ATE = aggregateITES(ites_ATE, lbs_ATE, ubs_ATE)\n",
    "print(\"The test ATE is equal to:\", ate_ATE)\n",
    "print(\"With a 95% confidence interval of (\" + str(lb_ATE) + \", \" + str(ub_ATE) + \")\")"
   ]
  },
  {
   "cell_type": "code",
   "execution_count": 15,
   "metadata": {},
   "outputs": [
    {
     "output_type": "error",
     "ename": "AttributeError",
     "evalue": "'CausalForest' object has no attribute 'predict_moment'",
     "traceback": [
      "\u001b[0;31m---------------------------------------------------------------------------\u001b[0m",
      "\u001b[0;31mAttributeError\u001b[0m                            Traceback (most recent call last)",
      "\u001b[0;32m<ipython-input-15-68d903d892f9>\u001b[0m in \u001b[0;36m<module>\u001b[0;34m\u001b[0m\n\u001b[0;32m----> 1\u001b[0;31m \u001b[0mest_ATE\u001b[0m\u001b[0;34m.\u001b[0m\u001b[0mpredict_moment\u001b[0m\u001b[0;34m(\u001b[0m\u001b[0mX_test_ATE\u001b[0m\u001b[0;34m)\u001b[0m\u001b[0;34m\u001b[0m\u001b[0;34m\u001b[0m\u001b[0m\n\u001b[0m",
      "\u001b[0;31mAttributeError\u001b[0m: 'CausalForest' object has no attribute 'predict_moment'"
     ]
    }
   ],
   "source": [
    "est_ATE.predict_moment(X_test_ATE)"
   ]
  },
  {
   "source": [
    "## CATES for Party Identification"
   ],
   "cell_type": "markdown",
   "metadata": {}
  },
  {
   "cell_type": "code",
   "execution_count": 7,
   "metadata": {},
   "outputs": [
    {
     "output_type": "execute_result",
     "data": {
      "text/plain": [
       "not str democrat      7093\n",
       "not str republican    5969\n",
       "independent           5859\n",
       "strong democrat       5666\n",
       "ind,near dem          4110\n",
       "strong republican     3880\n",
       "ind,near rep          3196\n",
       "other party            512\n",
       "2.8216343              216\n",
       "Name: partyid, dtype: int64"
      ]
     },
     "metadata": {},
     "execution_count": 7
    }
   ],
   "source": [
    "# view all partyid types\n",
    "welfare_raw['partyid'].value_counts()"
   ]
  },
  {
   "cell_type": "code",
   "execution_count": 8,
   "metadata": {},
   "outputs": [
    {
     "output_type": "execute_result",
     "data": {
      "text/plain": [
       "4    7093\n",
       "5    5969\n",
       "3    5859\n",
       "7    5666\n",
       "1    4110\n",
       "8    3880\n",
       "2    3196\n",
       "6     512\n",
       "0     216\n",
       "Name: partyid, dtype: int64"
      ]
     },
     "metadata": {},
     "execution_count": 8
    }
   ],
   "source": [
    "# view the corresponding numerical encodings for the cleaned data\n",
    "welfare['partyid'].value_counts()"
   ]
  },
  {
   "cell_type": "code",
   "execution_count": 11,
   "metadata": {},
   "outputs": [
    {
     "output_type": "execute_result",
     "data": {
      "text/plain": [
       "['not str democrat',\n",
       " 'not str republican',\n",
       " 'independent',\n",
       " 'strong democrat',\n",
       " 'ind,near dem',\n",
       " 'strong republican',\n",
       " 'ind,near rep',\n",
       " 'other party']"
      ]
     },
     "metadata": {},
     "execution_count": 11
    }
   ],
   "source": [
    "partyid_le = encoders['partyid']\n",
    "partyids = list(welfare_raw['partyid'].value_counts().index)[:-1] # drop last one because it's a nonmeaningful number\n",
    "notStrongDem \n",
    "notStrongRep\n"
   ]
  },
  {
   "cell_type": "code",
   "execution_count": 12,
   "metadata": {},
   "outputs": [],
   "source": [
    "partyid_le = encoders['partyid']\n"
   ]
  },
  {
   "source": [],
   "cell_type": "markdown",
   "metadata": {}
  },
  {
   "cell_type": "code",
   "execution_count": 12,
   "metadata": {},
   "outputs": [
    {
     "output_type": "execute_result",
     "data": {
      "text/plain": [
       "array([6.77124612e-02, 2.59356593e-02, 1.13682537e-02, 1.25588969e-07,\n",
       "       8.25922436e-04, 5.16261503e-04, 6.18278268e-04, 5.02850348e-04,\n",
       "       6.30179504e-04, 4.00157686e-05, 6.24363622e-03, 3.56612378e-03,\n",
       "       3.50695068e-03, 3.75480525e-04, 1.63536528e-03, 3.17623538e-04,\n",
       "       2.77305091e-04, 3.90356471e-03, 1.76013660e-03, 0.00000000e+00,\n",
       "       6.69925600e-05, 1.07542026e-02, 1.76370612e-03, 5.79108434e-03,\n",
       "       2.47369986e-03, 8.62069507e-04, 8.14868114e-03, 1.53541012e-03,\n",
       "       5.54400837e-03, 2.47052016e-03, 1.73622849e-03, 1.39597599e-03,\n",
       "       1.61799844e-03, 1.80106213e-03, 8.78475161e-04, 8.48296906e-03,\n",
       "       2.26973683e-04, 5.07863760e-01, 1.37394636e-03, 1.25501719e-03,\n",
       "       8.18551094e-04, 1.73133793e-03, 3.82325892e-04, 1.35844972e-04,\n",
       "       4.43645648e-04, 9.64355088e-04, 1.26252755e-03, 7.92911847e-04,\n",
       "       2.71508445e-04, 2.29415599e-04, 3.12208323e-04, 4.70882245e-04,\n",
       "       2.58490127e-04, 2.53191884e-03, 6.65136911e-03, 1.18878390e-02,\n",
       "       5.87486560e-04, 2.37974747e-01, 2.16610849e-03, 0.00000000e+00,\n",
       "       1.52717788e-02, 1.65345159e-05, 2.31284109e-03, 0.00000000e+00,\n",
       "       0.00000000e+00, 2.38721541e-05, 6.96340124e-03, 0.00000000e+00,\n",
       "       1.05212634e-04, 0.00000000e+00, 5.53190464e-05, 0.00000000e+00,\n",
       "       2.68929091e-04, 1.13356432e-04, 3.61821376e-04, 2.15973315e-06,\n",
       "       6.21225649e-04, 0.00000000e+00, 1.52392151e-04, 4.22126998e-05,\n",
       "       0.00000000e+00, 5.99516799e-05, 0.00000000e+00, 0.00000000e+00,\n",
       "       0.00000000e+00, 1.24552703e-04, 0.00000000e+00, 1.90986814e-04,\n",
       "       9.02161096e-05, 7.25653420e-05, 0.00000000e+00, 2.02364920e-04,\n",
       "       5.24967082e-05, 1.23946512e-04, 0.00000000e+00, 0.00000000e+00,\n",
       "       0.00000000e+00, 0.00000000e+00, 1.45532114e-05, 4.65471345e-07,\n",
       "       1.50067040e-03, 6.82717968e-05, 0.00000000e+00, 2.86309263e-07,\n",
       "       5.58404173e-04, 0.00000000e+00, 0.00000000e+00, 0.00000000e+00,\n",
       "       0.00000000e+00, 0.00000000e+00, 1.57956529e-04, 0.00000000e+00,\n",
       "       0.00000000e+00, 4.53970254e-03, 8.24421168e-05, 0.00000000e+00,\n",
       "       1.96660346e-04])"
      ]
     },
     "metadata": {},
     "execution_count": 12
    }
   ],
   "source": [
    "est.feature_importances()"
   ]
  }
 ]
}