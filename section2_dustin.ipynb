{
 "cells": [
  {
   "cell_type": "markdown",
   "metadata": {},
   "source": [
    "# Section 2: Analyzing Causal Forests on Simulated Data similar to GSS data "
   ]
  },
  {
   "cell_type": "code",
   "execution_count": 1,
   "metadata": {},
   "outputs": [],
   "source": [
    "import random\n",
    "import numpy as np\n",
    "import pandas as pd\n",
    "import matplotlib.pyplot as plt\n",
    "\n",
    "from sklearn.preprocessing import PolynomialFeatures\n",
    "from sklearn.model_selection import train_test_split\n",
    "from econml.dml import CausalForestDML\n",
    "from tqdm.auto import tqdm\n",
    "\n",
    "from copy import deepcopy\n",
    "import joblib\n",
    "import warnings\n",
    "import joblib\n",
    "import math\n",
    "warnings.filterwarnings(\"ignore\")\n",
    "\n",
    "def fullDisplay():\n",
    "    pd.set_option(\"display.max_rows\", None, \"display.max_columns\", None)\n",
    "\n",
    "def defaultDisplay():\n",
    "    pd.reset_option('^display.', silent=True)"
   ]
  },
  {
   "cell_type": "markdown",
   "metadata": {},
   "source": [
    "## Loading data"
   ]
  },
  {
   "cell_type": "code",
   "execution_count": 2,
   "metadata": {},
   "outputs": [
    {
     "data": {
      "text/html": [
       "<div>\n",
       "<style scoped>\n",
       "    .dataframe tbody tr th:only-of-type {\n",
       "        vertical-align: middle;\n",
       "    }\n",
       "\n",
       "    .dataframe tbody tr th {\n",
       "        vertical-align: top;\n",
       "    }\n",
       "\n",
       "    .dataframe thead th {\n",
       "        text-align: right;\n",
       "    }\n",
       "</style>\n",
       "<table border=\"1\" class=\"dataframe\">\n",
       "  <thead>\n",
       "    <tr style=\"text-align: right;\">\n",
       "      <th></th>\n",
       "      <th>year</th>\n",
       "      <th>id</th>\n",
       "      <th>wrkstat</th>\n",
       "      <th>hrs1</th>\n",
       "      <th>hrs2</th>\n",
       "      <th>evwork</th>\n",
       "      <th>occ</th>\n",
       "      <th>prestige</th>\n",
       "      <th>wrkslf</th>\n",
       "      <th>wrkgovt</th>\n",
       "      <th>...</th>\n",
       "      <th>adults_miss</th>\n",
       "      <th>unrelat_miss</th>\n",
       "      <th>earnrs_miss</th>\n",
       "      <th>income_miss</th>\n",
       "      <th>rincome_miss</th>\n",
       "      <th>income86_miss</th>\n",
       "      <th>partyid_miss</th>\n",
       "      <th>polviews_miss</th>\n",
       "      <th>attblack</th>\n",
       "      <th>attblack_miss</th>\n",
       "    </tr>\n",
       "  </thead>\n",
       "  <tbody>\n",
       "    <tr>\n",
       "      <th>0</th>\n",
       "      <td>0</td>\n",
       "      <td>1</td>\n",
       "      <td>7</td>\n",
       "      <td>0.004845</td>\n",
       "      <td>0.005228</td>\n",
       "      <td>1</td>\n",
       "      <td>135</td>\n",
       "      <td>0.005641</td>\n",
       "      <td>2</td>\n",
       "      <td>2</td>\n",
       "      <td>...</td>\n",
       "      <td>0</td>\n",
       "      <td>0</td>\n",
       "      <td>0</td>\n",
       "      <td>0</td>\n",
       "      <td>0</td>\n",
       "      <td>0</td>\n",
       "      <td>0</td>\n",
       "      <td>0</td>\n",
       "      <td>0.005440</td>\n",
       "      <td>0</td>\n",
       "    </tr>\n",
       "    <tr>\n",
       "      <th>1</th>\n",
       "      <td>0</td>\n",
       "      <td>2</td>\n",
       "      <td>1</td>\n",
       "      <td>0.005055</td>\n",
       "      <td>0.005228</td>\n",
       "      <td>0</td>\n",
       "      <td>106</td>\n",
       "      <td>0.006538</td>\n",
       "      <td>2</td>\n",
       "      <td>2</td>\n",
       "      <td>...</td>\n",
       "      <td>0</td>\n",
       "      <td>1</td>\n",
       "      <td>0</td>\n",
       "      <td>0</td>\n",
       "      <td>1</td>\n",
       "      <td>0</td>\n",
       "      <td>0</td>\n",
       "      <td>0</td>\n",
       "      <td>0.004080</td>\n",
       "      <td>0</td>\n",
       "    </tr>\n",
       "    <tr>\n",
       "      <th>2</th>\n",
       "      <td>0</td>\n",
       "      <td>3</td>\n",
       "      <td>7</td>\n",
       "      <td>0.004845</td>\n",
       "      <td>0.005228</td>\n",
       "      <td>1</td>\n",
       "      <td>99</td>\n",
       "      <td>0.006538</td>\n",
       "      <td>2</td>\n",
       "      <td>2</td>\n",
       "      <td>...</td>\n",
       "      <td>0</td>\n",
       "      <td>1</td>\n",
       "      <td>0</td>\n",
       "      <td>0</td>\n",
       "      <td>0</td>\n",
       "      <td>0</td>\n",
       "      <td>0</td>\n",
       "      <td>0</td>\n",
       "      <td>0.002040</td>\n",
       "      <td>0</td>\n",
       "    </tr>\n",
       "    <tr>\n",
       "      <th>3</th>\n",
       "      <td>0</td>\n",
       "      <td>4</td>\n",
       "      <td>3</td>\n",
       "      <td>0.005055</td>\n",
       "      <td>0.005228</td>\n",
       "      <td>0</td>\n",
       "      <td>142</td>\n",
       "      <td>0.004615</td>\n",
       "      <td>2</td>\n",
       "      <td>0</td>\n",
       "      <td>...</td>\n",
       "      <td>0</td>\n",
       "      <td>0</td>\n",
       "      <td>0</td>\n",
       "      <td>0</td>\n",
       "      <td>1</td>\n",
       "      <td>0</td>\n",
       "      <td>0</td>\n",
       "      <td>0</td>\n",
       "      <td>0.004080</td>\n",
       "      <td>0</td>\n",
       "    </tr>\n",
       "    <tr>\n",
       "      <th>4</th>\n",
       "      <td>0</td>\n",
       "      <td>5</td>\n",
       "      <td>8</td>\n",
       "      <td>0.005055</td>\n",
       "      <td>0.005228</td>\n",
       "      <td>1</td>\n",
       "      <td>211</td>\n",
       "      <td>0.005171</td>\n",
       "      <td>2</td>\n",
       "      <td>1</td>\n",
       "      <td>...</td>\n",
       "      <td>0</td>\n",
       "      <td>0</td>\n",
       "      <td>0</td>\n",
       "      <td>0</td>\n",
       "      <td>0</td>\n",
       "      <td>0</td>\n",
       "      <td>0</td>\n",
       "      <td>0</td>\n",
       "      <td>0.004080</td>\n",
       "      <td>0</td>\n",
       "    </tr>\n",
       "    <tr>\n",
       "      <th>...</th>\n",
       "      <td>...</td>\n",
       "      <td>...</td>\n",
       "      <td>...</td>\n",
       "      <td>...</td>\n",
       "      <td>...</td>\n",
       "      <td>...</td>\n",
       "      <td>...</td>\n",
       "      <td>...</td>\n",
       "      <td>...</td>\n",
       "      <td>...</td>\n",
       "      <td>...</td>\n",
       "      <td>...</td>\n",
       "      <td>...</td>\n",
       "      <td>...</td>\n",
       "      <td>...</td>\n",
       "      <td>...</td>\n",
       "      <td>...</td>\n",
       "      <td>...</td>\n",
       "      <td>...</td>\n",
       "      <td>...</td>\n",
       "      <td>...</td>\n",
       "    </tr>\n",
       "    <tr>\n",
       "      <th>36496</th>\n",
       "      <td>15</td>\n",
       "      <td>2040</td>\n",
       "      <td>3</td>\n",
       "      <td>0.005055</td>\n",
       "      <td>0.005228</td>\n",
       "      <td>0</td>\n",
       "      <td>211</td>\n",
       "      <td>0.005171</td>\n",
       "      <td>2</td>\n",
       "      <td>2</td>\n",
       "      <td>...</td>\n",
       "      <td>0</td>\n",
       "      <td>0</td>\n",
       "      <td>0</td>\n",
       "      <td>0</td>\n",
       "      <td>1</td>\n",
       "      <td>1</td>\n",
       "      <td>0</td>\n",
       "      <td>0</td>\n",
       "      <td>0.004080</td>\n",
       "      <td>0</td>\n",
       "    </tr>\n",
       "    <tr>\n",
       "      <th>36497</th>\n",
       "      <td>15</td>\n",
       "      <td>2041</td>\n",
       "      <td>3</td>\n",
       "      <td>0.005055</td>\n",
       "      <td>0.005228</td>\n",
       "      <td>0</td>\n",
       "      <td>211</td>\n",
       "      <td>0.005171</td>\n",
       "      <td>2</td>\n",
       "      <td>2</td>\n",
       "      <td>...</td>\n",
       "      <td>0</td>\n",
       "      <td>0</td>\n",
       "      <td>0</td>\n",
       "      <td>0</td>\n",
       "      <td>1</td>\n",
       "      <td>1</td>\n",
       "      <td>0</td>\n",
       "      <td>0</td>\n",
       "      <td>0.006120</td>\n",
       "      <td>0</td>\n",
       "    </tr>\n",
       "    <tr>\n",
       "      <th>36498</th>\n",
       "      <td>15</td>\n",
       "      <td>2042</td>\n",
       "      <td>7</td>\n",
       "      <td>0.004845</td>\n",
       "      <td>0.005228</td>\n",
       "      <td>1</td>\n",
       "      <td>211</td>\n",
       "      <td>0.005171</td>\n",
       "      <td>2</td>\n",
       "      <td>2</td>\n",
       "      <td>...</td>\n",
       "      <td>0</td>\n",
       "      <td>1</td>\n",
       "      <td>0</td>\n",
       "      <td>0</td>\n",
       "      <td>0</td>\n",
       "      <td>1</td>\n",
       "      <td>0</td>\n",
       "      <td>0</td>\n",
       "      <td>0.004080</td>\n",
       "      <td>0</td>\n",
       "    </tr>\n",
       "    <tr>\n",
       "      <th>36499</th>\n",
       "      <td>15</td>\n",
       "      <td>2043</td>\n",
       "      <td>7</td>\n",
       "      <td>0.005935</td>\n",
       "      <td>0.005228</td>\n",
       "      <td>1</td>\n",
       "      <td>211</td>\n",
       "      <td>0.005171</td>\n",
       "      <td>2</td>\n",
       "      <td>2</td>\n",
       "      <td>...</td>\n",
       "      <td>0</td>\n",
       "      <td>1</td>\n",
       "      <td>0</td>\n",
       "      <td>0</td>\n",
       "      <td>1</td>\n",
       "      <td>1</td>\n",
       "      <td>0</td>\n",
       "      <td>0</td>\n",
       "      <td>0.005021</td>\n",
       "      <td>1</td>\n",
       "    </tr>\n",
       "    <tr>\n",
       "      <th>36500</th>\n",
       "      <td>15</td>\n",
       "      <td>2044</td>\n",
       "      <td>7</td>\n",
       "      <td>0.004845</td>\n",
       "      <td>0.005228</td>\n",
       "      <td>1</td>\n",
       "      <td>211</td>\n",
       "      <td>0.005171</td>\n",
       "      <td>2</td>\n",
       "      <td>2</td>\n",
       "      <td>...</td>\n",
       "      <td>0</td>\n",
       "      <td>1</td>\n",
       "      <td>0</td>\n",
       "      <td>0</td>\n",
       "      <td>0</td>\n",
       "      <td>1</td>\n",
       "      <td>0</td>\n",
       "      <td>0</td>\n",
       "      <td>0.008160</td>\n",
       "      <td>0</td>\n",
       "    </tr>\n",
       "  </tbody>\n",
       "</table>\n",
       "<p>36501 rows × 120 columns</p>\n",
       "</div>"
      ],
      "text/plain": [
       "       year    id  wrkstat      hrs1      hrs2  evwork  occ  prestige  wrkslf  \\\n",
       "0         0     1        7  0.004845  0.005228       1  135  0.005641       2   \n",
       "1         0     2        1  0.005055  0.005228       0  106  0.006538       2   \n",
       "2         0     3        7  0.004845  0.005228       1   99  0.006538       2   \n",
       "3         0     4        3  0.005055  0.005228       0  142  0.004615       2   \n",
       "4         0     5        8  0.005055  0.005228       1  211  0.005171       2   \n",
       "...     ...   ...      ...       ...       ...     ...  ...       ...     ...   \n",
       "36496    15  2040        3  0.005055  0.005228       0  211  0.005171       2   \n",
       "36497    15  2041        3  0.005055  0.005228       0  211  0.005171       2   \n",
       "36498    15  2042        7  0.004845  0.005228       1  211  0.005171       2   \n",
       "36499    15  2043        7  0.005935  0.005228       1  211  0.005171       2   \n",
       "36500    15  2044        7  0.004845  0.005228       1  211  0.005171       2   \n",
       "\n",
       "       wrkgovt  ...  adults_miss  unrelat_miss  earnrs_miss  income_miss  \\\n",
       "0            2  ...            0             0            0            0   \n",
       "1            2  ...            0             1            0            0   \n",
       "2            2  ...            0             1            0            0   \n",
       "3            0  ...            0             0            0            0   \n",
       "4            1  ...            0             0            0            0   \n",
       "...        ...  ...          ...           ...          ...          ...   \n",
       "36496        2  ...            0             0            0            0   \n",
       "36497        2  ...            0             0            0            0   \n",
       "36498        2  ...            0             1            0            0   \n",
       "36499        2  ...            0             1            0            0   \n",
       "36500        2  ...            0             1            0            0   \n",
       "\n",
       "       rincome_miss  income86_miss  partyid_miss  polviews_miss  attblack  \\\n",
       "0                 0              0             0              0  0.005440   \n",
       "1                 1              0             0              0  0.004080   \n",
       "2                 0              0             0              0  0.002040   \n",
       "3                 1              0             0              0  0.004080   \n",
       "4                 0              0             0              0  0.004080   \n",
       "...             ...            ...           ...            ...       ...   \n",
       "36496             1              1             0              0  0.004080   \n",
       "36497             1              1             0              0  0.006120   \n",
       "36498             0              1             0              0  0.004080   \n",
       "36499             1              1             0              0  0.005021   \n",
       "36500             0              1             0              0  0.008160   \n",
       "\n",
       "       attblack_miss  \n",
       "0                  0  \n",
       "1                  0  \n",
       "2                  0  \n",
       "3                  0  \n",
       "4                  0  \n",
       "...              ...  \n",
       "36496              0  \n",
       "36497              0  \n",
       "36498              0  \n",
       "36499              1  \n",
       "36500              0  \n",
       "\n",
       "[36501 rows x 120 columns]"
      ]
     },
     "execution_count": 2,
     "metadata": {},
     "output_type": "execute_result"
    }
   ],
   "source": [
    "welfare = pd.read_csv(\"Data/welfare_clean.csv\", low_memory=False)\n",
    "treatments = welfare['w']\n",
    "labels = welfare['y']\n",
    "welfare.drop(columns=['w', 'y'], inplace=True)\n",
    "welfare"
   ]
  },
  {
   "cell_type": "markdown",
   "metadata": {},
   "source": [
    "## DGP, Estimation, and Evaluation functions"
   ]
  },
  {
   "cell_type": "code",
   "execution_count": 29,
   "metadata": {
    "tags": []
   },
   "outputs": [],
   "source": [
    "def dgp(welfare, effect_type=\"heterogeneous\", effect_homogeneous=10, effect_heterogeneous=2,\n",
    "        treatment_type=\"binary\", treatment_probability=0.5, heterogeneous_select=4, overlap=True,\n",
    "        overlap_percent=0.5, order=3, linearity=\"med\", N=5000, treatment_cutoff_val=0.0, \n",
    "        compute_cate=False, cate_feature=\"race\", nBins=5):    \n",
    "    \n",
    "    featureNames = list(welfare.columns)\n",
    "\n",
    "    # Define non-confounders\n",
    "    importantFeatureNames = ['wrkstat', 'race', 'year', 'hrs1', 'income', 'occ80', 'id', 'educ'] # top 8 important features based on Shapley visualization from \n",
    "    importantFeatureIndices = []\n",
    "    for name in importantFeatureNames:\n",
    "        importantFeatureIndices.append(featureNames.index(name)) \n",
    "\n",
    "    # Error terms\n",
    "    error = np.random.normal(size=(N,1))\n",
    "\n",
    "    # Data generation\n",
    "    cov = welfare.cov()\n",
    "    means = welfare.mean(axis=0)\n",
    "    X = np.random.multivariate_normal(means.values, cov, size=N, check_valid='warn', tol=1e-8)\n",
    "    \n",
    "    # Linearity specification\n",
    "    if linearity != 'full':\n",
    "        select = 0 # select n most important features for interactions and polynomials\n",
    "        poly = PolynomialFeatures(degree=order, interaction_only=False, include_bias=False)\n",
    "\n",
    "        if linearity == \"high\": \n",
    "            select = 2\n",
    "        elif linearity == \"med\": \n",
    "            select = 4\n",
    "        elif linearity == \"low\": \n",
    "            select = 8\n",
    "        else: # if some typo, assume baseline of high\n",
    "            select = 2\n",
    "\n",
    "        # Interaction term calculation for outcome Y\n",
    "        poly.fit(X[:, importantFeatureIndices[:select]])\n",
    "        fullData = poly.transform(X[:, importantFeatureIndices[:select]])\n",
    "        fullNames = poly.get_feature_names(input_features=importantFeatureNames[:select])\n",
    "        higherData = fullData[:, -(fullData.shape[1] - select):] # select only higher order\n",
    "        higherNames = fullNames[-(len(fullNames) - select):]\n",
    "\n",
    "        X = np.append(X, higherData, axis=1) \n",
    "        featureNames.extend(list(higherNames))\n",
    "\n",
    "    # Treatment selection\n",
    "    if treatment_type == \"binary\":\n",
    "        # randomly assigned treatments with propensity treatment_probability\n",
    "        treatments = np.random.choice([0, 1], size=N, p=[1 - treatment_probability, treatment_probability]).reshape((-1, 1))\n",
    "        if not overlap:\n",
    "            forced = random.sample(list(np.arange(treatments.shape[0])), int(treatments.shape[0] * overlap_percent))\n",
    "            treatments[forced] = 0\n",
    "        treated = treatments > 0\n",
    "\n",
    "        # generate counterfactual treatment indicator vector\n",
    "        c_treatments = deepcopy(treatments)\n",
    "        c_treatments[treatments == 0] = 1\n",
    "        c_treatments[treatments == 1] = 0\n",
    "    else:\n",
    "        low = 0\n",
    "        high = 1\n",
    "        treatments = np.random.uniform(low, high, size=(N, 1))\n",
    "        if not overlap:\n",
    "            forced = random.sample(list(np.arange(treatments.shape[0])), int(treatments.shape[0] * overlap_percent))\n",
    "            treatments[forced] = 0\n",
    "        \n",
    "        # set all treatment values close to 0 to 0\n",
    "        for idx, val in enumerate(treatments):\n",
    "            if math.isclose(val, 0, abs_tol=0.5):\n",
    "                treatments[idx] = 0\n",
    "\n",
    "        treated = treatments > treatment_cutoff_val\n",
    "\n",
    "        # to-do: counterfactual treatment vector\n",
    "        c_treatments = deepcopy(treatments)\n",
    "        c_treatments[treatments > treatment_cutoff_val] = 0\n",
    "        c_treatments[treatments == 0] = (low + high)/2 # treatments.mean() # set to mean treatment value\n",
    "        \n",
    "\n",
    "    # Treatment effect calculation\n",
    "    if effect_type == \"homogeneous\":\n",
    "\n",
    "        T = treatments*effect_homogeneous\n",
    "        CT = c_treatments*effect_homogeneous\n",
    "\n",
    "    else: \n",
    "        # Interaction term calculation for HTE\n",
    "        poly = PolynomialFeatures(degree=order, interaction_only=False, include_bias=False)\n",
    "        poly.fit(X[:, importantFeatureIndices[:heterogeneous_select]])\n",
    "        fullData = poly.transform(X[:, importantFeatureIndices[:heterogeneous_select]])\n",
    "        higherData = fullData[:, -(fullData.shape[1] - heterogeneous_select):] # select only higher order\n",
    "\n",
    "        # HTE = 1 + effect * (sum of first heterogeneous_select important variables + higher order interactions of heterogeneous_select important variables)\n",
    "        heterogeneousIndices = importantFeatureIndices[:heterogeneous_select]\n",
    "\n",
    "        T = 1 + (effect_heterogeneous*(X[:, heterogeneousIndices].sum(axis=1) + higherData.sum(axis=1)))*treatments.ravel()\n",
    "        T = T.reshape(-1, 1)\n",
    "        T[~treated] = np.zeros((~treated).sum())\n",
    "        \n",
    "        # counterfactual effect\n",
    "        CT = 1 + (effect_heterogeneous*(X[:, heterogeneousIndices].sum(axis=1) + higherData.sum(axis=1)))*c_treatments.ravel()\n",
    "        CT = CT.reshape(-1, 1)\n",
    "        CT[treated] = np.zeros((treated).sum()) # everyone that was treated goes to untreated in counterfactual\n",
    "\n",
    "    # Coefficients calculation\n",
    "    betas = np.random.normal(size=X.shape[1]).reshape(-1,1)\n",
    "    # draw from diff distribution for \"important\" features\n",
    "    if_coef_mean = 7 # important features mean \n",
    "    if_coef_var = 1 # ... var\n",
    "    betas[importantFeatureIndices] = np.random.normal(if_coef_mean, if_coef_var, size=len(importantFeatureIndices)).reshape(-1, 1)\n",
    "\n",
    "    # ATE calculation\n",
    "    \n",
    "    # Outcome calculation\n",
    "    y = T + X@betas + error\n",
    "    cy = CT + X@betas + error\n",
    "    \n",
    "    empirical_treated = y[treated] - cy[treated] # the treated (in y)\n",
    "    empirical_untreated = cy[~treated] - y[~treated] # the untreated\n",
    "    ate = (empirical_treated.mean() + empirical_untreated.mean())/2\n",
    "\n",
    "    # CATE calculation\n",
    "    if compute_cate:\n",
    "        if cate_feature == 'race':\n",
    "            cateCol = importantFeatureIndices[1] # index of 'race' covariate\n",
    "        else:\n",
    "            cateCol = importantFeatureIndices[7] # index of 'educ' covariate\n",
    "        \n",
    "        # Creating the bins\n",
    "        evenGroups = np.array_split(np.sort(X[:, cateCol]), nBins)\n",
    "        bins = []\n",
    "        pdX = pd.DataFrame(X)\n",
    "        pdX[cateCol]\n",
    "\n",
    "        prevCeil = -10000\n",
    "        for i in range(nBins):\n",
    "            floor = evenGroups[i][0] \n",
    "            ceil = evenGroups[i][-1]\n",
    "            if floor == prevCeil: # in case the floor of current group is equal to ceiling of last group, don't want to duplicate samples\n",
    "                bins.append(pdX.loc[(floor < pdX[cateCol]) & (pdX[cateCol] <= ceil)].to_numpy())\n",
    "            else:\n",
    "                bins.append(pdX.loc[(floor <= pdX[cateCol]) & (pdX[cateCol] <= ceil)].to_numpy())\n",
    "            prevCeil = ceil\n",
    "        \n",
    "        cates = []\n",
    "        for i in range(nBins):\n",
    "            indices = [] # indices to grab from y and cy\n",
    "            for j in range(bins[i].shape[0]):\n",
    "                indices.append(np.where((X == bins[i][j]).all(axis=1))[0][0])\n",
    "            \n",
    "            yBin = y[indices]\n",
    "            cyBin = cy[indices]\n",
    "            treatedBin = treated[indices]\n",
    "            empirical_treated_bin = yBin[treatedBin] - cyBin[treatedBin] # the treated (in y)\n",
    "            empirical_untreated_bin = cyBin[~treatedBin] - yBin[~treatedBin] # the untreated\n",
    "            cates.append((empirical_treated_bin.mean() + empirical_untreated_bin.mean())/2)\n",
    "\n",
    "        return y, X, betas, featureNames, treatments, cy, ate, treated, bins, cates\n",
    "    else:\n",
    "        return y, X, betas, featureNames, treatments, cy, ate, treated\n",
    "    \n",
    "\n",
    "def estimate_cf(y, X, treatments, treated, cy, test_size=0.2, criterion='het', cv=5, discrete_treatment=True, n_estimators=1000):\n",
    "    if test_size == 0:\n",
    "        X_train = X\n",
    "        Y_train = y\n",
    "        T_train = treatments\n",
    "        X_test, Y_test, treated_test, CY_test = None, None, None, None\n",
    "    # split data into train and test sets\n",
    "    else:\n",
    "        X_train, X_test, Y_train, Y_test, T_train, T_test, _, treated_test, _, CY_test = train_test_split(X, y, treatments, treated, cy, test_size=test_size)\n",
    "        \n",
    "    # specify hyperparams of model\n",
    "    est = CausalForestDML(criterion=criterion, \n",
    "                            n_estimators=n_estimators,       \n",
    "                            max_samples=0.5,\n",
    "                            discrete_treatment=discrete_treatment,\n",
    "                            honest=True,\n",
    "                            inference=True,\n",
    "                            cv=cv)\n",
    "    # fit model\n",
    "    est.fit(Y_train, T_train, X=X_train, W=None)\n",
    "        \n",
    "    return est, X_test, Y_test, treated_test, CY_test"
   ]
  },
  {
   "cell_type": "code",
   "execution_count": 4,
   "metadata": {},
   "outputs": [],
   "source": [
    "# compute evaluation stats over K simulations\n",
    "def evalStats(estimators, trueATES, evalSets):\n",
    "    K = len(estimators)\n",
    "\n",
    "    lbs = np.zeros(K)\n",
    "    ubs = np.zeros(K)\n",
    "    ates = np.zeros(K)\n",
    "    \n",
    "    totalBias = 0\n",
    "    totalRMSE = 0\n",
    "    totalCoverage = 0\n",
    "    totalInterval = 0\n",
    "\n",
    "    for i in range(K):\n",
    "        estimateATE = estimators[i].ate(evalSets[i])[0]\n",
    "        lb, ub = estimators[i].ate_interval(evalSets[i], alpha=0.05)\n",
    "        lbs[i] = lb\n",
    "        ubs[i] = ub\n",
    "        ates[i] = estimateATE\n",
    "        \n",
    "        bias = abs(trueATES[i] - estimateATE)\n",
    "        totalBias += bias\n",
    "        \n",
    "        rmse = bias**2\n",
    "        totalRMSE += rmse\n",
    "\n",
    "        coverage = 1 if (trueATES[i] >= lb and trueATES[i] <= ub) else 0\n",
    "  \n",
    "        totalCoverage += coverage\n",
    "\n",
    "        interval = ub - lb\n",
    "        totalInterval += interval\n",
    "    \n",
    "    return totalBias / K, (totalRMSE / K)**0.5, totalCoverage / K, totalInterval / K, lbs, ubs, ates"
   ]
  },
  {
   "cell_type": "markdown",
   "metadata": {},
   "source": [
    "## Evaluating ATEs under different DGP settings"
   ]
  },
  {
   "cell_type": "markdown",
   "metadata": {},
   "source": [
    "### (1) Sample Size"
   ]
  },
  {
   "cell_type": "code",
   "execution_count": 94,
   "metadata": {},
   "outputs": [
    {
     "data": {
      "application/vnd.jupyter.widget-view+json": {
       "model_id": "905689c2ad2f40f19dd3299ab237e8c5",
       "version_major": 2,
       "version_minor": 0
      },
      "text/plain": [
       "HBox(children=(FloatProgress(value=0.0, max=30.0), HTML(value='')))"
      ]
     },
     "metadata": {},
     "output_type": "display_data"
    },
    {
     "name": "stdout",
     "output_type": "stream",
     "text": [
      "\n"
     ]
    },
    {
     "data": {
      "application/vnd.jupyter.widget-view+json": {
       "model_id": "c547bfca14354d9ca2d4d1ad306e990c",
       "version_major": 2,
       "version_minor": 0
      },
      "text/plain": [
       "HBox(children=(FloatProgress(value=0.0, max=30.0), HTML(value='')))"
      ]
     },
     "metadata": {},
     "output_type": "display_data"
    },
    {
     "name": "stdout",
     "output_type": "stream",
     "text": [
      "\n"
     ]
    },
    {
     "data": {
      "application/vnd.jupyter.widget-view+json": {
       "model_id": "909d1c37a81942ce804fdbdf18d2de71",
       "version_major": 2,
       "version_minor": 0
      },
      "text/plain": [
       "HBox(children=(FloatProgress(value=0.0, max=30.0), HTML(value='')))"
      ]
     },
     "metadata": {},
     "output_type": "display_data"
    },
    {
     "name": "stdout",
     "output_type": "stream",
     "text": [
      "\n"
     ]
    }
   ],
   "source": [
    "K = 30\n",
    "Ns = [1000, 5000, 10000]\n",
    "\n",
    "biasNs = np.zeros(len(Ns))\n",
    "rmseNs = np.zeros(len(Ns))\n",
    "coverageNs = np.zeros(len(Ns))\n",
    "intervalNs = np.zeros(len(Ns))\n",
    "lbsNs = np.zeros((len(Ns), K))\n",
    "ubsNs = np.zeros((len(Ns), K))\n",
    "atesNs = np.zeros((len(Ns), K))\n",
    "true_atesNs = np.zeros((len(Ns), K))\n",
    "\n",
    "for idx, N in enumerate(Ns):\n",
    "    estNs = []\n",
    "    trueATENs = []\n",
    "    evalSetNs = []\n",
    "    for i in tqdm(range(K)):\n",
    "        y, X, trueBetas, featureNames, treatments, cy, ate, treated = dgp(welfare, N=N)\n",
    "        \n",
    "        est, X_test, Y_test, treated_test, CY_test = estimate_cf(y, X, treatments, treated, cy)\n",
    "\n",
    "        # Calculate test set ATE\n",
    "        tmp = Y_test[treated_test] - CY_test[treated_test]\n",
    "        tmp1 = CY_test[~treated_test] - Y_test[~treated_test]\n",
    "        test_ate = (tmp.mean() + tmp1.mean())/2\n",
    "        ate = test_ate\n",
    "        \n",
    "        estNs.append(est)\n",
    "        trueATENs.append(ate)\n",
    "        evalSetNs.append(X_test)\n",
    "\n",
    "    bias, rmse, coverage, interval, lbs, ubs, ates = evalStats(estNs, trueATENs, evalSetNs)\n",
    "    \n",
    "    biasNs[idx] = bias\n",
    "    rmseNs[idx] = rmse\n",
    "    coverageNs[idx] = coverage\n",
    "    intervalNs[idx] = interval\n",
    "    lbsNs[idx, :] = lbs\n",
    "    ubsNs[idx, :] = ubs\n",
    "    atesNs[idx, :] = ates\n",
    "    true_atesNs[idx, :] = trueATENs"
   ]
  },
  {
   "cell_type": "code",
   "execution_count": 95,
   "metadata": {},
   "outputs": [
    {
     "data": {
      "text/plain": [
       "['Results/true_atesNs_30.pkl']"
      ]
     },
     "execution_count": 95,
     "metadata": {},
     "output_type": "execute_result"
    }
   ],
   "source": [
    "joblib.dump(biasNs, 'Results/biasNs_{}.pkl'.format(K))\n",
    "joblib.dump(rmseNs, 'Results/rmseNs_{}.pkl'.format(K))\n",
    "joblib.dump(coverageNs, 'Results/coverageNs_{}.pkl'.format(K))\n",
    "joblib.dump(intervalNs, 'Results/intervalNs_{}.pkl'.format(K))\n",
    "joblib.dump(lbsNs, 'Results/lbsNs_{}.pkl'.format(K))\n",
    "joblib.dump(ubsNs, 'Results/ubsNs_{}.pkl'.format(K))\n",
    "joblib.dump(atesNs, 'Results/atesNs_{}.pkl'.format(K))\n",
    "joblib.dump(true_atesNs, 'Results/true_atesNs_{}.pkl'.format(K))"
   ]
  },
  {
   "cell_type": "code",
   "execution_count": 141,
   "metadata": {},
   "outputs": [],
   "source": [
    "\n",
    "biasNs = joblib.load('Results/biasNs_{}.pkl'.format(K))\n",
    "rmseNs = joblib.load('Results/rmseNs_{}.pkl'.format(K))\n",
    "coverageNs = joblib.load('Results/coverageNs_{}.pkl'.format(K))\n",
    "intervalNs = joblib.load('Results/intervalNs_{}.pkl'.format(K))\n",
    "lbsNs = joblib.load('Results/lbsNs_{}.pkl'.format(K))\n",
    "ubsNs = joblib.load('Results/ubsNs_{}.pkl'.format(K))\n",
    "atesNs = joblib.load('Results/atesNs_{}.pkl'.format(K))\n",
    "true_atesNs = joblib.load('Results/true_atesNs_{}.pkl'.format(K))"
   ]
  },
  {
   "cell_type": "code",
   "execution_count": 116,
   "metadata": {},
   "outputs": [
    {
     "data": {
      "image/png": "[encoded data removed]",
      "text/plain": [
       "<Figure size 1152x288 with 4 Axes>"
      ]
     },
     "metadata": {
      "needs_background": "light"
     },
     "output_type": "display_data"
    }
   ],
   "source": [
    "biasNsNorm = []\n",
    "rmseNsNorm = []\n",
    "intervalNsNorm = []\n",
    "true_atesNsMean = []\n",
    "atesNsMean = []\n",
    "\n",
    "for idx, _ in enumerate(Ns):\n",
    "    atesNsMean.append(np.mean(atesNs[idx, :]))\n",
    "    true_atesNsMean.append(np.mean(true_atesNs[idx, :]))\n",
    "    biasNsNorm.append(biasNs[idx] / true_atesNsMean[idx])\n",
    "    rmseNsNorm.append(rmseNs[idx] / true_atesNsMean[idx])\n",
    "    intervalNsNorm.append(intervalNs[idx] / true_atesNsMean[idx])\n",
    "\n",
    "xNs = list(map(str, Ns))\n",
    "cNs = np.array([[255, 0, 0], [0, 255, 0], [0, 0, 255]])\n",
    "fig, axs = plt.subplots(1, 4, figsize=(16, 4), sharey=False)\n",
    "\n",
    "axs[0].scatter(xNs, biasNsNorm, c=cNs/255)\n",
    "axs[0].set(xlabel='N', ylabel='Bias')\n",
    "axs[0].grid()\n",
    "axs[1].scatter(xNs, rmseNsNorm, c=cNs/255)\n",
    "axs[1].set(xlabel='N', ylabel='RMSE')\n",
    "axs[1].grid()\n",
    "axs[2].scatter(xNs, coverageNs, c=cNs/255)\n",
    "axs[2].set(xlabel='N', ylabel='Coverage')\n",
    "axs[2].grid()\n",
    "axs[3].scatter(xNs, intervalNsNorm, c=cNs/255)\n",
    "axs[3].set(xlabel='N', ylabel='Interval Length')\n",
    "axs[3].grid()\n",
    "\n",
    "fig.suptitle('Evaluation Metrics when Changing Sample Size (Average over ' + str(K) + ' simulations per parameter setting)')\n",
    "fig.tight_layout(pad=3.0)\n",
    "plt.show()"
   ]
  },
  {
   "cell_type": "code",
   "execution_count": 117,
   "metadata": {},
   "outputs": [
    {
     "data": {
      "text/html": [
       "<div>\n",
       "<style scoped>\n",
       "    .dataframe tbody tr th:only-of-type {\n",
       "        vertical-align: middle;\n",
       "    }\n",
       "\n",
       "    .dataframe tbody tr th {\n",
       "        vertical-align: top;\n",
       "    }\n",
       "\n",
       "    .dataframe thead th {\n",
       "        text-align: right;\n",
       "    }\n",
       "</style>\n",
       "<table border=\"1\" class=\"dataframe\">\n",
       "  <thead>\n",
       "    <tr style=\"text-align: right;\">\n",
       "      <th></th>\n",
       "      <th>True ATES</th>\n",
       "      <th>Estimated ATES</th>\n",
       "      <th>Normalized Bias</th>\n",
       "      <th>Unnormalized Bias</th>\n",
       "      <th>Normalized RMSE</th>\n",
       "      <th>Unnormalized RMSE</th>\n",
       "      <th>Normalized Interval Length</th>\n",
       "      <th>Unnormalized Interval Length</th>\n",
       "      <th>Coverage</th>\n",
       "    </tr>\n",
       "  </thead>\n",
       "  <tbody>\n",
       "    <tr>\n",
       "      <th>1000</th>\n",
       "      <td>5439.607849</td>\n",
       "      <td>5284.487310</td>\n",
       "      <td>0.031899</td>\n",
       "      <td>173.520082</td>\n",
       "      <td>0.037262</td>\n",
       "      <td>202.689775</td>\n",
       "      <td>0.275060</td>\n",
       "      <td>1496.219129</td>\n",
       "      <td>1.0</td>\n",
       "    </tr>\n",
       "    <tr>\n",
       "      <th>5000</th>\n",
       "      <td>5480.217592</td>\n",
       "      <td>5428.476930</td>\n",
       "      <td>0.009698</td>\n",
       "      <td>53.144836</td>\n",
       "      <td>0.011122</td>\n",
       "      <td>60.950723</td>\n",
       "      <td>0.161594</td>\n",
       "      <td>885.568983</td>\n",
       "      <td>1.0</td>\n",
       "    </tr>\n",
       "    <tr>\n",
       "      <th>10000</th>\n",
       "      <td>5464.342620</td>\n",
       "      <td>5437.754914</td>\n",
       "      <td>0.005008</td>\n",
       "      <td>27.367210</td>\n",
       "      <td>0.005541</td>\n",
       "      <td>30.277228</td>\n",
       "      <td>0.129341</td>\n",
       "      <td>706.760847</td>\n",
       "      <td>1.0</td>\n",
       "    </tr>\n",
       "  </tbody>\n",
       "</table>\n",
       "</div>"
      ],
      "text/plain": [
       "         True ATES  Estimated ATES  Normalized Bias  Unnormalized Bias  \\\n",
       "1000   5439.607849     5284.487310         0.031899         173.520082   \n",
       "5000   5480.217592     5428.476930         0.009698          53.144836   \n",
       "10000  5464.342620     5437.754914         0.005008          27.367210   \n",
       "\n",
       "       Normalized RMSE  Unnormalized RMSE  Normalized Interval Length  \\\n",
       "1000          0.037262         202.689775                    0.275060   \n",
       "5000          0.011122          60.950723                    0.161594   \n",
       "10000         0.005541          30.277228                    0.129341   \n",
       "\n",
       "       Unnormalized Interval Length  Coverage  \n",
       "1000                    1496.219129       1.0  \n",
       "5000                     885.568983       1.0  \n",
       "10000                    706.760847       1.0  "
      ]
     },
     "execution_count": 117,
     "metadata": {},
     "output_type": "execute_result"
    }
   ],
   "source": [
    "data = {'True ATES':true_atesNsMean, 'Estimated ATES': atesNsMean,   \n",
    "        'Normalized Bias': biasNsNorm, 'Unnormalized Bias':biasNs, \n",
    "        'Normalized RMSE': rmseNsNorm, 'Unnormalized RMSE':rmseNs, \n",
    "        'Normalized Interval Length': intervalNsNorm, 'Unnormalized Interval Length':intervalNs,\n",
    "        'Coverage':coverageNs}\n",
    "        \n",
    "tableNs = pd.DataFrame(data=data, index=xNs)\n",
    "tableNs"
   ]
  },
  {
   "cell_type": "markdown",
   "metadata": {},
   "source": [
    "### (2) Degree of Non-linearity in X"
   ]
  },
  {
   "cell_type": "code",
   "execution_count": 96,
   "metadata": {},
   "outputs": [
    {
     "data": {
      "application/vnd.jupyter.widget-view+json": {
       "model_id": "c6f762806f6240588e3274ad5a135036",
       "version_major": 2,
       "version_minor": 0
      },
      "text/plain": [
       "HBox(children=(FloatProgress(value=0.0, max=30.0), HTML(value='')))"
      ]
     },
     "metadata": {},
     "output_type": "display_data"
    },
    {
     "name": "stdout",
     "output_type": "stream",
     "text": [
      "\n"
     ]
    },
    {
     "data": {
      "application/vnd.jupyter.widget-view+json": {
       "model_id": "e57b51a0cfa541f6b92e5b1583c0d807",
       "version_major": 2,
       "version_minor": 0
      },
      "text/plain": [
       "HBox(children=(FloatProgress(value=0.0, max=30.0), HTML(value='')))"
      ]
     },
     "metadata": {},
     "output_type": "display_data"
    },
    {
     "name": "stdout",
     "output_type": "stream",
     "text": [
      "\n"
     ]
    },
    {
     "data": {
      "application/vnd.jupyter.widget-view+json": {
       "model_id": "df0e5ba64a734fd5b8fa4207d1328ad9",
       "version_major": 2,
       "version_minor": 0
      },
      "text/plain": [
       "HBox(children=(FloatProgress(value=0.0, max=30.0), HTML(value='')))"
      ]
     },
     "metadata": {},
     "output_type": "display_data"
    },
    {
     "name": "stdout",
     "output_type": "stream",
     "text": [
      "\n"
     ]
    },
    {
     "data": {
      "application/vnd.jupyter.widget-view+json": {
       "model_id": "6b8d21c8ee0f4a89ba3287c614158b07",
       "version_major": 2,
       "version_minor": 0
      },
      "text/plain": [
       "HBox(children=(FloatProgress(value=0.0, max=30.0), HTML(value='')))"
      ]
     },
     "metadata": {},
     "output_type": "display_data"
    },
    {
     "name": "stdout",
     "output_type": "stream",
     "text": [
      "\n"
     ]
    }
   ],
   "source": [
    "K = 30\n",
    "linearityLevels = ['full', 'high', 'med', 'low']\n",
    "\n",
    "biasLLs = np.zeros(len(linearityLevels))\n",
    "rmseLLs = np.zeros(len(linearityLevels))\n",
    "coverageLLs = np.zeros(len(linearityLevels))\n",
    "intervalLLs = np.zeros(len(linearityLevels))\n",
    "lbsLLs = np.zeros((len(linearityLevels), K))\n",
    "ubsLLs = np.zeros((len(linearityLevels), K))\n",
    "atesLLs = np.zeros((len(linearityLevels), K))\n",
    "true_atesLLs = np.zeros((len(linearityLevels), K))\n",
    "\n",
    "\n",
    "for idx, level in enumerate(linearityLevels):\n",
    "    estLLs = []\n",
    "    trueATELLs = []\n",
    "    evalSetLLs = []\n",
    "    for i in tqdm(range(K)):\n",
    "        y, X, trueBetas, featureNames, treatments, cy, ate, treated = dgp(welfare, linearity=level)\n",
    "        est, X_test, Y_test, treated_test, CY_test = estimate_cf(y, X, treatments, treated, cy)\n",
    "\n",
    "        # Calculate test set ATE\n",
    "        tmp = Y_test[treated_test] - CY_test[treated_test]\n",
    "        tmp1 = CY_test[~treated_test] - Y_test[~treated_test]\n",
    "        test_ate = (tmp.mean() + tmp1.mean())/2\n",
    "        ate = test_ate\n",
    "        \n",
    "        estLLs.append(est)\n",
    "        trueATELLs.append(ate)\n",
    "        evalSetLLs.append(X_test)\n",
    "\n",
    "    bias, rmse, coverage, interval, lbs, ubs, ates = evalStats(estLLs, trueATELLs, evalSetLLs)\n",
    "    \n",
    "    biasLLs[idx] = bias\n",
    "    rmseLLs[idx] = rmse\n",
    "    coverageLLs[idx] = coverage\n",
    "    intervalLLs[idx] = interval\n",
    "    lbsLLs[idx, :] = lbs\n",
    "    ubsLLs[idx, :] = ubs\n",
    "    atesLLs[idx, :] = ates\n",
    "    true_atesLLs[idx, :] = trueATELLs"
   ]
  },
  {
   "cell_type": "code",
   "execution_count": 97,
   "metadata": {},
   "outputs": [
    {
     "data": {
      "text/plain": [
       "['Results/true_atesLLs_30.pkl']"
      ]
     },
     "execution_count": 97,
     "metadata": {},
     "output_type": "execute_result"
    }
   ],
   "source": [
    "# dump data\n",
    "joblib.dump(biasLLs, 'Results/biasLLs_{}.pkl'.format(K))\n",
    "joblib.dump(rmseLLs, 'Results/rmseLLs_{}.pkl'.format(K))\n",
    "joblib.dump(coverageLLs, 'Results/coverageLLs_{}.pkl'.format(K))\n",
    "joblib.dump(intervalLLs, 'Results/intervalLLs_{}.pkl'.format(K))\n",
    "joblib.dump(lbsLLs, 'Results/lbsLLs_{}.pkl'.format(K))\n",
    "joblib.dump(ubsLLs, 'Results/ubsLLs_{}.pkl'.format(K))\n",
    "joblib.dump(atesLLs, 'Results/atesLLs_{}.pkl'.format(K))\n",
    "joblib.dump(true_atesLLs, 'Results/true_atesLLs_{}.pkl'.format(K))"
   ]
  },
  {
   "cell_type": "code",
   "execution_count": 20,
   "metadata": {},
   "outputs": [],
   "source": [
    "# load data\n",
    "biasLLs = joblib.load('Results/biasLLs_{}.pkl'.format(K))\n",
    "rmseLLs = joblib.load('Results/rmseLLs_{}.pkl'.format(K))\n",
    "coverageLLs = joblib.load('Results/coverageLLs_{}.pkl'.format(K))\n",
    "intervalLLs = joblib.load('Results/intervalLLs_{}.pkl'.format(K))\n",
    "lbsLLs = joblib.load('Results/lbsLLs_{}.pkl'.format(K))\n",
    "ubsLLs = joblib.load('Results/ubsLLs_{}.pkl'.format(K))\n",
    "atesLLs = joblib.load('Results/atesLLs_{}.pkl'.format(K))\n",
    "true_atesLLs = joblib.load('Results/true_atesLLs_{}.pkl'.format(K))"
   ]
  },
  {
   "cell_type": "code",
   "execution_count": 118,
   "metadata": {},
   "outputs": [
    {
     "data": {
      "image/png": "[encoded data removed]",
      "text/plain": [
       "<Figure size 1152x288 with 4 Axes>"
      ]
     },
     "metadata": {
      "needs_background": "light"
     },
     "output_type": "display_data"
    }
   ],
   "source": [
    "biasLLsNorm = []\n",
    "rmseLLsNorm = []\n",
    "intervalLLsNorm = []\n",
    "true_atesLLsMean = []\n",
    "atesLLsMean = []\n",
    "\n",
    "for idx, _ in enumerate(linearityLevels):\n",
    "    atesLLsMean.append(np.mean(atesLLs[idx, :]))\n",
    "    true_atesLLsMean.append(np.mean(true_atesLLs[idx, :]))\n",
    "    biasLLsNorm.append(biasLLs[idx] / true_atesLLsMean[idx])\n",
    "    rmseLLsNorm.append(rmseLLs[idx] / true_atesLLsMean[idx])\n",
    "    intervalLLsNorm.append(intervalLLs[idx] / true_atesLLsMean[idx])\n",
    "\n",
    "xLLs = linearityLevels\n",
    "cLLs = np.array([[255, 0, 0], [0, 255, 0], [0, 0, 255], [255, 165, 0]])\n",
    "fig, axs = plt.subplots(1, 4, figsize=(16, 4), sharey=False)\n",
    "\n",
    "axs[0].scatter(xLLs, biasLLsNorm, c=cLLs/255)\n",
    "axs[0].set(xlabel='Amount of Linearity', ylabel='Bias')\n",
    "axs[0].grid()\n",
    "axs[1].scatter(xLLs, rmseLLsNorm, c=cLLs/255)\n",
    "axs[1].set(xlabel='Amount of Linearity', ylabel='RMSE')\n",
    "axs[1].grid()\n",
    "axs[2].scatter(xLLs, coverageLLs, c=cLLs/255)\n",
    "axs[2].set(xlabel='Amount of Linearity', ylabel='Coverage')\n",
    "axs[2].grid()\n",
    "axs[3].scatter(xLLs, intervalLLsNorm, c=cLLs/255)\n",
    "axs[3].set(xlabel='Amount of Linearity', ylabel='Interval Length')\n",
    "axs[3].grid()\n",
    "\n",
    "fig.suptitle('Evaluation Metrics when Changing Amount of Linearity (Average over ' + str(K) + ' simulations per parameter setting)')\n",
    "fig.tight_layout(pad=3.0)\n",
    "plt.show()"
   ]
  },
  {
   "cell_type": "code",
   "execution_count": 119,
   "metadata": {},
   "outputs": [
    {
     "data": {
      "text/html": [
       "<div>\n",
       "<style scoped>\n",
       "    .dataframe tbody tr th:only-of-type {\n",
       "        vertical-align: middle;\n",
       "    }\n",
       "\n",
       "    .dataframe tbody tr th {\n",
       "        vertical-align: top;\n",
       "    }\n",
       "\n",
       "    .dataframe thead th {\n",
       "        text-align: right;\n",
       "    }\n",
       "</style>\n",
       "<table border=\"1\" class=\"dataframe\">\n",
       "  <thead>\n",
       "    <tr style=\"text-align: right;\">\n",
       "      <th></th>\n",
       "      <th>True ATES</th>\n",
       "      <th>Estimated ATES</th>\n",
       "      <th>Normalized Bias</th>\n",
       "      <th>Unnormalized Bias</th>\n",
       "      <th>Normalized RMSE</th>\n",
       "      <th>Unnormalized RMSE</th>\n",
       "      <th>Normalized Interval Length</th>\n",
       "      <th>Unnormalized Interval Length</th>\n",
       "      <th>Coverage</th>\n",
       "    </tr>\n",
       "  </thead>\n",
       "  <tbody>\n",
       "    <tr>\n",
       "      <th>full</th>\n",
       "      <td>5468.773915</td>\n",
       "      <td>5440.039188</td>\n",
       "      <td>0.006647</td>\n",
       "      <td>36.353349</td>\n",
       "      <td>0.008375</td>\n",
       "      <td>45.801340</td>\n",
       "      <td>0.248466</td>\n",
       "      <td>1.358807e+03</td>\n",
       "      <td>1.0</td>\n",
       "    </tr>\n",
       "    <tr>\n",
       "      <th>high</th>\n",
       "      <td>5453.578001</td>\n",
       "      <td>5417.485903</td>\n",
       "      <td>0.007022</td>\n",
       "      <td>38.292994</td>\n",
       "      <td>0.008750</td>\n",
       "      <td>47.719423</td>\n",
       "      <td>0.236397</td>\n",
       "      <td>1.289210e+03</td>\n",
       "      <td>1.0</td>\n",
       "    </tr>\n",
       "    <tr>\n",
       "      <th>med</th>\n",
       "      <td>5535.015621</td>\n",
       "      <td>5489.769929</td>\n",
       "      <td>0.008287</td>\n",
       "      <td>45.867383</td>\n",
       "      <td>0.010120</td>\n",
       "      <td>56.011837</td>\n",
       "      <td>0.160939</td>\n",
       "      <td>8.908016e+02</td>\n",
       "      <td>1.0</td>\n",
       "    </tr>\n",
       "    <tr>\n",
       "      <th>low</th>\n",
       "      <td>5455.065609</td>\n",
       "      <td>11248.379766</td>\n",
       "      <td>112.262704</td>\n",
       "      <td>612400.414644</td>\n",
       "      <td>149.134321</td>\n",
       "      <td>813537.503514</td>\n",
       "      <td>7255.772887</td>\n",
       "      <td>3.958072e+07</td>\n",
       "      <td>1.0</td>\n",
       "    </tr>\n",
       "  </tbody>\n",
       "</table>\n",
       "</div>"
      ],
      "text/plain": [
       "        True ATES  Estimated ATES  Normalized Bias  Unnormalized Bias  \\\n",
       "full  5468.773915     5440.039188         0.006647          36.353349   \n",
       "high  5453.578001     5417.485903         0.007022          38.292994   \n",
       "med   5535.015621     5489.769929         0.008287          45.867383   \n",
       "low   5455.065609    11248.379766       112.262704      612400.414644   \n",
       "\n",
       "      Normalized RMSE  Unnormalized RMSE  Normalized Interval Length  \\\n",
       "full         0.008375          45.801340                    0.248466   \n",
       "high         0.008750          47.719423                    0.236397   \n",
       "med          0.010120          56.011837                    0.160939   \n",
       "low        149.134321      813537.503514                 7255.772887   \n",
       "\n",
       "      Unnormalized Interval Length  Coverage  \n",
       "full                  1.358807e+03       1.0  \n",
       "high                  1.289210e+03       1.0  \n",
       "med                   8.908016e+02       1.0  \n",
       "low                   3.958072e+07       1.0  "
      ]
     },
     "execution_count": 119,
     "metadata": {},
     "output_type": "execute_result"
    }
   ],
   "source": [
    "data = {'True ATES':true_atesLLsMean, 'Estimated ATES': atesLLsMean,   \n",
    "        'Normalized Bias': biasLLsNorm, 'Unnormalized Bias':biasLLs, \n",
    "        'Normalized RMSE': rmseLLsNorm, 'Unnormalized RMSE':rmseLLs, \n",
    "        'Normalized Interval Length': intervalLLsNorm, 'Unnormalized Interval Length':intervalLLs,\n",
    "        'Coverage':coverageLLs}\n",
    "        \n",
    "tableLLs = pd.DataFrame(data=data, index=xLLs)\n",
    "tableLLs"
   ]
  },
  {
   "cell_type": "markdown",
   "metadata": {},
   "source": [
    "### (3) Percentage Treated"
   ]
  },
  {
   "cell_type": "code",
   "execution_count": 98,
   "metadata": {},
   "outputs": [
    {
     "data": {
      "application/vnd.jupyter.widget-view+json": {
       "model_id": "83f9428d832e48318435820c603445e0",
       "version_major": 2,
       "version_minor": 0
      },
      "text/plain": [
       "HBox(children=(FloatProgress(value=0.0, max=30.0), HTML(value='')))"
      ]
     },
     "metadata": {},
     "output_type": "display_data"
    },
    {
     "name": "stdout",
     "output_type": "stream",
     "text": [
      "\n"
     ]
    },
    {
     "data": {
      "application/vnd.jupyter.widget-view+json": {
       "model_id": "fac637c3e0784f5aa9837dcaaeb8f8b2",
       "version_major": 2,
       "version_minor": 0
      },
      "text/plain": [
       "HBox(children=(FloatProgress(value=0.0, max=30.0), HTML(value='')))"
      ]
     },
     "metadata": {},
     "output_type": "display_data"
    },
    {
     "name": "stdout",
     "output_type": "stream",
     "text": [
      "\n"
     ]
    },
    {
     "data": {
      "application/vnd.jupyter.widget-view+json": {
       "model_id": "be4ddef1599a49459cdb02161f4a29d1",
       "version_major": 2,
       "version_minor": 0
      },
      "text/plain": [
       "HBox(children=(FloatProgress(value=0.0, max=30.0), HTML(value='')))"
      ]
     },
     "metadata": {},
     "output_type": "display_data"
    },
    {
     "name": "stdout",
     "output_type": "stream",
     "text": [
      "\n"
     ]
    }
   ],
   "source": [
    "K = 30\n",
    "percentTreats = [0.1, 0.5, 0.9]\n",
    "\n",
    "biasPTs = np.zeros(len(percentTreats))\n",
    "rmsePTs = np.zeros(len(percentTreats))\n",
    "coveragePTs = np.zeros(len(percentTreats))\n",
    "intervalPTs = np.zeros(len(percentTreats))\n",
    "lbsPTs = np.zeros((len(percentTreats), K))\n",
    "ubsPTs = np.zeros((len(percentTreats), K))\n",
    "atesPTs = np.zeros((len(percentTreats), K))\n",
    "true_atesPTs = np.zeros((len(percentTreats), K))\n",
    "\n",
    "for idx, percent in enumerate(percentTreats):\n",
    "    estPTs = []\n",
    "    trueATEPTs = []\n",
    "    evalSetPTs = []\n",
    "    for i in tqdm(range(K)):\n",
    "        y, X, trueBetas, featureNames, treatments, cy, ate, treated = dgp(welfare, treatment_probability=percent)\n",
    "        est, X_test, Y_test, treated_test, CY_test = estimate_cf(y, X, treatments, treated, cy)\n",
    "\n",
    "        # Calculate test set ATE\n",
    "        tmp = Y_test[treated_test] - CY_test[treated_test]\n",
    "        tmp1 = CY_test[~treated_test] - Y_test[~treated_test]\n",
    "        test_ate = (tmp.mean() + tmp1.mean())/2\n",
    "        ate = test_ate\n",
    "\n",
    "        estPTs.append(est)\n",
    "        trueATEPTs.append(ate)\n",
    "        evalSetPTs.append(X_test)\n",
    "\n",
    "    bias, rmse, coverage, interval, lbs, ubs, ates = evalStats(estPTs, trueATEPTs, evalSetPTs)\n",
    "    \n",
    "    biasPTs[idx] = bias\n",
    "    rmsePTs[idx] = rmse\n",
    "    coveragePTs[idx] = coverage\n",
    "    intervalPTs[idx] = interval\n",
    "    lbsPTs[idx, :] = lbs\n",
    "    ubsPTs[idx, :] = ubs\n",
    "    atesPTs[idx, :] = ates\n",
    "    true_atesPTs[idx, :] = trueATEPTs"
   ]
  },
  {
   "cell_type": "code",
   "execution_count": 99,
   "metadata": {},
   "outputs": [
    {
     "data": {
      "text/plain": [
       "['Results/true_atesPTs_30.pkl']"
      ]
     },
     "execution_count": 99,
     "metadata": {},
     "output_type": "execute_result"
    }
   ],
   "source": [
    "joblib.dump(biasPTs, 'Results/biasPTs_{}.pkl'.format(K))\n",
    "joblib.dump(rmsePTs, 'Results/rmsePTs_{}.pkl'.format(K))\n",
    "joblib.dump(coveragePTs, 'Results/coveragePTs_{}.pkl'.format(K))\n",
    "joblib.dump(intervalPTs, 'Results/intervalPTs_{}.pkl'.format(K))\n",
    "joblib.dump(lbsPTs, 'Results/lbsPTs_{}.pkl'.format(K))\n",
    "joblib.dump(ubsPTs, 'Results/ubsPTs_{}.pkl'.format(K))\n",
    "joblib.dump(atesPTs, 'Results/atesPTs_{}.pkl'.format(K))\n",
    "joblib.dump(true_atesPTs, 'Results/true_atesPTs_{}.pkl'.format(K))"
   ]
  },
  {
   "cell_type": "code",
   "execution_count": 19,
   "metadata": {},
   "outputs": [],
   "source": [
    "biasPTs = joblib.load('Results/biasPTs_{}.pkl'.format(K))\n",
    "rmsePTs = joblib.load('Results/rmsePTs_{}.pkl'.format(K))\n",
    "coveragePTs = joblib.load('Results/coveragePTs_{}.pkl'.format(K))\n",
    "intervalPTs = joblib.load('Results/intervalPTs_{}.pkl'.format(K))\n",
    "lbsPTs = joblib.load('Results/lbsPTs_{}.pkl'.format(K))\n",
    "ubsPTs = joblib.load('Results/ubsPTs_{}.pkl'.format(K))\n",
    "atesPTs = joblib.load('Results/atesPTs_{}.pkl'.format(K))\n",
    "true_atesPTs = joblib.load('Results/true_atesPTs_{}.pkl'.format(K))"
   ]
  },
  {
   "cell_type": "code",
   "execution_count": 120,
   "metadata": {},
   "outputs": [
    {
     "data": {
      "image/png": "[encoded data removed]",
      "text/plain": [
       "<Figure size 1152x288 with 4 Axes>"
      ]
     },
     "metadata": {
      "needs_background": "light"
     },
     "output_type": "display_data"
    }
   ],
   "source": [
    "biasPTsNorm = []\n",
    "rmsePTsNorm = []\n",
    "intervalPTsNorm = []\n",
    "true_atesPTsMean = []\n",
    "atesPTsMean = []\n",
    "\n",
    "for idx, _ in enumerate(percentTreats):\n",
    "    atesPTsMean.append(np.mean(atesPTs[idx, :]))\n",
    "    true_atesPTsMean.append(np.mean(true_atesPTs[idx, :]))\n",
    "    biasPTsNorm.append(biasPTs[idx] / true_atesPTsMean[idx])\n",
    "    rmsePTsNorm.append(rmsePTs[idx] / true_atesPTsMean[idx])\n",
    "    intervalPTsNorm.append(intervalPTs[idx] / true_atesPTsMean[idx])\n",
    "\n",
    "xPTs = list(map(str, percentTreats))\n",
    "cPTs = np.array([[255, 0, 0], [0, 255, 0], [0, 0, 255]])\n",
    "fig, axs = plt.subplots(1, 4, figsize=(16, 4), sharey=False)\n",
    "\n",
    "axs[0].scatter(xPTs, biasPTsNorm, c=cPTs/255)\n",
    "axs[0].set(xlabel='Percentage Treated', ylabel='Bias')\n",
    "axs[0].grid()\n",
    "axs[1].scatter(xPTs, rmsePTsNorm, c=cPTs/255)\n",
    "axs[1].set(xlabel='Percentage Treated', ylabel='RMSE')\n",
    "axs[1].grid()\n",
    "axs[2].scatter(xPTs, coveragePTs, c=cPTs/255)\n",
    "axs[2].set(xlabel='Percentage Treated', ylabel='Coverage')\n",
    "axs[2].grid()\n",
    "axs[3].scatter(xPTs, intervalPTsNorm, c=cPTs/255)\n",
    "axs[3].set(xlabel='Percentage Treated', ylabel='Interval Length')\n",
    "axs[3].grid()\n",
    "\n",
    "fig.suptitle('Evaluation Metrics when Changing Percentage Treated (Average over ' + str(K) + ' simulations per parameter setting)')\n",
    "fig.tight_layout(pad=3.0)\n",
    "plt.show()"
   ]
  },
  {
   "cell_type": "code",
   "execution_count": 121,
   "metadata": {},
   "outputs": [
    {
     "data": {
      "text/html": [
       "<div>\n",
       "<style scoped>\n",
       "    .dataframe tbody tr th:only-of-type {\n",
       "        vertical-align: middle;\n",
       "    }\n",
       "\n",
       "    .dataframe tbody tr th {\n",
       "        vertical-align: top;\n",
       "    }\n",
       "\n",
       "    .dataframe thead th {\n",
       "        text-align: right;\n",
       "    }\n",
       "</style>\n",
       "<table border=\"1\" class=\"dataframe\">\n",
       "  <thead>\n",
       "    <tr style=\"text-align: right;\">\n",
       "      <th></th>\n",
       "      <th>True ATES</th>\n",
       "      <th>Estimated ATES</th>\n",
       "      <th>Normalized Bias</th>\n",
       "      <th>Unnormalized Bias</th>\n",
       "      <th>Normalized RMSE</th>\n",
       "      <th>Unnormalized RMSE</th>\n",
       "      <th>Normalized Interval Length</th>\n",
       "      <th>Unnormalized Interval Length</th>\n",
       "      <th>Coverage</th>\n",
       "    </tr>\n",
       "  </thead>\n",
       "  <tbody>\n",
       "    <tr>\n",
       "      <th>0.1</th>\n",
       "      <td>5490.340503</td>\n",
       "      <td>5427.326138</td>\n",
       "      <td>0.024193</td>\n",
       "      <td>132.827121</td>\n",
       "      <td>0.032698</td>\n",
       "      <td>179.524301</td>\n",
       "      <td>0.332519</td>\n",
       "      <td>1825.641746</td>\n",
       "      <td>1.0</td>\n",
       "    </tr>\n",
       "    <tr>\n",
       "      <th>0.5</th>\n",
       "      <td>5481.328925</td>\n",
       "      <td>5449.166690</td>\n",
       "      <td>0.006611</td>\n",
       "      <td>36.238026</td>\n",
       "      <td>0.008362</td>\n",
       "      <td>45.833821</td>\n",
       "      <td>0.160830</td>\n",
       "      <td>881.562651</td>\n",
       "      <td>1.0</td>\n",
       "    </tr>\n",
       "    <tr>\n",
       "      <th>0.9</th>\n",
       "      <td>5469.355627</td>\n",
       "      <td>5387.042317</td>\n",
       "      <td>0.033443</td>\n",
       "      <td>182.914155</td>\n",
       "      <td>0.040750</td>\n",
       "      <td>222.873837</td>\n",
       "      <td>0.329706</td>\n",
       "      <td>1803.281973</td>\n",
       "      <td>1.0</td>\n",
       "    </tr>\n",
       "  </tbody>\n",
       "</table>\n",
       "</div>"
      ],
      "text/plain": [
       "       True ATES  Estimated ATES  Normalized Bias  Unnormalized Bias  \\\n",
       "0.1  5490.340503     5427.326138         0.024193         132.827121   \n",
       "0.5  5481.328925     5449.166690         0.006611          36.238026   \n",
       "0.9  5469.355627     5387.042317         0.033443         182.914155   \n",
       "\n",
       "     Normalized RMSE  Unnormalized RMSE  Normalized Interval Length  \\\n",
       "0.1         0.032698         179.524301                    0.332519   \n",
       "0.5         0.008362          45.833821                    0.160830   \n",
       "0.9         0.040750         222.873837                    0.329706   \n",
       "\n",
       "     Unnormalized Interval Length  Coverage  \n",
       "0.1                   1825.641746       1.0  \n",
       "0.5                    881.562651       1.0  \n",
       "0.9                   1803.281973       1.0  "
      ]
     },
     "execution_count": 121,
     "metadata": {},
     "output_type": "execute_result"
    }
   ],
   "source": [
    "data = {'True ATES':true_atesPTsMean, 'Estimated ATES': atesPTsMean,   \n",
    "        'Normalized Bias': biasPTsNorm, 'Unnormalized Bias':biasPTs, \n",
    "        'Normalized RMSE': rmsePTsNorm, 'Unnormalized RMSE':rmsePTs, \n",
    "        'Normalized Interval Length': intervalPTsNorm, 'Unnormalized Interval Length':intervalPTs,\n",
    "        'Coverage':coveragePTs}\n",
    "        \n",
    "tablePTs = pd.DataFrame(data=data, index=xPTs)\n",
    "tablePTs"
   ]
  },
  {
   "cell_type": "markdown",
   "metadata": {},
   "source": [
    "### (4) Overlap"
   ]
  },
  {
   "cell_type": "code",
   "execution_count": 100,
   "metadata": {},
   "outputs": [
    {
     "data": {
      "application/vnd.jupyter.widget-view+json": {
       "model_id": "9cd50a66671b48f5b23d6058bcdf6548",
       "version_major": 2,
       "version_minor": 0
      },
      "text/plain": [
       "HBox(children=(FloatProgress(value=0.0, max=30.0), HTML(value='')))"
      ]
     },
     "metadata": {},
     "output_type": "display_data"
    },
    {
     "name": "stdout",
     "output_type": "stream",
     "text": [
      "\n"
     ]
    },
    {
     "data": {
      "application/vnd.jupyter.widget-view+json": {
       "model_id": "fcd0d0c8de264b4690aefbf55e8bab81",
       "version_major": 2,
       "version_minor": 0
      },
      "text/plain": [
       "HBox(children=(FloatProgress(value=0.0, max=30.0), HTML(value='')))"
      ]
     },
     "metadata": {},
     "output_type": "display_data"
    },
    {
     "name": "stdout",
     "output_type": "stream",
     "text": [
      "\n"
     ]
    }
   ],
   "source": [
    "K = 30\n",
    "overlapTypes = [True, False]\n",
    "\n",
    "biasOTs = np.zeros(len(overlapTypes))\n",
    "rmseOTs = np.zeros(len(overlapTypes))\n",
    "coverageOTs = np.zeros(len(overlapTypes))\n",
    "intervalOTs = np.zeros(len(overlapTypes))\n",
    "lbsOTs = np.zeros((len(overlapTypes), K))\n",
    "ubsOTs = np.zeros((len(overlapTypes), K))\n",
    "atesOTs = np.zeros((len(overlapTypes), K))\n",
    "true_atesOTs = np.zeros((len(overlapTypes), K))\n",
    "\n",
    "for idx, overlap in enumerate(overlapTypes):\n",
    "    estOTs = []\n",
    "    trueATEOTs = []\n",
    "    evalSetOTs = []\n",
    "    for i in tqdm(range(K)):\n",
    "        y, X, trueBetas, featureNames, treatments, cy, ate, treated = dgp(welfare, overlap=overlap)\n",
    "        est, X_test, Y_test, treated_test, CY_test = estimate_cf(y, X, treatments, treated, cy)\n",
    "\n",
    "        # Calculate test set ATE\n",
    "        tmp = Y_test[treated_test] - CY_test[treated_test]\n",
    "        tmp1 = CY_test[~treated_test] - Y_test[~treated_test]\n",
    "        test_ate = (tmp.mean() + tmp1.mean())/2\n",
    "        ate = test_ate\n",
    "\n",
    "        estOTs.append(est)\n",
    "        trueATEOTs.append(ate)\n",
    "        evalSetOTs.append(X_test)\n",
    "\n",
    "    bias, rmse, coverage, interval, lbs, ubs, ates = evalStats(estOTs, trueATEOTs, evalSetOTs)\n",
    "    \n",
    "    biasOTs[idx] = bias\n",
    "    rmseOTs[idx] = rmse\n",
    "    coverageOTs[idx] = coverage\n",
    "    intervalOTs[idx] = interval\n",
    "    lbsOTs[idx, :] = lbs\n",
    "    ubsOTs[idx, :] = ubs\n",
    "    atesOTs[idx, :] = ates\n",
    "    true_atesOTs[idx, :] = trueATEOTs"
   ]
  },
  {
   "cell_type": "code",
   "execution_count": 101,
   "metadata": {},
   "outputs": [
    {
     "data": {
      "text/plain": [
       "['Results/true_atesOTs_30.pkl']"
      ]
     },
     "execution_count": 101,
     "metadata": {},
     "output_type": "execute_result"
    }
   ],
   "source": [
    "joblib.dump(biasOTs, 'Results/biasOTs_{}.pkl'.format(K))\n",
    "joblib.dump(rmseOTs, 'Results/rmseOTs_{}.pkl'.format(K))\n",
    "joblib.dump(coverageOTs, 'Results/coverageOTs_{}.pkl'.format(K))\n",
    "joblib.dump(intervalOTs, 'Results/intervalOTs_{}.pkl'.format(K))\n",
    "joblib.dump(lbsOTs, 'Results/lbsOTs_{}.pkl'.format(K))\n",
    "joblib.dump(ubsOTs, 'Results/ubsOTs_{}.pkl'.format(K))\n",
    "joblib.dump(atesOTs, 'Results/atesOTs_{}.pkl'.format(K))\n",
    "joblib.dump(true_atesOTs, 'Results/true_atesOTs_{}.pkl'.format(K))"
   ]
  },
  {
   "cell_type": "code",
   "execution_count": 24,
   "metadata": {},
   "outputs": [],
   "source": [
    "biasOTs = joblib.load('Results/biasOTs_{}.pkl'.format(K))\n",
    "rmseOTs = joblib.load('Results/rmseOTs_{}.pkl'.format(K))\n",
    "coverageOTs = joblib.load('Results/coverageOTs_{}.pkl'.format(K))\n",
    "intervalOTs = joblib.load('Results/intervalOTs_{}.pkl'.format(K))\n",
    "lbsOTs = joblib.load('Results/lbsOTs_{}.pkl'.format(K))\n",
    "ubsOTs = joblib.load('Results/ubsOTs_{}.pkl'.format(K))\n",
    "atesOTs = joblib.load('Results/atesOTs_{}.pkl'.format(K))\n",
    "true_atesOTs = joblib.load('Results/true_atesOTs_{}.pkl'.format(K))"
   ]
  },
  {
   "cell_type": "code",
   "execution_count": 122,
   "metadata": {},
   "outputs": [
    {
     "data": {
      "image/png": "[encoded data removed]",
      "text/plain": [
       "<Figure size 1152x288 with 4 Axes>"
      ]
     },
     "metadata": {
      "needs_background": "light"
     },
     "output_type": "display_data"
    }
   ],
   "source": [
    "biasOTsNorm = []\n",
    "rmseOTsNorm = []\n",
    "intervalOTsNorm = []\n",
    "true_atesOTsMean = []\n",
    "atesOTsMean = []\n",
    "\n",
    "for idx, _ in enumerate(overlapTypes):\n",
    "    atesOTsMean.append(np.mean(atesOTs[idx, :]))\n",
    "    true_atesOTsMean.append(np.mean(true_atesOTs[idx, :]))\n",
    "    biasOTsNorm.append(biasOTs[idx] / true_atesOTsMean[idx])\n",
    "    rmseOTsNorm.append(rmseOTs[idx] / true_atesOTsMean[idx])\n",
    "    intervalOTsNorm.append(intervalOTs[idx] / true_atesOTsMean[idx])\n",
    "\n",
    "xOTs = list(map(str, overlapTypes))\n",
    "cOTs = np.array([[255, 0, 0], [0, 255, 0]])\n",
    "fig, axs = plt.subplots(1, 4, figsize=(16, 4), sharey=False)\n",
    "\n",
    "axs[0].scatter(xOTs, biasOTsNorm, c=cOTs/255)\n",
    "axs[0].set(xlabel='Overlap Type', ylabel='Bias')\n",
    "axs[0].grid()\n",
    "axs[1].scatter(xOTs, rmseOTsNorm, c=cOTs/255)\n",
    "axs[1].set(xlabel='Overlap Type', ylabel='RMSE')\n",
    "axs[1].grid()\n",
    "axs[2].scatter(xOTs, coverageOTs, c=cOTs/255)\n",
    "axs[2].set(xlabel='Overlap Type', ylabel='Coverage')\n",
    "axs[2].grid()\n",
    "axs[3].scatter(xOTs, intervalOTsNorm, c=cOTs/255)\n",
    "axs[3].set(xlabel='Overlap Type', ylabel='Interval Length')\n",
    "axs[3].grid()\n",
    "\n",
    "fig.suptitle('Evaluation Metrics when Changing Overlap (Average over ' + str(K) + ' simulations per parameter setting)')\n",
    "fig.tight_layout(pad=3.0)\n",
    "plt.show()"
   ]
  },
  {
   "cell_type": "code",
   "execution_count": 123,
   "metadata": {},
   "outputs": [
    {
     "data": {
      "text/html": [
       "<div>\n",
       "<style scoped>\n",
       "    .dataframe tbody tr th:only-of-type {\n",
       "        vertical-align: middle;\n",
       "    }\n",
       "\n",
       "    .dataframe tbody tr th {\n",
       "        vertical-align: top;\n",
       "    }\n",
       "\n",
       "    .dataframe thead th {\n",
       "        text-align: right;\n",
       "    }\n",
       "</style>\n",
       "<table border=\"1\" class=\"dataframe\">\n",
       "  <thead>\n",
       "    <tr style=\"text-align: right;\">\n",
       "      <th></th>\n",
       "      <th>True ATES</th>\n",
       "      <th>Estimated ATES</th>\n",
       "      <th>Normalized Bias</th>\n",
       "      <th>Unnormalized Bias</th>\n",
       "      <th>Normalized RMSE</th>\n",
       "      <th>Unnormalized RMSE</th>\n",
       "      <th>Normalized Interval Length</th>\n",
       "      <th>Unnormalized Interval Length</th>\n",
       "      <th>Coverage</th>\n",
       "    </tr>\n",
       "  </thead>\n",
       "  <tbody>\n",
       "    <tr>\n",
       "      <th>True</th>\n",
       "      <td>5453.466708</td>\n",
       "      <td>5403.129840</td>\n",
       "      <td>0.009294</td>\n",
       "      <td>50.684381</td>\n",
       "      <td>0.011013</td>\n",
       "      <td>60.060401</td>\n",
       "      <td>0.162081</td>\n",
       "      <td>883.900621</td>\n",
       "      <td>1.0</td>\n",
       "    </tr>\n",
       "    <tr>\n",
       "      <th>False</th>\n",
       "      <td>5456.466230</td>\n",
       "      <td>5404.707229</td>\n",
       "      <td>0.018772</td>\n",
       "      <td>102.429344</td>\n",
       "      <td>0.023589</td>\n",
       "      <td>128.709960</td>\n",
       "      <td>0.197191</td>\n",
       "      <td>1075.963858</td>\n",
       "      <td>1.0</td>\n",
       "    </tr>\n",
       "  </tbody>\n",
       "</table>\n",
       "</div>"
      ],
      "text/plain": [
       "         True ATES  Estimated ATES  Normalized Bias  Unnormalized Bias  \\\n",
       "True   5453.466708     5403.129840         0.009294          50.684381   \n",
       "False  5456.466230     5404.707229         0.018772         102.429344   \n",
       "\n",
       "       Normalized RMSE  Unnormalized RMSE  Normalized Interval Length  \\\n",
       "True          0.011013          60.060401                    0.162081   \n",
       "False         0.023589         128.709960                    0.197191   \n",
       "\n",
       "       Unnormalized Interval Length  Coverage  \n",
       "True                     883.900621       1.0  \n",
       "False                   1075.963858       1.0  "
      ]
     },
     "execution_count": 123,
     "metadata": {},
     "output_type": "execute_result"
    }
   ],
   "source": [
    "data = {'True ATES':true_atesOTsMean, 'Estimated ATES': atesOTsMean,   \n",
    "        'Normalized Bias': biasOTsNorm, 'Unnormalized Bias':biasOTs, \n",
    "        'Normalized RMSE': rmseOTsNorm, 'Unnormalized RMSE':rmseOTs, \n",
    "        'Normalized Interval Length': intervalOTsNorm, 'Unnormalized Interval Length':intervalOTs,\n",
    "        'Coverage':coverageOTs}\n",
    "        \n",
    "tableOTs = pd.DataFrame(data=data, index=xOTs)\n",
    "tableOTs"
   ]
  },
  {
   "cell_type": "markdown",
   "metadata": {},
   "source": [
    "### (5) Treatment Effect Heterogeneity Level"
   ]
  },
  {
   "cell_type": "code",
   "execution_count": 102,
   "metadata": {},
   "outputs": [
    {
     "data": {
      "application/vnd.jupyter.widget-view+json": {
       "model_id": "19e9464378b24313aef7cc6e9449ed20",
       "version_major": 2,
       "version_minor": 0
      },
      "text/plain": [
       "HBox(children=(FloatProgress(value=0.0, max=30.0), HTML(value='')))"
      ]
     },
     "metadata": {},
     "output_type": "display_data"
    },
    {
     "name": "stdout",
     "output_type": "stream",
     "text": [
      "\n"
     ]
    },
    {
     "data": {
      "application/vnd.jupyter.widget-view+json": {
       "model_id": "1ad99f45e8ac4de18267444c0d358c7a",
       "version_major": 2,
       "version_minor": 0
      },
      "text/plain": [
       "HBox(children=(FloatProgress(value=0.0, max=30.0), HTML(value='')))"
      ]
     },
     "metadata": {},
     "output_type": "display_data"
    },
    {
     "name": "stdout",
     "output_type": "stream",
     "text": [
      "\n"
     ]
    },
    {
     "data": {
      "application/vnd.jupyter.widget-view+json": {
       "model_id": "0f25e700cbcf4c9ab9c199fd3d82f445",
       "version_major": 2,
       "version_minor": 0
      },
      "text/plain": [
       "HBox(children=(FloatProgress(value=0.0, max=30.0), HTML(value='')))"
      ]
     },
     "metadata": {},
     "output_type": "display_data"
    },
    {
     "name": "stdout",
     "output_type": "stream",
     "text": [
      "\n"
     ]
    },
    {
     "data": {
      "application/vnd.jupyter.widget-view+json": {
       "model_id": "cbc8c2e0550e4b3e8082381e178594c7",
       "version_major": 2,
       "version_minor": 0
      },
      "text/plain": [
       "HBox(children=(FloatProgress(value=0.0, max=30.0), HTML(value='')))"
      ]
     },
     "metadata": {},
     "output_type": "display_data"
    },
    {
     "name": "stdout",
     "output_type": "stream",
     "text": [
      "\n"
     ]
    }
   ],
   "source": [
    "K = 30\n",
    "heterogeneityLevels = [0, 2, 4, 8]\n",
    "\n",
    "biasHLs = np.zeros(len(heterogeneityLevels))\n",
    "rmseHLs = np.zeros(len(heterogeneityLevels))\n",
    "coverageHLs = np.zeros(len(heterogeneityLevels))\n",
    "intervalHLs = np.zeros(len(heterogeneityLevels))\n",
    "lbsHLs = np.zeros((len(heterogeneityLevels), K))\n",
    "ubsHLs = np.zeros((len(heterogeneityLevels), K))\n",
    "atesHLs = np.zeros((len(heterogeneityLevels), K))\n",
    "true_atesHLs = np.zeros((len(heterogeneityLevels), K))\n",
    "\n",
    "for idx, heterogeneity in enumerate(heterogeneityLevels):\n",
    "    estHLs = []\n",
    "    trueATEHLs = []\n",
    "    evalSetHLs = []\n",
    "    for i in tqdm(range(K)):\n",
    "        if heterogeneity == 0:\n",
    "            y, X, trueBetas, featureNames, treatments, cy, ate, treated = dgp(welfare, effect_type='homogeneous')\n",
    "        else:\n",
    "            y, X, trueBetas, featureNames, treatments, cy, ate, treated = dgp(welfare, heterogeneous_select=heterogeneity)\n",
    "\n",
    "        est, X_test, Y_test, treated_test, CY_test = estimate_cf(y, X, treatments, treated, cy)\n",
    "\n",
    "        # Calculate test set ATE\n",
    "        tmp = Y_test[treated_test] - CY_test[treated_test]\n",
    "        tmp1 = CY_test[~treated_test] - Y_test[~treated_test]\n",
    "        test_ate = (tmp.mean() + tmp1.mean())/2\n",
    "        ate = test_ate\n",
    "\n",
    "        estHLs.append(est)\n",
    "        trueATEHLs.append(ate)\n",
    "        evalSetHLs.append(X_test)\n",
    "\n",
    "    bias, rmse, coverage, interval, lbs, ubs, ates = evalStats(estHLs, trueATEHLs, evalSetHLs)\n",
    "    \n",
    "    biasHLs[idx] = bias\n",
    "    rmseHLs[idx] = rmse\n",
    "    coverageHLs[idx] = coverage\n",
    "    intervalHLs[idx] = interval\n",
    "    lbsHLs[idx, :] = lbs\n",
    "    ubsHLs[idx, :] = ubs\n",
    "    atesHLs[idx, :] = ates\n",
    "    true_atesHLs[idx, :] = trueATEHLs"
   ]
  },
  {
   "cell_type": "code",
   "execution_count": 103,
   "metadata": {},
   "outputs": [
    {
     "data": {
      "text/plain": [
       "['Results/true_atesHLs_30.pkl']"
      ]
     },
     "execution_count": 103,
     "metadata": {},
     "output_type": "execute_result"
    }
   ],
   "source": [
    "joblib.dump(biasHLs, 'Results/biasHLs_{}.pkl'.format(K))\n",
    "joblib.dump(rmseHLs, 'Results/rmseHLs_{}.pkl'.format(K))\n",
    "joblib.dump(coverageHLs, 'Results/coverageHLs_{}.pkl'.format(K))\n",
    "joblib.dump(intervalHLs, 'Results/intervalHLs_{}.pkl'.format(K))\n",
    "joblib.dump(lbsHLs, 'Results/lbsHLs_{}.pkl'.format(K))\n",
    "joblib.dump(ubsHLs, 'Results/ubsHLs_{}.pkl'.format(K))\n",
    "joblib.dump(atesHLs, 'Results/atesHLs_{}.pkl'.format(K))\n",
    "joblib.dump(true_atesHLs, 'Results/true_atesHLs_{}.pkl'.format(K))"
   ]
  },
  {
   "cell_type": "code",
   "execution_count": 38,
   "metadata": {},
   "outputs": [],
   "source": [
    "biasHLs = joblib.load('Results/biasHLs_{}.pkl'.format(K))\n",
    "rmseHLs = joblib.load('Results/rmseHLs_{}.pkl'.format(K))\n",
    "coverageHLs = joblib.load('Results/coverageHLs_{}.pkl'.format(K))\n",
    "intervalHLs = joblib.load('Results/intervalHLs_{}.pkl'.format(K))\n",
    "lbsHLs = joblib.load('Results/lbsHLs_{}.pkl'.format(K))\n",
    "ubsHLs = joblib.load('Results/ubsHLs_{}.pkl'.format(K))\n",
    "atesHLs = joblib.load('Results/atesHLs_{}.pkl'.format(K))\n",
    "true_atesHLs = joblib.load('Results/true_atesHLs_{}.pkl'.format(K))"
   ]
  },
  {
   "cell_type": "code",
   "execution_count": 124,
   "metadata": {},
   "outputs": [
    {
     "data": {
      "image/png": "[encoded data removed]",
      "text/plain": [
       "<Figure size 1152x288 with 4 Axes>"
      ]
     },
     "metadata": {
      "needs_background": "light"
     },
     "output_type": "display_data"
    }
   ],
   "source": [
    "biasHLsNorm = []\n",
    "rmseHLsNorm = []\n",
    "intervalHLsNorm = []\n",
    "true_atesHLsMean = []\n",
    "atesHLsMean = []\n",
    "\n",
    "for idx, _ in enumerate(heterogeneityLevels):\n",
    "    atesHLsMean.append(np.mean(atesHLs[idx, :]))\n",
    "    true_atesHLsMean.append(np.mean(true_atesHLs[idx, :]))\n",
    "    biasHLsNorm.append(biasHLs[idx] / true_atesHLsMean[idx])\n",
    "    rmseHLsNorm.append(rmseHLs[idx] / true_atesHLsMean[idx])\n",
    "    intervalHLsNorm.append(intervalHLs[idx] / true_atesHLsMean[idx])\n",
    "\n",
    "xHLs = list(map(str, heterogeneityLevels))\n",
    "cHLs = np.array([[255, 0, 0], [0, 255, 0], [0, 0, 255], [255, 165, 0]])\n",
    "fig, axs = plt.subplots(1, 4, figsize=(16, 4), sharey=False)\n",
    "\n",
    "axs[0].scatter(xHLs, biasHLsNorm, c=cHLs/255)\n",
    "axs[0].set(xlabel='Heterogeneity Level', ylabel='Bias')\n",
    "axs[0].grid()\n",
    "axs[1].scatter(xHLs, rmseHLsNorm, c=cHLs/255)\n",
    "axs[1].set(xlabel='Heterogeneity Level', ylabel='RMSE')\n",
    "axs[1].grid()\n",
    "axs[2].scatter(xHLs, coverageHLs, c=cHLs/255)\n",
    "axs[2].set(xlabel='Heterogeneity Level', ylabel='Coverage')\n",
    "axs[2].grid()\n",
    "axs[3].scatter(xHLs, intervalHLsNorm, c=cHLs/255)\n",
    "axs[3].set(xlabel='Heterogeneity Level', ylabel='Interval Length')\n",
    "axs[3].grid()\n",
    "\n",
    "fig.suptitle('Evaluation Metrics when Changing Heterogeneity Level (Average over ' + str(K) + ' simulations per parameter setting)')\n",
    "fig.tight_layout(pad=3.0)\n",
    "plt.show()"
   ]
  },
  {
   "cell_type": "code",
   "execution_count": 125,
   "metadata": {},
   "outputs": [
    {
     "data": {
      "text/html": [
       "<div>\n",
       "<style scoped>\n",
       "    .dataframe tbody tr th:only-of-type {\n",
       "        vertical-align: middle;\n",
       "    }\n",
       "\n",
       "    .dataframe tbody tr th {\n",
       "        vertical-align: top;\n",
       "    }\n",
       "\n",
       "    .dataframe thead th {\n",
       "        text-align: right;\n",
       "    }\n",
       "</style>\n",
       "<table border=\"1\" class=\"dataframe\">\n",
       "  <thead>\n",
       "    <tr style=\"text-align: right;\">\n",
       "      <th></th>\n",
       "      <th>True ATES</th>\n",
       "      <th>Estimated ATES</th>\n",
       "      <th>Normalized Bias</th>\n",
       "      <th>Unnormalized Bias</th>\n",
       "      <th>Normalized RMSE</th>\n",
       "      <th>Unnormalized RMSE</th>\n",
       "      <th>Normalized Interval Length</th>\n",
       "      <th>Unnormalized Interval Length</th>\n",
       "      <th>Coverage</th>\n",
       "    </tr>\n",
       "  </thead>\n",
       "  <tbody>\n",
       "    <tr>\n",
       "      <th>0</th>\n",
       "      <td>1.000000e+01</td>\n",
       "      <td>9.826431e+00</td>\n",
       "      <td>0.063075</td>\n",
       "      <td>6.307467e-01</td>\n",
       "      <td>0.083456</td>\n",
       "      <td>8.345605e-01</td>\n",
       "      <td>4.932942</td>\n",
       "      <td>4.932942e+01</td>\n",
       "      <td>1.0</td>\n",
       "    </tr>\n",
       "    <tr>\n",
       "      <th>2</th>\n",
       "      <td>7.931915e+02</td>\n",
       "      <td>7.874031e+02</td>\n",
       "      <td>0.007815</td>\n",
       "      <td>6.198745e+00</td>\n",
       "      <td>0.009976</td>\n",
       "      <td>7.912705e+00</td>\n",
       "      <td>0.207744</td>\n",
       "      <td>1.647809e+02</td>\n",
       "      <td>1.0</td>\n",
       "    </tr>\n",
       "    <tr>\n",
       "      <th>4</th>\n",
       "      <td>5.458236e+03</td>\n",
       "      <td>5.407529e+03</td>\n",
       "      <td>0.009657</td>\n",
       "      <td>5.270965e+01</td>\n",
       "      <td>0.011377</td>\n",
       "      <td>6.209724e+01</td>\n",
       "      <td>0.160495</td>\n",
       "      <td>8.760214e+02</td>\n",
       "      <td>1.0</td>\n",
       "    </tr>\n",
       "    <tr>\n",
       "      <th>8</th>\n",
       "      <td>1.262573e+10</td>\n",
       "      <td>1.256825e+10</td>\n",
       "      <td>0.010169</td>\n",
       "      <td>1.283857e+08</td>\n",
       "      <td>0.013431</td>\n",
       "      <td>1.695761e+08</td>\n",
       "      <td>0.268069</td>\n",
       "      <td>3.384565e+09</td>\n",
       "      <td>1.0</td>\n",
       "    </tr>\n",
       "  </tbody>\n",
       "</table>\n",
       "</div>"
      ],
      "text/plain": [
       "      True ATES  Estimated ATES  Normalized Bias  Unnormalized Bias  \\\n",
       "0  1.000000e+01    9.826431e+00         0.063075       6.307467e-01   \n",
       "2  7.931915e+02    7.874031e+02         0.007815       6.198745e+00   \n",
       "4  5.458236e+03    5.407529e+03         0.009657       5.270965e+01   \n",
       "8  1.262573e+10    1.256825e+10         0.010169       1.283857e+08   \n",
       "\n",
       "   Normalized RMSE  Unnormalized RMSE  Normalized Interval Length  \\\n",
       "0         0.083456       8.345605e-01                    4.932942   \n",
       "2         0.009976       7.912705e+00                    0.207744   \n",
       "4         0.011377       6.209724e+01                    0.160495   \n",
       "8         0.013431       1.695761e+08                    0.268069   \n",
       "\n",
       "   Unnormalized Interval Length  Coverage  \n",
       "0                  4.932942e+01       1.0  \n",
       "2                  1.647809e+02       1.0  \n",
       "4                  8.760214e+02       1.0  \n",
       "8                  3.384565e+09       1.0  "
      ]
     },
     "execution_count": 125,
     "metadata": {},
     "output_type": "execute_result"
    }
   ],
   "source": [
    "data = {'True ATES':true_atesHLsMean, 'Estimated ATES': atesHLsMean,   \n",
    "        'Normalized Bias': biasHLsNorm, 'Unnormalized Bias':biasHLs, \n",
    "        'Normalized RMSE': rmseHLsNorm, 'Unnormalized RMSE':rmseHLs, \n",
    "        'Normalized Interval Length': intervalHLsNorm, 'Unnormalized Interval Length':intervalHLs,\n",
    "        'Coverage':coverageHLs}\n",
    "        \n",
    "tableHLs = pd.DataFrame(data=data, index=xHLs)\n",
    "tableHLs"
   ]
  },
  {
   "cell_type": "markdown",
   "metadata": {},
   "source": [
    "### (6) Treatment Type (Continuous vs. Discrete)"
   ]
  },
  {
   "cell_type": "code",
   "execution_count": 74,
   "metadata": {},
   "outputs": [
    {
     "data": {
      "application/vnd.jupyter.widget-view+json": {
       "model_id": "fb29c594f6474e39bafc49b672ccb059",
       "version_major": 2,
       "version_minor": 0
      },
      "text/plain": [
       "HBox(children=(FloatProgress(value=0.0, max=50.0), HTML(value='')))"
      ]
     },
     "metadata": {},
     "output_type": "display_data"
    },
    {
     "name": "stdout",
     "output_type": "stream",
     "text": [
      "\n"
     ]
    },
    {
     "data": {
      "application/vnd.jupyter.widget-view+json": {
       "model_id": "b33c8a299cbb439589677e4776696829",
       "version_major": 2,
       "version_minor": 0
      },
      "text/plain": [
       "HBox(children=(FloatProgress(value=0.0, max=50.0), HTML(value='')))"
      ]
     },
     "metadata": {},
     "output_type": "display_data"
    },
    {
     "name": "stdout",
     "output_type": "stream",
     "text": [
      "\n"
     ]
    }
   ],
   "source": [
    "K = 50\n",
    "treatmentTypes = ['continuous', 'binary']\n",
    "\n",
    "biasTTs = np.zeros(len(treatmentTypes))\n",
    "rmseTTs = np.zeros(len(treatmentTypes))\n",
    "coverageTTs = np.zeros(len(treatmentTypes))\n",
    "intervalTTs = np.zeros(len(treatmentTypes))\n",
    "lbsTTs = np.zeros((len(treatmentTypes), K))\n",
    "ubsTTs = np.zeros((len(treatmentTypes), K))\n",
    "atesTTs = np.zeros((len(treatmentTypes), K))\n",
    "true_atesTTs = np.zeros((len(treatmentTypes), K))\n",
    "\n",
    "for idx, treatment_type in enumerate(treatmentTypes):\n",
    "    estTTs = []\n",
    "    trueATETTs = []\n",
    "    evalSetTTs = []\n",
    "    criterion = 'het' if treatment_type == \"binary\" else 'mse'\n",
    "    discrete_treatment = True if treatment_type == \"binary\" else False\n",
    "    for i in tqdm(range(K)):\n",
    "        y, X, trueBetas, featureNames, treatments, cy, ate, treated = dgp(welfare, treatment_type=treatment_type)\n",
    "        \n",
    "        est, X_test, Y_test, treated_test, CY_test = estimate_cf(y, X, treatments, treated, cy, criterion=criterion, discrete_treatment=discrete_treatment)\n",
    "\n",
    "        # Calculate test set ATE\n",
    "        tmp = Y_test[treated_test] - CY_test[treated_test]\n",
    "        tmp1 = CY_test[~treated_test] - Y_test[~treated_test]\n",
    "        test_ate = (tmp.mean() + tmp1.mean())/2\n",
    "        ate = test_ate\n",
    "        estTTs.append(est)\n",
    "        trueATETTs.append(ate)\n",
    "        evalSetTTs.append(X_test)\n",
    "\n",
    "    bias, rmse, coverage, interval, lbs, ubs, ates = evalStats(estTTs, trueATETTs, evalSetTTs)\n",
    "    \n",
    "    biasTTs[idx] = bias\n",
    "    rmseTTs[idx] = rmse\n",
    "    coverageTTs[idx] = coverage\n",
    "    intervalTTs[idx] = interval\n",
    "    lbsTTs[idx, :] = lbs\n",
    "    ubsTTs[idx, :] = ubs\n",
    "    atesTTs[idx, :] = ates\n",
    "    true_atesTTs[idx, :] = trueATETTs"
   ]
  },
  {
   "cell_type": "code",
   "execution_count": 75,
   "metadata": {},
   "outputs": [
    {
     "data": {
      "text/plain": [
       "['Results/intervalTTs_50.pkl']"
      ]
     },
     "execution_count": 75,
     "metadata": {},
     "output_type": "execute_result"
    }
   ],
   "source": [
    "joblib.dump(biasTTs, 'Results/biasTTs_{}.pkl'.format(K))\n",
    "joblib.dump(rmseTTs, 'Results/rmseTTs_{}.pkl'.format(K))\n",
    "joblib.dump(coverageTTs, 'Results/coverageTTs_{}.pkl'.format(K))\n",
    "joblib.dump(intervalTTs, 'Results/intervalTTs_{}.pkl'.format(K))\n",
    "joblib.dump(lbsTTs, 'Results/lbsTTs_{}.pkl'.format(K))\n",
    "joblib.dump(ubsTTs, 'Results/ubsTTs_{}.pkl'.format(K))\n",
    "joblib.dump(atesTTs, 'Results/atesTTs_{}.pkl'.format(K))\n",
    "joblib.dump(true_atesTTs, 'Results/true_atesTTs_{}.pkl'.format(K))"
   ]
  },
  {
   "cell_type": "code",
   "execution_count": 46,
   "metadata": {},
   "outputs": [],
   "source": [
    "biasTTs = joblib.load('Results/biasTTs_{}.pkl'.format(K))\n",
    "rmseTTs = joblib.load('Results/rmseTTs_{}.pkl'.format(K))\n",
    "coverageTTs = joblib.load('Results/coverageTTs_{}.pkl'.format(K))\n",
    "intervalTTs = joblib.load('Results/intervalTTs_{}.pkl'.format(K))\n",
    "lbsTTs = joblib.load('Results/lbsTTs_{}.pkl'.format(K))\n",
    "ubsTTs = joblib.load('Results/ubsTTs_{}.pkl'.format(K))\n",
    "atesTTs = joblib.load('Results/atesTTs_{}.pkl'.format(K))\n",
    "true_atesTTs = joblib.load('Results/true_atesTTs_{}'.format(K))"
   ]
  },
  {
   "cell_type": "code",
   "execution_count": 80,
   "metadata": {},
   "outputs": [
    {
     "data": {
      "image/png": "[encoded data removed]",
      "text/plain": [
       "<Figure size 1152x288 with 4 Axes>"
      ]
     },
     "metadata": {
      "needs_background": "light"
     },
     "output_type": "display_data"
    }
   ],
   "source": [
    "biasTTsNorm = []\n",
    "rmseTTsNorm = []\n",
    "intervalTTsNorm = []\n",
    "true_atesTTsMean = []\n",
    "atesTTsMean = []\n",
    "\n",
    "for idx, _ in enumerate(treatmentTypes):\n",
    "    atesTTsMean.append(np.mean(atesTTs[idx, :]))\n",
    "    true_atesTTsMean.append(np.mean(true_atesTTs[idx, :]))\n",
    "    biasTTsNorm.append(biasTTs[idx] / true_atesTTsMean[idx])\n",
    "    rmseTTsNorm.append(rmseTTs[idx] / true_atesTTsMean[idx])\n",
    "    intervalTTsNorm.append(intervalTTs[idx] / true_atesTTsMean[idx])\n",
    "\n",
    "xTTs = treatmentTypes\n",
    "cTTs = np.array([[255, 0, 0], [0, 255, 0]])\n",
    "fig, axs = plt.subplots(1, 4, figsize=(16, 4), sharey=False)\n",
    "\n",
    "axs[0].scatter(xTTs, biasTTsNorm, c=cTTs/255)\n",
    "axs[0].set(xlabel='Treatment Type', ylabel='Bias')\n",
    "axs[0].grid()\n",
    "axs[1].scatter(xTTs, rmseTTsNorm, c=cTTs/255)\n",
    "axs[1].set(xlabel='Treatment Type', ylabel='RMSE')\n",
    "axs[1].grid()\n",
    "axs[2].scatter(xTTs, coverageTTs, c=cTTs/255)\n",
    "axs[2].set(xlabel='Treatment Type', ylabel='Coverage')\n",
    "axs[2].grid()\n",
    "axs[3].scatter(xTTs, intervalTTsNorm, c=cTTs/255)\n",
    "axs[3].set(xlabel='Treatment Type', ylabel='Interval Length')\n",
    "axs[3].grid()\n",
    "\n",
    "fig.suptitle('Evaluation Metrics when Changing Treatment Type (Average over ' + str(K) + ' simulations per parameter setting)')\n",
    "fig.tight_layout(pad=3.0)\n",
    "plt.show()"
   ]
  },
  {
   "cell_type": "code",
   "execution_count": 81,
   "metadata": {},
   "outputs": [
    {
     "data": {
      "text/html": [
       "<div>\n",
       "<style scoped>\n",
       "    .dataframe tbody tr th:only-of-type {\n",
       "        vertical-align: middle;\n",
       "    }\n",
       "\n",
       "    .dataframe tbody tr th {\n",
       "        vertical-align: top;\n",
       "    }\n",
       "\n",
       "    .dataframe thead th {\n",
       "        text-align: right;\n",
       "    }\n",
       "</style>\n",
       "<table border=\"1\" class=\"dataframe\">\n",
       "  <thead>\n",
       "    <tr style=\"text-align: right;\">\n",
       "      <th></th>\n",
       "      <th>Bias</th>\n",
       "      <th>RMSE</th>\n",
       "      <th>Coverage</th>\n",
       "      <th>Interval Length</th>\n",
       "    </tr>\n",
       "  </thead>\n",
       "  <tbody>\n",
       "    <tr>\n",
       "      <th>continuous</th>\n",
       "      <td>2569.386936</td>\n",
       "      <td>2572.952936</td>\n",
       "      <td>0.0</td>\n",
       "      <td>985.637771</td>\n",
       "    </tr>\n",
       "    <tr>\n",
       "      <th>binary</th>\n",
       "      <td>107.081582</td>\n",
       "      <td>131.637333</td>\n",
       "      <td>1.0</td>\n",
       "      <td>877.233591</td>\n",
       "    </tr>\n",
       "  </tbody>\n",
       "</table>\n",
       "</div>"
      ],
      "text/plain": [
       "                   Bias         RMSE  Coverage  Interval Length\n",
       "continuous  2569.386936  2572.952936       0.0       985.637771\n",
       "binary       107.081582   131.637333       1.0       877.233591"
      ]
     },
     "execution_count": 81,
     "metadata": {},
     "output_type": "execute_result"
    }
   ],
   "source": [
    "data = {'True ATES':true_atesTTsMean, 'Estimated ATES': atesTTsMean,   \n",
    "        'Normalized Bias': biasTTsNorm, 'Unnormalized Bias':biasTTs, \n",
    "        'Normalized RMSE': rmseTTsNorm, 'Unnormalized RMSE':rmseTTs, \n",
    "        'Normalized Interval Length': intervalTTsNorm, 'Unnormalized Interval Length':intervalTTs,\n",
    "        'Coverage':coverageTTs}\n",
    "        \n",
    "tableTTs = pd.DataFrame(data=data, index=xTTs)\n",
    "tableTTs"
   ]
  },
  {
   "cell_type": "markdown",
   "metadata": {},
   "source": [
    "### (7) N_Estimators"
   ]
  },
  {
   "cell_type": "code",
   "execution_count": 104,
   "metadata": {},
   "outputs": [
    {
     "data": {
      "application/vnd.jupyter.widget-view+json": {
       "model_id": "cf826440717046e3a58f33ce8e08dcf1",
       "version_major": 2,
       "version_minor": 0
      },
      "text/plain": [
       "HBox(children=(FloatProgress(value=0.0, max=30.0), HTML(value='')))"
      ]
     },
     "metadata": {},
     "output_type": "display_data"
    },
    {
     "name": "stdout",
     "output_type": "stream",
     "text": [
      "\n"
     ]
    },
    {
     "data": {
      "application/vnd.jupyter.widget-view+json": {
       "model_id": "162c977911034619a2f5339072869074",
       "version_major": 2,
       "version_minor": 0
      },
      "text/plain": [
       "HBox(children=(FloatProgress(value=0.0, max=30.0), HTML(value='')))"
      ]
     },
     "metadata": {},
     "output_type": "display_data"
    },
    {
     "name": "stdout",
     "output_type": "stream",
     "text": [
      "\n"
     ]
    },
    {
     "data": {
      "application/vnd.jupyter.widget-view+json": {
       "model_id": "7356f4ad9a174fefa77bbcf740a77658",
       "version_major": 2,
       "version_minor": 0
      },
      "text/plain": [
       "HBox(children=(FloatProgress(value=0.0, max=30.0), HTML(value='')))"
      ]
     },
     "metadata": {},
     "output_type": "display_data"
    },
    {
     "name": "stdout",
     "output_type": "stream",
     "text": [
      "\n"
     ]
    },
    {
     "data": {
      "application/vnd.jupyter.widget-view+json": {
       "model_id": "a26647c5d6c94a3c947a051fc33710ab",
       "version_major": 2,
       "version_minor": 0
      },
      "text/plain": [
       "HBox(children=(FloatProgress(value=0.0, max=30.0), HTML(value='')))"
      ]
     },
     "metadata": {},
     "output_type": "display_data"
    },
    {
     "name": "stdout",
     "output_type": "stream",
     "text": [
      "\n"
     ]
    }
   ],
   "source": [
    "K = 30\n",
    "estimatorNs = [100, 500, 1000, 5000]\n",
    "\n",
    "biasENs = np.zeros(len(estimatorNs))\n",
    "rmseENs = np.zeros(len(estimatorNs))\n",
    "coverageENs = np.zeros(len(estimatorNs))\n",
    "intervalENs = np.zeros(len(estimatorNs))\n",
    "lbsENs = np.zeros((len(estimatorNs), K))\n",
    "ubsENs = np.zeros((len(estimatorNs), K))\n",
    "atesENs = np.zeros((len(estimatorNs), K))\n",
    "true_atesENs = np.zeros((len(estimatorNs), K))\n",
    "\n",
    "for idx, n_estimators in enumerate(estimatorNs):\n",
    "    estENs = []\n",
    "    trueATEENs = []\n",
    "    evalSetENs = []\n",
    "    \n",
    "    for i in tqdm(range(K)):\n",
    "        y, X, trueBetas, featureNames, treatments, cy, ate, treated = dgp(welfare)\n",
    "        \n",
    "        est, X_test, Y_test, treated_test, CY_test = estimate_cf(y, X, treatments, treated, cy, n_estimators=n_estimators)\n",
    "\n",
    "        # Calculate test set ATE\n",
    "        tmp = Y_test[treated_test] - CY_test[treated_test]\n",
    "        tmp1 = CY_test[~treated_test] - Y_test[~treated_test]\n",
    "        test_ate = (tmp.mean() + tmp1.mean())/2\n",
    "        ate = test_ate\n",
    "        \n",
    "        estENs.append(est)\n",
    "        trueATEENs.append(ate)\n",
    "        evalSetENs.append(X_test)\n",
    "\n",
    "    bias, rmse, coverage, interval, lbs, ubs, ates = evalStats(estENs, trueATEENs, evalSetENs)\n",
    "    \n",
    "    biasENs[idx] = bias\n",
    "    rmseENs[idx] = rmse\n",
    "    coverageENs[idx] = coverage\n",
    "    intervalENs[idx] = interval\n",
    "    lbsENs[idx, :] = lbs\n",
    "    ubsENs[idx, :] = ubs\n",
    "    atesENs[idx, :] = ates\n",
    "    true_atesENs[idx, :] = trueATEENs"
   ]
  },
  {
   "cell_type": "code",
   "execution_count": 105,
   "metadata": {},
   "outputs": [
    {
     "data": {
      "text/plain": [
       "['Results/true_atesENs_30.pkl']"
      ]
     },
     "execution_count": 105,
     "metadata": {},
     "output_type": "execute_result"
    }
   ],
   "source": [
    "joblib.dump(biasENs, 'Results/biasENs_{}.pkl'.format(K))\n",
    "joblib.dump(rmseENs, 'Results/rmseENs_{}.pkl'.format(K))\n",
    "joblib.dump(coverageENs, 'Results/coverageENs_{}.pkl'.format(K))\n",
    "joblib.dump(intervalENs, 'Results/intervalENs_{}.pkl'.format(K))\n",
    "joblib.dump(lbsENs, 'Results/lbsENs_{}.pkl'.format(K))\n",
    "joblib.dump(ubsENs, 'Results/ubsENs_{}.pkl'.format(K))\n",
    "joblib.dump(atesENs, 'Results/atesENs_{}.pkl'.format(K))\n",
    "joblib.dump(true_atesENs, 'Results/true_atesENs_{}.pkl'.format(K))"
   ]
  },
  {
   "cell_type": "code",
   "execution_count": 45,
   "metadata": {},
   "outputs": [],
   "source": [
    "biasENs = joblib.load('Results/biasENs_{}.pkl'.format(K))\n",
    "rmseENs = joblib.load('Results/rmseENs_{}.pkl'.format(K))\n",
    "coverageENs = joblib.load('Results/coverageENs_{}.pkl'.format(K))\n",
    "intervalENs = joblib.load('Results/intervalENs_{}.pkl'.format(K))\n",
    "lbsENs = joblib.load('Results/lbsENs_{}.pkl'.format(K))\n",
    "ubsENs = joblib.load('Results/ubsENs_{}.pkl'.format(K))\n",
    "atesENs = joblib.load('Results/atesENs_{}.pkl'.format(K))\n",
    "true_atesENs = joblib.load('Results/true_atesENs_{}.pkl'.format(K))"
   ]
  },
  {
   "cell_type": "code",
   "execution_count": 126,
   "metadata": {},
   "outputs": [
    {
     "data": {
      "image/png": "[encoded data removed]",
      "text/plain": [
       "<Figure size 1152x288 with 4 Axes>"
      ]
     },
     "metadata": {
      "needs_background": "light"
     },
     "output_type": "display_data"
    }
   ],
   "source": [
    "biasENsNorm = []\n",
    "rmseENsNorm = []\n",
    "intervalENsNorm = []\n",
    "true_atesENsMean = []\n",
    "atesENsMean = []\n",
    "\n",
    "for idx, _ in enumerate(estimatorNs):\n",
    "    atesENsMean.append(np.mean(atesENs[idx, :]))\n",
    "    true_atesENsMean.append(np.mean(true_atesENs[idx, :]))\n",
    "    biasENsNorm.append(biasENs[idx] / true_atesENsMean[idx])\n",
    "    rmseENsNorm.append(rmseENs[idx] / true_atesENsMean[idx])\n",
    "    intervalENsNorm.append(intervalENs[idx] / true_atesENsMean[idx])\n",
    "\n",
    "xENs = list(map(str, estimatorNs))\n",
    "cENs = np.array([[255, 0, 0], [0, 255, 0], [0, 0, 255], [255, 165, 0]])\n",
    "fig, axs = plt.subplots(1, 4, figsize=(16, 4), sharey=False)\n",
    "\n",
    "axs[0].scatter(xENs, biasENsNorm, c=cENs/255)\n",
    "axs[0].set(xlabel='num_estimators', ylabel='Bias')\n",
    "axs[0].grid()\n",
    "axs[1].scatter(xENs, rmseENsNorm, c=cENs/255)\n",
    "axs[1].set(xlabel='num_estimators', ylabel='RMSE')\n",
    "axs[1].grid()\n",
    "axs[2].scatter(xENs, coverageENs, c=cENs/255)\n",
    "axs[2].set(xlabel='num_estimators', ylabel='Coverage')\n",
    "axs[2].grid()\n",
    "axs[3].scatter(xENs, intervalENsNorm, c=cENs/255)\n",
    "axs[3].set(xlabel='num_estimators', ylabel='Interval Length')\n",
    "axs[3].grid()\n",
    "\n",
    "fig.suptitle('Evaluation Metrics when Changing num_estimators (Average over ' + str(K) + ' simulations per parameter setting)')\n",
    "fig.tight_layout(pad=3.0)\n",
    "plt.show()"
   ]
  },
  {
   "cell_type": "code",
   "execution_count": 46,
   "metadata": {},
   "outputs": [
    {
     "data": {
      "text/html": [
       "<div>\n",
       "<style scoped>\n",
       "    .dataframe tbody tr th:only-of-type {\n",
       "        vertical-align: middle;\n",
       "    }\n",
       "\n",
       "    .dataframe tbody tr th {\n",
       "        vertical-align: top;\n",
       "    }\n",
       "\n",
       "    .dataframe thead th {\n",
       "        text-align: right;\n",
       "    }\n",
       "</style>\n",
       "<table border=\"1\" class=\"dataframe\">\n",
       "  <thead>\n",
       "    <tr style=\"text-align: right;\">\n",
       "      <th></th>\n",
       "      <th>True ATES</th>\n",
       "      <th>Estimated ATES</th>\n",
       "      <th>Normalized Bias</th>\n",
       "      <th>Unnormalized Bias</th>\n",
       "      <th>Normalized RMSE</th>\n",
       "      <th>Unnormalized RMSE</th>\n",
       "      <th>Normalized Interval Length</th>\n",
       "      <th>Unnormalized Interval Length</th>\n",
       "      <th>Coverage</th>\n",
       "    </tr>\n",
       "  </thead>\n",
       "  <tbody>\n",
       "    <tr>\n",
       "      <th>100</th>\n",
       "      <td>5565.936961</td>\n",
       "      <td>5532.114094</td>\n",
       "      <td>0.006077</td>\n",
       "      <td>33.822867</td>\n",
       "      <td>0.006077</td>\n",
       "      <td>33.822867</td>\n",
       "      <td>0.187268</td>\n",
       "      <td>1042.320012</td>\n",
       "      <td>1.0</td>\n",
       "    </tr>\n",
       "    <tr>\n",
       "      <th>500</th>\n",
       "      <td>5523.942920</td>\n",
       "      <td>5449.390716</td>\n",
       "      <td>0.013496</td>\n",
       "      <td>74.552204</td>\n",
       "      <td>0.013496</td>\n",
       "      <td>74.552204</td>\n",
       "      <td>0.150349</td>\n",
       "      <td>830.519095</td>\n",
       "      <td>1.0</td>\n",
       "    </tr>\n",
       "    <tr>\n",
       "      <th>1000</th>\n",
       "      <td>5474.819893</td>\n",
       "      <td>5450.791857</td>\n",
       "      <td>0.004389</td>\n",
       "      <td>24.028036</td>\n",
       "      <td>0.004389</td>\n",
       "      <td>24.028036</td>\n",
       "      <td>0.149775</td>\n",
       "      <td>819.989987</td>\n",
       "      <td>1.0</td>\n",
       "    </tr>\n",
       "    <tr>\n",
       "      <th>5000</th>\n",
       "      <td>5361.625270</td>\n",
       "      <td>5287.516977</td>\n",
       "      <td>0.013822</td>\n",
       "      <td>74.108293</td>\n",
       "      <td>0.013822</td>\n",
       "      <td>74.108293</td>\n",
       "      <td>0.156813</td>\n",
       "      <td>840.772017</td>\n",
       "      <td>1.0</td>\n",
       "    </tr>\n",
       "  </tbody>\n",
       "</table>\n",
       "</div>"
      ],
      "text/plain": [
       "        True ATES  Estimated ATES  Normalized Bias  Unnormalized Bias  \\\n",
       "100   5565.936961     5532.114094         0.006077          33.822867   \n",
       "500   5523.942920     5449.390716         0.013496          74.552204   \n",
       "1000  5474.819893     5450.791857         0.004389          24.028036   \n",
       "5000  5361.625270     5287.516977         0.013822          74.108293   \n",
       "\n",
       "      Normalized RMSE  Unnormalized RMSE  Normalized Interval Length  \\\n",
       "100          0.006077          33.822867                    0.187268   \n",
       "500          0.013496          74.552204                    0.150349   \n",
       "1000         0.004389          24.028036                    0.149775   \n",
       "5000         0.013822          74.108293                    0.156813   \n",
       "\n",
       "      Unnormalized Interval Length  Coverage  \n",
       "100                    1042.320012       1.0  \n",
       "500                     830.519095       1.0  \n",
       "1000                    819.989987       1.0  \n",
       "5000                    840.772017       1.0  "
      ]
     },
     "execution_count": 46,
     "metadata": {},
     "output_type": "execute_result"
    }
   ],
   "source": [
    "data = {'True ATES':true_atesENsMean, 'Estimated ATES': atesENsMean,   \n",
    "        'Normalized Bias': biasENsNorm, 'Unnormalized Bias':biasENs, \n",
    "        'Normalized RMSE': rmseENsNorm, 'Unnormalized RMSE':rmseENs, \n",
    "        'Normalized Interval Length': intervalENsNorm, 'Unnormalized Interval Length':intervalENs,\n",
    "        'Coverage':coverageENs}\n",
    "        \n",
    "tableENs = pd.DataFrame(data=data, index=xENs)\n",
    "tableENs"
   ]
  },
  {
   "cell_type": "markdown",
   "metadata": {},
   "source": [
    "## Evaluating CATEs for covariates responsible/not responsible for treatment effect hetereogeneity on baseline model"
   ]
  },
  {
   "cell_type": "markdown",
   "metadata": {},
   "source": [
    "### Race covariate (responsible for heterogeneity)"
   ]
  },
  {
   "cell_type": "code",
   "execution_count": 131,
   "metadata": {},
   "outputs": [],
   "source": [
    "N = 2000\n",
    "nBins = 10\n",
    "\n",
    "y, X, trueBetas, featureNames, treatments, cy, ate, treated, bins, cates = dgp(welfare, N=N, cate_feature='race', nBins=nBins, compute_cate=True)\n",
    "yFit, XFit, treatmentsFit, treatedFit, cyFit = y[:N//2], X[:N//2], treatments[:N//2], treated[:N//2], cy[:N//2]\n",
    "\n",
    "est, _, _, _, _ = estimate_cf(yFit, XFit, treatmentsFit, treatedFit, cyFit, test_size=0.0)\n",
    "\n",
    "# filtering out the bins \n",
    "# so they don’t contain any observations we used to fit the estimator\n",
    "binNumbers = np.arange(start=1, stop=1+len(bins))\n",
    "filteredBins = []\n",
    "for i in range(nBins):\n",
    "    fBin = []\n",
    "    for j in range(bins[i].shape[0]):\n",
    "        if len(np.where((XFit == bins[i][j]).all(axis=1))[0]) == 0:\n",
    "            fBin.append(bins[i][j])\n",
    "    filteredBins.append(np.array(fBin))\n",
    "\n",
    "cateEstimates = []\n",
    "cateLBS = []\n",
    "cateUBS = []\n",
    "for fBin in filteredBins:\n",
    "    cate = est.ate(fBin)[0]\n",
    "    lb, ub = est.ate_interval(fBin, alpha=0.05)\n",
    "    cateEstimates.append(cate)\n",
    "    cateLBS.append(lb[0])\n",
    "    cateUBS.append(ub[0])"
   ]
  },
  {
   "cell_type": "code",
   "execution_count": 132,
   "metadata": {},
   "outputs": [],
   "source": [
    "biasRaces = []\n",
    "biasRacesNorm = []\n",
    "intervalRaces = []\n",
    "intervalRacesNorm = []\n",
    "coverageRaces = []\n",
    "\n",
    "for i in range(nBins):\n",
    "    bias = abs(cates[i] - cateEstimates[i])\n",
    "    interval = cateUBS[i] - cateLBS[i]\n",
    "    coverage = 1 if (cates[i] >= cateLBS[i] and cates[i] <= cateUBS[i]) else 0\n",
    "    \n",
    "    biasRaces.append(bias)\n",
    "    biasRacesNorm.append(bias/cates[i])\n",
    "    intervalRaces.append(interval)\n",
    "    intervalRacesNorm.append(interval/cates[i])\n",
    "    coverageRaces.append(coverage)\n",
    "\n",
    "race_data = {'True CATES':cates, 'Estimated CATES':cateEstimates,   \n",
    "        'Normalized Bias':biasRacesNorm, 'Unnormalized Bias':biasRaces,\n",
    "        'Normalized Interval Length':intervalRacesNorm, 'Interval Length':intervalRaces, \n",
    "        'Coverage':coverageRaces}"
   ]
  },
  {
   "cell_type": "code",
   "execution_count": 133,
   "metadata": {},
   "outputs": [
    {
     "data": {
      "text/plain": [
       "['Results/race_data_2000_10.pkl']"
      ]
     },
     "execution_count": 133,
     "metadata": {},
     "output_type": "execute_result"
    }
   ],
   "source": [
    "joblib.dump(race_data, 'Results/race_data_{}_{}.pkl'.format(N, nBins))"
   ]
  },
  {
   "cell_type": "code",
   "execution_count": 82,
   "metadata": {},
   "outputs": [],
   "source": [
    "race_data = joblib.load('Results/race_data_{}_{}.pkl'.format(N, nBins))"
   ]
  },
  {
   "cell_type": "code",
   "execution_count": 113,
   "metadata": {},
   "outputs": [
    {
     "data": {
      "text/html": [
       "<div>\n",
       "<style scoped>\n",
       "    .dataframe tbody tr th:only-of-type {\n",
       "        vertical-align: middle;\n",
       "    }\n",
       "\n",
       "    .dataframe tbody tr th {\n",
       "        vertical-align: top;\n",
       "    }\n",
       "\n",
       "    .dataframe thead th {\n",
       "        text-align: right;\n",
       "    }\n",
       "</style>\n",
       "<table border=\"1\" class=\"dataframe\">\n",
       "  <thead>\n",
       "    <tr style=\"text-align: right;\">\n",
       "      <th></th>\n",
       "      <th>True CATES</th>\n",
       "      <th>Estimated CATES</th>\n",
       "      <th>Normalized Bias</th>\n",
       "      <th>Unnormalized Bias</th>\n",
       "      <th>Normalized Interval Length</th>\n",
       "      <th>Interval Length</th>\n",
       "      <th>Coverage</th>\n",
       "    </tr>\n",
       "  </thead>\n",
       "  <tbody>\n",
       "    <tr>\n",
       "      <th>1</th>\n",
       "      <td>4926.555939</td>\n",
       "      <td>5009.312198</td>\n",
       "      <td>0.016798</td>\n",
       "      <td>82.756259</td>\n",
       "      <td>0.095238</td>\n",
       "      <td>469.196415</td>\n",
       "      <td>1</td>\n",
       "    </tr>\n",
       "    <tr>\n",
       "      <th>2</th>\n",
       "      <td>5142.082670</td>\n",
       "      <td>5179.515633</td>\n",
       "      <td>0.007280</td>\n",
       "      <td>37.432963</td>\n",
       "      <td>0.091061</td>\n",
       "      <td>468.244818</td>\n",
       "      <td>1</td>\n",
       "    </tr>\n",
       "    <tr>\n",
       "      <th>3</th>\n",
       "      <td>5360.951560</td>\n",
       "      <td>5329.162879</td>\n",
       "      <td>0.005930</td>\n",
       "      <td>31.788681</td>\n",
       "      <td>0.078633</td>\n",
       "      <td>421.547511</td>\n",
       "      <td>1</td>\n",
       "    </tr>\n",
       "    <tr>\n",
       "      <th>4</th>\n",
       "      <td>5353.864625</td>\n",
       "      <td>5357.187781</td>\n",
       "      <td>0.000621</td>\n",
       "      <td>3.323156</td>\n",
       "      <td>0.086316</td>\n",
       "      <td>462.124527</td>\n",
       "      <td>1</td>\n",
       "    </tr>\n",
       "    <tr>\n",
       "      <th>5</th>\n",
       "      <td>5366.344329</td>\n",
       "      <td>5414.664407</td>\n",
       "      <td>0.009004</td>\n",
       "      <td>48.320078</td>\n",
       "      <td>0.081023</td>\n",
       "      <td>434.799978</td>\n",
       "      <td>1</td>\n",
       "    </tr>\n",
       "    <tr>\n",
       "      <th>6</th>\n",
       "      <td>5480.692735</td>\n",
       "      <td>5488.121219</td>\n",
       "      <td>0.001355</td>\n",
       "      <td>7.428484</td>\n",
       "      <td>0.082019</td>\n",
       "      <td>449.521619</td>\n",
       "      <td>1</td>\n",
       "    </tr>\n",
       "    <tr>\n",
       "      <th>7</th>\n",
       "      <td>5420.216131</td>\n",
       "      <td>5447.816893</td>\n",
       "      <td>0.005092</td>\n",
       "      <td>27.600762</td>\n",
       "      <td>0.069976</td>\n",
       "      <td>379.287211</td>\n",
       "      <td>1</td>\n",
       "    </tr>\n",
       "    <tr>\n",
       "      <th>8</th>\n",
       "      <td>5662.928104</td>\n",
       "      <td>5635.069118</td>\n",
       "      <td>0.004920</td>\n",
       "      <td>27.858986</td>\n",
       "      <td>0.076567</td>\n",
       "      <td>433.594357</td>\n",
       "      <td>1</td>\n",
       "    </tr>\n",
       "    <tr>\n",
       "      <th>9</th>\n",
       "      <td>5785.191579</td>\n",
       "      <td>5693.767873</td>\n",
       "      <td>0.015803</td>\n",
       "      <td>91.423706</td>\n",
       "      <td>0.074132</td>\n",
       "      <td>428.865523</td>\n",
       "      <td>1</td>\n",
       "    </tr>\n",
       "    <tr>\n",
       "      <th>10</th>\n",
       "      <td>6059.622143</td>\n",
       "      <td>5897.952609</td>\n",
       "      <td>0.026680</td>\n",
       "      <td>161.669534</td>\n",
       "      <td>0.077551</td>\n",
       "      <td>469.932142</td>\n",
       "      <td>1</td>\n",
       "    </tr>\n",
       "  </tbody>\n",
       "</table>\n",
       "</div>"
      ],
      "text/plain": [
       "     True CATES  Estimated CATES  Normalized Bias  Unnormalized Bias  \\\n",
       "1   4926.555939      5009.312198         0.016798          82.756259   \n",
       "2   5142.082670      5179.515633         0.007280          37.432963   \n",
       "3   5360.951560      5329.162879         0.005930          31.788681   \n",
       "4   5353.864625      5357.187781         0.000621           3.323156   \n",
       "5   5366.344329      5414.664407         0.009004          48.320078   \n",
       "6   5480.692735      5488.121219         0.001355           7.428484   \n",
       "7   5420.216131      5447.816893         0.005092          27.600762   \n",
       "8   5662.928104      5635.069118         0.004920          27.858986   \n",
       "9   5785.191579      5693.767873         0.015803          91.423706   \n",
       "10  6059.622143      5897.952609         0.026680         161.669534   \n",
       "\n",
       "    Normalized Interval Length  Interval Length  Coverage  \n",
       "1                     0.095238       469.196415         1  \n",
       "2                     0.091061       468.244818         1  \n",
       "3                     0.078633       421.547511         1  \n",
       "4                     0.086316       462.124527         1  \n",
       "5                     0.081023       434.799978         1  \n",
       "6                     0.082019       449.521619         1  \n",
       "7                     0.069976       379.287211         1  \n",
       "8                     0.076567       433.594357         1  \n",
       "9                     0.074132       428.865523         1  \n",
       "10                    0.077551       469.932142         1  "
      ]
     },
     "execution_count": 113,
     "metadata": {},
     "output_type": "execute_result"
    }
   ],
   "source": [
    "tableRaceCATEs = pd.DataFrame(data=race_data, index=binNumbers)\n",
    "tableRaceCATEs"
   ]
  },
  {
   "cell_type": "code",
   "execution_count": 114,
   "metadata": {},
   "outputs": [
    {
     "data": {
      "image/png": "[encoded data removed]",
      "text/plain": [
       "<Figure size 1152x720 with 1 Axes>"
      ]
     },
     "metadata": {
      "needs_background": "light"
     },
     "output_type": "display_data"
    }
   ],
   "source": [
    "plt.figure(figsize=(16,10))\n",
    "plt.xlabel(\"Race Bin\")\n",
    "plt.ylabel(\"CATE\")\n",
    "plt.plot(binNumbers, cateEstimates, marker='o', label=\"Estimate CATE\")\n",
    "plt.plot(binNumbers, cates, color='red', label='True CATE')\n",
    "plt.title(\"Estimated vs Actual CATE of Race Groups across {} Samples\".format(N))\n",
    "plt.legend()\n",
    "plt.fill_between(binNumbers, cateLBS, cateUBS, color='b', alpha=.1)\n",
    "plt.xticks(np.linspace(start=1, stop=len(bins), num=len(bins)), np.linspace(start=1, stop=len(bins), num=len(bins)))\n",
    "plt.show()"
   ]
  },
  {
   "cell_type": "code",
   "execution_count": 135,
   "metadata": {},
   "outputs": [
    {
     "data": {
      "text/html": [
       "<div>\n",
       "<style scoped>\n",
       "    .dataframe tbody tr th:only-of-type {\n",
       "        vertical-align: middle;\n",
       "    }\n",
       "\n",
       "    .dataframe tbody tr th {\n",
       "        vertical-align: top;\n",
       "    }\n",
       "\n",
       "    .dataframe thead th {\n",
       "        text-align: right;\n",
       "    }\n",
       "</style>\n",
       "<table border=\"1\" class=\"dataframe\">\n",
       "  <thead>\n",
       "    <tr style=\"text-align: right;\">\n",
       "      <th></th>\n",
       "      <th>True CATES</th>\n",
       "      <th>Estimated CATES</th>\n",
       "      <th>Normalized Bias</th>\n",
       "      <th>Unnormalized Bias</th>\n",
       "      <th>Normalized Interval Length</th>\n",
       "      <th>Interval Length</th>\n",
       "      <th>Coverage</th>\n",
       "    </tr>\n",
       "  </thead>\n",
       "  <tbody>\n",
       "    <tr>\n",
       "      <th>1</th>\n",
       "      <td>4724.317252</td>\n",
       "      <td>4980.540479</td>\n",
       "      <td>0.054235</td>\n",
       "      <td>256.223226</td>\n",
       "      <td>0.289109</td>\n",
       "      <td>1365.843001</td>\n",
       "      <td>1</td>\n",
       "    </tr>\n",
       "    <tr>\n",
       "      <th>2</th>\n",
       "      <td>5442.992350</td>\n",
       "      <td>5449.997484</td>\n",
       "      <td>0.001287</td>\n",
       "      <td>7.005134</td>\n",
       "      <td>0.237109</td>\n",
       "      <td>1290.582805</td>\n",
       "      <td>1</td>\n",
       "    </tr>\n",
       "    <tr>\n",
       "      <th>3</th>\n",
       "      <td>4873.069411</td>\n",
       "      <td>5298.360401</td>\n",
       "      <td>0.087274</td>\n",
       "      <td>425.290990</td>\n",
       "      <td>0.268035</td>\n",
       "      <td>1306.151616</td>\n",
       "      <td>1</td>\n",
       "    </tr>\n",
       "    <tr>\n",
       "      <th>4</th>\n",
       "      <td>5145.608782</td>\n",
       "      <td>5358.996609</td>\n",
       "      <td>0.041470</td>\n",
       "      <td>213.387827</td>\n",
       "      <td>0.294324</td>\n",
       "      <td>1514.476952</td>\n",
       "      <td>1</td>\n",
       "    </tr>\n",
       "    <tr>\n",
       "      <th>5</th>\n",
       "      <td>5320.116680</td>\n",
       "      <td>5284.884210</td>\n",
       "      <td>0.006622</td>\n",
       "      <td>35.232470</td>\n",
       "      <td>0.263939</td>\n",
       "      <td>1404.187669</td>\n",
       "      <td>1</td>\n",
       "    </tr>\n",
       "    <tr>\n",
       "      <th>6</th>\n",
       "      <td>4869.680867</td>\n",
       "      <td>5053.196727</td>\n",
       "      <td>0.037685</td>\n",
       "      <td>183.515859</td>\n",
       "      <td>0.262034</td>\n",
       "      <td>1276.019939</td>\n",
       "      <td>1</td>\n",
       "    </tr>\n",
       "    <tr>\n",
       "      <th>7</th>\n",
       "      <td>6115.852411</td>\n",
       "      <td>5543.087949</td>\n",
       "      <td>0.093652</td>\n",
       "      <td>572.764461</td>\n",
       "      <td>0.216735</td>\n",
       "      <td>1325.520243</td>\n",
       "      <td>1</td>\n",
       "    </tr>\n",
       "    <tr>\n",
       "      <th>8</th>\n",
       "      <td>5503.079325</td>\n",
       "      <td>5391.194473</td>\n",
       "      <td>0.020331</td>\n",
       "      <td>111.884852</td>\n",
       "      <td>0.272437</td>\n",
       "      <td>1499.245166</td>\n",
       "      <td>1</td>\n",
       "    </tr>\n",
       "    <tr>\n",
       "      <th>9</th>\n",
       "      <td>5773.951940</td>\n",
       "      <td>5347.874346</td>\n",
       "      <td>0.073793</td>\n",
       "      <td>426.077593</td>\n",
       "      <td>0.239495</td>\n",
       "      <td>1382.834182</td>\n",
       "      <td>1</td>\n",
       "    </tr>\n",
       "    <tr>\n",
       "      <th>10</th>\n",
       "      <td>6872.920944</td>\n",
       "      <td>6058.582295</td>\n",
       "      <td>0.118485</td>\n",
       "      <td>814.338649</td>\n",
       "      <td>0.206053</td>\n",
       "      <td>1416.183932</td>\n",
       "      <td>0</td>\n",
       "    </tr>\n",
       "  </tbody>\n",
       "</table>\n",
       "</div>"
      ],
      "text/plain": [
       "     True CATES  Estimated CATES  Normalized Bias  Unnormalized Bias  \\\n",
       "1   4724.317252      4980.540479         0.054235         256.223226   \n",
       "2   5442.992350      5449.997484         0.001287           7.005134   \n",
       "3   4873.069411      5298.360401         0.087274         425.290990   \n",
       "4   5145.608782      5358.996609         0.041470         213.387827   \n",
       "5   5320.116680      5284.884210         0.006622          35.232470   \n",
       "6   4869.680867      5053.196727         0.037685         183.515859   \n",
       "7   6115.852411      5543.087949         0.093652         572.764461   \n",
       "8   5503.079325      5391.194473         0.020331         111.884852   \n",
       "9   5773.951940      5347.874346         0.073793         426.077593   \n",
       "10  6872.920944      6058.582295         0.118485         814.338649   \n",
       "\n",
       "    Normalized Interval Length  Interval Length  Coverage  \n",
       "1                     0.289109      1365.843001         1  \n",
       "2                     0.237109      1290.582805         1  \n",
       "3                     0.268035      1306.151616         1  \n",
       "4                     0.294324      1514.476952         1  \n",
       "5                     0.263939      1404.187669         1  \n",
       "6                     0.262034      1276.019939         1  \n",
       "7                     0.216735      1325.520243         1  \n",
       "8                     0.272437      1499.245166         1  \n",
       "9                     0.239495      1382.834182         1  \n",
       "10                    0.206053      1416.183932         0  "
      ]
     },
     "execution_count": 135,
     "metadata": {},
     "output_type": "execute_result"
    }
   ],
   "source": [
    "tableRaceCATEs = pd.DataFrame(data=race_data, index=binNumbers)\n",
    "tableRaceCATEs"
   ]
  },
  {
   "cell_type": "code",
   "execution_count": 134,
   "metadata": {},
   "outputs": [
    {
     "data": {
      "image/png": "[encoded data removed]",
      "text/plain": [
       "<Figure size 1152x720 with 1 Axes>"
      ]
     },
     "metadata": {
      "needs_background": "light"
     },
     "output_type": "display_data"
    }
   ],
   "source": [
    "plt.figure(figsize=(16,10))\n",
    "plt.xlabel(\"Race Bin\")\n",
    "plt.ylabel(\"CATE\")\n",
    "plt.plot(binNumbers, cateEstimates, marker='o', label=\"Estimate CATE\")\n",
    "plt.plot(binNumbers, cates, color='red', label='True CATE')\n",
    "plt.title(\"Estimated vs Actual CATE of Race Groups across {} Samples\".format(N))\n",
    "plt.legend()\n",
    "plt.fill_between(binNumbers, cateLBS, cateUBS, color='b', alpha=.1)\n",
    "plt.xticks(np.linspace(start=1, stop=len(bins), num=len(bins)), np.linspace(start=1, stop=len(bins), num=len(bins)))\n",
    "plt.show()"
   ]
  },
  {
   "cell_type": "markdown",
   "metadata": {},
   "source": [
    "### Educ covariate (not responsible for heterogeneity)"
   ]
  },
  {
   "cell_type": "code",
   "execution_count": 127,
   "metadata": {},
   "outputs": [],
   "source": [
    "N = 2000\n",
    "nBins = 10\n",
    "\n",
    "y, X, trueBetas, featureNames, treatments, cy, ate, treated, bins, cates = dgp(welfare, N=N, cate_feature='educ', nBins=nBins, compute_cate=True)\n",
    "yFit, XFit, treatmentsFit, treatedFit, cyFit = y[:N//2], X[:N//2], treatments[:N//2], treated[:N//2], cy[:N//2]\n",
    "\n",
    "est, _, _, _, _ = estimate_cf(yFit, XFit, treatmentsFit, treatedFit, cyFit, test_size=0.1)\n",
    "\n",
    "binNumbers = np.arange(start=1, stop=1+len(bins))\n",
    "filteredBins = []\n",
    "for i in range(nBins):\n",
    "    fBin = []\n",
    "    for j in range(bins[i].shape[0]):\n",
    "        if len(np.where((XFit == bins[i][j]).all(axis=1))[0]) == 0:\n",
    "            fBin.append(bins[i][j])\n",
    "    filteredBins.append(np.array(fBin))\n",
    "\n",
    "cateEstimates = []\n",
    "cateLBS = []\n",
    "cateUBS = []\n",
    "for fBin in filteredBins:\n",
    "    cate = est.ate(fBin)[0]\n",
    "    lb, ub = est.ate_interval(fBin, alpha=0.05)\n",
    "    cateEstimates.append(cate)\n",
    "    cateLBS.append(lb[0])\n",
    "    cateUBS.append(ub[0])"
   ]
  },
  {
   "cell_type": "code",
   "execution_count": 128,
   "metadata": {},
   "outputs": [],
   "source": [
    "biasEducs = []\n",
    "biasEducsNorm = []\n",
    "intervalEducs = []\n",
    "intervalEducsNorm = []\n",
    "coverageEducs = []\n",
    "\n",
    "for i in range(nBins):\n",
    "    bias = cates[i] - cateEstimates[i]\n",
    "    interval = cateUBS[i] - cateLBS[i]\n",
    "    coverage = 1 if (cates[i] >= cateLBS[i] and cates[i] <= cateUBS[i]) else 0\n",
    "    \n",
    "    biasEducs.append(bias)\n",
    "    biasEducsNorm.append(bias/cates[i])\n",
    "    intervalEducs.append(interval)\n",
    "    intervalEducsNorm.append(interval/cates[i])\n",
    "    coverageEducs.append(coverage)\n",
    "\n",
    "educ_data = {'True CATES':cates, 'Estimated CATES':cateEstimates,   \n",
    "        'Normalized Bias':biasEducsNorm, 'Unnormalized Bias':biasEducs,\n",
    "        'Normalized Interval Length':intervalEducsNorm, 'Interval Length':intervalEducs, \n",
    "        'Coverage':coverageEducs}"
   ]
  },
  {
   "cell_type": "code",
   "execution_count": 129,
   "metadata": {},
   "outputs": [
    {
     "data": {
      "text/plain": [
       "['Results/educ_data_2000_10.pkl']"
      ]
     },
     "execution_count": 129,
     "metadata": {},
     "output_type": "execute_result"
    }
   ],
   "source": [
    "joblib.dump(educ_data, 'Results/educ_data_{}_{}.pkl'.format(N, nBins))"
   ]
  },
  {
   "cell_type": "code",
   "execution_count": 90,
   "metadata": {},
   "outputs": [],
   "source": [
    "educ_data = joblib.load('Results/educ_data_{}_{}.pkl'.format(N, nBins))"
   ]
  },
  {
   "cell_type": "code",
   "execution_count": 112,
   "metadata": {},
   "outputs": [
    {
     "data": {
      "text/html": [
       "<div>\n",
       "<style scoped>\n",
       "    .dataframe tbody tr th:only-of-type {\n",
       "        vertical-align: middle;\n",
       "    }\n",
       "\n",
       "    .dataframe tbody tr th {\n",
       "        vertical-align: top;\n",
       "    }\n",
       "\n",
       "    .dataframe thead th {\n",
       "        text-align: right;\n",
       "    }\n",
       "</style>\n",
       "<table border=\"1\" class=\"dataframe\">\n",
       "  <thead>\n",
       "    <tr style=\"text-align: right;\">\n",
       "      <th></th>\n",
       "      <th>True CATES</th>\n",
       "      <th>Estimated CATES</th>\n",
       "      <th>Normalized Bias</th>\n",
       "      <th>Unnormalized Bias</th>\n",
       "      <th>Normalized Interval Length</th>\n",
       "      <th>Interval Length</th>\n",
       "      <th>Coverage</th>\n",
       "    </tr>\n",
       "  </thead>\n",
       "  <tbody>\n",
       "    <tr>\n",
       "      <th>1</th>\n",
       "      <td>4124.607404</td>\n",
       "      <td>4046.646484</td>\n",
       "      <td>0.018901</td>\n",
       "      <td>77.960920</td>\n",
       "      <td>0.094164</td>\n",
       "      <td>388.388215</td>\n",
       "      <td>1</td>\n",
       "    </tr>\n",
       "    <tr>\n",
       "      <th>2</th>\n",
       "      <td>4559.571007</td>\n",
       "      <td>4618.651526</td>\n",
       "      <td>-0.012957</td>\n",
       "      <td>-59.080519</td>\n",
       "      <td>0.086910</td>\n",
       "      <td>396.270137</td>\n",
       "      <td>1</td>\n",
       "    </tr>\n",
       "    <tr>\n",
       "      <th>3</th>\n",
       "      <td>4769.388114</td>\n",
       "      <td>4756.103930</td>\n",
       "      <td>0.002785</td>\n",
       "      <td>13.284184</td>\n",
       "      <td>0.078519</td>\n",
       "      <td>374.488900</td>\n",
       "      <td>1</td>\n",
       "    </tr>\n",
       "    <tr>\n",
       "      <th>4</th>\n",
       "      <td>5043.271288</td>\n",
       "      <td>5128.645001</td>\n",
       "      <td>-0.016928</td>\n",
       "      <td>-85.373713</td>\n",
       "      <td>0.082717</td>\n",
       "      <td>417.162414</td>\n",
       "      <td>1</td>\n",
       "    </tr>\n",
       "    <tr>\n",
       "      <th>5</th>\n",
       "      <td>5257.320432</td>\n",
       "      <td>5293.118558</td>\n",
       "      <td>-0.006809</td>\n",
       "      <td>-35.798127</td>\n",
       "      <td>0.085870</td>\n",
       "      <td>451.445933</td>\n",
       "      <td>1</td>\n",
       "    </tr>\n",
       "    <tr>\n",
       "      <th>6</th>\n",
       "      <td>5508.461255</td>\n",
       "      <td>5430.701776</td>\n",
       "      <td>0.014116</td>\n",
       "      <td>77.759478</td>\n",
       "      <td>0.078716</td>\n",
       "      <td>433.604924</td>\n",
       "      <td>1</td>\n",
       "    </tr>\n",
       "    <tr>\n",
       "      <th>7</th>\n",
       "      <td>5655.407995</td>\n",
       "      <td>5548.612654</td>\n",
       "      <td>0.018884</td>\n",
       "      <td>106.795342</td>\n",
       "      <td>0.075317</td>\n",
       "      <td>425.949735</td>\n",
       "      <td>1</td>\n",
       "    </tr>\n",
       "    <tr>\n",
       "      <th>8</th>\n",
       "      <td>6049.075987</td>\n",
       "      <td>6167.590230</td>\n",
       "      <td>-0.019592</td>\n",
       "      <td>-118.514244</td>\n",
       "      <td>0.080422</td>\n",
       "      <td>486.476875</td>\n",
       "      <td>1</td>\n",
       "    </tr>\n",
       "    <tr>\n",
       "      <th>9</th>\n",
       "      <td>6195.808885</td>\n",
       "      <td>6175.475674</td>\n",
       "      <td>0.003282</td>\n",
       "      <td>20.333212</td>\n",
       "      <td>0.078137</td>\n",
       "      <td>484.123328</td>\n",
       "      <td>1</td>\n",
       "    </tr>\n",
       "    <tr>\n",
       "      <th>10</th>\n",
       "      <td>7190.385500</td>\n",
       "      <td>7096.867752</td>\n",
       "      <td>0.013006</td>\n",
       "      <td>93.517747</td>\n",
       "      <td>0.074298</td>\n",
       "      <td>534.233606</td>\n",
       "      <td>1</td>\n",
       "    </tr>\n",
       "  </tbody>\n",
       "</table>\n",
       "</div>"
      ],
      "text/plain": [
       "     True CATES  Estimated CATES  Normalized Bias  Unnormalized Bias  \\\n",
       "1   4124.607404      4046.646484         0.018901          77.960920   \n",
       "2   4559.571007      4618.651526        -0.012957         -59.080519   \n",
       "3   4769.388114      4756.103930         0.002785          13.284184   \n",
       "4   5043.271288      5128.645001        -0.016928         -85.373713   \n",
       "5   5257.320432      5293.118558        -0.006809         -35.798127   \n",
       "6   5508.461255      5430.701776         0.014116          77.759478   \n",
       "7   5655.407995      5548.612654         0.018884         106.795342   \n",
       "8   6049.075987      6167.590230        -0.019592        -118.514244   \n",
       "9   6195.808885      6175.475674         0.003282          20.333212   \n",
       "10  7190.385500      7096.867752         0.013006          93.517747   \n",
       "\n",
       "    Normalized Interval Length  Interval Length  Coverage  \n",
       "1                     0.094164       388.388215         1  \n",
       "2                     0.086910       396.270137         1  \n",
       "3                     0.078519       374.488900         1  \n",
       "4                     0.082717       417.162414         1  \n",
       "5                     0.085870       451.445933         1  \n",
       "6                     0.078716       433.604924         1  \n",
       "7                     0.075317       425.949735         1  \n",
       "8                     0.080422       486.476875         1  \n",
       "9                     0.078137       484.123328         1  \n",
       "10                    0.074298       534.233606         1  "
      ]
     },
     "execution_count": 112,
     "metadata": {},
     "output_type": "execute_result"
    }
   ],
   "source": [
    "tableEducsCATEs = pd.DataFrame(data=educ_data, index=binNumbers)\n",
    "tableEducsCATEs"
   ]
  },
  {
   "cell_type": "code",
   "execution_count": 115,
   "metadata": {},
   "outputs": [
    {
     "data": {
      "image/png": "[encoded data removed]",
      "text/plain": [
       "<Figure size 1152x720 with 1 Axes>"
      ]
     },
     "metadata": {
      "needs_background": "light"
     },
     "output_type": "display_data"
    }
   ],
   "source": [
    "plt.figure(figsize=(16,10))\n",
    "plt.xlabel(\"Educ Bin\")\n",
    "plt.ylabel(\"CATE\")\n",
    "plt.title(\"Estimated vs Actual CATE of Education Groups across {} Samples\".format(N))\n",
    "plt.plot(binNumbers, cateEstimates, marker='o', label=\"Estimate CATE\")\n",
    "plt.plot(binNumbers, cates, color='red', label='True CATE')\n",
    "plt.legend()\n",
    "plt.fill_between(binNumbers, cateLBS, cateUBS, color='b', alpha=.1)\n",
    "plt.xticks(np.linspace(start=1, stop=len(bins), num=len(bins)), np.linspace(start=1, stop=len(bins), num=len(bins)))\n",
    "plt.show()"
   ]
  },
  {
   "cell_type": "code",
   "execution_count": 136,
   "metadata": {},
   "outputs": [
    {
     "data": {
      "text/html": [
       "<div>\n",
       "<style scoped>\n",
       "    .dataframe tbody tr th:only-of-type {\n",
       "        vertical-align: middle;\n",
       "    }\n",
       "\n",
       "    .dataframe tbody tr th {\n",
       "        vertical-align: top;\n",
       "    }\n",
       "\n",
       "    .dataframe thead th {\n",
       "        text-align: right;\n",
       "    }\n",
       "</style>\n",
       "<table border=\"1\" class=\"dataframe\">\n",
       "  <thead>\n",
       "    <tr style=\"text-align: right;\">\n",
       "      <th></th>\n",
       "      <th>True CATES</th>\n",
       "      <th>Estimated CATES</th>\n",
       "      <th>Normalized Bias</th>\n",
       "      <th>Unnormalized Bias</th>\n",
       "      <th>Normalized Interval Length</th>\n",
       "      <th>Interval Length</th>\n",
       "      <th>Coverage</th>\n",
       "    </tr>\n",
       "  </thead>\n",
       "  <tbody>\n",
       "    <tr>\n",
       "      <th>1</th>\n",
       "      <td>4008.051589</td>\n",
       "      <td>4396.320602</td>\n",
       "      <td>-0.096872</td>\n",
       "      <td>-388.269013</td>\n",
       "      <td>0.321414</td>\n",
       "      <td>1288.243497</td>\n",
       "      <td>1</td>\n",
       "    </tr>\n",
       "    <tr>\n",
       "      <th>2</th>\n",
       "      <td>4903.381084</td>\n",
       "      <td>4226.946009</td>\n",
       "      <td>0.137953</td>\n",
       "      <td>676.435075</td>\n",
       "      <td>0.277319</td>\n",
       "      <td>1359.802736</td>\n",
       "      <td>1</td>\n",
       "    </tr>\n",
       "    <tr>\n",
       "      <th>3</th>\n",
       "      <td>4903.101215</td>\n",
       "      <td>4197.434466</td>\n",
       "      <td>0.143923</td>\n",
       "      <td>705.666749</td>\n",
       "      <td>0.251874</td>\n",
       "      <td>1234.965926</td>\n",
       "      <td>0</td>\n",
       "    </tr>\n",
       "    <tr>\n",
       "      <th>4</th>\n",
       "      <td>5120.469566</td>\n",
       "      <td>4394.805763</td>\n",
       "      <td>0.141718</td>\n",
       "      <td>725.663803</td>\n",
       "      <td>0.246160</td>\n",
       "      <td>1260.452777</td>\n",
       "      <td>0</td>\n",
       "    </tr>\n",
       "    <tr>\n",
       "      <th>5</th>\n",
       "      <td>4795.588912</td>\n",
       "      <td>4619.913145</td>\n",
       "      <td>0.036633</td>\n",
       "      <td>175.675767</td>\n",
       "      <td>0.246715</td>\n",
       "      <td>1183.145838</td>\n",
       "      <td>1</td>\n",
       "    </tr>\n",
       "    <tr>\n",
       "      <th>6</th>\n",
       "      <td>5335.190920</td>\n",
       "      <td>5313.454736</td>\n",
       "      <td>0.004074</td>\n",
       "      <td>21.736183</td>\n",
       "      <td>0.269719</td>\n",
       "      <td>1439.000123</td>\n",
       "      <td>1</td>\n",
       "    </tr>\n",
       "    <tr>\n",
       "      <th>7</th>\n",
       "      <td>5300.574686</td>\n",
       "      <td>5446.060638</td>\n",
       "      <td>-0.027447</td>\n",
       "      <td>-145.485952</td>\n",
       "      <td>0.257957</td>\n",
       "      <td>1367.322118</td>\n",
       "      <td>1</td>\n",
       "    </tr>\n",
       "    <tr>\n",
       "      <th>8</th>\n",
       "      <td>6519.749205</td>\n",
       "      <td>6276.318752</td>\n",
       "      <td>0.037337</td>\n",
       "      <td>243.430452</td>\n",
       "      <td>0.256746</td>\n",
       "      <td>1673.917805</td>\n",
       "      <td>1</td>\n",
       "    </tr>\n",
       "    <tr>\n",
       "      <th>9</th>\n",
       "      <td>6805.388626</td>\n",
       "      <td>6143.575069</td>\n",
       "      <td>0.097248</td>\n",
       "      <td>661.813557</td>\n",
       "      <td>0.219434</td>\n",
       "      <td>1493.331095</td>\n",
       "      <td>1</td>\n",
       "    </tr>\n",
       "    <tr>\n",
       "      <th>10</th>\n",
       "      <td>7310.980441</td>\n",
       "      <td>6712.932172</td>\n",
       "      <td>0.081801</td>\n",
       "      <td>598.048269</td>\n",
       "      <td>0.212486</td>\n",
       "      <td>1553.484575</td>\n",
       "      <td>1</td>\n",
       "    </tr>\n",
       "  </tbody>\n",
       "</table>\n",
       "</div>"
      ],
      "text/plain": [
       "     True CATES  Estimated CATES  Normalized Bias  Unnormalized Bias  \\\n",
       "1   4008.051589      4396.320602        -0.096872        -388.269013   \n",
       "2   4903.381084      4226.946009         0.137953         676.435075   \n",
       "3   4903.101215      4197.434466         0.143923         705.666749   \n",
       "4   5120.469566      4394.805763         0.141718         725.663803   \n",
       "5   4795.588912      4619.913145         0.036633         175.675767   \n",
       "6   5335.190920      5313.454736         0.004074          21.736183   \n",
       "7   5300.574686      5446.060638        -0.027447        -145.485952   \n",
       "8   6519.749205      6276.318752         0.037337         243.430452   \n",
       "9   6805.388626      6143.575069         0.097248         661.813557   \n",
       "10  7310.980441      6712.932172         0.081801         598.048269   \n",
       "\n",
       "    Normalized Interval Length  Interval Length  Coverage  \n",
       "1                     0.321414      1288.243497         1  \n",
       "2                     0.277319      1359.802736         1  \n",
       "3                     0.251874      1234.965926         0  \n",
       "4                     0.246160      1260.452777         0  \n",
       "5                     0.246715      1183.145838         1  \n",
       "6                     0.269719      1439.000123         1  \n",
       "7                     0.257957      1367.322118         1  \n",
       "8                     0.256746      1673.917805         1  \n",
       "9                     0.219434      1493.331095         1  \n",
       "10                    0.212486      1553.484575         1  "
      ]
     },
     "execution_count": 136,
     "metadata": {},
     "output_type": "execute_result"
    }
   ],
   "source": [
    "tableEducsCATEs = pd.DataFrame(data=educ_data, index=binNumbers)\n",
    "tableEducsCATEs"
   ]
  },
  {
   "cell_type": "code",
   "execution_count": 130,
   "metadata": {},
   "outputs": [
    {
     "data": {
      "image/png": "[encoded data removed]",
      "text/plain": [
       "<Figure size 1152x720 with 1 Axes>"
      ]
     },
     "metadata": {
      "needs_background": "light"
     },
     "output_type": "display_data"
    }
   ],
   "source": [
    "plt.figure(figsize=(16,10))\n",
    "plt.xlabel(\"Educ Bin\")\n",
    "plt.ylabel(\"CATE\")\n",
    "plt.title(\"Estimated vs Actual CATE of Education Groups across {} Samples\".format(N))\n",
    "plt.plot(binNumbers, cateEstimates, marker='o', label=\"Estimate CATE\")\n",
    "plt.plot(binNumbers, cates, color='red', label='True CATE')\n",
    "plt.legend()\n",
    "plt.fill_between(binNumbers, cateLBS, cateUBS, color='b', alpha=.1)\n",
    "plt.xticks(np.linspace(start=1, stop=len(bins), num=len(bins)), np.linspace(start=1, stop=len(bins), num=len(bins)))\n",
    "plt.show()"
   ]
  },
  {
   "cell_type": "markdown",
   "metadata": {},
   "source": [
    "Below is to implement / have running state of variables"
   ]
  },
  {
   "cell_type": "code",
   "execution_count": 94,
   "metadata": {},
   "outputs": [],
   "source": [
    "np.random.seed(123)\n",
    "effect_type=\"heterogeneous\"\n",
    "effect_homogeneous=10\n",
    "effect_heterogeneous=2\n",
    "# treatment_type=\"continuous\"\n",
    "treatment_type=\"binary\"\n",
    "treatment_probability=0.5\n",
    "heterogeneous_select=4\n",
    "order=3\n",
    "linearity=\"med\"\n",
    "N=20000\n",
    "overlap=True\n",
    "overlap_percent=0.5\n",
    "\n",
    "featureNames = list(welfare.columns)\n",
    "\n",
    "importantFeatureNames = ['wrkstat', 'race', 'year', 'hrs1', 'income', 'occ80', 'id', 'educ'] # top 8 important features based on Shapley visualization from \n",
    "importantFeatureIndices = []\n",
    "for name in importantFeatureNames:\n",
    "    importantFeatureIndices.append(featureNames.index(name)) \n",
    "\n",
    "# error terms\n",
    "error = np.random.normal(size=(N,1))\n",
    "\n",
    "# data generation\n",
    "cov = welfare.cov()\n",
    "means = welfare.mean(axis=0)\n",
    "X = np.random.multivariate_normal(means.values, cov, size=N, check_valid='warn', tol=1e-8)\n",
    "\n",
    "# linearity specification\n",
    "if linearity != 'full':\n",
    "    select = 0 # select n most important features for interactions and polynomials\n",
    "    poly = PolynomialFeatures(degree=order, interaction_only=False, include_bias=False)\n",
    "\n",
    "    if linearity == \"high\": \n",
    "        select = 2\n",
    "    elif linearity == \"med\": \n",
    "        select = 4\n",
    "    elif linearity == \"low\": \n",
    "        select = 8\n",
    "    else: # if some typo, assume baseline of high\n",
    "        select = 2\n",
    "\n",
    "    poly.fit(X[:, importantFeatureIndices[:select]])\n",
    "    fullData = poly.transform(X[:, importantFeatureIndices[:select]])\n",
    "    fullNames = poly.get_feature_names(input_features=importantFeatureNames[:select])\n",
    "    higherData = fullData[:, -(fullData.shape[1] - select):] # select only higher order\n",
    "    higherNames = fullNames[-(len(fullNames) - select):]\n",
    "\n",
    "    X = np.append(X, higherData, axis=1) \n",
    "    featureNames.extend(list(higherNames))\n",
    "\n",
    "# treatment type\n",
    "if treatment_type == \"binary\":\n",
    "    # randomly assigned treatments with propensity treatment_probability\n",
    "    treatments = np.random.choice([0, 1], size=N, p=[1 - treatment_probability, treatment_probability]).reshape((-1, 1))\n",
    "    if not overlap:\n",
    "        forced = random.sample(list(np.arange(treatments.shape[0])), int(treatments.shape[0] * overlap_percent))\n",
    "        treatments[forced] = 0\n",
    "    treated = treatments > 0\n",
    "    \n",
    "    # generate counterfactual treatment indicator vector\n",
    "    c_treatments = deepcopy(treatments)\n",
    "    c_treatments[treatments == 0] = 1\n",
    "    c_treatments[treatments == 1] = 0\n",
    "\n",
    "else:\n",
    "    treatments = np.random.uniform(size=(N, 1))\n",
    "    if not overlap:\n",
    "        forced = random.sample(list(np.arange(treatments.shape[0])), int(treatments.shape[0] * overlap_percent))\n",
    "        treatments[forced] = 0\n",
    "    treated = treatments > 0.5\n",
    "    c_treatments = deepcopy(treatments)\n",
    "    # to-do\n",
    "    c_treatments[treatments > 0] = 0\n",
    "    c_treatments[treatments == 0] = treatments.mean()\n",
    "    \n",
    "# treatment effect\n",
    "if effect_type == \"homogeneous\":\n",
    "\n",
    "    T = treatments*effect_homogeneous\n",
    "    CT = c_treatments*effect_homogeneous\n",
    "    \n",
    "else: # heterogeneous\n",
    "    # heterogeneous treatment is effect 1 + effect * (sum of first heterogeneous_select important variables)\n",
    "    heterogeneousIndices = importantFeatureIndices[:heterogeneous_select]\n",
    "    \n",
    "    T = 1 + (2*(X[:, heterogeneousIndices].sum(axis=1)))*treatments.ravel()\n",
    "    T = T.reshape(-1, 1)\n",
    "    T[~treated] = np.zeros((~treated).sum())\n",
    "    \n",
    "    CT = 1 + (2*(X[:, heterogeneousIndices].sum(axis=1)))*c_treatments.ravel()\n",
    "    CT = CT.reshape(-1, 1)\n",
    "    CT[treated] = np.zeros((treated).sum()) # everyone that was treated goes to untreated in counterfactual\n",
    "    \n",
    "\n",
    "betas = np.random.normal(size=X.shape[1]).reshape(-1,1)\n",
    "y = T + X@betas + error\n",
    "cy = CT + X@betas + error"
   ]
  },
  {
   "cell_type": "code",
   "execution_count": 95,
   "metadata": {},
   "outputs": [],
   "source": [
    "raceCol = importantFeatureIndices[1]\n",
    "educCol = importantFeatureIndices[7]\n",
    "\n",
    "nBins = 5\n",
    "evenGroups = np.array_split(np.sort(X[:, raceCol]), nBins)\n",
    "bins = []\n",
    "pdX = pd.DataFrame(X)\n",
    "pdX[raceCol]\n",
    "\n",
    "prevCeil = -10000\n",
    "\n",
    "for i in range(nBins):\n",
    "    floor = evenGroups[i][0] \n",
    "    ceil = evenGroups[i][-1]\n",
    "    if floor == prevCeil: # in case the floor of current group is equal to ceiling of last group, don't want to duplicate samples\n",
    "        bins.append(pdX.loc[(floor < pdX[raceCol]) & (pdX[raceCol] <= ceil)].to_numpy())\n",
    "    else:\n",
    "        bins.append(pdX.loc[(floor <= pdX[raceCol]) & (pdX[raceCol] <= ceil)].to_numpy())\n",
    "    prevCeil = ceil"
   ]
  },
  {
   "cell_type": "code",
   "execution_count": 85,
   "metadata": {},
   "outputs": [
    {
     "data": {
      "text/plain": [
       "array([[  93.83266627],\n",
       "       [1492.75452515]])"
      ]
     },
     "execution_count": 85,
     "metadata": {},
     "output_type": "execute_result"
    }
   ],
   "source": [
    "y[[0, 1]]"
   ]
  },
  {
   "cell_type": "code",
   "execution_count": 89,
   "metadata": {},
   "outputs": [
    {
     "data": {
      "image/png": "[encoded data removed]",
      "text/latex": [
       "$\\displaystyle \\left( 150,\\right)$"
      ],
      "text/plain": [
       "(150,)"
      ]
     },
     "execution_count": 89,
     "metadata": {},
     "output_type": "execute_result"
    }
   ],
   "source": [
    "bins[0][0].shape"
   ]
  },
  {
   "cell_type": "code",
   "execution_count": 98,
   "metadata": {},
   "outputs": [
    {
     "data": {
      "text/plain": [
       "(array([14]),)"
      ]
     },
     "execution_count": 98,
     "metadata": {},
     "output_type": "execute_result"
    }
   ],
   "source": [
    "np.where((X == bins[0][2]).all(axis=1))"
   ]
  },
  {
   "cell_type": "code",
   "execution_count": 91,
   "metadata": {},
   "outputs": [
    {
     "data": {
      "image/png": "[encoded data removed]",
      "text/latex": [
       "$\\displaystyle \\left( 20000, \\  150\\right)$"
      ],
      "text/plain": [
       "(20000, 150)"
      ]
     },
     "execution_count": 91,
     "metadata": {},
     "output_type": "execute_result"
    }
   ],
   "source": [
    "X.shape"
   ]
  }
 ],
 "metadata": {
  "kernelspec": {
   "display_name": "Python 3",
   "language": "python",
   "name": "python3"
  },
  "language_info": {
   "codemirror_mode": {
    "name": "ipython",
    "version": 3
   },
   "file_extension": ".py",
   "mimetype": "text/x-python",
   "name": "python",
   "nbconvert_exporter": "python",
   "pygments_lexer": "ipython3",
   "version": "3.6.9"
  }
 },
 "nbformat": 4,
 "nbformat_minor": 4
}
