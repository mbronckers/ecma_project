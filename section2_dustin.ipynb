{
 "cells": [
  {
   "cell_type": "markdown",
   "metadata": {},
   "source": [
    "# Section 2: Analyzing Causal Forests on Simulated Data similar to GSS data "
   ]
  },
  {
   "cell_type": "code",
   "execution_count": 1,
   "metadata": {},
   "outputs": [],
   "source": [
    "import random\n",
    "import numpy as np\n",
    "import pandas as pd\n",
    "import matplotlib.pyplot as plt\n",
    "\n",
    "from sklearn.preprocessing import PolynomialFeatures\n",
    "from sklearn.model_selection import train_test_split\n",
    "from econml.dml import CausalForestDML\n",
    "from tqdm.auto import tqdm\n",
    "\n",
    "from copy import deepcopy\n",
    "import warnings\n",
    "warnings.filterwarnings(\"ignore\")\n",
    "\n",
    "def fullDisplay():\n",
    "    pd.set_option(\"display.max_rows\", None, \"display.max_columns\", None)\n",
    "\n",
    "def defaultDisplay():\n",
    "    pd.reset_option('^display.', silent=True)"
   ]
  },
  {
   "cell_type": "markdown",
   "metadata": {},
   "source": [
    "## Loading data"
   ]
  },
  {
   "cell_type": "code",
   "execution_count": 2,
   "metadata": {},
   "outputs": [
    {
     "data": {
      "text/html": [
       "<div>\n",
       "<style scoped>\n",
       "    .dataframe tbody tr th:only-of-type {\n",
       "        vertical-align: middle;\n",
       "    }\n",
       "\n",
       "    .dataframe tbody tr th {\n",
       "        vertical-align: top;\n",
       "    }\n",
       "\n",
       "    .dataframe thead th {\n",
       "        text-align: right;\n",
       "    }\n",
       "</style>\n",
       "<table border=\"1\" class=\"dataframe\">\n",
       "  <thead>\n",
       "    <tr style=\"text-align: right;\">\n",
       "      <th></th>\n",
       "      <th>year</th>\n",
       "      <th>id</th>\n",
       "      <th>wrkstat</th>\n",
       "      <th>hrs1</th>\n",
       "      <th>hrs2</th>\n",
       "      <th>evwork</th>\n",
       "      <th>occ</th>\n",
       "      <th>prestige</th>\n",
       "      <th>wrkslf</th>\n",
       "      <th>wrkgovt</th>\n",
       "      <th>...</th>\n",
       "      <th>adults_miss</th>\n",
       "      <th>unrelat_miss</th>\n",
       "      <th>earnrs_miss</th>\n",
       "      <th>income_miss</th>\n",
       "      <th>rincome_miss</th>\n",
       "      <th>income86_miss</th>\n",
       "      <th>partyid_miss</th>\n",
       "      <th>polviews_miss</th>\n",
       "      <th>attblack</th>\n",
       "      <th>attblack_miss</th>\n",
       "    </tr>\n",
       "  </thead>\n",
       "  <tbody>\n",
       "    <tr>\n",
       "      <th>0</th>\n",
       "      <td>0</td>\n",
       "      <td>1</td>\n",
       "      <td>7</td>\n",
       "      <td>0.004845</td>\n",
       "      <td>0.005228</td>\n",
       "      <td>1</td>\n",
       "      <td>135</td>\n",
       "      <td>0.005641</td>\n",
       "      <td>2</td>\n",
       "      <td>2</td>\n",
       "      <td>...</td>\n",
       "      <td>0</td>\n",
       "      <td>0</td>\n",
       "      <td>0</td>\n",
       "      <td>0</td>\n",
       "      <td>0</td>\n",
       "      <td>0</td>\n",
       "      <td>0</td>\n",
       "      <td>0</td>\n",
       "      <td>0.005440</td>\n",
       "      <td>0</td>\n",
       "    </tr>\n",
       "    <tr>\n",
       "      <th>1</th>\n",
       "      <td>0</td>\n",
       "      <td>2</td>\n",
       "      <td>1</td>\n",
       "      <td>0.005055</td>\n",
       "      <td>0.005228</td>\n",
       "      <td>0</td>\n",
       "      <td>106</td>\n",
       "      <td>0.006538</td>\n",
       "      <td>2</td>\n",
       "      <td>2</td>\n",
       "      <td>...</td>\n",
       "      <td>0</td>\n",
       "      <td>1</td>\n",
       "      <td>0</td>\n",
       "      <td>0</td>\n",
       "      <td>1</td>\n",
       "      <td>0</td>\n",
       "      <td>0</td>\n",
       "      <td>0</td>\n",
       "      <td>0.004080</td>\n",
       "      <td>0</td>\n",
       "    </tr>\n",
       "    <tr>\n",
       "      <th>2</th>\n",
       "      <td>0</td>\n",
       "      <td>3</td>\n",
       "      <td>7</td>\n",
       "      <td>0.004845</td>\n",
       "      <td>0.005228</td>\n",
       "      <td>1</td>\n",
       "      <td>99</td>\n",
       "      <td>0.006538</td>\n",
       "      <td>2</td>\n",
       "      <td>2</td>\n",
       "      <td>...</td>\n",
       "      <td>0</td>\n",
       "      <td>1</td>\n",
       "      <td>0</td>\n",
       "      <td>0</td>\n",
       "      <td>0</td>\n",
       "      <td>0</td>\n",
       "      <td>0</td>\n",
       "      <td>0</td>\n",
       "      <td>0.002040</td>\n",
       "      <td>0</td>\n",
       "    </tr>\n",
       "    <tr>\n",
       "      <th>3</th>\n",
       "      <td>0</td>\n",
       "      <td>4</td>\n",
       "      <td>3</td>\n",
       "      <td>0.005055</td>\n",
       "      <td>0.005228</td>\n",
       "      <td>0</td>\n",
       "      <td>142</td>\n",
       "      <td>0.004615</td>\n",
       "      <td>2</td>\n",
       "      <td>0</td>\n",
       "      <td>...</td>\n",
       "      <td>0</td>\n",
       "      <td>0</td>\n",
       "      <td>0</td>\n",
       "      <td>0</td>\n",
       "      <td>1</td>\n",
       "      <td>0</td>\n",
       "      <td>0</td>\n",
       "      <td>0</td>\n",
       "      <td>0.004080</td>\n",
       "      <td>0</td>\n",
       "    </tr>\n",
       "    <tr>\n",
       "      <th>4</th>\n",
       "      <td>0</td>\n",
       "      <td>5</td>\n",
       "      <td>8</td>\n",
       "      <td>0.005055</td>\n",
       "      <td>0.005228</td>\n",
       "      <td>1</td>\n",
       "      <td>211</td>\n",
       "      <td>0.005171</td>\n",
       "      <td>2</td>\n",
       "      <td>1</td>\n",
       "      <td>...</td>\n",
       "      <td>0</td>\n",
       "      <td>0</td>\n",
       "      <td>0</td>\n",
       "      <td>0</td>\n",
       "      <td>0</td>\n",
       "      <td>0</td>\n",
       "      <td>0</td>\n",
       "      <td>0</td>\n",
       "      <td>0.004080</td>\n",
       "      <td>0</td>\n",
       "    </tr>\n",
       "    <tr>\n",
       "      <th>...</th>\n",
       "      <td>...</td>\n",
       "      <td>...</td>\n",
       "      <td>...</td>\n",
       "      <td>...</td>\n",
       "      <td>...</td>\n",
       "      <td>...</td>\n",
       "      <td>...</td>\n",
       "      <td>...</td>\n",
       "      <td>...</td>\n",
       "      <td>...</td>\n",
       "      <td>...</td>\n",
       "      <td>...</td>\n",
       "      <td>...</td>\n",
       "      <td>...</td>\n",
       "      <td>...</td>\n",
       "      <td>...</td>\n",
       "      <td>...</td>\n",
       "      <td>...</td>\n",
       "      <td>...</td>\n",
       "      <td>...</td>\n",
       "      <td>...</td>\n",
       "    </tr>\n",
       "    <tr>\n",
       "      <th>36496</th>\n",
       "      <td>15</td>\n",
       "      <td>2040</td>\n",
       "      <td>3</td>\n",
       "      <td>0.005055</td>\n",
       "      <td>0.005228</td>\n",
       "      <td>0</td>\n",
       "      <td>211</td>\n",
       "      <td>0.005171</td>\n",
       "      <td>2</td>\n",
       "      <td>2</td>\n",
       "      <td>...</td>\n",
       "      <td>0</td>\n",
       "      <td>0</td>\n",
       "      <td>0</td>\n",
       "      <td>0</td>\n",
       "      <td>1</td>\n",
       "      <td>1</td>\n",
       "      <td>0</td>\n",
       "      <td>0</td>\n",
       "      <td>0.004080</td>\n",
       "      <td>0</td>\n",
       "    </tr>\n",
       "    <tr>\n",
       "      <th>36497</th>\n",
       "      <td>15</td>\n",
       "      <td>2041</td>\n",
       "      <td>3</td>\n",
       "      <td>0.005055</td>\n",
       "      <td>0.005228</td>\n",
       "      <td>0</td>\n",
       "      <td>211</td>\n",
       "      <td>0.005171</td>\n",
       "      <td>2</td>\n",
       "      <td>2</td>\n",
       "      <td>...</td>\n",
       "      <td>0</td>\n",
       "      <td>0</td>\n",
       "      <td>0</td>\n",
       "      <td>0</td>\n",
       "      <td>1</td>\n",
       "      <td>1</td>\n",
       "      <td>0</td>\n",
       "      <td>0</td>\n",
       "      <td>0.006120</td>\n",
       "      <td>0</td>\n",
       "    </tr>\n",
       "    <tr>\n",
       "      <th>36498</th>\n",
       "      <td>15</td>\n",
       "      <td>2042</td>\n",
       "      <td>7</td>\n",
       "      <td>0.004845</td>\n",
       "      <td>0.005228</td>\n",
       "      <td>1</td>\n",
       "      <td>211</td>\n",
       "      <td>0.005171</td>\n",
       "      <td>2</td>\n",
       "      <td>2</td>\n",
       "      <td>...</td>\n",
       "      <td>0</td>\n",
       "      <td>1</td>\n",
       "      <td>0</td>\n",
       "      <td>0</td>\n",
       "      <td>0</td>\n",
       "      <td>1</td>\n",
       "      <td>0</td>\n",
       "      <td>0</td>\n",
       "      <td>0.004080</td>\n",
       "      <td>0</td>\n",
       "    </tr>\n",
       "    <tr>\n",
       "      <th>36499</th>\n",
       "      <td>15</td>\n",
       "      <td>2043</td>\n",
       "      <td>7</td>\n",
       "      <td>0.005935</td>\n",
       "      <td>0.005228</td>\n",
       "      <td>1</td>\n",
       "      <td>211</td>\n",
       "      <td>0.005171</td>\n",
       "      <td>2</td>\n",
       "      <td>2</td>\n",
       "      <td>...</td>\n",
       "      <td>0</td>\n",
       "      <td>1</td>\n",
       "      <td>0</td>\n",
       "      <td>0</td>\n",
       "      <td>1</td>\n",
       "      <td>1</td>\n",
       "      <td>0</td>\n",
       "      <td>0</td>\n",
       "      <td>0.005021</td>\n",
       "      <td>1</td>\n",
       "    </tr>\n",
       "    <tr>\n",
       "      <th>36500</th>\n",
       "      <td>15</td>\n",
       "      <td>2044</td>\n",
       "      <td>7</td>\n",
       "      <td>0.004845</td>\n",
       "      <td>0.005228</td>\n",
       "      <td>1</td>\n",
       "      <td>211</td>\n",
       "      <td>0.005171</td>\n",
       "      <td>2</td>\n",
       "      <td>2</td>\n",
       "      <td>...</td>\n",
       "      <td>0</td>\n",
       "      <td>1</td>\n",
       "      <td>0</td>\n",
       "      <td>0</td>\n",
       "      <td>0</td>\n",
       "      <td>1</td>\n",
       "      <td>0</td>\n",
       "      <td>0</td>\n",
       "      <td>0.008160</td>\n",
       "      <td>0</td>\n",
       "    </tr>\n",
       "  </tbody>\n",
       "</table>\n",
       "<p>36501 rows × 120 columns</p>\n",
       "</div>"
      ],
      "text/plain": [
       "       year    id  wrkstat      hrs1      hrs2  evwork  occ  prestige  wrkslf  \\\n",
       "0         0     1        7  0.004845  0.005228       1  135  0.005641       2   \n",
       "1         0     2        1  0.005055  0.005228       0  106  0.006538       2   \n",
       "2         0     3        7  0.004845  0.005228       1   99  0.006538       2   \n",
       "3         0     4        3  0.005055  0.005228       0  142  0.004615       2   \n",
       "4         0     5        8  0.005055  0.005228       1  211  0.005171       2   \n",
       "...     ...   ...      ...       ...       ...     ...  ...       ...     ...   \n",
       "36496    15  2040        3  0.005055  0.005228       0  211  0.005171       2   \n",
       "36497    15  2041        3  0.005055  0.005228       0  211  0.005171       2   \n",
       "36498    15  2042        7  0.004845  0.005228       1  211  0.005171       2   \n",
       "36499    15  2043        7  0.005935  0.005228       1  211  0.005171       2   \n",
       "36500    15  2044        7  0.004845  0.005228       1  211  0.005171       2   \n",
       "\n",
       "       wrkgovt  ...  adults_miss  unrelat_miss  earnrs_miss  income_miss  \\\n",
       "0            2  ...            0             0            0            0   \n",
       "1            2  ...            0             1            0            0   \n",
       "2            2  ...            0             1            0            0   \n",
       "3            0  ...            0             0            0            0   \n",
       "4            1  ...            0             0            0            0   \n",
       "...        ...  ...          ...           ...          ...          ...   \n",
       "36496        2  ...            0             0            0            0   \n",
       "36497        2  ...            0             0            0            0   \n",
       "36498        2  ...            0             1            0            0   \n",
       "36499        2  ...            0             1            0            0   \n",
       "36500        2  ...            0             1            0            0   \n",
       "\n",
       "       rincome_miss  income86_miss  partyid_miss  polviews_miss  attblack  \\\n",
       "0                 0              0             0              0  0.005440   \n",
       "1                 1              0             0              0  0.004080   \n",
       "2                 0              0             0              0  0.002040   \n",
       "3                 1              0             0              0  0.004080   \n",
       "4                 0              0             0              0  0.004080   \n",
       "...             ...            ...           ...            ...       ...   \n",
       "36496             1              1             0              0  0.004080   \n",
       "36497             1              1             0              0  0.006120   \n",
       "36498             0              1             0              0  0.004080   \n",
       "36499             1              1             0              0  0.005021   \n",
       "36500             0              1             0              0  0.008160   \n",
       "\n",
       "       attblack_miss  \n",
       "0                  0  \n",
       "1                  0  \n",
       "2                  0  \n",
       "3                  0  \n",
       "4                  0  \n",
       "...              ...  \n",
       "36496              0  \n",
       "36497              0  \n",
       "36498              0  \n",
       "36499              1  \n",
       "36500              0  \n",
       "\n",
       "[36501 rows x 120 columns]"
      ]
     },
     "execution_count": 2,
     "metadata": {},
     "output_type": "execute_result"
    }
   ],
   "source": [
    "welfare = pd.read_csv(\"Data/welfare_clean.csv\", low_memory=False)\n",
    "treatments = welfare['w']\n",
    "labels = welfare['y']\n",
    "welfare.drop(columns=['w', 'y'], inplace=True)\n",
    "welfare"
   ]
  },
  {
   "cell_type": "markdown",
   "metadata": {},
   "source": [
    "## DGP, Estimation, and Evaluation functions"
   ]
  },
  {
   "cell_type": "code",
   "execution_count": 14,
   "metadata": {
    "tags": []
   },
   "outputs": [],
   "source": [
    "def dgp(welfare, effect_type=\"heterogeneous\", effect_homogeneous=10, effect_heterogeneous=2,\n",
    "        treatment_type=\"binary\", treatment_probability=0.5, heterogeneous_select=4, overlap=True,\n",
    "        overlap_percent=0.5, order=3, linearity=\"med\", N=5000):    \n",
    "    \n",
    "    featureNames = list(welfare.columns)\n",
    "\n",
    "    # Define non-confounders\n",
    "    importantFeatureNames = ['wrkstat', 'race', 'year', 'hrs1', 'income', 'occ80', 'id', 'educ'] # top 8 important features based on Shapley visualization from \n",
    "    importantFeatureIndices = []\n",
    "    for name in importantFeatureNames:\n",
    "        importantFeatureIndices.append(featureNames.index(name)) \n",
    "\n",
    "    # Error terms\n",
    "    error = np.random.normal(size=(N,1))\n",
    "\n",
    "    # Data generation\n",
    "    cov = welfare.cov()\n",
    "    means = welfare.mean(axis=0)\n",
    "    X = np.random.multivariate_normal(means.values, cov, size=N, check_valid='warn', tol=1e-8)\n",
    "\n",
    "    # Linearity specification\n",
    "    if linearity != 'full':\n",
    "        select = 0 # select n most important features for interactions and polynomials\n",
    "        poly = PolynomialFeatures(degree=order, interaction_only=False, include_bias=False)\n",
    "\n",
    "        if linearity == \"high\": \n",
    "            select = 2\n",
    "        elif linearity == \"med\": \n",
    "            select = 4\n",
    "        elif linearity == \"low\": \n",
    "            select = 8\n",
    "        else: # if some typo, assume baseline of high\n",
    "            select = 2\n",
    "\n",
    "        poly.fit(X[:, importantFeatureIndices[:select]])\n",
    "        fullData = poly.transform(X[:, importantFeatureIndices[:select]])\n",
    "        fullNames = poly.get_feature_names(input_features=importantFeatureNames[:select])\n",
    "        higherData = fullData[:, -(fullData.shape[1] - select):] # select only higher order\n",
    "        higherNames = fullNames[-(len(fullNames) - select):]\n",
    "\n",
    "        X = np.append(X, higherData, axis=1) \n",
    "        featureNames.extend(list(higherNames))\n",
    "\n",
    "    # Treatment selection\n",
    "    if treatment_type == \"binary\":\n",
    "        # randomly assigned treatments with propensity treatment_probability\n",
    "        treatments = np.random.choice([0, 1], size=N, p=[1 - treatment_probability, treatment_probability]).reshape((-1, 1))\n",
    "        if not overlap:\n",
    "            forced = random.sample(list(np.arange(treatments.shape[0])), int(treatments.shape[0] * overlap_percent))\n",
    "            treatments[forced] = 0\n",
    "        treated = treatments > 0\n",
    "\n",
    "        # generate counterfactual treatment indicator vector\n",
    "        c_treatments = deepcopy(treatments)\n",
    "        c_treatments[treatments == 0] = 1\n",
    "        c_treatments[treatments == 1] = 0\n",
    "    else:\n",
    "        treatments = np.random.uniform(size=(N, 1))\n",
    "        if not overlap:\n",
    "            forced = random.sample(list(np.arange(treatments.shape[0])), int(treatments.shape[0] * overlap_percent))\n",
    "            treatments[forced] = 0\n",
    "        treated = treatments > 0.5\n",
    "\n",
    "        # to-do: counterfactual treatment vector\n",
    "        c_treatments = deepcopy(treatments)\n",
    "        c_treatments[treatments > 0] = 0\n",
    "        c_treatments[treatments == 0] = treatments.mean()\n",
    "\n",
    "    # Treatment effect calculation\n",
    "    if effect_type == \"homogeneous\":\n",
    "\n",
    "        T = treatments*effect_homogeneous\n",
    "        CT = c_treatments*effect_homogeneous\n",
    "\n",
    "    else: \n",
    "        # heterogeneous treatment is effect 1 + effect * (sum of first heterogeneous_select important variables)\n",
    "        heterogeneousIndices = importantFeatureIndices[:heterogeneous_select]\n",
    "\n",
    "        T = 1 + (effect_heterogeneous*(X[:, heterogeneousIndices].sum(axis=1)))*treatments.ravel()\n",
    "        T = T.reshape(-1, 1)\n",
    "        T[~treated] = np.zeros((~treated).sum())\n",
    "        \n",
    "        # counterfactual effect\n",
    "        CT = 1 + (effect_heterogeneous*(X[:, heterogeneousIndices].sum(axis=1)))*c_treatments.ravel()\n",
    "        CT = CT.reshape(-1, 1)\n",
    "        CT[treated] = np.zeros((treated).sum()) # everyone that was treated goes to untreated in counterfactual\n",
    "\n",
    "    # Outcome calculation\n",
    "    betas = np.random.normal(size=X.shape[1]).reshape(-1,1)\n",
    "    y = T + X@betas + error\n",
    "    cy = CT + X@betas + error\n",
    "    \n",
    "    # ATE calculation\n",
    "    empirical_treated = y[treated] - cy[treated] # the treated (in y)\n",
    "    empirical_untreated = cy[~treated] - y[~treated] # the untreated\n",
    "    ate = (empirical_treated.mean() + empirical_untreated.mean())/2\n",
    "    \n",
    "    return y, X, betas, featureNames, treatments, cy, ate\n",
    "\n",
    "def estimate_cf(y, X, treatments, test_size=0.2, criterion='het', cv=5, discrete_treatment=True):\n",
    "    # split data into train and test sets \n",
    "    X_train, X_test, Y_train, Y_test, T_train, T_test = train_test_split(X, y, treatments, test_size=test_size)\n",
    "        \n",
    "    # specify hyperparams of model\n",
    "    est = CausalForestDML(criterion=criterion, \n",
    "                            n_estimators=1000,       \n",
    "                            max_samples=0.5,\n",
    "                            discrete_treatment=discrete_treatment,\n",
    "                            honest=True,\n",
    "                            inference=True,\n",
    "                            cv=cv)\n",
    "    # fit model\n",
    "    est.fit(Y_train, T_train, X=X_train, W=None)\n",
    "        \n",
    "    return est, X_test"
   ]
  },
  {
   "cell_type": "code",
   "execution_count": 48,
   "metadata": {},
   "outputs": [],
   "source": [
    "# compute evaluation stats over K simulations\n",
    "def evalStats(estimators, trueATES, evalSets):\n",
    "    K = len(estimators)\n",
    "\n",
    "    lbs = np.zeros(K)\n",
    "    ubs = np.zeros(K)\n",
    "    ates = np.zeros(K)\n",
    "    \n",
    "    totalBias = 0\n",
    "    totalRMSE = 0\n",
    "    totalCoverage = 0\n",
    "    totalInterval = 0\n",
    "\n",
    "    for i in range(K):\n",
    "        estimateATE = estimators[i].ate(evalSets[i])[0]\n",
    "        lb, ub = estimators[i].ate_interval(evalSets[i], alpha=0.05)\n",
    "        lbs[i] = lb\n",
    "        ubs[i] = ub\n",
    "        ates[i] = estimateATE\n",
    "        \n",
    "        bias = trueATES[i] - estimateATE\n",
    "        totalBias += bias\n",
    "        \n",
    "        rmse = bias**2\n",
    "        totalRMSE += rmse\n",
    "\n",
    "        coverage = 1 if (trueATES[i] >= lb and trueATES[i] <= ub) else 0\n",
    "  \n",
    "        totalCoverage += coverage\n",
    "\n",
    "        interval = ub - lb\n",
    "        totalInterval += interval\n",
    "    \n",
    "    return totalBias / K, (totalRMSE / K)**0.5, totalCoverage / K, totalInterval / K, lbs, ubs, ates"
   ]
  },
  {
   "cell_type": "markdown",
   "metadata": {},
   "source": [
    "## (1) Sample Size"
   ]
  },
  {
   "cell_type": "code",
   "execution_count": 51,
   "metadata": {},
   "outputs": [
    {
     "data": {
      "application/vnd.jupyter.widget-view+json": {
       "model_id": "efcb57f177fa498395a723e818101448",
       "version_major": 2,
       "version_minor": 0
      },
      "text/plain": [
       "HBox(children=(FloatProgress(value=0.0, max=10.0), HTML(value='')))"
      ]
     },
     "metadata": {},
     "output_type": "display_data"
    },
    {
     "name": "stdout",
     "output_type": "stream",
     "text": [
      "\n"
     ]
    },
    {
     "data": {
      "application/vnd.jupyter.widget-view+json": {
       "model_id": "e03dfbca54c44b118dd15a6e32d7b7f3",
       "version_major": 2,
       "version_minor": 0
      },
      "text/plain": [
       "HBox(children=(FloatProgress(value=0.0, max=10.0), HTML(value='')))"
      ]
     },
     "metadata": {},
     "output_type": "display_data"
    },
    {
     "name": "stdout",
     "output_type": "stream",
     "text": [
      "\n"
     ]
    },
    {
     "data": {
      "application/vnd.jupyter.widget-view+json": {
       "model_id": "ecd4ad76e79e4126b1a4805694debb63",
       "version_major": 2,
       "version_minor": 0
      },
      "text/plain": [
       "HBox(children=(FloatProgress(value=0.0, max=10.0), HTML(value='')))"
      ]
     },
     "metadata": {},
     "output_type": "display_data"
    },
    {
     "name": "stdout",
     "output_type": "stream",
     "text": [
      "\n"
     ]
    }
   ],
   "source": [
    "K = 10\n",
    "Ns = [1000, 5000, 10000]\n",
    "\n",
    "biasNs = np.zeros(len(Ns))\n",
    "rmseNs = np.zeros(len(Ns))\n",
    "coverageNs = np.zeros(len(Ns))\n",
    "intervalNs = np.zeros(len(Ns))\n",
    "lbsNs = np.zeros((len(Ns), K))\n",
    "ubsNs = np.zeros((len(Ns), K))\n",
    "atesNs = np.zeros((len(Ns), K))\n",
    "\n",
    "\n",
    "for idx, N in enumerate(Ns):\n",
    "    estNs = []\n",
    "    trueATENs = []\n",
    "    evalSetNs = []\n",
    "    for i in tqdm(range(K)):\n",
    "        y, X, trueBetas, featureNames, treatments, cy, ate = dgp(welfare, N=N)\n",
    "        est, X_test = estimate_cf(y, X, treatments)\n",
    "\n",
    "        estNs.append(est)\n",
    "        trueATENs.append(ate)\n",
    "        evalSetNs.append(X_test)\n",
    "\n",
    "    bias, rmse, coverage, interval, lbs, ubs, ates = evalStats(estNs, trueATENs, evalSetNs)\n",
    "    \n",
    "    biasNs[idx] = bias\n",
    "    rmseNs[idx] = rmse\n",
    "    coverageNs[idx] = coverage\n",
    "    intervalNs[idx] = interval\n",
    "    lbsNs[idx, :] = lbs\n",
    "    ubsNs[idx, :] = ubs\n",
    "    atesNs[idx, :] = ates"
   ]
  },
  {
   "cell_type": "code",
   "execution_count": 52,
   "metadata": {},
   "outputs": [
    {
     "data": {
      "text/plain": [
       "array([1.3866442 , 0.41393999, 0.26439501])"
      ]
     },
     "execution_count": 52,
     "metadata": {},
     "output_type": "execute_result"
    }
   ],
   "source": [
    "biasNs"
   ]
  },
  {
   "cell_type": "code",
   "execution_count": 53,
   "metadata": {},
   "outputs": [
    {
     "data": {
      "text/plain": [
       "array([1.80910001, 0.71593782, 0.44949236])"
      ]
     },
     "execution_count": 53,
     "metadata": {},
     "output_type": "execute_result"
    }
   ],
   "source": [
    "rmseNs"
   ]
  },
  {
   "cell_type": "code",
   "execution_count": 54,
   "metadata": {},
   "outputs": [
    {
     "data": {
      "text/plain": [
       "array([1., 1., 1.])"
      ]
     },
     "execution_count": 54,
     "metadata": {},
     "output_type": "execute_result"
    }
   ],
   "source": [
    "coverageNs"
   ]
  },
  {
   "cell_type": "code",
   "execution_count": 55,
   "metadata": {},
   "outputs": [
    {
     "data": {
      "text/plain": [
       "array([29.95564525, 30.811189  , 25.37124169])"
      ]
     },
     "execution_count": 55,
     "metadata": {},
     "output_type": "execute_result"
    }
   ],
   "source": [
    "intervalNs"
   ]
  },
  {
   "cell_type": "code",
   "execution_count": 59,
   "metadata": {},
   "outputs": [
    {
     "data": {
      "text/plain": [
       "array([29.95564525, 30.811189  , 25.37124169])"
      ]
     },
     "execution_count": 59,
     "metadata": {},
     "output_type": "execute_result"
    }
   ],
   "source": [
    "(ubsNs - lbsNs).mean(axis=1)"
   ]
  },
  {
   "cell_type": "code",
   "execution_count": 61,
   "metadata": {},
   "outputs": [
    {
     "data": {
      "image/png": "[encoded data removed]",
      "text/latex": [
       "$\\displaystyle \\left[ 32.2501653099905, \\  32.3525212877341, \\  32.2783399876236, \\  32.4567612498715, \\  32.3173866058347, \\  32.3704751942968, \\  32.4208650007057, \\  32.2184348330795, \\  32.3159154370919, \\  32.4464712176381\\right]$"
      ],
      "text/plain": [
       "[32.25016530999055, 32.35252128773411, 32.27833998762358, 32.45676124987155, 3\n",
       "2.31738660583475, 32.3704751942968, 32.42086500070572, 32.218434833079456, 32.\n",
       "31591543709186, 32.4464712176381]"
      ]
     },
     "execution_count": 61,
     "metadata": {},
     "output_type": "execute_result"
    }
   ],
   "source": [
    "trueATENs"
   ]
  },
  {
   "cell_type": "code",
   "execution_count": 62,
   "metadata": {},
   "outputs": [
    {
     "data": {
      "text/plain": [
       "array([41.6324963 , 52.05796974, 48.70342181, 45.56344845, 45.90192798,\n",
       "       39.86938087, 37.45888749, 42.19168884, 46.49296029, 47.76741276])"
      ]
     },
     "execution_count": 62,
     "metadata": {},
     "output_type": "execute_result"
    }
   ],
   "source": [
    "ubs"
   ]
  },
  {
   "cell_type": "code",
   "execution_count": 63,
   "metadata": {},
   "outputs": [
    {
     "data": {
      "text/plain": [
       "array([23.02466055, 11.333274  , 15.53626044, 18.25979735, 17.57188093,\n",
       "       24.58342774, 26.52464077, 23.14815783, 18.25019432, 15.69488366])"
      ]
     },
     "execution_count": 63,
     "metadata": {},
     "output_type": "execute_result"
    }
   ],
   "source": [
    "lbs"
   ]
  },
  {
   "cell_type": "code",
   "execution_count": 57,
   "metadata": {},
   "outputs": [
    {
     "data": {
      "text/plain": [
       "array([[41.5312077 , 48.77592907, 27.11900139, 27.13918625, 16.21405757,\n",
       "        23.40580884, 22.76373827, 21.0484908 , 23.39983298, 48.15919964],\n",
       "       [33.57961676, 36.67235582, 15.38704597, 33.54752342, 42.3600772 ,\n",
       "        32.69043489, 29.295068  , 19.76962533, 35.0395684 , 29.77057425],\n",
       "       [18.60783575, 40.72469574, 33.16716137, 27.30365109, 28.33004705,\n",
       "        15.28595313, 10.93424672, 19.04353102, 28.24276598, 32.0725291 ]])"
      ]
     },
     "execution_count": 57,
     "metadata": {},
     "output_type": "execute_result"
    }
   ],
   "source": [
    "(ubsNs - lbsNs)"
   ]
  },
  {
   "cell_type": "code",
   "execution_count": 26,
   "metadata": {},
   "outputs": [
    {
     "data": {
      "text/plain": [
       "['Results/intervalNs.pkl']"
      ]
     },
     "execution_count": 26,
     "metadata": {},
     "output_type": "execute_result"
    }
   ],
   "source": [
    "import joblib\n",
    "\n",
    "joblib.dump(biasNs, 'Results/biasNs.pkl')\n",
    "joblib.dump(rmseNs, 'Results/rmseNs.pkl')\n",
    "joblib.dump(coverageNs, 'Results/coverageNs.pkl')\n",
    "joblib.dump(intervalNs, 'Results/intervalNs.pkl')"
   ]
  },
  {
   "cell_type": "code",
   "execution_count": null,
   "metadata": {},
   "outputs": [],
   "source": [
    "biasNs = joblib.load('Results/biasNs.pkl')\n",
    "rmseNs = joblib.load('Results/rmseNs.pkl')\n",
    "coverageNs = joblib.load('Results/coverageNs.pkl')\n",
    "intervalNs = joblib.load('Results/intervalNs.pkl')"
   ]
  },
  {
   "cell_type": "markdown",
   "metadata": {},
   "source": [
    "## (2) Degree of non-linearity in X"
   ]
  },
  {
   "cell_type": "code",
   "execution_count": 23,
   "metadata": {},
   "outputs": [
    {
     "data": {
      "application/vnd.jupyter.widget-view+json": {
       "model_id": "a8e06783358b4c029a7e3fdb21640a39",
       "version_major": 2,
       "version_minor": 0
      },
      "text/plain": [
       "HBox(children=(FloatProgress(value=0.0, max=10.0), HTML(value='')))"
      ]
     },
     "metadata": {},
     "output_type": "display_data"
    },
    {
     "name": "stdout",
     "output_type": "stream",
     "text": [
      "\n"
     ]
    },
    {
     "data": {
      "application/vnd.jupyter.widget-view+json": {
       "model_id": "4e76ba115d9448e180049bb7786d34dd",
       "version_major": 2,
       "version_minor": 0
      },
      "text/plain": [
       "HBox(children=(FloatProgress(value=0.0, max=10.0), HTML(value='')))"
      ]
     },
     "metadata": {},
     "output_type": "display_data"
    },
    {
     "name": "stdout",
     "output_type": "stream",
     "text": [
      "\n"
     ]
    },
    {
     "data": {
      "application/vnd.jupyter.widget-view+json": {
       "model_id": "a29fae844cd343c0b5b982423c384768",
       "version_major": 2,
       "version_minor": 0
      },
      "text/plain": [
       "HBox(children=(FloatProgress(value=0.0, max=10.0), HTML(value='')))"
      ]
     },
     "metadata": {},
     "output_type": "display_data"
    },
    {
     "name": "stdout",
     "output_type": "stream",
     "text": [
      "\n"
     ]
    },
    {
     "data": {
      "application/vnd.jupyter.widget-view+json": {
       "model_id": "bb61a2adb2c341589a5fe068a4f7985e",
       "version_major": 2,
       "version_minor": 0
      },
      "text/plain": [
       "HBox(children=(FloatProgress(value=0.0, max=10.0), HTML(value='')))"
      ]
     },
     "metadata": {},
     "output_type": "display_data"
    },
    {
     "name": "stdout",
     "output_type": "stream",
     "text": [
      "\n"
     ]
    }
   ],
   "source": [
    "K = 10\n",
    "linearityLevels = ['full', 'high', 'med', 'low']\n",
    "\n",
    "biasLLs = np.zeros(len(linearityLevels))\n",
    "rmseLLs = np.zeros(len(linearityLevels))\n",
    "coverageLLs = np.zeros(len(linearityLevels))\n",
    "intervalLLs = np.zeros(len(linearityLevels))\n",
    "\n",
    "for idx, level in enumerate(linearityLevels):\n",
    "    estLLs = []\n",
    "    trueATELLs = []\n",
    "    evalSetLLs = []\n",
    "    for i in tqdm(range(K)):\n",
    "        y, X, trueBetas, featureNames, treatments, cy, ate = dgp(welfare, linearity=level)\n",
    "        est, X_test = estimate_cf(y, X, treatments)\n",
    "\n",
    "        estLLs.append(est)\n",
    "        trueATELLs.append(ate)\n",
    "        evalSetLLs.append(X_test)\n",
    "\n",
    "    bias, rmse, coverage, interval, lbs, ubs, ates = evalStats(estLLs, trueATELLs, evalSetLLs)\n",
    "    \n",
    "    biasLLs[idx] = bias\n",
    "    rmseLLs[idx] = rmse\n",
    "    coverageLLs[idx] = coverage\n",
    "    intervalLLs[idx] = interval"
   ]
  },
  {
   "cell_type": "code",
   "execution_count": 27,
   "metadata": {},
   "outputs": [
    {
     "data": {
      "text/plain": [
       "['Results/intervalLLs.pkl']"
      ]
     },
     "execution_count": 27,
     "metadata": {},
     "output_type": "execute_result"
    }
   ],
   "source": [
    "import joblib\n",
    "\n",
    "joblib.dump(biasLLs, 'Results/biasLLs.pkl')\n",
    "joblib.dump(rmseLLs, 'Results/rmseLLs.pkl')\n",
    "joblib.dump(coverageLLs, 'Results/coverageLLs.pkl')\n",
    "joblib.dump(intervalLLs, 'Results/intervalLLs.pkl')"
   ]
  },
  {
   "cell_type": "markdown",
   "metadata": {},
   "source": [
    "## (3) Percentage Treated"
   ]
  },
  {
   "cell_type": "code",
   "execution_count": 17,
   "metadata": {},
   "outputs": [
    {
     "data": {
      "application/vnd.jupyter.widget-view+json": {
       "model_id": "a6c82f38d2aa449e8c9e3a0a65ccd6dc",
       "version_major": 2,
       "version_minor": 0
      },
      "text/plain": [
       "HBox(children=(FloatProgress(value=0.0, max=10.0), HTML(value='')))"
      ]
     },
     "metadata": {},
     "output_type": "display_data"
    },
    {
     "name": "stdout",
     "output_type": "stream",
     "text": [
      "\n"
     ]
    },
    {
     "data": {
      "application/vnd.jupyter.widget-view+json": {
       "model_id": "a441b8021a3a42a782623e05d6c3b351",
       "version_major": 2,
       "version_minor": 0
      },
      "text/plain": [
       "HBox(children=(FloatProgress(value=0.0, max=10.0), HTML(value='')))"
      ]
     },
     "metadata": {},
     "output_type": "display_data"
    },
    {
     "name": "stdout",
     "output_type": "stream",
     "text": [
      "\n"
     ]
    },
    {
     "data": {
      "application/vnd.jupyter.widget-view+json": {
       "model_id": "ae6a9cce41c6403590bc36829808598e",
       "version_major": 2,
       "version_minor": 0
      },
      "text/plain": [
       "HBox(children=(FloatProgress(value=0.0, max=10.0), HTML(value='')))"
      ]
     },
     "metadata": {},
     "output_type": "display_data"
    },
    {
     "name": "stdout",
     "output_type": "stream",
     "text": [
      "\n"
     ]
    }
   ],
   "source": [
    "K = 10\n",
    "percentTreats = [0.1, 0.5, 0.9]\n",
    "\n",
    "biasPTs = np.zeros(len(percentTreats))\n",
    "rmsePTs = np.zeros(len(percentTreats))\n",
    "coveragePTs = np.zeros(len(percentTreats))\n",
    "intervalPTs = np.zeros(len(percentTreats))\n",
    "\n",
    "for idx, percent in enumerate(percentTreats):\n",
    "    estPTs = []\n",
    "    trueATEPTs = []\n",
    "    evalSetPTs = []\n",
    "    for i in tqdm(range(K)):\n",
    "        y, X, trueBetas, featureNames, treatments, cy, ate = dgp(welfare, treatment_probability=percent)\n",
    "        est, X_test = estimate_cf(y, X, treatments)\n",
    "\n",
    "        estPTs.append(est)\n",
    "        trueATEPTs.append(ate)\n",
    "        evalSetPTs.append(X_test)\n",
    "\n",
    "    bias, rmse, coverage, interval, lbs, ubs, ates = evalStats(estPTs, trueATEPTs, evalSetPTs)\n",
    "    \n",
    "    biasPTs[idx] = bias\n",
    "    rmsePTs[idx] = rmse\n",
    "    coveragePTs[idx] = coverage\n",
    "    intervalPTs[idx] = interval"
   ]
  },
  {
   "cell_type": "code",
   "execution_count": 18,
   "metadata": {},
   "outputs": [
    {
     "data": {
      "text/plain": [
       "['Results/intervalPTs.pkl']"
      ]
     },
     "execution_count": 18,
     "metadata": {},
     "output_type": "execute_result"
    }
   ],
   "source": [
    "import joblib\n",
    "joblib.dump(biasPTs, 'Results/biasPTs.pkl')\n",
    "joblib.dump(rmsePTs, 'Results/rmsePTs.pkl')\n",
    "joblib.dump(coveragePTs, 'Results/coveragePTs.pkl')\n",
    "joblib.dump(intervalPTs, 'Results/intervalPTs.pkl')"
   ]
  },
  {
   "cell_type": "code",
   "execution_count": 42,
   "metadata": {},
   "outputs": [
    {
     "data": {
      "text/plain": [
       "array([-2.06515279,  0.38423121,  1.46157868])"
      ]
     },
     "execution_count": 42,
     "metadata": {},
     "output_type": "execute_result"
    }
   ],
   "source": [
    "biasPTs"
   ]
  },
  {
   "cell_type": "code",
   "execution_count": 43,
   "metadata": {},
   "outputs": [
    {
     "data": {
      "text/plain": [
       "array([4.35001693, 0.45434897, 3.50965091])"
      ]
     },
     "execution_count": 43,
     "metadata": {},
     "output_type": "execute_result"
    }
   ],
   "source": [
    "rmsePTs"
   ]
  },
  {
   "cell_type": "code",
   "execution_count": 44,
   "metadata": {},
   "outputs": [
    {
     "data": {
      "text/plain": [
       "array([1., 1., 1.])"
      ]
     },
     "execution_count": 44,
     "metadata": {},
     "output_type": "execute_result"
    }
   ],
   "source": [
    "coveragePTs"
   ]
  },
  {
   "cell_type": "code",
   "execution_count": 47,
   "metadata": {},
   "outputs": [
    {
     "data": {
      "text/plain": [
       "array([43.02529376, 26.92967731, 33.19245789])"
      ]
     },
     "execution_count": 47,
     "metadata": {},
     "output_type": "execute_result"
    }
   ],
   "source": [
    "intervalPTs"
   ]
  },
  {
   "cell_type": "markdown",
   "metadata": {},
   "source": [
    "## (4) Overlap"
   ]
  },
  {
   "cell_type": "code",
   "execution_count": 10,
   "metadata": {},
   "outputs": [
    {
     "data": {
      "application/vnd.jupyter.widget-view+json": {
       "model_id": "756d1c246db94900a36aac1e98104dc1",
       "version_major": 2,
       "version_minor": 0
      },
      "text/plain": [
       "HBox(children=(FloatProgress(value=0.0, max=10.0), HTML(value='')))"
      ]
     },
     "metadata": {},
     "output_type": "display_data"
    },
    {
     "name": "stdout",
     "output_type": "stream",
     "text": [
      "\n"
     ]
    },
    {
     "data": {
      "application/vnd.jupyter.widget-view+json": {
       "model_id": "7f7bb3cf8280407d94f735adb1f76b49",
       "version_major": 2,
       "version_minor": 0
      },
      "text/plain": [
       "HBox(children=(FloatProgress(value=0.0, max=10.0), HTML(value='')))"
      ]
     },
     "metadata": {},
     "output_type": "display_data"
    },
    {
     "name": "stdout",
     "output_type": "stream",
     "text": [
      "\n"
     ]
    }
   ],
   "source": [
    "K = 10\n",
    "overlapTypes = [True, False]\n",
    "\n",
    "biasOTs = np.zeros(len(overlapTypes))\n",
    "rmseOTs = np.zeros(len(overlapTypes))\n",
    "coverageOTs = np.zeros(len(overlapTypes))\n",
    "intervalOTs = np.zeros(len(overlapTypes))\n",
    "\n",
    "for idx, overlap in enumerate(overlapTypes):\n",
    "    estOTs = []\n",
    "    trueATEOTs = []\n",
    "    evalSetOTs = []\n",
    "    for i in tqdm(range(K)):\n",
    "        y, X, trueBetas, featureNames, treatments, cy, ate = dgp(welfare, overlap=overlap)\n",
    "        est, X_test = estimate_cf(y, X, treatments)\n",
    "\n",
    "        estOTs.append(est)\n",
    "        trueATEOTs.append(ate)\n",
    "        evalSetOTs.append(X_test)\n",
    "\n",
    "    bias, rmse, coverage, interval, lbs, ubs, ates = evalStats(estOTs, trueATEOTs, evalSetOTs)\n",
    "    \n",
    "    biasOTs[idx] = bias\n",
    "    rmseOTs[idx] = rmse\n",
    "    coverageOTs[idx] = coverage\n",
    "    intervalOTs[idx] = interval"
   ]
  },
  {
   "cell_type": "code",
   "execution_count": 19,
   "metadata": {},
   "outputs": [
    {
     "data": {
      "text/plain": [
       "['Results/intervalOTs.pkl']"
      ]
     },
     "execution_count": 19,
     "metadata": {},
     "output_type": "execute_result"
    }
   ],
   "source": [
    "import joblib\n",
    "joblib.dump(biasOTs, 'Results/biasOTs.pkl')\n",
    "joblib.dump(rmseOTs, 'Results/rmseOTs.pkl')\n",
    "joblib.dump(coverageOTs, 'Results/coverageOTs.pkl')\n",
    "joblib.dump(intervalOTs, 'Results/intervalOTs.pkl')"
   ]
  },
  {
   "cell_type": "code",
   "execution_count": 31,
   "metadata": {},
   "outputs": [
    {
     "data": {
      "text/plain": [
       "array([0.3521126, 0.5753263])"
      ]
     },
     "execution_count": 31,
     "metadata": {},
     "output_type": "execute_result"
    }
   ],
   "source": [
    "biasOTs"
   ]
  },
  {
   "cell_type": "code",
   "execution_count": 32,
   "metadata": {},
   "outputs": [
    {
     "data": {
      "text/plain": [
       "array([0.66382688, 2.79374585])"
      ]
     },
     "execution_count": 32,
     "metadata": {},
     "output_type": "execute_result"
    }
   ],
   "source": [
    "rmseOTs"
   ]
  },
  {
   "cell_type": "code",
   "execution_count": 33,
   "metadata": {},
   "outputs": [
    {
     "data": {
      "text/plain": [
       "array([1., 1.])"
      ]
     },
     "execution_count": 33,
     "metadata": {},
     "output_type": "execute_result"
    }
   ],
   "source": [
    "coverageOTs"
   ]
  },
  {
   "cell_type": "code",
   "execution_count": 34,
   "metadata": {},
   "outputs": [
    {
     "data": {
      "text/plain": [
       "array([25.99187606, 30.47530874])"
      ]
     },
     "execution_count": 34,
     "metadata": {},
     "output_type": "execute_result"
    }
   ],
   "source": [
    "intervalOTs"
   ]
  },
  {
   "cell_type": "markdown",
   "metadata": {},
   "source": [
    "## (5) Treatment Effect Heterogeneity Level"
   ]
  },
  {
   "cell_type": "code",
   "execution_count": 11,
   "metadata": {},
   "outputs": [
    {
     "data": {
      "application/vnd.jupyter.widget-view+json": {
       "model_id": "182d993aed384953ab79a52a17de92f2",
       "version_major": 2,
       "version_minor": 0
      },
      "text/plain": [
       "HBox(children=(FloatProgress(value=0.0, max=10.0), HTML(value='')))"
      ]
     },
     "metadata": {},
     "output_type": "display_data"
    },
    {
     "name": "stdout",
     "output_type": "stream",
     "text": [
      "\n"
     ]
    },
    {
     "data": {
      "application/vnd.jupyter.widget-view+json": {
       "model_id": "a5c8345a50404a098642369b693672b7",
       "version_major": 2,
       "version_minor": 0
      },
      "text/plain": [
       "HBox(children=(FloatProgress(value=0.0, max=10.0), HTML(value='')))"
      ]
     },
     "metadata": {},
     "output_type": "display_data"
    },
    {
     "name": "stdout",
     "output_type": "stream",
     "text": [
      "\n"
     ]
    },
    {
     "data": {
      "application/vnd.jupyter.widget-view+json": {
       "model_id": "5a8757f243d84f1f96f952728de02709",
       "version_major": 2,
       "version_minor": 0
      },
      "text/plain": [
       "HBox(children=(FloatProgress(value=0.0, max=10.0), HTML(value='')))"
      ]
     },
     "metadata": {},
     "output_type": "display_data"
    },
    {
     "name": "stdout",
     "output_type": "stream",
     "text": [
      "\n"
     ]
    },
    {
     "data": {
      "application/vnd.jupyter.widget-view+json": {
       "model_id": "4fe074c8dbb940488d0ad7c86774d52f",
       "version_major": 2,
       "version_minor": 0
      },
      "text/plain": [
       "HBox(children=(FloatProgress(value=0.0, max=10.0), HTML(value='')))"
      ]
     },
     "metadata": {},
     "output_type": "display_data"
    },
    {
     "name": "stdout",
     "output_type": "stream",
     "text": [
      "\n"
     ]
    }
   ],
   "source": [
    "K = 10\n",
    "heterogeneityLevels = [0, 2, 4, 8]\n",
    "\n",
    "biasHLs = np.zeros(len(heterogeneityLevels))\n",
    "rmseHLs = np.zeros(len(heterogeneityLevels))\n",
    "coverageHLs = np.zeros(len(heterogeneityLevels))\n",
    "intervalHLs = np.zeros(len(heterogeneityLevels))\n",
    "\n",
    "for idx, heterogeneity in enumerate(heterogeneityLevels):\n",
    "    estHLs = []\n",
    "    trueATEHLs = []\n",
    "    evalSetHLs = []\n",
    "    for i in tqdm(range(K)):\n",
    "        if heterogeneity == 0:\n",
    "            y, X, trueBetas, featureNames, treatments, cy, ate = dgp(welfare, effect_type='homogeneous')\n",
    "        else:\n",
    "            y, X, trueBetas, featureNames, treatments, cy, ate = dgp(welfare, heterogeneous_select=heterogeneity)\n",
    "\n",
    "        est, X_test = estimate_cf(y, X, treatments)\n",
    "\n",
    "        estHLs.append(est)\n",
    "        trueATEHLs.append(ate)\n",
    "        evalSetHLs.append(X_test)\n",
    "\n",
    "    bias, rmse, coverage, interval, lbs, ubs, ates = evalStats(estHLs, trueATEHLs, evalSetHLs)\n",
    "    \n",
    "    biasHLs[idx] = bias\n",
    "    rmseHLs[idx] = rmse\n",
    "    coverageHLs[idx] = coverage\n",
    "    intervalHLs[idx] = interval"
   ]
  },
  {
   "cell_type": "code",
   "execution_count": 20,
   "metadata": {},
   "outputs": [
    {
     "data": {
      "text/plain": [
       "['Results/intervalHLs.pkl']"
      ]
     },
     "execution_count": 20,
     "metadata": {},
     "output_type": "execute_result"
    }
   ],
   "source": [
    "import joblib\n",
    "joblib.dump(biasHLs, 'Results/biasHLs.pkl')\n",
    "joblib.dump(rmseHLs, 'Results/rmseHLs.pkl')\n",
    "joblib.dump(coverageHLs, 'Results/coverageHLs.pkl')\n",
    "joblib.dump(intervalHLs, 'Results/intervalHLs.pkl')"
   ]
  },
  {
   "cell_type": "code",
   "execution_count": 27,
   "metadata": {},
   "outputs": [
    {
     "data": {
      "text/plain": [
       "array([ 2.02776808e-03,  3.94568975e-01,  3.43460337e-01, -2.61791121e+00])"
      ]
     },
     "execution_count": 27,
     "metadata": {},
     "output_type": "execute_result"
    }
   ],
   "source": [
    "biasHLs"
   ]
  },
  {
   "cell_type": "code",
   "execution_count": 28,
   "metadata": {},
   "outputs": [
    {
     "data": {
      "text/plain": [
       "array([ 0.41843396,  0.56840136,  0.59779396, 40.88717615])"
      ]
     },
     "execution_count": 28,
     "metadata": {},
     "output_type": "execute_result"
    }
   ],
   "source": [
    "rmseHLs"
   ]
  },
  {
   "cell_type": "code",
   "execution_count": 29,
   "metadata": {},
   "outputs": [
    {
     "data": {
      "text/plain": [
       "array([1., 1., 1., 1.])"
      ]
     },
     "execution_count": 29,
     "metadata": {},
     "output_type": "execute_result"
    }
   ],
   "source": [
    "coverageHLs"
   ]
  },
  {
   "cell_type": "code",
   "execution_count": 30,
   "metadata": {},
   "outputs": [
    {
     "data": {
      "text/plain": [
       "array([ 22.07181591,  22.34502851,  24.49069995, 261.84933596])"
      ]
     },
     "execution_count": 30,
     "metadata": {},
     "output_type": "execute_result"
    }
   ],
   "source": [
    "intervalHLs"
   ]
  },
  {
   "cell_type": "markdown",
   "metadata": {},
   "source": [
    "## (6) Treatment Type (Continuous vs. Discrete)"
   ]
  },
  {
   "cell_type": "code",
   "execution_count": 16,
   "metadata": {},
   "outputs": [
    {
     "data": {
      "application/vnd.jupyter.widget-view+json": {
       "model_id": "4cc6586ab91a4a3fa3df0d4bbaa43692",
       "version_major": 2,
       "version_minor": 0
      },
      "text/plain": [
       "HBox(children=(FloatProgress(value=0.0, max=10.0), HTML(value='')))"
      ]
     },
     "metadata": {},
     "output_type": "display_data"
    },
    {
     "name": "stdout",
     "output_type": "stream",
     "text": [
      "\n"
     ]
    },
    {
     "data": {
      "application/vnd.jupyter.widget-view+json": {
       "model_id": "7a437d2843934a34bde08e87f33c4fad",
       "version_major": 2,
       "version_minor": 0
      },
      "text/plain": [
       "HBox(children=(FloatProgress(value=0.0, max=10.0), HTML(value='')))"
      ]
     },
     "metadata": {},
     "output_type": "display_data"
    },
    {
     "name": "stdout",
     "output_type": "stream",
     "text": [
      "\n"
     ]
    }
   ],
   "source": [
    "K = 10\n",
    "treatmentTypes = ['continuous', 'binary']\n",
    "\n",
    "biasTTs = np.zeros(len(treatmentTypes))\n",
    "rmseTTs = np.zeros(len(treatmentTypes))\n",
    "coverageTTs = np.zeros(len(treatmentTypes))\n",
    "intervalTTs = np.zeros(len(treatmentTypes))\n",
    "\n",
    "for idx, treatment_type in enumerate(treatmentTypes):\n",
    "    estTTs = []\n",
    "    trueATETTs = []\n",
    "    evalSetTTs = []\n",
    "    criterion = 'het' if treatment_type == \"binary\" else 'mse'\n",
    "    discrete_treatment = True if treatment_type == \"binary\" else False\n",
    "    for i in tqdm(range(K)):\n",
    "        y, X, trueBetas, featureNames, treatments, cy, ate = dgp(welfare, treatment_type=treatment_type)\n",
    "        \n",
    "        est, X_test = estimate_cf(y, X, treatments, criterion=criterion, discrete_treatment=discrete_treatment)\n",
    "\n",
    "        estTTs.append(est)\n",
    "        trueATETTs.append(ate)\n",
    "        evalSetTTs.append(X_test)\n",
    "\n",
    "    bias, rmse, coverage, interval, lbs, ubs, ates = evalStats(estTTs, trueATETTs, evalSetTTs)\n",
    "    \n",
    "    biasTTs[idx] = bias\n",
    "    rmseTTs[idx] = rmse\n",
    "    coverageTTs[idx] = coverage\n",
    "    intervalTTs[idx] = interval"
   ]
  },
  {
   "cell_type": "code",
   "execution_count": 21,
   "metadata": {},
   "outputs": [
    {
     "data": {
      "text/plain": [
       "['Results/intervalTTs.pkl']"
      ]
     },
     "execution_count": 21,
     "metadata": {},
     "output_type": "execute_result"
    }
   ],
   "source": [
    "import joblib\n",
    "joblib.dump(biasTTs, 'Results/biasTTs.pkl')\n",
    "joblib.dump(rmseTTs, 'Results/rmseTTs.pkl')\n",
    "joblib.dump(coverageTTs, 'Results/coverageTTs.pkl')\n",
    "joblib.dump(intervalTTs, 'Results/intervalTTs.pkl')"
   ]
  },
  {
   "cell_type": "code",
   "execution_count": 23,
   "metadata": {},
   "outputs": [
    {
     "data": {
      "text/plain": [
       "array([-2.60607968e+01, -5.01181235e-03])"
      ]
     },
     "execution_count": 23,
     "metadata": {},
     "output_type": "execute_result"
    }
   ],
   "source": [
    "biasTTs"
   ]
  },
  {
   "cell_type": "code",
   "execution_count": 24,
   "metadata": {},
   "outputs": [
    {
     "data": {
      "text/plain": [
       "array([26.40698023,  0.42194554])"
      ]
     },
     "execution_count": 24,
     "metadata": {},
     "output_type": "execute_result"
    }
   ],
   "source": [
    "rmseTTs"
   ]
  },
  {
   "cell_type": "code",
   "execution_count": 25,
   "metadata": {},
   "outputs": [
    {
     "data": {
      "text/plain": [
       "array([0.4, 1. ])"
      ]
     },
     "execution_count": 25,
     "metadata": {},
     "output_type": "execute_result"
    }
   ],
   "source": [
    "coverageTTs"
   ]
  },
  {
   "cell_type": "code",
   "execution_count": 26,
   "metadata": {},
   "outputs": [
    {
     "data": {
      "text/plain": [
       "array([51.24143738, 20.75211142])"
      ]
     },
     "execution_count": 26,
     "metadata": {},
     "output_type": "execute_result"
    }
   ],
   "source": [
    "intervalTTs"
   ]
  },
  {
   "cell_type": "markdown",
   "metadata": {},
   "source": [
    "## (7) Alignment"
   ]
  },
  {
   "cell_type": "markdown",
   "metadata": {},
   "source": [
    "Below is to implement / have running state of variables"
   ]
  },
  {
   "cell_type": "code",
   "execution_count": 10,
   "metadata": {},
   "outputs": [],
   "source": [
    "np.random.seed(123)\n",
    "effect_type=\"heterogeneous\"\n",
    "effect_homogeneous=10\n",
    "effect_heterogeneous=2\n",
    "# treatment_type=\"continuous\"\n",
    "treatment_type=\"binary\"\n",
    "treatment_probability=0.5\n",
    "heterogeneous_select=4\n",
    "order=3\n",
    "linearity=\"med\"\n",
    "N=1000\n",
    "overlap=True\n",
    "overlap_percent=0.5\n",
    "\n",
    "featureNames = list(welfare.columns)\n",
    "\n",
    "importantFeatureNames = ['wrkstat', 'race', 'year', 'hrs1', 'income', 'occ80', 'id', 'educ'] # top 8 important features based on Shapley visualization from \n",
    "importantFeatureIndices = []\n",
    "for name in importantFeatureNames:\n",
    "    importantFeatureIndices.append(featureNames.index(name)) \n",
    "\n",
    "# error terms\n",
    "error = np.random.normal(size=(N,1))\n",
    "\n",
    "# data generation\n",
    "cov = welfare.cov()\n",
    "means = welfare.mean(axis=0)\n",
    "X = np.random.multivariate_normal(means.values, cov, size=N, check_valid='warn', tol=1e-8)\n",
    "\n",
    "# linearity specification\n",
    "if linearity != 'full':\n",
    "    select = 0 # select n most important features for interactions and polynomials\n",
    "    poly = PolynomialFeatures(degree=order, interaction_only=False, include_bias=False)\n",
    "\n",
    "    if linearity == \"high\": \n",
    "        select = 2\n",
    "    elif linearity == \"med\": \n",
    "        select = 4\n",
    "    elif linearity == \"low\": \n",
    "        select = 8\n",
    "    else: # if some typo, assume baseline of high\n",
    "        select = 2\n",
    "\n",
    "    poly.fit(X[:, importantFeatureIndices[:select]])\n",
    "    fullData = poly.transform(X[:, importantFeatureIndices[:select]])\n",
    "    fullNames = poly.get_feature_names(input_features=importantFeatureNames[:select])\n",
    "    higherData = fullData[:, -(fullData.shape[1] - select):] # select only higher order\n",
    "    higherNames = fullNames[-(len(fullNames) - select):]\n",
    "\n",
    "    X = np.append(X, higherData, axis=1) \n",
    "    featureNames.extend(list(higherNames))\n",
    "\n",
    "# treatment type\n",
    "if treatment_type == \"binary\":\n",
    "    # randomly assigned treatments with propensity treatment_probability\n",
    "    treatments = np.random.choice([0, 1], size=N, p=[1 - treatment_probability, treatment_probability]).reshape((-1, 1))\n",
    "    if not overlap:\n",
    "        forced = random.sample(list(np.arange(treatments.shape[0])), int(treatments.shape[0] * overlap_percent))\n",
    "        treatments[forced] = 0\n",
    "    treated = treatments > 0\n",
    "    \n",
    "    # generate counterfactual treatment indicator vector\n",
    "    c_treatments = deepcopy(treatments)\n",
    "    c_treatments[treatments == 0] = 1\n",
    "    c_treatments[treatments == 1] = 0\n",
    "\n",
    "else:\n",
    "    treatments = np.random.uniform(size=(N, 1))\n",
    "    if not overlap:\n",
    "        forced = random.sample(list(np.arange(treatments.shape[0])), int(treatments.shape[0] * overlap_percent))\n",
    "        treatments[forced] = 0\n",
    "    treated = treatments > 0.5\n",
    "    c_treatments = deepcopy(treatments)\n",
    "    # to-do\n",
    "    c_treatments[treatments > 0] = 0\n",
    "    c_treatments[treatments == 0] = treatments.mean()\n",
    "    \n",
    "# treatment effect\n",
    "if effect_type == \"homogeneous\":\n",
    "\n",
    "    T = treatments*effect_homogeneous\n",
    "    CT = c_treatments*effect_homogeneous\n",
    "    \n",
    "else: # heterogeneous\n",
    "    # heterogeneous treatment is effect 1 + effect * (sum of first heterogeneous_select important variables)\n",
    "    heterogeneousIndices = importantFeatureIndices[:heterogeneous_select]\n",
    "    \n",
    "    T = 1 + (2*(X[:, heterogeneousIndices].sum(axis=1)))*treatments.ravel()\n",
    "    T = T.reshape(-1, 1)\n",
    "    T[~treated] = np.zeros((~treated).sum())\n",
    "    \n",
    "    CT = 1 + (2*(X[:, heterogeneousIndices].sum(axis=1)))*c_treatments.ravel()\n",
    "    CT = CT.reshape(-1, 1)\n",
    "    CT[treated] = np.zeros((treated).sum()) # everyone that was treated goes to untreated in counterfactual\n",
    "    \n",
    "\n",
    "betas = np.random.normal(size=X.shape[1]).reshape(-1,1)\n",
    "y = T + X@betas + error\n",
    "cy = CT + X@betas + error"
   ]
  },
  {
   "cell_type": "code",
   "execution_count": 184,
   "metadata": {},
   "outputs": [
    {
     "data": {
      "text/plain": [
       "15.720148792484203"
      ]
     },
     "execution_count": 184,
     "metadata": {},
     "output_type": "execute_result"
    }
   ],
   "source": [
    "X[:, heterogeneousIndices].mean(axis=0).sum() # average across the used columns to check ATE"
   ]
  },
  {
   "cell_type": "code",
   "execution_count": 176,
   "metadata": {},
   "outputs": [
    {
     "data": {
      "text/plain": [
       "32.43845628547201"
      ]
     },
     "execution_count": 176,
     "metadata": {},
     "output_type": "execute_result"
    }
   ],
   "source": [
    "tmp = y[treated] - cy[treated] # the treated\n",
    "untmp = cy[~treated] - y[~treated] # the untreated\n",
    "ate = (tmp.mean() + untmp.mean())/2"
   ]
  },
  {
   "cell_type": "code",
   "execution_count": 11,
   "metadata": {},
   "outputs": [],
   "source": [
    "y, X, trueBetas, featureNames, treatments, cy, ate = dgp(welfare, N=36501, order=3, treatment_probability=0.5)"
   ]
  },
  {
   "cell_type": "code",
   "execution_count": 13,
   "metadata": {},
   "outputs": [],
   "source": [
    "est, X_test = estimate_cf(y, X, treatments)"
   ]
  },
  {
   "cell_type": "code",
   "execution_count": null,
   "metadata": {},
   "outputs": [],
   "source": []
  }
 ],
 "metadata": {
  "kernelspec": {
   "display_name": "Python 3",
   "language": "python",
   "name": "python3"
  },
  "language_info": {
   "codemirror_mode": {
    "name": "ipython",
    "version": 3
   },
   "file_extension": ".py",
   "mimetype": "text/x-python",
   "name": "python",
   "nbconvert_exporter": "python",
   "pygments_lexer": "ipython3",
   "version": "3.6.9"
  }
 },
 "nbformat": 4,
 "nbformat_minor": 4
}
