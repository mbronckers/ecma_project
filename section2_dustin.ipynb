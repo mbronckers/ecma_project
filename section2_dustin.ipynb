{
 "cells": [
  {
   "cell_type": "markdown",
   "metadata": {},
   "source": [
    "# Section 2: Analyzing Causal Forests on Simulated Data similar to GSS data "
   ]
  },
  {
   "cell_type": "code",
   "execution_count": 38,
   "metadata": {},
   "outputs": [],
   "source": [
    "import random\n",
    "import numpy as np\n",
    "import pandas as pd\n",
    "import matplotlib.pyplot as plt\n",
    "\n",
    "from sklearn.preprocessing import PolynomialFeatures\n",
    "from sklearn.model_selection import train_test_split\n",
    "from econml.dml import CausalForestDML\n",
    "from tqdm.auto import tqdm\n",
    "\n",
    "from copy import deepcopy\n",
    "import joblib\n",
    "import warnings\n",
    "import joblib\n",
    "import math\n",
    "warnings.filterwarnings(\"ignore\")\n",
    "\n",
    "def fullDisplay():\n",
    "    pd.set_option(\"display.max_rows\", None, \"display.max_columns\", None)\n",
    "\n",
    "def defaultDisplay():\n",
    "    pd.reset_option('^display.', silent=True)"
   ]
  },
  {
   "cell_type": "markdown",
   "metadata": {},
   "source": [
    "## Loading data"
   ]
  },
  {
   "cell_type": "code",
   "execution_count": 2,
   "metadata": {},
   "outputs": [
    {
     "data": {
      "text/html": [
       "<div>\n",
       "<style scoped>\n",
       "    .dataframe tbody tr th:only-of-type {\n",
       "        vertical-align: middle;\n",
       "    }\n",
       "\n",
       "    .dataframe tbody tr th {\n",
       "        vertical-align: top;\n",
       "    }\n",
       "\n",
       "    .dataframe thead th {\n",
       "        text-align: right;\n",
       "    }\n",
       "</style>\n",
       "<table border=\"1\" class=\"dataframe\">\n",
       "  <thead>\n",
       "    <tr style=\"text-align: right;\">\n",
       "      <th></th>\n",
       "      <th>year</th>\n",
       "      <th>id</th>\n",
       "      <th>wrkstat</th>\n",
       "      <th>hrs1</th>\n",
       "      <th>hrs2</th>\n",
       "      <th>evwork</th>\n",
       "      <th>occ</th>\n",
       "      <th>prestige</th>\n",
       "      <th>wrkslf</th>\n",
       "      <th>wrkgovt</th>\n",
       "      <th>...</th>\n",
       "      <th>adults_miss</th>\n",
       "      <th>unrelat_miss</th>\n",
       "      <th>earnrs_miss</th>\n",
       "      <th>income_miss</th>\n",
       "      <th>rincome_miss</th>\n",
       "      <th>income86_miss</th>\n",
       "      <th>partyid_miss</th>\n",
       "      <th>polviews_miss</th>\n",
       "      <th>attblack</th>\n",
       "      <th>attblack_miss</th>\n",
       "    </tr>\n",
       "  </thead>\n",
       "  <tbody>\n",
       "    <tr>\n",
       "      <th>0</th>\n",
       "      <td>0</td>\n",
       "      <td>1</td>\n",
       "      <td>7</td>\n",
       "      <td>0.004845</td>\n",
       "      <td>0.005228</td>\n",
       "      <td>1</td>\n",
       "      <td>135</td>\n",
       "      <td>0.005641</td>\n",
       "      <td>2</td>\n",
       "      <td>2</td>\n",
       "      <td>...</td>\n",
       "      <td>0</td>\n",
       "      <td>0</td>\n",
       "      <td>0</td>\n",
       "      <td>0</td>\n",
       "      <td>0</td>\n",
       "      <td>0</td>\n",
       "      <td>0</td>\n",
       "      <td>0</td>\n",
       "      <td>0.005440</td>\n",
       "      <td>0</td>\n",
       "    </tr>\n",
       "    <tr>\n",
       "      <th>1</th>\n",
       "      <td>0</td>\n",
       "      <td>2</td>\n",
       "      <td>1</td>\n",
       "      <td>0.005055</td>\n",
       "      <td>0.005228</td>\n",
       "      <td>0</td>\n",
       "      <td>106</td>\n",
       "      <td>0.006538</td>\n",
       "      <td>2</td>\n",
       "      <td>2</td>\n",
       "      <td>...</td>\n",
       "      <td>0</td>\n",
       "      <td>1</td>\n",
       "      <td>0</td>\n",
       "      <td>0</td>\n",
       "      <td>1</td>\n",
       "      <td>0</td>\n",
       "      <td>0</td>\n",
       "      <td>0</td>\n",
       "      <td>0.004080</td>\n",
       "      <td>0</td>\n",
       "    </tr>\n",
       "    <tr>\n",
       "      <th>2</th>\n",
       "      <td>0</td>\n",
       "      <td>3</td>\n",
       "      <td>7</td>\n",
       "      <td>0.004845</td>\n",
       "      <td>0.005228</td>\n",
       "      <td>1</td>\n",
       "      <td>99</td>\n",
       "      <td>0.006538</td>\n",
       "      <td>2</td>\n",
       "      <td>2</td>\n",
       "      <td>...</td>\n",
       "      <td>0</td>\n",
       "      <td>1</td>\n",
       "      <td>0</td>\n",
       "      <td>0</td>\n",
       "      <td>0</td>\n",
       "      <td>0</td>\n",
       "      <td>0</td>\n",
       "      <td>0</td>\n",
       "      <td>0.002040</td>\n",
       "      <td>0</td>\n",
       "    </tr>\n",
       "    <tr>\n",
       "      <th>3</th>\n",
       "      <td>0</td>\n",
       "      <td>4</td>\n",
       "      <td>3</td>\n",
       "      <td>0.005055</td>\n",
       "      <td>0.005228</td>\n",
       "      <td>0</td>\n",
       "      <td>142</td>\n",
       "      <td>0.004615</td>\n",
       "      <td>2</td>\n",
       "      <td>0</td>\n",
       "      <td>...</td>\n",
       "      <td>0</td>\n",
       "      <td>0</td>\n",
       "      <td>0</td>\n",
       "      <td>0</td>\n",
       "      <td>1</td>\n",
       "      <td>0</td>\n",
       "      <td>0</td>\n",
       "      <td>0</td>\n",
       "      <td>0.004080</td>\n",
       "      <td>0</td>\n",
       "    </tr>\n",
       "    <tr>\n",
       "      <th>4</th>\n",
       "      <td>0</td>\n",
       "      <td>5</td>\n",
       "      <td>8</td>\n",
       "      <td>0.005055</td>\n",
       "      <td>0.005228</td>\n",
       "      <td>1</td>\n",
       "      <td>211</td>\n",
       "      <td>0.005171</td>\n",
       "      <td>2</td>\n",
       "      <td>1</td>\n",
       "      <td>...</td>\n",
       "      <td>0</td>\n",
       "      <td>0</td>\n",
       "      <td>0</td>\n",
       "      <td>0</td>\n",
       "      <td>0</td>\n",
       "      <td>0</td>\n",
       "      <td>0</td>\n",
       "      <td>0</td>\n",
       "      <td>0.004080</td>\n",
       "      <td>0</td>\n",
       "    </tr>\n",
       "    <tr>\n",
       "      <th>...</th>\n",
       "      <td>...</td>\n",
       "      <td>...</td>\n",
       "      <td>...</td>\n",
       "      <td>...</td>\n",
       "      <td>...</td>\n",
       "      <td>...</td>\n",
       "      <td>...</td>\n",
       "      <td>...</td>\n",
       "      <td>...</td>\n",
       "      <td>...</td>\n",
       "      <td>...</td>\n",
       "      <td>...</td>\n",
       "      <td>...</td>\n",
       "      <td>...</td>\n",
       "      <td>...</td>\n",
       "      <td>...</td>\n",
       "      <td>...</td>\n",
       "      <td>...</td>\n",
       "      <td>...</td>\n",
       "      <td>...</td>\n",
       "      <td>...</td>\n",
       "    </tr>\n",
       "    <tr>\n",
       "      <th>36496</th>\n",
       "      <td>15</td>\n",
       "      <td>2040</td>\n",
       "      <td>3</td>\n",
       "      <td>0.005055</td>\n",
       "      <td>0.005228</td>\n",
       "      <td>0</td>\n",
       "      <td>211</td>\n",
       "      <td>0.005171</td>\n",
       "      <td>2</td>\n",
       "      <td>2</td>\n",
       "      <td>...</td>\n",
       "      <td>0</td>\n",
       "      <td>0</td>\n",
       "      <td>0</td>\n",
       "      <td>0</td>\n",
       "      <td>1</td>\n",
       "      <td>1</td>\n",
       "      <td>0</td>\n",
       "      <td>0</td>\n",
       "      <td>0.004080</td>\n",
       "      <td>0</td>\n",
       "    </tr>\n",
       "    <tr>\n",
       "      <th>36497</th>\n",
       "      <td>15</td>\n",
       "      <td>2041</td>\n",
       "      <td>3</td>\n",
       "      <td>0.005055</td>\n",
       "      <td>0.005228</td>\n",
       "      <td>0</td>\n",
       "      <td>211</td>\n",
       "      <td>0.005171</td>\n",
       "      <td>2</td>\n",
       "      <td>2</td>\n",
       "      <td>...</td>\n",
       "      <td>0</td>\n",
       "      <td>0</td>\n",
       "      <td>0</td>\n",
       "      <td>0</td>\n",
       "      <td>1</td>\n",
       "      <td>1</td>\n",
       "      <td>0</td>\n",
       "      <td>0</td>\n",
       "      <td>0.006120</td>\n",
       "      <td>0</td>\n",
       "    </tr>\n",
       "    <tr>\n",
       "      <th>36498</th>\n",
       "      <td>15</td>\n",
       "      <td>2042</td>\n",
       "      <td>7</td>\n",
       "      <td>0.004845</td>\n",
       "      <td>0.005228</td>\n",
       "      <td>1</td>\n",
       "      <td>211</td>\n",
       "      <td>0.005171</td>\n",
       "      <td>2</td>\n",
       "      <td>2</td>\n",
       "      <td>...</td>\n",
       "      <td>0</td>\n",
       "      <td>1</td>\n",
       "      <td>0</td>\n",
       "      <td>0</td>\n",
       "      <td>0</td>\n",
       "      <td>1</td>\n",
       "      <td>0</td>\n",
       "      <td>0</td>\n",
       "      <td>0.004080</td>\n",
       "      <td>0</td>\n",
       "    </tr>\n",
       "    <tr>\n",
       "      <th>36499</th>\n",
       "      <td>15</td>\n",
       "      <td>2043</td>\n",
       "      <td>7</td>\n",
       "      <td>0.005935</td>\n",
       "      <td>0.005228</td>\n",
       "      <td>1</td>\n",
       "      <td>211</td>\n",
       "      <td>0.005171</td>\n",
       "      <td>2</td>\n",
       "      <td>2</td>\n",
       "      <td>...</td>\n",
       "      <td>0</td>\n",
       "      <td>1</td>\n",
       "      <td>0</td>\n",
       "      <td>0</td>\n",
       "      <td>1</td>\n",
       "      <td>1</td>\n",
       "      <td>0</td>\n",
       "      <td>0</td>\n",
       "      <td>0.005021</td>\n",
       "      <td>1</td>\n",
       "    </tr>\n",
       "    <tr>\n",
       "      <th>36500</th>\n",
       "      <td>15</td>\n",
       "      <td>2044</td>\n",
       "      <td>7</td>\n",
       "      <td>0.004845</td>\n",
       "      <td>0.005228</td>\n",
       "      <td>1</td>\n",
       "      <td>211</td>\n",
       "      <td>0.005171</td>\n",
       "      <td>2</td>\n",
       "      <td>2</td>\n",
       "      <td>...</td>\n",
       "      <td>0</td>\n",
       "      <td>1</td>\n",
       "      <td>0</td>\n",
       "      <td>0</td>\n",
       "      <td>0</td>\n",
       "      <td>1</td>\n",
       "      <td>0</td>\n",
       "      <td>0</td>\n",
       "      <td>0.008160</td>\n",
       "      <td>0</td>\n",
       "    </tr>\n",
       "  </tbody>\n",
       "</table>\n",
       "<p>36501 rows × 120 columns</p>\n",
       "</div>"
      ],
      "text/plain": [
       "       year    id  wrkstat      hrs1      hrs2  evwork  occ  prestige  wrkslf  \\\n",
       "0         0     1        7  0.004845  0.005228       1  135  0.005641       2   \n",
       "1         0     2        1  0.005055  0.005228       0  106  0.006538       2   \n",
       "2         0     3        7  0.004845  0.005228       1   99  0.006538       2   \n",
       "3         0     4        3  0.005055  0.005228       0  142  0.004615       2   \n",
       "4         0     5        8  0.005055  0.005228       1  211  0.005171       2   \n",
       "...     ...   ...      ...       ...       ...     ...  ...       ...     ...   \n",
       "36496    15  2040        3  0.005055  0.005228       0  211  0.005171       2   \n",
       "36497    15  2041        3  0.005055  0.005228       0  211  0.005171       2   \n",
       "36498    15  2042        7  0.004845  0.005228       1  211  0.005171       2   \n",
       "36499    15  2043        7  0.005935  0.005228       1  211  0.005171       2   \n",
       "36500    15  2044        7  0.004845  0.005228       1  211  0.005171       2   \n",
       "\n",
       "       wrkgovt  ...  adults_miss  unrelat_miss  earnrs_miss  income_miss  \\\n",
       "0            2  ...            0             0            0            0   \n",
       "1            2  ...            0             1            0            0   \n",
       "2            2  ...            0             1            0            0   \n",
       "3            0  ...            0             0            0            0   \n",
       "4            1  ...            0             0            0            0   \n",
       "...        ...  ...          ...           ...          ...          ...   \n",
       "36496        2  ...            0             0            0            0   \n",
       "36497        2  ...            0             0            0            0   \n",
       "36498        2  ...            0             1            0            0   \n",
       "36499        2  ...            0             1            0            0   \n",
       "36500        2  ...            0             1            0            0   \n",
       "\n",
       "       rincome_miss  income86_miss  partyid_miss  polviews_miss  attblack  \\\n",
       "0                 0              0             0              0  0.005440   \n",
       "1                 1              0             0              0  0.004080   \n",
       "2                 0              0             0              0  0.002040   \n",
       "3                 1              0             0              0  0.004080   \n",
       "4                 0              0             0              0  0.004080   \n",
       "...             ...            ...           ...            ...       ...   \n",
       "36496             1              1             0              0  0.004080   \n",
       "36497             1              1             0              0  0.006120   \n",
       "36498             0              1             0              0  0.004080   \n",
       "36499             1              1             0              0  0.005021   \n",
       "36500             0              1             0              0  0.008160   \n",
       "\n",
       "       attblack_miss  \n",
       "0                  0  \n",
       "1                  0  \n",
       "2                  0  \n",
       "3                  0  \n",
       "4                  0  \n",
       "...              ...  \n",
       "36496              0  \n",
       "36497              0  \n",
       "36498              0  \n",
       "36499              1  \n",
       "36500              0  \n",
       "\n",
       "[36501 rows x 120 columns]"
      ]
     },
     "execution_count": 2,
     "metadata": {},
     "output_type": "execute_result"
    }
   ],
   "source": [
    "welfare = pd.read_csv(\"Data/welfare_clean.csv\", low_memory=False)\n",
    "treatments = welfare['w']\n",
    "labels = welfare['y']\n",
    "welfare.drop(columns=['w', 'y'], inplace=True)\n",
    "welfare"
   ]
  },
  {
   "cell_type": "markdown",
   "metadata": {},
   "source": [
    "## DGP, Estimation, and Evaluation functions"
   ]
  },
  {
   "cell_type": "code",
   "execution_count": 178,
   "metadata": {
    "tags": []
   },
   "outputs": [],
   "source": [
    "def dgp(welfare, effect_type=\"heterogeneous\", effect_homogeneous=10, effect_heterogeneous=2,\n",
    "        treatment_type=\"binary\", treatment_probability=0.5, heterogeneous_select=4, overlap=True,\n",
    "        overlap_percent=0.5, order=3, linearity=\"med\", N=5000, treatment_cutoff_val=0.0):    \n",
    "    \n",
    "    featureNames = list(welfare.columns)\n",
    "\n",
    "    # Define non-confounders\n",
    "    importantFeatureNames = ['wrkstat', 'race', 'year', 'hrs1', 'income', 'occ80', 'id', 'educ'] # top 8 important features based on Shapley visualization from \n",
    "    importantFeatureIndices = []\n",
    "    for name in importantFeatureNames:\n",
    "        importantFeatureIndices.append(featureNames.index(name)) \n",
    "\n",
    "    # Error terms\n",
    "    error = np.random.normal(size=(N,1))\n",
    "\n",
    "    # Data generation\n",
    "    cov = welfare.cov()\n",
    "    means = welfare.mean(axis=0)\n",
    "    X = np.random.multivariate_normal(means.values, cov, size=N, check_valid='warn', tol=1e-8)\n",
    "    \n",
    "    # Linearity specification\n",
    "    if linearity != 'full':\n",
    "        select = 0 # select n most important features for interactions and polynomials\n",
    "        poly = PolynomialFeatures(degree=order, interaction_only=False, include_bias=False)\n",
    "\n",
    "        if linearity == \"high\": \n",
    "            select = 2\n",
    "        elif linearity == \"med\": \n",
    "            select = 4\n",
    "        elif linearity == \"low\": \n",
    "            select = 8\n",
    "        else: # if some typo, assume baseline of high\n",
    "            select = 2\n",
    "\n",
    "        # Interaction term calculation for outcome Y\n",
    "        poly.fit(X[:, importantFeatureIndices[:select]])\n",
    "        fullData = poly.transform(X[:, importantFeatureIndices[:select]])\n",
    "        fullNames = poly.get_feature_names(input_features=importantFeatureNames[:select])\n",
    "        higherData = fullData[:, -(fullData.shape[1] - select):] # select only higher order\n",
    "        higherNames = fullNames[-(len(fullNames) - select):]\n",
    "\n",
    "        X = np.append(X, higherData, axis=1) \n",
    "        featureNames.extend(list(higherNames))\n",
    "\n",
    "    # Treatment selection\n",
    "    if treatment_type == \"binary\":\n",
    "        # randomly assigned treatments with propensity treatment_probability\n",
    "        treatments = np.random.choice([0, 1], size=N, p=[1 - treatment_probability, treatment_probability]).reshape((-1, 1))\n",
    "        if not overlap:\n",
    "            forced = random.sample(list(np.arange(treatments.shape[0])), int(treatments.shape[0] * overlap_percent))\n",
    "            treatments[forced] = 0\n",
    "        treated = treatments > 0\n",
    "\n",
    "        # generate counterfactual treatment indicator vector\n",
    "        c_treatments = deepcopy(treatments)\n",
    "        c_treatments[treatments == 0] = 1\n",
    "        c_treatments[treatments == 1] = 0\n",
    "    else:\n",
    "        low = 0\n",
    "        high = 1\n",
    "        treatments = np.random.uniform(low, high, size=(N, 1))\n",
    "        if not overlap:\n",
    "            forced = random.sample(list(np.arange(treatments.shape[0])), int(treatments.shape[0] * overlap_percent))\n",
    "            treatments[forced] = 0\n",
    "        \n",
    "        # set all treatment values close to 0 to 0\n",
    "        for idx, val in enumerate(treatments):\n",
    "            if math.isclose(val, 0, abs_tol=0.5):\n",
    "                treatments[idx] = 0\n",
    "\n",
    "        treated = treatments > treatment_cutoff_val\n",
    "\n",
    "        # to-do: counterfactual treatment vector\n",
    "        c_treatments = deepcopy(treatments)\n",
    "        c_treatments[treatments > treatment_cutoff_val] = 0\n",
    "        c_treatments[treatments == 0] = (low + high)/2 # treatments.mean() # set to mean treatment value\n",
    "        \n",
    "\n",
    "    # Treatment effect calculation\n",
    "    if effect_type == \"homogeneous\":\n",
    "\n",
    "        T = treatments*effect_homogeneous\n",
    "        CT = c_treatments*effect_homogeneous\n",
    "\n",
    "    else: \n",
    "        # Interaction term calculation for HTE\n",
    "        poly = PolynomialFeatures(degree=order, interaction_only=False, include_bias=False)\n",
    "        poly.fit(X[:, importantFeatureIndices[:heterogeneous_select]])\n",
    "        fullData = poly.transform(X[:, importantFeatureIndices[:heterogeneous_select]])\n",
    "        higherData = fullData[:, -(fullData.shape[1] - heterogeneous_select):] # select only higher order\n",
    "\n",
    "        # HTE = 1 + effect * (sum of first heterogeneous_select important variables + higher order interactions of heterogeneous_select important variables)\n",
    "        heterogeneousIndices = importantFeatureIndices[:heterogeneous_select]\n",
    "\n",
    "        T = 1 + (effect_heterogeneous*(X[:, heterogeneousIndices].sum(axis=1) + higherData.sum(axis=1)))*treatments.ravel()\n",
    "        T = T.reshape(-1, 1)\n",
    "        T[~treated] = np.zeros((~treated).sum())\n",
    "        \n",
    "        # counterfactual effect\n",
    "        CT = 1 + (effect_heterogeneous*(X[:, heterogeneousIndices].sum(axis=1) + higherData.sum(axis=1)))*c_treatments.ravel()\n",
    "        CT = CT.reshape(-1, 1)\n",
    "        CT[treated] = np.zeros((treated).sum()) # everyone that was treated goes to untreated in counterfactual\n",
    "\n",
    "    # Coefficients calculation\n",
    "    betas = np.random.normal(size=X.shape[1]).reshape(-1,1)\n",
    "    # draw from diff distribution for \"important\" features\n",
    "    if_coef_mean = 7 # important features mean \n",
    "    if_coef_var = 1 # ... var\n",
    "    betas[importantFeatureIndices] = np.random.normal(if_coef_mean, if_coef_var, size=len(importantFeatureIndices)).reshape(-1, 1)\n",
    "        \n",
    "    # Outcome calculation\n",
    "    y = T + X@betas + error\n",
    "    cy = CT + X@betas + error\n",
    "    \n",
    "    # ATE calculation\n",
    "    empirical_treated = y[treated] - cy[treated] # the treated (in y)\n",
    "    empirical_untreated = cy[~treated] - y[~treated] # the untreated\n",
    "    ate = (empirical_treated.mean() + empirical_untreated.mean())/2\n",
    "    \n",
    "    return y, X, betas, featureNames, treatments, cy, ate, treated\n",
    "\n",
    "def estimate_cf(y, X, treatments, treated, cy, test_size=0.2, criterion='het', cv=5, discrete_treatment=True, n_estimators=1000):\n",
    "    # split data into train and test sets \n",
    "    X_train, X_test, Y_train, Y_test, T_train, T_test, _, treated_test, _, CY_test = train_test_split(X, y, treatments, treated, cy, test_size=test_size)\n",
    "        \n",
    "    # specify hyperparams of model\n",
    "    est = CausalForestDML(criterion=criterion, \n",
    "                            n_estimators=n_estimators,       \n",
    "                            max_samples=0.5,\n",
    "                            discrete_treatment=discrete_treatment,\n",
    "                            honest=True,\n",
    "                            inference=True,\n",
    "                            cv=cv)\n",
    "    # fit model\n",
    "    est.fit(Y_train, T_train, X=X_train, W=None)\n",
    "        \n",
    "    return est, X_test, Y_test, treated_test, CY_test"
   ]
  },
  {
   "cell_type": "code",
   "execution_count": 10,
   "metadata": {},
   "outputs": [],
   "source": [
    "# compute evaluation stats over K simulations\n",
    "def evalStats(estimators, trueATES, evalSets):\n",
    "    K = len(estimators)\n",
    "\n",
    "    lbs = np.zeros(K)\n",
    "    ubs = np.zeros(K)\n",
    "    ates = np.zeros(K)\n",
    "    \n",
    "    totalBias = 0\n",
    "    totalRMSE = 0\n",
    "    totalCoverage = 0\n",
    "    totalInterval = 0\n",
    "\n",
    "    for i in range(K):\n",
    "        estimateATE = estimators[i].ate(evalSets[i])[0]\n",
    "        lb, ub = estimators[i].ate_interval(evalSets[i], alpha=0.05)\n",
    "        lbs[i] = lb\n",
    "        ubs[i] = ub\n",
    "        ates[i] = estimateATE\n",
    "        \n",
    "        bias = abs(trueATES[i] - estimateATE)\n",
    "        totalBias += bias\n",
    "        \n",
    "        rmse = bias**2\n",
    "        totalRMSE += rmse\n",
    "\n",
    "        coverage = 1 if (trueATES[i] >= lb and trueATES[i] <= ub) else 0\n",
    "  \n",
    "        totalCoverage += coverage\n",
    "\n",
    "        interval = ub - lb\n",
    "        totalInterval += interval\n",
    "    \n",
    "    return totalBias / K, (totalRMSE / K)**0.5, totalCoverage / K, totalInterval / K, lbs, ubs, ates"
   ]
  },
  {
   "cell_type": "markdown",
   "metadata": {},
   "source": [
    "## (1) Sample Size"
   ]
  },
  {
   "cell_type": "code",
   "execution_count": 179,
   "metadata": {},
   "outputs": [
    {
     "data": {
      "application/vnd.jupyter.widget-view+json": {
       "model_id": "7ebc468c4d774242b89e9c274843d62f",
       "version_major": 2,
       "version_minor": 0
      },
      "text/plain": [
       "HBox(children=(FloatProgress(value=0.0, max=1.0), HTML(value='')))"
      ]
     },
     "metadata": {},
     "output_type": "display_data"
    },
    {
     "name": "stdout",
     "output_type": "stream",
     "text": [
      "\n"
     ]
    },
    {
     "data": {
      "application/vnd.jupyter.widget-view+json": {
       "model_id": "6bb30245541d4ba2b0be3fac232a7cfc",
       "version_major": 2,
       "version_minor": 0
      },
      "text/plain": [
       "HBox(children=(FloatProgress(value=0.0, max=1.0), HTML(value='')))"
      ]
     },
     "metadata": {},
     "output_type": "display_data"
    },
    {
     "name": "stdout",
     "output_type": "stream",
     "text": [
      "\n"
     ]
    },
    {
     "data": {
      "application/vnd.jupyter.widget-view+json": {
       "model_id": "950017286d29457d993b149c472df895",
       "version_major": 2,
       "version_minor": 0
      },
      "text/plain": [
       "HBox(children=(FloatProgress(value=0.0, max=1.0), HTML(value='')))"
      ]
     },
     "metadata": {},
     "output_type": "display_data"
    },
    {
     "name": "stdout",
     "output_type": "stream",
     "text": [
      "\n"
     ]
    }
   ],
   "source": [
    "K = 1\n",
    "Ns = [1000, 5000, 10000]\n",
    "\n",
    "biasNs = np.zeros(len(Ns))\n",
    "rmseNs = np.zeros(len(Ns))\n",
    "coverageNs = np.zeros(len(Ns))\n",
    "intervalNs = np.zeros(len(Ns))\n",
    "lbsNs = np.zeros((len(Ns), K))\n",
    "ubsNs = np.zeros((len(Ns), K))\n",
    "atesNs = np.zeros((len(Ns), K))\n",
    "true_atesNs = np.zeros((len(Ns), K))\n",
    "\n",
    "for idx, N in enumerate(Ns):\n",
    "    estNs = []\n",
    "    trueATENs = []\n",
    "    evalSetNs = []\n",
    "    for i in tqdm(range(K)):\n",
    "        # Generate data\n",
    "        y, X, trueBetas, featureNames, treatments, cy, ate, treated = dgp(welfare, N=N)\n",
    "        \n",
    "        # Fit model\n",
    "        est, X_test, Y_test, treated_test, CY_test = estimate_cf(y, X, treatments, treated, cy)\n",
    "\n",
    "        # Calculate test set ATE\n",
    "        tmp = Y_test[treated_test] - CY_test[treated_test]\n",
    "        tmp1 = CY_test[~treated_test] - Y_test[~treated_test]\n",
    "        test_ate = (tmp.mean() + tmp1.mean())/2\n",
    "        ate = test_ate\n",
    "        \n",
    "        estNs.append(est)\n",
    "        trueATENs.append(ate)\n",
    "        evalSetNs.append(X_test)\n",
    "\n",
    "    bias, rmse, coverage, interval, lbs, ubs, ates = evalStats(estNs, trueATENs, evalSetNs)\n",
    "    \n",
    "    biasNs[idx] = bias\n",
    "    rmseNs[idx] = rmse\n",
    "    coverageNs[idx] = coverage\n",
    "    intervalNs[idx] = interval\n",
    "    lbsNs[idx, :] = lbs\n",
    "    ubsNs[idx, :] = ubs\n",
    "    atesNs[idx, :] = ates\n",
    "    true_atesNs[idx, :] = trueATENs"
   ]
  },
  {
   "cell_type": "code",
   "execution_count": 64,
   "metadata": {},
   "outputs": [
    {
     "data": {
      "application/vnd.jupyter.widget-view+json": {
       "model_id": "be84e7e90bc74601b9653f8c4c7f4749",
       "version_major": 2,
       "version_minor": 0
      },
      "text/plain": [
       "HBox(children=(FloatProgress(value=0.0, max=50.0), HTML(value='')))"
      ]
     },
     "metadata": {},
     "output_type": "display_data"
    },
    {
     "name": "stdout",
     "output_type": "stream",
     "text": [
      "\n"
     ]
    },
    {
     "data": {
      "application/vnd.jupyter.widget-view+json": {
       "model_id": "7bf43088378a425ca62f2f31896f0fdd",
       "version_major": 2,
       "version_minor": 0
      },
      "text/plain": [
       "HBox(children=(FloatProgress(value=0.0, max=50.0), HTML(value='')))"
      ]
     },
     "metadata": {},
     "output_type": "display_data"
    },
    {
     "name": "stdout",
     "output_type": "stream",
     "text": [
      "\n"
     ]
    },
    {
     "data": {
      "application/vnd.jupyter.widget-view+json": {
       "model_id": "6f9bc9b05e1e4c48bd30d021ddb1c463",
       "version_major": 2,
       "version_minor": 0
      },
      "text/plain": [
       "HBox(children=(FloatProgress(value=0.0, max=50.0), HTML(value='')))"
      ]
     },
     "metadata": {},
     "output_type": "display_data"
    },
    {
     "name": "stdout",
     "output_type": "stream",
     "text": [
      "\n"
     ]
    }
   ],
   "source": [
    "K = 50\n",
    "Ns = [1000, 5000, 10000]\n",
    "\n",
    "biasNs = np.zeros(len(Ns))\n",
    "rmseNs = np.zeros(len(Ns))\n",
    "coverageNs = np.zeros(len(Ns))\n",
    "intervalNs = np.zeros(len(Ns))\n",
    "lbsNs = np.zeros((len(Ns), K))\n",
    "ubsNs = np.zeros((len(Ns), K))\n",
    "atesNs = np.zeros((len(Ns), K))\n",
    "true_atesNs = np.zeros((len(Ns), K))\n",
    "\n",
    "for idx, N in enumerate(Ns):\n",
    "    estNs = []\n",
    "    trueATENs = []\n",
    "    evalSetNs = []\n",
    "    for i in tqdm(range(K)):\n",
    "        y, X, trueBetas, featureNames, treatments, cy, ate, treated = dgp(welfare, N=N)\n",
    "        \n",
    "        est, X_test, Y_test, treated_test, CY_test = estimate_cf(y, X, treatments, treated, cy)\n",
    "\n",
    "        # Calculate test set ATE\n",
    "        tmp = Y_test[treated_test] - CY_test[treated_test]\n",
    "        tmp1 = CY_test[~treated_test] - Y_test[~treated_test]\n",
    "        test_ate = (tmp.mean() + tmp1.mean())/2\n",
    "        ate = test_ate\n",
    "        \n",
    "        estNs.append(est)\n",
    "        trueATENs.append(ate)\n",
    "        evalSetNs.append(X_test)\n",
    "\n",
    "    bias, rmse, coverage, interval, lbs, ubs, ates = evalStats(estNs, trueATENs, evalSetNs)\n",
    "    \n",
    "    biasNs[idx] = bias\n",
    "    rmseNs[idx] = rmse\n",
    "    coverageNs[idx] = coverage\n",
    "    intervalNs[idx] = interval\n",
    "    lbsNs[idx, :] = lbs\n",
    "    ubsNs[idx, :] = ubs\n",
    "    atesNs[idx, :] = ates\n",
    "    true_atesNs[idx, :] = trueATENs"
   ]
  },
  {
   "cell_type": "code",
   "execution_count": 65,
   "metadata": {},
   "outputs": [
    {
     "data": {
      "text/plain": [
       "['Results/atesNs_50.pkl']"
      ]
     },
     "execution_count": 65,
     "metadata": {},
     "output_type": "execute_result"
    }
   ],
   "source": [
    "joblib.dump(biasNs, 'Results/biasNs_{}.pkl'.format(K))\n",
    "joblib.dump(rmseNs, 'Results/rmseNs_{}.pkl'.format(K))\n",
    "joblib.dump(coverageNs, 'Results/coverageNs_{}.pkl'.format(K))\n",
    "joblib.dump(intervalNs, 'Results/intervalNs_{}.pkl'.format(K))\n",
    "joblib.dump(lbsNs, 'Results/lbsNs_{}.pkl'.format(K))\n",
    "joblib.dump(ubsNs, 'Results/ubsNs_{}.pkl'.format(K))\n",
    "joblib.dump(atesNs, 'Results/atesNs_{}.pkl'.format(K))\n",
    "joblib.dump(true_atesNs, 'Results/true_atesNs_{}.pkl'.format(K))"
   ]
  },
  {
   "cell_type": "code",
   "execution_count": 141,
   "metadata": {},
   "outputs": [],
   "source": [
    "K = 50\n",
    "biasNs = joblib.load('Results/biasNs_{}.pkl'.format(K))\n",
    "rmseNs = joblib.load('Results/rmseNs_{}.pkl'.format(K))\n",
    "coverageNs = joblib.load('Results/coverageNs_{}.pkl'.format(K))\n",
    "intervalNs = joblib.load('Results/intervalNs_{}.pkl'.format(K))\n",
    "lbsNs = joblib.load('Results/lbsNs_{}.pkl'.format(K))\n",
    "ubsNs = joblib.load('Results/ubsNs_{}.pkl'.format(K))\n",
    "atesNs = joblib.load('Results/atesNs_{}.pkl'.format(K))\n",
    "true_atesNs = joblib.load('Results/true_atesNs_{}'.format(K))"
   ]
  },
  {
   "cell_type": "code",
   "execution_count": 90,
   "metadata": {},
   "outputs": [
    {
     "data": {
      "image/png": "[encoded data removed]",
      "text/plain": [
       "<Figure size 1152x288 with 4 Axes>"
      ]
     },
     "metadata": {
      "needs_background": "light"
     },
     "output_type": "display_data"
    }
   ],
   "source": [
    "xNs = list(map(str, Ns))\n",
    "cNs = np.array([[255, 0, 0], [0, 255, 0], [0, 0, 255]])\n",
    "fig, axs = plt.subplots(1, 4, figsize=(16, 4), sharey=False)\n",
    "\n",
    "axs[0].scatter(xNs, biasNs, c=cNs/255)\n",
    "axs[0].set(xlabel='N', ylabel='Bias')\n",
    "axs[0].grid()\n",
    "axs[1].scatter(xNs, rmseNs, c=cNs/255)\n",
    "axs[1].set(xlabel='N', ylabel='RMSE')\n",
    "axs[1].grid()\n",
    "axs[2].scatter(xNs, coverageNs, c=cNs/255)\n",
    "axs[2].set(xlabel='N', ylabel='Coverage')\n",
    "axs[2].grid()\n",
    "axs[3].scatter(xNs, intervalNs, c=cNs/255)\n",
    "axs[3].set(xlabel='N', ylabel='Interval Length')\n",
    "axs[3].grid()\n",
    "\n",
    "fig.suptitle('Evaluation Metrics when Changing Sample Size (Average over ' + str(K) + ' simulations per parameter setting)')\n",
    "fig.tight_layout(pad=3.0)\n",
    "plt.show()"
   ]
  },
  {
   "cell_type": "code",
   "execution_count": 91,
   "metadata": {},
   "outputs": [
    {
     "data": {
      "text/html": [
       "<div>\n",
       "<style scoped>\n",
       "    .dataframe tbody tr th:only-of-type {\n",
       "        vertical-align: middle;\n",
       "    }\n",
       "\n",
       "    .dataframe tbody tr th {\n",
       "        vertical-align: top;\n",
       "    }\n",
       "\n",
       "    .dataframe thead th {\n",
       "        text-align: right;\n",
       "    }\n",
       "</style>\n",
       "<table border=\"1\" class=\"dataframe\">\n",
       "  <thead>\n",
       "    <tr style=\"text-align: right;\">\n",
       "      <th></th>\n",
       "      <th>Bias</th>\n",
       "      <th>RMSE</th>\n",
       "      <th>Coverage</th>\n",
       "      <th>Interval Length</th>\n",
       "    </tr>\n",
       "  </thead>\n",
       "  <tbody>\n",
       "    <tr>\n",
       "      <th>1000</th>\n",
       "      <td>243.200365</td>\n",
       "      <td>287.111144</td>\n",
       "      <td>1.0</td>\n",
       "      <td>1528.245527</td>\n",
       "    </tr>\n",
       "    <tr>\n",
       "      <th>5000</th>\n",
       "      <td>101.209568</td>\n",
       "      <td>126.198823</td>\n",
       "      <td>1.0</td>\n",
       "      <td>881.802429</td>\n",
       "    </tr>\n",
       "    <tr>\n",
       "      <th>10000</th>\n",
       "      <td>73.118255</td>\n",
       "      <td>95.111992</td>\n",
       "      <td>1.0</td>\n",
       "      <td>698.625561</td>\n",
       "    </tr>\n",
       "  </tbody>\n",
       "</table>\n",
       "</div>"
      ],
      "text/plain": [
       "             Bias        RMSE  Coverage  Interval Length\n",
       "1000   243.200365  287.111144       1.0      1528.245527\n",
       "5000   101.209568  126.198823       1.0       881.802429\n",
       "10000   73.118255   95.111992       1.0       698.625561"
      ]
     },
     "execution_count": 91,
     "metadata": {},
     "output_type": "execute_result"
    }
   ],
   "source": [
    "data = {'Bias':biasNs, 'RMSE':rmseNs, 'Coverage':coverageNs, 'Interval Length':intervalNs}\n",
    "tableNs = pd.DataFrame(data=data, index=xNs)\n",
    "tableNs"
   ]
  },
  {
   "cell_type": "markdown",
   "metadata": {},
   "source": [
    "## (2) Degree of Non-linearity in X"
   ]
  },
  {
   "cell_type": "code",
   "execution_count": 66,
   "metadata": {},
   "outputs": [
    {
     "data": {
      "application/vnd.jupyter.widget-view+json": {
       "model_id": "5a72f6e67c144621a90cbaecbda90999",
       "version_major": 2,
       "version_minor": 0
      },
      "text/plain": [
       "HBox(children=(FloatProgress(value=0.0, max=50.0), HTML(value='')))"
      ]
     },
     "metadata": {},
     "output_type": "display_data"
    },
    {
     "name": "stdout",
     "output_type": "stream",
     "text": [
      "\n"
     ]
    },
    {
     "data": {
      "application/vnd.jupyter.widget-view+json": {
       "model_id": "cf54a0201c1445c59aed79005e3c0955",
       "version_major": 2,
       "version_minor": 0
      },
      "text/plain": [
       "HBox(children=(FloatProgress(value=0.0, max=50.0), HTML(value='')))"
      ]
     },
     "metadata": {},
     "output_type": "display_data"
    },
    {
     "name": "stdout",
     "output_type": "stream",
     "text": [
      "\n"
     ]
    },
    {
     "data": {
      "application/vnd.jupyter.widget-view+json": {
       "model_id": "d1bb77df445245aa9b5c5650a49d141d",
       "version_major": 2,
       "version_minor": 0
      },
      "text/plain": [
       "HBox(children=(FloatProgress(value=0.0, max=50.0), HTML(value='')))"
      ]
     },
     "metadata": {},
     "output_type": "display_data"
    },
    {
     "name": "stdout",
     "output_type": "stream",
     "text": [
      "\n"
     ]
    },
    {
     "data": {
      "application/vnd.jupyter.widget-view+json": {
       "model_id": "7f2ebc6fb1ee491989b38b841cdffa1e",
       "version_major": 2,
       "version_minor": 0
      },
      "text/plain": [
       "HBox(children=(FloatProgress(value=0.0, max=50.0), HTML(value='')))"
      ]
     },
     "metadata": {},
     "output_type": "display_data"
    },
    {
     "name": "stdout",
     "output_type": "stream",
     "text": [
      "\n"
     ]
    }
   ],
   "source": [
    "K = 50\n",
    "linearityLevels = ['full', 'high', 'med', 'low']\n",
    "\n",
    "biasLLs = np.zeros(len(linearityLevels))\n",
    "rmseLLs = np.zeros(len(linearityLevels))\n",
    "coverageLLs = np.zeros(len(linearityLevels))\n",
    "intervalLLs = np.zeros(len(linearityLevels))\n",
    "lbsLLs = np.zeros((len(linearityLevels), K))\n",
    "ubsLLs = np.zeros((len(linearityLevels), K))\n",
    "atesLLs = np.zeros((len(linearityLevels), K))\n",
    "true_atesLLs = np.zeros((len(linearityLevels), K))\n",
    "\n",
    "\n",
    "for idx, level in enumerate(linearityLevels):\n",
    "    estLLs = []\n",
    "    trueATELLs = []\n",
    "    evalSetLLs = []\n",
    "    for i in tqdm(range(K)):\n",
    "        y, X, trueBetas, featureNames, treatments, cy, ate, treated = dgp(welfare, linearity=level)\n",
    "        est, X_test, Y_test, treated_test, CY_test = estimate_cf(y, X, treatments, treated, cy)\n",
    "\n",
    "        # Calculate test set ATE\n",
    "        tmp = Y_test[treated_test] - CY_test[treated_test]\n",
    "        tmp1 = CY_test[~treated_test] - Y_test[~treated_test]\n",
    "        test_ate = (tmp.mean() + tmp1.mean())/2\n",
    "        ate = test_ate\n",
    "        \n",
    "        estLLs.append(est)\n",
    "        trueATELLs.append(ate)\n",
    "        evalSetLLs.append(X_test)\n",
    "\n",
    "    bias, rmse, coverage, interval, lbs, ubs, ates = evalStats(estLLs, trueATELLs, evalSetLLs)\n",
    "    \n",
    "    biasLLs[idx] = bias\n",
    "    rmseLLs[idx] = rmse\n",
    "    coverageLLs[idx] = coverage\n",
    "    intervalLLs[idx] = interval\n",
    "    lbsLLs[idx, :] = lbs\n",
    "    ubsLLs[idx, :] = ubs\n",
    "    atesLLs[idx, :] = ates\n",
    "    true_atesLLs[idx, :] = trueATELLs"
   ]
  },
  {
   "cell_type": "code",
   "execution_count": 67,
   "metadata": {},
   "outputs": [
    {
     "data": {
      "text/plain": [
       "['Results/intervalLLs_50.pkl']"
      ]
     },
     "execution_count": 67,
     "metadata": {},
     "output_type": "execute_result"
    }
   ],
   "source": [
    "# dump data\n",
    "joblib.dump(biasLLs, 'Results/biasLLs_{}.pkl'.format(K))\n",
    "joblib.dump(rmseLLs, 'Results/rmseLLs_{}.pkl'.format(K))\n",
    "joblib.dump(coverageLLs, 'Results/coverageLLs_{}.pkl'.format(K))\n",
    "joblib.dump(intervalLLs, 'Results/intervalLLs_{}.pkl'.format(K))\n",
    "joblib.dump(lbsLLs, 'Results/lbsLLs_{}.pkl'.format(K))\n",
    "joblib.dump(ubsLLs, 'Results/ubsLLs_{}.pkl'.format(K))\n",
    "joblib.dump(atesLLs, 'Results/atesLLs_{}.pkl'.format(K))\n",
    "joblib.dump(true_atesLLs, 'Results/true_atesLLs_{}.pkl'.format(K))"
   ]
  },
  {
   "cell_type": "code",
   "execution_count": 20,
   "metadata": {},
   "outputs": [],
   "source": [
    "# load data\n",
    "biasLLs = joblib.load('Results/biasLLs_{}.pkl'.format(K))\n",
    "rmseLLs = joblib.load('Results/rmseLLs_{}.pkl'.format(K))\n",
    "coverageLLs = joblib.load('Results/coverageLLs_{}.pkl'.format(K))\n",
    "intervalLLs = joblib.load('Results/intervalLLs_{}.pkl'.format(K))\n",
    "lbsLLs = joblib.load('Results/lbsLLs_{}.pkl'.format(K))\n",
    "ubsLLs = joblib.load('Results/ubsLLs_{}.pkl'.format(K))\n",
    "atesLLs = joblib.load('Results/atesLLs_{}.pkl'.format(K))\n",
    "true_atesLLs = joblib.load('Results/true_atesLLs_{}'.format(K))"
   ]
  },
  {
   "cell_type": "code",
   "execution_count": 88,
   "metadata": {},
   "outputs": [
    {
     "data": {
      "image/png": "[encoded data removed]",
      "text/plain": [
       "<Figure size 1152x288 with 4 Axes>"
      ]
     },
     "metadata": {
      "needs_background": "light"
     },
     "output_type": "display_data"
    }
   ],
   "source": [
    "xLLs = linearityLevels\n",
    "cLLs = np.array([[255, 0, 0], [0, 255, 0], [0, 0, 255], [255, 165, 0]])\n",
    "fig, axs = plt.subplots(1, 4, figsize=(16, 4), sharey=False)\n",
    "\n",
    "axs[0].scatter(xLLs, biasLLs, c=cLLs/255)\n",
    "axs[0].set(xlabel='Amount of Linearity', ylabel='Bias')\n",
    "axs[0].grid()\n",
    "axs[1].scatter(xLLs, rmseLLs, c=cLLs/255)\n",
    "axs[1].set(xlabel='Amount of Linearity', ylabel='RMSE')\n",
    "axs[1].grid()\n",
    "axs[2].scatter(xLLs, coverageLLs, c=cLLs/255)\n",
    "axs[2].set(xlabel='Amount of Linearity', ylabel='Coverage')\n",
    "axs[2].grid()\n",
    "axs[3].scatter(xLLs, intervalLLs, c=cLLs/255)\n",
    "axs[3].set(xlabel='Amount of Linearity', ylabel='Interval Length')\n",
    "axs[3].grid()\n",
    "\n",
    "fig.suptitle('Evaluation Metrics when Changing Amount of Linearity (Average over ' + str(K) + ' simulations per parameter setting)')\n",
    "fig.tight_layout(pad=3.0)\n",
    "plt.show()"
   ]
  },
  {
   "cell_type": "code",
   "execution_count": 89,
   "metadata": {},
   "outputs": [
    {
     "data": {
      "text/html": [
       "<div>\n",
       "<style scoped>\n",
       "    .dataframe tbody tr th:only-of-type {\n",
       "        vertical-align: middle;\n",
       "    }\n",
       "\n",
       "    .dataframe tbody tr th {\n",
       "        vertical-align: top;\n",
       "    }\n",
       "\n",
       "    .dataframe thead th {\n",
       "        text-align: right;\n",
       "    }\n",
       "</style>\n",
       "<table border=\"1\" class=\"dataframe\">\n",
       "  <thead>\n",
       "    <tr style=\"text-align: right;\">\n",
       "      <th></th>\n",
       "      <th>Bias</th>\n",
       "      <th>RMSE</th>\n",
       "      <th>Coverage</th>\n",
       "      <th>Interval Length</th>\n",
       "    </tr>\n",
       "  </thead>\n",
       "  <tbody>\n",
       "    <tr>\n",
       "      <th>full</th>\n",
       "      <td>98.856343</td>\n",
       "      <td>124.835216</td>\n",
       "      <td>1.0</td>\n",
       "      <td>1.364208e+03</td>\n",
       "    </tr>\n",
       "    <tr>\n",
       "      <th>high</th>\n",
       "      <td>104.644939</td>\n",
       "      <td>127.475893</td>\n",
       "      <td>1.0</td>\n",
       "      <td>1.267094e+03</td>\n",
       "    </tr>\n",
       "    <tr>\n",
       "      <th>med</th>\n",
       "      <td>100.163307</td>\n",
       "      <td>130.322956</td>\n",
       "      <td>1.0</td>\n",
       "      <td>8.824807e+02</td>\n",
       "    </tr>\n",
       "    <tr>\n",
       "      <th>low</th>\n",
       "      <td>693302.534341</td>\n",
       "      <td>959892.574391</td>\n",
       "      <td>1.0</td>\n",
       "      <td>4.608999e+07</td>\n",
       "    </tr>\n",
       "  </tbody>\n",
       "</table>\n",
       "</div>"
      ],
      "text/plain": [
       "               Bias           RMSE  Coverage  Interval Length\n",
       "full      98.856343     124.835216       1.0     1.364208e+03\n",
       "high     104.644939     127.475893       1.0     1.267094e+03\n",
       "med      100.163307     130.322956       1.0     8.824807e+02\n",
       "low   693302.534341  959892.574391       1.0     4.608999e+07"
      ]
     },
     "execution_count": 89,
     "metadata": {},
     "output_type": "execute_result"
    }
   ],
   "source": [
    "data = {'Bias':biasLLs, 'RMSE':rmseLLs, 'Coverage':coverageLLs, 'Interval Length':intervalLLs}\n",
    "tableLLs = pd.DataFrame(data=data, index=xLLs)\n",
    "tableLLs"
   ]
  },
  {
   "cell_type": "markdown",
   "metadata": {},
   "source": [
    "## (3) Percentage Treated"
   ]
  },
  {
   "cell_type": "code",
   "execution_count": 68,
   "metadata": {},
   "outputs": [
    {
     "data": {
      "application/vnd.jupyter.widget-view+json": {
       "model_id": "e7e3b6a878cf4177b276b86ff7655297",
       "version_major": 2,
       "version_minor": 0
      },
      "text/plain": [
       "HBox(children=(FloatProgress(value=0.0, max=50.0), HTML(value='')))"
      ]
     },
     "metadata": {},
     "output_type": "display_data"
    },
    {
     "name": "stdout",
     "output_type": "stream",
     "text": [
      "\n"
     ]
    },
    {
     "data": {
      "application/vnd.jupyter.widget-view+json": {
       "model_id": "6070f71195354c078c6ca9a29af10b13",
       "version_major": 2,
       "version_minor": 0
      },
      "text/plain": [
       "HBox(children=(FloatProgress(value=0.0, max=50.0), HTML(value='')))"
      ]
     },
     "metadata": {},
     "output_type": "display_data"
    },
    {
     "name": "stdout",
     "output_type": "stream",
     "text": [
      "\n"
     ]
    },
    {
     "data": {
      "application/vnd.jupyter.widget-view+json": {
       "model_id": "36ea7d81515142de959e914b2a0cf313",
       "version_major": 2,
       "version_minor": 0
      },
      "text/plain": [
       "HBox(children=(FloatProgress(value=0.0, max=50.0), HTML(value='')))"
      ]
     },
     "metadata": {},
     "output_type": "display_data"
    },
    {
     "name": "stdout",
     "output_type": "stream",
     "text": [
      "\n"
     ]
    }
   ],
   "source": [
    "K = 50\n",
    "percentTreats = [0.1, 0.5, 0.9]\n",
    "\n",
    "biasPTs = np.zeros(len(percentTreats))\n",
    "rmsePTs = np.zeros(len(percentTreats))\n",
    "coveragePTs = np.zeros(len(percentTreats))\n",
    "intervalPTs = np.zeros(len(percentTreats))\n",
    "lbsPTs = np.zeros((len(percentTreats), K))\n",
    "ubsPTs = np.zeros((len(percentTreats), K))\n",
    "atesPTs = np.zeros((len(percentTreats), K))\n",
    "true_atesPTs = np.zeros((len(percentTreats), K))\n",
    "\n",
    "for idx, percent in enumerate(percentTreats):\n",
    "    estPTs = []\n",
    "    trueATEPTs = []\n",
    "    evalSetPTs = []\n",
    "    for i in tqdm(range(K)):\n",
    "        y, X, trueBetas, featureNames, treatments, cy, ate, treated = dgp(welfare, treatment_probability=percent)\n",
    "        est, X_test, Y_test, treated_test, CY_test = estimate_cf(y, X, treatments, treated, cy)\n",
    "\n",
    "        # Calculate test set ATE\n",
    "        tmp = Y_test[treated_test] - CY_test[treated_test]\n",
    "        tmp1 = CY_test[~treated_test] - Y_test[~treated_test]\n",
    "        test_ate = (tmp.mean() + tmp1.mean())/2\n",
    "        ate = test_ate\n",
    "\n",
    "        estPTs.append(est)\n",
    "        trueATEPTs.append(ate)\n",
    "        evalSetPTs.append(X_test)\n",
    "\n",
    "    bias, rmse, coverage, interval, lbs, ubs, ates = evalStats(estPTs, trueATEPTs, evalSetPTs)\n",
    "    \n",
    "    biasPTs[idx] = bias\n",
    "    rmsePTs[idx] = rmse\n",
    "    coveragePTs[idx] = coverage\n",
    "    intervalPTs[idx] = interval\n",
    "    lbsPTs[idx, :] = lbs\n",
    "    ubsPTs[idx, :] = ubs\n",
    "    atesPTs[idx, :] = ates\n",
    "    true_atesPTs[idx, :] = trueATEPTs"
   ]
  },
  {
   "cell_type": "code",
   "execution_count": 69,
   "metadata": {},
   "outputs": [
    {
     "data": {
      "text/plain": [
       "['Results/intervalPTs_50.pkl']"
      ]
     },
     "execution_count": 69,
     "metadata": {},
     "output_type": "execute_result"
    }
   ],
   "source": [
    "joblib.dump(biasPTs, 'Results/biasPTs_{}.pkl'.format(K))\n",
    "joblib.dump(rmsePTs, 'Results/rmsePTs_{}.pkl'.format(K))\n",
    "joblib.dump(coveragePTs, 'Results/coveragePTs_{}.pkl'.format(K))\n",
    "joblib.dump(intervalPTs, 'Results/intervalPTs_{}.pkl'.format(K))\n",
    "joblib.dump(lbsPTs, 'Results/lbsPTs_{}.pkl'.format(K))\n",
    "joblib.dump(ubsPTs, 'Results/ubsPTs_{}.pkl'.format(K))\n",
    "joblib.dump(atesPTs, 'Results/atesPTs_{}.pkl'.format(K))\n",
    "joblib.dump(true_atesPTs, 'Results/true_atesPTs_{}.pkl'.format(K))"
   ]
  },
  {
   "cell_type": "code",
   "execution_count": 25,
   "metadata": {},
   "outputs": [],
   "source": [
    "K = 50\n",
    "biasPTs = joblib.load('Results/biasPTs_{}.pkl'.format(K))\n",
    "rmsePTs = joblib.load('Results/rmsePTs_{}.pkl'.format(K))\n",
    "coveragePTs = joblib.load('Results/coveragePTs_{}.pkl'.format(K))\n",
    "intervalPTs = joblib.load('Results/intervalPTs_{}.pkl'.format(K))\n",
    "lbsPTs = joblib.load('Results/lbsPTs_{}.pkl'.format(K))\n",
    "ubsPTs = joblib.load('Results/ubsPTs_{}.pkl'.format(K))\n",
    "atesPTs = joblib.load('Results/atesPTs_{}.pkl'.format(K))\n",
    "true_atesPTs = joblib.load('Results/true_atesPTs_{}'.format(K))"
   ]
  },
  {
   "cell_type": "code",
   "execution_count": 86,
   "metadata": {},
   "outputs": [
    {
     "data": {
      "image/png": "[encoded data removed]",
      "text/plain": [
       "<Figure size 1152x288 with 4 Axes>"
      ]
     },
     "metadata": {
      "needs_background": "light"
     },
     "output_type": "display_data"
    }
   ],
   "source": [
    "xPTs = list(map(str, percentTreats))\n",
    "cPTs = np.array([[255, 0, 0], [0, 255, 0], [0, 0, 255]])\n",
    "fig, axs = plt.subplots(1, 4, figsize=(16, 4), sharey=False)\n",
    "\n",
    "axs[0].scatter(xPTs, biasPTs, c=cPTs/255)\n",
    "axs[0].set(xlabel='Percentage Treated', ylabel='Bias')\n",
    "axs[0].grid()\n",
    "axs[1].scatter(xPTs, rmsePTs, c=cPTs/255)\n",
    "axs[1].set(xlabel='Percentage Treated', ylabel='RMSE')\n",
    "axs[1].grid()\n",
    "axs[2].scatter(xPTs, coveragePTs, c=cPTs/255)\n",
    "axs[2].set(xlabel='Percentage Treated', ylabel='Coverage')\n",
    "axs[2].grid()\n",
    "axs[3].scatter(xPTs, intervalPTs, c=cPTs/255)\n",
    "axs[3].set(xlabel='Percentage Treated', ylabel='Interval Length')\n",
    "axs[3].grid()\n",
    "\n",
    "fig.suptitle('Evaluation Metrics when Changing Percentage Treated (Average over ' + str(K) + ' simulations per parameter setting)')\n",
    "fig.tight_layout(pad=3.0)\n",
    "plt.show()"
   ]
  },
  {
   "cell_type": "code",
   "execution_count": 87,
   "metadata": {},
   "outputs": [
    {
     "data": {
      "text/html": [
       "<div>\n",
       "<style scoped>\n",
       "    .dataframe tbody tr th:only-of-type {\n",
       "        vertical-align: middle;\n",
       "    }\n",
       "\n",
       "    .dataframe tbody tr th {\n",
       "        vertical-align: top;\n",
       "    }\n",
       "\n",
       "    .dataframe thead th {\n",
       "        text-align: right;\n",
       "    }\n",
       "</style>\n",
       "<table border=\"1\" class=\"dataframe\">\n",
       "  <thead>\n",
       "    <tr style=\"text-align: right;\">\n",
       "      <th></th>\n",
       "      <th>Bias</th>\n",
       "      <th>RMSE</th>\n",
       "      <th>Coverage</th>\n",
       "      <th>Interval Length</th>\n",
       "    </tr>\n",
       "  </thead>\n",
       "  <tbody>\n",
       "    <tr>\n",
       "      <th>0.1</th>\n",
       "      <td>125.182355</td>\n",
       "      <td>164.349734</td>\n",
       "      <td>1.0</td>\n",
       "      <td>1767.136026</td>\n",
       "    </tr>\n",
       "    <tr>\n",
       "      <th>0.5</th>\n",
       "      <td>104.172549</td>\n",
       "      <td>132.986977</td>\n",
       "      <td>1.0</td>\n",
       "      <td>887.183905</td>\n",
       "    </tr>\n",
       "    <tr>\n",
       "      <th>0.9</th>\n",
       "      <td>169.069514</td>\n",
       "      <td>195.734223</td>\n",
       "      <td>1.0</td>\n",
       "      <td>1789.989696</td>\n",
       "    </tr>\n",
       "  </tbody>\n",
       "</table>\n",
       "</div>"
      ],
      "text/plain": [
       "           Bias        RMSE  Coverage  Interval Length\n",
       "0.1  125.182355  164.349734       1.0      1767.136026\n",
       "0.5  104.172549  132.986977       1.0       887.183905\n",
       "0.9  169.069514  195.734223       1.0      1789.989696"
      ]
     },
     "execution_count": 87,
     "metadata": {},
     "output_type": "execute_result"
    }
   ],
   "source": [
    "data = {'Bias':biasPTs, 'RMSE':rmsePTs, 'Coverage':coveragePTs, 'Interval Length':intervalPTs}\n",
    "tablePTs = pd.DataFrame(data=data, index=xPTs)\n",
    "tablePTs"
   ]
  },
  {
   "cell_type": "markdown",
   "metadata": {},
   "source": [
    "## (4) Overlap"
   ]
  },
  {
   "cell_type": "code",
   "execution_count": 70,
   "metadata": {},
   "outputs": [
    {
     "data": {
      "application/vnd.jupyter.widget-view+json": {
       "model_id": "1716cd94b88a41a0a65d027f5180a4e3",
       "version_major": 2,
       "version_minor": 0
      },
      "text/plain": [
       "HBox(children=(FloatProgress(value=0.0, max=50.0), HTML(value='')))"
      ]
     },
     "metadata": {},
     "output_type": "display_data"
    },
    {
     "name": "stdout",
     "output_type": "stream",
     "text": [
      "\n"
     ]
    },
    {
     "data": {
      "application/vnd.jupyter.widget-view+json": {
       "model_id": "0000d2748afe426587e77029c74f78a5",
       "version_major": 2,
       "version_minor": 0
      },
      "text/plain": [
       "HBox(children=(FloatProgress(value=0.0, max=50.0), HTML(value='')))"
      ]
     },
     "metadata": {},
     "output_type": "display_data"
    },
    {
     "name": "stdout",
     "output_type": "stream",
     "text": [
      "\n"
     ]
    }
   ],
   "source": [
    "K = 50\n",
    "overlapTypes = [True, False]\n",
    "\n",
    "biasOTs = np.zeros(len(overlapTypes))\n",
    "rmseOTs = np.zeros(len(overlapTypes))\n",
    "coverageOTs = np.zeros(len(overlapTypes))\n",
    "intervalOTs = np.zeros(len(overlapTypes))\n",
    "lbsOTs = np.zeros((len(overlapTypes), K))\n",
    "ubsOTs = np.zeros((len(overlapTypes), K))\n",
    "atesOTs = np.zeros((len(overlapTypes), K))\n",
    "true_atesOTs = np.zeros((len(overlapTypes), K))\n",
    "\n",
    "for idx, overlap in enumerate(overlapTypes):\n",
    "    estOTs = []\n",
    "    trueATEOTs = []\n",
    "    evalSetOTs = []\n",
    "    for i in tqdm(range(K)):\n",
    "        y, X, trueBetas, featureNames, treatments, cy, ate, treated = dgp(welfare, overlap=overlap)\n",
    "        est, X_test, Y_test, treated_test, CY_test = estimate_cf(y, X, treatments, treated, cy)\n",
    "\n",
    "        # Calculate test set ATE\n",
    "        tmp = Y_test[treated_test] - CY_test[treated_test]\n",
    "        tmp1 = CY_test[~treated_test] - Y_test[~treated_test]\n",
    "        test_ate = (tmp.mean() + tmp1.mean())/2\n",
    "        ate = test_ate\n",
    "\n",
    "        estOTs.append(est)\n",
    "        trueATEOTs.append(ate)\n",
    "        evalSetOTs.append(X_test)\n",
    "\n",
    "    bias, rmse, coverage, interval, lbs, ubs, ates = evalStats(estOTs, trueATEOTs, evalSetOTs)\n",
    "    \n",
    "    biasOTs[idx] = bias\n",
    "    rmseOTs[idx] = rmse\n",
    "    coverageOTs[idx] = coverage\n",
    "    intervalOTs[idx] = interval\n",
    "    lbsOTs[idx, :] = lbs\n",
    "    ubsOTs[idx, :] = ubs\n",
    "    atesOTs[idx, :] = ates\n",
    "    true_atesOTs[idx, :] = trueATEOTs"
   ]
  },
  {
   "cell_type": "code",
   "execution_count": 71,
   "metadata": {},
   "outputs": [
    {
     "data": {
      "text/plain": [
       "['Results/intervalOTs_50.pkl']"
      ]
     },
     "execution_count": 71,
     "metadata": {},
     "output_type": "execute_result"
    }
   ],
   "source": [
    "joblib.dump(biasOTs, 'Results/biasOTs_{}.pkl'.format(K))\n",
    "joblib.dump(rmseOTs, 'Results/rmseOTs_{}.pkl'.format(K))\n",
    "joblib.dump(coverageOTs, 'Results/coverageOTs_{}.pkl'.format(K))\n",
    "joblib.dump(intervalOTs, 'Results/intervalOTs_{}.pkl'.format(K))\n",
    "joblib.dump(lbsOTs, 'Results/lbsOTs_{}.pkl'.format(K))\n",
    "joblib.dump(ubsOTs, 'Results/ubsOTs_{}.pkl'.format(K))\n",
    "joblib.dump(atesOTs, 'Results/atesOTs_{}.pkl'.format(K))\n",
    "joblib.dump(true_atesOTs, 'Results/true_atesOTs_{}.pkl'.format(K))"
   ]
  },
  {
   "cell_type": "code",
   "execution_count": 30,
   "metadata": {},
   "outputs": [],
   "source": [
    "biasOTs = joblib.load('Results/biasOTs_{}.pkl'.format(K))\n",
    "rmseOTs = joblib.load('Results/rmseOTs_{}.pkl'.format(K))\n",
    "coverageOTs = joblib.load('Results/coverageOTs_{}.pkl'.format(K))\n",
    "intervalOTs = joblib.load('Results/intervalOTs_{}.pkl'.format(K))\n",
    "lbsOTs = joblib.load('Results/lbsOTs_{}.pkl'.format(K))\n",
    "ubsOTs = joblib.load('Results/ubsOTs_{}.pkl'.format(K))\n",
    "atesOTs = joblib.load('Results/atesOTs_{}.pkl'.format(K))\n",
    "true_atesOTs = joblib.load('Results/true_atesOTs_{}'.format(K))"
   ]
  },
  {
   "cell_type": "code",
   "execution_count": 84,
   "metadata": {},
   "outputs": [
    {
     "data": {
      "image/png": "[encoded data removed]",
      "text/plain": [
       "<Figure size 1152x288 with 4 Axes>"
      ]
     },
     "metadata": {
      "needs_background": "light"
     },
     "output_type": "display_data"
    }
   ],
   "source": [
    "xOTs = list(map(str, overlapTypes))\n",
    "cOTs = np.array([[255, 0, 0], [0, 255, 0]])\n",
    "fig, axs = plt.subplots(1, 4, figsize=(16, 4), sharey=False)\n",
    "\n",
    "axs[0].scatter(xOTs, biasOTs, c=cOTs/255)\n",
    "axs[0].set(xlabel='Overlap Type', ylabel='Bias')\n",
    "axs[0].grid()\n",
    "axs[1].scatter(xOTs, rmseOTs, c=cOTs/255)\n",
    "axs[1].set(xlabel='Overlap Type', ylabel='RMSE')\n",
    "axs[1].grid()\n",
    "axs[2].scatter(xOTs, coverageOTs, c=cOTs/255)\n",
    "axs[2].set(xlabel='Overlap Type', ylabel='Coverage')\n",
    "axs[2].grid()\n",
    "axs[3].scatter(xOTs, intervalOTs, c=cOTs/255)\n",
    "axs[3].set(xlabel='Overlap Type', ylabel='Interval Length')\n",
    "axs[3].grid()\n",
    "\n",
    "fig.suptitle('Evaluation Metrics when Changing Overlap (Average over ' + str(K) + ' simulations per parameter setting)')\n",
    "fig.tight_layout(pad=3.0)\n",
    "plt.show()"
   ]
  },
  {
   "cell_type": "code",
   "execution_count": 85,
   "metadata": {},
   "outputs": [
    {
     "data": {
      "text/html": [
       "<div>\n",
       "<style scoped>\n",
       "    .dataframe tbody tr th:only-of-type {\n",
       "        vertical-align: middle;\n",
       "    }\n",
       "\n",
       "    .dataframe tbody tr th {\n",
       "        vertical-align: top;\n",
       "    }\n",
       "\n",
       "    .dataframe thead th {\n",
       "        text-align: right;\n",
       "    }\n",
       "</style>\n",
       "<table border=\"1\" class=\"dataframe\">\n",
       "  <thead>\n",
       "    <tr style=\"text-align: right;\">\n",
       "      <th></th>\n",
       "      <th>Bias</th>\n",
       "      <th>RMSE</th>\n",
       "      <th>Coverage</th>\n",
       "      <th>Interval Length</th>\n",
       "    </tr>\n",
       "  </thead>\n",
       "  <tbody>\n",
       "    <tr>\n",
       "      <th>True</th>\n",
       "      <td>110.715585</td>\n",
       "      <td>132.712166</td>\n",
       "      <td>1.0</td>\n",
       "      <td>870.994308</td>\n",
       "    </tr>\n",
       "    <tr>\n",
       "      <th>False</th>\n",
       "      <td>110.202531</td>\n",
       "      <td>142.416281</td>\n",
       "      <td>1.0</td>\n",
       "      <td>1084.738066</td>\n",
       "    </tr>\n",
       "  </tbody>\n",
       "</table>\n",
       "</div>"
      ],
      "text/plain": [
       "             Bias        RMSE  Coverage  Interval Length\n",
       "True   110.715585  132.712166       1.0       870.994308\n",
       "False  110.202531  142.416281       1.0      1084.738066"
      ]
     },
     "execution_count": 85,
     "metadata": {},
     "output_type": "execute_result"
    }
   ],
   "source": [
    "data = {'Bias':biasOTs, 'RMSE':rmseOTs, 'Coverage':coverageOTs, 'Interval Length':intervalOTs}\n",
    "tableOTs = pd.DataFrame(data=data, index=xOTs)\n",
    "tableOTs"
   ]
  },
  {
   "cell_type": "markdown",
   "metadata": {},
   "source": [
    "## (5) Treatment Effect Heterogeneity Level"
   ]
  },
  {
   "cell_type": "code",
   "execution_count": 72,
   "metadata": {},
   "outputs": [
    {
     "data": {
      "application/vnd.jupyter.widget-view+json": {
       "model_id": "7d9704164c2f4985bdd8e06823e344ac",
       "version_major": 2,
       "version_minor": 0
      },
      "text/plain": [
       "HBox(children=(FloatProgress(value=0.0, max=50.0), HTML(value='')))"
      ]
     },
     "metadata": {},
     "output_type": "display_data"
    },
    {
     "name": "stdout",
     "output_type": "stream",
     "text": [
      "\n"
     ]
    },
    {
     "data": {
      "application/vnd.jupyter.widget-view+json": {
       "model_id": "07c02f4196f44e899563ae05f3bffe10",
       "version_major": 2,
       "version_minor": 0
      },
      "text/plain": [
       "HBox(children=(FloatProgress(value=0.0, max=50.0), HTML(value='')))"
      ]
     },
     "metadata": {},
     "output_type": "display_data"
    },
    {
     "name": "stdout",
     "output_type": "stream",
     "text": [
      "\n"
     ]
    },
    {
     "data": {
      "application/vnd.jupyter.widget-view+json": {
       "model_id": "aca295862dbd4a31b79c86f0bde332e8",
       "version_major": 2,
       "version_minor": 0
      },
      "text/plain": [
       "HBox(children=(FloatProgress(value=0.0, max=50.0), HTML(value='')))"
      ]
     },
     "metadata": {},
     "output_type": "display_data"
    },
    {
     "name": "stdout",
     "output_type": "stream",
     "text": [
      "\n"
     ]
    },
    {
     "data": {
      "application/vnd.jupyter.widget-view+json": {
       "model_id": "b1fdd47966ca43a7b41b7cbd7e7edaad",
       "version_major": 2,
       "version_minor": 0
      },
      "text/plain": [
       "HBox(children=(FloatProgress(value=0.0, max=50.0), HTML(value='')))"
      ]
     },
     "metadata": {},
     "output_type": "display_data"
    },
    {
     "name": "stdout",
     "output_type": "stream",
     "text": [
      "\n"
     ]
    }
   ],
   "source": [
    "K = 50\n",
    "heterogeneityLevels = [0, 2, 4, 8]\n",
    "\n",
    "biasHLs = np.zeros(len(heterogeneityLevels))\n",
    "rmseHLs = np.zeros(len(heterogeneityLevels))\n",
    "coverageHLs = np.zeros(len(heterogeneityLevels))\n",
    "intervalHLs = np.zeros(len(heterogeneityLevels))\n",
    "lbsHLs = np.zeros((len(heterogeneityLevels), K))\n",
    "ubsHLs = np.zeros((len(heterogeneityLevels), K))\n",
    "atesHLs = np.zeros((len(heterogeneityLevels), K))\n",
    "true_atesHLs = np.zeros((len(heterogeneityLevels), K))\n",
    "\n",
    "for idx, heterogeneity in enumerate(heterogeneityLevels):\n",
    "    estHLs = []\n",
    "    trueATEHLs = []\n",
    "    evalSetHLs = []\n",
    "    for i in tqdm(range(K)):\n",
    "        if heterogeneity == 0:\n",
    "            y, X, trueBetas, featureNames, treatments, cy, ate, treated = dgp(welfare, effect_type='homogeneous')\n",
    "        else:\n",
    "            y, X, trueBetas, featureNames, treatments, cy, ate, treated = dgp(welfare, heterogeneous_select=heterogeneity)\n",
    "\n",
    "        est, X_test, Y_test, treated_test, CY_test = estimate_cf(y, X, treatments, treated, cy)\n",
    "\n",
    "        # Calculate test set ATE\n",
    "        tmp = Y_test[treated_test] - CY_test[treated_test]\n",
    "        tmp1 = CY_test[~treated_test] - Y_test[~treated_test]\n",
    "        test_ate = (tmp.mean() + tmp1.mean())/2\n",
    "        ate = test_ate\n",
    "\n",
    "        estHLs.append(est)\n",
    "        trueATEHLs.append(ate)\n",
    "        evalSetHLs.append(X_test)\n",
    "\n",
    "    bias, rmse, coverage, interval, lbs, ubs, ates = evalStats(estHLs, trueATEHLs, evalSetHLs)\n",
    "    \n",
    "    biasHLs[idx] = bias\n",
    "    rmseHLs[idx] = rmse\n",
    "    coverageHLs[idx] = coverage\n",
    "    intervalHLs[idx] = interval\n",
    "    lbsHLs[idx, :] = lbs\n",
    "    ubsHLs[idx, :] = ubs\n",
    "    atesHLs[idx, :] = ates\n",
    "    true_atesHLs[idx, :] = trueATEHLs"
   ]
  },
  {
   "cell_type": "code",
   "execution_count": 73,
   "metadata": {},
   "outputs": [
    {
     "data": {
      "text/plain": [
       "['Results/intervalHLs_50.pkl']"
      ]
     },
     "execution_count": 73,
     "metadata": {},
     "output_type": "execute_result"
    }
   ],
   "source": [
    "joblib.dump(biasHLs, 'Results/biasHLs_{}.pkl'.format(K))\n",
    "joblib.dump(rmseHLs, 'Results/rmseHLs_{}.pkl'.format(K))\n",
    "joblib.dump(coverageHLs, 'Results/coverageHLs_{}.pkl'.format(K))\n",
    "joblib.dump(intervalHLs, 'Results/intervalHLs_{}.pkl'.format(K))\n",
    "joblib.dump(lbsHLs, 'Results/lbsHLs_{}.pkl'.format(K))\n",
    "joblib.dump(ubsHLs, 'Results/ubsHLs_{}.pkl'.format(K))\n",
    "joblib.dump(atesHLs, 'Results/atesHLs_{}.pkl'.format(K))\n",
    "joblib.dump(true_atesHLs, 'Results/true_atesHLs_{}.pkl'.format(K))"
   ]
  },
  {
   "cell_type": "code",
   "execution_count": 34,
   "metadata": {},
   "outputs": [],
   "source": [
    "biasHLs = joblib.load('Results/biasHLs_{}.pkl'.format(K))\n",
    "rmseHLs = joblib.load('Results/rmseHLs_{}.pkl'.format(K))\n",
    "coverageHLs = joblib.load('Results/coverageHLs_{}.pkl'.format(K))\n",
    "intervalHLs = joblib.load('Results/intervalHLs_{}.pkl'.format(K))\n",
    "lbsHLs = joblib.load('Results/lbsHLs_{}.pkl'.format(K))\n",
    "ubsHLs = joblib.load('Results/ubsHLs_{}.pkl'.format(K))\n",
    "atesHLs = joblib.load('Results/atesHLs_{}.pkl'.format(K))\n",
    "true_atesHLs = joblib.load('Results/true_atesHLs_{}'.format(K))"
   ]
  },
  {
   "cell_type": "code",
   "execution_count": 82,
   "metadata": {},
   "outputs": [
    {
     "data": {
      "image/png": "[encoded data removed]",
      "text/plain": [
       "<Figure size 1152x288 with 4 Axes>"
      ]
     },
     "metadata": {
      "needs_background": "light"
     },
     "output_type": "display_data"
    }
   ],
   "source": [
    "xHLs = list(map(str, heterogeneityLevels))\n",
    "cHLs = np.array([[255, 0, 0], [0, 255, 0], [0, 0, 255], [255, 165, 0]])\n",
    "fig, axs = plt.subplots(1, 4, figsize=(16, 4), sharey=False)\n",
    "\n",
    "axs[0].scatter(xHLs, biasHLs, c=cHLs/255)\n",
    "axs[0].set(xlabel='Heterogeneity Level', ylabel='Bias')\n",
    "axs[0].grid()\n",
    "axs[1].scatter(xHLs, rmseHLs, c=cHLs/255)\n",
    "axs[1].set(xlabel='Heterogeneity Level', ylabel='RMSE')\n",
    "axs[1].grid()\n",
    "axs[2].scatter(xHLs, coverageHLs, c=cHLs/255)\n",
    "axs[2].set(xlabel='Heterogeneity Level', ylabel='Coverage')\n",
    "axs[2].grid()\n",
    "axs[3].scatter(xHLs, intervalHLs, c=cHLs/255)\n",
    "axs[3].set(xlabel='Heterogeneity Level', ylabel='Interval Length')\n",
    "axs[3].grid()\n",
    "\n",
    "fig.suptitle('Evaluation Metrics when Changing Heterogeneity Level (Average over ' + str(K) + ' simulations per parameter setting)')\n",
    "fig.tight_layout(pad=3.0)\n",
    "plt.show()"
   ]
  },
  {
   "cell_type": "code",
   "execution_count": 83,
   "metadata": {},
   "outputs": [
    {
     "data": {
      "text/html": [
       "<div>\n",
       "<style scoped>\n",
       "    .dataframe tbody tr th:only-of-type {\n",
       "        vertical-align: middle;\n",
       "    }\n",
       "\n",
       "    .dataframe tbody tr th {\n",
       "        vertical-align: top;\n",
       "    }\n",
       "\n",
       "    .dataframe thead th {\n",
       "        text-align: right;\n",
       "    }\n",
       "</style>\n",
       "<table border=\"1\" class=\"dataframe\">\n",
       "  <thead>\n",
       "    <tr style=\"text-align: right;\">\n",
       "      <th></th>\n",
       "      <th>Bias</th>\n",
       "      <th>RMSE</th>\n",
       "      <th>Coverage</th>\n",
       "      <th>Interval Length</th>\n",
       "    </tr>\n",
       "  </thead>\n",
       "  <tbody>\n",
       "    <tr>\n",
       "      <th>0</th>\n",
       "      <td>7.384003e-01</td>\n",
       "      <td>9.351066e-01</td>\n",
       "      <td>1.0</td>\n",
       "      <td>5.127023e+01</td>\n",
       "    </tr>\n",
       "    <tr>\n",
       "      <th>2</th>\n",
       "      <td>1.518465e+01</td>\n",
       "      <td>1.985524e+01</td>\n",
       "      <td>1.0</td>\n",
       "      <td>1.609032e+02</td>\n",
       "    </tr>\n",
       "    <tr>\n",
       "      <th>4</th>\n",
       "      <td>1.079182e+02</td>\n",
       "      <td>1.411411e+02</td>\n",
       "      <td>1.0</td>\n",
       "      <td>8.954168e+02</td>\n",
       "    </tr>\n",
       "    <tr>\n",
       "      <th>8</th>\n",
       "      <td>4.225256e+08</td>\n",
       "      <td>5.274356e+08</td>\n",
       "      <td>1.0</td>\n",
       "      <td>3.508871e+09</td>\n",
       "    </tr>\n",
       "  </tbody>\n",
       "</table>\n",
       "</div>"
      ],
      "text/plain": [
       "           Bias          RMSE  Coverage  Interval Length\n",
       "0  7.384003e-01  9.351066e-01       1.0     5.127023e+01\n",
       "2  1.518465e+01  1.985524e+01       1.0     1.609032e+02\n",
       "4  1.079182e+02  1.411411e+02       1.0     8.954168e+02\n",
       "8  4.225256e+08  5.274356e+08       1.0     3.508871e+09"
      ]
     },
     "execution_count": 83,
     "metadata": {},
     "output_type": "execute_result"
    }
   ],
   "source": [
    "data = {'Bias':biasHLs, 'RMSE':rmseHLs, 'Coverage':coverageHLs, 'Interval Length':intervalHLs}\n",
    "tableHLs = pd.DataFrame(data=data, index=xHLs)\n",
    "tableHLs"
   ]
  },
  {
   "cell_type": "markdown",
   "metadata": {},
   "source": [
    "## (6) Treatment Type (Continuous vs. Discrete)"
   ]
  },
  {
   "cell_type": "code",
   "execution_count": 166,
   "metadata": {},
   "outputs": [
    {
     "data": {
      "application/vnd.jupyter.widget-view+json": {
       "model_id": "c5a8597e707f4ca2826651c52576986a",
       "version_major": 2,
       "version_minor": 0
      },
      "text/plain": [
       "HBox(children=(FloatProgress(value=0.0, max=1.0), HTML(value='')))"
      ]
     },
     "metadata": {},
     "output_type": "display_data"
    },
    {
     "name": "stdout",
     "output_type": "stream",
     "text": [
      "\n"
     ]
    }
   ],
   "source": [
    "K = 1\n",
    "treatment_type = 'continuous'\n",
    "\n",
    "estTTs = []\n",
    "trueATETTs = []\n",
    "evalSetTTs = []\n",
    "\n",
    "# criterion = 'het' if treatment_type == \"binary\" else 'mse'\n",
    "criterion = 'het'\n",
    "discrete_treatment = True if treatment_type == \"binary\" else False\n",
    "\n",
    "for i in tqdm(range(K)):\n",
    "    y, X, trueBetas, featureNames, treatments, cy, ate, treated = dgp(welfare, treatment_type=treatment_type)\n",
    "\n",
    "    est, X_test = estimate_cf(y, X, treatments, criterion=criterion, discrete_treatment=discrete_treatment, n_estimators=100)\n",
    "\n",
    "    estTTs.append(est)\n",
    "    trueATETTs.append(ate)\n",
    "    evalSetTTs.append(X_test)\n",
    "\n",
    "bias, rmse, coverage, interval, lbs, ubs, ates = evalStats(estTTs, trueATETTs, evalSetTTs)"
   ]
  },
  {
   "cell_type": "code",
   "execution_count": 167,
   "metadata": {},
   "outputs": [
    {
     "data": {
      "image/png": "[encoded data removed]",
      "text/latex": [
       "$\\displaystyle 3408.45399909953$"
      ],
      "text/plain": [
       "3408.453999099531"
      ]
     },
     "execution_count": 167,
     "metadata": {},
     "output_type": "execute_result"
    }
   ],
   "source": [
    "ate"
   ]
  },
  {
   "cell_type": "code",
   "execution_count": 174,
   "metadata": {},
   "outputs": [
    {
     "data": {
      "text/plain": [
       "(array([4993.82517038]), array([5922.14109056]))"
      ]
     },
     "execution_count": 174,
     "metadata": {},
     "output_type": "execute_result"
    }
   ],
   "source": [
    "est.ate_interval(X)"
   ]
  },
  {
   "cell_type": "code",
   "execution_count": 74,
   "metadata": {},
   "outputs": [
    {
     "data": {
      "application/vnd.jupyter.widget-view+json": {
       "model_id": "fb29c594f6474e39bafc49b672ccb059",
       "version_major": 2,
       "version_minor": 0
      },
      "text/plain": [
       "HBox(children=(FloatProgress(value=0.0, max=50.0), HTML(value='')))"
      ]
     },
     "metadata": {},
     "output_type": "display_data"
    },
    {
     "name": "stdout",
     "output_type": "stream",
     "text": [
      "\n"
     ]
    },
    {
     "data": {
      "application/vnd.jupyter.widget-view+json": {
       "model_id": "b33c8a299cbb439589677e4776696829",
       "version_major": 2,
       "version_minor": 0
      },
      "text/plain": [
       "HBox(children=(FloatProgress(value=0.0, max=50.0), HTML(value='')))"
      ]
     },
     "metadata": {},
     "output_type": "display_data"
    },
    {
     "name": "stdout",
     "output_type": "stream",
     "text": [
      "\n"
     ]
    }
   ],
   "source": [
    "K = 50\n",
    "treatmentTypes = ['continuous', 'binary']\n",
    "\n",
    "biasTTs = np.zeros(len(treatmentTypes))\n",
    "rmseTTs = np.zeros(len(treatmentTypes))\n",
    "coverageTTs = np.zeros(len(treatmentTypes))\n",
    "intervalTTs = np.zeros(len(treatmentTypes))\n",
    "lbsTTs = np.zeros((len(treatmentTypes), K))\n",
    "ubsTTs = np.zeros((len(treatmentTypes), K))\n",
    "atesTTs = np.zeros((len(treatmentTypes), K))\n",
    "true_atesTTs = np.zeros((len(treatmentTypes), K))\n",
    "\n",
    "for idx, treatment_type in enumerate(treatmentTypes):\n",
    "    estTTs = []\n",
    "    trueATETTs = []\n",
    "    evalSetTTs = []\n",
    "    criterion = 'het' if treatment_type == \"binary\" else 'mse'\n",
    "    discrete_treatment = True if treatment_type == \"binary\" else False\n",
    "    for i in tqdm(range(K)):\n",
    "        y, X, trueBetas, featureNames, treatments, cy, ate, treated = dgp(welfare, treatment_type=treatment_type)\n",
    "        \n",
    "        est, X_test, Y_test, treated_test, CY_test = estimate_cf(y, X, treatments, treated, cy, criterion=criterion, discrete_treatment=discrete_treatment)\n",
    "\n",
    "        # Calculate test set ATE\n",
    "        tmp = Y_test[treated_test] - CY_test[treated_test]\n",
    "        tmp1 = CY_test[~treated_test] - Y_test[~treated_test]\n",
    "        test_ate = (tmp.mean() + tmp1.mean())/2\n",
    "        ate = test_ate\n",
    "        estTTs.append(est)\n",
    "        trueATETTs.append(ate)\n",
    "        evalSetTTs.append(X_test)\n",
    "\n",
    "    bias, rmse, coverage, interval, lbs, ubs, ates = evalStats(estTTs, trueATETTs, evalSetTTs)\n",
    "    \n",
    "    biasTTs[idx] = bias\n",
    "    rmseTTs[idx] = rmse\n",
    "    coverageTTs[idx] = coverage\n",
    "    intervalTTs[idx] = interval\n",
    "    lbsTTs[idx, :] = lbs\n",
    "    ubsTTs[idx, :] = ubs\n",
    "    atesTTs[idx, :] = ates\n",
    "    true_atesTTs[idx, :] = trueATETTs"
   ]
  },
  {
   "cell_type": "code",
   "execution_count": 75,
   "metadata": {},
   "outputs": [
    {
     "data": {
      "text/plain": [
       "['Results/intervalTTs_50.pkl']"
      ]
     },
     "execution_count": 75,
     "metadata": {},
     "output_type": "execute_result"
    }
   ],
   "source": [
    "joblib.dump(biasTTs, 'Results/biasTTs_{}.pkl'.format(K))\n",
    "joblib.dump(rmseTTs, 'Results/rmseTTs_{}.pkl'.format(K))\n",
    "joblib.dump(coverageTTs, 'Results/coverageTTs_{}.pkl'.format(K))\n",
    "joblib.dump(intervalTTs, 'Results/intervalTTs_{}.pkl'.format(K))\n",
    "joblib.dump(lbsTTs, 'Results/lbsTTs_{}.pkl'.format(K))\n",
    "joblib.dump(ubsTTs, 'Results/ubsTTs_{}.pkl'.format(K))\n",
    "joblib.dump(atesTTs, 'Results/atesTTs_{}.pkl'.format(K))\n",
    "joblib.dump(true_atesTTs, 'Results/true_atesTTs_{}.pkl'.format(K))"
   ]
  },
  {
   "cell_type": "code",
   "execution_count": 46,
   "metadata": {},
   "outputs": [],
   "source": [
    "biasTTs = joblib.load('Results/biasTTs_{}.pkl'.format(K))\n",
    "rmseTTs = joblib.load('Results/rmseTTs_{}.pkl'.format(K))\n",
    "coverageTTs = joblib.load('Results/coverageTTs_{}.pkl'.format(K))\n",
    "intervalTTs = joblib.load('Results/intervalTTs_{}.pkl'.format(K))\n",
    "lbsTTs = joblib.load('Results/lbsTTs_{}.pkl'.format(K))\n",
    "ubsTTs = joblib.load('Results/ubsTTs_{}.pkl'.format(K))\n",
    "atesTTs = joblib.load('Results/atesTTs_{}.pkl'.format(K))\n",
    "true_atesTTs = joblib.load('Results/true_atesTTs_{}'.format(K))"
   ]
  },
  {
   "cell_type": "code",
   "execution_count": 80,
   "metadata": {},
   "outputs": [
    {
     "data": {
      "image/png": "[encoded data removed]",
      "text/plain": [
       "<Figure size 1152x288 with 4 Axes>"
      ]
     },
     "metadata": {
      "needs_background": "light"
     },
     "output_type": "display_data"
    }
   ],
   "source": [
    "xTTs = treatmentTypes\n",
    "cTTs = np.array([[255, 0, 0], [0, 255, 0]])\n",
    "fig, axs = plt.subplots(1, 4, figsize=(16, 4), sharey=False)\n",
    "\n",
    "axs[0].scatter(xTTs, biasTTs, c=cTTs/255)\n",
    "axs[0].set(xlabel='Treatment Type', ylabel='Bias')\n",
    "axs[0].grid()\n",
    "axs[1].scatter(xTTs, rmseTTs, c=cTTs/255)\n",
    "axs[1].set(xlabel='Treatment Type', ylabel='RMSE')\n",
    "axs[1].grid()\n",
    "axs[2].scatter(xTTs, coverageTTs, c=cTTs/255)\n",
    "axs[2].set(xlabel='Treatment Type', ylabel='Coverage')\n",
    "axs[2].grid()\n",
    "axs[3].scatter(xTTs, intervalTTs, c=cTTs/255)\n",
    "axs[3].set(xlabel='Treatment Type', ylabel='Interval Length')\n",
    "axs[3].grid()\n",
    "\n",
    "fig.suptitle('Evaluation Metrics when Changing Treatment Type (Average over ' + str(K) + ' simulations per parameter setting)')\n",
    "fig.tight_layout(pad=3.0)\n",
    "plt.show()"
   ]
  },
  {
   "cell_type": "code",
   "execution_count": 81,
   "metadata": {},
   "outputs": [
    {
     "data": {
      "text/html": [
       "<div>\n",
       "<style scoped>\n",
       "    .dataframe tbody tr th:only-of-type {\n",
       "        vertical-align: middle;\n",
       "    }\n",
       "\n",
       "    .dataframe tbody tr th {\n",
       "        vertical-align: top;\n",
       "    }\n",
       "\n",
       "    .dataframe thead th {\n",
       "        text-align: right;\n",
       "    }\n",
       "</style>\n",
       "<table border=\"1\" class=\"dataframe\">\n",
       "  <thead>\n",
       "    <tr style=\"text-align: right;\">\n",
       "      <th></th>\n",
       "      <th>Bias</th>\n",
       "      <th>RMSE</th>\n",
       "      <th>Coverage</th>\n",
       "      <th>Interval Length</th>\n",
       "    </tr>\n",
       "  </thead>\n",
       "  <tbody>\n",
       "    <tr>\n",
       "      <th>continuous</th>\n",
       "      <td>2569.386936</td>\n",
       "      <td>2572.952936</td>\n",
       "      <td>0.0</td>\n",
       "      <td>985.637771</td>\n",
       "    </tr>\n",
       "    <tr>\n",
       "      <th>binary</th>\n",
       "      <td>107.081582</td>\n",
       "      <td>131.637333</td>\n",
       "      <td>1.0</td>\n",
       "      <td>877.233591</td>\n",
       "    </tr>\n",
       "  </tbody>\n",
       "</table>\n",
       "</div>"
      ],
      "text/plain": [
       "                   Bias         RMSE  Coverage  Interval Length\n",
       "continuous  2569.386936  2572.952936       0.0       985.637771\n",
       "binary       107.081582   131.637333       1.0       877.233591"
      ]
     },
     "execution_count": 81,
     "metadata": {},
     "output_type": "execute_result"
    }
   ],
   "source": [
    "data = {'Bias':biasTTs, 'RMSE':rmseTTs, 'Coverage':coverageTTs, 'Interval Length':intervalTTs}\n",
    "tableTTs = pd.DataFrame(data=data, index=xTTs)\n",
    "tableTTs"
   ]
  },
  {
   "cell_type": "markdown",
   "metadata": {},
   "source": [
    "## (7) N_Estimators"
   ]
  },
  {
   "cell_type": "code",
   "execution_count": 76,
   "metadata": {},
   "outputs": [
    {
     "data": {
      "application/vnd.jupyter.widget-view+json": {
       "model_id": "5ddcea2e5dee49b5bf2efeda6d1cffb4",
       "version_major": 2,
       "version_minor": 0
      },
      "text/plain": [
       "HBox(children=(FloatProgress(value=0.0, max=50.0), HTML(value='')))"
      ]
     },
     "metadata": {},
     "output_type": "display_data"
    },
    {
     "name": "stdout",
     "output_type": "stream",
     "text": [
      "\n"
     ]
    },
    {
     "data": {
      "application/vnd.jupyter.widget-view+json": {
       "model_id": "386ac94b1c4a477ba0edf482f9919acd",
       "version_major": 2,
       "version_minor": 0
      },
      "text/plain": [
       "HBox(children=(FloatProgress(value=0.0, max=50.0), HTML(value='')))"
      ]
     },
     "metadata": {},
     "output_type": "display_data"
    },
    {
     "name": "stdout",
     "output_type": "stream",
     "text": [
      "\n"
     ]
    },
    {
     "data": {
      "application/vnd.jupyter.widget-view+json": {
       "model_id": "6472b42924d94917812ed3b866cb395f",
       "version_major": 2,
       "version_minor": 0
      },
      "text/plain": [
       "HBox(children=(FloatProgress(value=0.0, max=50.0), HTML(value='')))"
      ]
     },
     "metadata": {},
     "output_type": "display_data"
    },
    {
     "name": "stdout",
     "output_type": "stream",
     "text": [
      "\n"
     ]
    },
    {
     "data": {
      "application/vnd.jupyter.widget-view+json": {
       "model_id": "3d9c4a2fa9ab4036a96e7d43f371b5b2",
       "version_major": 2,
       "version_minor": 0
      },
      "text/plain": [
       "HBox(children=(FloatProgress(value=0.0, max=50.0), HTML(value='')))"
      ]
     },
     "metadata": {},
     "output_type": "display_data"
    },
    {
     "name": "stdout",
     "output_type": "stream",
     "text": [
      "\n"
     ]
    }
   ],
   "source": [
    "K = 50\n",
    "estimatorNs = [100, 500, 1000, 5000]\n",
    "\n",
    "biasENs = np.zeros(len(estimatorNs))\n",
    "rmseENs = np.zeros(len(estimatorNs))\n",
    "coverageENs = np.zeros(len(estimatorNs))\n",
    "intervalENs = np.zeros(len(estimatorNs))\n",
    "lbsENs = np.zeros((len(estimatorNs), K))\n",
    "ubsENs = np.zeros((len(estimatorNs), K))\n",
    "atesENs = np.zeros((len(estimatorNs), K))\n",
    "true_atesENs = np.zeros((len(estimatorNs), K))\n",
    "\n",
    "for idx, n_estimators in enumerate(estimatorNs):\n",
    "    estENs = []\n",
    "    trueATEENs = []\n",
    "    evalSetENs = []\n",
    "#     criterion = 'het' if treatment_type == \"binary\" else 'mse'\n",
    "    criterion = 'het'\n",
    "    discrete_treatment = True if treatment_type == \"binary\" else False\n",
    "    for i in tqdm(range(K)):\n",
    "        y, X, trueBetas, featureNames, treatments, cy, ate, treated = dgp(welfare)\n",
    "        \n",
    "        est, X_test, Y_test, treated_test, CY_test = estimate_cf(y, X, treatments, treated, cy, criterion=criterion, discrete_treatment=discrete_treatment, n_estimators=n_estimators)\n",
    "\n",
    "        # Calculate test set ATE\n",
    "        tmp = Y_test[treated_test] - CY_test[treated_test]\n",
    "        tmp1 = CY_test[~treated_test] - Y_test[~treated_test]\n",
    "        test_ate = (tmp.mean() + tmp1.mean())/2\n",
    "        ate = test_ate\n",
    "        \n",
    "        estENs.append(est)\n",
    "        trueATEENs.append(ate)\n",
    "        evalSetENs.append(X_test)\n",
    "\n",
    "    bias, rmse, coverage, interval, lbs, ubs, ates = evalStats(estENs, trueATEENs, evalSetENs)\n",
    "    \n",
    "    biasENs[idx] = bias\n",
    "    rmseENs[idx] = rmse\n",
    "    coverageENs[idx] = coverage\n",
    "    intervalENs[idx] = interval\n",
    "    lbsENs[idx, :] = lbs\n",
    "    ubsENs[idx, :] = ubs\n",
    "    atesENs[idx, :] = ates\n",
    "    true_atesENs[idx, :] = trueATEENs"
   ]
  },
  {
   "cell_type": "code",
   "execution_count": 77,
   "metadata": {},
   "outputs": [
    {
     "data": {
      "text/plain": [
       "['Results/intervalENs_50.pkl']"
      ]
     },
     "execution_count": 77,
     "metadata": {},
     "output_type": "execute_result"
    }
   ],
   "source": [
    "joblib.dump(biasENs, 'Results/biasENs_{}.pkl'.format(K))\n",
    "joblib.dump(rmseENs, 'Results/rmseENs_{}.pkl'.format(K))\n",
    "joblib.dump(coverageENs, 'Results/coverageENs_{}.pkl'.format(K))\n",
    "joblib.dump(intervalENs, 'Results/intervalENs_{}.pkl'.format(K))\n",
    "joblib.dump(lbsENs, 'Results/lbsENs_{}.pkl'.format(K))\n",
    "joblib.dump(ubsENs, 'Results/ubsENs_{}.pkl'.format(K))\n",
    "joblib.dump(atesENs, 'Results/atesENs_{}.pkl'.format(K))\n",
    "joblib.dump(true_atesENs, 'Results/true_atesENs_{}.pkl'.format(K))"
   ]
  },
  {
   "cell_type": "code",
   "execution_count": 53,
   "metadata": {},
   "outputs": [],
   "source": [
    "biasENs = joblib.load('Results/biasENs_{}.pkl'.format(K))\n",
    "rmseENs = joblib.load('Results/rmseENs_{}.pkl'.format(K))\n",
    "coverageENs = joblib.load('Results/coverageENs_{}.pkl'.format(K))\n",
    "intervalENs = joblib.load('Results/intervalENs_{}.pkl'.format(K))\n",
    "lbsENs = joblib.load('Results/lbsENs_{}.pkl'.format(K))\n",
    "ubsENs = joblib.load('Results/ubsENs_{}.pkl'.format(K))\n",
    "atesENs = joblib.load('Results/atesENs_{}.pkl'.format(K))\n",
    "true_atesENs = joblib.load('Results/true_atesENs_{}'.format(K))"
   ]
  },
  {
   "cell_type": "code",
   "execution_count": 78,
   "metadata": {},
   "outputs": [
    {
     "data": {
      "image/png": "[encoded data removed]",
      "text/plain": [
       "<Figure size 1152x288 with 4 Axes>"
      ]
     },
     "metadata": {
      "needs_background": "light"
     },
     "output_type": "display_data"
    }
   ],
   "source": [
    "xENs = list(map(str, estimatorNs))\n",
    "cENs = np.array([[255, 0, 0], [0, 255, 0], [0, 0, 255], [255, 165, 0]])\n",
    "fig, axs = plt.subplots(1, 4, figsize=(16, 4), sharey=False)\n",
    "\n",
    "axs[0].scatter(xENs, biasENs, c=cENs/255)\n",
    "axs[0].set(xlabel='num_estimators', ylabel='Bias')\n",
    "axs[0].grid()\n",
    "axs[1].scatter(xENs, rmseENs, c=cENs/255)\n",
    "axs[1].set(xlabel='num_estimators', ylabel='RMSE')\n",
    "axs[1].grid()\n",
    "axs[2].scatter(xENs, coverageENs, c=cENs/255)\n",
    "axs[2].set(xlabel='num_estimators', ylabel='Coverage')\n",
    "axs[2].grid()\n",
    "axs[3].scatter(xENs, intervalENs, c=cENs/255)\n",
    "axs[3].set(xlabel='num_estimators', ylabel='Interval Length')\n",
    "axs[3].grid()\n",
    "\n",
    "fig.suptitle('Evaluation Metrics when Changing num_estimators (Average over ' + str(K) + ' simulations per parameter setting)')\n",
    "fig.tight_layout(pad=3.0)\n",
    "plt.show()"
   ]
  },
  {
   "cell_type": "code",
   "execution_count": 79,
   "metadata": {},
   "outputs": [
    {
     "data": {
      "text/html": [
       "<div>\n",
       "<style scoped>\n",
       "    .dataframe tbody tr th:only-of-type {\n",
       "        vertical-align: middle;\n",
       "    }\n",
       "\n",
       "    .dataframe tbody tr th {\n",
       "        vertical-align: top;\n",
       "    }\n",
       "\n",
       "    .dataframe thead th {\n",
       "        text-align: right;\n",
       "    }\n",
       "</style>\n",
       "<table border=\"1\" class=\"dataframe\">\n",
       "  <thead>\n",
       "    <tr style=\"text-align: right;\">\n",
       "      <th></th>\n",
       "      <th>Bias</th>\n",
       "      <th>RMSE</th>\n",
       "      <th>Coverage</th>\n",
       "      <th>Interval Length</th>\n",
       "    </tr>\n",
       "  </thead>\n",
       "  <tbody>\n",
       "    <tr>\n",
       "      <th>100</th>\n",
       "      <td>104.857878</td>\n",
       "      <td>133.735216</td>\n",
       "      <td>1.00</td>\n",
       "      <td>1008.922846</td>\n",
       "    </tr>\n",
       "    <tr>\n",
       "      <th>500</th>\n",
       "      <td>113.213386</td>\n",
       "      <td>138.233428</td>\n",
       "      <td>1.00</td>\n",
       "      <td>887.806557</td>\n",
       "    </tr>\n",
       "    <tr>\n",
       "      <th>1000</th>\n",
       "      <td>104.080574</td>\n",
       "      <td>128.840791</td>\n",
       "      <td>1.00</td>\n",
       "      <td>871.219373</td>\n",
       "    </tr>\n",
       "    <tr>\n",
       "      <th>5000</th>\n",
       "      <td>118.032820</td>\n",
       "      <td>150.351380</td>\n",
       "      <td>0.98</td>\n",
       "      <td>872.458147</td>\n",
       "    </tr>\n",
       "  </tbody>\n",
       "</table>\n",
       "</div>"
      ],
      "text/plain": [
       "            Bias        RMSE  Coverage  Interval Length\n",
       "100   104.857878  133.735216      1.00      1008.922846\n",
       "500   113.213386  138.233428      1.00       887.806557\n",
       "1000  104.080574  128.840791      1.00       871.219373\n",
       "5000  118.032820  150.351380      0.98       872.458147"
      ]
     },
     "execution_count": 79,
     "metadata": {},
     "output_type": "execute_result"
    }
   ],
   "source": [
    "data = {'Bias':biasENs, 'RMSE':rmseENs, 'Coverage':coverageENs, 'Interval Length':intervalENs}\n",
    "tableENs = pd.DataFrame(data=data, index=xENs)\n",
    "tableENs"
   ]
  },
  {
   "cell_type": "markdown",
   "metadata": {},
   "source": [
    "## (8) Alignment"
   ]
  },
  {
   "cell_type": "markdown",
   "metadata": {},
   "source": [
    "Below is to implement / have running state of variables"
   ]
  },
  {
   "cell_type": "code",
   "execution_count": 4,
   "metadata": {},
   "outputs": [],
   "source": [
    "np.random.seed(123)\n",
    "effect_type=\"heterogeneous\"\n",
    "effect_homogeneous=10\n",
    "effect_heterogeneous=2\n",
    "# treatment_type=\"continuous\"\n",
    "treatment_type=\"binary\"\n",
    "treatment_probability=0.5\n",
    "heterogeneous_select=4\n",
    "order=3\n",
    "linearity=\"med\"\n",
    "N=1000\n",
    "overlap=True\n",
    "overlap_percent=0.5\n",
    "\n",
    "featureNames = list(welfare.columns)\n",
    "\n",
    "importantFeatureNames = ['wrkstat', 'race', 'year', 'hrs1', 'income', 'occ80', 'id', 'educ'] # top 8 important features based on Shapley visualization from \n",
    "importantFeatureIndices = []\n",
    "for name in importantFeatureNames:\n",
    "    importantFeatureIndices.append(featureNames.index(name)) \n",
    "\n",
    "# error terms\n",
    "error = np.random.normal(size=(N,1))\n",
    "\n",
    "# data generation\n",
    "cov = welfare.cov()\n",
    "means = welfare.mean(axis=0)\n",
    "X = np.random.multivariate_normal(means.values, cov, size=N, check_valid='warn', tol=1e-8)\n",
    "\n",
    "# linearity specification\n",
    "if linearity != 'full':\n",
    "    select = 0 # select n most important features for interactions and polynomials\n",
    "    poly = PolynomialFeatures(degree=order, interaction_only=False, include_bias=False)\n",
    "\n",
    "    if linearity == \"high\": \n",
    "        select = 2\n",
    "    elif linearity == \"med\": \n",
    "        select = 4\n",
    "    elif linearity == \"low\": \n",
    "        select = 8\n",
    "    else: # if some typo, assume baseline of high\n",
    "        select = 2\n",
    "\n",
    "    poly.fit(X[:, importantFeatureIndices[:select]])\n",
    "    fullData = poly.transform(X[:, importantFeatureIndices[:select]])\n",
    "    fullNames = poly.get_feature_names(input_features=importantFeatureNames[:select])\n",
    "    higherData = fullData[:, -(fullData.shape[1] - select):] # select only higher order\n",
    "    higherNames = fullNames[-(len(fullNames) - select):]\n",
    "\n",
    "    X = np.append(X, higherData, axis=1) \n",
    "    featureNames.extend(list(higherNames))\n",
    "\n",
    "# treatment type\n",
    "if treatment_type == \"binary\":\n",
    "    # randomly assigned treatments with propensity treatment_probability\n",
    "    treatments = np.random.choice([0, 1], size=N, p=[1 - treatment_probability, treatment_probability]).reshape((-1, 1))\n",
    "    if not overlap:\n",
    "        forced = random.sample(list(np.arange(treatments.shape[0])), int(treatments.shape[0] * overlap_percent))\n",
    "        treatments[forced] = 0\n",
    "    treated = treatments > 0\n",
    "    \n",
    "    # generate counterfactual treatment indicator vector\n",
    "    c_treatments = deepcopy(treatments)\n",
    "    c_treatments[treatments == 0] = 1\n",
    "    c_treatments[treatments == 1] = 0\n",
    "\n",
    "else:\n",
    "    treatments = np.random.uniform(size=(N, 1))\n",
    "    if not overlap:\n",
    "        forced = random.sample(list(np.arange(treatments.shape[0])), int(treatments.shape[0] * overlap_percent))\n",
    "        treatments[forced] = 0\n",
    "    treated = treatments > 0.5\n",
    "    c_treatments = deepcopy(treatments)\n",
    "    # to-do\n",
    "    c_treatments[treatments > 0] = 0\n",
    "    c_treatments[treatments == 0] = treatments.mean()\n",
    "    \n",
    "# treatment effect\n",
    "if effect_type == \"homogeneous\":\n",
    "\n",
    "    T = treatments*effect_homogeneous\n",
    "    CT = c_treatments*effect_homogeneous\n",
    "    \n",
    "else: # heterogeneous\n",
    "    # heterogeneous treatment is effect 1 + effect * (sum of first heterogeneous_select important variables)\n",
    "    heterogeneousIndices = importantFeatureIndices[:heterogeneous_select]\n",
    "    \n",
    "    T = 1 + (2*(X[:, heterogeneousIndices].sum(axis=1)))*treatments.ravel()\n",
    "    T = T.reshape(-1, 1)\n",
    "    T[~treated] = np.zeros((~treated).sum())\n",
    "    \n",
    "    CT = 1 + (2*(X[:, heterogeneousIndices].sum(axis=1)))*c_treatments.ravel()\n",
    "    CT = CT.reshape(-1, 1)\n",
    "    CT[treated] = np.zeros((treated).sum()) # everyone that was treated goes to untreated in counterfactual\n",
    "    \n",
    "\n",
    "betas = np.random.normal(size=X.shape[1]).reshape(-1,1)\n",
    "y = T + X@betas + error\n",
    "cy = CT + X@betas + error"
   ]
  },
  {
   "cell_type": "code",
   "execution_count": 184,
   "metadata": {},
   "outputs": [
    {
     "data": {
      "text/plain": [
       "15.720148792484203"
      ]
     },
     "execution_count": 184,
     "metadata": {},
     "output_type": "execute_result"
    }
   ],
   "source": [
    "X[:, heterogeneousIndices].mean(axis=0).sum() # average across the used columns to check ATE"
   ]
  },
  {
   "cell_type": "code",
   "execution_count": 10,
   "metadata": {},
   "outputs": [
    {
     "data": {
      "image/png": "[encoded data removed]",
      "text/latex": [
       "$\\displaystyle \\left( 1000, \\  30\\right)$"
      ],
      "text/plain": [
       "(1000, 30)"
      ]
     },
     "execution_count": 10,
     "metadata": {},
     "output_type": "execute_result"
    }
   ],
   "source": [
    "X[:, 120:].shape"
   ]
  },
  {
   "cell_type": "code",
   "execution_count": 13,
   "metadata": {},
   "outputs": [
    {
     "data": {
      "text/plain": [
       "array([120, 121, 122, 123, 124, 125, 126, 127, 128, 129, 130, 131, 132,\n",
       "       133, 134, 135, 136, 137, 138, 139, 140, 141, 142, 143, 144, 145,\n",
       "       146, 147, 148, 149])"
      ]
     },
     "execution_count": 13,
     "metadata": {},
     "output_type": "execute_result"
    }
   ],
   "source": [
    "np.arange(start=120, stop=X.shape[1])"
   ]
  },
  {
   "cell_type": "code",
   "execution_count": 14,
   "metadata": {},
   "outputs": [
    {
     "data": {
      "text/plain": [
       "array([  2,  38,   0,   3, 120, 121, 122, 123, 124, 125, 126, 127, 128,\n",
       "       129, 130, 131, 132, 133, 134, 135, 136, 137, 138, 139, 140, 141,\n",
       "       142, 143, 144, 145, 146, 147, 148, 149])"
      ]
     },
     "execution_count": 14,
     "metadata": {},
     "output_type": "execute_result"
    }
   ],
   "source": [
    "np.append(heterogeneousIndices, np.arange(start=120, stop=X.shape[1]))"
   ]
  },
  {
   "cell_type": "code",
   "execution_count": 176,
   "metadata": {},
   "outputs": [
    {
     "data": {
      "text/plain": [
       "32.43845628547201"
      ]
     },
     "execution_count": 176,
     "metadata": {},
     "output_type": "execute_result"
    }
   ],
   "source": [
    "tmp = y[treated] - cy[treated] # the treated\n",
    "untmp = cy[~treated] - y[~treated] # the untreated\n",
    "ate = (tmp.mean() + untmp.mean())/2"
   ]
  },
  {
   "cell_type": "code",
   "execution_count": 21,
   "metadata": {},
   "outputs": [],
   "source": [
    "y, X, trueBetas, featureNames, treatments, cy, ate, ifi = dgp(welfare, N=36501, order=3, treatment_probability=0.5)"
   ]
  },
  {
   "cell_type": "code",
   "execution_count": 13,
   "metadata": {},
   "outputs": [],
   "source": [
    "est, X_test = estimate_cf(y, X, treatments)"
   ]
  },
  {
   "cell_type": "code",
   "execution_count": null,
   "metadata": {},
   "outputs": [],
   "source": []
  }
 ],
 "metadata": {
  "kernelspec": {
   "display_name": "Python 3",
   "language": "python",
   "name": "python3"
  },
  "language_info": {
   "codemirror_mode": {
    "name": "ipython",
    "version": 3
   },
   "file_extension": ".py",
   "mimetype": "text/x-python",
   "name": "python",
   "nbconvert_exporter": "python",
   "pygments_lexer": "ipython3",
   "version": "3.6.9"
  }
 },
 "nbformat": 4,
 "nbformat_minor": 4
}
