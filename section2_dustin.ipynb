{
 "cells": [
  {
   "cell_type": "markdown",
   "metadata": {},
   "source": [
    "# Section 2: Analyzing Causal Forests on Simulated Data similar to GSS data "
   ]
  },
  {
   "cell_type": "code",
   "execution_count": 15,
   "metadata": {},
   "outputs": [],
   "source": [
    "import random\n",
    "import numpy as np\n",
    "import pandas as pd\n",
    "import matplotlib.pyplot as plt\n",
    "\n",
    "from sklearn.preprocessing import PolynomialFeatures\n",
    "from sklearn.model_selection import train_test_split\n",
    "from econml.dml import CausalForestDML\n",
    "from tqdm.auto import tqdm\n",
    "\n",
    "from copy import deepcopy\n",
    "import joblib\n",
    "import warnings\n",
    "import joblib\n",
    "import math\n",
    "warnings.filterwarnings(\"ignore\")\n",
    "\n",
    "def fullDisplay():\n",
    "    pd.set_option(\"display.max_rows\", None, \"display.max_columns\", None)\n",
    "\n",
    "def defaultDisplay():\n",
    "    pd.reset_option('^display.', silent=True)"
   ]
  },
  {
   "cell_type": "markdown",
   "metadata": {},
   "source": [
    "## Loading data"
   ]
  },
  {
   "cell_type": "code",
   "execution_count": 16,
   "metadata": {},
   "outputs": [
    {
     "output_type": "execute_result",
     "data": {
      "text/plain": [
       "       year    id  wrkstat      hrs1      hrs2  evwork  occ  prestige  wrkslf  \\\n",
       "0         0     1        7  0.004845  0.005228       1  135  0.005641       2   \n",
       "1         0     2        1  0.005055  0.005228       0  106  0.006538       2   \n",
       "2         0     3        7  0.004845  0.005228       1   99  0.006538       2   \n",
       "3         0     4        3  0.005055  0.005228       0  142  0.004615       2   \n",
       "4         0     5        8  0.005055  0.005228       1  211  0.005171       2   \n",
       "...     ...   ...      ...       ...       ...     ...  ...       ...     ...   \n",
       "36496    15  2040        3  0.005055  0.005228       0  211  0.005171       2   \n",
       "36497    15  2041        3  0.005055  0.005228       0  211  0.005171       2   \n",
       "36498    15  2042        7  0.004845  0.005228       1  211  0.005171       2   \n",
       "36499    15  2043        7  0.005935  0.005228       1  211  0.005171       2   \n",
       "36500    15  2044        7  0.004845  0.005228       1  211  0.005171       2   \n",
       "\n",
       "       wrkgovt  ...  adults_miss  unrelat_miss  earnrs_miss  income_miss  \\\n",
       "0            2  ...            0             0            0            0   \n",
       "1            2  ...            0             1            0            0   \n",
       "2            2  ...            0             1            0            0   \n",
       "3            0  ...            0             0            0            0   \n",
       "4            1  ...            0             0            0            0   \n",
       "...        ...  ...          ...           ...          ...          ...   \n",
       "36496        2  ...            0             0            0            0   \n",
       "36497        2  ...            0             0            0            0   \n",
       "36498        2  ...            0             1            0            0   \n",
       "36499        2  ...            0             1            0            0   \n",
       "36500        2  ...            0             1            0            0   \n",
       "\n",
       "       rincome_miss  income86_miss  partyid_miss  polviews_miss  attblack  \\\n",
       "0                 0              0             0              0  0.005440   \n",
       "1                 1              0             0              0  0.004080   \n",
       "2                 0              0             0              0  0.002040   \n",
       "3                 1              0             0              0  0.004080   \n",
       "4                 0              0             0              0  0.004080   \n",
       "...             ...            ...           ...            ...       ...   \n",
       "36496             1              1             0              0  0.004080   \n",
       "36497             1              1             0              0  0.006120   \n",
       "36498             0              1             0              0  0.004080   \n",
       "36499             1              1             0              0  0.005021   \n",
       "36500             0              1             0              0  0.008160   \n",
       "\n",
       "       attblack_miss  \n",
       "0                  0  \n",
       "1                  0  \n",
       "2                  0  \n",
       "3                  0  \n",
       "4                  0  \n",
       "...              ...  \n",
       "36496              0  \n",
       "36497              0  \n",
       "36498              0  \n",
       "36499              1  \n",
       "36500              0  \n",
       "\n",
       "[36501 rows x 120 columns]"
      ],
      "text/html": "<div>\n<style scoped>\n    .dataframe tbody tr th:only-of-type {\n        vertical-align: middle;\n    }\n\n    .dataframe tbody tr th {\n        vertical-align: top;\n    }\n\n    .dataframe thead th {\n        text-align: right;\n    }\n</style>\n<table border=\"1\" class=\"dataframe\">\n  <thead>\n    <tr style=\"text-align: right;\">\n      <th></th>\n      <th>year</th>\n      <th>id</th>\n      <th>wrkstat</th>\n      <th>hrs1</th>\n      <th>hrs2</th>\n      <th>evwork</th>\n      <th>occ</th>\n      <th>prestige</th>\n      <th>wrkslf</th>\n      <th>wrkgovt</th>\n      <th>...</th>\n      <th>adults_miss</th>\n      <th>unrelat_miss</th>\n      <th>earnrs_miss</th>\n      <th>income_miss</th>\n      <th>rincome_miss</th>\n      <th>income86_miss</th>\n      <th>partyid_miss</th>\n      <th>polviews_miss</th>\n      <th>attblack</th>\n      <th>attblack_miss</th>\n    </tr>\n  </thead>\n  <tbody>\n    <tr>\n      <th>0</th>\n      <td>0</td>\n      <td>1</td>\n      <td>7</td>\n      <td>0.004845</td>\n      <td>0.005228</td>\n      <td>1</td>\n      <td>135</td>\n      <td>0.005641</td>\n      <td>2</td>\n      <td>2</td>\n      <td>...</td>\n      <td>0</td>\n      <td>0</td>\n      <td>0</td>\n      <td>0</td>\n      <td>0</td>\n      <td>0</td>\n      <td>0</td>\n      <td>0</td>\n      <td>0.005440</td>\n      <td>0</td>\n    </tr>\n    <tr>\n      <th>1</th>\n      <td>0</td>\n      <td>2</td>\n      <td>1</td>\n      <td>0.005055</td>\n      <td>0.005228</td>\n      <td>0</td>\n      <td>106</td>\n      <td>0.006538</td>\n      <td>2</td>\n      <td>2</td>\n      <td>...</td>\n      <td>0</td>\n      <td>1</td>\n      <td>0</td>\n      <td>0</td>\n      <td>1</td>\n      <td>0</td>\n      <td>0</td>\n      <td>0</td>\n      <td>0.004080</td>\n      <td>0</td>\n    </tr>\n    <tr>\n      <th>2</th>\n      <td>0</td>\n      <td>3</td>\n      <td>7</td>\n      <td>0.004845</td>\n      <td>0.005228</td>\n      <td>1</td>\n      <td>99</td>\n      <td>0.006538</td>\n      <td>2</td>\n      <td>2</td>\n      <td>...</td>\n      <td>0</td>\n      <td>1</td>\n      <td>0</td>\n      <td>0</td>\n      <td>0</td>\n      <td>0</td>\n      <td>0</td>\n      <td>0</td>\n      <td>0.002040</td>\n      <td>0</td>\n    </tr>\n    <tr>\n      <th>3</th>\n      <td>0</td>\n      <td>4</td>\n      <td>3</td>\n      <td>0.005055</td>\n      <td>0.005228</td>\n      <td>0</td>\n      <td>142</td>\n      <td>0.004615</td>\n      <td>2</td>\n      <td>0</td>\n      <td>...</td>\n      <td>0</td>\n      <td>0</td>\n      <td>0</td>\n      <td>0</td>\n      <td>1</td>\n      <td>0</td>\n      <td>0</td>\n      <td>0</td>\n      <td>0.004080</td>\n      <td>0</td>\n    </tr>\n    <tr>\n      <th>4</th>\n      <td>0</td>\n      <td>5</td>\n      <td>8</td>\n      <td>0.005055</td>\n      <td>0.005228</td>\n      <td>1</td>\n      <td>211</td>\n      <td>0.005171</td>\n      <td>2</td>\n      <td>1</td>\n      <td>...</td>\n      <td>0</td>\n      <td>0</td>\n      <td>0</td>\n      <td>0</td>\n      <td>0</td>\n      <td>0</td>\n      <td>0</td>\n      <td>0</td>\n      <td>0.004080</td>\n      <td>0</td>\n    </tr>\n    <tr>\n      <th>...</th>\n      <td>...</td>\n      <td>...</td>\n      <td>...</td>\n      <td>...</td>\n      <td>...</td>\n      <td>...</td>\n      <td>...</td>\n      <td>...</td>\n      <td>...</td>\n      <td>...</td>\n      <td>...</td>\n      <td>...</td>\n      <td>...</td>\n      <td>...</td>\n      <td>...</td>\n      <td>...</td>\n      <td>...</td>\n      <td>...</td>\n      <td>...</td>\n      <td>...</td>\n      <td>...</td>\n    </tr>\n    <tr>\n      <th>36496</th>\n      <td>15</td>\n      <td>2040</td>\n      <td>3</td>\n      <td>0.005055</td>\n      <td>0.005228</td>\n      <td>0</td>\n      <td>211</td>\n      <td>0.005171</td>\n      <td>2</td>\n      <td>2</td>\n      <td>...</td>\n      <td>0</td>\n      <td>0</td>\n      <td>0</td>\n      <td>0</td>\n      <td>1</td>\n      <td>1</td>\n      <td>0</td>\n      <td>0</td>\n      <td>0.004080</td>\n      <td>0</td>\n    </tr>\n    <tr>\n      <th>36497</th>\n      <td>15</td>\n      <td>2041</td>\n      <td>3</td>\n      <td>0.005055</td>\n      <td>0.005228</td>\n      <td>0</td>\n      <td>211</td>\n      <td>0.005171</td>\n      <td>2</td>\n      <td>2</td>\n      <td>...</td>\n      <td>0</td>\n      <td>0</td>\n      <td>0</td>\n      <td>0</td>\n      <td>1</td>\n      <td>1</td>\n      <td>0</td>\n      <td>0</td>\n      <td>0.006120</td>\n      <td>0</td>\n    </tr>\n    <tr>\n      <th>36498</th>\n      <td>15</td>\n      <td>2042</td>\n      <td>7</td>\n      <td>0.004845</td>\n      <td>0.005228</td>\n      <td>1</td>\n      <td>211</td>\n      <td>0.005171</td>\n      <td>2</td>\n      <td>2</td>\n      <td>...</td>\n      <td>0</td>\n      <td>1</td>\n      <td>0</td>\n      <td>0</td>\n      <td>0</td>\n      <td>1</td>\n      <td>0</td>\n      <td>0</td>\n      <td>0.004080</td>\n      <td>0</td>\n    </tr>\n    <tr>\n      <th>36499</th>\n      <td>15</td>\n      <td>2043</td>\n      <td>7</td>\n      <td>0.005935</td>\n      <td>0.005228</td>\n      <td>1</td>\n      <td>211</td>\n      <td>0.005171</td>\n      <td>2</td>\n      <td>2</td>\n      <td>...</td>\n      <td>0</td>\n      <td>1</td>\n      <td>0</td>\n      <td>0</td>\n      <td>1</td>\n      <td>1</td>\n      <td>0</td>\n      <td>0</td>\n      <td>0.005021</td>\n      <td>1</td>\n    </tr>\n    <tr>\n      <th>36500</th>\n      <td>15</td>\n      <td>2044</td>\n      <td>7</td>\n      <td>0.004845</td>\n      <td>0.005228</td>\n      <td>1</td>\n      <td>211</td>\n      <td>0.005171</td>\n      <td>2</td>\n      <td>2</td>\n      <td>...</td>\n      <td>0</td>\n      <td>1</td>\n      <td>0</td>\n      <td>0</td>\n      <td>0</td>\n      <td>1</td>\n      <td>0</td>\n      <td>0</td>\n      <td>0.008160</td>\n      <td>0</td>\n    </tr>\n  </tbody>\n</table>\n<p>36501 rows × 120 columns</p>\n</div>"
     },
     "metadata": {},
     "execution_count": 16
    }
   ],
   "source": [
    "welfare = pd.read_csv(\"Data/welfare_clean.csv\", low_memory=False)\n",
    "treatments = welfare['w']\n",
    "labels = welfare['y']\n",
    "welfare.drop(columns=['w', 'y'], inplace=True)\n",
    "welfare"
   ]
  },
  {
   "cell_type": "markdown",
   "metadata": {},
   "source": [
    "## DGP, Estimation, and Evaluation functions"
   ]
  },
  {
   "cell_type": "code",
   "execution_count": 152,
   "metadata": {
    "tags": []
   },
   "outputs": [],
   "source": [
    "def dgp(welfare, effect_type=\"heterogeneous\", effect_homogeneous=10, effect_heterogeneous=2,\n",
    "        treatment_type=\"binary\", treatment_probability=0.5, heterogeneous_select=4, overlap=True,\n",
    "        overlap_percent=0.5, order=3, linearity=\"med\", N=5000, treatment_cutoff_val=0.0, \n",
    "        compute_cate=False, cate_feature=\"race\", nBins=5):    \n",
    "    \n",
    "    featureNames = list(welfare.columns)\n",
    "\n",
    "    # Define non-confounders\n",
    "    importantFeatureNames = ['wrkstat', 'race', 'year', 'hrs1', 'income', 'occ80', 'id', 'educ'] # top 8 important features based on Shapley visualization from \n",
    "    importantFeatureIndices = []\n",
    "    for name in importantFeatureNames:\n",
    "        importantFeatureIndices.append(featureNames.index(name)) \n",
    "\n",
    "    # Error terms\n",
    "    error = np.random.normal(size=(N,1))\n",
    "\n",
    "    # Data generation\n",
    "    cov = welfare.cov()\n",
    "    means = welfare.mean(axis=0)\n",
    "    X = np.random.multivariate_normal(means.values, cov, size=N, check_valid='warn', tol=1e-8)\n",
    "    \n",
    "    # Linearity specification\n",
    "    if linearity != 'full':\n",
    "        select = 0 # select n most important features for interactions and polynomials\n",
    "        poly = PolynomialFeatures(degree=order, interaction_only=False, include_bias=False)\n",
    "\n",
    "        if linearity == \"high\": \n",
    "            select = 2\n",
    "        elif linearity == \"med\": \n",
    "            select = 4\n",
    "        elif linearity == \"low\": \n",
    "            select = 8\n",
    "        else: # if some typo, assume baseline of high\n",
    "            select = 2\n",
    "\n",
    "        # Interaction term calculation for outcome Y\n",
    "        poly.fit(X[:, importantFeatureIndices[:select]])\n",
    "        fullData = poly.transform(X[:, importantFeatureIndices[:select]])\n",
    "        fullNames = poly.get_feature_names(input_features=importantFeatureNames[:select])\n",
    "        higherData = fullData[:, -(fullData.shape[1] - select):] # select only higher order\n",
    "        higherNames = fullNames[-(len(fullNames) - select):]\n",
    "\n",
    "        X = np.append(X, higherData, axis=1) \n",
    "        featureNames.extend(list(higherNames))\n",
    "\n",
    "    # Treatment selection\n",
    "    if treatment_type == \"binary\":\n",
    "        # randomly assigned treatments with propensity treatment_probability\n",
    "        treatments = np.random.choice([0, 1], size=N, p=[1 - treatment_probability, treatment_probability]).reshape((-1, 1))\n",
    "        if not overlap:\n",
    "            forced = random.sample(list(np.arange(treatments.shape[0])), int(treatments.shape[0] * overlap_percent))\n",
    "            treatments[forced] = 0\n",
    "        treated = treatments > 0\n",
    "\n",
    "        # generate counterfactual treatment indicator vector\n",
    "        c_treatments = deepcopy(treatments)\n",
    "        c_treatments[treatments == 0] = 1\n",
    "        c_treatments[treatments == 1] = 0\n",
    "    else:\n",
    "        low = 0\n",
    "        high = 1\n",
    "        treatments = np.random.uniform(low, high, size=(N, 1))\n",
    "        if not overlap:\n",
    "            forced = random.sample(list(np.arange(treatments.shape[0])), int(treatments.shape[0] * overlap_percent))\n",
    "            treatments[forced] = 0\n",
    "        \n",
    "        # set all treatment values close to 0 to 0\n",
    "        for idx, val in enumerate(treatments):\n",
    "            if math.isclose(val, 0, abs_tol=0.5):\n",
    "                treatments[idx] = 0\n",
    "\n",
    "        treated = treatments > treatment_cutoff_val\n",
    "\n",
    "        # to-do: counterfactual treatment vector\n",
    "        c_treatments = deepcopy(treatments)\n",
    "        c_treatments[treatments > treatment_cutoff_val] = 0\n",
    "        c_treatments[treatments == 0] = (low + high)/2 # treatments.mean() # set to mean treatment value\n",
    "        \n",
    "\n",
    "    # Treatment effect calculation\n",
    "    if effect_type == \"homogeneous\":\n",
    "\n",
    "        T = treatments*effect_homogeneous\n",
    "        CT = c_treatments*effect_homogeneous\n",
    "\n",
    "    else: \n",
    "        # Interaction term calculation for HTE\n",
    "        poly = PolynomialFeatures(degree=order, interaction_only=False, include_bias=False)\n",
    "        poly.fit(X[:, importantFeatureIndices[:heterogeneous_select]])\n",
    "        fullData = poly.transform(X[:, importantFeatureIndices[:heterogeneous_select]])\n",
    "        higherData = fullData[:, -(fullData.shape[1] - heterogeneous_select):] # select only higher order\n",
    "\n",
    "        # HTE = 1 + effect * (sum of first heterogeneous_select important variables + higher order interactions of heterogeneous_select important variables)\n",
    "        heterogeneousIndices = importantFeatureIndices[:heterogeneous_select]\n",
    "\n",
    "        T = 1 + (effect_heterogeneous*(X[:, heterogeneousIndices].sum(axis=1) + higherData.sum(axis=1)))*treatments.ravel()\n",
    "        T = T.reshape(-1, 1)\n",
    "        T[~treated] = np.zeros((~treated).sum())\n",
    "        \n",
    "        # counterfactual effect\n",
    "        CT = 1 + (effect_heterogeneous*(X[:, heterogeneousIndices].sum(axis=1) + higherData.sum(axis=1)))*c_treatments.ravel()\n",
    "        CT = CT.reshape(-1, 1)\n",
    "        CT[treated] = np.zeros((treated).sum()) # everyone that was treated goes to untreated in counterfactual\n",
    "\n",
    "    # Coefficients calculation\n",
    "    betas = np.random.normal(size=X.shape[1]).reshape(-1,1)\n",
    "    # draw from diff distribution for \"important\" features\n",
    "    if_coef_mean = 7 # important features mean \n",
    "    if_coef_var = 1 # ... var\n",
    "    betas[importantFeatureIndices] = np.random.normal(if_coef_mean, if_coef_var, size=len(importantFeatureIndices)).reshape(-1, 1)\n",
    "\n",
    "    # ATE calculation\n",
    "    \n",
    "    # Outcome calculation\n",
    "    y = T + X@betas + error\n",
    "    cy = CT + X@betas + error\n",
    "    \n",
    "    empirical_treated = y[treated] - cy[treated] # the treated (in y)\n",
    "    empirical_untreated = cy[~treated] - y[~treated] # the untreated\n",
    "    ate = (empirical_treated.mean() + empirical_untreated.mean())/2\n",
    "\n",
    "    # CATE calculation\n",
    "    if compute_cate:\n",
    "        if cate_feature == 'race':\n",
    "            cateCol = importantFeatureIndices[1] # index of 'race' covariate\n",
    "        else:\n",
    "            cateCol = importantFeatureIndices[7] # index of 'educ' covariate\n",
    "        \n",
    "        # Creating the bins\n",
    "        evenGroups = np.array_split(np.sort(X[:, raceCol]), nBins)\n",
    "        bins = []\n",
    "        pdX = pd.DataFrame(X)\n",
    "        pdX[raceCol]\n",
    "\n",
    "        prevCeil = -10000\n",
    "        for i in range(nBins):\n",
    "            floor = evenGroups[i][0] \n",
    "            ceil = evenGroups[i][-1]\n",
    "            if floor == prevCeil: # in case the floor of current group is equal to ceiling of last group, don't want to duplicate samples\n",
    "                bins.append(pdX.loc[(floor < pdX[raceCol]) & (pdX[raceCol] <= ceil)].to_numpy())\n",
    "            else:\n",
    "                bins.append(pdX.loc[(floor <= pdX[raceCol]) & (pdX[raceCol] <= ceil)].to_numpy())\n",
    "            prevCeil = ceil\n",
    "        \n",
    "        cates = []\n",
    "        for i in range(nBins):\n",
    "            indices = [] # indices to grab from y and cy\n",
    "            for j in range(bins[i].shape[0]):\n",
    "                indices.append(np.where((X == bins[i][j]).all(axis=1))[0][0])\n",
    "            \n",
    "            yBin = y[indices]\n",
    "            cyBin = cy[indices]\n",
    "            treatedBin = treated[indices]\n",
    "            empirical_treated_bin = yBin[treatedBin] - cyBin[treatedBin] # the treated (in y)\n",
    "            empirical_untreated_bin = cyBin[~treatedBin] - yBin[~treatedBin] # the untreated\n",
    "            cates.append((empirical_treated_bin.mean() + empirical_untreated_bin.mean())/2)\n",
    "\n",
    "        return y, X, betas, featureNames, treatments, cy, ate, treated, bins, cates\n",
    "    else:\n",
    "        return y, X, betas, featureNames, treatments, cy, ate, treated\n",
    "    \n",
    "\n",
    "def estimate_cf(y, X, treatments, treated, cy, test_size=0.2, criterion='het', cv=5, discrete_treatment=True, n_estimators=1000):\n",
    "    # split data into train and test sets \n",
    "    X_train, X_test, Y_train, Y_test, T_train, T_test, _, treated_test, _, CY_test = train_test_split(X, y, treatments, treated, cy, test_size=test_size)\n",
    "        \n",
    "    # specify hyperparams of model\n",
    "    est = CausalForestDML(criterion=criterion, \n",
    "                            n_estimators=n_estimators,       \n",
    "                            max_samples=0.5,\n",
    "                            discrete_treatment=discrete_treatment,\n",
    "                            honest=True,\n",
    "                            inference=True,\n",
    "                            cv=cv)\n",
    "    # fit model\n",
    "    est.fit(Y_train, T_train, X=X_train, W=None)\n",
    "        \n",
    "    return est, X_test, Y_test, treated_test, CY_test"
   ]
  },
  {
   "cell_type": "code",
   "execution_count": 18,
   "metadata": {},
   "outputs": [],
   "source": [
    "# compute evaluation stats over K simulations\n",
    "def evalStats(estimators, trueATES, evalSets):\n",
    "    K = len(estimators)\n",
    "\n",
    "    lbs = np.zeros(K)\n",
    "    ubs = np.zeros(K)\n",
    "    ates = np.zeros(K)\n",
    "    \n",
    "    totalBias = 0\n",
    "    totalRMSE = 0\n",
    "    totalCoverage = 0\n",
    "    totalInterval = 0\n",
    "\n",
    "    for i in range(K):\n",
    "        estimateATE = estimators[i].ate(evalSets[i])[0]\n",
    "        lb, ub = estimators[i].ate_interval(evalSets[i], alpha=0.05)\n",
    "        lbs[i] = lb\n",
    "        ubs[i] = ub\n",
    "        ates[i] = estimateATE\n",
    "        \n",
    "        bias = abs(trueATES[i] - estimateATE)\n",
    "        totalBias += bias\n",
    "        \n",
    "        rmse = bias**2\n",
    "        totalRMSE += rmse\n",
    "\n",
    "        coverage = 1 if (trueATES[i] >= lb and trueATES[i] <= ub) else 0\n",
    "  \n",
    "        totalCoverage += coverage\n",
    "\n",
    "        interval = ub - lb\n",
    "        totalInterval += interval\n",
    "    \n",
    "    return totalBias / K, (totalRMSE / K)**0.5, totalCoverage / K, totalInterval / K, lbs, ubs, ates"
   ]
  },
  {
   "source": [
    "## Evaluating ATEs under different DGP settings"
   ],
   "cell_type": "markdown",
   "metadata": {}
  },
  {
   "cell_type": "markdown",
   "metadata": {},
   "source": [
    "### (1) Sample Size"
   ]
  },
  {
   "cell_type": "code",
   "execution_count": 64,
   "metadata": {},
   "outputs": [
    {
     "data": {
      "application/vnd.jupyter.widget-view+json": {
       "model_id": "be84e7e90bc74601b9653f8c4c7f4749",
       "version_major": 2,
       "version_minor": 0
      },
      "text/plain": [
       "HBox(children=(FloatProgress(value=0.0, max=50.0), HTML(value='')))"
      ]
     },
     "metadata": {},
     "output_type": "display_data"
    },
    {
     "name": "stdout",
     "output_type": "stream",
     "text": [
      "\n"
     ]
    },
    {
     "data": {
      "application/vnd.jupyter.widget-view+json": {
       "model_id": "7bf43088378a425ca62f2f31896f0fdd",
       "version_major": 2,
       "version_minor": 0
      },
      "text/plain": [
       "HBox(children=(FloatProgress(value=0.0, max=50.0), HTML(value='')))"
      ]
     },
     "metadata": {},
     "output_type": "display_data"
    },
    {
     "name": "stdout",
     "output_type": "stream",
     "text": [
      "\n"
     ]
    },
    {
     "data": {
      "application/vnd.jupyter.widget-view+json": {
       "model_id": "6f9bc9b05e1e4c48bd30d021ddb1c463",
       "version_major": 2,
       "version_minor": 0
      },
      "text/plain": [
       "HBox(children=(FloatProgress(value=0.0, max=50.0), HTML(value='')))"
      ]
     },
     "metadata": {},
     "output_type": "display_data"
    },
    {
     "name": "stdout",
     "output_type": "stream",
     "text": [
      "\n"
     ]
    }
   ],
   "source": [
    "K = 50\n",
    "Ns = [1000, 5000, 10000]\n",
    "\n",
    "biasNs = np.zeros(len(Ns))\n",
    "rmseNs = np.zeros(len(Ns))\n",
    "coverageNs = np.zeros(len(Ns))\n",
    "intervalNs = np.zeros(len(Ns))\n",
    "lbsNs = np.zeros((len(Ns), K))\n",
    "ubsNs = np.zeros((len(Ns), K))\n",
    "atesNs = np.zeros((len(Ns), K))\n",
    "true_atesNs = np.zeros((len(Ns), K))\n",
    "\n",
    "for idx, N in enumerate(Ns):\n",
    "    estNs = []\n",
    "    trueATENs = []\n",
    "    evalSetNs = []\n",
    "    for i in tqdm(range(K)):\n",
    "        y, X, trueBetas, featureNames, treatments, cy, ate, treated = dgp(welfare, N=N)\n",
    "        \n",
    "        est, X_test, Y_test, treated_test, CY_test = estimate_cf(y, X, treatments, treated, cy)\n",
    "\n",
    "        # Calculate test set ATE\n",
    "        tmp = Y_test[treated_test] - CY_test[treated_test]\n",
    "        tmp1 = CY_test[~treated_test] - Y_test[~treated_test]\n",
    "        test_ate = (tmp.mean() + tmp1.mean())/2\n",
    "        ate = test_ate\n",
    "        \n",
    "        estNs.append(est)\n",
    "        trueATENs.append(ate)\n",
    "        evalSetNs.append(X_test)\n",
    "\n",
    "    bias, rmse, coverage, interval, lbs, ubs, ates = evalStats(estNs, trueATENs, evalSetNs)\n",
    "    \n",
    "    biasNs[idx] = bias\n",
    "    rmseNs[idx] = rmse\n",
    "    coverageNs[idx] = coverage\n",
    "    intervalNs[idx] = interval\n",
    "    lbsNs[idx, :] = lbs\n",
    "    ubsNs[idx, :] = ubs\n",
    "    atesNs[idx, :] = ates\n",
    "    true_atesNs[idx, :] = trueATENs"
   ]
  },
  {
   "cell_type": "code",
   "execution_count": 65,
   "metadata": {},
   "outputs": [
    {
     "data": {
      "text/plain": [
       "['Results/atesNs_50.pkl']"
      ]
     },
     "execution_count": 65,
     "metadata": {},
     "output_type": "execute_result"
    }
   ],
   "source": [
    "joblib.dump(biasNs, 'Results/biasNs_{}.pkl'.format(K))\n",
    "joblib.dump(rmseNs, 'Results/rmseNs_{}.pkl'.format(K))\n",
    "joblib.dump(coverageNs, 'Results/coverageNs_{}.pkl'.format(K))\n",
    "joblib.dump(intervalNs, 'Results/intervalNs_{}.pkl'.format(K))\n",
    "joblib.dump(lbsNs, 'Results/lbsNs_{}.pkl'.format(K))\n",
    "joblib.dump(ubsNs, 'Results/ubsNs_{}.pkl'.format(K))\n",
    "joblib.dump(atesNs, 'Results/atesNs_{}.pkl'.format(K))\n",
    "joblib.dump(true_atesNs, 'Results/true_atesNs_{}.pkl'.format(K))"
   ]
  },
  {
   "cell_type": "code",
   "execution_count": 141,
   "metadata": {},
   "outputs": [],
   "source": [
    "K = 50\n",
    "biasNs = joblib.load('Results/biasNs_{}.pkl'.format(K))\n",
    "rmseNs = joblib.load('Results/rmseNs_{}.pkl'.format(K))\n",
    "coverageNs = joblib.load('Results/coverageNs_{}.pkl'.format(K))\n",
    "intervalNs = joblib.load('Results/intervalNs_{}.pkl'.format(K))\n",
    "lbsNs = joblib.load('Results/lbsNs_{}.pkl'.format(K))\n",
    "ubsNs = joblib.load('Results/ubsNs_{}.pkl'.format(K))\n",
    "atesNs = joblib.load('Results/atesNs_{}.pkl'.format(K))\n",
    "true_atesNs = joblib.load('Results/true_atesNs_{}'.format(K))"
   ]
  },
  {
   "cell_type": "code",
   "execution_count": 14,
   "metadata": {},
   "outputs": [
    {
     "output_type": "display_data",
     "data": {
      "text/plain": "<Figure size 1152x288 with 4 Axes>",
      "image/svg+xml": "<?xml version=\"1.0\" encoding=\"utf-8\" standalone=\"no\"?>\n<!DOCTYPE svg PUBLIC \"-//W3C//DTD SVG 1.1//EN\"\n  \"http://www.w3.org/Graphics/SVG/1.1/DTD/svg11.dtd\">\n<!-- Created with matplotlib (https://matplotlib.org/) -->\n<svg height=\"265.99625pt\" version=\"1.1\" viewBox=\"0 0 1106.793234 265.99625\" width=\"1106.793234pt\" xmlns=\"http://www.w3.org/2000/svg\" xmlns:xlink=\"http://www.w3.org/1999/xlink\">\n <defs>\n  <style type=\"text/css\">\n*{stroke-linecap:butt;stroke-linejoin:round;}\n  </style>\n </defs>\n <g id=\"figure_1\">\n  <g id=\"patch_1\">\n   <path d=\"M 0 265.99625 \nL 1106.793234 265.99625 \nL 1106.793234 0 \nL 0 0 \nz\n\" style=\"fill:none;\"/>\n  </g>\n  <g id=\"axes_1\">\n   <g id=\"patch_2\">\n    <path d=\"M 64.885938 228.44 \nL 252.120494 228.44 \nL 252.120494 34.174895 \nL 64.885938 34.174895 \nz\n\" style=\"fill:#ffffff;\"/>\n   </g>\n   <g id=\"PathCollection_1\">\n    <defs>\n     <path d=\"M 0 3 \nC 0.795609 3 1.55874 2.683901 2.12132 2.12132 \nC 2.683901 1.55874 3 0.795609 3 0 \nC 3 -0.795609 2.683901 -1.55874 2.12132 -2.12132 \nC 1.55874 -2.683901 0.795609 -3 0 -3 \nC -0.795609 -3 -1.55874 -2.683901 -2.12132 -2.12132 \nC -2.683901 -1.55874 -3 -0.795609 -3 0 \nC -3 0.795609 -2.683901 1.55874 -2.12132 2.12132 \nC -1.55874 2.683901 -0.795609 3 0 3 \nz\n\" id=\"C0_0_5a1286d28b\"/>\n    </defs>\n    <g clip-path=\"url(#p740e08d380)\">\n     <use style=\"fill:#ff0000;stroke:#ff0000;\" x=\"74.819448\" xlink:href=\"#C0_0_5a1286d28b\" y=\"157.889455\"/>\n    </g>\n    <g clip-path=\"url(#p740e08d380)\">\n     <use style=\"fill:#00ff00;stroke:#00ff00;\" x=\"158.503216\" xlink:href=\"#C0_0_5a1286d28b\" y=\"104.72544\"/>\n    </g>\n    <g clip-path=\"url(#p740e08d380)\">\n     <use style=\"fill:#0000ff;stroke:#0000ff;\" x=\"242.186984\" xlink:href=\"#C0_0_5a1286d28b\" y=\"138.385344\"/>\n    </g>\n   </g>\n   <g id=\"matplotlib.axis_1\">\n    <g id=\"xtick_1\">\n     <g id=\"line2d_1\">\n      <path clip-path=\"url(#p740e08d380)\" d=\"M 74.819448 228.44 \nL 74.819448 34.174895 \n\" style=\"fill:none;stroke:#b0b0b0;stroke-linecap:square;stroke-width:0.8;\"/>\n     </g>\n     <g id=\"line2d_2\">\n      <defs>\n       <path d=\"M 0 0 \nL 0 3.5 \n\" id=\"mf10aed8e92\" style=\"stroke:#000000;stroke-width:0.8;\"/>\n      </defs>\n      <g>\n       <use style=\"stroke:#000000;stroke-width:0.8;\" x=\"74.819448\" xlink:href=\"#mf10aed8e92\" y=\"228.44\"/>\n      </g>\n     </g>\n     <g id=\"text_1\">\n      <!-- 1000 -->\n      <defs>\n       <path d=\"M 12.40625 8.296875 \nL 28.515625 8.296875 \nL 28.515625 63.921875 \nL 10.984375 60.40625 \nL 10.984375 69.390625 \nL 28.421875 72.90625 \nL 38.28125 72.90625 \nL 38.28125 8.296875 \nL 54.390625 8.296875 \nL 54.390625 0 \nL 12.40625 0 \nz\n\" id=\"DejaVuSans-49\"/>\n       <path d=\"M 31.78125 66.40625 \nQ 24.171875 66.40625 20.328125 58.90625 \nQ 16.5 51.421875 16.5 36.375 \nQ 16.5 21.390625 20.328125 13.890625 \nQ 24.171875 6.390625 31.78125 6.390625 \nQ 39.453125 6.390625 43.28125 13.890625 \nQ 47.125 21.390625 47.125 36.375 \nQ 47.125 51.421875 43.28125 58.90625 \nQ 39.453125 66.40625 31.78125 66.40625 \nz\nM 31.78125 74.21875 \nQ 44.046875 74.21875 50.515625 64.515625 \nQ 56.984375 54.828125 56.984375 36.375 \nQ 56.984375 17.96875 50.515625 8.265625 \nQ 44.046875 -1.421875 31.78125 -1.421875 \nQ 19.53125 -1.421875 13.0625 8.265625 \nQ 6.59375 17.96875 6.59375 36.375 \nQ 6.59375 54.828125 13.0625 64.515625 \nQ 19.53125 74.21875 31.78125 74.21875 \nz\n\" id=\"DejaVuSans-48\"/>\n      </defs>\n      <g transform=\"translate(62.094448 243.038437)scale(0.1 -0.1)\">\n       <use xlink:href=\"#DejaVuSans-49\"/>\n       <use x=\"63.623047\" xlink:href=\"#DejaVuSans-48\"/>\n       <use x=\"127.246094\" xlink:href=\"#DejaVuSans-48\"/>\n       <use x=\"190.869141\" xlink:href=\"#DejaVuSans-48\"/>\n      </g>\n     </g>\n    </g>\n    <g id=\"xtick_2\">\n     <g id=\"line2d_3\">\n      <path clip-path=\"url(#p740e08d380)\" d=\"M 158.503216 228.44 \nL 158.503216 34.174895 \n\" style=\"fill:none;stroke:#b0b0b0;stroke-linecap:square;stroke-width:0.8;\"/>\n     </g>\n     <g id=\"line2d_4\">\n      <g>\n       <use style=\"stroke:#000000;stroke-width:0.8;\" x=\"158.503216\" xlink:href=\"#mf10aed8e92\" y=\"228.44\"/>\n      </g>\n     </g>\n     <g id=\"text_2\">\n      <!-- 5000 -->\n      <defs>\n       <path d=\"M 10.796875 72.90625 \nL 49.515625 72.90625 \nL 49.515625 64.59375 \nL 19.828125 64.59375 \nL 19.828125 46.734375 \nQ 21.96875 47.46875 24.109375 47.828125 \nQ 26.265625 48.1875 28.421875 48.1875 \nQ 40.625 48.1875 47.75 41.5 \nQ 54.890625 34.8125 54.890625 23.390625 \nQ 54.890625 11.625 47.5625 5.09375 \nQ 40.234375 -1.421875 26.90625 -1.421875 \nQ 22.3125 -1.421875 17.546875 -0.640625 \nQ 12.796875 0.140625 7.71875 1.703125 \nL 7.71875 11.625 \nQ 12.109375 9.234375 16.796875 8.0625 \nQ 21.484375 6.890625 26.703125 6.890625 \nQ 35.15625 6.890625 40.078125 11.328125 \nQ 45.015625 15.765625 45.015625 23.390625 \nQ 45.015625 31 40.078125 35.4375 \nQ 35.15625 39.890625 26.703125 39.890625 \nQ 22.75 39.890625 18.8125 39.015625 \nQ 14.890625 38.140625 10.796875 36.28125 \nz\n\" id=\"DejaVuSans-53\"/>\n      </defs>\n      <g transform=\"translate(145.778216 243.038437)scale(0.1 -0.1)\">\n       <use xlink:href=\"#DejaVuSans-53\"/>\n       <use x=\"63.623047\" xlink:href=\"#DejaVuSans-48\"/>\n       <use x=\"127.246094\" xlink:href=\"#DejaVuSans-48\"/>\n       <use x=\"190.869141\" xlink:href=\"#DejaVuSans-48\"/>\n      </g>\n     </g>\n    </g>\n    <g id=\"xtick_3\">\n     <g id=\"line2d_5\">\n      <path clip-path=\"url(#p740e08d380)\" d=\"M 242.186984 228.44 \nL 242.186984 34.174895 \n\" style=\"fill:none;stroke:#b0b0b0;stroke-linecap:square;stroke-width:0.8;\"/>\n     </g>\n     <g id=\"line2d_6\">\n      <g>\n       <use style=\"stroke:#000000;stroke-width:0.8;\" x=\"242.186984\" xlink:href=\"#mf10aed8e92\" y=\"228.44\"/>\n      </g>\n     </g>\n     <g id=\"text_3\">\n      <!-- 10000 -->\n      <g transform=\"translate(226.280734 243.038437)scale(0.1 -0.1)\">\n       <use xlink:href=\"#DejaVuSans-49\"/>\n       <use x=\"63.623047\" xlink:href=\"#DejaVuSans-48\"/>\n       <use x=\"127.246094\" xlink:href=\"#DejaVuSans-48\"/>\n       <use x=\"190.869141\" xlink:href=\"#DejaVuSans-48\"/>\n       <use x=\"254.492188\" xlink:href=\"#DejaVuSans-48\"/>\n      </g>\n     </g>\n    </g>\n    <g id=\"text_4\">\n     <!-- N -->\n     <defs>\n      <path d=\"M 9.8125 72.90625 \nL 23.09375 72.90625 \nL 55.421875 11.921875 \nL 55.421875 72.90625 \nL 64.984375 72.90625 \nL 64.984375 0 \nL 51.703125 0 \nL 19.390625 60.984375 \nL 19.390625 0 \nL 9.8125 0 \nz\n\" id=\"DejaVuSans-78\"/>\n     </defs>\n     <g transform=\"translate(154.762591 256.716562)scale(0.1 -0.1)\">\n      <use xlink:href=\"#DejaVuSans-78\"/>\n     </g>\n    </g>\n   </g>\n   <g id=\"matplotlib.axis_2\">\n    <g id=\"ytick_1\">\n     <g id=\"line2d_7\">\n      <path clip-path=\"url(#p740e08d380)\" d=\"M 64.885938 225.971194 \nL 252.120494 225.971194 \n\" style=\"fill:none;stroke:#b0b0b0;stroke-linecap:square;stroke-width:0.8;\"/>\n     </g>\n     <g id=\"line2d_8\">\n      <defs>\n       <path d=\"M 0 0 \nL -3.5 0 \n\" id=\"m3e7622999d\" style=\"stroke:#000000;stroke-width:0.8;\"/>\n      </defs>\n      <g>\n       <use style=\"stroke:#000000;stroke-width:0.8;\" x=\"64.885938\" xlink:href=\"#m3e7622999d\" y=\"225.971194\"/>\n      </g>\n     </g>\n     <g id=\"text_5\">\n      <!-- −0.015 -->\n      <defs>\n       <path d=\"M 10.59375 35.5 \nL 73.1875 35.5 \nL 73.1875 27.203125 \nL 10.59375 27.203125 \nz\n\" id=\"DejaVuSans-8722\"/>\n       <path d=\"M 10.6875 12.40625 \nL 21 12.40625 \nL 21 0 \nL 10.6875 0 \nz\n\" id=\"DejaVuSans-46\"/>\n      </defs>\n      <g transform=\"translate(20.878125 229.770413)scale(0.1 -0.1)\">\n       <use xlink:href=\"#DejaVuSans-8722\"/>\n       <use x=\"83.789062\" xlink:href=\"#DejaVuSans-48\"/>\n       <use x=\"147.412109\" xlink:href=\"#DejaVuSans-46\"/>\n       <use x=\"179.199219\" xlink:href=\"#DejaVuSans-48\"/>\n       <use x=\"242.822266\" xlink:href=\"#DejaVuSans-49\"/>\n       <use x=\"306.445312\" xlink:href=\"#DejaVuSans-53\"/>\n      </g>\n     </g>\n    </g>\n    <g id=\"ytick_2\">\n     <g id=\"line2d_9\">\n      <path clip-path=\"url(#p740e08d380)\" d=\"M 64.885938 203.603753 \nL 252.120494 203.603753 \n\" style=\"fill:none;stroke:#b0b0b0;stroke-linecap:square;stroke-width:0.8;\"/>\n     </g>\n     <g id=\"line2d_10\">\n      <g>\n       <use style=\"stroke:#000000;stroke-width:0.8;\" x=\"64.885938\" xlink:href=\"#m3e7622999d\" y=\"203.603753\"/>\n      </g>\n     </g>\n     <g id=\"text_6\">\n      <!-- −0.010 -->\n      <g transform=\"translate(20.878125 207.402972)scale(0.1 -0.1)\">\n       <use xlink:href=\"#DejaVuSans-8722\"/>\n       <use x=\"83.789062\" xlink:href=\"#DejaVuSans-48\"/>\n       <use x=\"147.412109\" xlink:href=\"#DejaVuSans-46\"/>\n       <use x=\"179.199219\" xlink:href=\"#DejaVuSans-48\"/>\n       <use x=\"242.822266\" xlink:href=\"#DejaVuSans-49\"/>\n       <use x=\"306.445312\" xlink:href=\"#DejaVuSans-48\"/>\n      </g>\n     </g>\n    </g>\n    <g id=\"ytick_3\">\n     <g id=\"line2d_11\">\n      <path clip-path=\"url(#p740e08d380)\" d=\"M 64.885938 181.236311 \nL 252.120494 181.236311 \n\" style=\"fill:none;stroke:#b0b0b0;stroke-linecap:square;stroke-width:0.8;\"/>\n     </g>\n     <g id=\"line2d_12\">\n      <g>\n       <use style=\"stroke:#000000;stroke-width:0.8;\" x=\"64.885938\" xlink:href=\"#m3e7622999d\" y=\"181.236311\"/>\n      </g>\n     </g>\n     <g id=\"text_7\">\n      <!-- −0.005 -->\n      <g transform=\"translate(20.878125 185.03553)scale(0.1 -0.1)\">\n       <use xlink:href=\"#DejaVuSans-8722\"/>\n       <use x=\"83.789062\" xlink:href=\"#DejaVuSans-48\"/>\n       <use x=\"147.412109\" xlink:href=\"#DejaVuSans-46\"/>\n       <use x=\"179.199219\" xlink:href=\"#DejaVuSans-48\"/>\n       <use x=\"242.822266\" xlink:href=\"#DejaVuSans-48\"/>\n       <use x=\"306.445312\" xlink:href=\"#DejaVuSans-53\"/>\n      </g>\n     </g>\n    </g>\n    <g id=\"ytick_4\">\n     <g id=\"line2d_13\">\n      <path clip-path=\"url(#p740e08d380)\" d=\"M 64.885938 158.86887 \nL 252.120494 158.86887 \n\" style=\"fill:none;stroke:#b0b0b0;stroke-linecap:square;stroke-width:0.8;\"/>\n     </g>\n     <g id=\"line2d_14\">\n      <g>\n       <use style=\"stroke:#000000;stroke-width:0.8;\" x=\"64.885938\" xlink:href=\"#m3e7622999d\" y=\"158.86887\"/>\n      </g>\n     </g>\n     <g id=\"text_8\">\n      <!-- 0.000 -->\n      <g transform=\"translate(29.257813 162.668089)scale(0.1 -0.1)\">\n       <use xlink:href=\"#DejaVuSans-48\"/>\n       <use x=\"63.623047\" xlink:href=\"#DejaVuSans-46\"/>\n       <use x=\"95.410156\" xlink:href=\"#DejaVuSans-48\"/>\n       <use x=\"159.033203\" xlink:href=\"#DejaVuSans-48\"/>\n       <use x=\"222.65625\" xlink:href=\"#DejaVuSans-48\"/>\n      </g>\n     </g>\n    </g>\n    <g id=\"ytick_5\">\n     <g id=\"line2d_15\">\n      <path clip-path=\"url(#p740e08d380)\" d=\"M 64.885938 136.501429 \nL 252.120494 136.501429 \n\" style=\"fill:none;stroke:#b0b0b0;stroke-linecap:square;stroke-width:0.8;\"/>\n     </g>\n     <g id=\"line2d_16\">\n      <g>\n       <use style=\"stroke:#000000;stroke-width:0.8;\" x=\"64.885938\" xlink:href=\"#m3e7622999d\" y=\"136.501429\"/>\n      </g>\n     </g>\n     <g id=\"text_9\">\n      <!-- 0.005 -->\n      <g transform=\"translate(29.257813 140.300647)scale(0.1 -0.1)\">\n       <use xlink:href=\"#DejaVuSans-48\"/>\n       <use x=\"63.623047\" xlink:href=\"#DejaVuSans-46\"/>\n       <use x=\"95.410156\" xlink:href=\"#DejaVuSans-48\"/>\n       <use x=\"159.033203\" xlink:href=\"#DejaVuSans-48\"/>\n       <use x=\"222.65625\" xlink:href=\"#DejaVuSans-53\"/>\n      </g>\n     </g>\n    </g>\n    <g id=\"ytick_6\">\n     <g id=\"line2d_17\">\n      <path clip-path=\"url(#p740e08d380)\" d=\"M 64.885938 114.133987 \nL 252.120494 114.133987 \n\" style=\"fill:none;stroke:#b0b0b0;stroke-linecap:square;stroke-width:0.8;\"/>\n     </g>\n     <g id=\"line2d_18\">\n      <g>\n       <use style=\"stroke:#000000;stroke-width:0.8;\" x=\"64.885938\" xlink:href=\"#m3e7622999d\" y=\"114.133987\"/>\n      </g>\n     </g>\n     <g id=\"text_10\">\n      <!-- 0.010 -->\n      <g transform=\"translate(29.257813 117.933206)scale(0.1 -0.1)\">\n       <use xlink:href=\"#DejaVuSans-48\"/>\n       <use x=\"63.623047\" xlink:href=\"#DejaVuSans-46\"/>\n       <use x=\"95.410156\" xlink:href=\"#DejaVuSans-48\"/>\n       <use x=\"159.033203\" xlink:href=\"#DejaVuSans-49\"/>\n       <use x=\"222.65625\" xlink:href=\"#DejaVuSans-48\"/>\n      </g>\n     </g>\n    </g>\n    <g id=\"ytick_7\">\n     <g id=\"line2d_19\">\n      <path clip-path=\"url(#p740e08d380)\" d=\"M 64.885938 91.766546 \nL 252.120494 91.766546 \n\" style=\"fill:none;stroke:#b0b0b0;stroke-linecap:square;stroke-width:0.8;\"/>\n     </g>\n     <g id=\"line2d_20\">\n      <g>\n       <use style=\"stroke:#000000;stroke-width:0.8;\" x=\"64.885938\" xlink:href=\"#m3e7622999d\" y=\"91.766546\"/>\n      </g>\n     </g>\n     <g id=\"text_11\">\n      <!-- 0.015 -->\n      <g transform=\"translate(29.257813 95.565764)scale(0.1 -0.1)\">\n       <use xlink:href=\"#DejaVuSans-48\"/>\n       <use x=\"63.623047\" xlink:href=\"#DejaVuSans-46\"/>\n       <use x=\"95.410156\" xlink:href=\"#DejaVuSans-48\"/>\n       <use x=\"159.033203\" xlink:href=\"#DejaVuSans-49\"/>\n       <use x=\"222.65625\" xlink:href=\"#DejaVuSans-53\"/>\n      </g>\n     </g>\n    </g>\n    <g id=\"ytick_8\">\n     <g id=\"line2d_21\">\n      <path clip-path=\"url(#p740e08d380)\" d=\"M 64.885938 69.399104 \nL 252.120494 69.399104 \n\" style=\"fill:none;stroke:#b0b0b0;stroke-linecap:square;stroke-width:0.8;\"/>\n     </g>\n     <g id=\"line2d_22\">\n      <g>\n       <use style=\"stroke:#000000;stroke-width:0.8;\" x=\"64.885938\" xlink:href=\"#m3e7622999d\" y=\"69.399104\"/>\n      </g>\n     </g>\n     <g id=\"text_12\">\n      <!-- 0.020 -->\n      <defs>\n       <path d=\"M 19.1875 8.296875 \nL 53.609375 8.296875 \nL 53.609375 0 \nL 7.328125 0 \nL 7.328125 8.296875 \nQ 12.9375 14.109375 22.625 23.890625 \nQ 32.328125 33.6875 34.8125 36.53125 \nQ 39.546875 41.84375 41.421875 45.53125 \nQ 43.3125 49.21875 43.3125 52.78125 \nQ 43.3125 58.59375 39.234375 62.25 \nQ 35.15625 65.921875 28.609375 65.921875 \nQ 23.96875 65.921875 18.8125 64.3125 \nQ 13.671875 62.703125 7.8125 59.421875 \nL 7.8125 69.390625 \nQ 13.765625 71.78125 18.9375 73 \nQ 24.125 74.21875 28.421875 74.21875 \nQ 39.75 74.21875 46.484375 68.546875 \nQ 53.21875 62.890625 53.21875 53.421875 \nQ 53.21875 48.921875 51.53125 44.890625 \nQ 49.859375 40.875 45.40625 35.40625 \nQ 44.1875 33.984375 37.640625 27.21875 \nQ 31.109375 20.453125 19.1875 8.296875 \nz\n\" id=\"DejaVuSans-50\"/>\n      </defs>\n      <g transform=\"translate(29.257813 73.198323)scale(0.1 -0.1)\">\n       <use xlink:href=\"#DejaVuSans-48\"/>\n       <use x=\"63.623047\" xlink:href=\"#DejaVuSans-46\"/>\n       <use x=\"95.410156\" xlink:href=\"#DejaVuSans-48\"/>\n       <use x=\"159.033203\" xlink:href=\"#DejaVuSans-50\"/>\n       <use x=\"222.65625\" xlink:href=\"#DejaVuSans-48\"/>\n      </g>\n     </g>\n    </g>\n    <g id=\"ytick_9\">\n     <g id=\"line2d_23\">\n      <path clip-path=\"url(#p740e08d380)\" d=\"M 64.885938 47.031663 \nL 252.120494 47.031663 \n\" style=\"fill:none;stroke:#b0b0b0;stroke-linecap:square;stroke-width:0.8;\"/>\n     </g>\n     <g id=\"line2d_24\">\n      <g>\n       <use style=\"stroke:#000000;stroke-width:0.8;\" x=\"64.885938\" xlink:href=\"#m3e7622999d\" y=\"47.031663\"/>\n      </g>\n     </g>\n     <g id=\"text_13\">\n      <!-- 0.025 -->\n      <g transform=\"translate(29.257813 50.830882)scale(0.1 -0.1)\">\n       <use xlink:href=\"#DejaVuSans-48\"/>\n       <use x=\"63.623047\" xlink:href=\"#DejaVuSans-46\"/>\n       <use x=\"95.410156\" xlink:href=\"#DejaVuSans-48\"/>\n       <use x=\"159.033203\" xlink:href=\"#DejaVuSans-50\"/>\n       <use x=\"222.65625\" xlink:href=\"#DejaVuSans-53\"/>\n      </g>\n     </g>\n    </g>\n    <g id=\"text_14\">\n     <!-- Bias -->\n     <defs>\n      <path d=\"M 19.671875 34.8125 \nL 19.671875 8.109375 \nL 35.5 8.109375 \nQ 43.453125 8.109375 47.28125 11.40625 \nQ 51.125 14.703125 51.125 21.484375 \nQ 51.125 28.328125 47.28125 31.5625 \nQ 43.453125 34.8125 35.5 34.8125 \nz\nM 19.671875 64.796875 \nL 19.671875 42.828125 \nL 34.28125 42.828125 \nQ 41.5 42.828125 45.03125 45.53125 \nQ 48.578125 48.25 48.578125 53.8125 \nQ 48.578125 59.328125 45.03125 62.0625 \nQ 41.5 64.796875 34.28125 64.796875 \nz\nM 9.8125 72.90625 \nL 35.015625 72.90625 \nQ 46.296875 72.90625 52.390625 68.21875 \nQ 58.5 63.53125 58.5 54.890625 \nQ 58.5 48.1875 55.375 44.234375 \nQ 52.25 40.28125 46.1875 39.3125 \nQ 53.46875 37.75 57.5 32.78125 \nQ 61.53125 27.828125 61.53125 20.40625 \nQ 61.53125 10.640625 54.890625 5.3125 \nQ 48.25 0 35.984375 0 \nL 9.8125 0 \nz\n\" id=\"DejaVuSans-66\"/>\n      <path d=\"M 9.421875 54.6875 \nL 18.40625 54.6875 \nL 18.40625 0 \nL 9.421875 0 \nz\nM 9.421875 75.984375 \nL 18.40625 75.984375 \nL 18.40625 64.59375 \nL 9.421875 64.59375 \nz\n\" id=\"DejaVuSans-105\"/>\n      <path d=\"M 34.28125 27.484375 \nQ 23.390625 27.484375 19.1875 25 \nQ 14.984375 22.515625 14.984375 16.5 \nQ 14.984375 11.71875 18.140625 8.90625 \nQ 21.296875 6.109375 26.703125 6.109375 \nQ 34.1875 6.109375 38.703125 11.40625 \nQ 43.21875 16.703125 43.21875 25.484375 \nL 43.21875 27.484375 \nz\nM 52.203125 31.203125 \nL 52.203125 0 \nL 43.21875 0 \nL 43.21875 8.296875 \nQ 40.140625 3.328125 35.546875 0.953125 \nQ 30.953125 -1.421875 24.3125 -1.421875 \nQ 15.921875 -1.421875 10.953125 3.296875 \nQ 6 8.015625 6 15.921875 \nQ 6 25.140625 12.171875 29.828125 \nQ 18.359375 34.515625 30.609375 34.515625 \nL 43.21875 34.515625 \nL 43.21875 35.40625 \nQ 43.21875 41.609375 39.140625 45 \nQ 35.0625 48.390625 27.6875 48.390625 \nQ 23 48.390625 18.546875 47.265625 \nQ 14.109375 46.140625 10.015625 43.890625 \nL 10.015625 52.203125 \nQ 14.9375 54.109375 19.578125 55.046875 \nQ 24.21875 56 28.609375 56 \nQ 40.484375 56 46.34375 49.84375 \nQ 52.203125 43.703125 52.203125 31.203125 \nz\n\" id=\"DejaVuSans-97\"/>\n      <path d=\"M 44.28125 53.078125 \nL 44.28125 44.578125 \nQ 40.484375 46.53125 36.375 47.5 \nQ 32.28125 48.484375 27.875 48.484375 \nQ 21.1875 48.484375 17.84375 46.4375 \nQ 14.5 44.390625 14.5 40.28125 \nQ 14.5 37.15625 16.890625 35.375 \nQ 19.28125 33.59375 26.515625 31.984375 \nL 29.59375 31.296875 \nQ 39.15625 29.25 43.1875 25.515625 \nQ 47.21875 21.78125 47.21875 15.09375 \nQ 47.21875 7.46875 41.1875 3.015625 \nQ 35.15625 -1.421875 24.609375 -1.421875 \nQ 20.21875 -1.421875 15.453125 -0.5625 \nQ 10.6875 0.296875 5.421875 2 \nL 5.421875 11.28125 \nQ 10.40625 8.6875 15.234375 7.390625 \nQ 20.0625 6.109375 24.8125 6.109375 \nQ 31.15625 6.109375 34.5625 8.28125 \nQ 37.984375 10.453125 37.984375 14.40625 \nQ 37.984375 18.0625 35.515625 20.015625 \nQ 33.0625 21.96875 24.703125 23.78125 \nL 21.578125 24.515625 \nQ 13.234375 26.265625 9.515625 29.90625 \nQ 5.8125 33.546875 5.8125 39.890625 \nQ 5.8125 47.609375 11.28125 51.796875 \nQ 16.75 56 26.8125 56 \nQ 31.78125 56 36.171875 55.265625 \nQ 40.578125 54.546875 44.28125 53.078125 \nz\n\" id=\"DejaVuSans-115\"/>\n     </defs>\n     <g transform=\"translate(14.798438 141.795729)rotate(-90)scale(0.1 -0.1)\">\n      <use xlink:href=\"#DejaVuSans-66\"/>\n      <use x=\"68.603516\" xlink:href=\"#DejaVuSans-105\"/>\n      <use x=\"96.386719\" xlink:href=\"#DejaVuSans-97\"/>\n      <use x=\"157.666016\" xlink:href=\"#DejaVuSans-115\"/>\n     </g>\n    </g>\n   </g>\n   <g id=\"patch_3\">\n    <path d=\"M 64.885938 228.44 \nL 64.885938 34.174895 \n\" style=\"fill:none;stroke:#000000;stroke-linecap:square;stroke-linejoin:miter;stroke-width:0.8;\"/>\n   </g>\n   <g id=\"patch_4\">\n    <path d=\"M 252.120494 228.44 \nL 252.120494 34.174895 \n\" style=\"fill:none;stroke:#000000;stroke-linecap:square;stroke-linejoin:miter;stroke-width:0.8;\"/>\n   </g>\n   <g id=\"patch_5\">\n    <path d=\"M 64.885938 228.44 \nL 252.120494 228.44 \n\" style=\"fill:none;stroke:#000000;stroke-linecap:square;stroke-linejoin:miter;stroke-width:0.8;\"/>\n   </g>\n   <g id=\"patch_6\">\n    <path d=\"M 64.885938 34.174895 \nL 252.120494 34.174895 \n\" style=\"fill:none;stroke:#000000;stroke-linecap:square;stroke-linejoin:miter;stroke-width:0.8;\"/>\n   </g>\n  </g>\n  <g id=\"axes_2\">\n   <g id=\"patch_7\">\n    <path d=\"M 345.385938 228.44 \nL 532.620494 228.44 \nL 532.620494 34.174895 \nL 345.385938 34.174895 \nz\n\" style=\"fill:#ffffff;\"/>\n   </g>\n   <g id=\"PathCollection_2\">\n    <defs>\n     <path d=\"M 0 3 \nC 0.795609 3 1.55874 2.683901 2.12132 2.12132 \nC 2.683901 1.55874 3 0.795609 3 0 \nC 3 -0.795609 2.683901 -1.55874 2.12132 -2.12132 \nC 1.55874 -2.683901 0.795609 -3 0 -3 \nC -0.795609 -3 -1.55874 -2.683901 -2.12132 -2.12132 \nC -2.683901 -1.55874 -3 -0.795609 -3 0 \nC -3 0.795609 -2.683901 1.55874 -2.12132 2.12132 \nC -1.55874 2.683901 -0.795609 3 0 3 \nz\n\" id=\"C1_0_8391d26e93\"/>\n    </defs>\n    <g clip-path=\"url(#p1168ae7f12)\">\n     <use style=\"fill:#ff0000;stroke:#ff0000;\" x=\"355.319448\" xlink:href=\"#C1_0_8391d26e93\" y=\"157.889455\"/>\n    </g>\n    <g clip-path=\"url(#p1168ae7f12)\">\n     <use style=\"fill:#00ff00;stroke:#00ff00;\" x=\"439.003216\" xlink:href=\"#C1_0_8391d26e93\" y=\"104.72544\"/>\n    </g>\n    <g clip-path=\"url(#p1168ae7f12)\">\n     <use style=\"fill:#0000ff;stroke:#0000ff;\" x=\"522.686984\" xlink:href=\"#C1_0_8391d26e93\" y=\"138.385344\"/>\n    </g>\n   </g>\n   <g id=\"matplotlib.axis_3\">\n    <g id=\"xtick_4\">\n     <g id=\"line2d_25\">\n      <path clip-path=\"url(#p1168ae7f12)\" d=\"M 355.319448 228.44 \nL 355.319448 34.174895 \n\" style=\"fill:none;stroke:#b0b0b0;stroke-linecap:square;stroke-width:0.8;\"/>\n     </g>\n     <g id=\"line2d_26\">\n      <g>\n       <use style=\"stroke:#000000;stroke-width:0.8;\" x=\"355.319448\" xlink:href=\"#mf10aed8e92\" y=\"228.44\"/>\n      </g>\n     </g>\n     <g id=\"text_15\">\n      <!-- 1000 -->\n      <g transform=\"translate(342.594448 243.038437)scale(0.1 -0.1)\">\n       <use xlink:href=\"#DejaVuSans-49\"/>\n       <use x=\"63.623047\" xlink:href=\"#DejaVuSans-48\"/>\n       <use x=\"127.246094\" xlink:href=\"#DejaVuSans-48\"/>\n       <use x=\"190.869141\" xlink:href=\"#DejaVuSans-48\"/>\n      </g>\n     </g>\n    </g>\n    <g id=\"xtick_5\">\n     <g id=\"line2d_27\">\n      <path clip-path=\"url(#p1168ae7f12)\" d=\"M 439.003216 228.44 \nL 439.003216 34.174895 \n\" style=\"fill:none;stroke:#b0b0b0;stroke-linecap:square;stroke-width:0.8;\"/>\n     </g>\n     <g id=\"line2d_28\">\n      <g>\n       <use style=\"stroke:#000000;stroke-width:0.8;\" x=\"439.003216\" xlink:href=\"#mf10aed8e92\" y=\"228.44\"/>\n      </g>\n     </g>\n     <g id=\"text_16\">\n      <!-- 5000 -->\n      <g transform=\"translate(426.278216 243.038437)scale(0.1 -0.1)\">\n       <use xlink:href=\"#DejaVuSans-53\"/>\n       <use x=\"63.623047\" xlink:href=\"#DejaVuSans-48\"/>\n       <use x=\"127.246094\" xlink:href=\"#DejaVuSans-48\"/>\n       <use x=\"190.869141\" xlink:href=\"#DejaVuSans-48\"/>\n      </g>\n     </g>\n    </g>\n    <g id=\"xtick_6\">\n     <g id=\"line2d_29\">\n      <path clip-path=\"url(#p1168ae7f12)\" d=\"M 522.686984 228.44 \nL 522.686984 34.174895 \n\" style=\"fill:none;stroke:#b0b0b0;stroke-linecap:square;stroke-width:0.8;\"/>\n     </g>\n     <g id=\"line2d_30\">\n      <g>\n       <use style=\"stroke:#000000;stroke-width:0.8;\" x=\"522.686984\" xlink:href=\"#mf10aed8e92\" y=\"228.44\"/>\n      </g>\n     </g>\n     <g id=\"text_17\">\n      <!-- 10000 -->\n      <g transform=\"translate(506.780734 243.038437)scale(0.1 -0.1)\">\n       <use xlink:href=\"#DejaVuSans-49\"/>\n       <use x=\"63.623047\" xlink:href=\"#DejaVuSans-48\"/>\n       <use x=\"127.246094\" xlink:href=\"#DejaVuSans-48\"/>\n       <use x=\"190.869141\" xlink:href=\"#DejaVuSans-48\"/>\n       <use x=\"254.492188\" xlink:href=\"#DejaVuSans-48\"/>\n      </g>\n     </g>\n    </g>\n    <g id=\"text_18\">\n     <!-- N -->\n     <g transform=\"translate(435.262591 256.716562)scale(0.1 -0.1)\">\n      <use xlink:href=\"#DejaVuSans-78\"/>\n     </g>\n    </g>\n   </g>\n   <g id=\"matplotlib.axis_4\">\n    <g id=\"ytick_10\">\n     <g id=\"line2d_31\">\n      <path clip-path=\"url(#p1168ae7f12)\" d=\"M 345.385938 225.971194 \nL 532.620494 225.971194 \n\" style=\"fill:none;stroke:#b0b0b0;stroke-linecap:square;stroke-width:0.8;\"/>\n     </g>\n     <g id=\"line2d_32\">\n      <g>\n       <use style=\"stroke:#000000;stroke-width:0.8;\" x=\"345.385938\" xlink:href=\"#m3e7622999d\" y=\"225.971194\"/>\n      </g>\n     </g>\n     <g id=\"text_19\">\n      <!-- −0.015 -->\n      <g transform=\"translate(301.378125 229.770413)scale(0.1 -0.1)\">\n       <use xlink:href=\"#DejaVuSans-8722\"/>\n       <use x=\"83.789062\" xlink:href=\"#DejaVuSans-48\"/>\n       <use x=\"147.412109\" xlink:href=\"#DejaVuSans-46\"/>\n       <use x=\"179.199219\" xlink:href=\"#DejaVuSans-48\"/>\n       <use x=\"242.822266\" xlink:href=\"#DejaVuSans-49\"/>\n       <use x=\"306.445312\" xlink:href=\"#DejaVuSans-53\"/>\n      </g>\n     </g>\n    </g>\n    <g id=\"ytick_11\">\n     <g id=\"line2d_33\">\n      <path clip-path=\"url(#p1168ae7f12)\" d=\"M 345.385938 203.603753 \nL 532.620494 203.603753 \n\" style=\"fill:none;stroke:#b0b0b0;stroke-linecap:square;stroke-width:0.8;\"/>\n     </g>\n     <g id=\"line2d_34\">\n      <g>\n       <use style=\"stroke:#000000;stroke-width:0.8;\" x=\"345.385938\" xlink:href=\"#m3e7622999d\" y=\"203.603753\"/>\n      </g>\n     </g>\n     <g id=\"text_20\">\n      <!-- −0.010 -->\n      <g transform=\"translate(301.378125 207.402972)scale(0.1 -0.1)\">\n       <use xlink:href=\"#DejaVuSans-8722\"/>\n       <use x=\"83.789062\" xlink:href=\"#DejaVuSans-48\"/>\n       <use x=\"147.412109\" xlink:href=\"#DejaVuSans-46\"/>\n       <use x=\"179.199219\" xlink:href=\"#DejaVuSans-48\"/>\n       <use x=\"242.822266\" xlink:href=\"#DejaVuSans-49\"/>\n       <use x=\"306.445312\" xlink:href=\"#DejaVuSans-48\"/>\n      </g>\n     </g>\n    </g>\n    <g id=\"ytick_12\">\n     <g id=\"line2d_35\">\n      <path clip-path=\"url(#p1168ae7f12)\" d=\"M 345.385938 181.236311 \nL 532.620494 181.236311 \n\" style=\"fill:none;stroke:#b0b0b0;stroke-linecap:square;stroke-width:0.8;\"/>\n     </g>\n     <g id=\"line2d_36\">\n      <g>\n       <use style=\"stroke:#000000;stroke-width:0.8;\" x=\"345.385938\" xlink:href=\"#m3e7622999d\" y=\"181.236311\"/>\n      </g>\n     </g>\n     <g id=\"text_21\">\n      <!-- −0.005 -->\n      <g transform=\"translate(301.378125 185.03553)scale(0.1 -0.1)\">\n       <use xlink:href=\"#DejaVuSans-8722\"/>\n       <use x=\"83.789062\" xlink:href=\"#DejaVuSans-48\"/>\n       <use x=\"147.412109\" xlink:href=\"#DejaVuSans-46\"/>\n       <use x=\"179.199219\" xlink:href=\"#DejaVuSans-48\"/>\n       <use x=\"242.822266\" xlink:href=\"#DejaVuSans-48\"/>\n       <use x=\"306.445312\" xlink:href=\"#DejaVuSans-53\"/>\n      </g>\n     </g>\n    </g>\n    <g id=\"ytick_13\">\n     <g id=\"line2d_37\">\n      <path clip-path=\"url(#p1168ae7f12)\" d=\"M 345.385938 158.86887 \nL 532.620494 158.86887 \n\" style=\"fill:none;stroke:#b0b0b0;stroke-linecap:square;stroke-width:0.8;\"/>\n     </g>\n     <g id=\"line2d_38\">\n      <g>\n       <use style=\"stroke:#000000;stroke-width:0.8;\" x=\"345.385938\" xlink:href=\"#m3e7622999d\" y=\"158.86887\"/>\n      </g>\n     </g>\n     <g id=\"text_22\">\n      <!-- 0.000 -->\n      <g transform=\"translate(309.757812 162.668089)scale(0.1 -0.1)\">\n       <use xlink:href=\"#DejaVuSans-48\"/>\n       <use x=\"63.623047\" xlink:href=\"#DejaVuSans-46\"/>\n       <use x=\"95.410156\" xlink:href=\"#DejaVuSans-48\"/>\n       <use x=\"159.033203\" xlink:href=\"#DejaVuSans-48\"/>\n       <use x=\"222.65625\" xlink:href=\"#DejaVuSans-48\"/>\n      </g>\n     </g>\n    </g>\n    <g id=\"ytick_14\">\n     <g id=\"line2d_39\">\n      <path clip-path=\"url(#p1168ae7f12)\" d=\"M 345.385938 136.501429 \nL 532.620494 136.501429 \n\" style=\"fill:none;stroke:#b0b0b0;stroke-linecap:square;stroke-width:0.8;\"/>\n     </g>\n     <g id=\"line2d_40\">\n      <g>\n       <use style=\"stroke:#000000;stroke-width:0.8;\" x=\"345.385938\" xlink:href=\"#m3e7622999d\" y=\"136.501429\"/>\n      </g>\n     </g>\n     <g id=\"text_23\">\n      <!-- 0.005 -->\n      <g transform=\"translate(309.757812 140.300647)scale(0.1 -0.1)\">\n       <use xlink:href=\"#DejaVuSans-48\"/>\n       <use x=\"63.623047\" xlink:href=\"#DejaVuSans-46\"/>\n       <use x=\"95.410156\" xlink:href=\"#DejaVuSans-48\"/>\n       <use x=\"159.033203\" xlink:href=\"#DejaVuSans-48\"/>\n       <use x=\"222.65625\" xlink:href=\"#DejaVuSans-53\"/>\n      </g>\n     </g>\n    </g>\n    <g id=\"ytick_15\">\n     <g id=\"line2d_41\">\n      <path clip-path=\"url(#p1168ae7f12)\" d=\"M 345.385938 114.133987 \nL 532.620494 114.133987 \n\" style=\"fill:none;stroke:#b0b0b0;stroke-linecap:square;stroke-width:0.8;\"/>\n     </g>\n     <g id=\"line2d_42\">\n      <g>\n       <use style=\"stroke:#000000;stroke-width:0.8;\" x=\"345.385938\" xlink:href=\"#m3e7622999d\" y=\"114.133987\"/>\n      </g>\n     </g>\n     <g id=\"text_24\">\n      <!-- 0.010 -->\n      <g transform=\"translate(309.757812 117.933206)scale(0.1 -0.1)\">\n       <use xlink:href=\"#DejaVuSans-48\"/>\n       <use x=\"63.623047\" xlink:href=\"#DejaVuSans-46\"/>\n       <use x=\"95.410156\" xlink:href=\"#DejaVuSans-48\"/>\n       <use x=\"159.033203\" xlink:href=\"#DejaVuSans-49\"/>\n       <use x=\"222.65625\" xlink:href=\"#DejaVuSans-48\"/>\n      </g>\n     </g>\n    </g>\n    <g id=\"ytick_16\">\n     <g id=\"line2d_43\">\n      <path clip-path=\"url(#p1168ae7f12)\" d=\"M 345.385938 91.766546 \nL 532.620494 91.766546 \n\" style=\"fill:none;stroke:#b0b0b0;stroke-linecap:square;stroke-width:0.8;\"/>\n     </g>\n     <g id=\"line2d_44\">\n      <g>\n       <use style=\"stroke:#000000;stroke-width:0.8;\" x=\"345.385938\" xlink:href=\"#m3e7622999d\" y=\"91.766546\"/>\n      </g>\n     </g>\n     <g id=\"text_25\">\n      <!-- 0.015 -->\n      <g transform=\"translate(309.757812 95.565764)scale(0.1 -0.1)\">\n       <use xlink:href=\"#DejaVuSans-48\"/>\n       <use x=\"63.623047\" xlink:href=\"#DejaVuSans-46\"/>\n       <use x=\"95.410156\" xlink:href=\"#DejaVuSans-48\"/>\n       <use x=\"159.033203\" xlink:href=\"#DejaVuSans-49\"/>\n       <use x=\"222.65625\" xlink:href=\"#DejaVuSans-53\"/>\n      </g>\n     </g>\n    </g>\n    <g id=\"ytick_17\">\n     <g id=\"line2d_45\">\n      <path clip-path=\"url(#p1168ae7f12)\" d=\"M 345.385938 69.399104 \nL 532.620494 69.399104 \n\" style=\"fill:none;stroke:#b0b0b0;stroke-linecap:square;stroke-width:0.8;\"/>\n     </g>\n     <g id=\"line2d_46\">\n      <g>\n       <use style=\"stroke:#000000;stroke-width:0.8;\" x=\"345.385938\" xlink:href=\"#m3e7622999d\" y=\"69.399104\"/>\n      </g>\n     </g>\n     <g id=\"text_26\">\n      <!-- 0.020 -->\n      <g transform=\"translate(309.757812 73.198323)scale(0.1 -0.1)\">\n       <use xlink:href=\"#DejaVuSans-48\"/>\n       <use x=\"63.623047\" xlink:href=\"#DejaVuSans-46\"/>\n       <use x=\"95.410156\" xlink:href=\"#DejaVuSans-48\"/>\n       <use x=\"159.033203\" xlink:href=\"#DejaVuSans-50\"/>\n       <use x=\"222.65625\" xlink:href=\"#DejaVuSans-48\"/>\n      </g>\n     </g>\n    </g>\n    <g id=\"ytick_18\">\n     <g id=\"line2d_47\">\n      <path clip-path=\"url(#p1168ae7f12)\" d=\"M 345.385938 47.031663 \nL 532.620494 47.031663 \n\" style=\"fill:none;stroke:#b0b0b0;stroke-linecap:square;stroke-width:0.8;\"/>\n     </g>\n     <g id=\"line2d_48\">\n      <g>\n       <use style=\"stroke:#000000;stroke-width:0.8;\" x=\"345.385938\" xlink:href=\"#m3e7622999d\" y=\"47.031663\"/>\n      </g>\n     </g>\n     <g id=\"text_27\">\n      <!-- 0.025 -->\n      <g transform=\"translate(309.757812 50.830882)scale(0.1 -0.1)\">\n       <use xlink:href=\"#DejaVuSans-48\"/>\n       <use x=\"63.623047\" xlink:href=\"#DejaVuSans-46\"/>\n       <use x=\"95.410156\" xlink:href=\"#DejaVuSans-48\"/>\n       <use x=\"159.033203\" xlink:href=\"#DejaVuSans-50\"/>\n       <use x=\"222.65625\" xlink:href=\"#DejaVuSans-53\"/>\n      </g>\n     </g>\n    </g>\n    <g id=\"text_28\">\n     <!-- RMSE -->\n     <defs>\n      <path d=\"M 44.390625 34.1875 \nQ 47.5625 33.109375 50.5625 29.59375 \nQ 53.5625 26.078125 56.59375 19.921875 \nL 66.609375 0 \nL 56 0 \nL 46.6875 18.703125 \nQ 43.0625 26.03125 39.671875 28.421875 \nQ 36.28125 30.8125 30.421875 30.8125 \nL 19.671875 30.8125 \nL 19.671875 0 \nL 9.8125 0 \nL 9.8125 72.90625 \nL 32.078125 72.90625 \nQ 44.578125 72.90625 50.734375 67.671875 \nQ 56.890625 62.453125 56.890625 51.90625 \nQ 56.890625 45.015625 53.6875 40.46875 \nQ 50.484375 35.9375 44.390625 34.1875 \nz\nM 19.671875 64.796875 \nL 19.671875 38.921875 \nL 32.078125 38.921875 \nQ 39.203125 38.921875 42.84375 42.21875 \nQ 46.484375 45.515625 46.484375 51.90625 \nQ 46.484375 58.296875 42.84375 61.546875 \nQ 39.203125 64.796875 32.078125 64.796875 \nz\n\" id=\"DejaVuSans-82\"/>\n      <path d=\"M 9.8125 72.90625 \nL 24.515625 72.90625 \nL 43.109375 23.296875 \nL 61.8125 72.90625 \nL 76.515625 72.90625 \nL 76.515625 0 \nL 66.890625 0 \nL 66.890625 64.015625 \nL 48.09375 14.015625 \nL 38.1875 14.015625 \nL 19.390625 64.015625 \nL 19.390625 0 \nL 9.8125 0 \nz\n\" id=\"DejaVuSans-77\"/>\n      <path d=\"M 53.515625 70.515625 \nL 53.515625 60.890625 \nQ 47.90625 63.578125 42.921875 64.890625 \nQ 37.9375 66.21875 33.296875 66.21875 \nQ 25.25 66.21875 20.875 63.09375 \nQ 16.5 59.96875 16.5 54.203125 \nQ 16.5 49.359375 19.40625 46.890625 \nQ 22.3125 44.4375 30.421875 42.921875 \nL 36.375 41.703125 \nQ 47.40625 39.59375 52.65625 34.296875 \nQ 57.90625 29 57.90625 20.125 \nQ 57.90625 9.515625 50.796875 4.046875 \nQ 43.703125 -1.421875 29.984375 -1.421875 \nQ 24.8125 -1.421875 18.96875 -0.25 \nQ 13.140625 0.921875 6.890625 3.21875 \nL 6.890625 13.375 \nQ 12.890625 10.015625 18.65625 8.296875 \nQ 24.421875 6.59375 29.984375 6.59375 \nQ 38.421875 6.59375 43.015625 9.90625 \nQ 47.609375 13.234375 47.609375 19.390625 \nQ 47.609375 24.75 44.3125 27.78125 \nQ 41.015625 30.8125 33.5 32.328125 \nL 27.484375 33.5 \nQ 16.453125 35.6875 11.515625 40.375 \nQ 6.59375 45.0625 6.59375 53.421875 \nQ 6.59375 63.09375 13.40625 68.65625 \nQ 20.21875 74.21875 32.171875 74.21875 \nQ 37.3125 74.21875 42.625 73.28125 \nQ 47.953125 72.359375 53.515625 70.515625 \nz\n\" id=\"DejaVuSans-83\"/>\n      <path d=\"M 9.8125 72.90625 \nL 55.90625 72.90625 \nL 55.90625 64.59375 \nL 19.671875 64.59375 \nL 19.671875 43.015625 \nL 54.390625 43.015625 \nL 54.390625 34.71875 \nL 19.671875 34.71875 \nL 19.671875 8.296875 \nL 56.78125 8.296875 \nL 56.78125 0 \nL 9.8125 0 \nz\n\" id=\"DejaVuSans-69\"/>\n     </defs>\n     <g transform=\"translate(295.298438 145.429322)rotate(-90)scale(0.1 -0.1)\">\n      <use xlink:href=\"#DejaVuSans-82\"/>\n      <use x=\"69.482422\" xlink:href=\"#DejaVuSans-77\"/>\n      <use x=\"155.761719\" xlink:href=\"#DejaVuSans-83\"/>\n      <use x=\"219.238281\" xlink:href=\"#DejaVuSans-69\"/>\n     </g>\n    </g>\n   </g>\n   <g id=\"patch_8\">\n    <path d=\"M 345.385938 228.44 \nL 345.385938 34.174895 \n\" style=\"fill:none;stroke:#000000;stroke-linecap:square;stroke-linejoin:miter;stroke-width:0.8;\"/>\n   </g>\n   <g id=\"patch_9\">\n    <path d=\"M 532.620494 228.44 \nL 532.620494 34.174895 \n\" style=\"fill:none;stroke:#000000;stroke-linecap:square;stroke-linejoin:miter;stroke-width:0.8;\"/>\n   </g>\n   <g id=\"patch_10\">\n    <path d=\"M 345.385938 228.44 \nL 532.620494 228.44 \n\" style=\"fill:none;stroke:#000000;stroke-linecap:square;stroke-linejoin:miter;stroke-width:0.8;\"/>\n   </g>\n   <g id=\"patch_11\">\n    <path d=\"M 345.385938 34.174895 \nL 532.620494 34.174895 \n\" style=\"fill:none;stroke:#000000;stroke-linecap:square;stroke-linejoin:miter;stroke-width:0.8;\"/>\n   </g>\n  </g>\n  <g id=\"axes_3\">\n   <g id=\"patch_12\">\n    <path d=\"M 625.885938 228.44 \nL 813.120494 228.44 \nL 813.120494 34.174895 \nL 625.885938 34.174895 \nz\n\" style=\"fill:#ffffff;\"/>\n   </g>\n   <g id=\"PathCollection_3\">\n    <defs>\n     <path d=\"M 0 3 \nC 0.795609 3 1.55874 2.683901 2.12132 2.12132 \nC 2.683901 1.55874 3 0.795609 3 0 \nC 3 -0.795609 2.683901 -1.55874 2.12132 -2.12132 \nC 1.55874 -2.683901 0.795609 -3 0 -3 \nC -0.795609 -3 -1.55874 -2.683901 -2.12132 -2.12132 \nC -2.683901 -1.55874 -3 -0.795609 -3 0 \nC -3 0.795609 -2.683901 1.55874 -2.12132 2.12132 \nC -1.55874 2.683901 -0.795609 3 0 3 \nz\n\" id=\"C2_0_658b518241\"/>\n    </defs>\n    <g clip-path=\"url(#pdfcfde590c)\">\n     <use style=\"fill:#ff0000;stroke:#ff0000;\" x=\"635.819448\" xlink:href=\"#C2_0_658b518241\" y=\"131.307447\"/>\n    </g>\n    <g clip-path=\"url(#pdfcfde590c)\">\n     <use style=\"fill:#00ff00;stroke:#00ff00;\" x=\"719.503216\" xlink:href=\"#C2_0_658b518241\" y=\"131.307447\"/>\n    </g>\n    <g clip-path=\"url(#pdfcfde590c)\">\n     <use style=\"fill:#0000ff;stroke:#0000ff;\" x=\"803.186984\" xlink:href=\"#C2_0_658b518241\" y=\"131.307447\"/>\n    </g>\n   </g>\n   <g id=\"matplotlib.axis_5\">\n    <g id=\"xtick_7\">\n     <g id=\"line2d_49\">\n      <path clip-path=\"url(#pdfcfde590c)\" d=\"M 635.819448 228.44 \nL 635.819448 34.174895 \n\" style=\"fill:none;stroke:#b0b0b0;stroke-linecap:square;stroke-width:0.8;\"/>\n     </g>\n     <g id=\"line2d_50\">\n      <g>\n       <use style=\"stroke:#000000;stroke-width:0.8;\" x=\"635.819448\" xlink:href=\"#mf10aed8e92\" y=\"228.44\"/>\n      </g>\n     </g>\n     <g id=\"text_29\">\n      <!-- 1000 -->\n      <g transform=\"translate(623.094448 243.038437)scale(0.1 -0.1)\">\n       <use xlink:href=\"#DejaVuSans-49\"/>\n       <use x=\"63.623047\" xlink:href=\"#DejaVuSans-48\"/>\n       <use x=\"127.246094\" xlink:href=\"#DejaVuSans-48\"/>\n       <use x=\"190.869141\" xlink:href=\"#DejaVuSans-48\"/>\n      </g>\n     </g>\n    </g>\n    <g id=\"xtick_8\">\n     <g id=\"line2d_51\">\n      <path clip-path=\"url(#pdfcfde590c)\" d=\"M 719.503216 228.44 \nL 719.503216 34.174895 \n\" style=\"fill:none;stroke:#b0b0b0;stroke-linecap:square;stroke-width:0.8;\"/>\n     </g>\n     <g id=\"line2d_52\">\n      <g>\n       <use style=\"stroke:#000000;stroke-width:0.8;\" x=\"719.503216\" xlink:href=\"#mf10aed8e92\" y=\"228.44\"/>\n      </g>\n     </g>\n     <g id=\"text_30\">\n      <!-- 5000 -->\n      <g transform=\"translate(706.778216 243.038437)scale(0.1 -0.1)\">\n       <use xlink:href=\"#DejaVuSans-53\"/>\n       <use x=\"63.623047\" xlink:href=\"#DejaVuSans-48\"/>\n       <use x=\"127.246094\" xlink:href=\"#DejaVuSans-48\"/>\n       <use x=\"190.869141\" xlink:href=\"#DejaVuSans-48\"/>\n      </g>\n     </g>\n    </g>\n    <g id=\"xtick_9\">\n     <g id=\"line2d_53\">\n      <path clip-path=\"url(#pdfcfde590c)\" d=\"M 803.186984 228.44 \nL 803.186984 34.174895 \n\" style=\"fill:none;stroke:#b0b0b0;stroke-linecap:square;stroke-width:0.8;\"/>\n     </g>\n     <g id=\"line2d_54\">\n      <g>\n       <use style=\"stroke:#000000;stroke-width:0.8;\" x=\"803.186984\" xlink:href=\"#mf10aed8e92\" y=\"228.44\"/>\n      </g>\n     </g>\n     <g id=\"text_31\">\n      <!-- 10000 -->\n      <g transform=\"translate(787.280734 243.038437)scale(0.1 -0.1)\">\n       <use xlink:href=\"#DejaVuSans-49\"/>\n       <use x=\"63.623047\" xlink:href=\"#DejaVuSans-48\"/>\n       <use x=\"127.246094\" xlink:href=\"#DejaVuSans-48\"/>\n       <use x=\"190.869141\" xlink:href=\"#DejaVuSans-48\"/>\n       <use x=\"254.492188\" xlink:href=\"#DejaVuSans-48\"/>\n      </g>\n     </g>\n    </g>\n    <g id=\"text_32\">\n     <!-- N -->\n     <g transform=\"translate(715.762591 256.716562)scale(0.1 -0.1)\">\n      <use xlink:href=\"#DejaVuSans-78\"/>\n     </g>\n    </g>\n   </g>\n   <g id=\"matplotlib.axis_6\">\n    <g id=\"ytick_19\">\n     <g id=\"line2d_55\">\n      <path clip-path=\"url(#pdfcfde590c)\" d=\"M 625.885938 227.30973 \nL 813.120494 227.30973 \n\" style=\"fill:none;stroke:#b0b0b0;stroke-linecap:square;stroke-width:0.8;\"/>\n     </g>\n     <g id=\"line2d_56\">\n      <g>\n       <use style=\"stroke:#000000;stroke-width:0.8;\" x=\"625.885938\" xlink:href=\"#m3e7622999d\" y=\"227.30973\"/>\n      </g>\n     </g>\n     <g id=\"text_33\">\n      <!-- 0.985 -->\n      <defs>\n       <path d=\"M 10.984375 1.515625 \nL 10.984375 10.5 \nQ 14.703125 8.734375 18.5 7.8125 \nQ 22.3125 6.890625 25.984375 6.890625 \nQ 35.75 6.890625 40.890625 13.453125 \nQ 46.046875 20.015625 46.78125 33.40625 \nQ 43.953125 29.203125 39.59375 26.953125 \nQ 35.25 24.703125 29.984375 24.703125 \nQ 19.046875 24.703125 12.671875 31.3125 \nQ 6.296875 37.9375 6.296875 49.421875 \nQ 6.296875 60.640625 12.9375 67.421875 \nQ 19.578125 74.21875 30.609375 74.21875 \nQ 43.265625 74.21875 49.921875 64.515625 \nQ 56.59375 54.828125 56.59375 36.375 \nQ 56.59375 19.140625 48.40625 8.859375 \nQ 40.234375 -1.421875 26.421875 -1.421875 \nQ 22.703125 -1.421875 18.890625 -0.6875 \nQ 15.09375 0.046875 10.984375 1.515625 \nz\nM 30.609375 32.421875 \nQ 37.25 32.421875 41.125 36.953125 \nQ 45.015625 41.5 45.015625 49.421875 \nQ 45.015625 57.28125 41.125 61.84375 \nQ 37.25 66.40625 30.609375 66.40625 \nQ 23.96875 66.40625 20.09375 61.84375 \nQ 16.21875 57.28125 16.21875 49.421875 \nQ 16.21875 41.5 20.09375 36.953125 \nQ 23.96875 32.421875 30.609375 32.421875 \nz\n\" id=\"DejaVuSans-57\"/>\n       <path d=\"M 31.78125 34.625 \nQ 24.75 34.625 20.71875 30.859375 \nQ 16.703125 27.09375 16.703125 20.515625 \nQ 16.703125 13.921875 20.71875 10.15625 \nQ 24.75 6.390625 31.78125 6.390625 \nQ 38.8125 6.390625 42.859375 10.171875 \nQ 46.921875 13.96875 46.921875 20.515625 \nQ 46.921875 27.09375 42.890625 30.859375 \nQ 38.875 34.625 31.78125 34.625 \nz\nM 21.921875 38.8125 \nQ 15.578125 40.375 12.03125 44.71875 \nQ 8.5 49.078125 8.5 55.328125 \nQ 8.5 64.0625 14.71875 69.140625 \nQ 20.953125 74.21875 31.78125 74.21875 \nQ 42.671875 74.21875 48.875 69.140625 \nQ 55.078125 64.0625 55.078125 55.328125 \nQ 55.078125 49.078125 51.53125 44.71875 \nQ 48 40.375 41.703125 38.8125 \nQ 48.828125 37.15625 52.796875 32.3125 \nQ 56.78125 27.484375 56.78125 20.515625 \nQ 56.78125 9.90625 50.3125 4.234375 \nQ 43.84375 -1.421875 31.78125 -1.421875 \nQ 19.734375 -1.421875 13.25 4.234375 \nQ 6.78125 9.90625 6.78125 20.515625 \nQ 6.78125 27.484375 10.78125 32.3125 \nQ 14.796875 37.15625 21.921875 38.8125 \nz\nM 18.3125 54.390625 \nQ 18.3125 48.734375 21.84375 45.5625 \nQ 25.390625 42.390625 31.78125 42.390625 \nQ 38.140625 42.390625 41.71875 45.5625 \nQ 45.3125 48.734375 45.3125 54.390625 \nQ 45.3125 60.0625 41.71875 63.234375 \nQ 38.140625 66.40625 31.78125 66.40625 \nQ 25.390625 66.40625 21.84375 63.234375 \nQ 18.3125 60.0625 18.3125 54.390625 \nz\n\" id=\"DejaVuSans-56\"/>\n      </defs>\n      <g transform=\"translate(590.257813 231.108949)scale(0.1 -0.1)\">\n       <use xlink:href=\"#DejaVuSans-48\"/>\n       <use x=\"63.623047\" xlink:href=\"#DejaVuSans-46\"/>\n       <use x=\"95.410156\" xlink:href=\"#DejaVuSans-57\"/>\n       <use x=\"159.033203\" xlink:href=\"#DejaVuSans-56\"/>\n       <use x=\"222.65625\" xlink:href=\"#DejaVuSans-53\"/>\n      </g>\n     </g>\n    </g>\n    <g id=\"ytick_20\">\n     <g id=\"line2d_57\">\n      <path clip-path=\"url(#pdfcfde590c)\" d=\"M 625.885938 195.308969 \nL 813.120494 195.308969 \n\" style=\"fill:none;stroke:#b0b0b0;stroke-linecap:square;stroke-width:0.8;\"/>\n     </g>\n     <g id=\"line2d_58\">\n      <g>\n       <use style=\"stroke:#000000;stroke-width:0.8;\" x=\"625.885938\" xlink:href=\"#m3e7622999d\" y=\"195.308969\"/>\n      </g>\n     </g>\n     <g id=\"text_34\">\n      <!-- 0.990 -->\n      <g transform=\"translate(590.257813 199.108188)scale(0.1 -0.1)\">\n       <use xlink:href=\"#DejaVuSans-48\"/>\n       <use x=\"63.623047\" xlink:href=\"#DejaVuSans-46\"/>\n       <use x=\"95.410156\" xlink:href=\"#DejaVuSans-57\"/>\n       <use x=\"159.033203\" xlink:href=\"#DejaVuSans-57\"/>\n       <use x=\"222.65625\" xlink:href=\"#DejaVuSans-48\"/>\n      </g>\n     </g>\n    </g>\n    <g id=\"ytick_21\">\n     <g id=\"line2d_59\">\n      <path clip-path=\"url(#pdfcfde590c)\" d=\"M 625.885938 163.308208 \nL 813.120494 163.308208 \n\" style=\"fill:none;stroke:#b0b0b0;stroke-linecap:square;stroke-width:0.8;\"/>\n     </g>\n     <g id=\"line2d_60\">\n      <g>\n       <use style=\"stroke:#000000;stroke-width:0.8;\" x=\"625.885938\" xlink:href=\"#m3e7622999d\" y=\"163.308208\"/>\n      </g>\n     </g>\n     <g id=\"text_35\">\n      <!-- 0.995 -->\n      <g transform=\"translate(590.257813 167.107427)scale(0.1 -0.1)\">\n       <use xlink:href=\"#DejaVuSans-48\"/>\n       <use x=\"63.623047\" xlink:href=\"#DejaVuSans-46\"/>\n       <use x=\"95.410156\" xlink:href=\"#DejaVuSans-57\"/>\n       <use x=\"159.033203\" xlink:href=\"#DejaVuSans-57\"/>\n       <use x=\"222.65625\" xlink:href=\"#DejaVuSans-53\"/>\n      </g>\n     </g>\n    </g>\n    <g id=\"ytick_22\">\n     <g id=\"line2d_61\">\n      <path clip-path=\"url(#pdfcfde590c)\" d=\"M 625.885938 131.307447 \nL 813.120494 131.307447 \n\" style=\"fill:none;stroke:#b0b0b0;stroke-linecap:square;stroke-width:0.8;\"/>\n     </g>\n     <g id=\"line2d_62\">\n      <g>\n       <use style=\"stroke:#000000;stroke-width:0.8;\" x=\"625.885938\" xlink:href=\"#m3e7622999d\" y=\"131.307447\"/>\n      </g>\n     </g>\n     <g id=\"text_36\">\n      <!-- 1.000 -->\n      <g transform=\"translate(590.257813 135.106666)scale(0.1 -0.1)\">\n       <use xlink:href=\"#DejaVuSans-49\"/>\n       <use x=\"63.623047\" xlink:href=\"#DejaVuSans-46\"/>\n       <use x=\"95.410156\" xlink:href=\"#DejaVuSans-48\"/>\n       <use x=\"159.033203\" xlink:href=\"#DejaVuSans-48\"/>\n       <use x=\"222.65625\" xlink:href=\"#DejaVuSans-48\"/>\n      </g>\n     </g>\n    </g>\n    <g id=\"ytick_23\">\n     <g id=\"line2d_63\">\n      <path clip-path=\"url(#pdfcfde590c)\" d=\"M 625.885938 99.306686 \nL 813.120494 99.306686 \n\" style=\"fill:none;stroke:#b0b0b0;stroke-linecap:square;stroke-width:0.8;\"/>\n     </g>\n     <g id=\"line2d_64\">\n      <g>\n       <use style=\"stroke:#000000;stroke-width:0.8;\" x=\"625.885938\" xlink:href=\"#m3e7622999d\" y=\"99.306686\"/>\n      </g>\n     </g>\n     <g id=\"text_37\">\n      <!-- 1.005 -->\n      <g transform=\"translate(590.257813 103.105905)scale(0.1 -0.1)\">\n       <use xlink:href=\"#DejaVuSans-49\"/>\n       <use x=\"63.623047\" xlink:href=\"#DejaVuSans-46\"/>\n       <use x=\"95.410156\" xlink:href=\"#DejaVuSans-48\"/>\n       <use x=\"159.033203\" xlink:href=\"#DejaVuSans-48\"/>\n       <use x=\"222.65625\" xlink:href=\"#DejaVuSans-53\"/>\n      </g>\n     </g>\n    </g>\n    <g id=\"ytick_24\">\n     <g id=\"line2d_65\">\n      <path clip-path=\"url(#pdfcfde590c)\" d=\"M 625.885938 67.305925 \nL 813.120494 67.305925 \n\" style=\"fill:none;stroke:#b0b0b0;stroke-linecap:square;stroke-width:0.8;\"/>\n     </g>\n     <g id=\"line2d_66\">\n      <g>\n       <use style=\"stroke:#000000;stroke-width:0.8;\" x=\"625.885938\" xlink:href=\"#m3e7622999d\" y=\"67.305925\"/>\n      </g>\n     </g>\n     <g id=\"text_38\">\n      <!-- 1.010 -->\n      <g transform=\"translate(590.257813 71.105144)scale(0.1 -0.1)\">\n       <use xlink:href=\"#DejaVuSans-49\"/>\n       <use x=\"63.623047\" xlink:href=\"#DejaVuSans-46\"/>\n       <use x=\"95.410156\" xlink:href=\"#DejaVuSans-48\"/>\n       <use x=\"159.033203\" xlink:href=\"#DejaVuSans-49\"/>\n       <use x=\"222.65625\" xlink:href=\"#DejaVuSans-48\"/>\n      </g>\n     </g>\n    </g>\n    <g id=\"ytick_25\">\n     <g id=\"line2d_67\">\n      <path clip-path=\"url(#pdfcfde590c)\" d=\"M 625.885938 35.305164 \nL 813.120494 35.305164 \n\" style=\"fill:none;stroke:#b0b0b0;stroke-linecap:square;stroke-width:0.8;\"/>\n     </g>\n     <g id=\"line2d_68\">\n      <g>\n       <use style=\"stroke:#000000;stroke-width:0.8;\" x=\"625.885938\" xlink:href=\"#m3e7622999d\" y=\"35.305164\"/>\n      </g>\n     </g>\n     <g id=\"text_39\">\n      <!-- 1.015 -->\n      <g transform=\"translate(590.257813 39.104383)scale(0.1 -0.1)\">\n       <use xlink:href=\"#DejaVuSans-49\"/>\n       <use x=\"63.623047\" xlink:href=\"#DejaVuSans-46\"/>\n       <use x=\"95.410156\" xlink:href=\"#DejaVuSans-48\"/>\n       <use x=\"159.033203\" xlink:href=\"#DejaVuSans-49\"/>\n       <use x=\"222.65625\" xlink:href=\"#DejaVuSans-53\"/>\n      </g>\n     </g>\n    </g>\n    <g id=\"text_40\">\n     <!-- Coverage -->\n     <defs>\n      <path d=\"M 64.40625 67.28125 \nL 64.40625 56.890625 \nQ 59.421875 61.53125 53.78125 63.8125 \nQ 48.140625 66.109375 41.796875 66.109375 \nQ 29.296875 66.109375 22.65625 58.46875 \nQ 16.015625 50.828125 16.015625 36.375 \nQ 16.015625 21.96875 22.65625 14.328125 \nQ 29.296875 6.6875 41.796875 6.6875 \nQ 48.140625 6.6875 53.78125 8.984375 \nQ 59.421875 11.28125 64.40625 15.921875 \nL 64.40625 5.609375 \nQ 59.234375 2.09375 53.4375 0.328125 \nQ 47.65625 -1.421875 41.21875 -1.421875 \nQ 24.65625 -1.421875 15.125 8.703125 \nQ 5.609375 18.84375 5.609375 36.375 \nQ 5.609375 53.953125 15.125 64.078125 \nQ 24.65625 74.21875 41.21875 74.21875 \nQ 47.75 74.21875 53.53125 72.484375 \nQ 59.328125 70.75 64.40625 67.28125 \nz\n\" id=\"DejaVuSans-67\"/>\n      <path d=\"M 30.609375 48.390625 \nQ 23.390625 48.390625 19.1875 42.75 \nQ 14.984375 37.109375 14.984375 27.296875 \nQ 14.984375 17.484375 19.15625 11.84375 \nQ 23.34375 6.203125 30.609375 6.203125 \nQ 37.796875 6.203125 41.984375 11.859375 \nQ 46.1875 17.53125 46.1875 27.296875 \nQ 46.1875 37.015625 41.984375 42.703125 \nQ 37.796875 48.390625 30.609375 48.390625 \nz\nM 30.609375 56 \nQ 42.328125 56 49.015625 48.375 \nQ 55.71875 40.765625 55.71875 27.296875 \nQ 55.71875 13.875 49.015625 6.21875 \nQ 42.328125 -1.421875 30.609375 -1.421875 \nQ 18.84375 -1.421875 12.171875 6.21875 \nQ 5.515625 13.875 5.515625 27.296875 \nQ 5.515625 40.765625 12.171875 48.375 \nQ 18.84375 56 30.609375 56 \nz\n\" id=\"DejaVuSans-111\"/>\n      <path d=\"M 2.984375 54.6875 \nL 12.5 54.6875 \nL 29.59375 8.796875 \nL 46.6875 54.6875 \nL 56.203125 54.6875 \nL 35.6875 0 \nL 23.484375 0 \nz\n\" id=\"DejaVuSans-118\"/>\n      <path d=\"M 56.203125 29.59375 \nL 56.203125 25.203125 \nL 14.890625 25.203125 \nQ 15.484375 15.921875 20.484375 11.0625 \nQ 25.484375 6.203125 34.421875 6.203125 \nQ 39.59375 6.203125 44.453125 7.46875 \nQ 49.3125 8.734375 54.109375 11.28125 \nL 54.109375 2.78125 \nQ 49.265625 0.734375 44.1875 -0.34375 \nQ 39.109375 -1.421875 33.890625 -1.421875 \nQ 20.796875 -1.421875 13.15625 6.1875 \nQ 5.515625 13.8125 5.515625 26.8125 \nQ 5.515625 40.234375 12.765625 48.109375 \nQ 20.015625 56 32.328125 56 \nQ 43.359375 56 49.78125 48.890625 \nQ 56.203125 41.796875 56.203125 29.59375 \nz\nM 47.21875 32.234375 \nQ 47.125 39.59375 43.09375 43.984375 \nQ 39.0625 48.390625 32.421875 48.390625 \nQ 24.90625 48.390625 20.390625 44.140625 \nQ 15.875 39.890625 15.1875 32.171875 \nz\n\" id=\"DejaVuSans-101\"/>\n      <path d=\"M 41.109375 46.296875 \nQ 39.59375 47.171875 37.8125 47.578125 \nQ 36.03125 48 33.890625 48 \nQ 26.265625 48 22.1875 43.046875 \nQ 18.109375 38.09375 18.109375 28.8125 \nL 18.109375 0 \nL 9.078125 0 \nL 9.078125 54.6875 \nL 18.109375 54.6875 \nL 18.109375 46.1875 \nQ 20.953125 51.171875 25.484375 53.578125 \nQ 30.03125 56 36.53125 56 \nQ 37.453125 56 38.578125 55.875 \nQ 39.703125 55.765625 41.0625 55.515625 \nz\n\" id=\"DejaVuSans-114\"/>\n      <path d=\"M 45.40625 27.984375 \nQ 45.40625 37.75 41.375 43.109375 \nQ 37.359375 48.484375 30.078125 48.484375 \nQ 22.859375 48.484375 18.828125 43.109375 \nQ 14.796875 37.75 14.796875 27.984375 \nQ 14.796875 18.265625 18.828125 12.890625 \nQ 22.859375 7.515625 30.078125 7.515625 \nQ 37.359375 7.515625 41.375 12.890625 \nQ 45.40625 18.265625 45.40625 27.984375 \nz\nM 54.390625 6.78125 \nQ 54.390625 -7.171875 48.1875 -13.984375 \nQ 42 -20.796875 29.203125 -20.796875 \nQ 24.46875 -20.796875 20.265625 -20.09375 \nQ 16.0625 -19.390625 12.109375 -17.921875 \nL 12.109375 -9.1875 \nQ 16.0625 -11.328125 19.921875 -12.34375 \nQ 23.78125 -13.375 27.78125 -13.375 \nQ 36.625 -13.375 41.015625 -8.765625 \nQ 45.40625 -4.15625 45.40625 5.171875 \nL 45.40625 9.625 \nQ 42.625 4.78125 38.28125 2.390625 \nQ 33.9375 0 27.875 0 \nQ 17.828125 0 11.671875 7.65625 \nQ 5.515625 15.328125 5.515625 27.984375 \nQ 5.515625 40.671875 11.671875 48.328125 \nQ 17.828125 56 27.875 56 \nQ 33.9375 56 38.28125 53.609375 \nQ 42.625 51.21875 45.40625 46.390625 \nL 45.40625 54.6875 \nL 54.390625 54.6875 \nz\n\" id=\"DejaVuSans-103\"/>\n     </defs>\n     <g transform=\"translate(584.178125 155.264479)rotate(-90)scale(0.1 -0.1)\">\n      <use xlink:href=\"#DejaVuSans-67\"/>\n      <use x=\"69.824219\" xlink:href=\"#DejaVuSans-111\"/>\n      <use x=\"131.005859\" xlink:href=\"#DejaVuSans-118\"/>\n      <use x=\"190.185547\" xlink:href=\"#DejaVuSans-101\"/>\n      <use x=\"251.708984\" xlink:href=\"#DejaVuSans-114\"/>\n      <use x=\"292.822266\" xlink:href=\"#DejaVuSans-97\"/>\n      <use x=\"354.101562\" xlink:href=\"#DejaVuSans-103\"/>\n      <use x=\"417.578125\" xlink:href=\"#DejaVuSans-101\"/>\n     </g>\n    </g>\n   </g>\n   <g id=\"patch_13\">\n    <path d=\"M 625.885938 228.44 \nL 625.885938 34.174895 \n\" style=\"fill:none;stroke:#000000;stroke-linecap:square;stroke-linejoin:miter;stroke-width:0.8;\"/>\n   </g>\n   <g id=\"patch_14\">\n    <path d=\"M 813.120494 228.44 \nL 813.120494 34.174895 \n\" style=\"fill:none;stroke:#000000;stroke-linecap:square;stroke-linejoin:miter;stroke-width:0.8;\"/>\n   </g>\n   <g id=\"patch_15\">\n    <path d=\"M 625.885938 228.44 \nL 813.120494 228.44 \n\" style=\"fill:none;stroke:#000000;stroke-linecap:square;stroke-linejoin:miter;stroke-width:0.8;\"/>\n   </g>\n   <g id=\"patch_16\">\n    <path d=\"M 625.885938 34.174895 \nL 813.120494 34.174895 \n\" style=\"fill:none;stroke:#000000;stroke-linecap:square;stroke-linejoin:miter;stroke-width:0.8;\"/>\n   </g>\n  </g>\n  <g id=\"axes_4\">\n   <g id=\"patch_17\">\n    <path d=\"M 906.385938 228.44 \nL 1093.620494 228.44 \nL 1093.620494 34.174895 \nL 906.385938 34.174895 \nz\n\" style=\"fill:#ffffff;\"/>\n   </g>\n   <g id=\"PathCollection_4\">\n    <defs>\n     <path d=\"M 0 3 \nC 0.795609 3 1.55874 2.683901 2.12132 2.12132 \nC 2.683901 1.55874 3 0.795609 3 0 \nC 3 -0.795609 2.683901 -1.55874 2.12132 -2.12132 \nC 1.55874 -2.683901 0.795609 -3 0 -3 \nC -0.795609 -3 -1.55874 -2.683901 -2.12132 -2.12132 \nC -2.683901 -1.55874 -3 -0.795609 -3 0 \nC -3 0.795609 -2.683901 1.55874 -2.12132 2.12132 \nC -1.55874 2.683901 -0.795609 3 0 3 \nz\n\" id=\"C3_0_9c48634352\"/>\n    </defs>\n    <g clip-path=\"url(#p31905a1eed)\">\n     <use style=\"fill:#ff0000;stroke:#ff0000;\" x=\"916.319448\" xlink:href=\"#C3_0_9c48634352\" y=\"58.166376\"/>\n    </g>\n    <g clip-path=\"url(#p31905a1eed)\">\n     <use style=\"fill:#00ff00;stroke:#00ff00;\" x=\"1000.003216\" xlink:href=\"#C3_0_9c48634352\" y=\"152.67139\"/>\n    </g>\n    <g clip-path=\"url(#p31905a1eed)\">\n     <use style=\"fill:#0000ff;stroke:#0000ff;\" x=\"1083.686984\" xlink:href=\"#C3_0_9c48634352\" y=\"204.448519\"/>\n    </g>\n   </g>\n   <g id=\"matplotlib.axis_7\">\n    <g id=\"xtick_10\">\n     <g id=\"line2d_69\">\n      <path clip-path=\"url(#p31905a1eed)\" d=\"M 916.319448 228.44 \nL 916.319448 34.174895 \n\" style=\"fill:none;stroke:#b0b0b0;stroke-linecap:square;stroke-width:0.8;\"/>\n     </g>\n     <g id=\"line2d_70\">\n      <g>\n       <use style=\"stroke:#000000;stroke-width:0.8;\" x=\"916.319448\" xlink:href=\"#mf10aed8e92\" y=\"228.44\"/>\n      </g>\n     </g>\n     <g id=\"text_41\">\n      <!-- 1000 -->\n      <g transform=\"translate(903.594448 243.038437)scale(0.1 -0.1)\">\n       <use xlink:href=\"#DejaVuSans-49\"/>\n       <use x=\"63.623047\" xlink:href=\"#DejaVuSans-48\"/>\n       <use x=\"127.246094\" xlink:href=\"#DejaVuSans-48\"/>\n       <use x=\"190.869141\" xlink:href=\"#DejaVuSans-48\"/>\n      </g>\n     </g>\n    </g>\n    <g id=\"xtick_11\">\n     <g id=\"line2d_71\">\n      <path clip-path=\"url(#p31905a1eed)\" d=\"M 1000.003216 228.44 \nL 1000.003216 34.174895 \n\" style=\"fill:none;stroke:#b0b0b0;stroke-linecap:square;stroke-width:0.8;\"/>\n     </g>\n     <g id=\"line2d_72\">\n      <g>\n       <use style=\"stroke:#000000;stroke-width:0.8;\" x=\"1000.003216\" xlink:href=\"#mf10aed8e92\" y=\"228.44\"/>\n      </g>\n     </g>\n     <g id=\"text_42\">\n      <!-- 5000 -->\n      <g transform=\"translate(987.278216 243.038437)scale(0.1 -0.1)\">\n       <use xlink:href=\"#DejaVuSans-53\"/>\n       <use x=\"63.623047\" xlink:href=\"#DejaVuSans-48\"/>\n       <use x=\"127.246094\" xlink:href=\"#DejaVuSans-48\"/>\n       <use x=\"190.869141\" xlink:href=\"#DejaVuSans-48\"/>\n      </g>\n     </g>\n    </g>\n    <g id=\"xtick_12\">\n     <g id=\"line2d_73\">\n      <path clip-path=\"url(#p31905a1eed)\" d=\"M 1083.686984 228.44 \nL 1083.686984 34.174895 \n\" style=\"fill:none;stroke:#b0b0b0;stroke-linecap:square;stroke-width:0.8;\"/>\n     </g>\n     <g id=\"line2d_74\">\n      <g>\n       <use style=\"stroke:#000000;stroke-width:0.8;\" x=\"1083.686984\" xlink:href=\"#mf10aed8e92\" y=\"228.44\"/>\n      </g>\n     </g>\n     <g id=\"text_43\">\n      <!-- 10000 -->\n      <g transform=\"translate(1067.780734 243.038437)scale(0.1 -0.1)\">\n       <use xlink:href=\"#DejaVuSans-49\"/>\n       <use x=\"63.623047\" xlink:href=\"#DejaVuSans-48\"/>\n       <use x=\"127.246094\" xlink:href=\"#DejaVuSans-48\"/>\n       <use x=\"190.869141\" xlink:href=\"#DejaVuSans-48\"/>\n       <use x=\"254.492188\" xlink:href=\"#DejaVuSans-48\"/>\n      </g>\n     </g>\n    </g>\n    <g id=\"text_44\">\n     <!-- N -->\n     <g transform=\"translate(996.262591 256.716562)scale(0.1 -0.1)\">\n      <use xlink:href=\"#DejaVuSans-78\"/>\n     </g>\n    </g>\n   </g>\n   <g id=\"matplotlib.axis_8\">\n    <g id=\"ytick_26\">\n     <g id=\"line2d_75\">\n      <path clip-path=\"url(#p31905a1eed)\" d=\"M 906.385938 215.429001 \nL 1093.620494 215.429001 \n\" style=\"fill:none;stroke:#b0b0b0;stroke-linecap:square;stroke-width:0.8;\"/>\n     </g>\n     <g id=\"line2d_76\">\n      <g>\n       <use style=\"stroke:#000000;stroke-width:0.8;\" x=\"906.385938\" xlink:href=\"#m3e7622999d\" y=\"215.429001\"/>\n      </g>\n     </g>\n     <g id=\"text_45\">\n      <!-- 0.12 -->\n      <g transform=\"translate(877.120313 219.22822)scale(0.1 -0.1)\">\n       <use xlink:href=\"#DejaVuSans-48\"/>\n       <use x=\"63.623047\" xlink:href=\"#DejaVuSans-46\"/>\n       <use x=\"95.410156\" xlink:href=\"#DejaVuSans-49\"/>\n       <use x=\"159.033203\" xlink:href=\"#DejaVuSans-50\"/>\n      </g>\n     </g>\n    </g>\n    <g id=\"ytick_27\">\n     <g id=\"line2d_77\">\n      <path clip-path=\"url(#p31905a1eed)\" d=\"M 906.385938 193.451254 \nL 1093.620494 193.451254 \n\" style=\"fill:none;stroke:#b0b0b0;stroke-linecap:square;stroke-width:0.8;\"/>\n     </g>\n     <g id=\"line2d_78\">\n      <g>\n       <use style=\"stroke:#000000;stroke-width:0.8;\" x=\"906.385938\" xlink:href=\"#m3e7622999d\" y=\"193.451254\"/>\n      </g>\n     </g>\n     <g id=\"text_46\">\n      <!-- 0.14 -->\n      <defs>\n       <path d=\"M 37.796875 64.3125 \nL 12.890625 25.390625 \nL 37.796875 25.390625 \nz\nM 35.203125 72.90625 \nL 47.609375 72.90625 \nL 47.609375 25.390625 \nL 58.015625 25.390625 \nL 58.015625 17.1875 \nL 47.609375 17.1875 \nL 47.609375 0 \nL 37.796875 0 \nL 37.796875 17.1875 \nL 4.890625 17.1875 \nL 4.890625 26.703125 \nz\n\" id=\"DejaVuSans-52\"/>\n      </defs>\n      <g transform=\"translate(877.120313 197.250473)scale(0.1 -0.1)\">\n       <use xlink:href=\"#DejaVuSans-48\"/>\n       <use x=\"63.623047\" xlink:href=\"#DejaVuSans-46\"/>\n       <use x=\"95.410156\" xlink:href=\"#DejaVuSans-49\"/>\n       <use x=\"159.033203\" xlink:href=\"#DejaVuSans-52\"/>\n      </g>\n     </g>\n    </g>\n    <g id=\"ytick_28\">\n     <g id=\"line2d_79\">\n      <path clip-path=\"url(#p31905a1eed)\" d=\"M 906.385938 171.473508 \nL 1093.620494 171.473508 \n\" style=\"fill:none;stroke:#b0b0b0;stroke-linecap:square;stroke-width:0.8;\"/>\n     </g>\n     <g id=\"line2d_80\">\n      <g>\n       <use style=\"stroke:#000000;stroke-width:0.8;\" x=\"906.385938\" xlink:href=\"#m3e7622999d\" y=\"171.473508\"/>\n      </g>\n     </g>\n     <g id=\"text_47\">\n      <!-- 0.16 -->\n      <defs>\n       <path d=\"M 33.015625 40.375 \nQ 26.375 40.375 22.484375 35.828125 \nQ 18.609375 31.296875 18.609375 23.390625 \nQ 18.609375 15.53125 22.484375 10.953125 \nQ 26.375 6.390625 33.015625 6.390625 \nQ 39.65625 6.390625 43.53125 10.953125 \nQ 47.40625 15.53125 47.40625 23.390625 \nQ 47.40625 31.296875 43.53125 35.828125 \nQ 39.65625 40.375 33.015625 40.375 \nz\nM 52.59375 71.296875 \nL 52.59375 62.3125 \nQ 48.875 64.0625 45.09375 64.984375 \nQ 41.3125 65.921875 37.59375 65.921875 \nQ 27.828125 65.921875 22.671875 59.328125 \nQ 17.53125 52.734375 16.796875 39.40625 \nQ 19.671875 43.65625 24.015625 45.921875 \nQ 28.375 48.1875 33.59375 48.1875 \nQ 44.578125 48.1875 50.953125 41.515625 \nQ 57.328125 34.859375 57.328125 23.390625 \nQ 57.328125 12.15625 50.6875 5.359375 \nQ 44.046875 -1.421875 33.015625 -1.421875 \nQ 20.359375 -1.421875 13.671875 8.265625 \nQ 6.984375 17.96875 6.984375 36.375 \nQ 6.984375 53.65625 15.1875 63.9375 \nQ 23.390625 74.21875 37.203125 74.21875 \nQ 40.921875 74.21875 44.703125 73.484375 \nQ 48.484375 72.75 52.59375 71.296875 \nz\n\" id=\"DejaVuSans-54\"/>\n      </defs>\n      <g transform=\"translate(877.120313 175.272726)scale(0.1 -0.1)\">\n       <use xlink:href=\"#DejaVuSans-48\"/>\n       <use x=\"63.623047\" xlink:href=\"#DejaVuSans-46\"/>\n       <use x=\"95.410156\" xlink:href=\"#DejaVuSans-49\"/>\n       <use x=\"159.033203\" xlink:href=\"#DejaVuSans-54\"/>\n      </g>\n     </g>\n    </g>\n    <g id=\"ytick_29\">\n     <g id=\"line2d_81\">\n      <path clip-path=\"url(#p31905a1eed)\" d=\"M 906.385938 149.495761 \nL 1093.620494 149.495761 \n\" style=\"fill:none;stroke:#b0b0b0;stroke-linecap:square;stroke-width:0.8;\"/>\n     </g>\n     <g id=\"line2d_82\">\n      <g>\n       <use style=\"stroke:#000000;stroke-width:0.8;\" x=\"906.385938\" xlink:href=\"#m3e7622999d\" y=\"149.495761\"/>\n      </g>\n     </g>\n     <g id=\"text_48\">\n      <!-- 0.18 -->\n      <g transform=\"translate(877.120313 153.29498)scale(0.1 -0.1)\">\n       <use xlink:href=\"#DejaVuSans-48\"/>\n       <use x=\"63.623047\" xlink:href=\"#DejaVuSans-46\"/>\n       <use x=\"95.410156\" xlink:href=\"#DejaVuSans-49\"/>\n       <use x=\"159.033203\" xlink:href=\"#DejaVuSans-56\"/>\n      </g>\n     </g>\n    </g>\n    <g id=\"ytick_30\">\n     <g id=\"line2d_83\">\n      <path clip-path=\"url(#p31905a1eed)\" d=\"M 906.385938 127.518014 \nL 1093.620494 127.518014 \n\" style=\"fill:none;stroke:#b0b0b0;stroke-linecap:square;stroke-width:0.8;\"/>\n     </g>\n     <g id=\"line2d_84\">\n      <g>\n       <use style=\"stroke:#000000;stroke-width:0.8;\" x=\"906.385938\" xlink:href=\"#m3e7622999d\" y=\"127.518014\"/>\n      </g>\n     </g>\n     <g id=\"text_49\">\n      <!-- 0.20 -->\n      <g transform=\"translate(877.120313 131.317233)scale(0.1 -0.1)\">\n       <use xlink:href=\"#DejaVuSans-48\"/>\n       <use x=\"63.623047\" xlink:href=\"#DejaVuSans-46\"/>\n       <use x=\"95.410156\" xlink:href=\"#DejaVuSans-50\"/>\n       <use x=\"159.033203\" xlink:href=\"#DejaVuSans-48\"/>\n      </g>\n     </g>\n    </g>\n    <g id=\"ytick_31\">\n     <g id=\"line2d_85\">\n      <path clip-path=\"url(#p31905a1eed)\" d=\"M 906.385938 105.540267 \nL 1093.620494 105.540267 \n\" style=\"fill:none;stroke:#b0b0b0;stroke-linecap:square;stroke-width:0.8;\"/>\n     </g>\n     <g id=\"line2d_86\">\n      <g>\n       <use style=\"stroke:#000000;stroke-width:0.8;\" x=\"906.385938\" xlink:href=\"#m3e7622999d\" y=\"105.540267\"/>\n      </g>\n     </g>\n     <g id=\"text_50\">\n      <!-- 0.22 -->\n      <g transform=\"translate(877.120313 109.339486)scale(0.1 -0.1)\">\n       <use xlink:href=\"#DejaVuSans-48\"/>\n       <use x=\"63.623047\" xlink:href=\"#DejaVuSans-46\"/>\n       <use x=\"95.410156\" xlink:href=\"#DejaVuSans-50\"/>\n       <use x=\"159.033203\" xlink:href=\"#DejaVuSans-50\"/>\n      </g>\n     </g>\n    </g>\n    <g id=\"ytick_32\">\n     <g id=\"line2d_87\">\n      <path clip-path=\"url(#p31905a1eed)\" d=\"M 906.385938 83.562521 \nL 1093.620494 83.562521 \n\" style=\"fill:none;stroke:#b0b0b0;stroke-linecap:square;stroke-width:0.8;\"/>\n     </g>\n     <g id=\"line2d_88\">\n      <g>\n       <use style=\"stroke:#000000;stroke-width:0.8;\" x=\"906.385938\" xlink:href=\"#m3e7622999d\" y=\"83.562521\"/>\n      </g>\n     </g>\n     <g id=\"text_51\">\n      <!-- 0.24 -->\n      <g transform=\"translate(877.120313 87.361739)scale(0.1 -0.1)\">\n       <use xlink:href=\"#DejaVuSans-48\"/>\n       <use x=\"63.623047\" xlink:href=\"#DejaVuSans-46\"/>\n       <use x=\"95.410156\" xlink:href=\"#DejaVuSans-50\"/>\n       <use x=\"159.033203\" xlink:href=\"#DejaVuSans-52\"/>\n      </g>\n     </g>\n    </g>\n    <g id=\"ytick_33\">\n     <g id=\"line2d_89\">\n      <path clip-path=\"url(#p31905a1eed)\" d=\"M 906.385938 61.584774 \nL 1093.620494 61.584774 \n\" style=\"fill:none;stroke:#b0b0b0;stroke-linecap:square;stroke-width:0.8;\"/>\n     </g>\n     <g id=\"line2d_90\">\n      <g>\n       <use style=\"stroke:#000000;stroke-width:0.8;\" x=\"906.385938\" xlink:href=\"#m3e7622999d\" y=\"61.584774\"/>\n      </g>\n     </g>\n     <g id=\"text_52\">\n      <!-- 0.26 -->\n      <g transform=\"translate(877.120313 65.383993)scale(0.1 -0.1)\">\n       <use xlink:href=\"#DejaVuSans-48\"/>\n       <use x=\"63.623047\" xlink:href=\"#DejaVuSans-46\"/>\n       <use x=\"95.410156\" xlink:href=\"#DejaVuSans-50\"/>\n       <use x=\"159.033203\" xlink:href=\"#DejaVuSans-54\"/>\n      </g>\n     </g>\n    </g>\n    <g id=\"ytick_34\">\n     <g id=\"line2d_91\">\n      <path clip-path=\"url(#p31905a1eed)\" d=\"M 906.385938 39.607027 \nL 1093.620494 39.607027 \n\" style=\"fill:none;stroke:#b0b0b0;stroke-linecap:square;stroke-width:0.8;\"/>\n     </g>\n     <g id=\"line2d_92\">\n      <g>\n       <use style=\"stroke:#000000;stroke-width:0.8;\" x=\"906.385938\" xlink:href=\"#m3e7622999d\" y=\"39.607027\"/>\n      </g>\n     </g>\n     <g id=\"text_53\">\n      <!-- 0.28 -->\n      <g transform=\"translate(877.120313 43.406246)scale(0.1 -0.1)\">\n       <use xlink:href=\"#DejaVuSans-48\"/>\n       <use x=\"63.623047\" xlink:href=\"#DejaVuSans-46\"/>\n       <use x=\"95.410156\" xlink:href=\"#DejaVuSans-50\"/>\n       <use x=\"159.033203\" xlink:href=\"#DejaVuSans-56\"/>\n      </g>\n     </g>\n    </g>\n    <g id=\"text_54\">\n     <!-- Interval Length -->\n     <defs>\n      <path d=\"M 9.8125 72.90625 \nL 19.671875 72.90625 \nL 19.671875 0 \nL 9.8125 0 \nz\n\" id=\"DejaVuSans-73\"/>\n      <path d=\"M 54.890625 33.015625 \nL 54.890625 0 \nL 45.90625 0 \nL 45.90625 32.71875 \nQ 45.90625 40.484375 42.875 44.328125 \nQ 39.84375 48.1875 33.796875 48.1875 \nQ 26.515625 48.1875 22.3125 43.546875 \nQ 18.109375 38.921875 18.109375 30.90625 \nL 18.109375 0 \nL 9.078125 0 \nL 9.078125 54.6875 \nL 18.109375 54.6875 \nL 18.109375 46.1875 \nQ 21.34375 51.125 25.703125 53.5625 \nQ 30.078125 56 35.796875 56 \nQ 45.21875 56 50.046875 50.171875 \nQ 54.890625 44.34375 54.890625 33.015625 \nz\n\" id=\"DejaVuSans-110\"/>\n      <path d=\"M 18.3125 70.21875 \nL 18.3125 54.6875 \nL 36.8125 54.6875 \nL 36.8125 47.703125 \nL 18.3125 47.703125 \nL 18.3125 18.015625 \nQ 18.3125 11.328125 20.140625 9.421875 \nQ 21.96875 7.515625 27.59375 7.515625 \nL 36.8125 7.515625 \nL 36.8125 0 \nL 27.59375 0 \nQ 17.1875 0 13.234375 3.875 \nQ 9.28125 7.765625 9.28125 18.015625 \nL 9.28125 47.703125 \nL 2.6875 47.703125 \nL 2.6875 54.6875 \nL 9.28125 54.6875 \nL 9.28125 70.21875 \nz\n\" id=\"DejaVuSans-116\"/>\n      <path d=\"M 9.421875 75.984375 \nL 18.40625 75.984375 \nL 18.40625 0 \nL 9.421875 0 \nz\n\" id=\"DejaVuSans-108\"/>\n      <path id=\"DejaVuSans-32\"/>\n      <path d=\"M 9.8125 72.90625 \nL 19.671875 72.90625 \nL 19.671875 8.296875 \nL 55.171875 8.296875 \nL 55.171875 0 \nL 9.8125 0 \nz\n\" id=\"DejaVuSans-76\"/>\n      <path d=\"M 54.890625 33.015625 \nL 54.890625 0 \nL 45.90625 0 \nL 45.90625 32.71875 \nQ 45.90625 40.484375 42.875 44.328125 \nQ 39.84375 48.1875 33.796875 48.1875 \nQ 26.515625 48.1875 22.3125 43.546875 \nQ 18.109375 38.921875 18.109375 30.90625 \nL 18.109375 0 \nL 9.078125 0 \nL 9.078125 75.984375 \nL 18.109375 75.984375 \nL 18.109375 46.1875 \nQ 21.34375 51.125 25.703125 53.5625 \nQ 30.078125 56 35.796875 56 \nQ 45.21875 56 50.046875 50.171875 \nQ 54.890625 44.34375 54.890625 33.015625 \nz\n\" id=\"DejaVuSans-104\"/>\n     </defs>\n     <g transform=\"translate(871.040625 169.378541)rotate(-90)scale(0.1 -0.1)\">\n      <use xlink:href=\"#DejaVuSans-73\"/>\n      <use x=\"29.492188\" xlink:href=\"#DejaVuSans-110\"/>\n      <use x=\"92.871094\" xlink:href=\"#DejaVuSans-116\"/>\n      <use x=\"132.080078\" xlink:href=\"#DejaVuSans-101\"/>\n      <use x=\"193.603516\" xlink:href=\"#DejaVuSans-114\"/>\n      <use x=\"234.716797\" xlink:href=\"#DejaVuSans-118\"/>\n      <use x=\"293.896484\" xlink:href=\"#DejaVuSans-97\"/>\n      <use x=\"355.175781\" xlink:href=\"#DejaVuSans-108\"/>\n      <use x=\"382.958984\" xlink:href=\"#DejaVuSans-32\"/>\n      <use x=\"414.746094\" xlink:href=\"#DejaVuSans-76\"/>\n      <use x=\"470.443359\" xlink:href=\"#DejaVuSans-101\"/>\n      <use x=\"531.966797\" xlink:href=\"#DejaVuSans-110\"/>\n      <use x=\"595.345703\" xlink:href=\"#DejaVuSans-103\"/>\n      <use x=\"658.822266\" xlink:href=\"#DejaVuSans-116\"/>\n      <use x=\"698.03125\" xlink:href=\"#DejaVuSans-104\"/>\n     </g>\n    </g>\n   </g>\n   <g id=\"patch_18\">\n    <path d=\"M 906.385938 228.44 \nL 906.385938 34.174895 \n\" style=\"fill:none;stroke:#000000;stroke-linecap:square;stroke-linejoin:miter;stroke-width:0.8;\"/>\n   </g>\n   <g id=\"patch_19\">\n    <path d=\"M 1093.620494 228.44 \nL 1093.620494 34.174895 \n\" style=\"fill:none;stroke:#000000;stroke-linecap:square;stroke-linejoin:miter;stroke-width:0.8;\"/>\n   </g>\n   <g id=\"patch_20\">\n    <path d=\"M 906.385938 228.44 \nL 1093.620494 228.44 \n\" style=\"fill:none;stroke:#000000;stroke-linecap:square;stroke-linejoin:miter;stroke-width:0.8;\"/>\n   </g>\n   <g id=\"patch_21\">\n    <path d=\"M 906.385938 34.174895 \nL 1093.620494 34.174895 \n\" style=\"fill:none;stroke:#000000;stroke-linecap:square;stroke-linejoin:miter;stroke-width:0.8;\"/>\n   </g>\n  </g>\n  <g id=\"text_55\">\n   <!-- Evaluation Metrics when Changing Sample Size (Average over 1 simulations per parameter setting) -->\n   <defs>\n    <path d=\"M 8.5 21.578125 \nL 8.5 54.6875 \nL 17.484375 54.6875 \nL 17.484375 21.921875 \nQ 17.484375 14.15625 20.5 10.265625 \nQ 23.53125 6.390625 29.59375 6.390625 \nQ 36.859375 6.390625 41.078125 11.03125 \nQ 45.3125 15.671875 45.3125 23.6875 \nL 45.3125 54.6875 \nL 54.296875 54.6875 \nL 54.296875 0 \nL 45.3125 0 \nL 45.3125 8.40625 \nQ 42.046875 3.421875 37.71875 1 \nQ 33.40625 -1.421875 27.6875 -1.421875 \nQ 18.265625 -1.421875 13.375 4.4375 \nQ 8.5 10.296875 8.5 21.578125 \nz\nM 31.109375 56 \nz\n\" id=\"DejaVuSans-117\"/>\n    <path d=\"M 48.78125 52.59375 \nL 48.78125 44.1875 \nQ 44.96875 46.296875 41.140625 47.34375 \nQ 37.3125 48.390625 33.40625 48.390625 \nQ 24.65625 48.390625 19.8125 42.84375 \nQ 14.984375 37.3125 14.984375 27.296875 \nQ 14.984375 17.28125 19.8125 11.734375 \nQ 24.65625 6.203125 33.40625 6.203125 \nQ 37.3125 6.203125 41.140625 7.25 \nQ 44.96875 8.296875 48.78125 10.40625 \nL 48.78125 2.09375 \nQ 45.015625 0.34375 40.984375 -0.53125 \nQ 36.96875 -1.421875 32.421875 -1.421875 \nQ 20.0625 -1.421875 12.78125 6.34375 \nQ 5.515625 14.109375 5.515625 27.296875 \nQ 5.515625 40.671875 12.859375 48.328125 \nQ 20.21875 56 33.015625 56 \nQ 37.15625 56 41.109375 55.140625 \nQ 45.0625 54.296875 48.78125 52.59375 \nz\n\" id=\"DejaVuSans-99\"/>\n    <path d=\"M 4.203125 54.6875 \nL 13.1875 54.6875 \nL 24.421875 12.015625 \nL 35.59375 54.6875 \nL 46.1875 54.6875 \nL 57.421875 12.015625 \nL 68.609375 54.6875 \nL 77.59375 54.6875 \nL 63.28125 0 \nL 52.6875 0 \nL 40.921875 44.828125 \nL 29.109375 0 \nL 18.5 0 \nz\n\" id=\"DejaVuSans-119\"/>\n    <path d=\"M 52 44.1875 \nQ 55.375 50.25 60.0625 53.125 \nQ 64.75 56 71.09375 56 \nQ 79.640625 56 84.28125 50.015625 \nQ 88.921875 44.046875 88.921875 33.015625 \nL 88.921875 0 \nL 79.890625 0 \nL 79.890625 32.71875 \nQ 79.890625 40.578125 77.09375 44.375 \nQ 74.3125 48.1875 68.609375 48.1875 \nQ 61.625 48.1875 57.5625 43.546875 \nQ 53.515625 38.921875 53.515625 30.90625 \nL 53.515625 0 \nL 44.484375 0 \nL 44.484375 32.71875 \nQ 44.484375 40.625 41.703125 44.40625 \nQ 38.921875 48.1875 33.109375 48.1875 \nQ 26.21875 48.1875 22.15625 43.53125 \nQ 18.109375 38.875 18.109375 30.90625 \nL 18.109375 0 \nL 9.078125 0 \nL 9.078125 54.6875 \nL 18.109375 54.6875 \nL 18.109375 46.1875 \nQ 21.1875 51.21875 25.484375 53.609375 \nQ 29.78125 56 35.6875 56 \nQ 41.65625 56 45.828125 52.96875 \nQ 50 49.953125 52 44.1875 \nz\n\" id=\"DejaVuSans-109\"/>\n    <path d=\"M 18.109375 8.203125 \nL 18.109375 -20.796875 \nL 9.078125 -20.796875 \nL 9.078125 54.6875 \nL 18.109375 54.6875 \nL 18.109375 46.390625 \nQ 20.953125 51.265625 25.265625 53.625 \nQ 29.59375 56 35.59375 56 \nQ 45.5625 56 51.78125 48.09375 \nQ 58.015625 40.1875 58.015625 27.296875 \nQ 58.015625 14.40625 51.78125 6.484375 \nQ 45.5625 -1.421875 35.59375 -1.421875 \nQ 29.59375 -1.421875 25.265625 0.953125 \nQ 20.953125 3.328125 18.109375 8.203125 \nz\nM 48.6875 27.296875 \nQ 48.6875 37.203125 44.609375 42.84375 \nQ 40.53125 48.484375 33.40625 48.484375 \nQ 26.265625 48.484375 22.1875 42.84375 \nQ 18.109375 37.203125 18.109375 27.296875 \nQ 18.109375 17.390625 22.1875 11.75 \nQ 26.265625 6.109375 33.40625 6.109375 \nQ 40.53125 6.109375 44.609375 11.75 \nQ 48.6875 17.390625 48.6875 27.296875 \nz\n\" id=\"DejaVuSans-112\"/>\n    <path d=\"M 5.515625 54.6875 \nL 48.1875 54.6875 \nL 48.1875 46.484375 \nL 14.40625 7.171875 \nL 48.1875 7.171875 \nL 48.1875 0 \nL 4.296875 0 \nL 4.296875 8.203125 \nL 38.09375 47.515625 \nL 5.515625 47.515625 \nz\n\" id=\"DejaVuSans-122\"/>\n    <path d=\"M 31 75.875 \nQ 24.46875 64.65625 21.28125 53.65625 \nQ 18.109375 42.671875 18.109375 31.390625 \nQ 18.109375 20.125 21.3125 9.0625 \nQ 24.515625 -2 31 -13.1875 \nL 23.1875 -13.1875 \nQ 15.875 -1.703125 12.234375 9.375 \nQ 8.59375 20.453125 8.59375 31.390625 \nQ 8.59375 42.28125 12.203125 53.3125 \nQ 15.828125 64.359375 23.1875 75.875 \nz\n\" id=\"DejaVuSans-40\"/>\n    <path d=\"M 34.1875 63.1875 \nL 20.796875 26.90625 \nL 47.609375 26.90625 \nz\nM 28.609375 72.90625 \nL 39.796875 72.90625 \nL 67.578125 0 \nL 57.328125 0 \nL 50.6875 18.703125 \nL 17.828125 18.703125 \nL 11.1875 0 \nL 0.78125 0 \nz\n\" id=\"DejaVuSans-65\"/>\n    <path d=\"M 8.015625 75.875 \nL 15.828125 75.875 \nQ 23.140625 64.359375 26.78125 53.3125 \nQ 30.421875 42.28125 30.421875 31.390625 \nQ 30.421875 20.453125 26.78125 9.375 \nQ 23.140625 -1.703125 15.828125 -13.1875 \nL 8.015625 -13.1875 \nQ 14.5 -2 17.703125 9.0625 \nQ 20.90625 20.125 20.90625 31.390625 \nQ 20.90625 42.671875 17.703125 53.65625 \nQ 14.5 64.65625 8.015625 75.875 \nz\n\" id=\"DejaVuSans-41\"/>\n   </defs>\n   <g transform=\"translate(253.4 16.318125)scale(0.12 -0.12)\">\n    <use xlink:href=\"#DejaVuSans-69\"/>\n    <use x=\"63.183594\" xlink:href=\"#DejaVuSans-118\"/>\n    <use x=\"122.363281\" xlink:href=\"#DejaVuSans-97\"/>\n    <use x=\"183.642578\" xlink:href=\"#DejaVuSans-108\"/>\n    <use x=\"211.425781\" xlink:href=\"#DejaVuSans-117\"/>\n    <use x=\"274.804688\" xlink:href=\"#DejaVuSans-97\"/>\n    <use x=\"336.083984\" xlink:href=\"#DejaVuSans-116\"/>\n    <use x=\"375.292969\" xlink:href=\"#DejaVuSans-105\"/>\n    <use x=\"403.076172\" xlink:href=\"#DejaVuSans-111\"/>\n    <use x=\"464.257812\" xlink:href=\"#DejaVuSans-110\"/>\n    <use x=\"527.636719\" xlink:href=\"#DejaVuSans-32\"/>\n    <use x=\"559.423828\" xlink:href=\"#DejaVuSans-77\"/>\n    <use x=\"645.703125\" xlink:href=\"#DejaVuSans-101\"/>\n    <use x=\"707.226562\" xlink:href=\"#DejaVuSans-116\"/>\n    <use x=\"746.435547\" xlink:href=\"#DejaVuSans-114\"/>\n    <use x=\"787.548828\" xlink:href=\"#DejaVuSans-105\"/>\n    <use x=\"815.332031\" xlink:href=\"#DejaVuSans-99\"/>\n    <use x=\"870.3125\" xlink:href=\"#DejaVuSans-115\"/>\n    <use x=\"922.412109\" xlink:href=\"#DejaVuSans-32\"/>\n    <use x=\"954.199219\" xlink:href=\"#DejaVuSans-119\"/>\n    <use x=\"1035.986328\" xlink:href=\"#DejaVuSans-104\"/>\n    <use x=\"1099.365234\" xlink:href=\"#DejaVuSans-101\"/>\n    <use x=\"1160.888672\" xlink:href=\"#DejaVuSans-110\"/>\n    <use x=\"1224.267578\" xlink:href=\"#DejaVuSans-32\"/>\n    <use x=\"1256.054688\" xlink:href=\"#DejaVuSans-67\"/>\n    <use x=\"1325.878906\" xlink:href=\"#DejaVuSans-104\"/>\n    <use x=\"1389.257812\" xlink:href=\"#DejaVuSans-97\"/>\n    <use x=\"1450.537109\" xlink:href=\"#DejaVuSans-110\"/>\n    <use x=\"1513.916016\" xlink:href=\"#DejaVuSans-103\"/>\n    <use x=\"1577.392578\" xlink:href=\"#DejaVuSans-105\"/>\n    <use x=\"1605.175781\" xlink:href=\"#DejaVuSans-110\"/>\n    <use x=\"1668.554688\" xlink:href=\"#DejaVuSans-103\"/>\n    <use x=\"1732.03125\" xlink:href=\"#DejaVuSans-32\"/>\n    <use x=\"1763.818359\" xlink:href=\"#DejaVuSans-83\"/>\n    <use x=\"1827.294922\" xlink:href=\"#DejaVuSans-97\"/>\n    <use x=\"1888.574219\" xlink:href=\"#DejaVuSans-109\"/>\n    <use x=\"1985.986328\" xlink:href=\"#DejaVuSans-112\"/>\n    <use x=\"2049.462891\" xlink:href=\"#DejaVuSans-108\"/>\n    <use x=\"2077.246094\" xlink:href=\"#DejaVuSans-101\"/>\n    <use x=\"2138.769531\" xlink:href=\"#DejaVuSans-32\"/>\n    <use x=\"2170.556641\" xlink:href=\"#DejaVuSans-83\"/>\n    <use x=\"2234.033203\" xlink:href=\"#DejaVuSans-105\"/>\n    <use x=\"2261.816406\" xlink:href=\"#DejaVuSans-122\"/>\n    <use x=\"2314.306641\" xlink:href=\"#DejaVuSans-101\"/>\n    <use x=\"2375.830078\" xlink:href=\"#DejaVuSans-32\"/>\n    <use x=\"2407.617188\" xlink:href=\"#DejaVuSans-40\"/>\n    <use x=\"2446.630859\" xlink:href=\"#DejaVuSans-65\"/>\n    <use x=\"2514.960938\" xlink:href=\"#DejaVuSans-118\"/>\n    <use x=\"2574.140625\" xlink:href=\"#DejaVuSans-101\"/>\n    <use x=\"2635.664062\" xlink:href=\"#DejaVuSans-114\"/>\n    <use x=\"2676.777344\" xlink:href=\"#DejaVuSans-97\"/>\n    <use x=\"2738.056641\" xlink:href=\"#DejaVuSans-103\"/>\n    <use x=\"2801.533203\" xlink:href=\"#DejaVuSans-101\"/>\n    <use x=\"2863.056641\" xlink:href=\"#DejaVuSans-32\"/>\n    <use x=\"2894.84375\" xlink:href=\"#DejaVuSans-111\"/>\n    <use x=\"2956.025391\" xlink:href=\"#DejaVuSans-118\"/>\n    <use x=\"3015.205078\" xlink:href=\"#DejaVuSans-101\"/>\n    <use x=\"3076.728516\" xlink:href=\"#DejaVuSans-114\"/>\n    <use x=\"3117.841797\" xlink:href=\"#DejaVuSans-32\"/>\n    <use x=\"3149.628906\" xlink:href=\"#DejaVuSans-49\"/>\n    <use x=\"3213.251953\" xlink:href=\"#DejaVuSans-32\"/>\n    <use x=\"3245.039062\" xlink:href=\"#DejaVuSans-115\"/>\n    <use x=\"3297.138672\" xlink:href=\"#DejaVuSans-105\"/>\n    <use x=\"3324.921875\" xlink:href=\"#DejaVuSans-109\"/>\n    <use x=\"3422.333984\" xlink:href=\"#DejaVuSans-117\"/>\n    <use x=\"3485.712891\" xlink:href=\"#DejaVuSans-108\"/>\n    <use x=\"3513.496094\" xlink:href=\"#DejaVuSans-97\"/>\n    <use x=\"3574.775391\" xlink:href=\"#DejaVuSans-116\"/>\n    <use x=\"3613.984375\" xlink:href=\"#DejaVuSans-105\"/>\n    <use x=\"3641.767578\" xlink:href=\"#DejaVuSans-111\"/>\n    <use x=\"3702.949219\" xlink:href=\"#DejaVuSans-110\"/>\n    <use x=\"3766.328125\" xlink:href=\"#DejaVuSans-115\"/>\n    <use x=\"3818.427734\" xlink:href=\"#DejaVuSans-32\"/>\n    <use x=\"3850.214844\" xlink:href=\"#DejaVuSans-112\"/>\n    <use x=\"3913.691406\" xlink:href=\"#DejaVuSans-101\"/>\n    <use x=\"3975.214844\" xlink:href=\"#DejaVuSans-114\"/>\n    <use x=\"4016.328125\" xlink:href=\"#DejaVuSans-32\"/>\n    <use x=\"4048.115234\" xlink:href=\"#DejaVuSans-112\"/>\n    <use x=\"4111.591797\" xlink:href=\"#DejaVuSans-97\"/>\n    <use x=\"4172.871094\" xlink:href=\"#DejaVuSans-114\"/>\n    <use x=\"4213.984375\" xlink:href=\"#DejaVuSans-97\"/>\n    <use x=\"4275.263672\" xlink:href=\"#DejaVuSans-109\"/>\n    <use x=\"4372.675781\" xlink:href=\"#DejaVuSans-101\"/>\n    <use x=\"4434.199219\" xlink:href=\"#DejaVuSans-116\"/>\n    <use x=\"4473.408203\" xlink:href=\"#DejaVuSans-101\"/>\n    <use x=\"4534.931641\" xlink:href=\"#DejaVuSans-114\"/>\n    <use x=\"4576.044922\" xlink:href=\"#DejaVuSans-32\"/>\n    <use x=\"4607.832031\" xlink:href=\"#DejaVuSans-115\"/>\n    <use x=\"4659.931641\" xlink:href=\"#DejaVuSans-101\"/>\n    <use x=\"4721.455078\" xlink:href=\"#DejaVuSans-116\"/>\n    <use x=\"4760.664062\" xlink:href=\"#DejaVuSans-116\"/>\n    <use x=\"4799.873047\" xlink:href=\"#DejaVuSans-105\"/>\n    <use x=\"4827.65625\" xlink:href=\"#DejaVuSans-110\"/>\n    <use x=\"4891.035156\" xlink:href=\"#DejaVuSans-103\"/>\n    <use x=\"4954.511719\" xlink:href=\"#DejaVuSans-41\"/>\n   </g>\n  </g>\n </g>\n <defs>\n  <clipPath id=\"p740e08d380\">\n   <rect height=\"194.265105\" width=\"187.234557\" x=\"64.885938\" y=\"34.174895\"/>\n  </clipPath>\n  <clipPath id=\"p1168ae7f12\">\n   <rect height=\"194.265105\" width=\"187.234557\" x=\"345.385938\" y=\"34.174895\"/>\n  </clipPath>\n  <clipPath id=\"pdfcfde590c\">\n   <rect height=\"194.265105\" width=\"187.234557\" x=\"625.885938\" y=\"34.174895\"/>\n  </clipPath>\n  <clipPath id=\"p31905a1eed\">\n   <rect height=\"194.265105\" width=\"187.234557\" x=\"906.385938\" y=\"34.174895\"/>\n  </clipPath>\n </defs>\n</svg>\n",
      "image/png": "[encoded data removed]"
     },
     "metadata": {
      "needs_background": "light"
     }
    }
   ],
   "source": [
    "biasNsNorm = []\n",
    "rmseNsNorm = []\n",
    "intervalNsNorm = []\n",
    "true_atesNsMean = []\n",
    "atesNsMean = []\n",
    "\n",
    "for idx, _ in enumerate(Ns):\n",
    "    atesNsMean.append(np.mean(atesNs[idx, :]))\n",
    "    true_atesNsMean.append(np.mean(true_atesNs[idx, :]))\n",
    "    biasNsNorm.append(biasNs[idx] / true_atesNsMean[idx])\n",
    "    rmseNsNorm.append(rmseNs[idx] / true_atesNsMean[idx])\n",
    "    intervalNsNorm.append(intervalNs[idx] / true_atesNsMean[idx])\n",
    "\n",
    "xNs = list(map(str, Ns))\n",
    "cNs = np.array([[255, 0, 0], [0, 255, 0], [0, 0, 255]])\n",
    "fig, axs = plt.subplots(1, 4, figsize=(16, 4), sharey=False)\n",
    "\n",
    "axs[0].scatter(xNs, biasNsNorm, c=cNs/255)\n",
    "axs[0].set(xlabel='N', ylabel='Bias')\n",
    "axs[0].grid()\n",
    "axs[1].scatter(xNs, rmseNsNorm, c=cNs/255)\n",
    "axs[1].set(xlabel='N', ylabel='RMSE')\n",
    "axs[1].grid()\n",
    "axs[2].scatter(xNs, coverageNs, c=cNs/255)\n",
    "axs[2].set(xlabel='N', ylabel='Coverage')\n",
    "axs[2].grid()\n",
    "axs[3].scatter(xNs, intervalNsNorm, c=cNs/255)\n",
    "axs[3].set(xlabel='N', ylabel='Interval Length')\n",
    "axs[3].grid()\n",
    "\n",
    "fig.suptitle('Evaluation Metrics when Changing Sample Size (Average over ' + str(K) + ' simulations per parameter setting)')\n",
    "fig.tight_layout(pad=3.0)\n",
    "plt.show()"
   ]
  },
  {
   "cell_type": "code",
   "execution_count": 13,
   "metadata": {},
   "outputs": [
    {
     "output_type": "execute_result",
     "data": {
      "text/plain": [
       "         True ATES  Estimated ATES  Normalized Bias  Unnormalized Bias  \\\n",
       "1000   5573.123293     5571.903127         0.000219           1.220167   \n",
       "5000   5478.840563     5412.529174         0.012103          66.311389   \n",
       "10000  5777.730819     5751.275335         0.004579          26.455484   \n",
       "\n",
       "       Normalized RMSE  Unnormalized RMSE  Normalized Interval Length  \\\n",
       "1000          0.000219           1.220167                    0.263111   \n",
       "5000          0.012103          66.311389                    0.177110   \n",
       "10000         0.004579          26.455484                    0.129992   \n",
       "\n",
       "       Unnormalized Interval Length  Coverage  \n",
       "1000                    1466.348824       1.0  \n",
       "5000                     970.358226       1.0  \n",
       "10000                    751.060888       1.0  "
      ],
      "text/html": "<div>\n<style scoped>\n    .dataframe tbody tr th:only-of-type {\n        vertical-align: middle;\n    }\n\n    .dataframe tbody tr th {\n        vertical-align: top;\n    }\n\n    .dataframe thead th {\n        text-align: right;\n    }\n</style>\n<table border=\"1\" class=\"dataframe\">\n  <thead>\n    <tr style=\"text-align: right;\">\n      <th></th>\n      <th>True ATES</th>\n      <th>Estimated ATES</th>\n      <th>Normalized Bias</th>\n      <th>Unnormalized Bias</th>\n      <th>Normalized RMSE</th>\n      <th>Unnormalized RMSE</th>\n      <th>Normalized Interval Length</th>\n      <th>Unnormalized Interval Length</th>\n      <th>Coverage</th>\n    </tr>\n  </thead>\n  <tbody>\n    <tr>\n      <th>1000</th>\n      <td>5573.123293</td>\n      <td>5571.903127</td>\n      <td>0.000219</td>\n      <td>1.220167</td>\n      <td>0.000219</td>\n      <td>1.220167</td>\n      <td>0.263111</td>\n      <td>1466.348824</td>\n      <td>1.0</td>\n    </tr>\n    <tr>\n      <th>5000</th>\n      <td>5478.840563</td>\n      <td>5412.529174</td>\n      <td>0.012103</td>\n      <td>66.311389</td>\n      <td>0.012103</td>\n      <td>66.311389</td>\n      <td>0.177110</td>\n      <td>970.358226</td>\n      <td>1.0</td>\n    </tr>\n    <tr>\n      <th>10000</th>\n      <td>5777.730819</td>\n      <td>5751.275335</td>\n      <td>0.004579</td>\n      <td>26.455484</td>\n      <td>0.004579</td>\n      <td>26.455484</td>\n      <td>0.129992</td>\n      <td>751.060888</td>\n      <td>1.0</td>\n    </tr>\n  </tbody>\n</table>\n</div>"
     },
     "metadata": {},
     "execution_count": 13
    }
   ],
   "source": [
    "data = {'True ATES':true_atesNsMean, 'Estimated ATES': atesNsMean,   \n",
    "        'Normalized Bias': biasNsNorm, 'Unnormalized Bias':biasNs, \n",
    "        'Normalized RMSE': rmseNsNorm, 'Unnormalized RMSE':rmseNs, \n",
    "        'Normalized Interval Length': intervalNsNorm, 'Unnormalized Interval Length':intervalNs,\n",
    "        'Coverage':coverageNs}\n",
    "        \n",
    "tableNs = pd.DataFrame(data=data, index=xNs)\n",
    "tableNs"
   ]
  },
  {
   "cell_type": "markdown",
   "metadata": {},
   "source": [
    "### (2) Degree of Non-linearity in X"
   ]
  },
  {
   "cell_type": "code",
   "execution_count": 66,
   "metadata": {},
   "outputs": [
    {
     "data": {
      "application/vnd.jupyter.widget-view+json": {
       "model_id": "5a72f6e67c144621a90cbaecbda90999",
       "version_major": 2,
       "version_minor": 0
      },
      "text/plain": [
       "HBox(children=(FloatProgress(value=0.0, max=50.0), HTML(value='')))"
      ]
     },
     "metadata": {},
     "output_type": "display_data"
    },
    {
     "name": "stdout",
     "output_type": "stream",
     "text": [
      "\n"
     ]
    },
    {
     "data": {
      "application/vnd.jupyter.widget-view+json": {
       "model_id": "cf54a0201c1445c59aed79005e3c0955",
       "version_major": 2,
       "version_minor": 0
      },
      "text/plain": [
       "HBox(children=(FloatProgress(value=0.0, max=50.0), HTML(value='')))"
      ]
     },
     "metadata": {},
     "output_type": "display_data"
    },
    {
     "name": "stdout",
     "output_type": "stream",
     "text": [
      "\n"
     ]
    },
    {
     "data": {
      "application/vnd.jupyter.widget-view+json": {
       "model_id": "d1bb77df445245aa9b5c5650a49d141d",
       "version_major": 2,
       "version_minor": 0
      },
      "text/plain": [
       "HBox(children=(FloatProgress(value=0.0, max=50.0), HTML(value='')))"
      ]
     },
     "metadata": {},
     "output_type": "display_data"
    },
    {
     "name": "stdout",
     "output_type": "stream",
     "text": [
      "\n"
     ]
    },
    {
     "data": {
      "application/vnd.jupyter.widget-view+json": {
       "model_id": "7f2ebc6fb1ee491989b38b841cdffa1e",
       "version_major": 2,
       "version_minor": 0
      },
      "text/plain": [
       "HBox(children=(FloatProgress(value=0.0, max=50.0), HTML(value='')))"
      ]
     },
     "metadata": {},
     "output_type": "display_data"
    },
    {
     "name": "stdout",
     "output_type": "stream",
     "text": [
      "\n"
     ]
    }
   ],
   "source": [
    "K = 50\n",
    "linearityLevels = ['full', 'high', 'med', 'low']\n",
    "\n",
    "biasLLs = np.zeros(len(linearityLevels))\n",
    "rmseLLs = np.zeros(len(linearityLevels))\n",
    "coverageLLs = np.zeros(len(linearityLevels))\n",
    "intervalLLs = np.zeros(len(linearityLevels))\n",
    "lbsLLs = np.zeros((len(linearityLevels), K))\n",
    "ubsLLs = np.zeros((len(linearityLevels), K))\n",
    "atesLLs = np.zeros((len(linearityLevels), K))\n",
    "true_atesLLs = np.zeros((len(linearityLevels), K))\n",
    "\n",
    "\n",
    "for idx, level in enumerate(linearityLevels):\n",
    "    estLLs = []\n",
    "    trueATELLs = []\n",
    "    evalSetLLs = []\n",
    "    for i in tqdm(range(K)):\n",
    "        y, X, trueBetas, featureNames, treatments, cy, ate, treated = dgp(welfare, linearity=level)\n",
    "        est, X_test, Y_test, treated_test, CY_test = estimate_cf(y, X, treatments, treated, cy)\n",
    "\n",
    "        # Calculate test set ATE\n",
    "        tmp = Y_test[treated_test] - CY_test[treated_test]\n",
    "        tmp1 = CY_test[~treated_test] - Y_test[~treated_test]\n",
    "        test_ate = (tmp.mean() + tmp1.mean())/2\n",
    "        ate = test_ate\n",
    "        \n",
    "        estLLs.append(est)\n",
    "        trueATELLs.append(ate)\n",
    "        evalSetLLs.append(X_test)\n",
    "\n",
    "    bias, rmse, coverage, interval, lbs, ubs, ates = evalStats(estLLs, trueATELLs, evalSetLLs)\n",
    "    \n",
    "    biasLLs[idx] = bias\n",
    "    rmseLLs[idx] = rmse\n",
    "    coverageLLs[idx] = coverage\n",
    "    intervalLLs[idx] = interval\n",
    "    lbsLLs[idx, :] = lbs\n",
    "    ubsLLs[idx, :] = ubs\n",
    "    atesLLs[idx, :] = ates\n",
    "    true_atesLLs[idx, :] = trueATELLs"
   ]
  },
  {
   "cell_type": "code",
   "execution_count": 67,
   "metadata": {},
   "outputs": [
    {
     "data": {
      "text/plain": [
       "['Results/intervalLLs_50.pkl']"
      ]
     },
     "execution_count": 67,
     "metadata": {},
     "output_type": "execute_result"
    }
   ],
   "source": [
    "# dump data\n",
    "joblib.dump(biasLLs, 'Results/biasLLs_{}.pkl'.format(K))\n",
    "joblib.dump(rmseLLs, 'Results/rmseLLs_{}.pkl'.format(K))\n",
    "joblib.dump(coverageLLs, 'Results/coverageLLs_{}.pkl'.format(K))\n",
    "joblib.dump(intervalLLs, 'Results/intervalLLs_{}.pkl'.format(K))\n",
    "joblib.dump(lbsLLs, 'Results/lbsLLs_{}.pkl'.format(K))\n",
    "joblib.dump(ubsLLs, 'Results/ubsLLs_{}.pkl'.format(K))\n",
    "joblib.dump(atesLLs, 'Results/atesLLs_{}.pkl'.format(K))\n",
    "joblib.dump(true_atesLLs, 'Results/true_atesLLs_{}.pkl'.format(K))"
   ]
  },
  {
   "cell_type": "code",
   "execution_count": 20,
   "metadata": {},
   "outputs": [],
   "source": [
    "# load data\n",
    "biasLLs = joblib.load('Results/biasLLs_{}.pkl'.format(K))\n",
    "rmseLLs = joblib.load('Results/rmseLLs_{}.pkl'.format(K))\n",
    "coverageLLs = joblib.load('Results/coverageLLs_{}.pkl'.format(K))\n",
    "intervalLLs = joblib.load('Results/intervalLLs_{}.pkl'.format(K))\n",
    "lbsLLs = joblib.load('Results/lbsLLs_{}.pkl'.format(K))\n",
    "ubsLLs = joblib.load('Results/ubsLLs_{}.pkl'.format(K))\n",
    "atesLLs = joblib.load('Results/atesLLs_{}.pkl'.format(K))\n",
    "true_atesLLs = joblib.load('Results/true_atesLLs_{}'.format(K))"
   ]
  },
  {
   "cell_type": "code",
   "execution_count": 88,
   "metadata": {},
   "outputs": [
    {
     "data": {
      "image/png": "[encoded data removed]",
      "text/plain": [
       "<Figure size 1152x288 with 4 Axes>"
      ]
     },
     "metadata": {
      "needs_background": "light"
     },
     "output_type": "display_data"
    }
   ],
   "source": [
    "biasLLsNorm = []\n",
    "rmseLLsNorm = []\n",
    "intervalLLsNorm = []\n",
    "true_atesLLsMean = []\n",
    "atesLLsMean = []\n",
    "\n",
    "for idx, _ in enumerate(linearityLevels):\n",
    "    atesLLsMean.append(np.mean(atesLLs[idx, :]))\n",
    "    true_atesLLsMean.append(np.mean(true_atesLLs[idx, :]))\n",
    "    biasLLsNorm.append(biasLLs[idx] / true_atesLLsMean[idx])\n",
    "    rmseLLsNorm.append(rmseLLs[idx] / true_atesLLsMean[idx])\n",
    "    intervalLLsNorm.append(intervalLLs[idx] / true_atesLLsMean[idx])\n",
    "\n",
    "xLLs = linearityLevels\n",
    "cLLs = np.array([[255, 0, 0], [0, 255, 0], [0, 0, 255], [255, 165, 0]])\n",
    "fig, axs = plt.subplots(1, 4, figsize=(16, 4), sharey=False)\n",
    "\n",
    "axs[0].scatter(xLLs, biasLLsNorm, c=cLLs/255)\n",
    "axs[0].set(xlabel='Amount of Linearity', ylabel='Bias')\n",
    "axs[0].grid()\n",
    "axs[1].scatter(xLLs, rmseLLsNorm, c=cLLs/255)\n",
    "axs[1].set(xlabel='Amount of Linearity', ylabel='RMSE')\n",
    "axs[1].grid()\n",
    "axs[2].scatter(xLLs, coverageLLs, c=cLLs/255)\n",
    "axs[2].set(xlabel='Amount of Linearity', ylabel='Coverage')\n",
    "axs[2].grid()\n",
    "axs[3].scatter(xLLs, intervalLLsNorm, c=cLLs/255)\n",
    "axs[3].set(xlabel='Amount of Linearity', ylabel='Interval Length')\n",
    "axs[3].grid()\n",
    "\n",
    "fig.suptitle('Evaluation Metrics when Changing Amount of Linearity (Average over ' + str(K) + ' simulations per parameter setting)')\n",
    "fig.tight_layout(pad=3.0)\n",
    "plt.show()"
   ]
  },
  {
   "cell_type": "code",
   "execution_count": 89,
   "metadata": {},
   "outputs": [
    {
     "data": {
      "text/html": [
       "<div>\n",
       "<style scoped>\n",
       "    .dataframe tbody tr th:only-of-type {\n",
       "        vertical-align: middle;\n",
       "    }\n",
       "\n",
       "    .dataframe tbody tr th {\n",
       "        vertical-align: top;\n",
       "    }\n",
       "\n",
       "    .dataframe thead th {\n",
       "        text-align: right;\n",
       "    }\n",
       "</style>\n",
       "<table border=\"1\" class=\"dataframe\">\n",
       "  <thead>\n",
       "    <tr style=\"text-align: right;\">\n",
       "      <th></th>\n",
       "      <th>Bias</th>\n",
       "      <th>RMSE</th>\n",
       "      <th>Coverage</th>\n",
       "      <th>Interval Length</th>\n",
       "    </tr>\n",
       "  </thead>\n",
       "  <tbody>\n",
       "    <tr>\n",
       "      <th>full</th>\n",
       "      <td>98.856343</td>\n",
       "      <td>124.835216</td>\n",
       "      <td>1.0</td>\n",
       "      <td>1.364208e+03</td>\n",
       "    </tr>\n",
       "    <tr>\n",
       "      <th>high</th>\n",
       "      <td>104.644939</td>\n",
       "      <td>127.475893</td>\n",
       "      <td>1.0</td>\n",
       "      <td>1.267094e+03</td>\n",
       "    </tr>\n",
       "    <tr>\n",
       "      <th>med</th>\n",
       "      <td>100.163307</td>\n",
       "      <td>130.322956</td>\n",
       "      <td>1.0</td>\n",
       "      <td>8.824807e+02</td>\n",
       "    </tr>\n",
       "    <tr>\n",
       "      <th>low</th>\n",
       "      <td>693302.534341</td>\n",
       "      <td>959892.574391</td>\n",
       "      <td>1.0</td>\n",
       "      <td>4.608999e+07</td>\n",
       "    </tr>\n",
       "  </tbody>\n",
       "</table>\n",
       "</div>"
      ],
      "text/plain": [
       "               Bias           RMSE  Coverage  Interval Length\n",
       "full      98.856343     124.835216       1.0     1.364208e+03\n",
       "high     104.644939     127.475893       1.0     1.267094e+03\n",
       "med      100.163307     130.322956       1.0     8.824807e+02\n",
       "low   693302.534341  959892.574391       1.0     4.608999e+07"
      ]
     },
     "execution_count": 89,
     "metadata": {},
     "output_type": "execute_result"
    }
   ],
   "source": [
    "data = {'True ATES':true_atesLLsMean, 'Estimated ATES': atesLLsMean,   \n",
    "        'Normalized Bias': biasLLsNorm, 'Unnormalized Bias':biasLLs, \n",
    "        'Normalized RMSE': rmseLLsNorm, 'Unnormalized RMSE':rmseLLs, \n",
    "        'Normalized Interval Length': intervalLLsNorm, 'Unnormalized Interval Length':intervalLLs,\n",
    "        'Coverage':coverageLLs}\n",
    "        \n",
    "tableLLs = pd.DataFrame(data=data, index=xLLs)\n",
    "tableLLs"
   ]
  },
  {
   "cell_type": "markdown",
   "metadata": {},
   "source": [
    "### (3) Percentage Treated"
   ]
  },
  {
   "cell_type": "code",
   "execution_count": 68,
   "metadata": {},
   "outputs": [
    {
     "data": {
      "application/vnd.jupyter.widget-view+json": {
       "model_id": "e7e3b6a878cf4177b276b86ff7655297",
       "version_major": 2,
       "version_minor": 0
      },
      "text/plain": [
       "HBox(children=(FloatProgress(value=0.0, max=50.0), HTML(value='')))"
      ]
     },
     "metadata": {},
     "output_type": "display_data"
    },
    {
     "name": "stdout",
     "output_type": "stream",
     "text": [
      "\n"
     ]
    },
    {
     "data": {
      "application/vnd.jupyter.widget-view+json": {
       "model_id": "6070f71195354c078c6ca9a29af10b13",
       "version_major": 2,
       "version_minor": 0
      },
      "text/plain": [
       "HBox(children=(FloatProgress(value=0.0, max=50.0), HTML(value='')))"
      ]
     },
     "metadata": {},
     "output_type": "display_data"
    },
    {
     "name": "stdout",
     "output_type": "stream",
     "text": [
      "\n"
     ]
    },
    {
     "data": {
      "application/vnd.jupyter.widget-view+json": {
       "model_id": "36ea7d81515142de959e914b2a0cf313",
       "version_major": 2,
       "version_minor": 0
      },
      "text/plain": [
       "HBox(children=(FloatProgress(value=0.0, max=50.0), HTML(value='')))"
      ]
     },
     "metadata": {},
     "output_type": "display_data"
    },
    {
     "name": "stdout",
     "output_type": "stream",
     "text": [
      "\n"
     ]
    }
   ],
   "source": [
    "K = 50\n",
    "percentTreats = [0.1, 0.5, 0.9]\n",
    "\n",
    "biasPTs = np.zeros(len(percentTreats))\n",
    "rmsePTs = np.zeros(len(percentTreats))\n",
    "coveragePTs = np.zeros(len(percentTreats))\n",
    "intervalPTs = np.zeros(len(percentTreats))\n",
    "lbsPTs = np.zeros((len(percentTreats), K))\n",
    "ubsPTs = np.zeros((len(percentTreats), K))\n",
    "atesPTs = np.zeros((len(percentTreats), K))\n",
    "true_atesPTs = np.zeros((len(percentTreats), K))\n",
    "\n",
    "for idx, percent in enumerate(percentTreats):\n",
    "    estPTs = []\n",
    "    trueATEPTs = []\n",
    "    evalSetPTs = []\n",
    "    for i in tqdm(range(K)):\n",
    "        y, X, trueBetas, featureNames, treatments, cy, ate, treated = dgp(welfare, treatment_probability=percent)\n",
    "        est, X_test, Y_test, treated_test, CY_test = estimate_cf(y, X, treatments, treated, cy)\n",
    "\n",
    "        # Calculate test set ATE\n",
    "        tmp = Y_test[treated_test] - CY_test[treated_test]\n",
    "        tmp1 = CY_test[~treated_test] - Y_test[~treated_test]\n",
    "        test_ate = (tmp.mean() + tmp1.mean())/2\n",
    "        ate = test_ate\n",
    "\n",
    "        estPTs.append(est)\n",
    "        trueATEPTs.append(ate)\n",
    "        evalSetPTs.append(X_test)\n",
    "\n",
    "    bias, rmse, coverage, interval, lbs, ubs, ates = evalStats(estPTs, trueATEPTs, evalSetPTs)\n",
    "    \n",
    "    biasPTs[idx] = bias\n",
    "    rmsePTs[idx] = rmse\n",
    "    coveragePTs[idx] = coverage\n",
    "    intervalPTs[idx] = interval\n",
    "    lbsPTs[idx, :] = lbs\n",
    "    ubsPTs[idx, :] = ubs\n",
    "    atesPTs[idx, :] = ates\n",
    "    true_atesPTs[idx, :] = trueATEPTs"
   ]
  },
  {
   "cell_type": "code",
   "execution_count": 69,
   "metadata": {},
   "outputs": [
    {
     "data": {
      "text/plain": [
       "['Results/intervalPTs_50.pkl']"
      ]
     },
     "execution_count": 69,
     "metadata": {},
     "output_type": "execute_result"
    }
   ],
   "source": [
    "joblib.dump(biasPTs, 'Results/biasPTs_{}.pkl'.format(K))\n",
    "joblib.dump(rmsePTs, 'Results/rmsePTs_{}.pkl'.format(K))\n",
    "joblib.dump(coveragePTs, 'Results/coveragePTs_{}.pkl'.format(K))\n",
    "joblib.dump(intervalPTs, 'Results/intervalPTs_{}.pkl'.format(K))\n",
    "joblib.dump(lbsPTs, 'Results/lbsPTs_{}.pkl'.format(K))\n",
    "joblib.dump(ubsPTs, 'Results/ubsPTs_{}.pkl'.format(K))\n",
    "joblib.dump(atesPTs, 'Results/atesPTs_{}.pkl'.format(K))\n",
    "joblib.dump(true_atesPTs, 'Results/true_atesPTs_{}.pkl'.format(K))"
   ]
  },
  {
   "cell_type": "code",
   "execution_count": 25,
   "metadata": {},
   "outputs": [],
   "source": [
    "K = 50\n",
    "biasPTs = joblib.load('Results/biasPTs_{}.pkl'.format(K))\n",
    "rmsePTs = joblib.load('Results/rmsePTs_{}.pkl'.format(K))\n",
    "coveragePTs = joblib.load('Results/coveragePTs_{}.pkl'.format(K))\n",
    "intervalPTs = joblib.load('Results/intervalPTs_{}.pkl'.format(K))\n",
    "lbsPTs = joblib.load('Results/lbsPTs_{}.pkl'.format(K))\n",
    "ubsPTs = joblib.load('Results/ubsPTs_{}.pkl'.format(K))\n",
    "atesPTs = joblib.load('Results/atesPTs_{}.pkl'.format(K))\n",
    "true_atesPTs = joblib.load('Results/true_atesPTs_{}'.format(K))"
   ]
  },
  {
   "cell_type": "code",
   "execution_count": 86,
   "metadata": {},
   "outputs": [
    {
     "data": {
      "image/png": "[encoded data removed]",
      "text/plain": [
       "<Figure size 1152x288 with 4 Axes>"
      ]
     },
     "metadata": {
      "needs_background": "light"
     },
     "output_type": "display_data"
    }
   ],
   "source": [
    "biasPTsNorm = []\n",
    "rmsePTsNorm = []\n",
    "intervalPTsNorm = []\n",
    "true_atesPTsMean = []\n",
    "atesPTsMean = []\n",
    "\n",
    "for idx, _ in enumerate(percentTreats):\n",
    "    atesPTsMean.append(np.mean(atesPTs[idx, :]))\n",
    "    true_atesPTsMean.append(np.mean(true_atesPTs[idx, :]))\n",
    "    biasPTsNorm.append(biasPTs[idx] / true_atesPTsMean[idx])\n",
    "    rmsePTsNorm.append(rmsePTs[idx] / true_atesPTsMean[idx])\n",
    "    intervalPTsNorm.append(intervalPTs[idx] / true_atesPTsMean[idx])\n",
    "\n",
    "xPTs = list(map(str, percentTreats))\n",
    "cPTs = np.array([[255, 0, 0], [0, 255, 0], [0, 0, 255]])\n",
    "fig, axs = plt.subplots(1, 4, figsize=(16, 4), sharey=False)\n",
    "\n",
    "axs[0].scatter(xPTs, biasPTsNorm, c=cPTs/255)\n",
    "axs[0].set(xlabel='Percentage Treated', ylabel='Bias')\n",
    "axs[0].grid()\n",
    "axs[1].scatter(xPTs, rmsePTsNorm, c=cPTs/255)\n",
    "axs[1].set(xlabel='Percentage Treated', ylabel='RMSE')\n",
    "axs[1].grid()\n",
    "axs[2].scatter(xPTs, coveragePTs, c=cPTs/255)\n",
    "axs[2].set(xlabel='Percentage Treated', ylabel='Coverage')\n",
    "axs[2].grid()\n",
    "axs[3].scatter(xPTs, intervalPTsNorm, c=cPTs/255)\n",
    "axs[3].set(xlabel='Percentage Treated', ylabel='Interval Length')\n",
    "axs[3].grid()\n",
    "\n",
    "fig.suptitle('Evaluation Metrics when Changing Percentage Treated (Average over ' + str(K) + ' simulations per parameter setting)')\n",
    "fig.tight_layout(pad=3.0)\n",
    "plt.show()"
   ]
  },
  {
   "cell_type": "code",
   "execution_count": 87,
   "metadata": {},
   "outputs": [
    {
     "data": {
      "text/html": [
       "<div>\n",
       "<style scoped>\n",
       "    .dataframe tbody tr th:only-of-type {\n",
       "        vertical-align: middle;\n",
       "    }\n",
       "\n",
       "    .dataframe tbody tr th {\n",
       "        vertical-align: top;\n",
       "    }\n",
       "\n",
       "    .dataframe thead th {\n",
       "        text-align: right;\n",
       "    }\n",
       "</style>\n",
       "<table border=\"1\" class=\"dataframe\">\n",
       "  <thead>\n",
       "    <tr style=\"text-align: right;\">\n",
       "      <th></th>\n",
       "      <th>Bias</th>\n",
       "      <th>RMSE</th>\n",
       "      <th>Coverage</th>\n",
       "      <th>Interval Length</th>\n",
       "    </tr>\n",
       "  </thead>\n",
       "  <tbody>\n",
       "    <tr>\n",
       "      <th>0.1</th>\n",
       "      <td>125.182355</td>\n",
       "      <td>164.349734</td>\n",
       "      <td>1.0</td>\n",
       "      <td>1767.136026</td>\n",
       "    </tr>\n",
       "    <tr>\n",
       "      <th>0.5</th>\n",
       "      <td>104.172549</td>\n",
       "      <td>132.986977</td>\n",
       "      <td>1.0</td>\n",
       "      <td>887.183905</td>\n",
       "    </tr>\n",
       "    <tr>\n",
       "      <th>0.9</th>\n",
       "      <td>169.069514</td>\n",
       "      <td>195.734223</td>\n",
       "      <td>1.0</td>\n",
       "      <td>1789.989696</td>\n",
       "    </tr>\n",
       "  </tbody>\n",
       "</table>\n",
       "</div>"
      ],
      "text/plain": [
       "           Bias        RMSE  Coverage  Interval Length\n",
       "0.1  125.182355  164.349734       1.0      1767.136026\n",
       "0.5  104.172549  132.986977       1.0       887.183905\n",
       "0.9  169.069514  195.734223       1.0      1789.989696"
      ]
     },
     "execution_count": 87,
     "metadata": {},
     "output_type": "execute_result"
    }
   ],
   "source": [
    "data = {'True ATES':true_atesPTsMean, 'Estimated ATES': atesPTsMean,   \n",
    "        'Normalized Bias': biasPTsNorm, 'Unnormalized Bias':biasPTs, \n",
    "        'Normalized RMSE': rmsePTsNorm, 'Unnormalized RMSE':rmsePTs, \n",
    "        'Normalized Interval Length': intervalPTsNorm, 'Unnormalized Interval Length':intervalPTs,\n",
    "        'Coverage':coveragePTs}\n",
    "        \n",
    "tablePTs = pd.DataFrame(data=data, index=xPTs)\n",
    "tablePTs"
   ]
  },
  {
   "cell_type": "markdown",
   "metadata": {},
   "source": [
    "### (4) Overlap"
   ]
  },
  {
   "cell_type": "code",
   "execution_count": 70,
   "metadata": {},
   "outputs": [
    {
     "data": {
      "application/vnd.jupyter.widget-view+json": {
       "model_id": "1716cd94b88a41a0a65d027f5180a4e3",
       "version_major": 2,
       "version_minor": 0
      },
      "text/plain": [
       "HBox(children=(FloatProgress(value=0.0, max=50.0), HTML(value='')))"
      ]
     },
     "metadata": {},
     "output_type": "display_data"
    },
    {
     "name": "stdout",
     "output_type": "stream",
     "text": [
      "\n"
     ]
    },
    {
     "data": {
      "application/vnd.jupyter.widget-view+json": {
       "model_id": "0000d2748afe426587e77029c74f78a5",
       "version_major": 2,
       "version_minor": 0
      },
      "text/plain": [
       "HBox(children=(FloatProgress(value=0.0, max=50.0), HTML(value='')))"
      ]
     },
     "metadata": {},
     "output_type": "display_data"
    },
    {
     "name": "stdout",
     "output_type": "stream",
     "text": [
      "\n"
     ]
    }
   ],
   "source": [
    "K = 50\n",
    "overlapTypes = [True, False]\n",
    "\n",
    "biasOTs = np.zeros(len(overlapTypes))\n",
    "rmseOTs = np.zeros(len(overlapTypes))\n",
    "coverageOTs = np.zeros(len(overlapTypes))\n",
    "intervalOTs = np.zeros(len(overlapTypes))\n",
    "lbsOTs = np.zeros((len(overlapTypes), K))\n",
    "ubsOTs = np.zeros((len(overlapTypes), K))\n",
    "atesOTs = np.zeros((len(overlapTypes), K))\n",
    "true_atesOTs = np.zeros((len(overlapTypes), K))\n",
    "\n",
    "for idx, overlap in enumerate(overlapTypes):\n",
    "    estOTs = []\n",
    "    trueATEOTs = []\n",
    "    evalSetOTs = []\n",
    "    for i in tqdm(range(K)):\n",
    "        y, X, trueBetas, featureNames, treatments, cy, ate, treated = dgp(welfare, overlap=overlap)\n",
    "        est, X_test, Y_test, treated_test, CY_test = estimate_cf(y, X, treatments, treated, cy)\n",
    "\n",
    "        # Calculate test set ATE\n",
    "        tmp = Y_test[treated_test] - CY_test[treated_test]\n",
    "        tmp1 = CY_test[~treated_test] - Y_test[~treated_test]\n",
    "        test_ate = (tmp.mean() + tmp1.mean())/2\n",
    "        ate = test_ate\n",
    "\n",
    "        estOTs.append(est)\n",
    "        trueATEOTs.append(ate)\n",
    "        evalSetOTs.append(X_test)\n",
    "\n",
    "    bias, rmse, coverage, interval, lbs, ubs, ates = evalStats(estOTs, trueATEOTs, evalSetOTs)\n",
    "    \n",
    "    biasOTs[idx] = bias\n",
    "    rmseOTs[idx] = rmse\n",
    "    coverageOTs[idx] = coverage\n",
    "    intervalOTs[idx] = interval\n",
    "    lbsOTs[idx, :] = lbs\n",
    "    ubsOTs[idx, :] = ubs\n",
    "    atesOTs[idx, :] = ates\n",
    "    true_atesOTs[idx, :] = trueATEOTs"
   ]
  },
  {
   "cell_type": "code",
   "execution_count": 71,
   "metadata": {},
   "outputs": [
    {
     "data": {
      "text/plain": [
       "['Results/intervalOTs_50.pkl']"
      ]
     },
     "execution_count": 71,
     "metadata": {},
     "output_type": "execute_result"
    }
   ],
   "source": [
    "joblib.dump(biasOTs, 'Results/biasOTs_{}.pkl'.format(K))\n",
    "joblib.dump(rmseOTs, 'Results/rmseOTs_{}.pkl'.format(K))\n",
    "joblib.dump(coverageOTs, 'Results/coverageOTs_{}.pkl'.format(K))\n",
    "joblib.dump(intervalOTs, 'Results/intervalOTs_{}.pkl'.format(K))\n",
    "joblib.dump(lbsOTs, 'Results/lbsOTs_{}.pkl'.format(K))\n",
    "joblib.dump(ubsOTs, 'Results/ubsOTs_{}.pkl'.format(K))\n",
    "joblib.dump(atesOTs, 'Results/atesOTs_{}.pkl'.format(K))\n",
    "joblib.dump(true_atesOTs, 'Results/true_atesOTs_{}.pkl'.format(K))"
   ]
  },
  {
   "cell_type": "code",
   "execution_count": 30,
   "metadata": {},
   "outputs": [],
   "source": [
    "biasOTs = joblib.load('Results/biasOTs_{}.pkl'.format(K))\n",
    "rmseOTs = joblib.load('Results/rmseOTs_{}.pkl'.format(K))\n",
    "coverageOTs = joblib.load('Results/coverageOTs_{}.pkl'.format(K))\n",
    "intervalOTs = joblib.load('Results/intervalOTs_{}.pkl'.format(K))\n",
    "lbsOTs = joblib.load('Results/lbsOTs_{}.pkl'.format(K))\n",
    "ubsOTs = joblib.load('Results/ubsOTs_{}.pkl'.format(K))\n",
    "atesOTs = joblib.load('Results/atesOTs_{}.pkl'.format(K))\n",
    "true_atesOTs = joblib.load('Results/true_atesOTs_{}'.format(K))"
   ]
  },
  {
   "cell_type": "code",
   "execution_count": 84,
   "metadata": {},
   "outputs": [
    {
     "data": {
      "image/png": "[encoded data removed]",
      "text/plain": [
       "<Figure size 1152x288 with 4 Axes>"
      ]
     },
     "metadata": {
      "needs_background": "light"
     },
     "output_type": "display_data"
    }
   ],
   "source": [
    "biasOTsNorm = []\n",
    "rmseOTsNorm = []\n",
    "intervalOTsNorm = []\n",
    "true_atesOTsMean = []\n",
    "atesOTsMean = []\n",
    "\n",
    "for idx, _ in enumerate(overlapTypes):\n",
    "    atesOTsMean.append(np.mean(atesOTs[idx, :]))\n",
    "    true_atesOTsMean.append(np.mean(true_atesOTs[idx, :]))\n",
    "    biasOTsNorm.append(biasOTs[idx] / true_atesOTsMean[idx])\n",
    "    rmseOTsNorm.append(rmseOTs[idx] / true_atesOTsMean[idx])\n",
    "    intervalOTsNorm.append(intervalOTs[idx] / true_atesOTsMean[idx])\n",
    "\n",
    "xOTs = list(map(str, overlapTypes))\n",
    "cOTs = np.array([[255, 0, 0], [0, 255, 0]])\n",
    "fig, axs = plt.subplots(1, 4, figsize=(16, 4), sharey=False)\n",
    "\n",
    "axs[0].scatter(xOTs, biasOTsNorm, c=cOTs/255)\n",
    "axs[0].set(xlabel='Overlap Type', ylabel='Bias')\n",
    "axs[0].grid()\n",
    "axs[1].scatter(xOTs, rmseOTsNorm, c=cOTs/255)\n",
    "axs[1].set(xlabel='Overlap Type', ylabel='RMSE')\n",
    "axs[1].grid()\n",
    "axs[2].scatter(xOTs, coverageOTs, c=cOTs/255)\n",
    "axs[2].set(xlabel='Overlap Type', ylabel='Coverage')\n",
    "axs[2].grid()\n",
    "axs[3].scatter(xOTs, intervalOTsNorm, c=cOTs/255)\n",
    "axs[3].set(xlabel='Overlap Type', ylabel='Interval Length')\n",
    "axs[3].grid()\n",
    "\n",
    "fig.suptitle('Evaluation Metrics when Changing Overlap (Average over ' + str(K) + ' simulations per parameter setting)')\n",
    "fig.tight_layout(pad=3.0)\n",
    "plt.show()"
   ]
  },
  {
   "cell_type": "code",
   "execution_count": 85,
   "metadata": {},
   "outputs": [
    {
     "data": {
      "text/html": [
       "<div>\n",
       "<style scoped>\n",
       "    .dataframe tbody tr th:only-of-type {\n",
       "        vertical-align: middle;\n",
       "    }\n",
       "\n",
       "    .dataframe tbody tr th {\n",
       "        vertical-align: top;\n",
       "    }\n",
       "\n",
       "    .dataframe thead th {\n",
       "        text-align: right;\n",
       "    }\n",
       "</style>\n",
       "<table border=\"1\" class=\"dataframe\">\n",
       "  <thead>\n",
       "    <tr style=\"text-align: right;\">\n",
       "      <th></th>\n",
       "      <th>Bias</th>\n",
       "      <th>RMSE</th>\n",
       "      <th>Coverage</th>\n",
       "      <th>Interval Length</th>\n",
       "    </tr>\n",
       "  </thead>\n",
       "  <tbody>\n",
       "    <tr>\n",
       "      <th>True</th>\n",
       "      <td>110.715585</td>\n",
       "      <td>132.712166</td>\n",
       "      <td>1.0</td>\n",
       "      <td>870.994308</td>\n",
       "    </tr>\n",
       "    <tr>\n",
       "      <th>False</th>\n",
       "      <td>110.202531</td>\n",
       "      <td>142.416281</td>\n",
       "      <td>1.0</td>\n",
       "      <td>1084.738066</td>\n",
       "    </tr>\n",
       "  </tbody>\n",
       "</table>\n",
       "</div>"
      ],
      "text/plain": [
       "             Bias        RMSE  Coverage  Interval Length\n",
       "True   110.715585  132.712166       1.0       870.994308\n",
       "False  110.202531  142.416281       1.0      1084.738066"
      ]
     },
     "execution_count": 85,
     "metadata": {},
     "output_type": "execute_result"
    }
   ],
   "source": [
    "data = {'True ATES':true_atesOTsMean, 'Estimated ATES': atesOTsMean,   \n",
    "        'Normalized Bias': biasOTsNorm, 'Unnormalized Bias':biasOTs, \n",
    "        'Normalized RMSE': rmseOTsNorm, 'Unnormalized RMSE':rmseOTs, \n",
    "        'Normalized Interval Length': intervalOTsNorm, 'Unnormalized Interval Length':intervalOTs,\n",
    "        'Coverage':coverageOTs}\n",
    "        \n",
    "tableOTs = pd.DataFrame(data=data, index=xOTs)\n",
    "tableOTs"
   ]
  },
  {
   "cell_type": "markdown",
   "metadata": {},
   "source": [
    "### (5) Treatment Effect Heterogeneity Level"
   ]
  },
  {
   "cell_type": "code",
   "execution_count": 72,
   "metadata": {},
   "outputs": [
    {
     "data": {
      "application/vnd.jupyter.widget-view+json": {
       "model_id": "7d9704164c2f4985bdd8e06823e344ac",
       "version_major": 2,
       "version_minor": 0
      },
      "text/plain": [
       "HBox(children=(FloatProgress(value=0.0, max=50.0), HTML(value='')))"
      ]
     },
     "metadata": {},
     "output_type": "display_data"
    },
    {
     "name": "stdout",
     "output_type": "stream",
     "text": [
      "\n"
     ]
    },
    {
     "data": {
      "application/vnd.jupyter.widget-view+json": {
       "model_id": "07c02f4196f44e899563ae05f3bffe10",
       "version_major": 2,
       "version_minor": 0
      },
      "text/plain": [
       "HBox(children=(FloatProgress(value=0.0, max=50.0), HTML(value='')))"
      ]
     },
     "metadata": {},
     "output_type": "display_data"
    },
    {
     "name": "stdout",
     "output_type": "stream",
     "text": [
      "\n"
     ]
    },
    {
     "data": {
      "application/vnd.jupyter.widget-view+json": {
       "model_id": "aca295862dbd4a31b79c86f0bde332e8",
       "version_major": 2,
       "version_minor": 0
      },
      "text/plain": [
       "HBox(children=(FloatProgress(value=0.0, max=50.0), HTML(value='')))"
      ]
     },
     "metadata": {},
     "output_type": "display_data"
    },
    {
     "name": "stdout",
     "output_type": "stream",
     "text": [
      "\n"
     ]
    },
    {
     "data": {
      "application/vnd.jupyter.widget-view+json": {
       "model_id": "b1fdd47966ca43a7b41b7cbd7e7edaad",
       "version_major": 2,
       "version_minor": 0
      },
      "text/plain": [
       "HBox(children=(FloatProgress(value=0.0, max=50.0), HTML(value='')))"
      ]
     },
     "metadata": {},
     "output_type": "display_data"
    },
    {
     "name": "stdout",
     "output_type": "stream",
     "text": [
      "\n"
     ]
    }
   ],
   "source": [
    "K = 50\n",
    "heterogeneityLevels = [0, 2, 4, 8]\n",
    "\n",
    "biasHLs = np.zeros(len(heterogeneityLevels))\n",
    "rmseHLs = np.zeros(len(heterogeneityLevels))\n",
    "coverageHLs = np.zeros(len(heterogeneityLevels))\n",
    "intervalHLs = np.zeros(len(heterogeneityLevels))\n",
    "lbsHLs = np.zeros((len(heterogeneityLevels), K))\n",
    "ubsHLs = np.zeros((len(heterogeneityLevels), K))\n",
    "atesHLs = np.zeros((len(heterogeneityLevels), K))\n",
    "true_atesHLs = np.zeros((len(heterogeneityLevels), K))\n",
    "\n",
    "for idx, heterogeneity in enumerate(heterogeneityLevels):\n",
    "    estHLs = []\n",
    "    trueATEHLs = []\n",
    "    evalSetHLs = []\n",
    "    for i in tqdm(range(K)):\n",
    "        if heterogeneity == 0:\n",
    "            y, X, trueBetas, featureNames, treatments, cy, ate, treated = dgp(welfare, effect_type='homogeneous')\n",
    "        else:\n",
    "            y, X, trueBetas, featureNames, treatments, cy, ate, treated = dgp(welfare, heterogeneous_select=heterogeneity)\n",
    "\n",
    "        est, X_test, Y_test, treated_test, CY_test = estimate_cf(y, X, treatments, treated, cy)\n",
    "\n",
    "        # Calculate test set ATE\n",
    "        tmp = Y_test[treated_test] - CY_test[treated_test]\n",
    "        tmp1 = CY_test[~treated_test] - Y_test[~treated_test]\n",
    "        test_ate = (tmp.mean() + tmp1.mean())/2\n",
    "        ate = test_ate\n",
    "\n",
    "        estHLs.append(est)\n",
    "        trueATEHLs.append(ate)\n",
    "        evalSetHLs.append(X_test)\n",
    "\n",
    "    bias, rmse, coverage, interval, lbs, ubs, ates = evalStats(estHLs, trueATEHLs, evalSetHLs)\n",
    "    \n",
    "    biasHLs[idx] = bias\n",
    "    rmseHLs[idx] = rmse\n",
    "    coverageHLs[idx] = coverage\n",
    "    intervalHLs[idx] = interval\n",
    "    lbsHLs[idx, :] = lbs\n",
    "    ubsHLs[idx, :] = ubs\n",
    "    atesHLs[idx, :] = ates\n",
    "    true_atesHLs[idx, :] = trueATEHLs"
   ]
  },
  {
   "cell_type": "code",
   "execution_count": 73,
   "metadata": {},
   "outputs": [
    {
     "data": {
      "text/plain": [
       "['Results/intervalHLs_50.pkl']"
      ]
     },
     "execution_count": 73,
     "metadata": {},
     "output_type": "execute_result"
    }
   ],
   "source": [
    "joblib.dump(biasHLs, 'Results/biasHLs_{}.pkl'.format(K))\n",
    "joblib.dump(rmseHLs, 'Results/rmseHLs_{}.pkl'.format(K))\n",
    "joblib.dump(coverageHLs, 'Results/coverageHLs_{}.pkl'.format(K))\n",
    "joblib.dump(intervalHLs, 'Results/intervalHLs_{}.pkl'.format(K))\n",
    "joblib.dump(lbsHLs, 'Results/lbsHLs_{}.pkl'.format(K))\n",
    "joblib.dump(ubsHLs, 'Results/ubsHLs_{}.pkl'.format(K))\n",
    "joblib.dump(atesHLs, 'Results/atesHLs_{}.pkl'.format(K))\n",
    "joblib.dump(true_atesHLs, 'Results/true_atesHLs_{}.pkl'.format(K))"
   ]
  },
  {
   "cell_type": "code",
   "execution_count": 34,
   "metadata": {},
   "outputs": [],
   "source": [
    "biasHLs = joblib.load('Results/biasHLs_{}.pkl'.format(K))\n",
    "rmseHLs = joblib.load('Results/rmseHLs_{}.pkl'.format(K))\n",
    "coverageHLs = joblib.load('Results/coverageHLs_{}.pkl'.format(K))\n",
    "intervalHLs = joblib.load('Results/intervalHLs_{}.pkl'.format(K))\n",
    "lbsHLs = joblib.load('Results/lbsHLs_{}.pkl'.format(K))\n",
    "ubsHLs = joblib.load('Results/ubsHLs_{}.pkl'.format(K))\n",
    "atesHLs = joblib.load('Results/atesHLs_{}.pkl'.format(K))\n",
    "true_atesHLs = joblib.load('Results/true_atesHLs_{}'.format(K))"
   ]
  },
  {
   "cell_type": "code",
   "execution_count": 82,
   "metadata": {},
   "outputs": [
    {
     "data": {
      "image/png": "[encoded data removed]",
      "text/plain": [
       "<Figure size 1152x288 with 4 Axes>"
      ]
     },
     "metadata": {
      "needs_background": "light"
     },
     "output_type": "display_data"
    }
   ],
   "source": [
    "biasHLsNorm = []\n",
    "rmseHLsNorm = []\n",
    "intervalHLsNorm = []\n",
    "true_atesHLsMean = []\n",
    "atesHLsMean = []\n",
    "\n",
    "for idx, _ in enumerate(heterogeneityLevels):\n",
    "    atesHLsMean.append(np.mean(atesHLs[idx, :]))\n",
    "    true_atesHLsMean.append(np.mean(true_atesHLs[idx, :]))\n",
    "    biasHLsNorm.append(biasHLs[idx] / true_atesHLsMean[idx])\n",
    "    rmseHLsNorm.append(rmseHLs[idx] / true_atesHLsMean[idx])\n",
    "    intervalHLsNorm.append(intervalHLs[idx] / true_atesHLsMean[idx])\n",
    "\n",
    "xHLs = list(map(str, heterogeneityLevels))\n",
    "cHLs = np.array([[255, 0, 0], [0, 255, 0], [0, 0, 255], [255, 165, 0]])\n",
    "fig, axs = plt.subplots(1, 4, figsize=(16, 4), sharey=False)\n",
    "\n",
    "axs[0].scatter(xHLs, biasHLsNorm, c=cHLs/255)\n",
    "axs[0].set(xlabel='Heterogeneity Level', ylabel='Bias')\n",
    "axs[0].grid()\n",
    "axs[1].scatter(xHLs, rmseHLsNorm, c=cHLs/255)\n",
    "axs[1].set(xlabel='Heterogeneity Level', ylabel='RMSE')\n",
    "axs[1].grid()\n",
    "axs[2].scatter(xHLs, coverageHLs, c=cHLs/255)\n",
    "axs[2].set(xlabel='Heterogeneity Level', ylabel='Coverage')\n",
    "axs[2].grid()\n",
    "axs[3].scatter(xHLs, intervalHLsNorm, c=cHLs/255)\n",
    "axs[3].set(xlabel='Heterogeneity Level', ylabel='Interval Length')\n",
    "axs[3].grid()\n",
    "\n",
    "fig.suptitle('Evaluation Metrics when Changing Heterogeneity Level (Average over ' + str(K) + ' simulations per parameter setting)')\n",
    "fig.tight_layout(pad=3.0)\n",
    "plt.show()"
   ]
  },
  {
   "cell_type": "code",
   "execution_count": 83,
   "metadata": {},
   "outputs": [
    {
     "data": {
      "text/html": [
       "<div>\n",
       "<style scoped>\n",
       "    .dataframe tbody tr th:only-of-type {\n",
       "        vertical-align: middle;\n",
       "    }\n",
       "\n",
       "    .dataframe tbody tr th {\n",
       "        vertical-align: top;\n",
       "    }\n",
       "\n",
       "    .dataframe thead th {\n",
       "        text-align: right;\n",
       "    }\n",
       "</style>\n",
       "<table border=\"1\" class=\"dataframe\">\n",
       "  <thead>\n",
       "    <tr style=\"text-align: right;\">\n",
       "      <th></th>\n",
       "      <th>Bias</th>\n",
       "      <th>RMSE</th>\n",
       "      <th>Coverage</th>\n",
       "      <th>Interval Length</th>\n",
       "    </tr>\n",
       "  </thead>\n",
       "  <tbody>\n",
       "    <tr>\n",
       "      <th>0</th>\n",
       "      <td>7.384003e-01</td>\n",
       "      <td>9.351066e-01</td>\n",
       "      <td>1.0</td>\n",
       "      <td>5.127023e+01</td>\n",
       "    </tr>\n",
       "    <tr>\n",
       "      <th>2</th>\n",
       "      <td>1.518465e+01</td>\n",
       "      <td>1.985524e+01</td>\n",
       "      <td>1.0</td>\n",
       "      <td>1.609032e+02</td>\n",
       "    </tr>\n",
       "    <tr>\n",
       "      <th>4</th>\n",
       "      <td>1.079182e+02</td>\n",
       "      <td>1.411411e+02</td>\n",
       "      <td>1.0</td>\n",
       "      <td>8.954168e+02</td>\n",
       "    </tr>\n",
       "    <tr>\n",
       "      <th>8</th>\n",
       "      <td>4.225256e+08</td>\n",
       "      <td>5.274356e+08</td>\n",
       "      <td>1.0</td>\n",
       "      <td>3.508871e+09</td>\n",
       "    </tr>\n",
       "  </tbody>\n",
       "</table>\n",
       "</div>"
      ],
      "text/plain": [
       "           Bias          RMSE  Coverage  Interval Length\n",
       "0  7.384003e-01  9.351066e-01       1.0     5.127023e+01\n",
       "2  1.518465e+01  1.985524e+01       1.0     1.609032e+02\n",
       "4  1.079182e+02  1.411411e+02       1.0     8.954168e+02\n",
       "8  4.225256e+08  5.274356e+08       1.0     3.508871e+09"
      ]
     },
     "execution_count": 83,
     "metadata": {},
     "output_type": "execute_result"
    }
   ],
   "source": [
    "data = {'True ATES':true_atesHLsMean, 'Estimated ATES': atesHLsMean,   \n",
    "        'Normalized Bias': biasHLsNorm, 'Unnormalized Bias':biasHLs, \n",
    "        'Normalized RMSE': rmseHLsNorm, 'Unnormalized RMSE':rmseHLs, \n",
    "        'Normalized Interval Length': intervalHLsNorm, 'Unnormalized Interval Length':intervalHLs,\n",
    "        'Coverage':coverageHLs}\n",
    "        \n",
    "tableHLs = pd.DataFrame(data=data, index=xHLs)\n",
    "tableHLs"
   ]
  },
  {
   "cell_type": "markdown",
   "metadata": {},
   "source": [
    "### (6) Treatment Type (Continuous vs. Discrete)"
   ]
  },
  {
   "cell_type": "code",
   "execution_count": 166,
   "metadata": {},
   "outputs": [
    {
     "data": {
      "application/vnd.jupyter.widget-view+json": {
       "model_id": "c5a8597e707f4ca2826651c52576986a",
       "version_major": 2,
       "version_minor": 0
      },
      "text/plain": [
       "HBox(children=(FloatProgress(value=0.0, max=1.0), HTML(value='')))"
      ]
     },
     "metadata": {},
     "output_type": "display_data"
    },
    {
     "name": "stdout",
     "output_type": "stream",
     "text": [
      "\n"
     ]
    }
   ],
   "source": [
    "K = 1\n",
    "treatment_type = 'continuous'\n",
    "\n",
    "estTTs = []\n",
    "trueATETTs = []\n",
    "evalSetTTs = []\n",
    "\n",
    "# criterion = 'het' if treatment_type == \"binary\" else 'mse'\n",
    "criterion = 'het'\n",
    "discrete_treatment = True if treatment_type == \"binary\" else False\n",
    "\n",
    "for i in tqdm(range(K)):\n",
    "    y, X, trueBetas, featureNames, treatments, cy, ate, treated = dgp(welfare, treatment_type=treatment_type)\n",
    "\n",
    "    est, X_test = estimate_cf(y, X, treatments, criterion=criterion, discrete_treatment=discrete_treatment, n_estimators=100)\n",
    "\n",
    "    estTTs.append(est)\n",
    "    trueATETTs.append(ate)\n",
    "    evalSetTTs.append(X_test)\n",
    "\n",
    "bias, rmse, coverage, interval, lbs, ubs, ates = evalStats(estTTs, trueATETTs, evalSetTTs)"
   ]
  },
  {
   "cell_type": "code",
   "execution_count": 167,
   "metadata": {},
   "outputs": [
    {
     "data": {
      "image/png": "[encoded data removed]",
      "text/latex": [
       "$\\displaystyle 3408.45399909953$"
      ],
      "text/plain": [
       "3408.453999099531"
      ]
     },
     "execution_count": 167,
     "metadata": {},
     "output_type": "execute_result"
    }
   ],
   "source": [
    "ate"
   ]
  },
  {
   "cell_type": "code",
   "execution_count": 174,
   "metadata": {},
   "outputs": [
    {
     "data": {
      "text/plain": [
       "(array([4993.82517038]), array([5922.14109056]))"
      ]
     },
     "execution_count": 174,
     "metadata": {},
     "output_type": "execute_result"
    }
   ],
   "source": [
    "est.ate_interval(X)"
   ]
  },
  {
   "cell_type": "code",
   "execution_count": 74,
   "metadata": {},
   "outputs": [
    {
     "data": {
      "application/vnd.jupyter.widget-view+json": {
       "model_id": "fb29c594f6474e39bafc49b672ccb059",
       "version_major": 2,
       "version_minor": 0
      },
      "text/plain": [
       "HBox(children=(FloatProgress(value=0.0, max=50.0), HTML(value='')))"
      ]
     },
     "metadata": {},
     "output_type": "display_data"
    },
    {
     "name": "stdout",
     "output_type": "stream",
     "text": [
      "\n"
     ]
    },
    {
     "data": {
      "application/vnd.jupyter.widget-view+json": {
       "model_id": "b33c8a299cbb439589677e4776696829",
       "version_major": 2,
       "version_minor": 0
      },
      "text/plain": [
       "HBox(children=(FloatProgress(value=0.0, max=50.0), HTML(value='')))"
      ]
     },
     "metadata": {},
     "output_type": "display_data"
    },
    {
     "name": "stdout",
     "output_type": "stream",
     "text": [
      "\n"
     ]
    }
   ],
   "source": [
    "K = 50\n",
    "treatmentTypes = ['continuous', 'binary']\n",
    "\n",
    "biasTTs = np.zeros(len(treatmentTypes))\n",
    "rmseTTs = np.zeros(len(treatmentTypes))\n",
    "coverageTTs = np.zeros(len(treatmentTypes))\n",
    "intervalTTs = np.zeros(len(treatmentTypes))\n",
    "lbsTTs = np.zeros((len(treatmentTypes), K))\n",
    "ubsTTs = np.zeros((len(treatmentTypes), K))\n",
    "atesTTs = np.zeros((len(treatmentTypes), K))\n",
    "true_atesTTs = np.zeros((len(treatmentTypes), K))\n",
    "\n",
    "for idx, treatment_type in enumerate(treatmentTypes):\n",
    "    estTTs = []\n",
    "    trueATETTs = []\n",
    "    evalSetTTs = []\n",
    "    criterion = 'het' if treatment_type == \"binary\" else 'mse'\n",
    "    discrete_treatment = True if treatment_type == \"binary\" else False\n",
    "    for i in tqdm(range(K)):\n",
    "        y, X, trueBetas, featureNames, treatments, cy, ate, treated = dgp(welfare, treatment_type=treatment_type)\n",
    "        \n",
    "        est, X_test, Y_test, treated_test, CY_test = estimate_cf(y, X, treatments, treated, cy, criterion=criterion, discrete_treatment=discrete_treatment)\n",
    "\n",
    "        # Calculate test set ATE\n",
    "        tmp = Y_test[treated_test] - CY_test[treated_test]\n",
    "        tmp1 = CY_test[~treated_test] - Y_test[~treated_test]\n",
    "        test_ate = (tmp.mean() + tmp1.mean())/2\n",
    "        ate = test_ate\n",
    "        estTTs.append(est)\n",
    "        trueATETTs.append(ate)\n",
    "        evalSetTTs.append(X_test)\n",
    "\n",
    "    bias, rmse, coverage, interval, lbs, ubs, ates = evalStats(estTTs, trueATETTs, evalSetTTs)\n",
    "    \n",
    "    biasTTs[idx] = bias\n",
    "    rmseTTs[idx] = rmse\n",
    "    coverageTTs[idx] = coverage\n",
    "    intervalTTs[idx] = interval\n",
    "    lbsTTs[idx, :] = lbs\n",
    "    ubsTTs[idx, :] = ubs\n",
    "    atesTTs[idx, :] = ates\n",
    "    true_atesTTs[idx, :] = trueATETTs"
   ]
  },
  {
   "cell_type": "code",
   "execution_count": 75,
   "metadata": {},
   "outputs": [
    {
     "data": {
      "text/plain": [
       "['Results/intervalTTs_50.pkl']"
      ]
     },
     "execution_count": 75,
     "metadata": {},
     "output_type": "execute_result"
    }
   ],
   "source": [
    "joblib.dump(biasTTs, 'Results/biasTTs_{}.pkl'.format(K))\n",
    "joblib.dump(rmseTTs, 'Results/rmseTTs_{}.pkl'.format(K))\n",
    "joblib.dump(coverageTTs, 'Results/coverageTTs_{}.pkl'.format(K))\n",
    "joblib.dump(intervalTTs, 'Results/intervalTTs_{}.pkl'.format(K))\n",
    "joblib.dump(lbsTTs, 'Results/lbsTTs_{}.pkl'.format(K))\n",
    "joblib.dump(ubsTTs, 'Results/ubsTTs_{}.pkl'.format(K))\n",
    "joblib.dump(atesTTs, 'Results/atesTTs_{}.pkl'.format(K))\n",
    "joblib.dump(true_atesTTs, 'Results/true_atesTTs_{}.pkl'.format(K))"
   ]
  },
  {
   "cell_type": "code",
   "execution_count": 46,
   "metadata": {},
   "outputs": [],
   "source": [
    "biasTTs = joblib.load('Results/biasTTs_{}.pkl'.format(K))\n",
    "rmseTTs = joblib.load('Results/rmseTTs_{}.pkl'.format(K))\n",
    "coverageTTs = joblib.load('Results/coverageTTs_{}.pkl'.format(K))\n",
    "intervalTTs = joblib.load('Results/intervalTTs_{}.pkl'.format(K))\n",
    "lbsTTs = joblib.load('Results/lbsTTs_{}.pkl'.format(K))\n",
    "ubsTTs = joblib.load('Results/ubsTTs_{}.pkl'.format(K))\n",
    "atesTTs = joblib.load('Results/atesTTs_{}.pkl'.format(K))\n",
    "true_atesTTs = joblib.load('Results/true_atesTTs_{}'.format(K))"
   ]
  },
  {
   "cell_type": "code",
   "execution_count": 80,
   "metadata": {},
   "outputs": [
    {
     "data": {
      "image/png": "[encoded data removed]",
      "text/plain": [
       "<Figure size 1152x288 with 4 Axes>"
      ]
     },
     "metadata": {
      "needs_background": "light"
     },
     "output_type": "display_data"
    }
   ],
   "source": [
    "biasTTsNorm = []\n",
    "rmseTTsNorm = []\n",
    "intervalTTsNorm = []\n",
    "true_atesTTsMean = []\n",
    "atesTTsMean = []\n",
    "\n",
    "for idx, _ in enumerate(treatmentTypes):\n",
    "    atesTTsMean.append(np.mean(atesTTs[idx, :]))\n",
    "    true_atesTTsMean.append(np.mean(true_atesTTs[idx, :]))\n",
    "    biasTTsNorm.append(biasTTs[idx] / true_atesTTsMean[idx])\n",
    "    rmseTTsNorm.append(rmseTTs[idx] / true_atesTTsMean[idx])\n",
    "    intervalTTsNorm.append(intervalTTs[idx] / true_atesTTsMean[idx])\n",
    "\n",
    "xTTs = treatmentTypes\n",
    "cTTs = np.array([[255, 0, 0], [0, 255, 0]])\n",
    "fig, axs = plt.subplots(1, 4, figsize=(16, 4), sharey=False)\n",
    "\n",
    "axs[0].scatter(xTTs, biasTTsNorm, c=cTTs/255)\n",
    "axs[0].set(xlabel='Treatment Type', ylabel='Bias')\n",
    "axs[0].grid()\n",
    "axs[1].scatter(xTTs, rmseTTsNorm, c=cTTs/255)\n",
    "axs[1].set(xlabel='Treatment Type', ylabel='RMSE')\n",
    "axs[1].grid()\n",
    "axs[2].scatter(xTTs, coverageTTs, c=cTTs/255)\n",
    "axs[2].set(xlabel='Treatment Type', ylabel='Coverage')\n",
    "axs[2].grid()\n",
    "axs[3].scatter(xTTs, intervalTTsNorm, c=cTTs/255)\n",
    "axs[3].set(xlabel='Treatment Type', ylabel='Interval Length')\n",
    "axs[3].grid()\n",
    "\n",
    "fig.suptitle('Evaluation Metrics when Changing Treatment Type (Average over ' + str(K) + ' simulations per parameter setting)')\n",
    "fig.tight_layout(pad=3.0)\n",
    "plt.show()"
   ]
  },
  {
   "cell_type": "code",
   "execution_count": 81,
   "metadata": {},
   "outputs": [
    {
     "data": {
      "text/html": [
       "<div>\n",
       "<style scoped>\n",
       "    .dataframe tbody tr th:only-of-type {\n",
       "        vertical-align: middle;\n",
       "    }\n",
       "\n",
       "    .dataframe tbody tr th {\n",
       "        vertical-align: top;\n",
       "    }\n",
       "\n",
       "    .dataframe thead th {\n",
       "        text-align: right;\n",
       "    }\n",
       "</style>\n",
       "<table border=\"1\" class=\"dataframe\">\n",
       "  <thead>\n",
       "    <tr style=\"text-align: right;\">\n",
       "      <th></th>\n",
       "      <th>Bias</th>\n",
       "      <th>RMSE</th>\n",
       "      <th>Coverage</th>\n",
       "      <th>Interval Length</th>\n",
       "    </tr>\n",
       "  </thead>\n",
       "  <tbody>\n",
       "    <tr>\n",
       "      <th>continuous</th>\n",
       "      <td>2569.386936</td>\n",
       "      <td>2572.952936</td>\n",
       "      <td>0.0</td>\n",
       "      <td>985.637771</td>\n",
       "    </tr>\n",
       "    <tr>\n",
       "      <th>binary</th>\n",
       "      <td>107.081582</td>\n",
       "      <td>131.637333</td>\n",
       "      <td>1.0</td>\n",
       "      <td>877.233591</td>\n",
       "    </tr>\n",
       "  </tbody>\n",
       "</table>\n",
       "</div>"
      ],
      "text/plain": [
       "                   Bias         RMSE  Coverage  Interval Length\n",
       "continuous  2569.386936  2572.952936       0.0       985.637771\n",
       "binary       107.081582   131.637333       1.0       877.233591"
      ]
     },
     "execution_count": 81,
     "metadata": {},
     "output_type": "execute_result"
    }
   ],
   "source": [
    "data = {'True ATES':true_atesTTsMean, 'Estimated ATES': atesTTsMean,   \n",
    "        'Normalized Bias': biasTTsNorm, 'Unnormalized Bias':biasTTs, \n",
    "        'Normalized RMSE': rmseTTsNorm, 'Unnormalized RMSE':rmseTTs, \n",
    "        'Normalized Interval Length': intervalTTsNorm, 'Unnormalized Interval Length':intervalTTs,\n",
    "        'Coverage':coverageTTs}\n",
    "        \n",
    "tableTTs = pd.DataFrame(data=data, index=xTTs)\n",
    "tableTTs"
   ]
  },
  {
   "cell_type": "markdown",
   "metadata": {},
   "source": [
    "### (7) N_Estimators"
   ]
  },
  {
   "cell_type": "code",
   "execution_count": 76,
   "metadata": {},
   "outputs": [
    {
     "data": {
      "application/vnd.jupyter.widget-view+json": {
       "model_id": "5ddcea2e5dee49b5bf2efeda6d1cffb4",
       "version_major": 2,
       "version_minor": 0
      },
      "text/plain": [
       "HBox(children=(FloatProgress(value=0.0, max=50.0), HTML(value='')))"
      ]
     },
     "metadata": {},
     "output_type": "display_data"
    },
    {
     "name": "stdout",
     "output_type": "stream",
     "text": [
      "\n"
     ]
    },
    {
     "data": {
      "application/vnd.jupyter.widget-view+json": {
       "model_id": "386ac94b1c4a477ba0edf482f9919acd",
       "version_major": 2,
       "version_minor": 0
      },
      "text/plain": [
       "HBox(children=(FloatProgress(value=0.0, max=50.0), HTML(value='')))"
      ]
     },
     "metadata": {},
     "output_type": "display_data"
    },
    {
     "name": "stdout",
     "output_type": "stream",
     "text": [
      "\n"
     ]
    },
    {
     "data": {
      "application/vnd.jupyter.widget-view+json": {
       "model_id": "6472b42924d94917812ed3b866cb395f",
       "version_major": 2,
       "version_minor": 0
      },
      "text/plain": [
       "HBox(children=(FloatProgress(value=0.0, max=50.0), HTML(value='')))"
      ]
     },
     "metadata": {},
     "output_type": "display_data"
    },
    {
     "name": "stdout",
     "output_type": "stream",
     "text": [
      "\n"
     ]
    },
    {
     "data": {
      "application/vnd.jupyter.widget-view+json": {
       "model_id": "3d9c4a2fa9ab4036a96e7d43f371b5b2",
       "version_major": 2,
       "version_minor": 0
      },
      "text/plain": [
       "HBox(children=(FloatProgress(value=0.0, max=50.0), HTML(value='')))"
      ]
     },
     "metadata": {},
     "output_type": "display_data"
    },
    {
     "name": "stdout",
     "output_type": "stream",
     "text": [
      "\n"
     ]
    }
   ],
   "source": [
    "K = 50\n",
    "estimatorNs = [100, 500, 1000, 5000]\n",
    "\n",
    "biasENs = np.zeros(len(estimatorNs))\n",
    "rmseENs = np.zeros(len(estimatorNs))\n",
    "coverageENs = np.zeros(len(estimatorNs))\n",
    "intervalENs = np.zeros(len(estimatorNs))\n",
    "lbsENs = np.zeros((len(estimatorNs), K))\n",
    "ubsENs = np.zeros((len(estimatorNs), K))\n",
    "atesENs = np.zeros((len(estimatorNs), K))\n",
    "true_atesENs = np.zeros((len(estimatorNs), K))\n",
    "\n",
    "for idx, n_estimators in enumerate(estimatorNs):\n",
    "    estENs = []\n",
    "    trueATEENs = []\n",
    "    evalSetENs = []\n",
    "#   criterion = 'het' if treatment_type == \"binary\" else 'mse'\n",
    "    criterion = 'het'\n",
    "    discrete_treatment = True if treatment_type == \"binary\" else False\n",
    "    for i in tqdm(range(K)):\n",
    "        y, X, trueBetas, featureNames, treatments, cy, ate, treated = dgp(welfare)\n",
    "        \n",
    "        est, X_test, Y_test, treated_test, CY_test = estimate_cf(y, X, treatments, treated, cy, criterion=criterion, discrete_treatment=discrete_treatment, n_estimators=n_estimators)\n",
    "\n",
    "        # Calculate test set ATE\n",
    "        tmp = Y_test[treated_test] - CY_test[treated_test]\n",
    "        tmp1 = CY_test[~treated_test] - Y_test[~treated_test]\n",
    "        test_ate = (tmp.mean() + tmp1.mean())/2\n",
    "        ate = test_ate\n",
    "        \n",
    "        estENs.append(est)\n",
    "        trueATEENs.append(ate)\n",
    "        evalSetENs.append(X_test)\n",
    "\n",
    "    bias, rmse, coverage, interval, lbs, ubs, ates = evalStats(estENs, trueATEENs, evalSetENs)\n",
    "    \n",
    "    biasENs[idx] = bias\n",
    "    rmseENs[idx] = rmse\n",
    "    coverageENs[idx] = coverage\n",
    "    intervalENs[idx] = interval\n",
    "    lbsENs[idx, :] = lbs\n",
    "    ubsENs[idx, :] = ubs\n",
    "    atesENs[idx, :] = ates\n",
    "    true_atesENs[idx, :] = trueATEENs"
   ]
  },
  {
   "cell_type": "code",
   "execution_count": 77,
   "metadata": {},
   "outputs": [
    {
     "data": {
      "text/plain": [
       "['Results/intervalENs_50.pkl']"
      ]
     },
     "execution_count": 77,
     "metadata": {},
     "output_type": "execute_result"
    }
   ],
   "source": [
    "joblib.dump(biasENs, 'Results/biasENs_{}.pkl'.format(K))\n",
    "joblib.dump(rmseENs, 'Results/rmseENs_{}.pkl'.format(K))\n",
    "joblib.dump(coverageENs, 'Results/coverageENs_{}.pkl'.format(K))\n",
    "joblib.dump(intervalENs, 'Results/intervalENs_{}.pkl'.format(K))\n",
    "joblib.dump(lbsENs, 'Results/lbsENs_{}.pkl'.format(K))\n",
    "joblib.dump(ubsENs, 'Results/ubsENs_{}.pkl'.format(K))\n",
    "joblib.dump(atesENs, 'Results/atesENs_{}.pkl'.format(K))\n",
    "joblib.dump(true_atesENs, 'Results/true_atesENs_{}.pkl'.format(K))"
   ]
  },
  {
   "cell_type": "code",
   "execution_count": 53,
   "metadata": {},
   "outputs": [],
   "source": [
    "biasENs = joblib.load('Results/biasENs_{}.pkl'.format(K))\n",
    "rmseENs = joblib.load('Results/rmseENs_{}.pkl'.format(K))\n",
    "coverageENs = joblib.load('Results/coverageENs_{}.pkl'.format(K))\n",
    "intervalENs = joblib.load('Results/intervalENs_{}.pkl'.format(K))\n",
    "lbsENs = joblib.load('Results/lbsENs_{}.pkl'.format(K))\n",
    "ubsENs = joblib.load('Results/ubsENs_{}.pkl'.format(K))\n",
    "atesENs = joblib.load('Results/atesENs_{}.pkl'.format(K))\n",
    "true_atesENs = joblib.load('Results/true_atesENs_{}'.format(K))"
   ]
  },
  {
   "cell_type": "code",
   "execution_count": 78,
   "metadata": {},
   "outputs": [
    {
     "data": {
      "image/png": "[encoded data removed]",
      "text/plain": [
       "<Figure size 1152x288 with 4 Axes>"
      ]
     },
     "metadata": {
      "needs_background": "light"
     },
     "output_type": "display_data"
    }
   ],
   "source": [
    "biasENsNorm = []\n",
    "rmseENsNorm = []\n",
    "intervalENsNorm = []\n",
    "true_atesENsMean = []\n",
    "atesENsMean = []\n",
    "\n",
    "for idx, _ in enumerate(estimatorNs):\n",
    "    atesENsMean.append(np.mean(atesENs[idx, :]))\n",
    "    true_atesENsMean.append(np.mean(true_atesENs[idx, :]))\n",
    "    biasENsNorm.append(biasENs[idx] / true_atesENsMean[idx])\n",
    "    rmseENsNorm.append(rmseENs[idx] / true_atesENsMean[idx])\n",
    "    intervalENsNorm.append(intervalENs[idx] / true_atesENsMean[idx])\n",
    "\n",
    "xENs = list(map(str, estimatorNs))\n",
    "cENs = np.array([[255, 0, 0], [0, 255, 0], [0, 0, 255], [255, 165, 0]])\n",
    "fig, axs = plt.subplots(1, 4, figsize=(16, 4), sharey=False)\n",
    "\n",
    "axs[0].scatter(xENs, biasENsNorm, c=cENs/255)\n",
    "axs[0].set(xlabel='num_estimators', ylabel='Bias')\n",
    "axs[0].grid()\n",
    "axs[1].scatter(xENs, rmseENsNorm, c=cENs/255)\n",
    "axs[1].set(xlabel='num_estimators', ylabel='RMSE')\n",
    "axs[1].grid()\n",
    "axs[2].scatter(xENs, coverageENs, c=cENs/255)\n",
    "axs[2].set(xlabel='num_estimators', ylabel='Coverage')\n",
    "axs[2].grid()\n",
    "axs[3].scatter(xENs, intervalENsNorm, c=cENs/255)\n",
    "axs[3].set(xlabel='num_estimators', ylabel='Interval Length')\n",
    "axs[3].grid()\n",
    "\n",
    "fig.suptitle('Evaluation Metrics when Changing num_estimators (Average over ' + str(K) + ' simulations per parameter setting)')\n",
    "fig.tight_layout(pad=3.0)\n",
    "plt.show()"
   ]
  },
  {
   "cell_type": "code",
   "execution_count": 79,
   "metadata": {},
   "outputs": [
    {
     "data": {
      "text/html": [
       "<div>\n",
       "<style scoped>\n",
       "    .dataframe tbody tr th:only-of-type {\n",
       "        vertical-align: middle;\n",
       "    }\n",
       "\n",
       "    .dataframe tbody tr th {\n",
       "        vertical-align: top;\n",
       "    }\n",
       "\n",
       "    .dataframe thead th {\n",
       "        text-align: right;\n",
       "    }\n",
       "</style>\n",
       "<table border=\"1\" class=\"dataframe\">\n",
       "  <thead>\n",
       "    <tr style=\"text-align: right;\">\n",
       "      <th></th>\n",
       "      <th>Bias</th>\n",
       "      <th>RMSE</th>\n",
       "      <th>Coverage</th>\n",
       "      <th>Interval Length</th>\n",
       "    </tr>\n",
       "  </thead>\n",
       "  <tbody>\n",
       "    <tr>\n",
       "      <th>100</th>\n",
       "      <td>104.857878</td>\n",
       "      <td>133.735216</td>\n",
       "      <td>1.00</td>\n",
       "      <td>1008.922846</td>\n",
       "    </tr>\n",
       "    <tr>\n",
       "      <th>500</th>\n",
       "      <td>113.213386</td>\n",
       "      <td>138.233428</td>\n",
       "      <td>1.00</td>\n",
       "      <td>887.806557</td>\n",
       "    </tr>\n",
       "    <tr>\n",
       "      <th>1000</th>\n",
       "      <td>104.080574</td>\n",
       "      <td>128.840791</td>\n",
       "      <td>1.00</td>\n",
       "      <td>871.219373</td>\n",
       "    </tr>\n",
       "    <tr>\n",
       "      <th>5000</th>\n",
       "      <td>118.032820</td>\n",
       "      <td>150.351380</td>\n",
       "      <td>0.98</td>\n",
       "      <td>872.458147</td>\n",
       "    </tr>\n",
       "  </tbody>\n",
       "</table>\n",
       "</div>"
      ],
      "text/plain": [
       "            Bias        RMSE  Coverage  Interval Length\n",
       "100   104.857878  133.735216      1.00      1008.922846\n",
       "500   113.213386  138.233428      1.00       887.806557\n",
       "1000  104.080574  128.840791      1.00       871.219373\n",
       "5000  118.032820  150.351380      0.98       872.458147"
      ]
     },
     "execution_count": 79,
     "metadata": {},
     "output_type": "execute_result"
    }
   ],
   "source": [
    "data = {'True ATES':true_atesENsMean, 'Estimated ATES': atesENsMean,   \n",
    "        'Normalized Bias': biasENsNorm, 'Unnormalized Bias':biasENs, \n",
    "        'Normalized RMSE': rmseENsNorm, 'Unnormalized RMSE':rmseENs, \n",
    "        'Normalized Interval Length': intervalENsNorm, 'Unnormalized Interval Length':intervalENs,\n",
    "        'Coverage':coverageENs}\n",
    "        \n",
    "tableENs = pd.DataFrame(data=data, index=xENs)\n",
    "tableENs"
   ]
  },
  {
   "source": [
    "## Evaluating CATEs for covariates responsible/not responsible for treatment effect hetereogeneity on baseline model"
   ],
   "cell_type": "markdown",
   "metadata": {}
  },
  {
   "source": [
    "### Race covariate (responsible for heterogeneity)"
   ],
   "cell_type": "markdown",
   "metadata": {}
  },
  {
   "cell_type": "code",
   "execution_count": 167,
   "metadata": {},
   "outputs": [],
   "source": [
    "N = 1000\n",
    "nBins = 5\n",
    "\n",
    "y, X, trueBetas, featureNames, treatments, cy, ate, treated, bins, cates = dgp(welfare, N=N, cate_feature='race', nBins=nBins, compute_cate=True)\n",
    "yFit, XFit, treatmentsFit, treatedFit, cyFit = y[:500], X[:500], treatments[:500], treated[:500], cy[:500]\n",
    "\n",
    "est, _, _, _, _ = estimate_cf(yFit, XFit, treatmentsFit, treatedFit, cyFit, test_size=0.1)\n",
    "\n",
    "binNumbers = np.arange(start=1, stop=1+len(bins))\n",
    "filteredBins = []\n",
    "for i in range(nBins):\n",
    "    fBin = []\n",
    "    for j in range(bins[i].shape[0]):\n",
    "        if len(np.where((XFit == bins[i][j]).all(axis=1))[0]) == 0:\n",
    "            fBin.append(bins[i][j])\n",
    "    filteredBins.append(np.array(fBin))\n",
    "\n",
    "cateEstimates = []\n",
    "cateLBS = []\n",
    "cateUBS = []\n",
    "for fBin in filteredBins:\n",
    "    cate = est.ate(fBin)[0]\n",
    "    lb, ub = est.ate_interval(fBin, alpha=0.05)\n",
    "    cateEstimates.append(cate)\n",
    "    cateLBS.append(lb[0])\n",
    "    cateUBS.append(ub[0])"
   ]
  },
  {
   "cell_type": "code",
   "execution_count": 183,
   "metadata": {},
   "outputs": [
    {
     "output_type": "execute_result",
     "data": {
      "text/plain": [
       "    True CATES  Estimated CATES  Normalized Bias  Unnormalized Bias  \\\n",
       "1  4891.865015      5100.641376        -0.042678        -208.776362   \n",
       "2  4759.908588      4702.275587         0.012108          57.633001   \n",
       "3  5380.145134      5466.775068        -0.016102         -86.629934   \n",
       "4  5669.871547      5277.341318         0.069231         392.530229   \n",
       "5  5641.954966      4851.387570         0.140123         790.567397   \n",
       "\n",
       "   Normalized Interval Length  Interval Length  Coverage  \n",
       "1                    0.338259      1654.715594         1  \n",
       "2                    0.316870      1508.271440         1  \n",
       "3                    0.298514      1606.047842         1  \n",
       "4                    0.269675      1529.021031         1  \n",
       "5                    0.262998      1483.824086         0  "
      ],
      "text/html": "<div>\n<style scoped>\n    .dataframe tbody tr th:only-of-type {\n        vertical-align: middle;\n    }\n\n    .dataframe tbody tr th {\n        vertical-align: top;\n    }\n\n    .dataframe thead th {\n        text-align: right;\n    }\n</style>\n<table border=\"1\" class=\"dataframe\">\n  <thead>\n    <tr style=\"text-align: right;\">\n      <th></th>\n      <th>True CATES</th>\n      <th>Estimated CATES</th>\n      <th>Normalized Bias</th>\n      <th>Unnormalized Bias</th>\n      <th>Normalized Interval Length</th>\n      <th>Interval Length</th>\n      <th>Coverage</th>\n    </tr>\n  </thead>\n  <tbody>\n    <tr>\n      <th>1</th>\n      <td>4891.865015</td>\n      <td>5100.641376</td>\n      <td>-0.042678</td>\n      <td>-208.776362</td>\n      <td>0.338259</td>\n      <td>1654.715594</td>\n      <td>1</td>\n    </tr>\n    <tr>\n      <th>2</th>\n      <td>4759.908588</td>\n      <td>4702.275587</td>\n      <td>0.012108</td>\n      <td>57.633001</td>\n      <td>0.316870</td>\n      <td>1508.271440</td>\n      <td>1</td>\n    </tr>\n    <tr>\n      <th>3</th>\n      <td>5380.145134</td>\n      <td>5466.775068</td>\n      <td>-0.016102</td>\n      <td>-86.629934</td>\n      <td>0.298514</td>\n      <td>1606.047842</td>\n      <td>1</td>\n    </tr>\n    <tr>\n      <th>4</th>\n      <td>5669.871547</td>\n      <td>5277.341318</td>\n      <td>0.069231</td>\n      <td>392.530229</td>\n      <td>0.269675</td>\n      <td>1529.021031</td>\n      <td>1</td>\n    </tr>\n    <tr>\n      <th>5</th>\n      <td>5641.954966</td>\n      <td>4851.387570</td>\n      <td>0.140123</td>\n      <td>790.567397</td>\n      <td>0.262998</td>\n      <td>1483.824086</td>\n      <td>0</td>\n    </tr>\n  </tbody>\n</table>\n</div>"
     },
     "metadata": {},
     "execution_count": 183
    }
   ],
   "source": [
    "biasRaces = []\n",
    "biasRacesNorm = []\n",
    "intervalRaces = []\n",
    "intervalRacesNorm = []\n",
    "coverageRaces = []\n",
    "\n",
    "for i in range(nBins):\n",
    "    bias = cates[i] - cateEstimates[i]\n",
    "    interval = cateUBS[i] - cateLBS[i]\n",
    "    coverage = 1 if (cates[i] >= cateLBS[i] and cates[i] <= cateUBS[i]) else 0\n",
    "    \n",
    "    biasRaces.append(bias)\n",
    "    biasRacesNorm.append(bias/cates[i])\n",
    "    intervalRaces.append(interval)\n",
    "    intervalRacesNorm.append(interval/cates[i])\n",
    "    coverageRaces.append(coverage)\n",
    "\n",
    "data = {'True CATES':cates, 'Estimated CATES':cateEstimates,   \n",
    "        'Normalized Bias':biasRacesNorm, 'Unnormalized Bias':biasRaces,\n",
    "        'Normalized Interval Length':intervalRacesNorm, 'Interval Length':intervalRaces, \n",
    "        'Coverage':coverageRaces}\n",
    "        \n",
    "tableRaceCATEs = pd.DataFrame(data=data, index=binNumbers)\n",
    "tableRaceCATEs"
   ]
  },
  {
   "cell_type": "code",
   "execution_count": 177,
   "metadata": {},
   "outputs": [
    {
     "output_type": "display_data",
     "data": {
      "text/plain": "<Figure size 1152x720 with 1 Axes>",
      "image/svg+xml": "<?xml version=\"1.0\" encoding=\"utf-8\" standalone=\"no\"?>\n<!DOCTYPE svg PUBLIC \"-//W3C//DTD SVG 1.1//EN\"\n  \"http://www.w3.org/Graphics/SVG/1.1/DTD/svg11.dtd\">\n<!-- Created with matplotlib (https://matplotlib.org/) -->\n<svg height=\"588.35625pt\" version=\"1.1\" viewBox=\"0 0 953.328125 588.35625\" width=\"953.328125pt\" xmlns=\"http://www.w3.org/2000/svg\" xmlns:xlink=\"http://www.w3.org/1999/xlink\">\n <defs>\n  <style type=\"text/css\">\n*{stroke-linecap:butt;stroke-linejoin:round;}\n  </style>\n </defs>\n <g id=\"figure_1\">\n  <g id=\"patch_1\">\n   <path d=\"M 0 588.35625 \nL 953.328125 588.35625 \nL 953.328125 0 \nL 0 0 \nz\n\" style=\"fill:none;\"/>\n  </g>\n  <g id=\"axes_1\">\n   <g id=\"patch_2\">\n    <path d=\"M 53.328125 550.8 \nL 946.128125 550.8 \nL 946.128125 7.2 \nL 53.328125 7.2 \nz\n\" style=\"fill:#ffffff;\"/>\n   </g>\n   <g id=\"PolyCollection_1\">\n    <defs>\n     <path d=\"M 93.909943 -483.692614 \nL 93.909943 -131.474515 \nL 296.819034 -62.265341 \nL 499.728125 -214.588341 \nL 702.637216 -182.463862 \nL 905.546307 -96.606795 \nL 905.546307 -412.449408 \nL 905.546307 -412.449408 \nL 702.637216 -507.92697 \nL 499.728125 -556.447159 \nL 296.819034 -383.311749 \nL 93.909943 -483.692614 \nz\n\" id=\"m7f701cbe28\" style=\"stroke:#0000ff;stroke-opacity:0.1;\"/>\n    </defs>\n    <g clip-path=\"url(#pb6b8f82724)\">\n     <use style=\"fill:#0000ff;fill-opacity:0.1;stroke:#0000ff;stroke-opacity:0.1;\" x=\"0\" xlink:href=\"#m7f701cbe28\" y=\"588.35625\"/>\n    </g>\n   </g>\n   <g id=\"matplotlib.axis_1\">\n    <g id=\"xtick_1\">\n     <g id=\"line2d_1\">\n      <defs>\n       <path d=\"M 0 0 \nL 0 3.5 \n\" id=\"m5a220afd43\" style=\"stroke:#000000;stroke-width:0.8;\"/>\n      </defs>\n      <g>\n       <use style=\"stroke:#000000;stroke-width:0.8;\" x=\"93.909943\" xlink:href=\"#m5a220afd43\" y=\"550.8\"/>\n      </g>\n     </g>\n     <g id=\"text_1\">\n      <!-- 1.0 -->\n      <defs>\n       <path d=\"M 12.40625 8.296875 \nL 28.515625 8.296875 \nL 28.515625 63.921875 \nL 10.984375 60.40625 \nL 10.984375 69.390625 \nL 28.421875 72.90625 \nL 38.28125 72.90625 \nL 38.28125 8.296875 \nL 54.390625 8.296875 \nL 54.390625 0 \nL 12.40625 0 \nz\n\" id=\"DejaVuSans-49\"/>\n       <path d=\"M 10.6875 12.40625 \nL 21 12.40625 \nL 21 0 \nL 10.6875 0 \nz\n\" id=\"DejaVuSans-46\"/>\n       <path d=\"M 31.78125 66.40625 \nQ 24.171875 66.40625 20.328125 58.90625 \nQ 16.5 51.421875 16.5 36.375 \nQ 16.5 21.390625 20.328125 13.890625 \nQ 24.171875 6.390625 31.78125 6.390625 \nQ 39.453125 6.390625 43.28125 13.890625 \nQ 47.125 21.390625 47.125 36.375 \nQ 47.125 51.421875 43.28125 58.90625 \nQ 39.453125 66.40625 31.78125 66.40625 \nz\nM 31.78125 74.21875 \nQ 44.046875 74.21875 50.515625 64.515625 \nQ 56.984375 54.828125 56.984375 36.375 \nQ 56.984375 17.96875 50.515625 8.265625 \nQ 44.046875 -1.421875 31.78125 -1.421875 \nQ 19.53125 -1.421875 13.0625 8.265625 \nQ 6.59375 17.96875 6.59375 36.375 \nQ 6.59375 54.828125 13.0625 64.515625 \nQ 19.53125 74.21875 31.78125 74.21875 \nz\n\" id=\"DejaVuSans-48\"/>\n      </defs>\n      <g transform=\"translate(85.958381 565.398438)scale(0.1 -0.1)\">\n       <use xlink:href=\"#DejaVuSans-49\"/>\n       <use x=\"63.623047\" xlink:href=\"#DejaVuSans-46\"/>\n       <use x=\"95.410156\" xlink:href=\"#DejaVuSans-48\"/>\n      </g>\n     </g>\n    </g>\n    <g id=\"xtick_2\">\n     <g id=\"line2d_2\">\n      <g>\n       <use style=\"stroke:#000000;stroke-width:0.8;\" x=\"296.819034\" xlink:href=\"#m5a220afd43\" y=\"550.8\"/>\n      </g>\n     </g>\n     <g id=\"text_2\">\n      <!-- 2.0 -->\n      <defs>\n       <path d=\"M 19.1875 8.296875 \nL 53.609375 8.296875 \nL 53.609375 0 \nL 7.328125 0 \nL 7.328125 8.296875 \nQ 12.9375 14.109375 22.625 23.890625 \nQ 32.328125 33.6875 34.8125 36.53125 \nQ 39.546875 41.84375 41.421875 45.53125 \nQ 43.3125 49.21875 43.3125 52.78125 \nQ 43.3125 58.59375 39.234375 62.25 \nQ 35.15625 65.921875 28.609375 65.921875 \nQ 23.96875 65.921875 18.8125 64.3125 \nQ 13.671875 62.703125 7.8125 59.421875 \nL 7.8125 69.390625 \nQ 13.765625 71.78125 18.9375 73 \nQ 24.125 74.21875 28.421875 74.21875 \nQ 39.75 74.21875 46.484375 68.546875 \nQ 53.21875 62.890625 53.21875 53.421875 \nQ 53.21875 48.921875 51.53125 44.890625 \nQ 49.859375 40.875 45.40625 35.40625 \nQ 44.1875 33.984375 37.640625 27.21875 \nQ 31.109375 20.453125 19.1875 8.296875 \nz\n\" id=\"DejaVuSans-50\"/>\n      </defs>\n      <g transform=\"translate(288.867472 565.398438)scale(0.1 -0.1)\">\n       <use xlink:href=\"#DejaVuSans-50\"/>\n       <use x=\"63.623047\" xlink:href=\"#DejaVuSans-46\"/>\n       <use x=\"95.410156\" xlink:href=\"#DejaVuSans-48\"/>\n      </g>\n     </g>\n    </g>\n    <g id=\"xtick_3\">\n     <g id=\"line2d_3\">\n      <g>\n       <use style=\"stroke:#000000;stroke-width:0.8;\" x=\"499.728125\" xlink:href=\"#m5a220afd43\" y=\"550.8\"/>\n      </g>\n     </g>\n     <g id=\"text_3\">\n      <!-- 3.0 -->\n      <defs>\n       <path d=\"M 40.578125 39.3125 \nQ 47.65625 37.796875 51.625 33 \nQ 55.609375 28.21875 55.609375 21.1875 \nQ 55.609375 10.40625 48.1875 4.484375 \nQ 40.765625 -1.421875 27.09375 -1.421875 \nQ 22.515625 -1.421875 17.65625 -0.515625 \nQ 12.796875 0.390625 7.625 2.203125 \nL 7.625 11.71875 \nQ 11.71875 9.328125 16.59375 8.109375 \nQ 21.484375 6.890625 26.8125 6.890625 \nQ 36.078125 6.890625 40.9375 10.546875 \nQ 45.796875 14.203125 45.796875 21.1875 \nQ 45.796875 27.640625 41.28125 31.265625 \nQ 36.765625 34.90625 28.71875 34.90625 \nL 20.21875 34.90625 \nL 20.21875 43.015625 \nL 29.109375 43.015625 \nQ 36.375 43.015625 40.234375 45.921875 \nQ 44.09375 48.828125 44.09375 54.296875 \nQ 44.09375 59.90625 40.109375 62.90625 \nQ 36.140625 65.921875 28.71875 65.921875 \nQ 24.65625 65.921875 20.015625 65.03125 \nQ 15.375 64.15625 9.8125 62.3125 \nL 9.8125 71.09375 \nQ 15.4375 72.65625 20.34375 73.4375 \nQ 25.25 74.21875 29.59375 74.21875 \nQ 40.828125 74.21875 47.359375 69.109375 \nQ 53.90625 64.015625 53.90625 55.328125 \nQ 53.90625 49.265625 50.4375 45.09375 \nQ 46.96875 40.921875 40.578125 39.3125 \nz\n\" id=\"DejaVuSans-51\"/>\n      </defs>\n      <g transform=\"translate(491.776562 565.398438)scale(0.1 -0.1)\">\n       <use xlink:href=\"#DejaVuSans-51\"/>\n       <use x=\"63.623047\" xlink:href=\"#DejaVuSans-46\"/>\n       <use x=\"95.410156\" xlink:href=\"#DejaVuSans-48\"/>\n      </g>\n     </g>\n    </g>\n    <g id=\"xtick_4\">\n     <g id=\"line2d_4\">\n      <g>\n       <use style=\"stroke:#000000;stroke-width:0.8;\" x=\"702.637216\" xlink:href=\"#m5a220afd43\" y=\"550.8\"/>\n      </g>\n     </g>\n     <g id=\"text_4\">\n      <!-- 4.0 -->\n      <defs>\n       <path d=\"M 37.796875 64.3125 \nL 12.890625 25.390625 \nL 37.796875 25.390625 \nz\nM 35.203125 72.90625 \nL 47.609375 72.90625 \nL 47.609375 25.390625 \nL 58.015625 25.390625 \nL 58.015625 17.1875 \nL 47.609375 17.1875 \nL 47.609375 0 \nL 37.796875 0 \nL 37.796875 17.1875 \nL 4.890625 17.1875 \nL 4.890625 26.703125 \nz\n\" id=\"DejaVuSans-52\"/>\n      </defs>\n      <g transform=\"translate(694.685653 565.398438)scale(0.1 -0.1)\">\n       <use xlink:href=\"#DejaVuSans-52\"/>\n       <use x=\"63.623047\" xlink:href=\"#DejaVuSans-46\"/>\n       <use x=\"95.410156\" xlink:href=\"#DejaVuSans-48\"/>\n      </g>\n     </g>\n    </g>\n    <g id=\"xtick_5\">\n     <g id=\"line2d_5\">\n      <g>\n       <use style=\"stroke:#000000;stroke-width:0.8;\" x=\"905.546307\" xlink:href=\"#m5a220afd43\" y=\"550.8\"/>\n      </g>\n     </g>\n     <g id=\"text_5\">\n      <!-- 5.0 -->\n      <defs>\n       <path d=\"M 10.796875 72.90625 \nL 49.515625 72.90625 \nL 49.515625 64.59375 \nL 19.828125 64.59375 \nL 19.828125 46.734375 \nQ 21.96875 47.46875 24.109375 47.828125 \nQ 26.265625 48.1875 28.421875 48.1875 \nQ 40.625 48.1875 47.75 41.5 \nQ 54.890625 34.8125 54.890625 23.390625 \nQ 54.890625 11.625 47.5625 5.09375 \nQ 40.234375 -1.421875 26.90625 -1.421875 \nQ 22.3125 -1.421875 17.546875 -0.640625 \nQ 12.796875 0.140625 7.71875 1.703125 \nL 7.71875 11.625 \nQ 12.109375 9.234375 16.796875 8.0625 \nQ 21.484375 6.890625 26.703125 6.890625 \nQ 35.15625 6.890625 40.078125 11.328125 \nQ 45.015625 15.765625 45.015625 23.390625 \nQ 45.015625 31 40.078125 35.4375 \nQ 35.15625 39.890625 26.703125 39.890625 \nQ 22.75 39.890625 18.8125 39.015625 \nQ 14.890625 38.140625 10.796875 36.28125 \nz\n\" id=\"DejaVuSans-53\"/>\n      </defs>\n      <g transform=\"translate(897.594744 565.398438)scale(0.1 -0.1)\">\n       <use xlink:href=\"#DejaVuSans-53\"/>\n       <use x=\"63.623047\" xlink:href=\"#DejaVuSans-46\"/>\n       <use x=\"95.410156\" xlink:href=\"#DejaVuSans-48\"/>\n      </g>\n     </g>\n    </g>\n    <g id=\"text_6\">\n     <!-- Race Bin -->\n     <defs>\n      <path d=\"M 44.390625 34.1875 \nQ 47.5625 33.109375 50.5625 29.59375 \nQ 53.5625 26.078125 56.59375 19.921875 \nL 66.609375 0 \nL 56 0 \nL 46.6875 18.703125 \nQ 43.0625 26.03125 39.671875 28.421875 \nQ 36.28125 30.8125 30.421875 30.8125 \nL 19.671875 30.8125 \nL 19.671875 0 \nL 9.8125 0 \nL 9.8125 72.90625 \nL 32.078125 72.90625 \nQ 44.578125 72.90625 50.734375 67.671875 \nQ 56.890625 62.453125 56.890625 51.90625 \nQ 56.890625 45.015625 53.6875 40.46875 \nQ 50.484375 35.9375 44.390625 34.1875 \nz\nM 19.671875 64.796875 \nL 19.671875 38.921875 \nL 32.078125 38.921875 \nQ 39.203125 38.921875 42.84375 42.21875 \nQ 46.484375 45.515625 46.484375 51.90625 \nQ 46.484375 58.296875 42.84375 61.546875 \nQ 39.203125 64.796875 32.078125 64.796875 \nz\n\" id=\"DejaVuSans-82\"/>\n      <path d=\"M 34.28125 27.484375 \nQ 23.390625 27.484375 19.1875 25 \nQ 14.984375 22.515625 14.984375 16.5 \nQ 14.984375 11.71875 18.140625 8.90625 \nQ 21.296875 6.109375 26.703125 6.109375 \nQ 34.1875 6.109375 38.703125 11.40625 \nQ 43.21875 16.703125 43.21875 25.484375 \nL 43.21875 27.484375 \nz\nM 52.203125 31.203125 \nL 52.203125 0 \nL 43.21875 0 \nL 43.21875 8.296875 \nQ 40.140625 3.328125 35.546875 0.953125 \nQ 30.953125 -1.421875 24.3125 -1.421875 \nQ 15.921875 -1.421875 10.953125 3.296875 \nQ 6 8.015625 6 15.921875 \nQ 6 25.140625 12.171875 29.828125 \nQ 18.359375 34.515625 30.609375 34.515625 \nL 43.21875 34.515625 \nL 43.21875 35.40625 \nQ 43.21875 41.609375 39.140625 45 \nQ 35.0625 48.390625 27.6875 48.390625 \nQ 23 48.390625 18.546875 47.265625 \nQ 14.109375 46.140625 10.015625 43.890625 \nL 10.015625 52.203125 \nQ 14.9375 54.109375 19.578125 55.046875 \nQ 24.21875 56 28.609375 56 \nQ 40.484375 56 46.34375 49.84375 \nQ 52.203125 43.703125 52.203125 31.203125 \nz\n\" id=\"DejaVuSans-97\"/>\n      <path d=\"M 48.78125 52.59375 \nL 48.78125 44.1875 \nQ 44.96875 46.296875 41.140625 47.34375 \nQ 37.3125 48.390625 33.40625 48.390625 \nQ 24.65625 48.390625 19.8125 42.84375 \nQ 14.984375 37.3125 14.984375 27.296875 \nQ 14.984375 17.28125 19.8125 11.734375 \nQ 24.65625 6.203125 33.40625 6.203125 \nQ 37.3125 6.203125 41.140625 7.25 \nQ 44.96875 8.296875 48.78125 10.40625 \nL 48.78125 2.09375 \nQ 45.015625 0.34375 40.984375 -0.53125 \nQ 36.96875 -1.421875 32.421875 -1.421875 \nQ 20.0625 -1.421875 12.78125 6.34375 \nQ 5.515625 14.109375 5.515625 27.296875 \nQ 5.515625 40.671875 12.859375 48.328125 \nQ 20.21875 56 33.015625 56 \nQ 37.15625 56 41.109375 55.140625 \nQ 45.0625 54.296875 48.78125 52.59375 \nz\n\" id=\"DejaVuSans-99\"/>\n      <path d=\"M 56.203125 29.59375 \nL 56.203125 25.203125 \nL 14.890625 25.203125 \nQ 15.484375 15.921875 20.484375 11.0625 \nQ 25.484375 6.203125 34.421875 6.203125 \nQ 39.59375 6.203125 44.453125 7.46875 \nQ 49.3125 8.734375 54.109375 11.28125 \nL 54.109375 2.78125 \nQ 49.265625 0.734375 44.1875 -0.34375 \nQ 39.109375 -1.421875 33.890625 -1.421875 \nQ 20.796875 -1.421875 13.15625 6.1875 \nQ 5.515625 13.8125 5.515625 26.8125 \nQ 5.515625 40.234375 12.765625 48.109375 \nQ 20.015625 56 32.328125 56 \nQ 43.359375 56 49.78125 48.890625 \nQ 56.203125 41.796875 56.203125 29.59375 \nz\nM 47.21875 32.234375 \nQ 47.125 39.59375 43.09375 43.984375 \nQ 39.0625 48.390625 32.421875 48.390625 \nQ 24.90625 48.390625 20.390625 44.140625 \nQ 15.875 39.890625 15.1875 32.171875 \nz\n\" id=\"DejaVuSans-101\"/>\n      <path id=\"DejaVuSans-32\"/>\n      <path d=\"M 19.671875 34.8125 \nL 19.671875 8.109375 \nL 35.5 8.109375 \nQ 43.453125 8.109375 47.28125 11.40625 \nQ 51.125 14.703125 51.125 21.484375 \nQ 51.125 28.328125 47.28125 31.5625 \nQ 43.453125 34.8125 35.5 34.8125 \nz\nM 19.671875 64.796875 \nL 19.671875 42.828125 \nL 34.28125 42.828125 \nQ 41.5 42.828125 45.03125 45.53125 \nQ 48.578125 48.25 48.578125 53.8125 \nQ 48.578125 59.328125 45.03125 62.0625 \nQ 41.5 64.796875 34.28125 64.796875 \nz\nM 9.8125 72.90625 \nL 35.015625 72.90625 \nQ 46.296875 72.90625 52.390625 68.21875 \nQ 58.5 63.53125 58.5 54.890625 \nQ 58.5 48.1875 55.375 44.234375 \nQ 52.25 40.28125 46.1875 39.3125 \nQ 53.46875 37.75 57.5 32.78125 \nQ 61.53125 27.828125 61.53125 20.40625 \nQ 61.53125 10.640625 54.890625 5.3125 \nQ 48.25 0 35.984375 0 \nL 9.8125 0 \nz\n\" id=\"DejaVuSans-66\"/>\n      <path d=\"M 9.421875 54.6875 \nL 18.40625 54.6875 \nL 18.40625 0 \nL 9.421875 0 \nz\nM 9.421875 75.984375 \nL 18.40625 75.984375 \nL 18.40625 64.59375 \nL 9.421875 64.59375 \nz\n\" id=\"DejaVuSans-105\"/>\n      <path d=\"M 54.890625 33.015625 \nL 54.890625 0 \nL 45.90625 0 \nL 45.90625 32.71875 \nQ 45.90625 40.484375 42.875 44.328125 \nQ 39.84375 48.1875 33.796875 48.1875 \nQ 26.515625 48.1875 22.3125 43.546875 \nQ 18.109375 38.921875 18.109375 30.90625 \nL 18.109375 0 \nL 9.078125 0 \nL 9.078125 54.6875 \nL 18.109375 54.6875 \nL 18.109375 46.1875 \nQ 21.34375 51.125 25.703125 53.5625 \nQ 30.078125 56 35.796875 56 \nQ 45.21875 56 50.046875 50.171875 \nQ 54.890625 44.34375 54.890625 33.015625 \nz\n\" id=\"DejaVuSans-110\"/>\n     </defs>\n     <g transform=\"translate(477.788281 579.076563)scale(0.1 -0.1)\">\n      <use xlink:href=\"#DejaVuSans-82\"/>\n      <use x=\"69.451172\" xlink:href=\"#DejaVuSans-97\"/>\n      <use x=\"130.730469\" xlink:href=\"#DejaVuSans-99\"/>\n      <use x=\"185.710938\" xlink:href=\"#DejaVuSans-101\"/>\n      <use x=\"247.234375\" xlink:href=\"#DejaVuSans-32\"/>\n      <use x=\"279.021484\" xlink:href=\"#DejaVuSans-66\"/>\n      <use x=\"347.625\" xlink:href=\"#DejaVuSans-105\"/>\n      <use x=\"375.408203\" xlink:href=\"#DejaVuSans-110\"/>\n     </g>\n    </g>\n   </g>\n   <g id=\"matplotlib.axis_2\">\n    <g id=\"ytick_1\">\n     <g id=\"line2d_6\">\n      <defs>\n       <path d=\"M 0 0 \nL -3.5 0 \n\" id=\"m7d9e37d8dd\" style=\"stroke:#000000;stroke-width:0.8;\"/>\n      </defs>\n      <g>\n       <use style=\"stroke:#000000;stroke-width:0.8;\" x=\"53.328125\" xlink:href=\"#m7d9e37d8dd\" y=\"515.052107\"/>\n      </g>\n     </g>\n     <g id=\"text_7\">\n      <!-- 4000 -->\n      <g transform=\"translate(20.878125 518.851326)scale(0.1 -0.1)\">\n       <use xlink:href=\"#DejaVuSans-52\"/>\n       <use x=\"63.623047\" xlink:href=\"#DejaVuSans-48\"/>\n       <use x=\"127.246094\" xlink:href=\"#DejaVuSans-48\"/>\n       <use x=\"190.869141\" xlink:href=\"#DejaVuSans-48\"/>\n      </g>\n     </g>\n    </g>\n    <g id=\"ytick_2\">\n     <g id=\"line2d_7\">\n      <g>\n       <use style=\"stroke:#000000;stroke-width:0.8;\" x=\"53.328125\" xlink:href=\"#m7d9e37d8dd\" y=\"408.623516\"/>\n      </g>\n     </g>\n     <g id=\"text_8\">\n      <!-- 4500 -->\n      <g transform=\"translate(20.878125 412.422735)scale(0.1 -0.1)\">\n       <use xlink:href=\"#DejaVuSans-52\"/>\n       <use x=\"63.623047\" xlink:href=\"#DejaVuSans-53\"/>\n       <use x=\"127.246094\" xlink:href=\"#DejaVuSans-48\"/>\n       <use x=\"190.869141\" xlink:href=\"#DejaVuSans-48\"/>\n      </g>\n     </g>\n    </g>\n    <g id=\"ytick_3\">\n     <g id=\"line2d_8\">\n      <g>\n       <use style=\"stroke:#000000;stroke-width:0.8;\" x=\"53.328125\" xlink:href=\"#m7d9e37d8dd\" y=\"302.194925\"/>\n      </g>\n     </g>\n     <g id=\"text_9\">\n      <!-- 5000 -->\n      <g transform=\"translate(20.878125 305.994144)scale(0.1 -0.1)\">\n       <use xlink:href=\"#DejaVuSans-53\"/>\n       <use x=\"63.623047\" xlink:href=\"#DejaVuSans-48\"/>\n       <use x=\"127.246094\" xlink:href=\"#DejaVuSans-48\"/>\n       <use x=\"190.869141\" xlink:href=\"#DejaVuSans-48\"/>\n      </g>\n     </g>\n    </g>\n    <g id=\"ytick_4\">\n     <g id=\"line2d_9\">\n      <g>\n       <use style=\"stroke:#000000;stroke-width:0.8;\" x=\"53.328125\" xlink:href=\"#m7d9e37d8dd\" y=\"195.766334\"/>\n      </g>\n     </g>\n     <g id=\"text_10\">\n      <!-- 5500 -->\n      <g transform=\"translate(20.878125 199.565553)scale(0.1 -0.1)\">\n       <use xlink:href=\"#DejaVuSans-53\"/>\n       <use x=\"63.623047\" xlink:href=\"#DejaVuSans-53\"/>\n       <use x=\"127.246094\" xlink:href=\"#DejaVuSans-48\"/>\n       <use x=\"190.869141\" xlink:href=\"#DejaVuSans-48\"/>\n      </g>\n     </g>\n    </g>\n    <g id=\"ytick_5\">\n     <g id=\"line2d_10\">\n      <g>\n       <use style=\"stroke:#000000;stroke-width:0.8;\" x=\"53.328125\" xlink:href=\"#m7d9e37d8dd\" y=\"89.337743\"/>\n      </g>\n     </g>\n     <g id=\"text_11\">\n      <!-- 6000 -->\n      <defs>\n       <path d=\"M 33.015625 40.375 \nQ 26.375 40.375 22.484375 35.828125 \nQ 18.609375 31.296875 18.609375 23.390625 \nQ 18.609375 15.53125 22.484375 10.953125 \nQ 26.375 6.390625 33.015625 6.390625 \nQ 39.65625 6.390625 43.53125 10.953125 \nQ 47.40625 15.53125 47.40625 23.390625 \nQ 47.40625 31.296875 43.53125 35.828125 \nQ 39.65625 40.375 33.015625 40.375 \nz\nM 52.59375 71.296875 \nL 52.59375 62.3125 \nQ 48.875 64.0625 45.09375 64.984375 \nQ 41.3125 65.921875 37.59375 65.921875 \nQ 27.828125 65.921875 22.671875 59.328125 \nQ 17.53125 52.734375 16.796875 39.40625 \nQ 19.671875 43.65625 24.015625 45.921875 \nQ 28.375 48.1875 33.59375 48.1875 \nQ 44.578125 48.1875 50.953125 41.515625 \nQ 57.328125 34.859375 57.328125 23.390625 \nQ 57.328125 12.15625 50.6875 5.359375 \nQ 44.046875 -1.421875 33.015625 -1.421875 \nQ 20.359375 -1.421875 13.671875 8.265625 \nQ 6.984375 17.96875 6.984375 36.375 \nQ 6.984375 53.65625 15.1875 63.9375 \nQ 23.390625 74.21875 37.203125 74.21875 \nQ 40.921875 74.21875 44.703125 73.484375 \nQ 48.484375 72.75 52.59375 71.296875 \nz\n\" id=\"DejaVuSans-54\"/>\n      </defs>\n      <g transform=\"translate(20.878125 93.136962)scale(0.1 -0.1)\">\n       <use xlink:href=\"#DejaVuSans-54\"/>\n       <use x=\"63.623047\" xlink:href=\"#DejaVuSans-48\"/>\n       <use x=\"127.246094\" xlink:href=\"#DejaVuSans-48\"/>\n       <use x=\"190.869141\" xlink:href=\"#DejaVuSans-48\"/>\n      </g>\n     </g>\n    </g>\n    <g id=\"text_12\">\n     <!-- CATE -->\n     <defs>\n      <path d=\"M 64.40625 67.28125 \nL 64.40625 56.890625 \nQ 59.421875 61.53125 53.78125 63.8125 \nQ 48.140625 66.109375 41.796875 66.109375 \nQ 29.296875 66.109375 22.65625 58.46875 \nQ 16.015625 50.828125 16.015625 36.375 \nQ 16.015625 21.96875 22.65625 14.328125 \nQ 29.296875 6.6875 41.796875 6.6875 \nQ 48.140625 6.6875 53.78125 8.984375 \nQ 59.421875 11.28125 64.40625 15.921875 \nL 64.40625 5.609375 \nQ 59.234375 2.09375 53.4375 0.328125 \nQ 47.65625 -1.421875 41.21875 -1.421875 \nQ 24.65625 -1.421875 15.125 8.703125 \nQ 5.609375 18.84375 5.609375 36.375 \nQ 5.609375 53.953125 15.125 64.078125 \nQ 24.65625 74.21875 41.21875 74.21875 \nQ 47.75 74.21875 53.53125 72.484375 \nQ 59.328125 70.75 64.40625 67.28125 \nz\n\" id=\"DejaVuSans-67\"/>\n      <path d=\"M 34.1875 63.1875 \nL 20.796875 26.90625 \nL 47.609375 26.90625 \nz\nM 28.609375 72.90625 \nL 39.796875 72.90625 \nL 67.578125 0 \nL 57.328125 0 \nL 50.6875 18.703125 \nL 17.828125 18.703125 \nL 11.1875 0 \nL 0.78125 0 \nz\n\" id=\"DejaVuSans-65\"/>\n      <path d=\"M -0.296875 72.90625 \nL 61.375 72.90625 \nL 61.375 64.59375 \nL 35.5 64.59375 \nL 35.5 0 \nL 25.59375 0 \nL 25.59375 64.59375 \nL -0.296875 64.59375 \nz\n\" id=\"DejaVuSans-84\"/>\n      <path d=\"M 9.8125 72.90625 \nL 55.90625 72.90625 \nL 55.90625 64.59375 \nL 19.671875 64.59375 \nL 19.671875 43.015625 \nL 54.390625 43.015625 \nL 54.390625 34.71875 \nL 19.671875 34.71875 \nL 19.671875 8.296875 \nL 56.78125 8.296875 \nL 56.78125 0 \nL 9.8125 0 \nz\n\" id=\"DejaVuSans-69\"/>\n     </defs>\n     <g transform=\"translate(14.798438 292.119531)rotate(-90)scale(0.1 -0.1)\">\n      <use xlink:href=\"#DejaVuSans-67\"/>\n      <use x=\"69.824219\" xlink:href=\"#DejaVuSans-65\"/>\n      <use x=\"138.123047\" xlink:href=\"#DejaVuSans-84\"/>\n      <use x=\"199.207031\" xlink:href=\"#DejaVuSans-69\"/>\n     </g>\n    </g>\n   </g>\n   <g id=\"line2d_11\">\n    <path clip-path=\"url(#pb6b8f82724)\" d=\"M 93.909943 280.772686 \nL 296.819034 365.567705 \nL 499.728125 202.8385 \nL 702.637216 243.160834 \nL 905.546307 333.828148 \n\" style=\"fill:none;stroke:#1f77b4;stroke-linecap:square;stroke-width:1.5;\"/>\n    <defs>\n     <path d=\"M 0 3 \nC 0.795609 3 1.55874 2.683901 2.12132 2.12132 \nC 2.683901 1.55874 3 0.795609 3 0 \nC 3 -0.795609 2.683901 -1.55874 2.12132 -2.12132 \nC 1.55874 -2.683901 0.795609 -3 0 -3 \nC -0.795609 -3 -1.55874 -2.683901 -2.12132 -2.12132 \nC -2.683901 -1.55874 -3 -0.795609 -3 0 \nC -3 0.795609 -2.683901 1.55874 -2.12132 2.12132 \nC -1.55874 2.683901 -0.795609 3 0 3 \nz\n\" id=\"mf699743f1a\" style=\"stroke:#1f77b4;\"/>\n    </defs>\n    <g clip-path=\"url(#pb6b8f82724)\">\n     <use style=\"fill:#1f77b4;stroke:#1f77b4;\" x=\"93.909943\" xlink:href=\"#mf699743f1a\" y=\"280.772686\"/>\n     <use style=\"fill:#1f77b4;stroke:#1f77b4;\" x=\"296.819034\" xlink:href=\"#mf699743f1a\" y=\"365.567705\"/>\n     <use style=\"fill:#1f77b4;stroke:#1f77b4;\" x=\"499.728125\" xlink:href=\"#mf699743f1a\" y=\"202.8385\"/>\n     <use style=\"fill:#1f77b4;stroke:#1f77b4;\" x=\"702.637216\" xlink:href=\"#mf699743f1a\" y=\"243.160834\"/>\n     <use style=\"fill:#1f77b4;stroke:#1f77b4;\" x=\"905.546307\" xlink:href=\"#mf699743f1a\" y=\"333.828148\"/>\n    </g>\n   </g>\n   <g id=\"line2d_12\">\n    <path clip-path=\"url(#pb6b8f82724)\" d=\"M 93.909943 325.212234 \nL 296.819034 353.300107 \nL 499.728125 221.278303 \nL 702.637216 159.607956 \nL 905.546307 165.5502 \n\" style=\"fill:none;stroke:#ff0000;stroke-linecap:square;stroke-width:1.5;\"/>\n   </g>\n   <g id=\"patch_3\">\n    <path d=\"M 53.328125 550.8 \nL 53.328125 7.2 \n\" style=\"fill:none;stroke:#000000;stroke-linecap:square;stroke-linejoin:miter;stroke-width:0.8;\"/>\n   </g>\n   <g id=\"patch_4\">\n    <path d=\"M 946.128125 550.8 \nL 946.128125 7.2 \n\" style=\"fill:none;stroke:#000000;stroke-linecap:square;stroke-linejoin:miter;stroke-width:0.8;\"/>\n   </g>\n   <g id=\"patch_5\">\n    <path d=\"M 53.328125 550.8 \nL 946.128125 550.8 \n\" style=\"fill:none;stroke:#000000;stroke-linecap:square;stroke-linejoin:miter;stroke-width:0.8;\"/>\n   </g>\n   <g id=\"patch_6\">\n    <path d=\"M 53.328125 7.2 \nL 946.128125 7.2 \n\" style=\"fill:none;stroke:#000000;stroke-linecap:square;stroke-linejoin:miter;stroke-width:0.8;\"/>\n   </g>\n   <g id=\"legend_1\">\n    <g id=\"patch_7\">\n     <path d=\"M 833.542187 44.55625 \nL 939.128125 44.55625 \nQ 941.128125 44.55625 941.128125 42.55625 \nL 941.128125 14.2 \nQ 941.128125 12.2 939.128125 12.2 \nL 833.542187 12.2 \nQ 831.542187 12.2 831.542187 14.2 \nL 831.542187 42.55625 \nQ 831.542187 44.55625 833.542187 44.55625 \nz\n\" style=\"fill:#ffffff;opacity:0.8;stroke:#cccccc;stroke-linejoin:miter;\"/>\n    </g>\n    <g id=\"line2d_13\">\n     <path d=\"M 835.542187 20.298437 \nL 855.542187 20.298437 \n\" style=\"fill:none;stroke:#1f77b4;stroke-linecap:square;stroke-width:1.5;\"/>\n    </g>\n    <g id=\"line2d_14\">\n     <g>\n      <use style=\"fill:#1f77b4;stroke:#1f77b4;\" x=\"845.542187\" xlink:href=\"#mf699743f1a\" y=\"20.298437\"/>\n     </g>\n    </g>\n    <g id=\"text_13\">\n     <!-- Estimate CATE -->\n     <defs>\n      <path d=\"M 44.28125 53.078125 \nL 44.28125 44.578125 \nQ 40.484375 46.53125 36.375 47.5 \nQ 32.28125 48.484375 27.875 48.484375 \nQ 21.1875 48.484375 17.84375 46.4375 \nQ 14.5 44.390625 14.5 40.28125 \nQ 14.5 37.15625 16.890625 35.375 \nQ 19.28125 33.59375 26.515625 31.984375 \nL 29.59375 31.296875 \nQ 39.15625 29.25 43.1875 25.515625 \nQ 47.21875 21.78125 47.21875 15.09375 \nQ 47.21875 7.46875 41.1875 3.015625 \nQ 35.15625 -1.421875 24.609375 -1.421875 \nQ 20.21875 -1.421875 15.453125 -0.5625 \nQ 10.6875 0.296875 5.421875 2 \nL 5.421875 11.28125 \nQ 10.40625 8.6875 15.234375 7.390625 \nQ 20.0625 6.109375 24.8125 6.109375 \nQ 31.15625 6.109375 34.5625 8.28125 \nQ 37.984375 10.453125 37.984375 14.40625 \nQ 37.984375 18.0625 35.515625 20.015625 \nQ 33.0625 21.96875 24.703125 23.78125 \nL 21.578125 24.515625 \nQ 13.234375 26.265625 9.515625 29.90625 \nQ 5.8125 33.546875 5.8125 39.890625 \nQ 5.8125 47.609375 11.28125 51.796875 \nQ 16.75 56 26.8125 56 \nQ 31.78125 56 36.171875 55.265625 \nQ 40.578125 54.546875 44.28125 53.078125 \nz\n\" id=\"DejaVuSans-115\"/>\n      <path d=\"M 18.3125 70.21875 \nL 18.3125 54.6875 \nL 36.8125 54.6875 \nL 36.8125 47.703125 \nL 18.3125 47.703125 \nL 18.3125 18.015625 \nQ 18.3125 11.328125 20.140625 9.421875 \nQ 21.96875 7.515625 27.59375 7.515625 \nL 36.8125 7.515625 \nL 36.8125 0 \nL 27.59375 0 \nQ 17.1875 0 13.234375 3.875 \nQ 9.28125 7.765625 9.28125 18.015625 \nL 9.28125 47.703125 \nL 2.6875 47.703125 \nL 2.6875 54.6875 \nL 9.28125 54.6875 \nL 9.28125 70.21875 \nz\n\" id=\"DejaVuSans-116\"/>\n      <path d=\"M 52 44.1875 \nQ 55.375 50.25 60.0625 53.125 \nQ 64.75 56 71.09375 56 \nQ 79.640625 56 84.28125 50.015625 \nQ 88.921875 44.046875 88.921875 33.015625 \nL 88.921875 0 \nL 79.890625 0 \nL 79.890625 32.71875 \nQ 79.890625 40.578125 77.09375 44.375 \nQ 74.3125 48.1875 68.609375 48.1875 \nQ 61.625 48.1875 57.5625 43.546875 \nQ 53.515625 38.921875 53.515625 30.90625 \nL 53.515625 0 \nL 44.484375 0 \nL 44.484375 32.71875 \nQ 44.484375 40.625 41.703125 44.40625 \nQ 38.921875 48.1875 33.109375 48.1875 \nQ 26.21875 48.1875 22.15625 43.53125 \nQ 18.109375 38.875 18.109375 30.90625 \nL 18.109375 0 \nL 9.078125 0 \nL 9.078125 54.6875 \nL 18.109375 54.6875 \nL 18.109375 46.1875 \nQ 21.1875 51.21875 25.484375 53.609375 \nQ 29.78125 56 35.6875 56 \nQ 41.65625 56 45.828125 52.96875 \nQ 50 49.953125 52 44.1875 \nz\n\" id=\"DejaVuSans-109\"/>\n     </defs>\n     <g transform=\"translate(863.542187 23.798437)scale(0.1 -0.1)\">\n      <use xlink:href=\"#DejaVuSans-69\"/>\n      <use x=\"63.183594\" xlink:href=\"#DejaVuSans-115\"/>\n      <use x=\"115.283203\" xlink:href=\"#DejaVuSans-116\"/>\n      <use x=\"154.492188\" xlink:href=\"#DejaVuSans-105\"/>\n      <use x=\"182.275391\" xlink:href=\"#DejaVuSans-109\"/>\n      <use x=\"279.6875\" xlink:href=\"#DejaVuSans-97\"/>\n      <use x=\"340.966797\" xlink:href=\"#DejaVuSans-116\"/>\n      <use x=\"380.175781\" xlink:href=\"#DejaVuSans-101\"/>\n      <use x=\"441.699219\" xlink:href=\"#DejaVuSans-32\"/>\n      <use x=\"473.486328\" xlink:href=\"#DejaVuSans-67\"/>\n      <use x=\"543.310547\" xlink:href=\"#DejaVuSans-65\"/>\n      <use x=\"611.609375\" xlink:href=\"#DejaVuSans-84\"/>\n      <use x=\"672.693359\" xlink:href=\"#DejaVuSans-69\"/>\n     </g>\n    </g>\n    <g id=\"line2d_15\">\n     <path d=\"M 835.542187 34.976562 \nL 855.542187 34.976562 \n\" style=\"fill:none;stroke:#ff0000;stroke-linecap:square;stroke-width:1.5;\"/>\n    </g>\n    <g id=\"line2d_16\"/>\n    <g id=\"text_14\">\n     <!-- True CATE -->\n     <defs>\n      <path d=\"M 41.109375 46.296875 \nQ 39.59375 47.171875 37.8125 47.578125 \nQ 36.03125 48 33.890625 48 \nQ 26.265625 48 22.1875 43.046875 \nQ 18.109375 38.09375 18.109375 28.8125 \nL 18.109375 0 \nL 9.078125 0 \nL 9.078125 54.6875 \nL 18.109375 54.6875 \nL 18.109375 46.1875 \nQ 20.953125 51.171875 25.484375 53.578125 \nQ 30.03125 56 36.53125 56 \nQ 37.453125 56 38.578125 55.875 \nQ 39.703125 55.765625 41.0625 55.515625 \nz\n\" id=\"DejaVuSans-114\"/>\n      <path d=\"M 8.5 21.578125 \nL 8.5 54.6875 \nL 17.484375 54.6875 \nL 17.484375 21.921875 \nQ 17.484375 14.15625 20.5 10.265625 \nQ 23.53125 6.390625 29.59375 6.390625 \nQ 36.859375 6.390625 41.078125 11.03125 \nQ 45.3125 15.671875 45.3125 23.6875 \nL 45.3125 54.6875 \nL 54.296875 54.6875 \nL 54.296875 0 \nL 45.3125 0 \nL 45.3125 8.40625 \nQ 42.046875 3.421875 37.71875 1 \nQ 33.40625 -1.421875 27.6875 -1.421875 \nQ 18.265625 -1.421875 13.375 4.4375 \nQ 8.5 10.296875 8.5 21.578125 \nz\nM 31.109375 56 \nz\n\" id=\"DejaVuSans-117\"/>\n     </defs>\n     <g transform=\"translate(863.542187 38.476562)scale(0.1 -0.1)\">\n      <use xlink:href=\"#DejaVuSans-84\"/>\n      <use x=\"60.865234\" xlink:href=\"#DejaVuSans-114\"/>\n      <use x=\"101.978516\" xlink:href=\"#DejaVuSans-117\"/>\n      <use x=\"165.357422\" xlink:href=\"#DejaVuSans-101\"/>\n      <use x=\"226.880859\" xlink:href=\"#DejaVuSans-32\"/>\n      <use x=\"258.667969\" xlink:href=\"#DejaVuSans-67\"/>\n      <use x=\"328.492188\" xlink:href=\"#DejaVuSans-65\"/>\n      <use x=\"396.791016\" xlink:href=\"#DejaVuSans-84\"/>\n      <use x=\"457.875\" xlink:href=\"#DejaVuSans-69\"/>\n     </g>\n    </g>\n   </g>\n  </g>\n </g>\n <defs>\n  <clipPath id=\"pb6b8f82724\">\n   <rect height=\"543.6\" width=\"892.8\" x=\"53.328125\" y=\"7.2\"/>\n  </clipPath>\n </defs>\n</svg>\n",
      "image/png": "[encoded data removed]"
     },
     "metadata": {
      "needs_background": "light"
     }
    }
   ],
   "source": [
    "plt.figure(figsize=(16,10))\n",
    "plt.xlabel(\"Race Bin\")\n",
    "plt.ylabel(\"CATE\")\n",
    "plt.plot(binNumbers, cateEstimates, marker='o', label=\"Estimate CATE\")\n",
    "plt.plot(binNumbers, cates, color='red', label='True CATE')\n",
    "plt.legend()\n",
    "plt.fill_between(binNumbers, cateLBS, cateUBS, color='b', alpha=.1)\n",
    "plt.xticks(np.linspace(start=1, stop=len(bins), num=len(bins)), np.linspace(start=1, stop=len(bins), num=len(bins)))\n",
    "plt.show()"
   ]
  },
  {
   "source": [
    "### Educ covariate (not responsible for heterogeneity)"
   ],
   "cell_type": "markdown",
   "metadata": {}
  },
  {
   "cell_type": "code",
   "execution_count": 192,
   "metadata": {},
   "outputs": [],
   "source": [
    "N = 1000\n",
    "nBins = 5\n",
    "\n",
    "y, X, trueBetas, featureNames, treatments, cy, ate, treated, bins, cates = dgp(welfare, N=N, cate_feature='educ', nBins=nBins, compute_cate=True)\n",
    "yFit, XFit, treatmentsFit, treatedFit, cyFit = y[:500], X[:500], treatments[:500], treated[:500], cy[:500]\n",
    "\n",
    "est, _, _, _, _ = estimate_cf(yFit, XFit, treatmentsFit, treatedFit, cyFit, test_size=0.1)\n",
    "\n",
    "binNumbers = np.arange(start=1, stop=1+len(bins))\n",
    "filteredBins = []\n",
    "for i in range(nBins):\n",
    "    fBin = []\n",
    "    for j in range(bins[i].shape[0]):\n",
    "        if len(np.where((XFit == bins[i][j]).all(axis=1))[0]) == 0:\n",
    "            fBin.append(bins[i][j])\n",
    "    filteredBins.append(np.array(fBin))\n",
    "\n",
    "cateEstimates = []\n",
    "cateLBS = []\n",
    "cateUBS = []\n",
    "for fBin in filteredBins:\n",
    "    cate = est.ate(fBin)[0]\n",
    "    lb, ub = est.ate_interval(fBin, alpha=0.05)\n",
    "    cateEstimates.append(cate)\n",
    "    cateLBS.append(lb[0])\n",
    "    cateUBS.append(ub[0])"
   ]
  },
  {
   "cell_type": "code",
   "execution_count": 193,
   "metadata": {},
   "outputs": [
    {
     "output_type": "execute_result",
     "data": {
      "text/plain": [
       "    True CATES  Estimated CATES  Normalized Bias  Unnormalized Bias  \\\n",
       "1  4591.512869      4894.701694        -0.066032        -303.188826   \n",
       "2  5186.545439      5004.262775         0.035145         182.282664   \n",
       "3  6177.337262      6385.687884        -0.033728        -208.350622   \n",
       "4  5342.916259      5148.006131         0.036480         194.910129   \n",
       "5  5756.789733      5106.605260         0.112942         650.184473   \n",
       "\n",
       "   Normalized Interval Length  Interval Length  Coverage  \n",
       "1                    0.388815      1785.247114         1  \n",
       "2                    0.337622      1751.093363         1  \n",
       "3                    0.318825      1969.492374         1  \n",
       "4                    0.334144      1785.305183         1  \n",
       "5                    0.287282      1653.820959         1  "
      ],
      "text/html": "<div>\n<style scoped>\n    .dataframe tbody tr th:only-of-type {\n        vertical-align: middle;\n    }\n\n    .dataframe tbody tr th {\n        vertical-align: top;\n    }\n\n    .dataframe thead th {\n        text-align: right;\n    }\n</style>\n<table border=\"1\" class=\"dataframe\">\n  <thead>\n    <tr style=\"text-align: right;\">\n      <th></th>\n      <th>True CATES</th>\n      <th>Estimated CATES</th>\n      <th>Normalized Bias</th>\n      <th>Unnormalized Bias</th>\n      <th>Normalized Interval Length</th>\n      <th>Interval Length</th>\n      <th>Coverage</th>\n    </tr>\n  </thead>\n  <tbody>\n    <tr>\n      <th>1</th>\n      <td>4591.512869</td>\n      <td>4894.701694</td>\n      <td>-0.066032</td>\n      <td>-303.188826</td>\n      <td>0.388815</td>\n      <td>1785.247114</td>\n      <td>1</td>\n    </tr>\n    <tr>\n      <th>2</th>\n      <td>5186.545439</td>\n      <td>5004.262775</td>\n      <td>0.035145</td>\n      <td>182.282664</td>\n      <td>0.337622</td>\n      <td>1751.093363</td>\n      <td>1</td>\n    </tr>\n    <tr>\n      <th>3</th>\n      <td>6177.337262</td>\n      <td>6385.687884</td>\n      <td>-0.033728</td>\n      <td>-208.350622</td>\n      <td>0.318825</td>\n      <td>1969.492374</td>\n      <td>1</td>\n    </tr>\n    <tr>\n      <th>4</th>\n      <td>5342.916259</td>\n      <td>5148.006131</td>\n      <td>0.036480</td>\n      <td>194.910129</td>\n      <td>0.334144</td>\n      <td>1785.305183</td>\n      <td>1</td>\n    </tr>\n    <tr>\n      <th>5</th>\n      <td>5756.789733</td>\n      <td>5106.605260</td>\n      <td>0.112942</td>\n      <td>650.184473</td>\n      <td>0.287282</td>\n      <td>1653.820959</td>\n      <td>1</td>\n    </tr>\n  </tbody>\n</table>\n</div>"
     },
     "metadata": {},
     "execution_count": 193
    }
   ],
   "source": [
    "biasEducs = []\n",
    "biasEducsNorm = []\n",
    "intervalEducs = []\n",
    "intervalEducsNorm = []\n",
    "coverageEducs = []\n",
    "\n",
    "for i in range(nBins):\n",
    "    bias = cates[i] - cateEstimates[i]\n",
    "    interval = cateUBS[i] - cateLBS[i]\n",
    "    coverage = 1 if (cates[i] >= cateLBS[i] and cates[i] <= cateUBS[i]) else 0\n",
    "    \n",
    "    biasEducs.append(bias)\n",
    "    biasEducsNorm.append(bias/cates[i])\n",
    "    intervalEducs.append(interval)\n",
    "    intervalEducsNorm.append(interval/cates[i])\n",
    "    coverageEducs.append(coverage)\n",
    "\n",
    "data = {'True CATES':cates, 'Estimated CATES':cateEstimates,   \n",
    "        'Normalized Bias':biasEducsNorm, 'Unnormalized Bias':biasEducs,\n",
    "        'Normalized Interval Length':intervalEducsNorm, 'Interval Length':intervalEducs, \n",
    "        'Coverage':coverageEducs}\n",
    "        \n",
    "tableEducsCATEs = pd.DataFrame(data=data, index=binNumbers)\n",
    "tableEducsCATEs"
   ]
  },
  {
   "cell_type": "code",
   "execution_count": 194,
   "metadata": {},
   "outputs": [
    {
     "output_type": "display_data",
     "data": {
      "text/plain": "<Figure size 1152x720 with 1 Axes>",
      "image/svg+xml": "<?xml version=\"1.0\" encoding=\"utf-8\" standalone=\"no\"?>\n<!DOCTYPE svg PUBLIC \"-//W3C//DTD SVG 1.1//EN\"\n  \"http://www.w3.org/Graphics/SVG/1.1/DTD/svg11.dtd\">\n<!-- Created with matplotlib (https://matplotlib.org/) -->\n<svg height=\"588.35625pt\" version=\"1.1\" viewBox=\"0 0 953.328125 588.35625\" width=\"953.328125pt\" xmlns=\"http://www.w3.org/2000/svg\" xmlns:xlink=\"http://www.w3.org/1999/xlink\">\n <defs>\n  <style type=\"text/css\">\n*{stroke-linecap:butt;stroke-linejoin:round;}\n  </style>\n </defs>\n <g id=\"figure_1\">\n  <g id=\"patch_1\">\n   <path d=\"M 0 588.35625 \nL 953.328125 588.35625 \nL 953.328125 0 \nL 0 0 \nz\n\" style=\"fill:none;\"/>\n  </g>\n  <g id=\"axes_1\">\n   <g id=\"patch_2\">\n    <path d=\"M 53.328125 550.8 \nL 946.128125 550.8 \nL 946.128125 7.2 \nL 53.328125 7.2 \nz\n\" style=\"fill:#ffffff;\"/>\n   </g>\n   <g id=\"PolyCollection_1\">\n    <defs>\n     <path d=\"M 93.909943 -324.184414 \nL 93.909943 -62.265341 \nL 296.819034 -80.844784 \nL 499.728125 -267.496899 \nL 702.637216 -99.424151 \nL 905.546307 -102.995329 \nL 905.546307 -345.632469 \nL 905.546307 -345.632469 \nL 702.637216 -361.351744 \nL 499.728125 -556.447159 \nL 296.819034 -337.753055 \nL 93.909943 -324.184414 \nz\n\" id=\"m69139034f1\" style=\"stroke:#0000ff;stroke-opacity:0.1;\"/>\n    </defs>\n    <g clip-path=\"url(#p5ce78d7241)\">\n     <use style=\"fill:#0000ff;fill-opacity:0.1;stroke:#0000ff;stroke-opacity:0.1;\" x=\"0\" xlink:href=\"#m69139034f1\" y=\"588.35625\"/>\n    </g>\n   </g>\n   <g id=\"matplotlib.axis_1\">\n    <g id=\"xtick_1\">\n     <g id=\"line2d_1\">\n      <defs>\n       <path d=\"M 0 0 \nL 0 3.5 \n\" id=\"m70e272720b\" style=\"stroke:#000000;stroke-width:0.8;\"/>\n      </defs>\n      <g>\n       <use style=\"stroke:#000000;stroke-width:0.8;\" x=\"93.909943\" xlink:href=\"#m70e272720b\" y=\"550.8\"/>\n      </g>\n     </g>\n     <g id=\"text_1\">\n      <!-- 1.0 -->\n      <defs>\n       <path d=\"M 12.40625 8.296875 \nL 28.515625 8.296875 \nL 28.515625 63.921875 \nL 10.984375 60.40625 \nL 10.984375 69.390625 \nL 28.421875 72.90625 \nL 38.28125 72.90625 \nL 38.28125 8.296875 \nL 54.390625 8.296875 \nL 54.390625 0 \nL 12.40625 0 \nz\n\" id=\"DejaVuSans-49\"/>\n       <path d=\"M 10.6875 12.40625 \nL 21 12.40625 \nL 21 0 \nL 10.6875 0 \nz\n\" id=\"DejaVuSans-46\"/>\n       <path d=\"M 31.78125 66.40625 \nQ 24.171875 66.40625 20.328125 58.90625 \nQ 16.5 51.421875 16.5 36.375 \nQ 16.5 21.390625 20.328125 13.890625 \nQ 24.171875 6.390625 31.78125 6.390625 \nQ 39.453125 6.390625 43.28125 13.890625 \nQ 47.125 21.390625 47.125 36.375 \nQ 47.125 51.421875 43.28125 58.90625 \nQ 39.453125 66.40625 31.78125 66.40625 \nz\nM 31.78125 74.21875 \nQ 44.046875 74.21875 50.515625 64.515625 \nQ 56.984375 54.828125 56.984375 36.375 \nQ 56.984375 17.96875 50.515625 8.265625 \nQ 44.046875 -1.421875 31.78125 -1.421875 \nQ 19.53125 -1.421875 13.0625 8.265625 \nQ 6.59375 17.96875 6.59375 36.375 \nQ 6.59375 54.828125 13.0625 64.515625 \nQ 19.53125 74.21875 31.78125 74.21875 \nz\n\" id=\"DejaVuSans-48\"/>\n      </defs>\n      <g transform=\"translate(85.958381 565.398438)scale(0.1 -0.1)\">\n       <use xlink:href=\"#DejaVuSans-49\"/>\n       <use x=\"63.623047\" xlink:href=\"#DejaVuSans-46\"/>\n       <use x=\"95.410156\" xlink:href=\"#DejaVuSans-48\"/>\n      </g>\n     </g>\n    </g>\n    <g id=\"xtick_2\">\n     <g id=\"line2d_2\">\n      <g>\n       <use style=\"stroke:#000000;stroke-width:0.8;\" x=\"296.819034\" xlink:href=\"#m70e272720b\" y=\"550.8\"/>\n      </g>\n     </g>\n     <g id=\"text_2\">\n      <!-- 2.0 -->\n      <defs>\n       <path d=\"M 19.1875 8.296875 \nL 53.609375 8.296875 \nL 53.609375 0 \nL 7.328125 0 \nL 7.328125 8.296875 \nQ 12.9375 14.109375 22.625 23.890625 \nQ 32.328125 33.6875 34.8125 36.53125 \nQ 39.546875 41.84375 41.421875 45.53125 \nQ 43.3125 49.21875 43.3125 52.78125 \nQ 43.3125 58.59375 39.234375 62.25 \nQ 35.15625 65.921875 28.609375 65.921875 \nQ 23.96875 65.921875 18.8125 64.3125 \nQ 13.671875 62.703125 7.8125 59.421875 \nL 7.8125 69.390625 \nQ 13.765625 71.78125 18.9375 73 \nQ 24.125 74.21875 28.421875 74.21875 \nQ 39.75 74.21875 46.484375 68.546875 \nQ 53.21875 62.890625 53.21875 53.421875 \nQ 53.21875 48.921875 51.53125 44.890625 \nQ 49.859375 40.875 45.40625 35.40625 \nQ 44.1875 33.984375 37.640625 27.21875 \nQ 31.109375 20.453125 19.1875 8.296875 \nz\n\" id=\"DejaVuSans-50\"/>\n      </defs>\n      <g transform=\"translate(288.867472 565.398438)scale(0.1 -0.1)\">\n       <use xlink:href=\"#DejaVuSans-50\"/>\n       <use x=\"63.623047\" xlink:href=\"#DejaVuSans-46\"/>\n       <use x=\"95.410156\" xlink:href=\"#DejaVuSans-48\"/>\n      </g>\n     </g>\n    </g>\n    <g id=\"xtick_3\">\n     <g id=\"line2d_3\">\n      <g>\n       <use style=\"stroke:#000000;stroke-width:0.8;\" x=\"499.728125\" xlink:href=\"#m70e272720b\" y=\"550.8\"/>\n      </g>\n     </g>\n     <g id=\"text_3\">\n      <!-- 3.0 -->\n      <defs>\n       <path d=\"M 40.578125 39.3125 \nQ 47.65625 37.796875 51.625 33 \nQ 55.609375 28.21875 55.609375 21.1875 \nQ 55.609375 10.40625 48.1875 4.484375 \nQ 40.765625 -1.421875 27.09375 -1.421875 \nQ 22.515625 -1.421875 17.65625 -0.515625 \nQ 12.796875 0.390625 7.625 2.203125 \nL 7.625 11.71875 \nQ 11.71875 9.328125 16.59375 8.109375 \nQ 21.484375 6.890625 26.8125 6.890625 \nQ 36.078125 6.890625 40.9375 10.546875 \nQ 45.796875 14.203125 45.796875 21.1875 \nQ 45.796875 27.640625 41.28125 31.265625 \nQ 36.765625 34.90625 28.71875 34.90625 \nL 20.21875 34.90625 \nL 20.21875 43.015625 \nL 29.109375 43.015625 \nQ 36.375 43.015625 40.234375 45.921875 \nQ 44.09375 48.828125 44.09375 54.296875 \nQ 44.09375 59.90625 40.109375 62.90625 \nQ 36.140625 65.921875 28.71875 65.921875 \nQ 24.65625 65.921875 20.015625 65.03125 \nQ 15.375 64.15625 9.8125 62.3125 \nL 9.8125 71.09375 \nQ 15.4375 72.65625 20.34375 73.4375 \nQ 25.25 74.21875 29.59375 74.21875 \nQ 40.828125 74.21875 47.359375 69.109375 \nQ 53.90625 64.015625 53.90625 55.328125 \nQ 53.90625 49.265625 50.4375 45.09375 \nQ 46.96875 40.921875 40.578125 39.3125 \nz\n\" id=\"DejaVuSans-51\"/>\n      </defs>\n      <g transform=\"translate(491.776562 565.398438)scale(0.1 -0.1)\">\n       <use xlink:href=\"#DejaVuSans-51\"/>\n       <use x=\"63.623047\" xlink:href=\"#DejaVuSans-46\"/>\n       <use x=\"95.410156\" xlink:href=\"#DejaVuSans-48\"/>\n      </g>\n     </g>\n    </g>\n    <g id=\"xtick_4\">\n     <g id=\"line2d_4\">\n      <g>\n       <use style=\"stroke:#000000;stroke-width:0.8;\" x=\"702.637216\" xlink:href=\"#m70e272720b\" y=\"550.8\"/>\n      </g>\n     </g>\n     <g id=\"text_4\">\n      <!-- 4.0 -->\n      <defs>\n       <path d=\"M 37.796875 64.3125 \nL 12.890625 25.390625 \nL 37.796875 25.390625 \nz\nM 35.203125 72.90625 \nL 47.609375 72.90625 \nL 47.609375 25.390625 \nL 58.015625 25.390625 \nL 58.015625 17.1875 \nL 47.609375 17.1875 \nL 47.609375 0 \nL 37.796875 0 \nL 37.796875 17.1875 \nL 4.890625 17.1875 \nL 4.890625 26.703125 \nz\n\" id=\"DejaVuSans-52\"/>\n      </defs>\n      <g transform=\"translate(694.685653 565.398438)scale(0.1 -0.1)\">\n       <use xlink:href=\"#DejaVuSans-52\"/>\n       <use x=\"63.623047\" xlink:href=\"#DejaVuSans-46\"/>\n       <use x=\"95.410156\" xlink:href=\"#DejaVuSans-48\"/>\n      </g>\n     </g>\n    </g>\n    <g id=\"xtick_5\">\n     <g id=\"line2d_5\">\n      <g>\n       <use style=\"stroke:#000000;stroke-width:0.8;\" x=\"905.546307\" xlink:href=\"#m70e272720b\" y=\"550.8\"/>\n      </g>\n     </g>\n     <g id=\"text_5\">\n      <!-- 5.0 -->\n      <defs>\n       <path d=\"M 10.796875 72.90625 \nL 49.515625 72.90625 \nL 49.515625 64.59375 \nL 19.828125 64.59375 \nL 19.828125 46.734375 \nQ 21.96875 47.46875 24.109375 47.828125 \nQ 26.265625 48.1875 28.421875 48.1875 \nQ 40.625 48.1875 47.75 41.5 \nQ 54.890625 34.8125 54.890625 23.390625 \nQ 54.890625 11.625 47.5625 5.09375 \nQ 40.234375 -1.421875 26.90625 -1.421875 \nQ 22.3125 -1.421875 17.546875 -0.640625 \nQ 12.796875 0.140625 7.71875 1.703125 \nL 7.71875 11.625 \nQ 12.109375 9.234375 16.796875 8.0625 \nQ 21.484375 6.890625 26.703125 6.890625 \nQ 35.15625 6.890625 40.078125 11.328125 \nQ 45.015625 15.765625 45.015625 23.390625 \nQ 45.015625 31 40.078125 35.4375 \nQ 35.15625 39.890625 26.703125 39.890625 \nQ 22.75 39.890625 18.8125 39.015625 \nQ 14.890625 38.140625 10.796875 36.28125 \nz\n\" id=\"DejaVuSans-53\"/>\n      </defs>\n      <g transform=\"translate(897.594744 565.398438)scale(0.1 -0.1)\">\n       <use xlink:href=\"#DejaVuSans-53\"/>\n       <use x=\"63.623047\" xlink:href=\"#DejaVuSans-46\"/>\n       <use x=\"95.410156\" xlink:href=\"#DejaVuSans-48\"/>\n      </g>\n     </g>\n    </g>\n    <g id=\"text_6\">\n     <!-- Educ Bin -->\n     <defs>\n      <path d=\"M 9.8125 72.90625 \nL 55.90625 72.90625 \nL 55.90625 64.59375 \nL 19.671875 64.59375 \nL 19.671875 43.015625 \nL 54.390625 43.015625 \nL 54.390625 34.71875 \nL 19.671875 34.71875 \nL 19.671875 8.296875 \nL 56.78125 8.296875 \nL 56.78125 0 \nL 9.8125 0 \nz\n\" id=\"DejaVuSans-69\"/>\n      <path d=\"M 45.40625 46.390625 \nL 45.40625 75.984375 \nL 54.390625 75.984375 \nL 54.390625 0 \nL 45.40625 0 \nL 45.40625 8.203125 \nQ 42.578125 3.328125 38.25 0.953125 \nQ 33.9375 -1.421875 27.875 -1.421875 \nQ 17.96875 -1.421875 11.734375 6.484375 \nQ 5.515625 14.40625 5.515625 27.296875 \nQ 5.515625 40.1875 11.734375 48.09375 \nQ 17.96875 56 27.875 56 \nQ 33.9375 56 38.25 53.625 \nQ 42.578125 51.265625 45.40625 46.390625 \nz\nM 14.796875 27.296875 \nQ 14.796875 17.390625 18.875 11.75 \nQ 22.953125 6.109375 30.078125 6.109375 \nQ 37.203125 6.109375 41.296875 11.75 \nQ 45.40625 17.390625 45.40625 27.296875 \nQ 45.40625 37.203125 41.296875 42.84375 \nQ 37.203125 48.484375 30.078125 48.484375 \nQ 22.953125 48.484375 18.875 42.84375 \nQ 14.796875 37.203125 14.796875 27.296875 \nz\n\" id=\"DejaVuSans-100\"/>\n      <path d=\"M 8.5 21.578125 \nL 8.5 54.6875 \nL 17.484375 54.6875 \nL 17.484375 21.921875 \nQ 17.484375 14.15625 20.5 10.265625 \nQ 23.53125 6.390625 29.59375 6.390625 \nQ 36.859375 6.390625 41.078125 11.03125 \nQ 45.3125 15.671875 45.3125 23.6875 \nL 45.3125 54.6875 \nL 54.296875 54.6875 \nL 54.296875 0 \nL 45.3125 0 \nL 45.3125 8.40625 \nQ 42.046875 3.421875 37.71875 1 \nQ 33.40625 -1.421875 27.6875 -1.421875 \nQ 18.265625 -1.421875 13.375 4.4375 \nQ 8.5 10.296875 8.5 21.578125 \nz\nM 31.109375 56 \nz\n\" id=\"DejaVuSans-117\"/>\n      <path d=\"M 48.78125 52.59375 \nL 48.78125 44.1875 \nQ 44.96875 46.296875 41.140625 47.34375 \nQ 37.3125 48.390625 33.40625 48.390625 \nQ 24.65625 48.390625 19.8125 42.84375 \nQ 14.984375 37.3125 14.984375 27.296875 \nQ 14.984375 17.28125 19.8125 11.734375 \nQ 24.65625 6.203125 33.40625 6.203125 \nQ 37.3125 6.203125 41.140625 7.25 \nQ 44.96875 8.296875 48.78125 10.40625 \nL 48.78125 2.09375 \nQ 45.015625 0.34375 40.984375 -0.53125 \nQ 36.96875 -1.421875 32.421875 -1.421875 \nQ 20.0625 -1.421875 12.78125 6.34375 \nQ 5.515625 14.109375 5.515625 27.296875 \nQ 5.515625 40.671875 12.859375 48.328125 \nQ 20.21875 56 33.015625 56 \nQ 37.15625 56 41.109375 55.140625 \nQ 45.0625 54.296875 48.78125 52.59375 \nz\n\" id=\"DejaVuSans-99\"/>\n      <path id=\"DejaVuSans-32\"/>\n      <path d=\"M 19.671875 34.8125 \nL 19.671875 8.109375 \nL 35.5 8.109375 \nQ 43.453125 8.109375 47.28125 11.40625 \nQ 51.125 14.703125 51.125 21.484375 \nQ 51.125 28.328125 47.28125 31.5625 \nQ 43.453125 34.8125 35.5 34.8125 \nz\nM 19.671875 64.796875 \nL 19.671875 42.828125 \nL 34.28125 42.828125 \nQ 41.5 42.828125 45.03125 45.53125 \nQ 48.578125 48.25 48.578125 53.8125 \nQ 48.578125 59.328125 45.03125 62.0625 \nQ 41.5 64.796875 34.28125 64.796875 \nz\nM 9.8125 72.90625 \nL 35.015625 72.90625 \nQ 46.296875 72.90625 52.390625 68.21875 \nQ 58.5 63.53125 58.5 54.890625 \nQ 58.5 48.1875 55.375 44.234375 \nQ 52.25 40.28125 46.1875 39.3125 \nQ 53.46875 37.75 57.5 32.78125 \nQ 61.53125 27.828125 61.53125 20.40625 \nQ 61.53125 10.640625 54.890625 5.3125 \nQ 48.25 0 35.984375 0 \nL 9.8125 0 \nz\n\" id=\"DejaVuSans-66\"/>\n      <path d=\"M 9.421875 54.6875 \nL 18.40625 54.6875 \nL 18.40625 0 \nL 9.421875 0 \nz\nM 9.421875 75.984375 \nL 18.40625 75.984375 \nL 18.40625 64.59375 \nL 9.421875 64.59375 \nz\n\" id=\"DejaVuSans-105\"/>\n      <path d=\"M 54.890625 33.015625 \nL 54.890625 0 \nL 45.90625 0 \nL 45.90625 32.71875 \nQ 45.90625 40.484375 42.875 44.328125 \nQ 39.84375 48.1875 33.796875 48.1875 \nQ 26.515625 48.1875 22.3125 43.546875 \nQ 18.109375 38.921875 18.109375 30.90625 \nL 18.109375 0 \nL 9.078125 0 \nL 9.078125 54.6875 \nL 18.109375 54.6875 \nL 18.109375 46.1875 \nQ 21.34375 51.125 25.703125 53.5625 \nQ 30.078125 56 35.796875 56 \nQ 45.21875 56 50.046875 50.171875 \nQ 54.890625 44.34375 54.890625 33.015625 \nz\n\" id=\"DejaVuSans-110\"/>\n     </defs>\n     <g transform=\"translate(477.899219 579.076563)scale(0.1 -0.1)\">\n      <use xlink:href=\"#DejaVuSans-69\"/>\n      <use x=\"63.183594\" xlink:href=\"#DejaVuSans-100\"/>\n      <use x=\"126.660156\" xlink:href=\"#DejaVuSans-117\"/>\n      <use x=\"190.039062\" xlink:href=\"#DejaVuSans-99\"/>\n      <use x=\"245.019531\" xlink:href=\"#DejaVuSans-32\"/>\n      <use x=\"276.806641\" xlink:href=\"#DejaVuSans-66\"/>\n      <use x=\"345.410156\" xlink:href=\"#DejaVuSans-105\"/>\n      <use x=\"373.193359\" xlink:href=\"#DejaVuSans-110\"/>\n     </g>\n    </g>\n   </g>\n   <g id=\"matplotlib.axis_2\">\n    <g id=\"ytick_1\">\n     <g id=\"line2d_6\">\n      <defs>\n       <path d=\"M 0 0 \nL -3.5 0 \n\" id=\"m473f421e0e\" style=\"stroke:#000000;stroke-width:0.8;\"/>\n      </defs>\n      <g>\n       <use style=\"stroke:#000000;stroke-width:0.8;\" x=\"53.328125\" xlink:href=\"#m473f421e0e\" y=\"526.395799\"/>\n      </g>\n     </g>\n     <g id=\"text_7\">\n      <!-- 4000 -->\n      <g transform=\"translate(20.878125 530.195018)scale(0.1 -0.1)\">\n       <use xlink:href=\"#DejaVuSans-52\"/>\n       <use x=\"63.623047\" xlink:href=\"#DejaVuSans-48\"/>\n       <use x=\"127.246094\" xlink:href=\"#DejaVuSans-48\"/>\n       <use x=\"190.869141\" xlink:href=\"#DejaVuSans-48\"/>\n      </g>\n     </g>\n    </g>\n    <g id=\"ytick_2\">\n     <g id=\"line2d_7\">\n      <g>\n       <use style=\"stroke:#000000;stroke-width:0.8;\" x=\"53.328125\" xlink:href=\"#m473f421e0e\" y=\"453.039267\"/>\n      </g>\n     </g>\n     <g id=\"text_8\">\n      <!-- 4500 -->\n      <g transform=\"translate(20.878125 456.838486)scale(0.1 -0.1)\">\n       <use xlink:href=\"#DejaVuSans-52\"/>\n       <use x=\"63.623047\" xlink:href=\"#DejaVuSans-53\"/>\n       <use x=\"127.246094\" xlink:href=\"#DejaVuSans-48\"/>\n       <use x=\"190.869141\" xlink:href=\"#DejaVuSans-48\"/>\n      </g>\n     </g>\n    </g>\n    <g id=\"ytick_3\">\n     <g id=\"line2d_8\">\n      <g>\n       <use style=\"stroke:#000000;stroke-width:0.8;\" x=\"53.328125\" xlink:href=\"#m473f421e0e\" y=\"379.682735\"/>\n      </g>\n     </g>\n     <g id=\"text_9\">\n      <!-- 5000 -->\n      <g transform=\"translate(20.878125 383.481954)scale(0.1 -0.1)\">\n       <use xlink:href=\"#DejaVuSans-53\"/>\n       <use x=\"63.623047\" xlink:href=\"#DejaVuSans-48\"/>\n       <use x=\"127.246094\" xlink:href=\"#DejaVuSans-48\"/>\n       <use x=\"190.869141\" xlink:href=\"#DejaVuSans-48\"/>\n      </g>\n     </g>\n    </g>\n    <g id=\"ytick_4\">\n     <g id=\"line2d_9\">\n      <g>\n       <use style=\"stroke:#000000;stroke-width:0.8;\" x=\"53.328125\" xlink:href=\"#m473f421e0e\" y=\"306.326204\"/>\n      </g>\n     </g>\n     <g id=\"text_10\">\n      <!-- 5500 -->\n      <g transform=\"translate(20.878125 310.125422)scale(0.1 -0.1)\">\n       <use xlink:href=\"#DejaVuSans-53\"/>\n       <use x=\"63.623047\" xlink:href=\"#DejaVuSans-53\"/>\n       <use x=\"127.246094\" xlink:href=\"#DejaVuSans-48\"/>\n       <use x=\"190.869141\" xlink:href=\"#DejaVuSans-48\"/>\n      </g>\n     </g>\n    </g>\n    <g id=\"ytick_5\">\n     <g id=\"line2d_10\">\n      <g>\n       <use style=\"stroke:#000000;stroke-width:0.8;\" x=\"53.328125\" xlink:href=\"#m473f421e0e\" y=\"232.969672\"/>\n      </g>\n     </g>\n     <g id=\"text_11\">\n      <!-- 6000 -->\n      <defs>\n       <path d=\"M 33.015625 40.375 \nQ 26.375 40.375 22.484375 35.828125 \nQ 18.609375 31.296875 18.609375 23.390625 \nQ 18.609375 15.53125 22.484375 10.953125 \nQ 26.375 6.390625 33.015625 6.390625 \nQ 39.65625 6.390625 43.53125 10.953125 \nQ 47.40625 15.53125 47.40625 23.390625 \nQ 47.40625 31.296875 43.53125 35.828125 \nQ 39.65625 40.375 33.015625 40.375 \nz\nM 52.59375 71.296875 \nL 52.59375 62.3125 \nQ 48.875 64.0625 45.09375 64.984375 \nQ 41.3125 65.921875 37.59375 65.921875 \nQ 27.828125 65.921875 22.671875 59.328125 \nQ 17.53125 52.734375 16.796875 39.40625 \nQ 19.671875 43.65625 24.015625 45.921875 \nQ 28.375 48.1875 33.59375 48.1875 \nQ 44.578125 48.1875 50.953125 41.515625 \nQ 57.328125 34.859375 57.328125 23.390625 \nQ 57.328125 12.15625 50.6875 5.359375 \nQ 44.046875 -1.421875 33.015625 -1.421875 \nQ 20.359375 -1.421875 13.671875 8.265625 \nQ 6.984375 17.96875 6.984375 36.375 \nQ 6.984375 53.65625 15.1875 63.9375 \nQ 23.390625 74.21875 37.203125 74.21875 \nQ 40.921875 74.21875 44.703125 73.484375 \nQ 48.484375 72.75 52.59375 71.296875 \nz\n\" id=\"DejaVuSans-54\"/>\n      </defs>\n      <g transform=\"translate(20.878125 236.768891)scale(0.1 -0.1)\">\n       <use xlink:href=\"#DejaVuSans-54\"/>\n       <use x=\"63.623047\" xlink:href=\"#DejaVuSans-48\"/>\n       <use x=\"127.246094\" xlink:href=\"#DejaVuSans-48\"/>\n       <use x=\"190.869141\" xlink:href=\"#DejaVuSans-48\"/>\n      </g>\n     </g>\n    </g>\n    <g id=\"ytick_6\">\n     <g id=\"line2d_11\">\n      <g>\n       <use style=\"stroke:#000000;stroke-width:0.8;\" x=\"53.328125\" xlink:href=\"#m473f421e0e\" y=\"159.61314\"/>\n      </g>\n     </g>\n     <g id=\"text_12\">\n      <!-- 6500 -->\n      <g transform=\"translate(20.878125 163.412359)scale(0.1 -0.1)\">\n       <use xlink:href=\"#DejaVuSans-54\"/>\n       <use x=\"63.623047\" xlink:href=\"#DejaVuSans-53\"/>\n       <use x=\"127.246094\" xlink:href=\"#DejaVuSans-48\"/>\n       <use x=\"190.869141\" xlink:href=\"#DejaVuSans-48\"/>\n      </g>\n     </g>\n    </g>\n    <g id=\"ytick_7\">\n     <g id=\"line2d_12\">\n      <g>\n       <use style=\"stroke:#000000;stroke-width:0.8;\" x=\"53.328125\" xlink:href=\"#m473f421e0e\" y=\"86.256608\"/>\n      </g>\n     </g>\n     <g id=\"text_13\">\n      <!-- 7000 -->\n      <defs>\n       <path d=\"M 8.203125 72.90625 \nL 55.078125 72.90625 \nL 55.078125 68.703125 \nL 28.609375 0 \nL 18.3125 0 \nL 43.21875 64.59375 \nL 8.203125 64.59375 \nz\n\" id=\"DejaVuSans-55\"/>\n      </defs>\n      <g transform=\"translate(20.878125 90.055827)scale(0.1 -0.1)\">\n       <use xlink:href=\"#DejaVuSans-55\"/>\n       <use x=\"63.623047\" xlink:href=\"#DejaVuSans-48\"/>\n       <use x=\"127.246094\" xlink:href=\"#DejaVuSans-48\"/>\n       <use x=\"190.869141\" xlink:href=\"#DejaVuSans-48\"/>\n      </g>\n     </g>\n    </g>\n    <g id=\"ytick_8\">\n     <g id=\"line2d_13\">\n      <g>\n       <use style=\"stroke:#000000;stroke-width:0.8;\" x=\"53.328125\" xlink:href=\"#m473f421e0e\" y=\"12.900077\"/>\n      </g>\n     </g>\n     <g id=\"text_14\">\n      <!-- 7500 -->\n      <g transform=\"translate(20.878125 16.699295)scale(0.1 -0.1)\">\n       <use xlink:href=\"#DejaVuSans-55\"/>\n       <use x=\"63.623047\" xlink:href=\"#DejaVuSans-53\"/>\n       <use x=\"127.246094\" xlink:href=\"#DejaVuSans-48\"/>\n       <use x=\"190.869141\" xlink:href=\"#DejaVuSans-48\"/>\n      </g>\n     </g>\n    </g>\n    <g id=\"text_15\">\n     <!-- CATE -->\n     <defs>\n      <path d=\"M 64.40625 67.28125 \nL 64.40625 56.890625 \nQ 59.421875 61.53125 53.78125 63.8125 \nQ 48.140625 66.109375 41.796875 66.109375 \nQ 29.296875 66.109375 22.65625 58.46875 \nQ 16.015625 50.828125 16.015625 36.375 \nQ 16.015625 21.96875 22.65625 14.328125 \nQ 29.296875 6.6875 41.796875 6.6875 \nQ 48.140625 6.6875 53.78125 8.984375 \nQ 59.421875 11.28125 64.40625 15.921875 \nL 64.40625 5.609375 \nQ 59.234375 2.09375 53.4375 0.328125 \nQ 47.65625 -1.421875 41.21875 -1.421875 \nQ 24.65625 -1.421875 15.125 8.703125 \nQ 5.609375 18.84375 5.609375 36.375 \nQ 5.609375 53.953125 15.125 64.078125 \nQ 24.65625 74.21875 41.21875 74.21875 \nQ 47.75 74.21875 53.53125 72.484375 \nQ 59.328125 70.75 64.40625 67.28125 \nz\n\" id=\"DejaVuSans-67\"/>\n      <path d=\"M 34.1875 63.1875 \nL 20.796875 26.90625 \nL 47.609375 26.90625 \nz\nM 28.609375 72.90625 \nL 39.796875 72.90625 \nL 67.578125 0 \nL 57.328125 0 \nL 50.6875 18.703125 \nL 17.828125 18.703125 \nL 11.1875 0 \nL 0.78125 0 \nz\n\" id=\"DejaVuSans-65\"/>\n      <path d=\"M -0.296875 72.90625 \nL 61.375 72.90625 \nL 61.375 64.59375 \nL 35.5 64.59375 \nL 35.5 0 \nL 25.59375 0 \nL 25.59375 64.59375 \nL -0.296875 64.59375 \nz\n\" id=\"DejaVuSans-84\"/>\n     </defs>\n     <g transform=\"translate(14.798438 292.119531)rotate(-90)scale(0.1 -0.1)\">\n      <use xlink:href=\"#DejaVuSans-67\"/>\n      <use x=\"69.824219\" xlink:href=\"#DejaVuSans-65\"/>\n      <use x=\"138.123047\" xlink:href=\"#DejaVuSans-84\"/>\n      <use x=\"199.207031\" xlink:href=\"#DejaVuSans-69\"/>\n     </g>\n    </g>\n   </g>\n   <g id=\"line2d_14\">\n    <path clip-path=\"url(#p5ce78d7241)\" d=\"M 93.909943 395.131372 \nL 296.819034 379.057331 \nL 499.728125 176.384221 \nL 702.637216 357.968303 \nL 905.546307 364.042351 \n\" style=\"fill:none;stroke:#1f77b4;stroke-linecap:square;stroke-width:1.5;\"/>\n    <defs>\n     <path d=\"M 0 3 \nC 0.795609 3 1.55874 2.683901 2.12132 2.12132 \nC 2.683901 1.55874 3 0.795609 3 0 \nC 3 -0.795609 2.683901 -1.55874 2.12132 -2.12132 \nC 1.55874 -2.683901 0.795609 -3 0 -3 \nC -0.795609 -3 -1.55874 -2.683901 -2.12132 -2.12132 \nC -2.683901 -1.55874 -3 -0.795609 -3 0 \nC -3 0.795609 -2.683901 1.55874 -2.12132 2.12132 \nC -1.55874 2.683901 -0.795609 3 0 3 \nz\n\" id=\"mc2ad739dcc\" style=\"stroke:#1f77b4;\"/>\n    </defs>\n    <g clip-path=\"url(#p5ce78d7241)\">\n     <use style=\"fill:#1f77b4;stroke:#1f77b4;\" x=\"93.909943\" xlink:href=\"#mc2ad739dcc\" y=\"395.131372\"/>\n     <use style=\"fill:#1f77b4;stroke:#1f77b4;\" x=\"296.819034\" xlink:href=\"#mc2ad739dcc\" y=\"379.057331\"/>\n     <use style=\"fill:#1f77b4;stroke:#1f77b4;\" x=\"499.728125\" xlink:href=\"#mc2ad739dcc\" y=\"176.384221\"/>\n     <use style=\"fill:#1f77b4;stroke:#1f77b4;\" x=\"702.637216\" xlink:href=\"#mc2ad739dcc\" y=\"357.968303\"/>\n     <use style=\"fill:#1f77b4;stroke:#1f77b4;\" x=\"905.546307\" xlink:href=\"#mc2ad739dcc\" y=\"364.042351\"/>\n    </g>\n   </g>\n   <g id=\"line2d_15\">\n    <path clip-path=\"url(#p5ce78d7241)\" d=\"M 93.909943 439.613134 \nL 296.819034 352.314083 \nL 499.728125 206.951979 \nL 702.637216 329.37244 \nL 905.546307 268.651795 \n\" style=\"fill:none;stroke:#ff0000;stroke-linecap:square;stroke-width:1.5;\"/>\n   </g>\n   <g id=\"patch_3\">\n    <path d=\"M 53.328125 550.8 \nL 53.328125 7.2 \n\" style=\"fill:none;stroke:#000000;stroke-linecap:square;stroke-linejoin:miter;stroke-width:0.8;\"/>\n   </g>\n   <g id=\"patch_4\">\n    <path d=\"M 946.128125 550.8 \nL 946.128125 7.2 \n\" style=\"fill:none;stroke:#000000;stroke-linecap:square;stroke-linejoin:miter;stroke-width:0.8;\"/>\n   </g>\n   <g id=\"patch_5\">\n    <path d=\"M 53.328125 550.8 \nL 946.128125 550.8 \n\" style=\"fill:none;stroke:#000000;stroke-linecap:square;stroke-linejoin:miter;stroke-width:0.8;\"/>\n   </g>\n   <g id=\"patch_6\">\n    <path d=\"M 53.328125 7.2 \nL 946.128125 7.2 \n\" style=\"fill:none;stroke:#000000;stroke-linecap:square;stroke-linejoin:miter;stroke-width:0.8;\"/>\n   </g>\n   <g id=\"legend_1\">\n    <g id=\"patch_7\">\n     <path d=\"M 833.542187 44.55625 \nL 939.128125 44.55625 \nQ 941.128125 44.55625 941.128125 42.55625 \nL 941.128125 14.2 \nQ 941.128125 12.2 939.128125 12.2 \nL 833.542187 12.2 \nQ 831.542187 12.2 831.542187 14.2 \nL 831.542187 42.55625 \nQ 831.542187 44.55625 833.542187 44.55625 \nz\n\" style=\"fill:#ffffff;opacity:0.8;stroke:#cccccc;stroke-linejoin:miter;\"/>\n    </g>\n    <g id=\"line2d_16\">\n     <path d=\"M 835.542187 20.298437 \nL 855.542187 20.298437 \n\" style=\"fill:none;stroke:#1f77b4;stroke-linecap:square;stroke-width:1.5;\"/>\n    </g>\n    <g id=\"line2d_17\">\n     <g>\n      <use style=\"fill:#1f77b4;stroke:#1f77b4;\" x=\"845.542187\" xlink:href=\"#mc2ad739dcc\" y=\"20.298437\"/>\n     </g>\n    </g>\n    <g id=\"text_16\">\n     <!-- Estimate CATE -->\n     <defs>\n      <path d=\"M 44.28125 53.078125 \nL 44.28125 44.578125 \nQ 40.484375 46.53125 36.375 47.5 \nQ 32.28125 48.484375 27.875 48.484375 \nQ 21.1875 48.484375 17.84375 46.4375 \nQ 14.5 44.390625 14.5 40.28125 \nQ 14.5 37.15625 16.890625 35.375 \nQ 19.28125 33.59375 26.515625 31.984375 \nL 29.59375 31.296875 \nQ 39.15625 29.25 43.1875 25.515625 \nQ 47.21875 21.78125 47.21875 15.09375 \nQ 47.21875 7.46875 41.1875 3.015625 \nQ 35.15625 -1.421875 24.609375 -1.421875 \nQ 20.21875 -1.421875 15.453125 -0.5625 \nQ 10.6875 0.296875 5.421875 2 \nL 5.421875 11.28125 \nQ 10.40625 8.6875 15.234375 7.390625 \nQ 20.0625 6.109375 24.8125 6.109375 \nQ 31.15625 6.109375 34.5625 8.28125 \nQ 37.984375 10.453125 37.984375 14.40625 \nQ 37.984375 18.0625 35.515625 20.015625 \nQ 33.0625 21.96875 24.703125 23.78125 \nL 21.578125 24.515625 \nQ 13.234375 26.265625 9.515625 29.90625 \nQ 5.8125 33.546875 5.8125 39.890625 \nQ 5.8125 47.609375 11.28125 51.796875 \nQ 16.75 56 26.8125 56 \nQ 31.78125 56 36.171875 55.265625 \nQ 40.578125 54.546875 44.28125 53.078125 \nz\n\" id=\"DejaVuSans-115\"/>\n      <path d=\"M 18.3125 70.21875 \nL 18.3125 54.6875 \nL 36.8125 54.6875 \nL 36.8125 47.703125 \nL 18.3125 47.703125 \nL 18.3125 18.015625 \nQ 18.3125 11.328125 20.140625 9.421875 \nQ 21.96875 7.515625 27.59375 7.515625 \nL 36.8125 7.515625 \nL 36.8125 0 \nL 27.59375 0 \nQ 17.1875 0 13.234375 3.875 \nQ 9.28125 7.765625 9.28125 18.015625 \nL 9.28125 47.703125 \nL 2.6875 47.703125 \nL 2.6875 54.6875 \nL 9.28125 54.6875 \nL 9.28125 70.21875 \nz\n\" id=\"DejaVuSans-116\"/>\n      <path d=\"M 52 44.1875 \nQ 55.375 50.25 60.0625 53.125 \nQ 64.75 56 71.09375 56 \nQ 79.640625 56 84.28125 50.015625 \nQ 88.921875 44.046875 88.921875 33.015625 \nL 88.921875 0 \nL 79.890625 0 \nL 79.890625 32.71875 \nQ 79.890625 40.578125 77.09375 44.375 \nQ 74.3125 48.1875 68.609375 48.1875 \nQ 61.625 48.1875 57.5625 43.546875 \nQ 53.515625 38.921875 53.515625 30.90625 \nL 53.515625 0 \nL 44.484375 0 \nL 44.484375 32.71875 \nQ 44.484375 40.625 41.703125 44.40625 \nQ 38.921875 48.1875 33.109375 48.1875 \nQ 26.21875 48.1875 22.15625 43.53125 \nQ 18.109375 38.875 18.109375 30.90625 \nL 18.109375 0 \nL 9.078125 0 \nL 9.078125 54.6875 \nL 18.109375 54.6875 \nL 18.109375 46.1875 \nQ 21.1875 51.21875 25.484375 53.609375 \nQ 29.78125 56 35.6875 56 \nQ 41.65625 56 45.828125 52.96875 \nQ 50 49.953125 52 44.1875 \nz\n\" id=\"DejaVuSans-109\"/>\n      <path d=\"M 34.28125 27.484375 \nQ 23.390625 27.484375 19.1875 25 \nQ 14.984375 22.515625 14.984375 16.5 \nQ 14.984375 11.71875 18.140625 8.90625 \nQ 21.296875 6.109375 26.703125 6.109375 \nQ 34.1875 6.109375 38.703125 11.40625 \nQ 43.21875 16.703125 43.21875 25.484375 \nL 43.21875 27.484375 \nz\nM 52.203125 31.203125 \nL 52.203125 0 \nL 43.21875 0 \nL 43.21875 8.296875 \nQ 40.140625 3.328125 35.546875 0.953125 \nQ 30.953125 -1.421875 24.3125 -1.421875 \nQ 15.921875 -1.421875 10.953125 3.296875 \nQ 6 8.015625 6 15.921875 \nQ 6 25.140625 12.171875 29.828125 \nQ 18.359375 34.515625 30.609375 34.515625 \nL 43.21875 34.515625 \nL 43.21875 35.40625 \nQ 43.21875 41.609375 39.140625 45 \nQ 35.0625 48.390625 27.6875 48.390625 \nQ 23 48.390625 18.546875 47.265625 \nQ 14.109375 46.140625 10.015625 43.890625 \nL 10.015625 52.203125 \nQ 14.9375 54.109375 19.578125 55.046875 \nQ 24.21875 56 28.609375 56 \nQ 40.484375 56 46.34375 49.84375 \nQ 52.203125 43.703125 52.203125 31.203125 \nz\n\" id=\"DejaVuSans-97\"/>\n      <path d=\"M 56.203125 29.59375 \nL 56.203125 25.203125 \nL 14.890625 25.203125 \nQ 15.484375 15.921875 20.484375 11.0625 \nQ 25.484375 6.203125 34.421875 6.203125 \nQ 39.59375 6.203125 44.453125 7.46875 \nQ 49.3125 8.734375 54.109375 11.28125 \nL 54.109375 2.78125 \nQ 49.265625 0.734375 44.1875 -0.34375 \nQ 39.109375 -1.421875 33.890625 -1.421875 \nQ 20.796875 -1.421875 13.15625 6.1875 \nQ 5.515625 13.8125 5.515625 26.8125 \nQ 5.515625 40.234375 12.765625 48.109375 \nQ 20.015625 56 32.328125 56 \nQ 43.359375 56 49.78125 48.890625 \nQ 56.203125 41.796875 56.203125 29.59375 \nz\nM 47.21875 32.234375 \nQ 47.125 39.59375 43.09375 43.984375 \nQ 39.0625 48.390625 32.421875 48.390625 \nQ 24.90625 48.390625 20.390625 44.140625 \nQ 15.875 39.890625 15.1875 32.171875 \nz\n\" id=\"DejaVuSans-101\"/>\n     </defs>\n     <g transform=\"translate(863.542187 23.798437)scale(0.1 -0.1)\">\n      <use xlink:href=\"#DejaVuSans-69\"/>\n      <use x=\"63.183594\" xlink:href=\"#DejaVuSans-115\"/>\n      <use x=\"115.283203\" xlink:href=\"#DejaVuSans-116\"/>\n      <use x=\"154.492188\" xlink:href=\"#DejaVuSans-105\"/>\n      <use x=\"182.275391\" xlink:href=\"#DejaVuSans-109\"/>\n      <use x=\"279.6875\" xlink:href=\"#DejaVuSans-97\"/>\n      <use x=\"340.966797\" xlink:href=\"#DejaVuSans-116\"/>\n      <use x=\"380.175781\" xlink:href=\"#DejaVuSans-101\"/>\n      <use x=\"441.699219\" xlink:href=\"#DejaVuSans-32\"/>\n      <use x=\"473.486328\" xlink:href=\"#DejaVuSans-67\"/>\n      <use x=\"543.310547\" xlink:href=\"#DejaVuSans-65\"/>\n      <use x=\"611.609375\" xlink:href=\"#DejaVuSans-84\"/>\n      <use x=\"672.693359\" xlink:href=\"#DejaVuSans-69\"/>\n     </g>\n    </g>\n    <g id=\"line2d_18\">\n     <path d=\"M 835.542187 34.976562 \nL 855.542187 34.976562 \n\" style=\"fill:none;stroke:#ff0000;stroke-linecap:square;stroke-width:1.5;\"/>\n    </g>\n    <g id=\"line2d_19\"/>\n    <g id=\"text_17\">\n     <!-- True CATE -->\n     <defs>\n      <path d=\"M 41.109375 46.296875 \nQ 39.59375 47.171875 37.8125 47.578125 \nQ 36.03125 48 33.890625 48 \nQ 26.265625 48 22.1875 43.046875 \nQ 18.109375 38.09375 18.109375 28.8125 \nL 18.109375 0 \nL 9.078125 0 \nL 9.078125 54.6875 \nL 18.109375 54.6875 \nL 18.109375 46.1875 \nQ 20.953125 51.171875 25.484375 53.578125 \nQ 30.03125 56 36.53125 56 \nQ 37.453125 56 38.578125 55.875 \nQ 39.703125 55.765625 41.0625 55.515625 \nz\n\" id=\"DejaVuSans-114\"/>\n     </defs>\n     <g transform=\"translate(863.542187 38.476562)scale(0.1 -0.1)\">\n      <use xlink:href=\"#DejaVuSans-84\"/>\n      <use x=\"60.865234\" xlink:href=\"#DejaVuSans-114\"/>\n      <use x=\"101.978516\" xlink:href=\"#DejaVuSans-117\"/>\n      <use x=\"165.357422\" xlink:href=\"#DejaVuSans-101\"/>\n      <use x=\"226.880859\" xlink:href=\"#DejaVuSans-32\"/>\n      <use x=\"258.667969\" xlink:href=\"#DejaVuSans-67\"/>\n      <use x=\"328.492188\" xlink:href=\"#DejaVuSans-65\"/>\n      <use x=\"396.791016\" xlink:href=\"#DejaVuSans-84\"/>\n      <use x=\"457.875\" xlink:href=\"#DejaVuSans-69\"/>\n     </g>\n    </g>\n   </g>\n  </g>\n </g>\n <defs>\n  <clipPath id=\"p5ce78d7241\">\n   <rect height=\"543.6\" width=\"892.8\" x=\"53.328125\" y=\"7.2\"/>\n  </clipPath>\n </defs>\n</svg>\n",
      "image/png": "[encoded data removed]"
     },
     "metadata": {
      "needs_background": "light"
     }
    }
   ],
   "source": [
    "plt.figure(figsize=(16,10))\n",
    "plt.xlabel(\"Educ Bin\")\n",
    "plt.ylabel(\"CATE\")\n",
    "plt.plot(binNumbers, cateEstimates, marker='o', label=\"Estimate CATE\")\n",
    "plt.plot(binNumbers, cates, color='red', label='True CATE')\n",
    "plt.legend()\n",
    "plt.fill_between(binNumbers, cateLBS, cateUBS, color='b', alpha=.1)\n",
    "plt.xticks(np.linspace(start=1, stop=len(bins), num=len(bins)), np.linspace(start=1, stop=len(bins), num=len(bins)))\n",
    "plt.show()"
   ]
  },
  {
   "source": [],
   "cell_type": "markdown",
   "metadata": {}
  },
  {
   "cell_type": "markdown",
   "metadata": {},
   "source": [
    "Below is to implement / have running state of variables"
   ]
  },
  {
   "cell_type": "code",
   "execution_count": 94,
   "metadata": {},
   "outputs": [],
   "source": [
    "np.random.seed(123)\n",
    "effect_type=\"heterogeneous\"\n",
    "effect_homogeneous=10\n",
    "effect_heterogeneous=2\n",
    "# treatment_type=\"continuous\"\n",
    "treatment_type=\"binary\"\n",
    "treatment_probability=0.5\n",
    "heterogeneous_select=4\n",
    "order=3\n",
    "linearity=\"med\"\n",
    "N=20000\n",
    "overlap=True\n",
    "overlap_percent=0.5\n",
    "\n",
    "featureNames = list(welfare.columns)\n",
    "\n",
    "importantFeatureNames = ['wrkstat', 'race', 'year', 'hrs1', 'income', 'occ80', 'id', 'educ'] # top 8 important features based on Shapley visualization from \n",
    "importantFeatureIndices = []\n",
    "for name in importantFeatureNames:\n",
    "    importantFeatureIndices.append(featureNames.index(name)) \n",
    "\n",
    "# error terms\n",
    "error = np.random.normal(size=(N,1))\n",
    "\n",
    "# data generation\n",
    "cov = welfare.cov()\n",
    "means = welfare.mean(axis=0)\n",
    "X = np.random.multivariate_normal(means.values, cov, size=N, check_valid='warn', tol=1e-8)\n",
    "\n",
    "# linearity specification\n",
    "if linearity != 'full':\n",
    "    select = 0 # select n most important features for interactions and polynomials\n",
    "    poly = PolynomialFeatures(degree=order, interaction_only=False, include_bias=False)\n",
    "\n",
    "    if linearity == \"high\": \n",
    "        select = 2\n",
    "    elif linearity == \"med\": \n",
    "        select = 4\n",
    "    elif linearity == \"low\": \n",
    "        select = 8\n",
    "    else: # if some typo, assume baseline of high\n",
    "        select = 2\n",
    "\n",
    "    poly.fit(X[:, importantFeatureIndices[:select]])\n",
    "    fullData = poly.transform(X[:, importantFeatureIndices[:select]])\n",
    "    fullNames = poly.get_feature_names(input_features=importantFeatureNames[:select])\n",
    "    higherData = fullData[:, -(fullData.shape[1] - select):] # select only higher order\n",
    "    higherNames = fullNames[-(len(fullNames) - select):]\n",
    "\n",
    "    X = np.append(X, higherData, axis=1) \n",
    "    featureNames.extend(list(higherNames))\n",
    "\n",
    "# treatment type\n",
    "if treatment_type == \"binary\":\n",
    "    # randomly assigned treatments with propensity treatment_probability\n",
    "    treatments = np.random.choice([0, 1], size=N, p=[1 - treatment_probability, treatment_probability]).reshape((-1, 1))\n",
    "    if not overlap:\n",
    "        forced = random.sample(list(np.arange(treatments.shape[0])), int(treatments.shape[0] * overlap_percent))\n",
    "        treatments[forced] = 0\n",
    "    treated = treatments > 0\n",
    "    \n",
    "    # generate counterfactual treatment indicator vector\n",
    "    c_treatments = deepcopy(treatments)\n",
    "    c_treatments[treatments == 0] = 1\n",
    "    c_treatments[treatments == 1] = 0\n",
    "\n",
    "else:\n",
    "    treatments = np.random.uniform(size=(N, 1))\n",
    "    if not overlap:\n",
    "        forced = random.sample(list(np.arange(treatments.shape[0])), int(treatments.shape[0] * overlap_percent))\n",
    "        treatments[forced] = 0\n",
    "    treated = treatments > 0.5\n",
    "    c_treatments = deepcopy(treatments)\n",
    "    # to-do\n",
    "    c_treatments[treatments > 0] = 0\n",
    "    c_treatments[treatments == 0] = treatments.mean()\n",
    "    \n",
    "# treatment effect\n",
    "if effect_type == \"homogeneous\":\n",
    "\n",
    "    T = treatments*effect_homogeneous\n",
    "    CT = c_treatments*effect_homogeneous\n",
    "    \n",
    "else: # heterogeneous\n",
    "    # heterogeneous treatment is effect 1 + effect * (sum of first heterogeneous_select important variables)\n",
    "    heterogeneousIndices = importantFeatureIndices[:heterogeneous_select]\n",
    "    \n",
    "    T = 1 + (2*(X[:, heterogeneousIndices].sum(axis=1)))*treatments.ravel()\n",
    "    T = T.reshape(-1, 1)\n",
    "    T[~treated] = np.zeros((~treated).sum())\n",
    "    \n",
    "    CT = 1 + (2*(X[:, heterogeneousIndices].sum(axis=1)))*c_treatments.ravel()\n",
    "    CT = CT.reshape(-1, 1)\n",
    "    CT[treated] = np.zeros((treated).sum()) # everyone that was treated goes to untreated in counterfactual\n",
    "    \n",
    "\n",
    "betas = np.random.normal(size=X.shape[1]).reshape(-1,1)\n",
    "y = T + X@betas + error\n",
    "cy = CT + X@betas + error"
   ]
  },
  {
   "cell_type": "code",
   "execution_count": 95,
   "metadata": {},
   "outputs": [],
   "source": [
    "raceCol = importantFeatureIndices[1]\n",
    "educCol = importantFeatureIndices[7]\n",
    "\n",
    "nBins = 5\n",
    "evenGroups = np.array_split(np.sort(X[:, raceCol]), nBins)\n",
    "bins = []\n",
    "pdX = pd.DataFrame(X)\n",
    "pdX[raceCol]\n",
    "\n",
    "prevCeil = -10000\n",
    "\n",
    "for i in range(nBins):\n",
    "    floor = evenGroups[i][0] \n",
    "    ceil = evenGroups[i][-1]\n",
    "    if floor == prevCeil: # in case the floor of current group is equal to ceiling of last group, don't want to duplicate samples\n",
    "        bins.append(pdX.loc[(floor < pdX[raceCol]) & (pdX[raceCol] <= ceil)].to_numpy())\n",
    "    else:\n",
    "        bins.append(pdX.loc[(floor <= pdX[raceCol]) & (pdX[raceCol] <= ceil)].to_numpy())\n",
    "    prevCeil = ceil"
   ]
  },
  {
   "cell_type": "code",
   "execution_count": 85,
   "metadata": {},
   "outputs": [
    {
     "output_type": "execute_result",
     "data": {
      "text/plain": [
       "array([[  93.83266627],\n",
       "       [1492.75452515]])"
      ]
     },
     "metadata": {},
     "execution_count": 85
    }
   ],
   "source": [
    "y[[0, 1]]"
   ]
  },
  {
   "cell_type": "code",
   "execution_count": 89,
   "metadata": {},
   "outputs": [
    {
     "output_type": "execute_result",
     "data": {
      "text/plain": [
       "(150,)"
      ],
      "image/png": "[encoded data removed]",
      "text/latex": "$\\displaystyle \\left( 150,\\right)$"
     },
     "metadata": {},
     "execution_count": 89
    }
   ],
   "source": [
    "bins[0][0].shape"
   ]
  },
  {
   "cell_type": "code",
   "execution_count": 98,
   "metadata": {},
   "outputs": [
    {
     "output_type": "execute_result",
     "data": {
      "text/plain": [
       "(array([14]),)"
      ]
     },
     "metadata": {},
     "execution_count": 98
    }
   ],
   "source": [
    "np.where((X == bins[0][2]).all(axis=1))"
   ]
  },
  {
   "cell_type": "code",
   "execution_count": 91,
   "metadata": {},
   "outputs": [
    {
     "output_type": "execute_result",
     "data": {
      "text/plain": [
       "(20000, 150)"
      ],
      "image/png": "[encoded data removed]",
      "text/latex": "$\\displaystyle \\left( 20000, \\  150\\right)$"
     },
     "metadata": {},
     "execution_count": 91
    }
   ],
   "source": [
    "X.shape"
   ]
  }
 ],
 "metadata": {
  "kernelspec": {
   "name": "python377jvsc74a57bd0254ebfd476bc3fc79ad5c8b426190fe7c8c50894e6b0352342e1dad3387876d5",
   "display_name": "Python 3.7.7 64-bit ('econ21340-env': conda)"
  },
  "language_info": {
   "codemirror_mode": {
    "name": "ipython",
    "version": 3
   },
   "file_extension": ".py",
   "mimetype": "text/x-python",
   "name": "python",
   "nbconvert_exporter": "python",
   "pygments_lexer": "ipython3",
   "version": "3.7.7"
  }
 },
 "nbformat": 4,
 "nbformat_minor": 4
}